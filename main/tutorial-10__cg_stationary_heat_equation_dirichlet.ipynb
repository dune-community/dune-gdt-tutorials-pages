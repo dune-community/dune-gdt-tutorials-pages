{
 "cells": [
  {
   "cell_type": "markdown",
   "id": "ac523867",
   "metadata": {},
   "source": [
    "```{try_on_binder}\n",
    "```"
   ]
  },
  {
   "cell_type": "code",
   "execution_count": 1,
   "id": "e7e31976",
   "metadata": {
    "load": "myst_code_init.py",
    "tags": [
     "remove-cell"
    ]
   },
   "outputs": [],
   "source": [
    "from IPython import get_ipython\n",
    "\n",
    "ip = get_ipython()\n",
    "if ip is not None:\n",
    "    # ip.run_line_magic('load_ext', 'pymor.discretizers.builtin.gui.jupyter')\n",
    "    ip.run_line_magic(\"matplotlib\", \"inline\")\n",
    "\n",
    "import warnings\n",
    "\n",
    "warnings.filterwarnings(\"ignore\", category=UserWarning, module=\"torch\")\n"
   ]
  },
  {
   "cell_type": "markdown",
   "id": "0f5e382d",
   "metadata": {},
   "source": [
    "# Tutorial: continuous FEM for the stationary heat equation\n",
    "\n",
    "This tutorial shows how to solve the stationary heat equation with homogeneous Dirichlet boundary conditions using continuous Finite Elmenets with `dune-gdt`.\n",
    "\n",
    "This is work in progress [WIP], still missing:\n",
    "\n",
    "* Neumann boundary values\n",
    "* Robin boundary values"
   ]
  },
  {
   "cell_type": "code",
   "execution_count": 2,
   "id": "3bd2bdca",
   "metadata": {},
   "outputs": [],
   "source": [
    "# wurlitzer: display dune's output in the notebook\n",
    "%load_ext wurlitzer\n",
    "%matplotlib notebook\n",
    "\n",
    "import numpy as np\n",
    "np.warnings.filterwarnings('ignore') # silence numpys warnings"
   ]
  },
  {
   "cell_type": "markdown",
   "id": "834020a0",
   "metadata": {},
   "source": [
    "## 1: diffusion with homogeneous Dirichlet boundary condition\n",
    "\n",
    "### 1.1: analytical problem\n",
    "\n",
    "Let $\\Omega \\subset \\mathbb{R}^d$ for $1 \\leq d \\leq 3$ be a bounded connected domain with Lipschitz-boundary $\\partial\\Omega$. We seek the solution $u \\in H^1_0(\\Omega)$ of the **linear diffusion equation** (with a homogeneous Dirichlet boundary condition)\n",
    "\n",
    "$$\\begin{align}\n",
    "- \\nabla\\cdot(\\kappa\\nabla u) &= f &&\\text{in } \\Omega,\\tag{1}\\label{eq:diff:pde}\\\\\n",
    "u &= 0 &&\\text{on } \\partial\\Omega,\n",
    "\\end{align}$$\n",
    "\n",
    "in a weak sense, where $\\kappa \\in [L^\\infty(\\Omega)]^{d \\times d}$ denotes a given diffusion function and $f \\in L^2(\\Omega)$ denotes a given source function.\n",
    "\n",
    "The variational problem associated with $\\eqref{eq:diff:pde}$ reads: find $u \\in H^1_0(\\Omega)$, such that\n",
    "\n",
    "$$\\begin{align}\n",
    "a(u, v) &= l(v) &&\\text{for all }v \\in V,\\tag{2}\\label{eq:diff:variational_problem}\n",
    "\\end{align}$$\n",
    "\n",
    "where the bilinear form $a: H^1(\\Omega) \\times H^1(\\Omega) \\to \\mathbb{R}$ and the linear functional $l \\in H^{-1}(\\Omega)$ are given by\n",
    "\n",
    "$$\\begin{align}\n",
    "a_(u, v) := \\int_\\Omega (\\kappa\\nabla u)\\cdot v \\,\\text{d}x &&\\text{and}&& l(v) := \\int_\\Omega f\\,\\,\\text{d}x,\\tag{3}\\label{eq:diff:a_and_l}\n",
    "\\end{align}$$\n",
    "\n",
    "respectively.\n",
    "\n",
    "\n",
    "Consider for example $(1)$ with:\n",
    "\n",
    "* $d = 2$\n",
    "* $\\Omega = [0, 1]^2$\n",
    "* $\\kappa = 1$\n",
    "* $f = \\exp(x_0 x_1)$"
   ]
  },
  {
   "cell_type": "code",
   "execution_count": 3,
   "id": "44755cda",
   "metadata": {},
   "outputs": [],
   "source": [
    "from dune.xt.grid import Dim\n",
    "from dune.xt.functions import ConstantFunction, ExpressionFunction\n",
    "\n",
    "d = 2\n",
    "omega = ([0, 0], [1, 1])\n",
    "\n",
    "kappa = ConstantFunction(dim_domain=Dim(d), dim_range=Dim(1), value=[1.], name='kappa')\n",
    "# note that we need to prescribe the approximation order, which determines the quadrature on each element\n",
    "f = ExpressionFunction(dim_domain=Dim(d), variable='x', expression='exp(x[0]*x[1])', order=3, name='f')"
   ]
  },
  {
   "cell_type": "markdown",
   "id": "4dcc24e8",
   "metadata": {},
   "source": [
    "### 1.2: continuous Finite Elements\n",
    "\n",
    "Let us for simplicity consider a simplicial **grid** $\\mathcal{T}_h$ (other types of elements work analogously) as a partition of $\\Omega$ into elements $K \\in \\mathcal{T}_h$ with $h := \\max_{K \\in \\mathcal{T}_h} \\text{diam}(K)$, we consider the discrete space of continuous piecewise polynomial functions of order $k \\in \\mathbb{N}$,\n",
    "\n",
    "$$\\begin{align}\n",
    "V_h := \\big\\{ v \\in C^0(\\Omega) \\;\\big|\\; v|_K \\in \\mathbb{P}^k(K) \\big\\}\\tag{4}\\label{eq:V_h}\n",
    "\\end{align}$$\n",
    "\n",
    "where $\\mathbb{P}^k(K)$ denotes the space of polynomials of (total) degree up to $k$ (*note that $V_h \\subset H^1(\\Omega)$ and $V_h$ does not include the Dirichlet boundary condition, thus $V_h \\not\\subset H^1_0(\\Omega$.*). We obtain a finite-dimensional variational problem by Galerkin-projection of $(2)$ onto $V_h$, thas is: we seek the approximate solution $u_h \\in V_h \\cap H^1_0(\\Omega)$, such that\n",
    "\n",
    "$$\\begin{align}\n",
    "a(u_h, v_h) &= l(v_h) &&\\text{for all }v_h \\in V_h \\cap H^1_0(\\Omega).\\tag{5}\\label{eq:diff:discrete_variational_problem}\n",
    "\\end{align}$$\n",
    "\n",
    "A basis of $V_h$ is given by the Lagrangian shape-functions\n",
    "\n",
    "$$\\begin{align}\n",
    "\\varPhi := \\big\\{\\varphi_1, \\dots, \\varphi_N\\big\\}\\tag{5}\\label{eq:lagrangian_basis}\n",
    "\\end{align}$$\n",
    "\n",
    "of order $k$ (e.g., the usual hat-functions for $k = 1$), with $N := \\text{dim}(V_h)$. As usual, each of these *global* basis functions, if restricted to a grid element, is given by the concatenation of a *local* shape function and the reference map: given\n",
    "\n",
    "* the invertible affine **reference map**\n",
    "  $$\\begin{align}\n",
    "  F_K: \\hat{K} &\\to K,&&\\text{for all }K \\in \\mathcal{T}_h, \\text{ such that}\\\\\n",
    "  \\hat{x} &\\mapsto x := F_K(\\hat{x}),\n",
    "  \\end{align}$$\n",
    "  where $\\hat{K}$ is the reference element associated with $K$,\n",
    "* a set of Lagrangian **shape functions** $\\{\\hat{\\varphi}_1, \\dots, \\hat{\\varphi}_{d + 1}\\} \\in \\mathbb{P}^1(K)$, each associated with a vertex $\\hat{a}_1, \\dots, \\hat{a}_{d + 1}$ of the reference element $\\hat{K}$ and\n",
    "* a **DoF mapping** $\\sigma_K: \\{1, \\dots, d + 1\\} \\to \\{1, \\dots, N\\}$ for all $K \\in \\mathcal{T}_h$, which associates the *local* index $\\hat{i} \\in \\{1, \\dots, d + 1\\}$ of a vertex $\\hat{a}_{\\hat{i}}$ of the reference element $\\hat{K}$ with the *global* index $i \\in \\{1, \\dots, N\\}$ of the vertex $a_i := F_K(\\hat{a}_\\hat{i})$ in the grid $\\mathcal{T}_h$.\n",
    "\n",
    "The DoF mapping as well as a localizable global basis is provided by a **discrete function space** in `dune-gdt`.\n",
    "We thus have\n",
    "\n",
    "* $$\\begin{align}\n",
    "  \\varphi_i|_K = \\hat{\\varphi}_\\hat{i}\\circ F_K^{-1} &&\\text{with } i := \\sigma_K(\\hat{i})\\text{ for all } 1 \\leq \\hat{i} \\leq d+1\\text{ and all }K \\in \\mathcal{T}_h\\tag{6}\n",
    "  \\end{align}$$\n",
    "and\n",
    "* $$\\begin{align}\n",
    "  (\\nabla\\varphi_i)|_K = \\nabla\\big(\\hat{\\varphi}_\\hat{i}\\circ F_K^{-1}\\big) = \\nabla F_K^{-1} \\cdot \\big(\\nabla\\hat{\\varphi}_\\hat{i}\\circ F_K^{-1}\\big) &&\\text{with } i := \\sigma_K(\\hat{i})\\text{ for all } 1 \\leq \\hat{i} \\leq d+1\\text{ and all }K \\in \\mathcal{T}_h\\tag{7}\n",
    "  \\end{align}$$\n",
    "owing to the chain rule.\n",
    "\n",
    "To obtain the algebraic analogue to $\\eqref{eq:diff:discrete_variational_problem}$, we first substitute the bilinear form and functional by discrete coutnerparts acting on $V_h$, namely $a_h: V_h \\times V_h \\to \\mathbb{R}$ and $l_h \\in V_h'$ (the construction of which is detailed further below in **1.3** and **1.4**) and\n",
    "\n",
    "* assemble the respective basis representations of $a_h$ and $l_h$ w.r.t. the basis of $V_h$ into a matrix $\\underline{a_h} \\in \\mathbb{R}^{N \\times N}$ and vector $\\underline{l_h} \\in \\mathbb{R}^N$, given by\n",
    "\n",
    "  $$\\begin{align}\n",
    "  (\\underline{a_h})_{i, j} := a_h(\\varphi_j, \\varphi_i) &&\\text{and}&& (\\underline{l_h})_i := l_h(\\varphi_i),\\tag{8}\n",
    "  \\end{align}$$\n",
    "  respectively, for $1 \\leq i, j \\leq N$;\n",
    "* and obtain the restrictions of $\\underline{a_h}$ and $\\underline{l_h}$ to $V_h \\cap H^1_0(\\Omega)$ by modifying all entries associated with basis functions defined on the Dirichlet boundary.\n",
    "  For each index $i \\in \\{1, \\dots N\\}$, where the Lagrange-point defining the basis function $\\varphi_i$ lies on the Dirichlet boundary $\\partial\\Omega$, we set\n",
    "  $$\\begin{align}\n",
    "  (\\underline{a_h})_{i, j} := \\begin{cases}1,&j =i\\\\0,&\\text{else}\\end{cases} &&\\text{ for all } 1 \\leq j \\leq N\\text{ and}&&(\\underline{l_h})_i := 0,\n",
    "  \\end{align}$$\n",
    "  which corresponds to setting the $i$th row of $\\underline{a_h}$ to a unit row and clearing the $i$th entry of $\\underline{l_h}$.\n",
    "\n",
    "The algebraic version of $\\eqref{eq:diff:discrete_variational_problem}$ then reads: find the vector of degrees of freedom (DoF) $\\underline{u_h} \\in \\mathbb{R}^N$, such that\n",
    "\n",
    "$$\\begin{align}\n",
    "\\underline{a_h}\\;\\underline{u_h} = \\underline{l_h}.\\tag{9}\n",
    "\\end{align}$$\n",
    "\n",
    "\n",
    "We consider for example a structured simplicial grid with 16 triangles."
   ]
  },
  {
   "cell_type": "code",
   "execution_count": 4,
   "id": "2f4d79a8",
   "metadata": {},
   "outputs": [
    {
     "name": "stdout",
     "output_type": "stream",
     "text": [
      "grid has 16 elements, 28 edges and 13 vertices"
     ]
    },
    {
     "name": "stderr",
     "output_type": "stream",
     "text": [
      "GridParameterBlock: Parameter 'refinementedge' not specified, defaulting to 'ARBITRARY'.\n"
     ]
    },
    {
     "name": "stdout",
     "output_type": "stream",
     "text": [
      "\n"
     ]
    },
    {
     "data": {
      "application/vnd.jupyter.widget-view+json": {
       "model_id": "35e0af13c3624eff87c9a7aae8300121",
       "version_major": 2,
       "version_minor": 0
      },
      "text/plain": [
       "Output()"
      ]
     },
     "metadata": {},
     "output_type": "display_data"
    }
   ],
   "source": [
    "from dune.xt.grid import Simplex, make_cube_grid, AllDirichletBoundaryInfo, visualize_grid\n",
    "\n",
    "grid = make_cube_grid(Dim(d), Simplex(), lower_left=omega[0], upper_right=omega[1], num_elements=[2, 2])\n",
    "grid.global_refine(1) # we need to refine once to obtain a symmetric grid\n",
    "\n",
    "print(f'grid has {grid.size(0)} elements, {grid.size(d - 1)} edges and {grid.size(d)} vertices')\n",
    "\n",
    "boundary_info = AllDirichletBoundaryInfo(grid)\n",
    "\n",
    "_ = visualize_grid(grid)"
   ]
  },
  {
   "cell_type": "code",
   "execution_count": 5,
   "id": "18a125c7",
   "metadata": {},
   "outputs": [
    {
     "name": "stdout",
     "output_type": "stream",
     "text": [
      "V_h has 13 DoFs\n"
     ]
    }
   ],
   "source": [
    "from dune.gdt import ContinuousLagrangeSpace\n",
    "\n",
    "V_h = ContinuousLagrangeSpace(grid, order=1)\n",
    "\n",
    "print(f'V_h has {V_h.num_DoFs} DoFs')\n",
    "\n",
    "assert V_h.num_DoFs == grid.size(d)"
   ]
  },
  {
   "cell_type": "markdown",
   "id": "9b38551a",
   "metadata": {},
   "source": [
    "### 1.3: approximate functionals\n",
    "\n",
    "Since the application of the functional to a *global* basis function $\\psi_i$ is localizable w.r.t. the grid, e.g.\n",
    "\n",
    "$$\\begin{align}\n",
    "l(\\psi_i) = \\sum_{K \\in \\mathcal{T}_h} \\underbrace{\\int_K f \\psi_i\\,\\text{d}x}_{=: l^K(\\psi_i)},\\tag{10}\\label{eq:diff:localized_rhs}\n",
    "\\end{align}$$\n",
    "\n",
    "we first consider local functionals (such as $l^K \\in L^2(K)'$), where *local* means: *with respect to a grid element $K$*. Using the reference map $F_K$ and $(6)$ from above, we transform the evaluation of $l^K(\\psi_i)$ to the reference element,\n",
    "\n",
    "$$\\begin{align}\n",
    "l^K(\\psi_i) &= \\int_K f\\psi_i\\,\\text{d}x = \\int_{\\hat{K}} |\\text{det}\\nabla F_K| \\underbrace{(f\\circ F_K)}_{=: f^K} (\\hat{\\psi}_\\hat{i}\\circ F_K^{-1}\\circ F_K) \\text{d}\\hat{x}\\\\\n",
    "&=\\int_{\\hat{K}} |\\text{det}\\nabla F_K| f^K \\hat{\\psi}_\\hat{i} \\,\\text{d}\\hat{x},\\tag{11}\\label{eq:diff:transformed_localized_rhs}\n",
    "\\end{align}$$\n",
    "\n",
    "where $f^K: \\hat{K} \\to \\mathbb{R}$ is the *local functions* associated with $f$, $i = \\sigma_K(\\hat{i})$ and $\\hat{\\psi}_\\hat{i}$ is the corresponding shape function.\n",
    "\n",
    "Note that, apart from the integration domain ($\\hat{K}$ instead of $K$) and the transformation factor ($|\\text{det}\\nabla F^K|$), the structure of the local functional from $\\eqref{eq:diff:localized_rhs}$ is reflected in $\\eqref{eq:diff:transformed_localized_rhs}$.\n",
    "\n",
    "This leads us to the definition of a local functional in `dune-gdt`: ignoring the user input (namely the data function $f$ for a moment), a **local functional** is determined by\n",
    "\n",
    "* an integrand, depending on a single test function, that we can evaluate at points on the reference element.\n",
    "  We call such integrands **unary element integrand**s. In the above example, given a test basis function $\\hat{\\psi}$ and a point in the reference element $\\hat{x}$, the integrand is determined by\n",
    "  $$\\begin{align}\n",
    "  \\Xi^{1, K}_\\text{prod}: \\mathbb{P}^k(\\hat{K}) \\times \\hat{K} &\\to \\mathbb{R}\\\\\n",
    "  \\hat{\\psi}, \\hat{x} &\\mapsto f^K(\\hat{x})\\,\\hat{\\psi}(\\hat{x}),\n",
    "  \\end{align}$$\n",
    "  which is modelled by `LocalElementProductIntegrand` in `dune-gdt` (see below); and\n",
    "* an approximation of the integral in $\\eqref{eq:diff:transformed_localized_rhs}$ by a numerical **quadrature**:\n",
    "  given any unary element integrand $\\Xi^{1, K}$, and $Q \\in \\mathbb{N}$ quadrature points $\\hat{x}_1, \\dots, \\hat{x}_Q$ and weights $\\omega_1, \\dots, \\omega_Q \\in \\mathbb{R}$, we approximate\n",
    "  $$\\begin{align}\n",
    "  l_h^K(\\psi_i) := \\sum_{q = 1}^Q |\\text{det}\\nabla F_K(\\hat{x}_q)|\\,\\omega_q\\,\\Xi^{1,K}(\\hat{\\psi}_\\hat{i}, \\hat{x}_q) \\approx \\int_\\hat{K} \\Xi^{1,K}(\\hat{\\psi}_\\hat{i}, \\hat{x})\\,\\text{d}\\hat{x} = l^K(\\psi_i),\n",
    "  \\end{align}$$\n",
    "  which is modelled by `LocalElementIntegralFunctional` in `dune-gdt` (see below).\n",
    "\n",
    "  Note that the order of the quadrature is determined automatically, since the integrand computes its polynomial degree given all data functions and basis functions (in the above example, the polynomial order of $f^K$ is 3 by our construction and the polynomial order of $\\hat{\\psi}$ is 1, since we are using piecewise linear shape functions, yielding a polynomial order of 4 for $\\Xi_\\text{prod}^{1,K}$).\n",
    "\n",
    "Given local functionals, the purpose of the `VectorFunctional` in `dune-gdt` is to assemble $\\underline{l_h}$ from $(6)$ by\n",
    "* creating an appropriate vector of length $N$\n",
    "* iterating over all grid elements $K \\in \\mathcal{T}_h$\n",
    "* localizing the basis of $V_h$ w.r.t. each grid element $K$\n",
    "* evaluating the local functionals $l_h^K$ for each localized basis function\n",
    "* adding the results to the respective entry of $\\underline{l_h}$, determined by the DoF-mapping of the discrete function space `ContinuousLagrangeSpace`\n",
    "\n",
    "\n",
    "In our example, we define $l_{\\text{src}, h}$ as:"
   ]
  },
  {
   "cell_type": "code",
   "execution_count": 6,
   "id": "9ecb8791",
   "metadata": {},
   "outputs": [],
   "source": [
    "from dune.xt.functions import GridFunction as GF\n",
    "\n",
    "from dune.gdt import (\n",
    "    VectorFunctional,\n",
    "    LocalElementProductIntegrand,\n",
    "    LocalElementIntegralFunctional,\n",
    ")\n",
    "\n",
    "l_h = VectorFunctional(grid, source_space=V_h)\n",
    "l_h += LocalElementIntegralFunctional(LocalElementProductIntegrand(GF(grid, 1)).with_ansatz(GF(grid, f)))"
   ]
  },
  {
   "cell_type": "markdown",
   "id": "7f45b8c2",
   "metadata": {},
   "source": [
    "A few notes regarding the above code:\n",
    "\n",
    "* there exists a large variety of data functions, but in order to all handle them in `dune-gdt` we require them to be localizable w.r.t. a grid (i.e. to have *local functions* as above). This is achieved by wrapping them into a `GridFunction`, which accepts all kind of functions, discrete functions or numbers. Thus `GF(grid, 1)` creates a grid function which is localizable w.r.t. each grid elements and evaluates to 1, whenever evaluated; whereas `GF(grid, f)`, when localized to a grid element $K$ and evaluated at a point on the associated reference element, $\\hat{x}$, evaluates to $f(F_K(\\hat{x}))$.\n",
    "\n",
    "* the `LocalElementProductIntegrand` is actually a **binary element integrand** modelling a weighted product, as in: with a weight function $w: \\Omega \\to \\mathbb{R}$, given an ansatz function $\\hat{\\varphi}$, a test function $\\hat{\\psi}$ and a point $\\hat{x} \\in \\hat{K}$, this integrand is determined by\n",
    "  $$\\begin{align}\n",
    "  \\Xi_\\text{prod}^{2,K}: \\mathbb{P}^k(\\hat{K}) \\times \\mathbb{P}^k(\\hat{K}) \\times \\hat{K} &\\to \\mathbb{R},\\\\\n",
    "  \\hat{\\varphi}, \\hat{\\psi}, \\hat{x} &\\mapsto w^K(\\hat{x})\\,\\hat{\\varphi}(\\hat{x})\\,\\hat{\\psi}(\\hat{x}).\n",
    "  \\end{align}$$\n",
    "  Thus, `LocalElementProductIntegrand` is often used in bilinear forms to assemble $L^2$ products (with weight $w =1$), which we achieve by `LocalElementProductIntegrand(GF(grid, 1))`. However, even with $w = 1$, the integrand $\\Xi_\\text{prod}^{2,K}$ still depends on the test and ansatz function. Using `with_ansatz(GF(grid, f))`, we fix $f^K$ as the ansatz function to obtain exactly the *unary* integrand we require, which only depends on the test function,\n",
    "  $$\\begin{align}\n",
    "  \\Xi_\\text{prod}^{1,K}: \\mathbb{P}^k(\\hat{K}) \\times \\hat{K} &\\to \\mathbb{R}\\\\\n",
    "  \\hat{\\psi}, \\hat{x} &\\mapsto \\Xi_\\text{prod}^{2, K}(f^K, \\hat{\\psi}, \\hat{x}) = f^K(\\hat{x})\\,\\hat{\\psi}(\\hat{x}),\n",
    "  \\end{align}$$\n",
    "  which is exactly what we need to approximate  $l_\\text{src}^K(\\psi_i) = \\int_K f\\,\\psi_i\\text{d}x$.\n",
    "\n",
    "* the above code creates the vector $\\underline{l_h}$ (available as the `vector` attribute of `l_h`) filled with `0`, but does not yet assemble the functional into it, which we can check by:"
   ]
  },
  {
   "cell_type": "code",
   "execution_count": 7,
   "id": "16d4c1e6",
   "metadata": {},
   "outputs": [
    {
     "name": "stdout",
     "output_type": "stream",
     "text": [
      "0.0\n"
     ]
    }
   ],
   "source": [
    "assert len(l_h.vector) == V_h.num_DoFs\n",
    "\n",
    "print(l_h.vector.sup_norm())"
   ]
  },
  {
   "cell_type": "markdown",
   "id": "08472223",
   "metadata": {},
   "source": [
    "### 1.4: approximate bilinear forms\n",
    "\n",
    "The approximation of the application of the bilinear form $a$ to two *global* basis function $\\psi_i, \\varphi_j$ follows in a similar manner. We obtain by localization\n",
    "\n",
    "$$\\begin{align}\n",
    "a(\\psi_i, \\varphi_j) &= \\int_\\Omega (\\kappa\\nabla \\varphi_j)\\cdot \\nabla\\psi_i\\,\\text{d}x = \\sum_{K \\in \\mathcal{T}_h}\\underbrace{\\int_K (\\kappa\\nabla \\varphi_j)\\cdot \\nabla\\psi_i\\,\\text{d}x}_{=:a^K(\\psi_i, \\varphi_j)}\n",
    "\\end{align}$$\n",
    "\n",
    "and by transformation and the chain rule, using $(6)$, $(7)$ and $F_K^{-1}\\circ F_K = \\text{id}$\n",
    "\n",
    "$$\\begin{align}\n",
    "a^K(\\psi_i, \\varphi_j) &= \\int_{\\hat{K}} |\\text{det}\\nabla F_K| \\big(\\underbrace{(\\kappa\\circ F_K)}_{=: \\kappa^K}\\underbrace{(\\nabla F_K^{-1}\\cdot\\nabla\\hat{\\varphi}_\\hat{j})}_{=: \\nabla_K\\hat{\\varphi}_\\hat{j}}\\big)\\cdot\\underbrace{(\\nabla F_K^{-1}\\cdot\\nabla\\hat{\\psi}_\\hat{i})}_{=: \\nabla_K\\hat{\\psi}_\\hat{i}}\\,\\text{d}\\hat{x}\\\\\n",
    "&= \\int_{\\hat{K}} |\\text{det}\\nabla F_K| \\big(\\kappa^K \\nabla_K\\hat{\\varphi}_\\hat{j}\\big)\\cdot\\nabla_K\\hat{\\psi}_\\hat{i}\\,\\text{d}\\hat{x},\n",
    "\\end{align}$$\n",
    "\n",
    "where $\\kappa^K$ denote the *local function* of $\\kappa$ as above, and where $\\nabla_K\\hat{\\varphi}_\\hat{j}$ denote suitably transformed *global* gradients of the *local* shape functions, for the integrand to reflect the same structure as above.\n",
    "\n",
    "Similar to local fucntionals, a **local bilinear form** is determined\n",
    "\n",
    "* by a **binary element integrand**, in our case the `LocalLaplaceIntegrand` (see below)\n",
    "  $$\\begin{align}\n",
    "  \\Xi_\\text{laplace}^{2, K}: \\mathbb{P}^k(\\hat{K}) \\times \\mathbb{P}^k(\\hat{K}) \\times \\hat{K} &\\to \\mathbb{R}\\\\\n",
    "  \\hat{\\varphi}, \\hat{\\xi}, \\hat{x} &\\mapsto \\big(\\kappa^K(\\hat{x})\\,\\nabla_K\\hat{\\varphi}(\\hat{x})\\big)\\cdot\\nabla_K\\hat{\\psi}(\\hat{x})\n",
    "  \\end{align}$$\n",
    "  and\n",
    "* an approximation of the integral by a numerical **quadrature**: given any binary element integrand $\\Xi^{2, K}$, and $Q \\in \\mathbb{N}$ quadrature points $\\hat{x}_1, \\dots, \\hat{x}_Q$ and weights $\\omega_1, \\dots, \\omega_Q \\in \\mathbb{R}$, we approximate\n",
    "  $$\\begin{align}\n",
    "  a_h^K(\\psi_i, \\varphi_j) := \\sum_{q = 1}^Q |\\text{det}\\nabla F_K(\\hat{x}_q)|\\,\\omega_q\\,\\Xi^{2,K}(\\hat{\\psi}_\\hat{i}, \\hat{\\varphi}_\\hat{j}, \\hat{x}_q) \\approx \\int_\\hat{K} \\Xi^{2,K}(\\hat{\\psi}_\\hat{i}, \\hat{\\varphi}_\\hat{j}, \\hat{x})\\,\\text{d}\\hat{x} = a^K(\\psi_i, \\varphi_i),\n",
    "\\end{align}$$\n",
    "which is modelled by `LocalElementIntegralBilinearForm` in `dune-gdt` (see below).\n",
    "\n",
    "Given local bilinear forms, the purpose of the `MatrixOperator` in `dune-gdt` is to assemble $\\underline{a_h}$ from $(6)$ by\n",
    "* creating an appropriate (sparse) matrix of size $N \\times N$\n",
    "* iterating over all grid elements $K \\in \\mathcal{T}_h$\n",
    "* localizing the basis of $V_h$ w.r.t. each grid element $K$\n",
    "* evaluating the local bilinear form $a_h^K$ for each combination localized ansatz and test basis functions\n",
    "* adding the results to the respective entry of $\\underline{a_h}$, determined by the DoF-mapping of the discrete function space `ContinuousLagrangeSpace`"
   ]
  },
  {
   "cell_type": "code",
   "execution_count": 8,
   "id": "145b3c9c",
   "metadata": {},
   "outputs": [],
   "source": [
    "from dune.gdt import (\n",
    "    MatrixOperator,\n",
    "    make_element_sparsity_pattern,\n",
    "    LocalLaplaceIntegrand,\n",
    "    LocalElementIntegralBilinearForm,\n",
    ")\n",
    "\n",
    "a_h = MatrixOperator(grid, source_space=V_h, range_space=V_h,\n",
    "                     sparsity_pattern=make_element_sparsity_pattern(V_h))\n",
    "a_h += LocalElementIntegralBilinearForm(LocalLaplaceIntegrand(GF(grid, kappa, dim_range=(Dim(d), Dim(d)))))"
   ]
  },
  {
   "cell_type": "markdown",
   "id": "1c67ddb5",
   "metadata": {},
   "source": [
    "A few notes regarding the above code:\n",
    "\n",
    "* the `LocalLaplaceIntegrand` expects a matrix-valued function, which we achieve by converting the scalar function `kappa` to a matrix-valued `GridFunction`\n",
    "\n",
    "* the above code creates the matrix $\\underline{a_h}$ (available as the `matrix` attribute of `a_h`) with sparse `0` entries, but does not yet assemble the bilinear form into it, which we can check by:"
   ]
  },
  {
   "cell_type": "code",
   "execution_count": 9,
   "id": "6385676e",
   "metadata": {},
   "outputs": [
    {
     "name": "stdout",
     "output_type": "stream",
     "text": [
      "0.0\n"
     ]
    }
   ],
   "source": [
    "assert a_h.matrix.rows == a_h.matrix.cols == V_h.num_DoFs\n",
    "\n",
    "print(a_h.matrix.sup_norm())"
   ]
  },
  {
   "cell_type": "markdown",
   "id": "15c3d0a5",
   "metadata": {},
   "source": [
    "### 1.5: handling the Dirichlet boundary condition\n",
    "\n",
    "As noted above, we handle the Dirichlet boundary condition on the algebraic level by modifying the assembled matrices and vector.\n",
    "We therefore require a means to identify all DoFs of $V_h$ associated with the Dirichlet boundary modelled by `boundary_info`."
   ]
  },
  {
   "cell_type": "code",
   "execution_count": 10,
   "id": "5a65c4b2",
   "metadata": {},
   "outputs": [],
   "source": [
    "from dune.gdt import DirichletConstraints\n",
    "\n",
    "dirichlet_constraints = DirichletConstraints(boundary_info, V_h)"
   ]
  },
  {
   "cell_type": "markdown",
   "id": "b0d61ebf",
   "metadata": {},
   "source": [
    "Similar to the bilinear forms and functionals above, the `dirichlet_constraints` are not yet assembled, which we can check as follows:"
   ]
  },
  {
   "cell_type": "code",
   "execution_count": 11,
   "id": "f0b672c1",
   "metadata": {},
   "outputs": [
    {
     "name": "stdout",
     "output_type": "stream",
     "text": [
      "set()\n"
     ]
    }
   ],
   "source": [
    "print(dirichlet_constraints.dirichlet_DoFs)"
   ]
  },
  {
   "cell_type": "markdown",
   "id": "09817f33",
   "metadata": {},
   "source": [
    "### 1.6: walking the grid\n",
    "\n",
    "Until now, we constructed a bilinear form `a_h`, a linear functional `l_h` and Dirichlet constrinaints `dirichlet_constraints`, which are all localizable w.r.t. the grid, that is: i order to compute their application or to assemble them, it is sufficient to apply them to each element of the grid.\n",
    "\n",
    "Internally, this is realized by means of the `Walker` from `dune-xt-grid`, which allows to register all kinds of *grid functors* which are applied locally on each element. All bilinear forms, operators and functionals (as well as other constructs such as the Dirichlet constraints) in `dune-gdt` are implemented as such functors.\n",
    "\n",
    "Thus, we may assemble everything in one grid walk:"
   ]
  },
  {
   "cell_type": "code",
   "execution_count": 12,
   "id": "691191e6",
   "metadata": {},
   "outputs": [],
   "source": [
    "from dune.xt.grid import Walker\n",
    "\n",
    "walker = Walker(grid)\n",
    "walker.append(a_h)\n",
    "walker.append(l_h)\n",
    "walker.append(dirichlet_constraints)\n",
    "walker.walk()"
   ]
  },
  {
   "cell_type": "markdown",
   "id": "10b7fd87",
   "metadata": {},
   "source": [
    "We can check that the assembled bilinear form and functional as well as the Dirichlet constraints actually contain some data:"
   ]
  },
  {
   "cell_type": "code",
   "execution_count": 13,
   "id": "6f5479a8",
   "metadata": {},
   "outputs": [
    {
     "name": "stdout",
     "output_type": "stream",
     "text": [
      "a_h = IstlSparseMatrix(\n",
      "  [4 0 -1 ... 0 0 -1]\n",
      "  [0 2 -1 ... 0 0 0]\n",
      "  [-1 -1 4 ... 0 0 0]\n",
      "   ...\n",
      "  [0 0 0 ... 2 0 -1]\n",
      "  [0 0 0 ... 0 1 -1]\n",
      "  [-1 0 0 ... -1 -1 4]\n",
      ")\n",
      "\n",
      "l_h = IstlVector([0.215393 0.088827 0.0887864 ... 0.130627 0.0897916 0.147315])\n",
      "\n",
      "Dirichlet DoFs: {1, 3, 4, 5, 6, 8, 10, 11}\n"
     ]
    }
   ],
   "source": [
    "print(f'a_h = {a_h.matrix.__repr__()}')\n",
    "print()\n",
    "print(f'l_h = {l_h.vector.__repr__()}')\n",
    "print()\n",
    "print(f'Dirichlet DoFs: {dirichlet_constraints.dirichlet_DoFs}')"
   ]
  },
  {
   "cell_type": "markdown",
   "id": "cd7e54be",
   "metadata": {},
   "source": [
    "### 1.7: solving the linear system\n",
    "\n",
    "After walking the grid, the bilinra form and linear functional are assembled w.r.t. $V_h$ and we constrain them to include the handling of the Dirichlet boundary condition."
   ]
  },
  {
   "cell_type": "code",
   "execution_count": 14,
   "id": "f4d602fc",
   "metadata": {},
   "outputs": [],
   "source": [
    "dirichlet_constraints.apply(a_h.matrix, l_h.vector)"
   ]
  },
  {
   "cell_type": "markdown",
   "id": "c57e2dfc",
   "metadata": {},
   "source": [
    "Since the bilinear form is implemented as a `MatrixOperator`, we may simply invert the operator to obtain the DoF vector of the solution of $(9)$."
   ]
  },
  {
   "cell_type": "code",
   "execution_count": 15,
   "id": "9fa9430c",
   "metadata": {},
   "outputs": [],
   "source": [
    "u_h_vector = a_h.apply_inverse(l_h.vector)"
   ]
  },
  {
   "cell_type": "markdown",
   "id": "064457d2",
   "metadata": {},
   "source": [
    "### 1.8: postprocessing the solution\n",
    "\n",
    "To make use of the DoF vector of the approximate solution, $\\underline{u_h} \\in \\mathbb{R}^N$, it is convenient to interpert it as a discrete function again, $u_h \\in V_h$ by means of the Galerkin isomorphism. This can be achieved by the `DiscreteFunction` in `dune-gdt`.\n",
    "\n",
    "All discrete functions are in particular grid functions and can thus be compared to analytical solutions, used as input in discretization schemes or visualized.\n",
    "\n",
    "**Note:** if visualization fails for some reason, call `paraview` on the command line and open `u_h.vtu`!"
   ]
  },
  {
   "cell_type": "code",
   "execution_count": 16,
   "id": "bdadd33a",
   "metadata": {},
   "outputs": [
    {
     "data": {
      "application/vnd.jupyter.widget-view+json": {
       "model_id": "8e419799de5c4dc7a32eb0710481db6b",
       "version_major": 2,
       "version_minor": 0
      },
      "text/plain": [
       "Output()"
      ]
     },
     "metadata": {},
     "output_type": "display_data"
    }
   ],
   "source": [
    "from dune.gdt import DiscreteFunction, visualize_function\n",
    "\n",
    "u_h = DiscreteFunction(V_h, u_h_vector, name='u_h')\n",
    "_ = visualize_function(u_h)"
   ]
  },
  {
   "cell_type": "markdown",
   "id": "69aedbba",
   "metadata": {},
   "source": [
    "### 1.9: everything in a single function\n",
    "\n",
    "For a better overview, the above discretization code is also available in a single function in the file `discretize_elliptic_cg.py`:"
   ]
  },
  {
   "cell_type": "code",
   "execution_count": 17,
   "id": "99b72d4b",
   "metadata": {},
   "outputs": [
    {
     "name": "stdout",
     "output_type": "stream",
     "text": [
      "def discretize_elliptic_cg_dirichlet_zero(grid, diffusion, source):\n",
      "\n",
      "    \"\"\"\n",
      "    Discretizes the stationary heat equation with homogeneous Dirichlet boundary values everywhere\n",
      "    with dune-gdt using continuous Lagrange finite elements.\n",
      "\n",
      "    Parameters\n",
      "    ----------\n",
      "    grid\n",
      "        The grid, given as a GridProvider from dune.xt.grid.\n",
      "    diffusion\n",
      "        Diffusion function with values in R^{d x d}, anything that dune.xt.functions.GridFunction\n",
      "        can handle.\n",
      "    source\n",
      "        Right hand side source function with values in R, anything that\n",
      "        dune.xt.functions.GridFunction can handle.\n",
      "    \n",
      "    Returns\n",
      "    -------\n",
      "    u_h\n",
      "        The computed solution as a dune.gdt.DiscreteFunction for postprocessing.\n",
      "    \"\"\"\n",
      "    \n",
      "    d = grid.dimension\n",
      "    diffusion = GF(grid, diffusion, dim_range=(Dim(d), Dim(d)))\n",
      "    source = GF(grid, source)\n",
      "\n",
      "    boundary_info = AllDirichletBoundaryInfo(grid)\n",
      "    \n",
      "    V_h = ContinuousLagrangeSpace(grid, order=1)\n",
      "\n",
      "    l_h = VectorFunctional(grid, source_space=V_h)\n",
      "    l_h += LocalElementIntegralFunctional(LocalElementProductIntegrand(GF(grid, 1)).with_ansatz(source))\n",
      "    \n",
      "    a_h = MatrixOperator(grid, source_space=V_h, range_space=V_h,\n",
      "                         sparsity_pattern=make_element_sparsity_pattern(V_h))\n",
      "    a_h += LocalElementIntegralBilinearForm(LocalLaplaceIntegrand(diffusion))\n",
      "    \n",
      "    dirichlet_constraints = DirichletConstraints(boundary_info, V_h)\n",
      "    \n",
      "    walker = Walker(grid)\n",
      "    walker.append(a_h)\n",
      "    walker.append(l_h)\n",
      "    walker.append(dirichlet_constraints)\n",
      "    walker.walk()\n",
      "    \n",
      "    u_h = DiscreteFunction(V_h, name='u_h')\n",
      "    dirichlet_constraints.apply(a_h.matrix, l_h.vector)\n",
      "    a_h.apply_inverse(l_h.vector, u_h.dofs.vector)\n",
      "    \n",
      "    return u_h\n",
      "\n"
     ]
    }
   ],
   "source": [
    "import inspect\n",
    "from discretize_elliptic_cg import discretize_elliptic_cg_dirichlet_zero\n",
    "\n",
    "print(inspect.getsource(discretize_elliptic_cg_dirichlet_zero))"
   ]
  },
  {
   "cell_type": "markdown",
   "id": "6ad9c71f",
   "metadata": {},
   "source": [
    "Calling it gives the same solution as above:"
   ]
  },
  {
   "cell_type": "code",
   "execution_count": 18,
   "id": "5c89ff02",
   "metadata": {},
   "outputs": [
    {
     "data": {
      "application/vnd.jupyter.widget-view+json": {
       "model_id": "ebfe5d50d7aa4386bbff690d802de4fc",
       "version_major": 2,
       "version_minor": 0
      },
      "text/plain": [
       "Output()"
      ]
     },
     "metadata": {},
     "output_type": "display_data"
    }
   ],
   "source": [
    "u_h = discretize_elliptic_cg_dirichlet_zero(grid, kappa, f)\n",
    "_ = visualize_function(u_h)"
   ]
  },
  {
   "cell_type": "markdown",
   "id": "ebdcc4f9",
   "metadata": {},
   "source": [
    "## 2: diffusion with non-homogeneous Dirichlet boundary condition\n",
    "\n",
    "### 2.1: analytical problem\n",
    "\n",
    "Consider problem $(1)$ from above, but with non-homogeneous Dirichlet boundary values. That is:\n",
    "\n",
    "\n",
    "Let $\\Omega \\subset \\mathbb{R}^d$ for $1 \\leq d \\leq 3$ be a bounded connected domain with Lipschitz-boundary $\\partial\\Omega$. We seek the solution $u \\in H^1(\\Omega)$ of the linear diffusion equation (with a **non-homogeneous Dirichlet boundary condition**)\n",
    "\n",
    "$$\\begin{align}\n",
    "- \\nabla\\cdot(\\kappa\\nabla u) &= f &&\\text{in } \\Omega,\\tag{12}\\label{eq:diff_dir:pde}\\\\\n",
    "u &= g_\\text{D} &&\\text{on } \\partial\\Omega,\n",
    "\\end{align}$$\n",
    "\n",
    "in a weak sense, where $\\kappa \\in [L^\\infty(\\Omega)]^{d \\times d}$ denotes a given diffusion function, $f \\in L^2(\\Omega)$ denotes a given source function and $g_\\text{D} \\in L^2(\\partial\\Omega)$ denotes given Dirichlet boundary values.\n",
    "\n",
    "The variational problem associated with $\\eqref{eq:diff_dir:pde}$ reads: find $u \\in H^1(\\Omega)$, such that\n",
    "\n",
    "$$\\begin{align}\n",
    "a(u, v) &= l(v) &&\\text{for all }v \\in V,\\tag{13}\\label{eq:diff_dir:variational_problem}\n",
    "\\end{align}$$\n",
    "\n",
    "with the same bilinear form $a$ and linear functional $l$ as above in $(3)$.\n",
    "<!-- #endregion -->\n",
    "\n",
    "### 2.2: Dirichlet shift\n",
    "\n",
    "Suppose $\\hat{g}_\\text{D} \\in H^1(\\Omega)$ is an extension of the Dirichlet boundary values to $\\Omega$, such that\n",
    "\n",
    "$$\\begin{align}\n",
    "\\hat{g}_\\text{D}|_{\\partial\\Omega} = g_\\text{D}\n",
    "\\end{align}$$\n",
    "\n",
    "in the sense of traces. We then have for the solution $u \\in H^1(\\Omega)$ of $(13)$, that\n",
    "\n",
    "$$\\begin{align}\n",
    "u = u_0 + \\hat{g}_\\text{D}\n",
    "\\end{align}$$\n",
    "\n",
    "for some $u_0 \\in H^1_0(\\Omega)$. Thus, we may reformulate $(13)$ as follows: Find $u_0 \\in H^1_0(\\Omega)$, such that\n",
    "\n",
    "$$\\begin{align}\n",
    "a(u_0 + \\hat{g}_\\text{D}, v) &= l(v) &&\\text{for all }v \\in V,\n",
    "\\end{align}$$\n",
    "\n",
    "or equivalently\n",
    "\n",
    "$$\\begin{align}\n",
    "a(u_0, v) &= l(v) - a(\\hat{g}_\\text{D}, v) &&\\text{for all }v \\in V.\\tag{14}\\label{eq:diff_dir:shifted_variational_problem}\n",
    "\\end{align}$$\n",
    "\n",
    "We have thus shifted problem $(13)$ to be of familiar form, i.e., similarly to above we consider a linear diffusion equation with **homogeneous** Dirichlet boundary conditions, but a **modified source** term.\n",
    "\n",
    "\n",
    "Consider for example $(1)$ with:\n",
    "\n",
    "* $d = 2$\n",
    "* $\\Omega = [0, 1]^2$\n",
    "* $\\kappa = 1$\n",
    "* $f = \\exp(x_0 x_1)$\n",
    "* $g_\\text{D} = x_0 x_1$\n",
    "\n",
    "Except for $g_\\text{D}$, we may thus use the same grid, boundary info and data functions as above.\n",
    "\n",
    "\n",
    "### 2.3: Dirichlet interpolation\n",
    "\n",
    "To obtain $\\hat{g}_\\text{D} \\in H^1(\\Omega)$, we use the Lagrange interpolation of $g_\\text{D}$ and set all DoFs associated with inner Lagrange nodes to zero. This is realized by the `boundary_interpolation`."
   ]
  },
  {
   "cell_type": "code",
   "execution_count": 19,
   "id": "6f72c5c2",
   "metadata": {},
   "outputs": [
    {
     "data": {
      "application/vnd.jupyter.widget-view+json": {
       "model_id": "5db5d04510fb40b19c1bc10455b1644d",
       "version_major": 2,
       "version_minor": 0
      },
      "text/plain": [
       "Output()"
      ]
     },
     "metadata": {},
     "output_type": "display_data"
    }
   ],
   "source": [
    "from dune.xt.grid import DirichletBoundary\n",
    "from dune.gdt import boundary_interpolation\n",
    "\n",
    "g_D = ExpressionFunction(dim_domain=Dim(d), variable='x', expression='x[0]*x[1]', order=2, name='g_D')\n",
    "\n",
    "g_D_hat = boundary_interpolation(GF(grid, g_D), V_h, boundary_info, DirichletBoundary())\n",
    "\n",
    "_ = visualize_function(g_D_hat)"
   ]
  },
  {
   "cell_type": "markdown",
   "id": "1bf0b25a",
   "metadata": {},
   "source": [
    "As we observe, the values on all boundary DoFs are $x_0 x_1$ and on all inner DoFs $0$.\n",
    "\n",
    "\n",
    "### 2.4: assembling the shifted system\n",
    "\n",
    "* We assemble the unconstrained matrix- and vector representation of $a_h$ and $l_h$ w.r.t. $V_h$ similarly as above."
   ]
  },
  {
   "cell_type": "code",
   "execution_count": 20,
   "id": "7e3abd52",
   "metadata": {},
   "outputs": [],
   "source": [
    "l_h = VectorFunctional(grid, source_space=V_h)\n",
    "l_h += LocalElementIntegralFunctional(LocalElementProductIntegrand(GF(grid, 1)).with_ansatz(GF(grid, f)))\n",
    "\n",
    "a_h = MatrixOperator(grid, source_space=V_h, range_space=V_h,\n",
    "                     sparsity_pattern=make_element_sparsity_pattern(V_h))\n",
    "a_h += LocalElementIntegralBilinearForm(LocalLaplaceIntegrand(GF(grid, kappa, dim_range=(Dim(d), Dim(d)))))\n",
    "\n",
    "walker = Walker(grid)\n",
    "walker.append(a_h)\n",
    "walker.append(l_h)\n",
    "walker.walk()"
   ]
  },
  {
   "cell_type": "markdown",
   "id": "3bdfebfa",
   "metadata": {},
   "source": [
    "* We then obtain the shifted system by directly modifying the right hand side vector."
   ]
  },
  {
   "cell_type": "code",
   "execution_count": 21,
   "id": "3c1a7334",
   "metadata": {},
   "outputs": [],
   "source": [
    "rhs_vector = l_h.vector - a_h.matrix@g_D_hat.dofs.vector"
   ]
  },
  {
   "cell_type": "markdown",
   "id": "0d1055c7",
   "metadata": {},
   "source": [
    "* *Afterwards*, we constrain the shifted system to $V_h \\cap H^1_0(\\Omega)$."
   ]
  },
  {
   "cell_type": "code",
   "execution_count": 22,
   "id": "1373bea0",
   "metadata": {},
   "outputs": [],
   "source": [
    "dirichlet_constraints.apply(a_h.matrix, rhs_vector)"
   ]
  },
  {
   "cell_type": "markdown",
   "id": "f175245c",
   "metadata": {},
   "source": [
    "* Then, we solve the shifted and constrained system for the DoF vector of $u_{0, h}$."
   ]
  },
  {
   "cell_type": "code",
   "execution_count": 23,
   "id": "f81e64b1",
   "metadata": {},
   "outputs": [],
   "source": [
    "u_0_h_vector = a_h.apply_inverse(rhs_vector)"
   ]
  },
  {
   "cell_type": "markdown",
   "id": "2d30ca91",
   "metadata": {},
   "source": [
    "* We may then obtain the solution by shifting it back."
   ]
  },
  {
   "cell_type": "code",
   "execution_count": 24,
   "id": "498721c9",
   "metadata": {},
   "outputs": [
    {
     "data": {
      "application/vnd.jupyter.widget-view+json": {
       "model_id": "3ddb5e96990f4141819c9a21257fb55a",
       "version_major": 2,
       "version_minor": 0
      },
      "text/plain": [
       "Output()"
      ]
     },
     "metadata": {},
     "output_type": "display_data"
    }
   ],
   "source": [
    "u_h = DiscreteFunction(V_h, u_0_h_vector + g_D_hat.dofs.vector)\n",
    "\n",
    "_ = visualize_function(u_h)"
   ]
  },
  {
   "cell_type": "markdown",
   "id": "6b9e5133",
   "metadata": {},
   "source": [
    "### 2.5: everything in a single function\n",
    "\n",
    "As above, solving with non-homogeneous Dirichlet values is also available in a single function."
   ]
  },
  {
   "cell_type": "code",
   "execution_count": 25,
   "id": "ae4bb814",
   "metadata": {},
   "outputs": [
    {
     "data": {
      "application/vnd.jupyter.widget-view+json": {
       "model_id": "41c570bc77ba43e7a1cf26c55afc3ef1",
       "version_major": 2,
       "version_minor": 0
      },
      "text/plain": [
       "Output()"
      ]
     },
     "metadata": {},
     "output_type": "display_data"
    }
   ],
   "source": [
    "from discretize_elliptic_cg import discretize_elliptic_cg_dirichlet\n",
    "\n",
    "u_h = discretize_elliptic_cg_dirichlet(grid, kappa, f, g_D)\n",
    "\n",
    "_ = visualize_function(u_h)"
   ]
  },
  {
   "cell_type": "markdown",
   "id": "e50dcd64",
   "metadata": {},
   "source": [
    "Download the code:\n",
    "{download}`tutorial-10__cg_stationary_heat_equation_dirichlet.md`\n",
    "{nb-download}`tutorial-10__cg_stationary_heat_equation_dirichlet.ipynb`"
   ]
  }
 ],
 "metadata": {
  "jupyter": {
   "jupytext": {
    "cell_metadata_filter": "-all",
    "formats": "ipynb,myst",
    "main_language": "python",
    "text_representation": {
     "extension": ".md",
     "format_name": "myst",
     "format_version": "1.3",
     "jupytext_version": "1.11.2"
    }
   }
  },
  "jupytext": {
   "text_representation": {
    "format_name": "myst"
   }
  },
  "kernelspec": {
   "display_name": "Python 3",
   "name": "python3"
  },
  "language_info": {
   "codemirror_mode": {
    "name": "ipython",
    "version": 3
   },
   "file_extension": ".py",
   "mimetype": "text/x-python",
   "name": "python",
   "nbconvert_exporter": "python",
   "pygments_lexer": "ipython3",
   "version": "3.9.8"
  },
  "source_map": [
   18,
   23,
   26,
   37,
   44,
   81,
   91,
   160,
   173,
   181,
   230,
   241,
   261,
   265,
   305,
   316,
   324,
   328,
   335,
   339,
   343,
   345,
   355,
   363,
   367,
   373,
   379,
   381,
   385,
   387,
   397,
   402,
   408,
   413,
   417,
   420,
   491,
   500,
   509,
   521,
   525,
   527,
   531,
   533,
   537,
   539,
   543,
   547,
   553,
   559
  ],
  "widgets": {
   "application/vnd.jupyter.widget-state+json": {
    "state": {
     "009e19ca8ee0450f9b0cfa16ded20758": {
      "model_module": "@jupyter-widgets/controls",
      "model_module_version": "1.5.0",
      "model_name": "AccordionModel",
      "state": {
       "_dom_classes": [],
       "_model_module": "@jupyter-widgets/controls",
       "_model_module_version": "1.5.0",
       "_model_name": "AccordionModel",
       "_titles": {
        "0": "Log Output"
       },
       "_view_count": null,
       "_view_module": "@jupyter-widgets/controls",
       "_view_module_version": "1.5.0",
       "_view_name": "AccordionView",
       "box_style": "",
       "children": [
        "IPY_MODEL_b6c007a2044b46ad9df94db68c8fa76b"
       ],
       "layout": "IPY_MODEL_0f262ee227a8465c802ebc72addf7323",
       "selected_index": null
      }
     },
     "00def46a19ca4bb39effaf49cc42a620": {
      "model_module": "@jupyter-widgets/base",
      "model_module_version": "1.2.0",
      "model_name": "LayoutModel",
      "state": {
       "_model_module": "@jupyter-widgets/base",
       "_model_module_version": "1.2.0",
       "_model_name": "LayoutModel",
       "_view_count": null,
       "_view_module": "@jupyter-widgets/base",
       "_view_module_version": "1.2.0",
       "_view_name": "LayoutView",
       "align_content": null,
       "align_items": null,
       "align_self": null,
       "border": null,
       "bottom": null,
       "display": null,
       "flex": null,
       "flex_flow": null,
       "grid_area": null,
       "grid_auto_columns": null,
       "grid_auto_flow": null,
       "grid_auto_rows": null,
       "grid_column": null,
       "grid_gap": null,
       "grid_row": null,
       "grid_template_areas": null,
       "grid_template_columns": null,
       "grid_template_rows": null,
       "height": null,
       "justify_content": null,
       "justify_items": null,
       "left": null,
       "margin": null,
       "max_height": null,
       "max_width": null,
       "min_height": null,
       "min_width": null,
       "object_fit": null,
       "object_position": null,
       "order": null,
       "overflow": null,
       "overflow_x": null,
       "overflow_y": null,
       "padding": null,
       "right": null,
       "top": null,
       "visibility": null,
       "width": null
      }
     },
     "01c53f1a9821497e8df6234a90034185": {
      "model_module": "@jupyter-widgets/controls",
      "model_module_version": "1.5.0",
      "model_name": "DescriptionStyleModel",
      "state": {
       "_model_module": "@jupyter-widgets/controls",
       "_model_module_version": "1.5.0",
       "_model_name": "DescriptionStyleModel",
       "_view_count": null,
       "_view_module": "@jupyter-widgets/base",
       "_view_module_version": "1.2.0",
       "_view_name": "StyleView",
       "description_width": ""
      }
     },
     "02b63cf366ee43dd8f10db06a92a6951": {
      "model_module": "k3d",
      "model_module_version": "2.6.6",
      "model_name": "PlotModel",
      "state": {
       "_backend_version": "2.6.6",
       "_dom_classes": [],
       "_model_module": "k3d",
       "_model_module_version": "2.6.6",
       "_model_name": "PlotModel",
       "_view_count": null,
       "_view_module": "k3d",
       "_view_module_version": "2.6.6",
       "_view_name": "PlotView",
       "antialias": 3,
       "axes": [
        "x",
        "y",
        "z"
       ],
       "background_color": 16777215,
       "camera": [
        0.5,
        0.5,
        0.8660254037844387,
        0.5,
        0.5,
        0.0,
        0,
        1,
        0
       ],
       "camera_auto_fit": false,
       "camera_no_pan": true,
       "camera_no_rotate": true,
       "camera_no_zoom": true,
       "clipping_planes": [],
       "colorbar_object_id": -1,
       "fps_meter": false,
       "grid": [
        0.0,
        0.0,
        0.0,
        1.0,
        1.0,
        0.0
       ],
       "grid_auto_fit": false,
       "grid_visible": false,
       "height": 512,
       "layout": "IPY_MODEL_4969bcfaf01f486399b67919691dfb07",
       "lighting": 1.0,
       "menu_visibility": false,
       "object_ids": [
        140434212905648
       ],
       "rendering_steps": 1,
       "screenshot": "",
       "screenshot_scale": 2.0,
       "time": 0.0,
       "voxel_paint_color": 0
      }
     },
     "032fac83ebe44f6aa6ddf26e2829901a": {
      "model_module": "@jupyter-widgets/controls",
      "model_module_version": "1.5.0",
      "model_name": "AccordionModel",
      "state": {
       "_dom_classes": [],
       "_model_module": "@jupyter-widgets/controls",
       "_model_module_version": "1.5.0",
       "_model_name": "AccordionModel",
       "_titles": {
        "0": "Log Output"
       },
       "_view_count": null,
       "_view_module": "@jupyter-widgets/controls",
       "_view_module_version": "1.5.0",
       "_view_name": "AccordionView",
       "box_style": "",
       "children": [
        "IPY_MODEL_3d33cbf9527f4115b4c7c6838bb566cc"
       ],
       "layout": "IPY_MODEL_b19c10644e62443ca601c8c71c797c52",
       "selected_index": null
      }
     },
     "04981e50a3bf4a619004077e6ccaf3c5": {
      "model_module": "@jupyter-widgets/base",
      "model_module_version": "1.2.0",
      "model_name": "LayoutModel",
      "state": {
       "_model_module": "@jupyter-widgets/base",
       "_model_module_version": "1.2.0",
       "_model_name": "LayoutModel",
       "_view_count": null,
       "_view_module": "@jupyter-widgets/base",
       "_view_module_version": "1.2.0",
       "_view_name": "LayoutView",
       "align_content": null,
       "align_items": null,
       "align_self": null,
       "border": null,
       "bottom": null,
       "display": null,
       "flex": null,
       "flex_flow": null,
       "grid_area": null,
       "grid_auto_columns": null,
       "grid_auto_flow": null,
       "grid_auto_rows": null,
       "grid_column": null,
       "grid_gap": null,
       "grid_row": null,
       "grid_template_areas": null,
       "grid_template_columns": null,
       "grid_template_rows": null,
       "height": null,
       "justify_content": null,
       "justify_items": null,
       "left": null,
       "margin": null,
       "max_height": null,
       "max_width": null,
       "min_height": null,
       "min_width": null,
       "object_fit": null,
       "object_position": null,
       "order": null,
       "overflow": null,
       "overflow_x": null,
       "overflow_y": null,
       "padding": null,
       "right": null,
       "top": null,
       "visibility": null,
       "width": null
      }
     },
     "04ccf2be6c394d82be7d40a14716a363": {
      "model_module": "@jupyter-widgets/base",
      "model_module_version": "1.2.0",
      "model_name": "LayoutModel",
      "state": {
       "_model_module": "@jupyter-widgets/base",
       "_model_module_version": "1.2.0",
       "_model_name": "LayoutModel",
       "_view_count": null,
       "_view_module": "@jupyter-widgets/base",
       "_view_module_version": "1.2.0",
       "_view_name": "LayoutView",
       "align_content": null,
       "align_items": null,
       "align_self": null,
       "border": null,
       "bottom": null,
       "display": null,
       "flex": null,
       "flex_flow": null,
       "grid_area": null,
       "grid_auto_columns": null,
       "grid_auto_flow": null,
       "grid_auto_rows": null,
       "grid_column": null,
       "grid_gap": null,
       "grid_row": null,
       "grid_template_areas": null,
       "grid_template_columns": null,
       "grid_template_rows": null,
       "height": null,
       "justify_content": null,
       "justify_items": null,
       "left": null,
       "margin": null,
       "max_height": null,
       "max_width": null,
       "min_height": null,
       "min_width": null,
       "object_fit": null,
       "object_position": null,
       "order": null,
       "overflow": null,
       "overflow_x": null,
       "overflow_y": null,
       "padding": null,
       "right": null,
       "top": null,
       "visibility": null,
       "width": null
      }
     },
     "053eab2e2f0b43f7af32e6ce3b8788be": {
      "model_module": "@jupyter-widgets/controls",
      "model_module_version": "1.5.0",
      "model_name": "DescriptionStyleModel",
      "state": {
       "_model_module": "@jupyter-widgets/controls",
       "_model_module_version": "1.5.0",
       "_model_name": "DescriptionStyleModel",
       "_view_count": null,
       "_view_module": "@jupyter-widgets/base",
       "_view_module_version": "1.2.0",
       "_view_name": "StyleView",
       "description_width": ""
      }
     },
     "05af31172e014f9ab22cf0ed30647b59": {
      "model_module": "@jupyter-widgets/base",
      "model_module_version": "1.2.0",
      "model_name": "LayoutModel",
      "state": {
       "_model_module": "@jupyter-widgets/base",
       "_model_module_version": "1.2.0",
       "_model_name": "LayoutModel",
       "_view_count": null,
       "_view_module": "@jupyter-widgets/base",
       "_view_module_version": "1.2.0",
       "_view_name": "LayoutView",
       "align_content": null,
       "align_items": null,
       "align_self": null,
       "border": null,
       "bottom": null,
       "display": null,
       "flex": null,
       "flex_flow": null,
       "grid_area": null,
       "grid_auto_columns": null,
       "grid_auto_flow": null,
       "grid_auto_rows": null,
       "grid_column": null,
       "grid_gap": null,
       "grid_row": null,
       "grid_template_areas": null,
       "grid_template_columns": null,
       "grid_template_rows": null,
       "height": "16em",
       "justify_content": null,
       "justify_items": null,
       "left": null,
       "margin": null,
       "max_height": null,
       "max_width": null,
       "min_height": null,
       "min_width": null,
       "object_fit": null,
       "object_position": null,
       "order": null,
       "overflow": null,
       "overflow_x": null,
       "overflow_y": "auto",
       "padding": null,
       "right": null,
       "top": null,
       "visibility": null,
       "width": "100%"
      }
     },
     "095b6da3e1984fd3abe68c95e89b7ba6": {
      "buffers": [
       {
        "data": "GMndPQAAAABfz0k9X89JPQAAAAAAAAAAAAAAAAAAAABfz0k9X89JPQAAAAAYyd09AAAAAAAAAACBPVY9gT1WPQAAAAAAAAAAAAAAABjJ3T2BPVY9gT1WPRjJ3T0AAAAAAAAAAAAAAACBPVY9gT1WPQAAAAAAAAAAAAAAABjJ3T2BPVY9gT1WPRjJ3T0AAAAAAAAAAAAAAAAu34I9Lt+CPQAAAAAYyd09GMndPQAAAAAu34I9Lt+CPQAAAAAAAAAA",
        "encoding": "base64",
        "path": [
         "attribute",
         "buffer"
        ]
       },
       {
        "data": "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",
        "encoding": "base64",
        "path": [
         "color_map",
         "buffer"
        ]
       },
       {
        "data": "AAAAAAEAAAACAAAAAwAAAAQAAAAFAAAABgAAAAcAAAAIAAAACQAAAAoAAAALAAAADAAAAA0AAAAOAAAADwAAABAAAAARAAAAEgAAABMAAAAUAAAAFQAAABYAAAAXAAAAGAAAABkAAAAaAAAAGwAAABwAAAAdAAAAHgAAAB8AAAAgAAAAIQAAACIAAAAjAAAAJAAAACUAAAAmAAAAJwAAACgAAAApAAAAKgAAACsAAAAsAAAALQAAAC4AAAAvAAAA",
        "encoding": "base64",
        "path": [
         "indices",
         "buffer"
        ]
       },
       {
        "data": "AACAPwAAAAAAAAAAAAAAAAAAAAAAAIA/AAAAAAAAAAAAAAAAAAAAAAAAgD8AAAAAAAAAAAAAAAAAAAAAAACAPw==",
        "encoding": "base64",
        "path": [
         "model_matrix",
         "buffer"
        ]
       },
       {
        "data": "AAAAPwAAAD8AAAAAAAAAPwAAAAAAAAAAAACAPgAAgD4AAAAAAACAPgAAgD4AAAAAAAAAPwAAAAAAAAAAAAAAAAAAAAAAAAAAAAAAAAAAAAAAAAAAAAAAAAAAAD8AAAAAAACAPgAAgD4AAAAAAACAPgAAgD4AAAAAAAAAAAAAAD8AAAAAAAAAPwAAAD8AAAAAAACAPwAAAD8AAAAAAACAPwAAAAAAAAAAAABAPwAAgD4AAAAAAABAPwAAgD4AAAAAAACAPwAAAAAAAAAAAAAAPwAAAAAAAAAAAAAAPwAAAAAAAAAAAAAAPwAAAD8AAAAAAABAPwAAgD4AAAAAAABAPwAAgD4AAAAAAAAAPwAAAD8AAAAAAACAPwAAAD8AAAAAAAAAAAAAAD8AAAAAAAAAAAAAgD8AAAAAAACAPgAAQD8AAAAAAACAPgAAQD8AAAAAAAAAAAAAgD8AAAAAAAAAPwAAgD8AAAAAAAAAPwAAgD8AAAAAAAAAPwAAAD8AAAAAAACAPgAAQD8AAAAAAACAPgAAQD8AAAAAAAAAPwAAAD8AAAAAAAAAAAAAAD8AAAAAAACAPwAAgD8AAAAAAACAPwAAAD8AAAAAAABAPwAAQD8AAAAAAABAPwAAQD8AAAAAAACAPwAAAD8AAAAAAAAAPwAAAD8AAAAAAAAAPwAAAD8AAAAAAAAAPwAAgD8AAAAAAABAPwAAQD8AAAAAAABAPwAAQD8AAAAAAAAAPwAAgD8AAAAAAACAPwAAgD8AAAAA",
        "encoding": "base64",
        "path": [
         "vertices",
         "buffer"
        ]
       }
      ],
      "model_module": "k3d",
      "model_module_version": "2.6.6",
      "model_name": "ObjectModel",
      "state": {
       "_model_module": "k3d",
       "_model_module_version": "2.6.6",
       "_model_name": "ObjectModel",
       "_view_count": null,
       "_view_module": null,
       "_view_module_version": "",
       "_view_name": null,
       "attribute": {
        "dtype": "float32",
        "shape": [
         48
        ]
       },
       "color": 255,
       "color_map": {
        "dtype": "float32",
        "shape": [
         256,
         4
        ]
       },
       "color_range": [
        0.0,
        0.10829371213912964
       ],
       "compression_level": 0,
       "flat_shading": false,
       "id": 140435775703120,
       "indices": {
        "dtype": "uint32",
        "shape": [
         16,
         3
        ]
       },
       "model_matrix": {
        "dtype": "float32",
        "shape": [
         4,
         4
        ]
       },
       "name": null,
       "opacity": 1.0,
       "type": "Mesh",
       "vertices": {
        "dtype": "float32",
        "shape": [
         48,
         3
        ]
       },
       "visible": true,
       "wireframe": false
      }
     },
     "0f262ee227a8465c802ebc72addf7323": {
      "model_module": "@jupyter-widgets/base",
      "model_module_version": "1.2.0",
      "model_name": "LayoutModel",
      "state": {
       "_model_module": "@jupyter-widgets/base",
       "_model_module_version": "1.2.0",
       "_model_name": "LayoutModel",
       "_view_count": null,
       "_view_module": "@jupyter-widgets/base",
       "_view_module_version": "1.2.0",
       "_view_name": "LayoutView",
       "align_content": null,
       "align_items": null,
       "align_self": null,
       "border": null,
       "bottom": null,
       "display": null,
       "flex": null,
       "flex_flow": null,
       "grid_area": null,
       "grid_auto_columns": null,
       "grid_auto_flow": null,
       "grid_auto_rows": null,
       "grid_column": null,
       "grid_gap": null,
       "grid_row": null,
       "grid_template_areas": null,
       "grid_template_columns": null,
       "grid_template_rows": null,
       "height": null,
       "justify_content": null,
       "justify_items": null,
       "left": null,
       "margin": null,
       "max_height": null,
       "max_width": null,
       "min_height": null,
       "min_width": null,
       "object_fit": null,
       "object_position": null,
       "order": null,
       "overflow": null,
       "overflow_x": null,
       "overflow_y": null,
       "padding": null,
       "right": null,
       "top": null,
       "visibility": null,
       "width": null
      }
     },
     "10fa45b9d8184bfda8d1cbb53338753e": {
      "model_module": "@jupyter-widgets/base",
      "model_module_version": "1.2.0",
      "model_name": "LayoutModel",
      "state": {
       "_model_module": "@jupyter-widgets/base",
       "_model_module_version": "1.2.0",
       "_model_name": "LayoutModel",
       "_view_count": null,
       "_view_module": "@jupyter-widgets/base",
       "_view_module_version": "1.2.0",
       "_view_name": "LayoutView",
       "align_content": null,
       "align_items": null,
       "align_self": null,
       "border": null,
       "bottom": null,
       "display": null,
       "flex": null,
       "flex_flow": null,
       "grid_area": null,
       "grid_auto_columns": null,
       "grid_auto_flow": null,
       "grid_auto_rows": null,
       "grid_column": null,
       "grid_gap": null,
       "grid_row": null,
       "grid_template_areas": null,
       "grid_template_columns": null,
       "grid_template_rows": null,
       "height": null,
       "justify_content": null,
       "justify_items": null,
       "left": null,
       "margin": null,
       "max_height": null,
       "max_width": null,
       "min_height": null,
       "min_width": null,
       "object_fit": null,
       "object_position": null,
       "order": null,
       "overflow": null,
       "overflow_x": null,
       "overflow_y": null,
       "padding": null,
       "right": null,
       "top": null,
       "visibility": null,
       "width": null
      }
     },
     "11a80d135045409ba9388216b16d700a": {
      "model_module": "@jupyter-widgets/controls",
      "model_module_version": "1.5.0",
      "model_name": "AccordionModel",
      "state": {
       "_dom_classes": [],
       "_model_module": "@jupyter-widgets/controls",
       "_model_module_version": "1.5.0",
       "_model_name": "AccordionModel",
       "_titles": {
        "0": "Log Output"
       },
       "_view_count": null,
       "_view_module": "@jupyter-widgets/controls",
       "_view_module_version": "1.5.0",
       "_view_name": "AccordionView",
       "box_style": "",
       "children": [
        "IPY_MODEL_71be7b3661aa4a669898a256e21e1277"
       ],
       "layout": "IPY_MODEL_39a080fe52804de7b4ab4e4b50833d4d",
       "selected_index": null
      }
     },
     "130e1398064a4e3783f25d0cf3731356": {
      "model_module": "@jupyter-widgets/controls",
      "model_module_version": "1.5.0",
      "model_name": "AccordionModel",
      "state": {
       "_dom_classes": [],
       "_model_module": "@jupyter-widgets/controls",
       "_model_module_version": "1.5.0",
       "_model_name": "AccordionModel",
       "_titles": {
        "0": "Log Output"
       },
       "_view_count": null,
       "_view_module": "@jupyter-widgets/controls",
       "_view_module_version": "1.5.0",
       "_view_name": "AccordionView",
       "box_style": "",
       "children": [
        "IPY_MODEL_afee37841dfa4a5e9b959721681c1238"
       ],
       "layout": "IPY_MODEL_9adab9a290da4115800f5eaed6476aee",
       "selected_index": null
      }
     },
     "14cdb9c082bc4c0ca000fd18470345d8": {
      "model_module": "@jupyter-widgets/controls",
      "model_module_version": "1.5.0",
      "model_name": "HTMLModel",
      "state": {
       "_dom_classes": [],
       "_model_module": "@jupyter-widgets/controls",
       "_model_module_version": "1.5.0",
       "_model_name": "HTMLModel",
       "_view_count": null,
       "_view_module": "@jupyter-widgets/controls",
       "_view_module_version": "1.5.0",
       "_view_name": "HTMLView",
       "description": "",
       "description_tooltip": null,
       "layout": "IPY_MODEL_7431f062e9724ef2900ae4468088d704",
       "placeholder": "​",
       "style": "IPY_MODEL_34d90ad5adf64d2da4d5a80b09f6fec1",
       "value": ""
      }
     },
     "1891c04e55a8401da8aa9c78909471ae": {
      "model_module": "@jupyter-widgets/controls",
      "model_module_version": "1.5.0",
      "model_name": "HTMLModel",
      "state": {
       "_dom_classes": [],
       "_model_module": "@jupyter-widgets/controls",
       "_model_module_version": "1.5.0",
       "_model_name": "HTMLModel",
       "_view_count": null,
       "_view_module": "@jupyter-widgets/controls",
       "_view_module_version": "1.5.0",
       "_view_name": "HTMLView",
       "description": "",
       "description_tooltip": null,
       "layout": "IPY_MODEL_865ae483eb5444098a4734d90bda6a89",
       "placeholder": "​",
       "style": "IPY_MODEL_053eab2e2f0b43f7af32e6ce3b8788be",
       "value": ""
      }
     },
     "1b71028236d047959846a65ef2acf3b5": {
      "model_module": "@jupyter-widgets/controls",
      "model_module_version": "1.5.0",
      "model_name": "AccordionModel",
      "state": {
       "_dom_classes": [],
       "_model_module": "@jupyter-widgets/controls",
       "_model_module_version": "1.5.0",
       "_model_name": "AccordionModel",
       "_titles": {
        "0": "Log Output"
       },
       "_view_count": null,
       "_view_module": "@jupyter-widgets/controls",
       "_view_module_version": "1.5.0",
       "_view_name": "AccordionView",
       "box_style": "",
       "children": [
        "IPY_MODEL_4e9e6c1b99b64c1eb71854abccdedc13"
       ],
       "layout": "IPY_MODEL_2cf095756dd84d8bb8459b0225733993",
       "selected_index": null
      }
     },
     "1d8ef908cbb54767b4bcdbe5b2b364e9": {
      "model_module": "@jupyter-widgets/base",
      "model_module_version": "1.2.0",
      "model_name": "LayoutModel",
      "state": {
       "_model_module": "@jupyter-widgets/base",
       "_model_module_version": "1.2.0",
       "_model_name": "LayoutModel",
       "_view_count": null,
       "_view_module": "@jupyter-widgets/base",
       "_view_module_version": "1.2.0",
       "_view_name": "LayoutView",
       "align_content": null,
       "align_items": null,
       "align_self": null,
       "border": null,
       "bottom": null,
       "display": null,
       "flex": null,
       "flex_flow": null,
       "grid_area": null,
       "grid_auto_columns": null,
       "grid_auto_flow": null,
       "grid_auto_rows": null,
       "grid_column": null,
       "grid_gap": null,
       "grid_row": null,
       "grid_template_areas": null,
       "grid_template_columns": null,
       "grid_template_rows": null,
       "height": null,
       "justify_content": null,
       "justify_items": null,
       "left": null,
       "margin": null,
       "max_height": null,
       "max_width": null,
       "min_height": null,
       "min_width": null,
       "object_fit": null,
       "object_position": null,
       "order": null,
       "overflow": null,
       "overflow_x": null,
       "overflow_y": null,
       "padding": null,
       "right": null,
       "top": null,
       "visibility": null,
       "width": null
      }
     },
     "2105e29d50fd4119b7c6080c02b5f0b3": {
      "model_module": "@jupyter-widgets/base",
      "model_module_version": "1.2.0",
      "model_name": "LayoutModel",
      "state": {
       "_model_module": "@jupyter-widgets/base",
       "_model_module_version": "1.2.0",
       "_model_name": "LayoutModel",
       "_view_count": null,
       "_view_module": "@jupyter-widgets/base",
       "_view_module_version": "1.2.0",
       "_view_name": "LayoutView",
       "align_content": null,
       "align_items": null,
       "align_self": null,
       "border": null,
       "bottom": null,
       "display": null,
       "flex": null,
       "flex_flow": null,
       "grid_area": null,
       "grid_auto_columns": null,
       "grid_auto_flow": null,
       "grid_auto_rows": null,
       "grid_column": null,
       "grid_gap": null,
       "grid_row": null,
       "grid_template_areas": null,
       "grid_template_columns": null,
       "grid_template_rows": null,
       "height": "16em",
       "justify_content": null,
       "justify_items": null,
       "left": null,
       "margin": null,
       "max_height": null,
       "max_width": null,
       "min_height": null,
       "min_width": null,
       "object_fit": null,
       "object_position": null,
       "order": null,
       "overflow": null,
       "overflow_x": null,
       "overflow_y": "auto",
       "padding": null,
       "right": null,
       "top": null,
       "visibility": null,
       "width": "100%"
      }
     },
     "231e9a62017446b785cd569fb791dba2": {
      "model_module": "@jupyter-widgets/controls",
      "model_module_version": "1.5.0",
      "model_name": "AccordionModel",
      "state": {
       "_dom_classes": [],
       "_model_module": "@jupyter-widgets/controls",
       "_model_module_version": "1.5.0",
       "_model_name": "AccordionModel",
       "_titles": {
        "0": "Log Output"
       },
       "_view_count": null,
       "_view_module": "@jupyter-widgets/controls",
       "_view_module_version": "1.5.0",
       "_view_name": "AccordionView",
       "box_style": "",
       "children": [
        "IPY_MODEL_411504e7f47c4c5b9a2874a87e6dc3d0"
       ],
       "layout": "IPY_MODEL_b7f898189c6f4ed7a4e0c346858270fc",
       "selected_index": null
      }
     },
     "24bd7640327247458b3a57c3559bb0af": {
      "model_module": "@jupyter-widgets/controls",
      "model_module_version": "1.5.0",
      "model_name": "DescriptionStyleModel",
      "state": {
       "_model_module": "@jupyter-widgets/controls",
       "_model_module_version": "1.5.0",
       "_model_name": "DescriptionStyleModel",
       "_view_count": null,
       "_view_module": "@jupyter-widgets/base",
       "_view_module_version": "1.2.0",
       "_view_name": "StyleView",
       "description_width": ""
      }
     },
     "2679fea9ef434d7688e85b128085959b": {
      "model_module": "@jupyter-widgets/base",
      "model_module_version": "1.2.0",
      "model_name": "LayoutModel",
      "state": {
       "_model_module": "@jupyter-widgets/base",
       "_model_module_version": "1.2.0",
       "_model_name": "LayoutModel",
       "_view_count": null,
       "_view_module": "@jupyter-widgets/base",
       "_view_module_version": "1.2.0",
       "_view_name": "LayoutView",
       "align_content": null,
       "align_items": null,
       "align_self": null,
       "border": null,
       "bottom": null,
       "display": null,
       "flex": null,
       "flex_flow": null,
       "grid_area": null,
       "grid_auto_columns": null,
       "grid_auto_flow": null,
       "grid_auto_rows": null,
       "grid_column": null,
       "grid_gap": null,
       "grid_row": null,
       "grid_template_areas": null,
       "grid_template_columns": null,
       "grid_template_rows": null,
       "height": "16em",
       "justify_content": null,
       "justify_items": null,
       "left": null,
       "margin": null,
       "max_height": null,
       "max_width": null,
       "min_height": null,
       "min_width": null,
       "object_fit": null,
       "object_position": null,
       "order": null,
       "overflow": null,
       "overflow_x": null,
       "overflow_y": "auto",
       "padding": null,
       "right": null,
       "top": null,
       "visibility": null,
       "width": "100%"
      }
     },
     "281d41ebba9b4040901fb68beedc5ec4": {
      "model_module": "@jupyter-widgets/controls",
      "model_module_version": "1.5.0",
      "model_name": "HTMLModel",
      "state": {
       "_dom_classes": [],
       "_model_module": "@jupyter-widgets/controls",
       "_model_module_version": "1.5.0",
       "_model_name": "HTMLModel",
       "_view_count": null,
       "_view_module": "@jupyter-widgets/controls",
       "_view_module_version": "1.5.0",
       "_view_name": "HTMLView",
       "description": "",
       "description_tooltip": null,
       "layout": "IPY_MODEL_2679fea9ef434d7688e85b128085959b",
       "placeholder": "​",
       "style": "IPY_MODEL_f4398d95c6f14b3ab80e765dad267cca",
       "value": ""
      }
     },
     "28698425c33b43ea92901e69ac0a95ed": {
      "model_module": "@jupyter-widgets/controls",
      "model_module_version": "1.5.0",
      "model_name": "HTMLModel",
      "state": {
       "_dom_classes": [],
       "_model_module": "@jupyter-widgets/controls",
       "_model_module_version": "1.5.0",
       "_model_name": "HTMLModel",
       "_view_count": null,
       "_view_module": "@jupyter-widgets/controls",
       "_view_module_version": "1.5.0",
       "_view_name": "HTMLView",
       "description": "",
       "description_tooltip": null,
       "layout": "IPY_MODEL_4b5e62b5229d48108b2105ce527dc80c",
       "placeholder": "​",
       "style": "IPY_MODEL_fe893b0fc016438fa636e6733f9d5309",
       "value": ""
      }
     },
     "29a7ba4c911c438594be2d4046b2d234": {
      "model_module": "@jupyter-widgets/controls",
      "model_module_version": "1.5.0",
      "model_name": "HTMLModel",
      "state": {
       "_dom_classes": [],
       "_model_module": "@jupyter-widgets/controls",
       "_model_module_version": "1.5.0",
       "_model_name": "HTMLModel",
       "_view_count": null,
       "_view_module": "@jupyter-widgets/controls",
       "_view_module_version": "1.5.0",
       "_view_name": "HTMLView",
       "description": "",
       "description_tooltip": null,
       "layout": "IPY_MODEL_2105e29d50fd4119b7c6080c02b5f0b3",
       "placeholder": "​",
       "style": "IPY_MODEL_a5369d068ff74d2eab6d41736c383c2f",
       "value": ""
      }
     },
     "2a219e5ef9d74a47a302234c97812510": {
      "model_module": "@jupyter-widgets/base",
      "model_module_version": "1.2.0",
      "model_name": "LayoutModel",
      "state": {
       "_model_module": "@jupyter-widgets/base",
       "_model_module_version": "1.2.0",
       "_model_name": "LayoutModel",
       "_view_count": null,
       "_view_module": "@jupyter-widgets/base",
       "_view_module_version": "1.2.0",
       "_view_name": "LayoutView",
       "align_content": null,
       "align_items": null,
       "align_self": null,
       "border": null,
       "bottom": null,
       "display": null,
       "flex": null,
       "flex_flow": null,
       "grid_area": null,
       "grid_auto_columns": null,
       "grid_auto_flow": null,
       "grid_auto_rows": null,
       "grid_column": null,
       "grid_gap": null,
       "grid_row": null,
       "grid_template_areas": null,
       "grid_template_columns": null,
       "grid_template_rows": null,
       "height": null,
       "justify_content": null,
       "justify_items": null,
       "left": null,
       "margin": null,
       "max_height": null,
       "max_width": null,
       "min_height": null,
       "min_width": null,
       "object_fit": null,
       "object_position": null,
       "order": null,
       "overflow": null,
       "overflow_x": null,
       "overflow_y": null,
       "padding": null,
       "right": null,
       "top": null,
       "visibility": null,
       "width": null
      }
     },
     "2b782445ba414ed29401cb1773579391": {
      "model_module": "@jupyter-widgets/base",
      "model_module_version": "1.2.0",
      "model_name": "LayoutModel",
      "state": {
       "_model_module": "@jupyter-widgets/base",
       "_model_module_version": "1.2.0",
       "_model_name": "LayoutModel",
       "_view_count": null,
       "_view_module": "@jupyter-widgets/base",
       "_view_module_version": "1.2.0",
       "_view_name": "LayoutView",
       "align_content": null,
       "align_items": null,
       "align_self": null,
       "border": null,
       "bottom": null,
       "display": null,
       "flex": null,
       "flex_flow": null,
       "grid_area": null,
       "grid_auto_columns": null,
       "grid_auto_flow": null,
       "grid_auto_rows": null,
       "grid_column": null,
       "grid_gap": null,
       "grid_row": null,
       "grid_template_areas": null,
       "grid_template_columns": null,
       "grid_template_rows": null,
       "height": null,
       "justify_content": null,
       "justify_items": null,
       "left": null,
       "margin": null,
       "max_height": null,
       "max_width": null,
       "min_height": null,
       "min_width": null,
       "object_fit": null,
       "object_position": null,
       "order": null,
       "overflow": null,
       "overflow_x": null,
       "overflow_y": null,
       "padding": null,
       "right": null,
       "top": null,
       "visibility": null,
       "width": null
      }
     },
     "2c70a478620642e7b2240d7221a700a9": {
      "model_module": "@jupyter-widgets/controls",
      "model_module_version": "1.5.0",
      "model_name": "AccordionModel",
      "state": {
       "_dom_classes": [],
       "_model_module": "@jupyter-widgets/controls",
       "_model_module_version": "1.5.0",
       "_model_name": "AccordionModel",
       "_titles": {
        "0": "Log Output"
       },
       "_view_count": null,
       "_view_module": "@jupyter-widgets/controls",
       "_view_module_version": "1.5.0",
       "_view_name": "AccordionView",
       "box_style": "",
       "children": [
        "IPY_MODEL_28698425c33b43ea92901e69ac0a95ed"
       ],
       "layout": "IPY_MODEL_2a219e5ef9d74a47a302234c97812510",
       "selected_index": null
      }
     },
     "2cf095756dd84d8bb8459b0225733993": {
      "model_module": "@jupyter-widgets/base",
      "model_module_version": "1.2.0",
      "model_name": "LayoutModel",
      "state": {
       "_model_module": "@jupyter-widgets/base",
       "_model_module_version": "1.2.0",
       "_model_name": "LayoutModel",
       "_view_count": null,
       "_view_module": "@jupyter-widgets/base",
       "_view_module_version": "1.2.0",
       "_view_name": "LayoutView",
       "align_content": null,
       "align_items": null,
       "align_self": null,
       "border": null,
       "bottom": null,
       "display": null,
       "flex": null,
       "flex_flow": null,
       "grid_area": null,
       "grid_auto_columns": null,
       "grid_auto_flow": null,
       "grid_auto_rows": null,
       "grid_column": null,
       "grid_gap": null,
       "grid_row": null,
       "grid_template_areas": null,
       "grid_template_columns": null,
       "grid_template_rows": null,
       "height": null,
       "justify_content": null,
       "justify_items": null,
       "left": null,
       "margin": null,
       "max_height": null,
       "max_width": null,
       "min_height": null,
       "min_width": null,
       "object_fit": null,
       "object_position": null,
       "order": null,
       "overflow": null,
       "overflow_x": null,
       "overflow_y": null,
       "padding": null,
       "right": null,
       "top": null,
       "visibility": null,
       "width": null
      }
     },
     "2dec302a248e4116bfd00a238edb2c93": {
      "model_module": "@jupyter-widgets/controls",
      "model_module_version": "1.5.0",
      "model_name": "HTMLModel",
      "state": {
       "_dom_classes": [],
       "_model_module": "@jupyter-widgets/controls",
       "_model_module_version": "1.5.0",
       "_model_name": "HTMLModel",
       "_view_count": null,
       "_view_module": "@jupyter-widgets/controls",
       "_view_module_version": "1.5.0",
       "_view_name": "HTMLView",
       "description": "",
       "description_tooltip": null,
       "layout": "IPY_MODEL_b738e417594843b7a42b77cbdc9ca860",
       "placeholder": "​",
       "style": "IPY_MODEL_df445bd7f0074d69816c1eb35acf70e5",
       "value": ""
      }
     },
     "30428267e45b41d59c475d5184b90e1d": {
      "model_module": "@jupyter-widgets/base",
      "model_module_version": "1.2.0",
      "model_name": "LayoutModel",
      "state": {
       "_model_module": "@jupyter-widgets/base",
       "_model_module_version": "1.2.0",
       "_model_name": "LayoutModel",
       "_view_count": null,
       "_view_module": "@jupyter-widgets/base",
       "_view_module_version": "1.2.0",
       "_view_name": "LayoutView",
       "align_content": null,
       "align_items": null,
       "align_self": null,
       "border": null,
       "bottom": null,
       "display": null,
       "flex": null,
       "flex_flow": null,
       "grid_area": null,
       "grid_auto_columns": null,
       "grid_auto_flow": null,
       "grid_auto_rows": null,
       "grid_column": null,
       "grid_gap": null,
       "grid_row": null,
       "grid_template_areas": null,
       "grid_template_columns": null,
       "grid_template_rows": null,
       "height": null,
       "justify_content": null,
       "justify_items": null,
       "left": null,
       "margin": null,
       "max_height": null,
       "max_width": null,
       "min_height": null,
       "min_width": null,
       "object_fit": null,
       "object_position": null,
       "order": null,
       "overflow": null,
       "overflow_x": null,
       "overflow_y": null,
       "padding": null,
       "right": null,
       "top": null,
       "visibility": null,
       "width": null
      }
     },
     "33579a48072a460095d304f4fb8f451e": {
      "model_module": "@jupyter-widgets/base",
      "model_module_version": "1.2.0",
      "model_name": "LayoutModel",
      "state": {
       "_model_module": "@jupyter-widgets/base",
       "_model_module_version": "1.2.0",
       "_model_name": "LayoutModel",
       "_view_count": null,
       "_view_module": "@jupyter-widgets/base",
       "_view_module_version": "1.2.0",
       "_view_name": "LayoutView",
       "align_content": null,
       "align_items": null,
       "align_self": null,
       "border": null,
       "bottom": null,
       "display": null,
       "flex": null,
       "flex_flow": null,
       "grid_area": null,
       "grid_auto_columns": null,
       "grid_auto_flow": null,
       "grid_auto_rows": null,
       "grid_column": null,
       "grid_gap": null,
       "grid_row": null,
       "grid_template_areas": null,
       "grid_template_columns": null,
       "grid_template_rows": null,
       "height": null,
       "justify_content": null,
       "justify_items": null,
       "left": null,
       "margin": null,
       "max_height": null,
       "max_width": null,
       "min_height": null,
       "min_width": null,
       "object_fit": null,
       "object_position": null,
       "order": null,
       "overflow": null,
       "overflow_x": null,
       "overflow_y": null,
       "padding": null,
       "right": null,
       "top": null,
       "visibility": null,
       "width": null
      }
     },
     "34d90ad5adf64d2da4d5a80b09f6fec1": {
      "model_module": "@jupyter-widgets/controls",
      "model_module_version": "1.5.0",
      "model_name": "DescriptionStyleModel",
      "state": {
       "_model_module": "@jupyter-widgets/controls",
       "_model_module_version": "1.5.0",
       "_model_name": "DescriptionStyleModel",
       "_view_count": null,
       "_view_module": "@jupyter-widgets/base",
       "_view_module_version": "1.2.0",
       "_view_name": "StyleView",
       "description_width": ""
      }
     },
     "35e0af13c3624eff87c9a7aae8300121": {
      "model_module": "@jupyter-widgets/output",
      "model_module_version": "1.0.0",
      "model_name": "OutputModel",
      "state": {
       "_dom_classes": [],
       "_model_module": "@jupyter-widgets/output",
       "_model_module_version": "1.0.0",
       "_model_name": "OutputModel",
       "_view_count": null,
       "_view_module": "@jupyter-widgets/output",
       "_view_module_version": "1.0.0",
       "_view_name": "OutputView",
       "layout": "IPY_MODEL_7c30ab5c3089465084ca6407ab7bdf96",
       "msg_id": "",
       "outputs": [
        {
         "data": {
          "application/vnd.jupyter.widget-view+json": {
           "model_id": "bfee828f020b47ca82e3fc3d80cba4ef",
           "version_major": 2,
           "version_minor": 0
          },
          "text/plain": "VTKPlot(antialias=3, axes=['x', 'y', 'z'], background_color=16777215, camera=[4.5, 4.5, 4.5, 0.0, 0.0, 0.0, 1.…"
         },
         "metadata": {},
         "output_type": "display_data"
        }
       ]
      }
     },
     "36df889856fa46dab8a5956f27edef10": {
      "model_module": "@jupyter-widgets/base",
      "model_module_version": "1.2.0",
      "model_name": "LayoutModel",
      "state": {
       "_model_module": "@jupyter-widgets/base",
       "_model_module_version": "1.2.0",
       "_model_name": "LayoutModel",
       "_view_count": null,
       "_view_module": "@jupyter-widgets/base",
       "_view_module_version": "1.2.0",
       "_view_name": "LayoutView",
       "align_content": null,
       "align_items": null,
       "align_self": null,
       "border": null,
       "bottom": null,
       "display": null,
       "flex": null,
       "flex_flow": null,
       "grid_area": null,
       "grid_auto_columns": null,
       "grid_auto_flow": null,
       "grid_auto_rows": null,
       "grid_column": null,
       "grid_gap": null,
       "grid_row": null,
       "grid_template_areas": null,
       "grid_template_columns": null,
       "grid_template_rows": null,
       "height": null,
       "justify_content": null,
       "justify_items": null,
       "left": null,
       "margin": null,
       "max_height": null,
       "max_width": null,
       "min_height": null,
       "min_width": null,
       "object_fit": null,
       "object_position": null,
       "order": null,
       "overflow": null,
       "overflow_x": null,
       "overflow_y": null,
       "padding": null,
       "right": null,
       "top": null,
       "visibility": null,
       "width": null
      }
     },
     "39a080fe52804de7b4ab4e4b50833d4d": {
      "model_module": "@jupyter-widgets/base",
      "model_module_version": "1.2.0",
      "model_name": "LayoutModel",
      "state": {
       "_model_module": "@jupyter-widgets/base",
       "_model_module_version": "1.2.0",
       "_model_name": "LayoutModel",
       "_view_count": null,
       "_view_module": "@jupyter-widgets/base",
       "_view_module_version": "1.2.0",
       "_view_name": "LayoutView",
       "align_content": null,
       "align_items": null,
       "align_self": null,
       "border": null,
       "bottom": null,
       "display": null,
       "flex": null,
       "flex_flow": null,
       "grid_area": null,
       "grid_auto_columns": null,
       "grid_auto_flow": null,
       "grid_auto_rows": null,
       "grid_column": null,
       "grid_gap": null,
       "grid_row": null,
       "grid_template_areas": null,
       "grid_template_columns": null,
       "grid_template_rows": null,
       "height": null,
       "justify_content": null,
       "justify_items": null,
       "left": null,
       "margin": null,
       "max_height": null,
       "max_width": null,
       "min_height": null,
       "min_width": null,
       "object_fit": null,
       "object_position": null,
       "order": null,
       "overflow": null,
       "overflow_x": null,
       "overflow_y": null,
       "padding": null,
       "right": null,
       "top": null,
       "visibility": null,
       "width": null
      }
     },
     "39ede1636c8e4856847252fdc97d2ac3": {
      "model_module": "@jupyter-widgets/controls",
      "model_module_version": "1.5.0",
      "model_name": "AccordionModel",
      "state": {
       "_dom_classes": [],
       "_model_module": "@jupyter-widgets/controls",
       "_model_module_version": "1.5.0",
       "_model_name": "AccordionModel",
       "_titles": {
        "0": "Log Output"
       },
       "_view_count": null,
       "_view_module": "@jupyter-widgets/controls",
       "_view_module_version": "1.5.0",
       "_view_name": "AccordionView",
       "box_style": "",
       "children": [
        "IPY_MODEL_4da177bc31994eb1a46c579ce596d89b"
       ],
       "layout": "IPY_MODEL_8a635c6103914bbdba9d44ac659328b9",
       "selected_index": null
      }
     },
     "3a0a312017ef4879bb629030fff3e0fd": {
      "buffers": [
       {
        "data": "AAAAAAAAAAAAAAAAAAAAAAAAAAAAAAAAAAAAAAAAAAAAAAAAAAAAAAAAAAAAAAAAAAAAPwAAAAAAAAAAAAAAAAAAAAAAAAAAAAAAAAAAAAAAAAAAAAAAAAAAAAAAAAA/AAAAAAAAAAAAAAAAAAAAAAAAAAAAAAA/AAAAPwAAAAAAAAAAAAAAAAAAAAAAAAAAAACAPwAAAD8AAAAAAAAAAAAAAD8AAAAAAAAAAAAAAD8AAAAAAAAAAAAAAD8AAIA/",
        "encoding": "base64",
        "path": [
         "attribute",
         "buffer"
        ]
       },
       {
        "data": "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",
        "encoding": "base64",
        "path": [
         "color_map",
         "buffer"
        ]
       },
       {
        "data": "AAAAAAEAAAACAAAAAwAAAAQAAAAFAAAABgAAAAcAAAAIAAAACQAAAAoAAAALAAAADAAAAA0AAAAOAAAADwAAABAAAAARAAAAEgAAABMAAAAUAAAAFQAAABYAAAAXAAAAGAAAABkAAAAaAAAAGwAAABwAAAAdAAAAHgAAAB8AAAAgAAAAIQAAACIAAAAjAAAAJAAAACUAAAAmAAAAJwAAACgAAAApAAAAKgAAACsAAAAsAAAALQAAAC4AAAAvAAAA",
        "encoding": "base64",
        "path": [
         "indices",
         "buffer"
        ]
       },
       {
        "data": "AACAPwAAAAAAAAAAAAAAAAAAAAAAAIA/AAAAAAAAAAAAAAAAAAAAAAAAgD8AAAAAAAAAAAAAAAAAAAAAAACAPw==",
        "encoding": "base64",
        "path": [
         "model_matrix",
         "buffer"
        ]
       },
       {
        "data": "AAAAPwAAAD8AAAAAAAAAPwAAAAAAAAAAAACAPgAAgD4AAAAAAACAPgAAgD4AAAAAAAAAPwAAAAAAAAAAAAAAAAAAAAAAAAAAAAAAAAAAAAAAAAAAAAAAAAAAAD8AAAAAAACAPgAAgD4AAAAAAACAPgAAgD4AAAAAAAAAAAAAAD8AAAAAAAAAPwAAAD8AAAAAAACAPwAAAD8AAAAAAACAPwAAAAAAAAAAAABAPwAAgD4AAAAAAABAPwAAgD4AAAAAAACAPwAAAAAAAAAAAAAAPwAAAAAAAAAAAAAAPwAAAAAAAAAAAAAAPwAAAD8AAAAAAABAPwAAgD4AAAAAAABAPwAAgD4AAAAAAAAAPwAAAD8AAAAAAACAPwAAAD8AAAAAAAAAAAAAAD8AAAAAAAAAAAAAgD8AAAAAAACAPgAAQD8AAAAAAACAPgAAQD8AAAAAAAAAAAAAgD8AAAAAAAAAPwAAgD8AAAAAAAAAPwAAgD8AAAAAAAAAPwAAAD8AAAAAAACAPgAAQD8AAAAAAACAPgAAQD8AAAAAAAAAPwAAAD8AAAAAAAAAAAAAAD8AAAAAAACAPwAAgD8AAAAAAACAPwAAAD8AAAAAAABAPwAAQD8AAAAAAABAPwAAQD8AAAAAAACAPwAAAD8AAAAAAAAAPwAAAD8AAAAAAAAAPwAAAD8AAAAAAAAAPwAAgD8AAAAAAABAPwAAQD8AAAAAAABAPwAAQD8AAAAAAAAAPwAAgD8AAAAAAACAPwAAgD8AAAAA",
        "encoding": "base64",
        "path": [
         "vertices",
         "buffer"
        ]
       }
      ],
      "model_module": "k3d",
      "model_module_version": "2.6.6",
      "model_name": "ObjectModel",
      "state": {
       "_model_module": "k3d",
       "_model_module_version": "2.6.6",
       "_model_name": "ObjectModel",
       "_view_count": null,
       "_view_module": null,
       "_view_module_version": "",
       "_view_name": null,
       "attribute": {
        "dtype": "float32",
        "shape": [
         48
        ]
       },
       "color": 255,
       "color_map": {
        "dtype": "float32",
        "shape": [
         256,
         4
        ]
       },
       "color_range": [
        0.0,
        1.0
       ],
       "compression_level": 0,
       "flat_shading": false,
       "id": 140434212906944,
       "indices": {
        "dtype": "uint32",
        "shape": [
         16,
         3
        ]
       },
       "model_matrix": {
        "dtype": "float32",
        "shape": [
         4,
         4
        ]
       },
       "name": null,
       "opacity": 1.0,
       "type": "Mesh",
       "vertices": {
        "dtype": "float32",
        "shape": [
         48,
         3
        ]
       },
       "visible": true,
       "wireframe": false
      }
     },
     "3a8422fddb6c427f998621b87f7dcfec": {
      "model_module": "@jupyter-widgets/controls",
      "model_module_version": "1.5.0",
      "model_name": "AccordionModel",
      "state": {
       "_dom_classes": [],
       "_model_module": "@jupyter-widgets/controls",
       "_model_module_version": "1.5.0",
       "_model_name": "AccordionModel",
       "_titles": {
        "0": "Log Output"
       },
       "_view_count": null,
       "_view_module": "@jupyter-widgets/controls",
       "_view_module_version": "1.5.0",
       "_view_name": "AccordionView",
       "box_style": "",
       "children": [
        "IPY_MODEL_d92afae58f5c4d1188f32a302a502131"
       ],
       "layout": "IPY_MODEL_93b33772cb7048a1a79887c39f0a9d54",
       "selected_index": null
      }
     },
     "3cab8ed18f59405ebed122e9da7d86e6": {
      "model_module": "@jupyter-widgets/controls",
      "model_module_version": "1.5.0",
      "model_name": "AccordionModel",
      "state": {
       "_dom_classes": [],
       "_model_module": "@jupyter-widgets/controls",
       "_model_module_version": "1.5.0",
       "_model_name": "AccordionModel",
       "_titles": {
        "0": "Log Output"
       },
       "_view_count": null,
       "_view_module": "@jupyter-widgets/controls",
       "_view_module_version": "1.5.0",
       "_view_name": "AccordionView",
       "box_style": "",
       "children": [
        "IPY_MODEL_281d41ebba9b4040901fb68beedc5ec4"
       ],
       "layout": "IPY_MODEL_1d8ef908cbb54767b4bcdbe5b2b364e9",
       "selected_index": null
      }
     },
     "3d33cbf9527f4115b4c7c6838bb566cc": {
      "model_module": "@jupyter-widgets/controls",
      "model_module_version": "1.5.0",
      "model_name": "HTMLModel",
      "state": {
       "_dom_classes": [],
       "_model_module": "@jupyter-widgets/controls",
       "_model_module_version": "1.5.0",
       "_model_name": "HTMLModel",
       "_view_count": null,
       "_view_module": "@jupyter-widgets/controls",
       "_view_module_version": "1.5.0",
       "_view_name": "HTMLView",
       "description": "",
       "description_tooltip": null,
       "layout": "IPY_MODEL_05af31172e014f9ab22cf0ed30647b59",
       "placeholder": "​",
       "style": "IPY_MODEL_697f748fb5ec4a08b0928ea25f36eea7",
       "value": ""
      }
     },
     "3d9ffadc28ef418a8ac40808f33f53c4": {
      "model_module": "@jupyter-widgets/controls",
      "model_module_version": "1.5.0",
      "model_name": "AccordionModel",
      "state": {
       "_dom_classes": [],
       "_model_module": "@jupyter-widgets/controls",
       "_model_module_version": "1.5.0",
       "_model_name": "AccordionModel",
       "_titles": {
        "0": "Log Output"
       },
       "_view_count": null,
       "_view_module": "@jupyter-widgets/controls",
       "_view_module_version": "1.5.0",
       "_view_name": "AccordionView",
       "box_style": "",
       "children": [
        "IPY_MODEL_c8b3c830524541e1a1e08e3161a92aba"
       ],
       "layout": "IPY_MODEL_10fa45b9d8184bfda8d1cbb53338753e",
       "selected_index": null
      }
     },
     "3ddb5e96990f4141819c9a21257fb55a": {
      "model_module": "@jupyter-widgets/output",
      "model_module_version": "1.0.0",
      "model_name": "OutputModel",
      "state": {
       "_dom_classes": [],
       "_model_module": "@jupyter-widgets/output",
       "_model_module_version": "1.0.0",
       "_model_name": "OutputModel",
       "_view_count": null,
       "_view_module": "@jupyter-widgets/output",
       "_view_module_version": "1.0.0",
       "_view_name": "OutputView",
       "layout": "IPY_MODEL_e9b7302e001c4c518188d3b458c79179",
       "msg_id": "",
       "outputs": [
        {
         "data": {
          "application/vnd.jupyter.widget-view+json": {
           "model_id": "7d10902cbb504ba6bdfa0a761607f5c8",
           "version_major": 2,
           "version_minor": 0
          },
          "text/plain": "VTKPlot(antialias=3, axes=['x', 'y', 'z'], background_color=16777215, camera=[4.5, 4.5, 4.5, 0.0, 0.0, 0.0, 1.…"
         },
         "metadata": {},
         "output_type": "display_data"
        }
       ]
      }
     },
     "3e187bfe71984dca9fe2ccc32ea23e09": {
      "model_module": "@jupyter-widgets/controls",
      "model_module_version": "1.5.0",
      "model_name": "DescriptionStyleModel",
      "state": {
       "_model_module": "@jupyter-widgets/controls",
       "_model_module_version": "1.5.0",
       "_model_name": "DescriptionStyleModel",
       "_view_count": null,
       "_view_module": "@jupyter-widgets/base",
       "_view_module_version": "1.2.0",
       "_view_name": "StyleView",
       "description_width": ""
      }
     },
     "411504e7f47c4c5b9a2874a87e6dc3d0": {
      "model_module": "@jupyter-widgets/controls",
      "model_module_version": "1.5.0",
      "model_name": "HTMLModel",
      "state": {
       "_dom_classes": [],
       "_model_module": "@jupyter-widgets/controls",
       "_model_module_version": "1.5.0",
       "_model_name": "HTMLModel",
       "_view_count": null,
       "_view_module": "@jupyter-widgets/controls",
       "_view_module_version": "1.5.0",
       "_view_name": "HTMLView",
       "description": "",
       "description_tooltip": null,
       "layout": "IPY_MODEL_aa599b99c1ca448597f3f2a90a270fe0",
       "placeholder": "​",
       "style": "IPY_MODEL_c73b16d9f3d1479e857081eb52812332",
       "value": ""
      }
     },
     "41434ced388c49f5a6c74c1da77fb2f5": {
      "model_module": "@jupyter-widgets/base",
      "model_module_version": "1.2.0",
      "model_name": "LayoutModel",
      "state": {
       "_model_module": "@jupyter-widgets/base",
       "_model_module_version": "1.2.0",
       "_model_name": "LayoutModel",
       "_view_count": null,
       "_view_module": "@jupyter-widgets/base",
       "_view_module_version": "1.2.0",
       "_view_name": "LayoutView",
       "align_content": null,
       "align_items": null,
       "align_self": null,
       "border": null,
       "bottom": null,
       "display": null,
       "flex": null,
       "flex_flow": null,
       "grid_area": null,
       "grid_auto_columns": null,
       "grid_auto_flow": null,
       "grid_auto_rows": null,
       "grid_column": null,
       "grid_gap": null,
       "grid_row": null,
       "grid_template_areas": null,
       "grid_template_columns": null,
       "grid_template_rows": null,
       "height": null,
       "justify_content": null,
       "justify_items": null,
       "left": null,
       "margin": null,
       "max_height": null,
       "max_width": null,
       "min_height": null,
       "min_width": null,
       "object_fit": null,
       "object_position": null,
       "order": null,
       "overflow": null,
       "overflow_x": null,
       "overflow_y": null,
       "padding": null,
       "right": null,
       "top": null,
       "visibility": null,
       "width": null
      }
     },
     "41c570bc77ba43e7a1cf26c55afc3ef1": {
      "model_module": "@jupyter-widgets/output",
      "model_module_version": "1.0.0",
      "model_name": "OutputModel",
      "state": {
       "_dom_classes": [],
       "_model_module": "@jupyter-widgets/output",
       "_model_module_version": "1.0.0",
       "_model_name": "OutputModel",
       "_view_count": null,
       "_view_module": "@jupyter-widgets/output",
       "_view_module_version": "1.0.0",
       "_view_name": "OutputView",
       "layout": "IPY_MODEL_b6674c6d6f044610b582ebcc48784892",
       "msg_id": "",
       "outputs": [
        {
         "data": {
          "application/vnd.jupyter.widget-view+json": {
           "model_id": "7caa4b5e20f94ba2976f28c5f7aef320",
           "version_major": 2,
           "version_minor": 0
          },
          "text/plain": "VTKPlot(antialias=3, axes=['x', 'y', 'z'], background_color=16777215, camera=[4.5, 4.5, 4.5, 0.0, 0.0, 0.0, 1.…"
         },
         "metadata": {},
         "output_type": "display_data"
        }
       ]
      }
     },
     "434055e954f44381b92683f55c3b8e43": {
      "model_module": "@jupyter-widgets/base",
      "model_module_version": "1.2.0",
      "model_name": "LayoutModel",
      "state": {
       "_model_module": "@jupyter-widgets/base",
       "_model_module_version": "1.2.0",
       "_model_name": "LayoutModel",
       "_view_count": null,
       "_view_module": "@jupyter-widgets/base",
       "_view_module_version": "1.2.0",
       "_view_name": "LayoutView",
       "align_content": null,
       "align_items": null,
       "align_self": null,
       "border": null,
       "bottom": null,
       "display": null,
       "flex": null,
       "flex_flow": null,
       "grid_area": null,
       "grid_auto_columns": null,
       "grid_auto_flow": null,
       "grid_auto_rows": null,
       "grid_column": null,
       "grid_gap": null,
       "grid_row": null,
       "grid_template_areas": null,
       "grid_template_columns": null,
       "grid_template_rows": null,
       "height": "16em",
       "justify_content": null,
       "justify_items": null,
       "left": null,
       "margin": null,
       "max_height": null,
       "max_width": null,
       "min_height": null,
       "min_width": null,
       "object_fit": null,
       "object_position": null,
       "order": null,
       "overflow": null,
       "overflow_x": null,
       "overflow_y": "auto",
       "padding": null,
       "right": null,
       "top": null,
       "visibility": null,
       "width": "100%"
      }
     },
     "434c8aaaba4e4f7fbc84696f6e8b0b73": {
      "model_module": "@jupyter-widgets/controls",
      "model_module_version": "1.5.0",
      "model_name": "DescriptionStyleModel",
      "state": {
       "_model_module": "@jupyter-widgets/controls",
       "_model_module_version": "1.5.0",
       "_model_name": "DescriptionStyleModel",
       "_view_count": null,
       "_view_module": "@jupyter-widgets/base",
       "_view_module_version": "1.2.0",
       "_view_name": "StyleView",
       "description_width": ""
      }
     },
     "47842454a35a464ba684ee07f3b8adbd": {
      "model_module": "@jupyter-widgets/base",
      "model_module_version": "1.2.0",
      "model_name": "LayoutModel",
      "state": {
       "_model_module": "@jupyter-widgets/base",
       "_model_module_version": "1.2.0",
       "_model_name": "LayoutModel",
       "_view_count": null,
       "_view_module": "@jupyter-widgets/base",
       "_view_module_version": "1.2.0",
       "_view_name": "LayoutView",
       "align_content": null,
       "align_items": null,
       "align_self": null,
       "border": null,
       "bottom": null,
       "display": null,
       "flex": null,
       "flex_flow": null,
       "grid_area": null,
       "grid_auto_columns": null,
       "grid_auto_flow": null,
       "grid_auto_rows": null,
       "grid_column": null,
       "grid_gap": null,
       "grid_row": null,
       "grid_template_areas": null,
       "grid_template_columns": null,
       "grid_template_rows": null,
       "height": "16em",
       "justify_content": null,
       "justify_items": null,
       "left": null,
       "margin": null,
       "max_height": null,
       "max_width": null,
       "min_height": null,
       "min_width": null,
       "object_fit": null,
       "object_position": null,
       "order": null,
       "overflow": null,
       "overflow_x": null,
       "overflow_y": "auto",
       "padding": null,
       "right": null,
       "top": null,
       "visibility": null,
       "width": "100%"
      }
     },
     "4969bcfaf01f486399b67919691dfb07": {
      "model_module": "@jupyter-widgets/base",
      "model_module_version": "1.2.0",
      "model_name": "LayoutModel",
      "state": {
       "_model_module": "@jupyter-widgets/base",
       "_model_module_version": "1.2.0",
       "_model_name": "LayoutModel",
       "_view_count": null,
       "_view_module": "@jupyter-widgets/base",
       "_view_module_version": "1.2.0",
       "_view_name": "LayoutView",
       "align_content": null,
       "align_items": null,
       "align_self": null,
       "border": null,
       "bottom": null,
       "display": null,
       "flex": null,
       "flex_flow": null,
       "grid_area": null,
       "grid_auto_columns": null,
       "grid_auto_flow": null,
       "grid_auto_rows": null,
       "grid_column": null,
       "grid_gap": null,
       "grid_row": null,
       "grid_template_areas": null,
       "grid_template_columns": null,
       "grid_template_rows": null,
       "height": null,
       "justify_content": null,
       "justify_items": null,
       "left": null,
       "margin": null,
       "max_height": null,
       "max_width": null,
       "min_height": null,
       "min_width": null,
       "object_fit": null,
       "object_position": null,
       "order": null,
       "overflow": null,
       "overflow_x": null,
       "overflow_y": null,
       "padding": null,
       "right": null,
       "top": null,
       "visibility": null,
       "width": null
      }
     },
     "4b5e62b5229d48108b2105ce527dc80c": {
      "model_module": "@jupyter-widgets/base",
      "model_module_version": "1.2.0",
      "model_name": "LayoutModel",
      "state": {
       "_model_module": "@jupyter-widgets/base",
       "_model_module_version": "1.2.0",
       "_model_name": "LayoutModel",
       "_view_count": null,
       "_view_module": "@jupyter-widgets/base",
       "_view_module_version": "1.2.0",
       "_view_name": "LayoutView",
       "align_content": null,
       "align_items": null,
       "align_self": null,
       "border": null,
       "bottom": null,
       "display": null,
       "flex": null,
       "flex_flow": null,
       "grid_area": null,
       "grid_auto_columns": null,
       "grid_auto_flow": null,
       "grid_auto_rows": null,
       "grid_column": null,
       "grid_gap": null,
       "grid_row": null,
       "grid_template_areas": null,
       "grid_template_columns": null,
       "grid_template_rows": null,
       "height": "16em",
       "justify_content": null,
       "justify_items": null,
       "left": null,
       "margin": null,
       "max_height": null,
       "max_width": null,
       "min_height": null,
       "min_width": null,
       "object_fit": null,
       "object_position": null,
       "order": null,
       "overflow": null,
       "overflow_x": null,
       "overflow_y": "auto",
       "padding": null,
       "right": null,
       "top": null,
       "visibility": null,
       "width": "100%"
      }
     },
     "4b9577cd398e4332874551f3eda2e9c9": {
      "buffers": [
       {
        "data": "RnK3PgAAAACw5+Q9sOfkPQAAAAAAAAAAAAAAAAAAAACw5+Q9sOfkPQAAAABGcrc+AAAAPwAAAABgj3U+YI91PgAAAAAAAAAAAAAAAEZytz5gj3U+YI91PkZytz4AAAA/AAAAAAAAAABgj3U+YI91PgAAAAAAAAA/AAAAP0Zytz5gj3U+YI91PkZytz4AAAAAAACAPwAAAD/mWyA/5lsgPwAAAD9Gcrc+RnK3PgAAAD/mWyA/5lsgPwAAAD8AAIA/",
        "encoding": "base64",
        "path": [
         "attribute",
         "buffer"
        ]
       },
       {
        "data": "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",
        "encoding": "base64",
        "path": [
         "color_map",
         "buffer"
        ]
       },
       {
        "data": "AAAAAAEAAAACAAAAAwAAAAQAAAAFAAAABgAAAAcAAAAIAAAACQAAAAoAAAALAAAADAAAAA0AAAAOAAAADwAAABAAAAARAAAAEgAAABMAAAAUAAAAFQAAABYAAAAXAAAAGAAAABkAAAAaAAAAGwAAABwAAAAdAAAAHgAAAB8AAAAgAAAAIQAAACIAAAAjAAAAJAAAACUAAAAmAAAAJwAAACgAAAApAAAAKgAAACsAAAAsAAAALQAAAC4AAAAvAAAA",
        "encoding": "base64",
        "path": [
         "indices",
         "buffer"
        ]
       },
       {
        "data": "AACAPwAAAAAAAAAAAAAAAAAAAAAAAIA/AAAAAAAAAAAAAAAAAAAAAAAAgD8AAAAAAAAAAAAAAAAAAAAAAACAPw==",
        "encoding": "base64",
        "path": [
         "model_matrix",
         "buffer"
        ]
       },
       {
        "data": "AAAAPwAAAD8AAAAAAAAAPwAAAAAAAAAAAACAPgAAgD4AAAAAAACAPgAAgD4AAAAAAAAAPwAAAAAAAAAAAAAAAAAAAAAAAAAAAAAAAAAAAAAAAAAAAAAAAAAAAD8AAAAAAACAPgAAgD4AAAAAAACAPgAAgD4AAAAAAAAAAAAAAD8AAAAAAAAAPwAAAD8AAAAAAACAPwAAAD8AAAAAAACAPwAAAAAAAAAAAABAPwAAgD4AAAAAAABAPwAAgD4AAAAAAACAPwAAAAAAAAAAAAAAPwAAAAAAAAAAAAAAPwAAAAAAAAAAAAAAPwAAAD8AAAAAAABAPwAAgD4AAAAAAABAPwAAgD4AAAAAAAAAPwAAAD8AAAAAAACAPwAAAD8AAAAAAAAAAAAAAD8AAAAAAAAAAAAAgD8AAAAAAACAPgAAQD8AAAAAAACAPgAAQD8AAAAAAAAAAAAAgD8AAAAAAAAAPwAAgD8AAAAAAAAAPwAAgD8AAAAAAAAAPwAAAD8AAAAAAACAPgAAQD8AAAAAAACAPgAAQD8AAAAAAAAAPwAAAD8AAAAAAAAAAAAAAD8AAAAAAACAPwAAgD8AAAAAAACAPwAAAD8AAAAAAABAPwAAQD8AAAAAAABAPwAAQD8AAAAAAACAPwAAAD8AAAAAAAAAPwAAAD8AAAAAAAAAPwAAAD8AAAAAAAAAPwAAgD8AAAAAAABAPwAAQD8AAAAAAABAPwAAQD8AAAAAAAAAPwAAgD8AAAAAAACAPwAAgD8AAAAA",
        "encoding": "base64",
        "path": [
         "vertices",
         "buffer"
        ]
       }
      ],
      "model_module": "k3d",
      "model_module_version": "2.6.6",
      "model_name": "ObjectModel",
      "state": {
       "_model_module": "k3d",
       "_model_module_version": "2.6.6",
       "_model_name": "ObjectModel",
       "_view_count": null,
       "_view_module": null,
       "_view_module_version": "",
       "_view_name": null,
       "attribute": {
        "dtype": "float32",
        "shape": [
         48
        ]
       },
       "color": 255,
       "color_map": {
        "dtype": "float32",
        "shape": [
         256,
         4
        ]
       },
       "color_range": [
        0.0,
        1.0
       ],
       "compression_level": 0,
       "flat_shading": false,
       "id": 140434213002160,
       "indices": {
        "dtype": "uint32",
        "shape": [
         16,
         3
        ]
       },
       "model_matrix": {
        "dtype": "float32",
        "shape": [
         4,
         4
        ]
       },
       "name": null,
       "opacity": 1.0,
       "type": "Mesh",
       "vertices": {
        "dtype": "float32",
        "shape": [
         48,
         3
        ]
       },
       "visible": true,
       "wireframe": false
      }
     },
     "4da177bc31994eb1a46c579ce596d89b": {
      "model_module": "@jupyter-widgets/controls",
      "model_module_version": "1.5.0",
      "model_name": "HTMLModel",
      "state": {
       "_dom_classes": [],
       "_model_module": "@jupyter-widgets/controls",
       "_model_module_version": "1.5.0",
       "_model_name": "HTMLModel",
       "_view_count": null,
       "_view_module": "@jupyter-widgets/controls",
       "_view_module_version": "1.5.0",
       "_view_name": "HTMLView",
       "description": "",
       "description_tooltip": null,
       "layout": "IPY_MODEL_c5380d366a4b441db917b45c5d5d7eae",
       "placeholder": "​",
       "style": "IPY_MODEL_c19181bdae5842d4ade398751a4283e3",
       "value": ""
      }
     },
     "4e9e6c1b99b64c1eb71854abccdedc13": {
      "model_module": "@jupyter-widgets/controls",
      "model_module_version": "1.5.0",
      "model_name": "HTMLModel",
      "state": {
       "_dom_classes": [],
       "_model_module": "@jupyter-widgets/controls",
       "_model_module_version": "1.5.0",
       "_model_name": "HTMLModel",
       "_view_count": null,
       "_view_module": "@jupyter-widgets/controls",
       "_view_module_version": "1.5.0",
       "_view_name": "HTMLView",
       "description": "",
       "description_tooltip": null,
       "layout": "IPY_MODEL_721ceb9f05b844ccb34ee9e357e035d9",
       "placeholder": "​",
       "style": "IPY_MODEL_ab60ef287c544d31b37283872c36dbec",
       "value": ""
      }
     },
     "563bf48da4044b53b08ad4348d2d01e0": {
      "model_module": "@jupyter-widgets/controls",
      "model_module_version": "1.5.0",
      "model_name": "HTMLModel",
      "state": {
       "_dom_classes": [],
       "_model_module": "@jupyter-widgets/controls",
       "_model_module_version": "1.5.0",
       "_model_name": "HTMLModel",
       "_view_count": null,
       "_view_module": "@jupyter-widgets/controls",
       "_view_module_version": "1.5.0",
       "_view_name": "HTMLView",
       "description": "",
       "description_tooltip": null,
       "layout": "IPY_MODEL_7f9aa3e491ca4a2f83608aa6a6a73c2d",
       "placeholder": "​",
       "style": "IPY_MODEL_f0e32b062d6741f98ef9c5a8bff7bbca",
       "value": ""
      }
     },
     "5bab6842d71f447eadcdd6db01cc1551": {
      "model_module": "@jupyter-widgets/controls",
      "model_module_version": "1.5.0",
      "model_name": "AccordionModel",
      "state": {
       "_dom_classes": [],
       "_model_module": "@jupyter-widgets/controls",
       "_model_module_version": "1.5.0",
       "_model_name": "AccordionModel",
       "_titles": {
        "0": "Log Output"
       },
       "_view_count": null,
       "_view_module": "@jupyter-widgets/controls",
       "_view_module_version": "1.5.0",
       "_view_name": "AccordionView",
       "box_style": "",
       "children": [
        "IPY_MODEL_14cdb9c082bc4c0ca000fd18470345d8"
       ],
       "layout": "IPY_MODEL_2b782445ba414ed29401cb1773579391",
       "selected_index": null
      }
     },
     "5db5d04510fb40b19c1bc10455b1644d": {
      "model_module": "@jupyter-widgets/output",
      "model_module_version": "1.0.0",
      "model_name": "OutputModel",
      "state": {
       "_dom_classes": [],
       "_model_module": "@jupyter-widgets/output",
       "_model_module_version": "1.0.0",
       "_model_name": "OutputModel",
       "_view_count": null,
       "_view_module": "@jupyter-widgets/output",
       "_view_module_version": "1.0.0",
       "_view_name": "OutputView",
       "layout": "IPY_MODEL_00def46a19ca4bb39effaf49cc42a620",
       "msg_id": "",
       "outputs": [
        {
         "data": {
          "application/vnd.jupyter.widget-view+json": {
           "model_id": "9e15fd607c694733b69f73b866cb8d89",
           "version_major": 2,
           "version_minor": 0
          },
          "text/plain": "VTKPlot(antialias=3, axes=['x', 'y', 'z'], background_color=16777215, camera=[4.5, 4.5, 4.5, 0.0, 0.0, 0.0, 1.…"
         },
         "metadata": {},
         "output_type": "display_data"
        }
       ]
      }
     },
     "5fe7a34af21c4eda892a1850eaa3d170": {
      "model_module": "@jupyter-widgets/controls",
      "model_module_version": "1.5.0",
      "model_name": "DescriptionStyleModel",
      "state": {
       "_model_module": "@jupyter-widgets/controls",
       "_model_module_version": "1.5.0",
       "_model_name": "DescriptionStyleModel",
       "_view_count": null,
       "_view_module": "@jupyter-widgets/base",
       "_view_module_version": "1.2.0",
       "_view_name": "StyleView",
       "description_width": ""
      }
     },
     "62f87629473445b1bc079d1e1513ba26": {
      "model_module": "@jupyter-widgets/base",
      "model_module_version": "1.2.0",
      "model_name": "LayoutModel",
      "state": {
       "_model_module": "@jupyter-widgets/base",
       "_model_module_version": "1.2.0",
       "_model_name": "LayoutModel",
       "_view_count": null,
       "_view_module": "@jupyter-widgets/base",
       "_view_module_version": "1.2.0",
       "_view_name": "LayoutView",
       "align_content": null,
       "align_items": null,
       "align_self": null,
       "border": null,
       "bottom": null,
       "display": null,
       "flex": null,
       "flex_flow": null,
       "grid_area": null,
       "grid_auto_columns": null,
       "grid_auto_flow": null,
       "grid_auto_rows": null,
       "grid_column": null,
       "grid_gap": null,
       "grid_row": null,
       "grid_template_areas": null,
       "grid_template_columns": null,
       "grid_template_rows": null,
       "height": "16em",
       "justify_content": null,
       "justify_items": null,
       "left": null,
       "margin": null,
       "max_height": null,
       "max_width": null,
       "min_height": null,
       "min_width": null,
       "object_fit": null,
       "object_position": null,
       "order": null,
       "overflow": null,
       "overflow_x": null,
       "overflow_y": "auto",
       "padding": null,
       "right": null,
       "top": null,
       "visibility": null,
       "width": "100%"
      }
     },
     "64cb017c62b14e5fbc6b6a4a33746e44": {
      "model_module": "@jupyter-widgets/controls",
      "model_module_version": "1.5.0",
      "model_name": "DescriptionStyleModel",
      "state": {
       "_model_module": "@jupyter-widgets/controls",
       "_model_module_version": "1.5.0",
       "_model_name": "DescriptionStyleModel",
       "_view_count": null,
       "_view_module": "@jupyter-widgets/base",
       "_view_module_version": "1.2.0",
       "_view_name": "StyleView",
       "description_width": ""
      }
     },
     "697f748fb5ec4a08b0928ea25f36eea7": {
      "model_module": "@jupyter-widgets/controls",
      "model_module_version": "1.5.0",
      "model_name": "DescriptionStyleModel",
      "state": {
       "_model_module": "@jupyter-widgets/controls",
       "_model_module_version": "1.5.0",
       "_model_name": "DescriptionStyleModel",
       "_view_count": null,
       "_view_module": "@jupyter-widgets/base",
       "_view_module_version": "1.2.0",
       "_view_name": "StyleView",
       "description_width": ""
      }
     },
     "6ce2793c41984fa594a07e74e54fd4a2": {
      "model_module": "@jupyter-widgets/base",
      "model_module_version": "1.2.0",
      "model_name": "LayoutModel",
      "state": {
       "_model_module": "@jupyter-widgets/base",
       "_model_module_version": "1.2.0",
       "_model_name": "LayoutModel",
       "_view_count": null,
       "_view_module": "@jupyter-widgets/base",
       "_view_module_version": "1.2.0",
       "_view_name": "LayoutView",
       "align_content": null,
       "align_items": null,
       "align_self": null,
       "border": null,
       "bottom": null,
       "display": null,
       "flex": null,
       "flex_flow": null,
       "grid_area": null,
       "grid_auto_columns": null,
       "grid_auto_flow": null,
       "grid_auto_rows": null,
       "grid_column": null,
       "grid_gap": null,
       "grid_row": null,
       "grid_template_areas": null,
       "grid_template_columns": null,
       "grid_template_rows": null,
       "height": null,
       "justify_content": null,
       "justify_items": null,
       "left": null,
       "margin": null,
       "max_height": null,
       "max_width": null,
       "min_height": null,
       "min_width": null,
       "object_fit": null,
       "object_position": null,
       "order": null,
       "overflow": null,
       "overflow_x": null,
       "overflow_y": null,
       "padding": null,
       "right": null,
       "top": null,
       "visibility": null,
       "width": null
      }
     },
     "71be7b3661aa4a669898a256e21e1277": {
      "model_module": "@jupyter-widgets/controls",
      "model_module_version": "1.5.0",
      "model_name": "HTMLModel",
      "state": {
       "_dom_classes": [],
       "_model_module": "@jupyter-widgets/controls",
       "_model_module_version": "1.5.0",
       "_model_name": "HTMLModel",
       "_view_count": null,
       "_view_module": "@jupyter-widgets/controls",
       "_view_module_version": "1.5.0",
       "_view_name": "HTMLView",
       "description": "",
       "description_tooltip": null,
       "layout": "IPY_MODEL_f650d199846b4a35a08d060b49e484fc",
       "placeholder": "​",
       "style": "IPY_MODEL_5fe7a34af21c4eda892a1850eaa3d170",
       "value": ""
      }
     },
     "720e95089d2d47f7ad97be696700bab8": {
      "model_module": "@jupyter-widgets/base",
      "model_module_version": "1.2.0",
      "model_name": "LayoutModel",
      "state": {
       "_model_module": "@jupyter-widgets/base",
       "_model_module_version": "1.2.0",
       "_model_name": "LayoutModel",
       "_view_count": null,
       "_view_module": "@jupyter-widgets/base",
       "_view_module_version": "1.2.0",
       "_view_name": "LayoutView",
       "align_content": null,
       "align_items": null,
       "align_self": null,
       "border": null,
       "bottom": null,
       "display": null,
       "flex": null,
       "flex_flow": null,
       "grid_area": null,
       "grid_auto_columns": null,
       "grid_auto_flow": null,
       "grid_auto_rows": null,
       "grid_column": null,
       "grid_gap": null,
       "grid_row": null,
       "grid_template_areas": null,
       "grid_template_columns": null,
       "grid_template_rows": null,
       "height": null,
       "justify_content": null,
       "justify_items": null,
       "left": null,
       "margin": null,
       "max_height": null,
       "max_width": null,
       "min_height": null,
       "min_width": null,
       "object_fit": null,
       "object_position": null,
       "order": null,
       "overflow": null,
       "overflow_x": null,
       "overflow_y": null,
       "padding": null,
       "right": null,
       "top": null,
       "visibility": null,
       "width": null
      }
     },
     "721ceb9f05b844ccb34ee9e357e035d9": {
      "model_module": "@jupyter-widgets/base",
      "model_module_version": "1.2.0",
      "model_name": "LayoutModel",
      "state": {
       "_model_module": "@jupyter-widgets/base",
       "_model_module_version": "1.2.0",
       "_model_name": "LayoutModel",
       "_view_count": null,
       "_view_module": "@jupyter-widgets/base",
       "_view_module_version": "1.2.0",
       "_view_name": "LayoutView",
       "align_content": null,
       "align_items": null,
       "align_self": null,
       "border": null,
       "bottom": null,
       "display": null,
       "flex": null,
       "flex_flow": null,
       "grid_area": null,
       "grid_auto_columns": null,
       "grid_auto_flow": null,
       "grid_auto_rows": null,
       "grid_column": null,
       "grid_gap": null,
       "grid_row": null,
       "grid_template_areas": null,
       "grid_template_columns": null,
       "grid_template_rows": null,
       "height": "16em",
       "justify_content": null,
       "justify_items": null,
       "left": null,
       "margin": null,
       "max_height": null,
       "max_width": null,
       "min_height": null,
       "min_width": null,
       "object_fit": null,
       "object_position": null,
       "order": null,
       "overflow": null,
       "overflow_x": null,
       "overflow_y": "auto",
       "padding": null,
       "right": null,
       "top": null,
       "visibility": null,
       "width": "100%"
      }
     },
     "7431f062e9724ef2900ae4468088d704": {
      "model_module": "@jupyter-widgets/base",
      "model_module_version": "1.2.0",
      "model_name": "LayoutModel",
      "state": {
       "_model_module": "@jupyter-widgets/base",
       "_model_module_version": "1.2.0",
       "_model_name": "LayoutModel",
       "_view_count": null,
       "_view_module": "@jupyter-widgets/base",
       "_view_module_version": "1.2.0",
       "_view_name": "LayoutView",
       "align_content": null,
       "align_items": null,
       "align_self": null,
       "border": null,
       "bottom": null,
       "display": null,
       "flex": null,
       "flex_flow": null,
       "grid_area": null,
       "grid_auto_columns": null,
       "grid_auto_flow": null,
       "grid_auto_rows": null,
       "grid_column": null,
       "grid_gap": null,
       "grid_row": null,
       "grid_template_areas": null,
       "grid_template_columns": null,
       "grid_template_rows": null,
       "height": "16em",
       "justify_content": null,
       "justify_items": null,
       "left": null,
       "margin": null,
       "max_height": null,
       "max_width": null,
       "min_height": null,
       "min_width": null,
       "object_fit": null,
       "object_position": null,
       "order": null,
       "overflow": null,
       "overflow_x": null,
       "overflow_y": "auto",
       "padding": null,
       "right": null,
       "top": null,
       "visibility": null,
       "width": "100%"
      }
     },
     "75d4143b1c3f4102a772c56101df65d1": {
      "model_module": "@jupyter-widgets/controls",
      "model_module_version": "1.5.0",
      "model_name": "HTMLModel",
      "state": {
       "_dom_classes": [],
       "_model_module": "@jupyter-widgets/controls",
       "_model_module_version": "1.5.0",
       "_model_name": "HTMLModel",
       "_view_count": null,
       "_view_module": "@jupyter-widgets/controls",
       "_view_module_version": "1.5.0",
       "_view_name": "HTMLView",
       "description": "",
       "description_tooltip": null,
       "layout": "IPY_MODEL_9e8d53df24d4401d94368779f2be90be",
       "placeholder": "​",
       "style": "IPY_MODEL_aebd70383be84f8b9049fd0135c6c480",
       "value": ""
      }
     },
     "76d5f631b2da44e8baf4fe1e697577e4": {
      "model_module": "@jupyter-widgets/controls",
      "model_module_version": "1.5.0",
      "model_name": "HTMLModel",
      "state": {
       "_dom_classes": [],
       "_model_module": "@jupyter-widgets/controls",
       "_model_module_version": "1.5.0",
       "_model_name": "HTMLModel",
       "_view_count": null,
       "_view_module": "@jupyter-widgets/controls",
       "_view_module_version": "1.5.0",
       "_view_name": "HTMLView",
       "description": "",
       "description_tooltip": null,
       "layout": "IPY_MODEL_cd2e096413ca436889a6ceddfc183a16",
       "placeholder": "​",
       "style": "IPY_MODEL_f43e8b78ec124147b432462905ce5517",
       "value": ""
      }
     },
     "794b07b26884455281f29624cfb05795": {
      "model_module": "@jupyter-widgets/controls",
      "model_module_version": "1.5.0",
      "model_name": "HTMLModel",
      "state": {
       "_dom_classes": [],
       "_model_module": "@jupyter-widgets/controls",
       "_model_module_version": "1.5.0",
       "_model_name": "HTMLModel",
       "_view_count": null,
       "_view_module": "@jupyter-widgets/controls",
       "_view_module_version": "1.5.0",
       "_view_name": "HTMLView",
       "description": "",
       "description_tooltip": null,
       "layout": "IPY_MODEL_ebc0b58d68824c5998be12f0c87484d9",
       "placeholder": "​",
       "style": "IPY_MODEL_3e187bfe71984dca9fe2ccc32ea23e09",
       "value": ""
      }
     },
     "7977825bbb96464b93e43bad194cea8d": {
      "model_module": "@jupyter-widgets/controls",
      "model_module_version": "1.5.0",
      "model_name": "DescriptionStyleModel",
      "state": {
       "_model_module": "@jupyter-widgets/controls",
       "_model_module_version": "1.5.0",
       "_model_name": "DescriptionStyleModel",
       "_view_count": null,
       "_view_module": "@jupyter-widgets/base",
       "_view_module_version": "1.2.0",
       "_view_name": "StyleView",
       "description_width": ""
      }
     },
     "797e86e304544195afaacf68f81b17ab": {
      "model_module": "@jupyter-widgets/controls",
      "model_module_version": "1.5.0",
      "model_name": "HTMLModel",
      "state": {
       "_dom_classes": [],
       "_model_module": "@jupyter-widgets/controls",
       "_model_module_version": "1.5.0",
       "_model_name": "HTMLModel",
       "_view_count": null,
       "_view_module": "@jupyter-widgets/controls",
       "_view_module_version": "1.5.0",
       "_view_name": "HTMLView",
       "description": "",
       "description_tooltip": null,
       "layout": "IPY_MODEL_434055e954f44381b92683f55c3b8e43",
       "placeholder": "​",
       "style": "IPY_MODEL_7977825bbb96464b93e43bad194cea8d",
       "value": ""
      }
     },
     "7a9775227d164a3a92ae278ad7336f56": {
      "model_module": "@jupyter-widgets/base",
      "model_module_version": "1.2.0",
      "model_name": "LayoutModel",
      "state": {
       "_model_module": "@jupyter-widgets/base",
       "_model_module_version": "1.2.0",
       "_model_name": "LayoutModel",
       "_view_count": null,
       "_view_module": "@jupyter-widgets/base",
       "_view_module_version": "1.2.0",
       "_view_name": "LayoutView",
       "align_content": null,
       "align_items": null,
       "align_self": null,
       "border": null,
       "bottom": null,
       "display": null,
       "flex": null,
       "flex_flow": null,
       "grid_area": null,
       "grid_auto_columns": null,
       "grid_auto_flow": null,
       "grid_auto_rows": null,
       "grid_column": null,
       "grid_gap": null,
       "grid_row": null,
       "grid_template_areas": null,
       "grid_template_columns": null,
       "grid_template_rows": null,
       "height": null,
       "justify_content": null,
       "justify_items": null,
       "left": null,
       "margin": null,
       "max_height": null,
       "max_width": null,
       "min_height": null,
       "min_width": null,
       "object_fit": null,
       "object_position": null,
       "order": null,
       "overflow": null,
       "overflow_x": null,
       "overflow_y": null,
       "padding": null,
       "right": null,
       "top": null,
       "visibility": null,
       "width": null
      }
     },
     "7c30ab5c3089465084ca6407ab7bdf96": {
      "model_module": "@jupyter-widgets/base",
      "model_module_version": "1.2.0",
      "model_name": "LayoutModel",
      "state": {
       "_model_module": "@jupyter-widgets/base",
       "_model_module_version": "1.2.0",
       "_model_name": "LayoutModel",
       "_view_count": null,
       "_view_module": "@jupyter-widgets/base",
       "_view_module_version": "1.2.0",
       "_view_name": "LayoutView",
       "align_content": null,
       "align_items": null,
       "align_self": null,
       "border": null,
       "bottom": null,
       "display": null,
       "flex": null,
       "flex_flow": null,
       "grid_area": null,
       "grid_auto_columns": null,
       "grid_auto_flow": null,
       "grid_auto_rows": null,
       "grid_column": null,
       "grid_gap": null,
       "grid_row": null,
       "grid_template_areas": null,
       "grid_template_columns": null,
       "grid_template_rows": null,
       "height": null,
       "justify_content": null,
       "justify_items": null,
       "left": null,
       "margin": null,
       "max_height": null,
       "max_width": null,
       "min_height": null,
       "min_width": null,
       "object_fit": null,
       "object_position": null,
       "order": null,
       "overflow": null,
       "overflow_x": null,
       "overflow_y": null,
       "padding": null,
       "right": null,
       "top": null,
       "visibility": null,
       "width": null
      }
     },
     "7caa4b5e20f94ba2976f28c5f7aef320": {
      "model_module": "k3d",
      "model_module_version": "2.6.6",
      "model_name": "PlotModel",
      "state": {
       "_backend_version": "2.6.6",
       "_dom_classes": [],
       "_model_module": "k3d",
       "_model_module_version": "2.6.6",
       "_model_name": "PlotModel",
       "_view_count": null,
       "_view_module": "k3d",
       "_view_module_version": "2.6.6",
       "_view_name": "PlotView",
       "antialias": 3,
       "axes": [
        "x",
        "y",
        "z"
       ],
       "background_color": 16777215,
       "camera": [
        0.5,
        0.5,
        0.8660254037844387,
        0.5,
        0.5,
        0.0,
        0,
        1,
        0
       ],
       "camera_auto_fit": false,
       "camera_no_pan": true,
       "camera_no_rotate": true,
       "camera_no_zoom": true,
       "clipping_planes": [],
       "colorbar_object_id": -1,
       "fps_meter": false,
       "grid": [
        0.0,
        0.0,
        0.0,
        1.0,
        1.0,
        0.0
       ],
       "grid_auto_fit": false,
       "grid_visible": false,
       "height": 512,
       "layout": "IPY_MODEL_b92cb7eedc4349be8c798fee5f57eab7",
       "lighting": 1.0,
       "menu_visibility": false,
       "object_ids": [
        140434213002160
       ],
       "rendering_steps": 1,
       "screenshot": "",
       "screenshot_scale": 2.0,
       "time": 0.0,
       "voxel_paint_color": 0
      }
     },
     "7d10902cbb504ba6bdfa0a761607f5c8": {
      "model_module": "k3d",
      "model_module_version": "2.6.6",
      "model_name": "PlotModel",
      "state": {
       "_backend_version": "2.6.6",
       "_dom_classes": [],
       "_model_module": "k3d",
       "_model_module_version": "2.6.6",
       "_model_name": "PlotModel",
       "_view_count": null,
       "_view_module": "k3d",
       "_view_module_version": "2.6.6",
       "_view_name": "PlotView",
       "antialias": 3,
       "axes": [
        "x",
        "y",
        "z"
       ],
       "background_color": 16777215,
       "camera": [
        0.5,
        0.5,
        0.8660254037844387,
        0.5,
        0.5,
        0.0,
        0,
        1,
        0
       ],
       "camera_auto_fit": false,
       "camera_no_pan": true,
       "camera_no_rotate": true,
       "camera_no_zoom": true,
       "clipping_planes": [],
       "colorbar_object_id": -1,
       "fps_meter": false,
       "grid": [
        0.0,
        0.0,
        0.0,
        1.0,
        1.0,
        0.0
       ],
       "grid_auto_fit": false,
       "grid_visible": false,
       "height": 512,
       "layout": "IPY_MODEL_720e95089d2d47f7ad97be696700bab8",
       "lighting": 1.0,
       "menu_visibility": false,
       "object_ids": [
        140434212821696
       ],
       "rendering_steps": 1,
       "screenshot": "",
       "screenshot_scale": 2.0,
       "time": 0.0,
       "voxel_paint_color": 0
      }
     },
     "7debd85383384ca0b1893157e275bc49": {
      "model_module": "@jupyter-widgets/controls",
      "model_module_version": "1.5.0",
      "model_name": "DescriptionStyleModel",
      "state": {
       "_model_module": "@jupyter-widgets/controls",
       "_model_module_version": "1.5.0",
       "_model_name": "DescriptionStyleModel",
       "_view_count": null,
       "_view_module": "@jupyter-widgets/base",
       "_view_module_version": "1.2.0",
       "_view_name": "StyleView",
       "description_width": ""
      }
     },
     "7eb0ee62094a41c9a09f8db40fff87d2": {
      "model_module": "@jupyter-widgets/base",
      "model_module_version": "1.2.0",
      "model_name": "LayoutModel",
      "state": {
       "_model_module": "@jupyter-widgets/base",
       "_model_module_version": "1.2.0",
       "_model_name": "LayoutModel",
       "_view_count": null,
       "_view_module": "@jupyter-widgets/base",
       "_view_module_version": "1.2.0",
       "_view_name": "LayoutView",
       "align_content": null,
       "align_items": null,
       "align_self": null,
       "border": null,
       "bottom": null,
       "display": null,
       "flex": null,
       "flex_flow": null,
       "grid_area": null,
       "grid_auto_columns": null,
       "grid_auto_flow": null,
       "grid_auto_rows": null,
       "grid_column": null,
       "grid_gap": null,
       "grid_row": null,
       "grid_template_areas": null,
       "grid_template_columns": null,
       "grid_template_rows": null,
       "height": null,
       "justify_content": null,
       "justify_items": null,
       "left": null,
       "margin": null,
       "max_height": null,
       "max_width": null,
       "min_height": null,
       "min_width": null,
       "object_fit": null,
       "object_position": null,
       "order": null,
       "overflow": null,
       "overflow_x": null,
       "overflow_y": null,
       "padding": null,
       "right": null,
       "top": null,
       "visibility": null,
       "width": null
      }
     },
     "7f9aa3e491ca4a2f83608aa6a6a73c2d": {
      "model_module": "@jupyter-widgets/base",
      "model_module_version": "1.2.0",
      "model_name": "LayoutModel",
      "state": {
       "_model_module": "@jupyter-widgets/base",
       "_model_module_version": "1.2.0",
       "_model_name": "LayoutModel",
       "_view_count": null,
       "_view_module": "@jupyter-widgets/base",
       "_view_module_version": "1.2.0",
       "_view_name": "LayoutView",
       "align_content": null,
       "align_items": null,
       "align_self": null,
       "border": null,
       "bottom": null,
       "display": null,
       "flex": null,
       "flex_flow": null,
       "grid_area": null,
       "grid_auto_columns": null,
       "grid_auto_flow": null,
       "grid_auto_rows": null,
       "grid_column": null,
       "grid_gap": null,
       "grid_row": null,
       "grid_template_areas": null,
       "grid_template_columns": null,
       "grid_template_rows": null,
       "height": "16em",
       "justify_content": null,
       "justify_items": null,
       "left": null,
       "margin": null,
       "max_height": null,
       "max_width": null,
       "min_height": null,
       "min_width": null,
       "object_fit": null,
       "object_position": null,
       "order": null,
       "overflow": null,
       "overflow_x": null,
       "overflow_y": "auto",
       "padding": null,
       "right": null,
       "top": null,
       "visibility": null,
       "width": "100%"
      }
     },
     "81164579cdc2427ba8fe01ecf0280503": {
      "model_module": "k3d",
      "model_module_version": "2.6.6",
      "model_name": "PlotModel",
      "state": {
       "_backend_version": "2.6.6",
       "_dom_classes": [],
       "_model_module": "k3d",
       "_model_module_version": "2.6.6",
       "_model_name": "PlotModel",
       "_view_count": null,
       "_view_module": "k3d",
       "_view_module_version": "2.6.6",
       "_view_name": "PlotView",
       "antialias": 3,
       "axes": [
        "x",
        "y",
        "z"
       ],
       "background_color": 16777215,
       "camera": [
        0.5,
        0.5,
        0.8660254037844387,
        0.5,
        0.5,
        0.0,
        0,
        1,
        0
       ],
       "camera_auto_fit": false,
       "camera_no_pan": true,
       "camera_no_rotate": true,
       "camera_no_zoom": true,
       "clipping_planes": [],
       "colorbar_object_id": -1,
       "fps_meter": false,
       "grid": [
        0.0,
        0.0,
        0.0,
        1.0,
        1.0,
        0.0
       ],
       "grid_auto_fit": false,
       "grid_visible": false,
       "height": 512,
       "layout": "IPY_MODEL_fc88175494b247859d83db5d2284e362",
       "lighting": 1.0,
       "menu_visibility": false,
       "object_ids": [
        140435775703120
       ],
       "rendering_steps": 1,
       "screenshot": "",
       "screenshot_scale": 2.0,
       "time": 0.0,
       "voxel_paint_color": 0
      }
     },
     "837899c1cdfe424d9f4f2908e0fd813a": {
      "model_module": "@jupyter-widgets/controls",
      "model_module_version": "1.5.0",
      "model_name": "AccordionModel",
      "state": {
       "_dom_classes": [],
       "_model_module": "@jupyter-widgets/controls",
       "_model_module_version": "1.5.0",
       "_model_name": "AccordionModel",
       "_titles": {
        "0": "Log Output"
       },
       "_view_count": null,
       "_view_module": "@jupyter-widgets/controls",
       "_view_module_version": "1.5.0",
       "_view_name": "AccordionView",
       "box_style": "",
       "children": [
        "IPY_MODEL_1891c04e55a8401da8aa9c78909471ae"
       ],
       "layout": "IPY_MODEL_04ccf2be6c394d82be7d40a14716a363",
       "selected_index": null
      }
     },
     "865ae483eb5444098a4734d90bda6a89": {
      "model_module": "@jupyter-widgets/base",
      "model_module_version": "1.2.0",
      "model_name": "LayoutModel",
      "state": {
       "_model_module": "@jupyter-widgets/base",
       "_model_module_version": "1.2.0",
       "_model_name": "LayoutModel",
       "_view_count": null,
       "_view_module": "@jupyter-widgets/base",
       "_view_module_version": "1.2.0",
       "_view_name": "LayoutView",
       "align_content": null,
       "align_items": null,
       "align_self": null,
       "border": null,
       "bottom": null,
       "display": null,
       "flex": null,
       "flex_flow": null,
       "grid_area": null,
       "grid_auto_columns": null,
       "grid_auto_flow": null,
       "grid_auto_rows": null,
       "grid_column": null,
       "grid_gap": null,
       "grid_row": null,
       "grid_template_areas": null,
       "grid_template_columns": null,
       "grid_template_rows": null,
       "height": "16em",
       "justify_content": null,
       "justify_items": null,
       "left": null,
       "margin": null,
       "max_height": null,
       "max_width": null,
       "min_height": null,
       "min_width": null,
       "object_fit": null,
       "object_position": null,
       "order": null,
       "overflow": null,
       "overflow_x": null,
       "overflow_y": "auto",
       "padding": null,
       "right": null,
       "top": null,
       "visibility": null,
       "width": "100%"
      }
     },
     "8a635c6103914bbdba9d44ac659328b9": {
      "model_module": "@jupyter-widgets/base",
      "model_module_version": "1.2.0",
      "model_name": "LayoutModel",
      "state": {
       "_model_module": "@jupyter-widgets/base",
       "_model_module_version": "1.2.0",
       "_model_name": "LayoutModel",
       "_view_count": null,
       "_view_module": "@jupyter-widgets/base",
       "_view_module_version": "1.2.0",
       "_view_name": "LayoutView",
       "align_content": null,
       "align_items": null,
       "align_self": null,
       "border": null,
       "bottom": null,
       "display": null,
       "flex": null,
       "flex_flow": null,
       "grid_area": null,
       "grid_auto_columns": null,
       "grid_auto_flow": null,
       "grid_auto_rows": null,
       "grid_column": null,
       "grid_gap": null,
       "grid_row": null,
       "grid_template_areas": null,
       "grid_template_columns": null,
       "grid_template_rows": null,
       "height": null,
       "justify_content": null,
       "justify_items": null,
       "left": null,
       "margin": null,
       "max_height": null,
       "max_width": null,
       "min_height": null,
       "min_width": null,
       "object_fit": null,
       "object_position": null,
       "order": null,
       "overflow": null,
       "overflow_x": null,
       "overflow_y": null,
       "padding": null,
       "right": null,
       "top": null,
       "visibility": null,
       "width": null
      }
     },
     "8e419799de5c4dc7a32eb0710481db6b": {
      "model_module": "@jupyter-widgets/output",
      "model_module_version": "1.0.0",
      "model_name": "OutputModel",
      "state": {
       "_dom_classes": [],
       "_model_module": "@jupyter-widgets/output",
       "_model_module_version": "1.0.0",
       "_model_name": "OutputModel",
       "_view_count": null,
       "_view_module": "@jupyter-widgets/output",
       "_view_module_version": "1.0.0",
       "_view_name": "OutputView",
       "layout": "IPY_MODEL_b6a4551d399f47e5bb6fc791f3daf2c0",
       "msg_id": "",
       "outputs": [
        {
         "data": {
          "application/vnd.jupyter.widget-view+json": {
           "model_id": "81164579cdc2427ba8fe01ecf0280503",
           "version_major": 2,
           "version_minor": 0
          },
          "text/plain": "VTKPlot(antialias=3, axes=['x', 'y', 'z'], background_color=16777215, camera=[4.5, 4.5, 4.5, 0.0, 0.0, 0.0, 1.…"
         },
         "metadata": {},
         "output_type": "display_data"
        }
       ]
      }
     },
     "909110f08aee44eabfbbefe3f30b42f2": {
      "model_module": "@jupyter-widgets/base",
      "model_module_version": "1.2.0",
      "model_name": "LayoutModel",
      "state": {
       "_model_module": "@jupyter-widgets/base",
       "_model_module_version": "1.2.0",
       "_model_name": "LayoutModel",
       "_view_count": null,
       "_view_module": "@jupyter-widgets/base",
       "_view_module_version": "1.2.0",
       "_view_name": "LayoutView",
       "align_content": null,
       "align_items": null,
       "align_self": null,
       "border": null,
       "bottom": null,
       "display": null,
       "flex": null,
       "flex_flow": null,
       "grid_area": null,
       "grid_auto_columns": null,
       "grid_auto_flow": null,
       "grid_auto_rows": null,
       "grid_column": null,
       "grid_gap": null,
       "grid_row": null,
       "grid_template_areas": null,
       "grid_template_columns": null,
       "grid_template_rows": null,
       "height": null,
       "justify_content": null,
       "justify_items": null,
       "left": null,
       "margin": null,
       "max_height": null,
       "max_width": null,
       "min_height": null,
       "min_width": null,
       "object_fit": null,
       "object_position": null,
       "order": null,
       "overflow": null,
       "overflow_x": null,
       "overflow_y": null,
       "padding": null,
       "right": null,
       "top": null,
       "visibility": null,
       "width": null
      }
     },
     "91822c597aa54a8e9544f88d4cb548f9": {
      "model_module": "@jupyter-widgets/base",
      "model_module_version": "1.2.0",
      "model_name": "LayoutModel",
      "state": {
       "_model_module": "@jupyter-widgets/base",
       "_model_module_version": "1.2.0",
       "_model_name": "LayoutModel",
       "_view_count": null,
       "_view_module": "@jupyter-widgets/base",
       "_view_module_version": "1.2.0",
       "_view_name": "LayoutView",
       "align_content": null,
       "align_items": null,
       "align_self": null,
       "border": null,
       "bottom": null,
       "display": null,
       "flex": null,
       "flex_flow": null,
       "grid_area": null,
       "grid_auto_columns": null,
       "grid_auto_flow": null,
       "grid_auto_rows": null,
       "grid_column": null,
       "grid_gap": null,
       "grid_row": null,
       "grid_template_areas": null,
       "grid_template_columns": null,
       "grid_template_rows": null,
       "height": null,
       "justify_content": null,
       "justify_items": null,
       "left": null,
       "margin": null,
       "max_height": null,
       "max_width": null,
       "min_height": null,
       "min_width": null,
       "object_fit": null,
       "object_position": null,
       "order": null,
       "overflow": null,
       "overflow_x": null,
       "overflow_y": null,
       "padding": null,
       "right": null,
       "top": null,
       "visibility": null,
       "width": null
      }
     },
     "925b5062a3ee4e20a4627fcf56177b63": {
      "model_module": "@jupyter-widgets/controls",
      "model_module_version": "1.5.0",
      "model_name": "HTMLModel",
      "state": {
       "_dom_classes": [],
       "_model_module": "@jupyter-widgets/controls",
       "_model_module_version": "1.5.0",
       "_model_name": "HTMLModel",
       "_view_count": null,
       "_view_module": "@jupyter-widgets/controls",
       "_view_module_version": "1.5.0",
       "_view_name": "HTMLView",
       "description": "",
       "description_tooltip": null,
       "layout": "IPY_MODEL_9e1dfa7d7796468788eec0d8af1d5a4d",
       "placeholder": "​",
       "style": "IPY_MODEL_de40075441e54065b4352d3116767478",
       "value": ""
      }
     },
     "93b33772cb7048a1a79887c39f0a9d54": {
      "model_module": "@jupyter-widgets/base",
      "model_module_version": "1.2.0",
      "model_name": "LayoutModel",
      "state": {
       "_model_module": "@jupyter-widgets/base",
       "_model_module_version": "1.2.0",
       "_model_name": "LayoutModel",
       "_view_count": null,
       "_view_module": "@jupyter-widgets/base",
       "_view_module_version": "1.2.0",
       "_view_name": "LayoutView",
       "align_content": null,
       "align_items": null,
       "align_self": null,
       "border": null,
       "bottom": null,
       "display": null,
       "flex": null,
       "flex_flow": null,
       "grid_area": null,
       "grid_auto_columns": null,
       "grid_auto_flow": null,
       "grid_auto_rows": null,
       "grid_column": null,
       "grid_gap": null,
       "grid_row": null,
       "grid_template_areas": null,
       "grid_template_columns": null,
       "grid_template_rows": null,
       "height": null,
       "justify_content": null,
       "justify_items": null,
       "left": null,
       "margin": null,
       "max_height": null,
       "max_width": null,
       "min_height": null,
       "min_width": null,
       "object_fit": null,
       "object_position": null,
       "order": null,
       "overflow": null,
       "overflow_x": null,
       "overflow_y": null,
       "padding": null,
       "right": null,
       "top": null,
       "visibility": null,
       "width": null
      }
     },
     "983ec3d854c74496a5591643c63286ef": {
      "model_module": "@jupyter-widgets/controls",
      "model_module_version": "1.5.0",
      "model_name": "AccordionModel",
      "state": {
       "_dom_classes": [],
       "_model_module": "@jupyter-widgets/controls",
       "_model_module_version": "1.5.0",
       "_model_name": "AccordionModel",
       "_titles": {
        "0": "Log Output"
       },
       "_view_count": null,
       "_view_module": "@jupyter-widgets/controls",
       "_view_module_version": "1.5.0",
       "_view_name": "AccordionView",
       "box_style": "",
       "children": [
        "IPY_MODEL_925b5062a3ee4e20a4627fcf56177b63"
       ],
       "layout": "IPY_MODEL_36df889856fa46dab8a5956f27edef10",
       "selected_index": null
      }
     },
     "99306cc9f14048b684f9fa42e7bd56e8": {
      "model_module": "@jupyter-widgets/base",
      "model_module_version": "1.2.0",
      "model_name": "LayoutModel",
      "state": {
       "_model_module": "@jupyter-widgets/base",
       "_model_module_version": "1.2.0",
       "_model_name": "LayoutModel",
       "_view_count": null,
       "_view_module": "@jupyter-widgets/base",
       "_view_module_version": "1.2.0",
       "_view_name": "LayoutView",
       "align_content": null,
       "align_items": null,
       "align_self": null,
       "border": null,
       "bottom": null,
       "display": null,
       "flex": null,
       "flex_flow": null,
       "grid_area": null,
       "grid_auto_columns": null,
       "grid_auto_flow": null,
       "grid_auto_rows": null,
       "grid_column": null,
       "grid_gap": null,
       "grid_row": null,
       "grid_template_areas": null,
       "grid_template_columns": null,
       "grid_template_rows": null,
       "height": null,
       "justify_content": null,
       "justify_items": null,
       "left": null,
       "margin": null,
       "max_height": null,
       "max_width": null,
       "min_height": null,
       "min_width": null,
       "object_fit": null,
       "object_position": null,
       "order": null,
       "overflow": null,
       "overflow_x": null,
       "overflow_y": null,
       "padding": null,
       "right": null,
       "top": null,
       "visibility": null,
       "width": null
      }
     },
     "9977b6b66c384efdae81e5a9c271de22": {
      "model_module": "@jupyter-widgets/base",
      "model_module_version": "1.2.0",
      "model_name": "LayoutModel",
      "state": {
       "_model_module": "@jupyter-widgets/base",
       "_model_module_version": "1.2.0",
       "_model_name": "LayoutModel",
       "_view_count": null,
       "_view_module": "@jupyter-widgets/base",
       "_view_module_version": "1.2.0",
       "_view_name": "LayoutView",
       "align_content": null,
       "align_items": null,
       "align_self": null,
       "border": null,
       "bottom": null,
       "display": null,
       "flex": null,
       "flex_flow": null,
       "grid_area": null,
       "grid_auto_columns": null,
       "grid_auto_flow": null,
       "grid_auto_rows": null,
       "grid_column": null,
       "grid_gap": null,
       "grid_row": null,
       "grid_template_areas": null,
       "grid_template_columns": null,
       "grid_template_rows": null,
       "height": null,
       "justify_content": null,
       "justify_items": null,
       "left": null,
       "margin": null,
       "max_height": null,
       "max_width": null,
       "min_height": null,
       "min_width": null,
       "object_fit": null,
       "object_position": null,
       "order": null,
       "overflow": null,
       "overflow_x": null,
       "overflow_y": null,
       "padding": null,
       "right": null,
       "top": null,
       "visibility": null,
       "width": null
      }
     },
     "9aca47e9c79f45fe8a834cf0e10075fe": {
      "model_module": "@jupyter-widgets/controls",
      "model_module_version": "1.5.0",
      "model_name": "AccordionModel",
      "state": {
       "_dom_classes": [],
       "_model_module": "@jupyter-widgets/controls",
       "_model_module_version": "1.5.0",
       "_model_name": "AccordionModel",
       "_titles": {
        "0": "Log Output"
       },
       "_view_count": null,
       "_view_module": "@jupyter-widgets/controls",
       "_view_module_version": "1.5.0",
       "_view_name": "AccordionView",
       "box_style": "",
       "children": [
        "IPY_MODEL_dcf9e947b12c481287a178317841cc8d"
       ],
       "layout": "IPY_MODEL_ae62ebdfa52840658fcddd2be05a45dd",
       "selected_index": null
      }
     },
     "9adab9a290da4115800f5eaed6476aee": {
      "model_module": "@jupyter-widgets/base",
      "model_module_version": "1.2.0",
      "model_name": "LayoutModel",
      "state": {
       "_model_module": "@jupyter-widgets/base",
       "_model_module_version": "1.2.0",
       "_model_name": "LayoutModel",
       "_view_count": null,
       "_view_module": "@jupyter-widgets/base",
       "_view_module_version": "1.2.0",
       "_view_name": "LayoutView",
       "align_content": null,
       "align_items": null,
       "align_self": null,
       "border": null,
       "bottom": null,
       "display": null,
       "flex": null,
       "flex_flow": null,
       "grid_area": null,
       "grid_auto_columns": null,
       "grid_auto_flow": null,
       "grid_auto_rows": null,
       "grid_column": null,
       "grid_gap": null,
       "grid_row": null,
       "grid_template_areas": null,
       "grid_template_columns": null,
       "grid_template_rows": null,
       "height": null,
       "justify_content": null,
       "justify_items": null,
       "left": null,
       "margin": null,
       "max_height": null,
       "max_width": null,
       "min_height": null,
       "min_width": null,
       "object_fit": null,
       "object_position": null,
       "order": null,
       "overflow": null,
       "overflow_x": null,
       "overflow_y": null,
       "padding": null,
       "right": null,
       "top": null,
       "visibility": null,
       "width": null
      }
     },
     "9c06226649da46cab925f6216da76e5c": {
      "model_module": "@jupyter-widgets/controls",
      "model_module_version": "1.5.0",
      "model_name": "HTMLModel",
      "state": {
       "_dom_classes": [],
       "_model_module": "@jupyter-widgets/controls",
       "_model_module_version": "1.5.0",
       "_model_name": "HTMLModel",
       "_view_count": null,
       "_view_module": "@jupyter-widgets/controls",
       "_view_module_version": "1.5.0",
       "_view_name": "HTMLView",
       "description": "",
       "description_tooltip": null,
       "layout": "IPY_MODEL_47842454a35a464ba684ee07f3b8adbd",
       "placeholder": "​",
       "style": "IPY_MODEL_7debd85383384ca0b1893157e275bc49",
       "value": ""
      }
     },
     "9c14b96c799b4164a6cc68f07a318a1d": {
      "model_module": "@jupyter-widgets/controls",
      "model_module_version": "1.5.0",
      "model_name": "AccordionModel",
      "state": {
       "_dom_classes": [],
       "_model_module": "@jupyter-widgets/controls",
       "_model_module_version": "1.5.0",
       "_model_name": "AccordionModel",
       "_titles": {
        "0": "Log Output"
       },
       "_view_count": null,
       "_view_module": "@jupyter-widgets/controls",
       "_view_module_version": "1.5.0",
       "_view_name": "AccordionView",
       "box_style": "",
       "children": [
        "IPY_MODEL_2dec302a248e4116bfd00a238edb2c93"
       ],
       "layout": "IPY_MODEL_7a9775227d164a3a92ae278ad7336f56",
       "selected_index": null
      }
     },
     "9e15fd607c694733b69f73b866cb8d89": {
      "model_module": "k3d",
      "model_module_version": "2.6.6",
      "model_name": "PlotModel",
      "state": {
       "_backend_version": "2.6.6",
       "_dom_classes": [],
       "_model_module": "k3d",
       "_model_module_version": "2.6.6",
       "_model_name": "PlotModel",
       "_view_count": null,
       "_view_module": "k3d",
       "_view_module_version": "2.6.6",
       "_view_name": "PlotView",
       "antialias": 3,
       "axes": [
        "x",
        "y",
        "z"
       ],
       "background_color": 16777215,
       "camera": [
        0.5,
        0.5,
        0.8660254037844387,
        0.5,
        0.5,
        0.0,
        0,
        1,
        0
       ],
       "camera_auto_fit": false,
       "camera_no_pan": true,
       "camera_no_rotate": true,
       "camera_no_zoom": true,
       "clipping_planes": [],
       "colorbar_object_id": -1,
       "fps_meter": false,
       "grid": [
        0.0,
        0.0,
        0.0,
        1.0,
        1.0,
        0.0
       ],
       "grid_auto_fit": false,
       "grid_visible": false,
       "height": 512,
       "layout": "IPY_MODEL_04981e50a3bf4a619004077e6ccaf3c5",
       "lighting": 1.0,
       "menu_visibility": false,
       "object_ids": [
        140434212906944
       ],
       "rendering_steps": 1,
       "screenshot": "",
       "screenshot_scale": 2.0,
       "time": 0.0,
       "voxel_paint_color": 0
      }
     },
     "9e1dfa7d7796468788eec0d8af1d5a4d": {
      "model_module": "@jupyter-widgets/base",
      "model_module_version": "1.2.0",
      "model_name": "LayoutModel",
      "state": {
       "_model_module": "@jupyter-widgets/base",
       "_model_module_version": "1.2.0",
       "_model_name": "LayoutModel",
       "_view_count": null,
       "_view_module": "@jupyter-widgets/base",
       "_view_module_version": "1.2.0",
       "_view_name": "LayoutView",
       "align_content": null,
       "align_items": null,
       "align_self": null,
       "border": null,
       "bottom": null,
       "display": null,
       "flex": null,
       "flex_flow": null,
       "grid_area": null,
       "grid_auto_columns": null,
       "grid_auto_flow": null,
       "grid_auto_rows": null,
       "grid_column": null,
       "grid_gap": null,
       "grid_row": null,
       "grid_template_areas": null,
       "grid_template_columns": null,
       "grid_template_rows": null,
       "height": "16em",
       "justify_content": null,
       "justify_items": null,
       "left": null,
       "margin": null,
       "max_height": null,
       "max_width": null,
       "min_height": null,
       "min_width": null,
       "object_fit": null,
       "object_position": null,
       "order": null,
       "overflow": null,
       "overflow_x": null,
       "overflow_y": "auto",
       "padding": null,
       "right": null,
       "top": null,
       "visibility": null,
       "width": "100%"
      }
     },
     "9e8d53df24d4401d94368779f2be90be": {
      "model_module": "@jupyter-widgets/base",
      "model_module_version": "1.2.0",
      "model_name": "LayoutModel",
      "state": {
       "_model_module": "@jupyter-widgets/base",
       "_model_module_version": "1.2.0",
       "_model_name": "LayoutModel",
       "_view_count": null,
       "_view_module": "@jupyter-widgets/base",
       "_view_module_version": "1.2.0",
       "_view_name": "LayoutView",
       "align_content": null,
       "align_items": null,
       "align_self": null,
       "border": null,
       "bottom": null,
       "display": null,
       "flex": null,
       "flex_flow": null,
       "grid_area": null,
       "grid_auto_columns": null,
       "grid_auto_flow": null,
       "grid_auto_rows": null,
       "grid_column": null,
       "grid_gap": null,
       "grid_row": null,
       "grid_template_areas": null,
       "grid_template_columns": null,
       "grid_template_rows": null,
       "height": "16em",
       "justify_content": null,
       "justify_items": null,
       "left": null,
       "margin": null,
       "max_height": null,
       "max_width": null,
       "min_height": null,
       "min_width": null,
       "object_fit": null,
       "object_position": null,
       "order": null,
       "overflow": null,
       "overflow_x": null,
       "overflow_y": "auto",
       "padding": null,
       "right": null,
       "top": null,
       "visibility": null,
       "width": "100%"
      }
     },
     "a0ef1bd4f0d247ff842ee1f6e6a35cff": {
      "buffers": [
       {
        "data": "GMndPQAAAABfz0k9X89JPQAAAAAAAAAAAAAAAAAAAABfz0k9X89JPQAAAAAYyd09AAAAAAAAAACBPVY9gT1WPQAAAAAAAAAAAAAAABjJ3T2BPVY9gT1WPRjJ3T0AAAAAAAAAAAAAAACBPVY9gT1WPQAAAAAAAAAAAAAAABjJ3T2BPVY9gT1WPRjJ3T0AAAAAAAAAAAAAAAAu34I9Lt+CPQAAAAAYyd09GMndPQAAAAAu34I9Lt+CPQAAAAAAAAAA",
        "encoding": "base64",
        "path": [
         "attribute",
         "buffer"
        ]
       },
       {
        "data": "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",
        "encoding": "base64",
        "path": [
         "color_map",
         "buffer"
        ]
       },
       {
        "data": "AAAAAAEAAAACAAAAAwAAAAQAAAAFAAAABgAAAAcAAAAIAAAACQAAAAoAAAALAAAADAAAAA0AAAAOAAAADwAAABAAAAARAAAAEgAAABMAAAAUAAAAFQAAABYAAAAXAAAAGAAAABkAAAAaAAAAGwAAABwAAAAdAAAAHgAAAB8AAAAgAAAAIQAAACIAAAAjAAAAJAAAACUAAAAmAAAAJwAAACgAAAApAAAAKgAAACsAAAAsAAAALQAAAC4AAAAvAAAA",
        "encoding": "base64",
        "path": [
         "indices",
         "buffer"
        ]
       },
       {
        "data": "AACAPwAAAAAAAAAAAAAAAAAAAAAAAIA/AAAAAAAAAAAAAAAAAAAAAAAAgD8AAAAAAAAAAAAAAAAAAAAAAACAPw==",
        "encoding": "base64",
        "path": [
         "model_matrix",
         "buffer"
        ]
       },
       {
        "data": "AAAAPwAAAD8AAAAAAAAAPwAAAAAAAAAAAACAPgAAgD4AAAAAAACAPgAAgD4AAAAAAAAAPwAAAAAAAAAAAAAAAAAAAAAAAAAAAAAAAAAAAAAAAAAAAAAAAAAAAD8AAAAAAACAPgAAgD4AAAAAAACAPgAAgD4AAAAAAAAAAAAAAD8AAAAAAAAAPwAAAD8AAAAAAACAPwAAAD8AAAAAAACAPwAAAAAAAAAAAABAPwAAgD4AAAAAAABAPwAAgD4AAAAAAACAPwAAAAAAAAAAAAAAPwAAAAAAAAAAAAAAPwAAAAAAAAAAAAAAPwAAAD8AAAAAAABAPwAAgD4AAAAAAABAPwAAgD4AAAAAAAAAPwAAAD8AAAAAAACAPwAAAD8AAAAAAAAAAAAAAD8AAAAAAAAAAAAAgD8AAAAAAACAPgAAQD8AAAAAAACAPgAAQD8AAAAAAAAAAAAAgD8AAAAAAAAAPwAAgD8AAAAAAAAAPwAAgD8AAAAAAAAAPwAAAD8AAAAAAACAPgAAQD8AAAAAAACAPgAAQD8AAAAAAAAAPwAAAD8AAAAAAAAAAAAAAD8AAAAAAACAPwAAgD8AAAAAAACAPwAAAD8AAAAAAABAPwAAQD8AAAAAAABAPwAAQD8AAAAAAACAPwAAAD8AAAAAAAAAPwAAAD8AAAAAAAAAPwAAAD8AAAAAAAAAPwAAgD8AAAAAAABAPwAAQD8AAAAAAABAPwAAQD8AAAAAAAAAPwAAgD8AAAAAAACAPwAAgD8AAAAA",
        "encoding": "base64",
        "path": [
         "vertices",
         "buffer"
        ]
       }
      ],
      "model_module": "k3d",
      "model_module_version": "2.6.6",
      "model_name": "ObjectModel",
      "state": {
       "_model_module": "k3d",
       "_model_module_version": "2.6.6",
       "_model_name": "ObjectModel",
       "_view_count": null,
       "_view_module": null,
       "_view_module_version": "",
       "_view_name": null,
       "attribute": {
        "dtype": "float32",
        "shape": [
         48
        ]
       },
       "color": 255,
       "color_map": {
        "dtype": "float32",
        "shape": [
         256,
         4
        ]
       },
       "color_range": [
        0.0,
        0.10829371213912964
       ],
       "compression_level": 0,
       "flat_shading": false,
       "id": 140434212905648,
       "indices": {
        "dtype": "uint32",
        "shape": [
         16,
         3
        ]
       },
       "model_matrix": {
        "dtype": "float32",
        "shape": [
         4,
         4
        ]
       },
       "name": null,
       "opacity": 1.0,
       "type": "Mesh",
       "vertices": {
        "dtype": "float32",
        "shape": [
         48,
         3
        ]
       },
       "visible": true,
       "wireframe": false
      }
     },
     "a2825508cbd84ff8b45b76424e0049d4": {
      "model_module": "@jupyter-widgets/controls",
      "model_module_version": "1.5.0",
      "model_name": "AccordionModel",
      "state": {
       "_dom_classes": [],
       "_model_module": "@jupyter-widgets/controls",
       "_model_module_version": "1.5.0",
       "_model_name": "AccordionModel",
       "_titles": {
        "0": "Log Output"
       },
       "_view_count": null,
       "_view_module": "@jupyter-widgets/controls",
       "_view_module_version": "1.5.0",
       "_view_name": "AccordionView",
       "box_style": "",
       "children": [
        "IPY_MODEL_ccd90567adbf479dadd5790a8658e9ec"
       ],
       "layout": "IPY_MODEL_7eb0ee62094a41c9a09f8db40fff87d2",
       "selected_index": null
      }
     },
     "a5369d068ff74d2eab6d41736c383c2f": {
      "model_module": "@jupyter-widgets/controls",
      "model_module_version": "1.5.0",
      "model_name": "DescriptionStyleModel",
      "state": {
       "_model_module": "@jupyter-widgets/controls",
       "_model_module_version": "1.5.0",
       "_model_name": "DescriptionStyleModel",
       "_view_count": null,
       "_view_module": "@jupyter-widgets/base",
       "_view_module_version": "1.2.0",
       "_view_name": "StyleView",
       "description_width": ""
      }
     },
     "a59ed836a7ac4400a78a805927c36652": {
      "model_module": "@jupyter-widgets/controls",
      "model_module_version": "1.5.0",
      "model_name": "DescriptionStyleModel",
      "state": {
       "_model_module": "@jupyter-widgets/controls",
       "_model_module_version": "1.5.0",
       "_model_name": "DescriptionStyleModel",
       "_view_count": null,
       "_view_module": "@jupyter-widgets/base",
       "_view_module_version": "1.2.0",
       "_view_name": "StyleView",
       "description_width": ""
      }
     },
     "a6b7b3ec19e34d63889f5dfefa0e418b": {
      "model_module": "@jupyter-widgets/controls",
      "model_module_version": "1.5.0",
      "model_name": "AccordionModel",
      "state": {
       "_dom_classes": [],
       "_model_module": "@jupyter-widgets/controls",
       "_model_module_version": "1.5.0",
       "_model_name": "AccordionModel",
       "_titles": {
        "0": "Log Output"
       },
       "_view_count": null,
       "_view_module": "@jupyter-widgets/controls",
       "_view_module_version": "1.5.0",
       "_view_name": "AccordionView",
       "box_style": "",
       "children": [
        "IPY_MODEL_75d4143b1c3f4102a772c56101df65d1"
       ],
       "layout": "IPY_MODEL_99306cc9f14048b684f9fa42e7bd56e8",
       "selected_index": null
      }
     },
     "aa599b99c1ca448597f3f2a90a270fe0": {
      "model_module": "@jupyter-widgets/base",
      "model_module_version": "1.2.0",
      "model_name": "LayoutModel",
      "state": {
       "_model_module": "@jupyter-widgets/base",
       "_model_module_version": "1.2.0",
       "_model_name": "LayoutModel",
       "_view_count": null,
       "_view_module": "@jupyter-widgets/base",
       "_view_module_version": "1.2.0",
       "_view_name": "LayoutView",
       "align_content": null,
       "align_items": null,
       "align_self": null,
       "border": null,
       "bottom": null,
       "display": null,
       "flex": null,
       "flex_flow": null,
       "grid_area": null,
       "grid_auto_columns": null,
       "grid_auto_flow": null,
       "grid_auto_rows": null,
       "grid_column": null,
       "grid_gap": null,
       "grid_row": null,
       "grid_template_areas": null,
       "grid_template_columns": null,
       "grid_template_rows": null,
       "height": "16em",
       "justify_content": null,
       "justify_items": null,
       "left": null,
       "margin": null,
       "max_height": null,
       "max_width": null,
       "min_height": null,
       "min_width": null,
       "object_fit": null,
       "object_position": null,
       "order": null,
       "overflow": null,
       "overflow_x": null,
       "overflow_y": "auto",
       "padding": null,
       "right": null,
       "top": null,
       "visibility": null,
       "width": "100%"
      }
     },
     "aa81cce1214f4663bce7059bef6e99b6": {
      "model_module": "@jupyter-widgets/controls",
      "model_module_version": "1.5.0",
      "model_name": "AccordionModel",
      "state": {
       "_dom_classes": [],
       "_model_module": "@jupyter-widgets/controls",
       "_model_module_version": "1.5.0",
       "_model_name": "AccordionModel",
       "_titles": {
        "0": "Log Output"
       },
       "_view_count": null,
       "_view_module": "@jupyter-widgets/controls",
       "_view_module_version": "1.5.0",
       "_view_name": "AccordionView",
       "box_style": "",
       "children": [
        "IPY_MODEL_797e86e304544195afaacf68f81b17ab"
       ],
       "layout": "IPY_MODEL_e250b653949248688855d1a7f53ad93b",
       "selected_index": null
      }
     },
     "ab60ef287c544d31b37283872c36dbec": {
      "model_module": "@jupyter-widgets/controls",
      "model_module_version": "1.5.0",
      "model_name": "DescriptionStyleModel",
      "state": {
       "_model_module": "@jupyter-widgets/controls",
       "_model_module_version": "1.5.0",
       "_model_name": "DescriptionStyleModel",
       "_view_count": null,
       "_view_module": "@jupyter-widgets/base",
       "_view_module_version": "1.2.0",
       "_view_name": "StyleView",
       "description_width": ""
      }
     },
     "ae62ebdfa52840658fcddd2be05a45dd": {
      "model_module": "@jupyter-widgets/base",
      "model_module_version": "1.2.0",
      "model_name": "LayoutModel",
      "state": {
       "_model_module": "@jupyter-widgets/base",
       "_model_module_version": "1.2.0",
       "_model_name": "LayoutModel",
       "_view_count": null,
       "_view_module": "@jupyter-widgets/base",
       "_view_module_version": "1.2.0",
       "_view_name": "LayoutView",
       "align_content": null,
       "align_items": null,
       "align_self": null,
       "border": null,
       "bottom": null,
       "display": null,
       "flex": null,
       "flex_flow": null,
       "grid_area": null,
       "grid_auto_columns": null,
       "grid_auto_flow": null,
       "grid_auto_rows": null,
       "grid_column": null,
       "grid_gap": null,
       "grid_row": null,
       "grid_template_areas": null,
       "grid_template_columns": null,
       "grid_template_rows": null,
       "height": null,
       "justify_content": null,
       "justify_items": null,
       "left": null,
       "margin": null,
       "max_height": null,
       "max_width": null,
       "min_height": null,
       "min_width": null,
       "object_fit": null,
       "object_position": null,
       "order": null,
       "overflow": null,
       "overflow_x": null,
       "overflow_y": null,
       "padding": null,
       "right": null,
       "top": null,
       "visibility": null,
       "width": null
      }
     },
     "aebd70383be84f8b9049fd0135c6c480": {
      "model_module": "@jupyter-widgets/controls",
      "model_module_version": "1.5.0",
      "model_name": "DescriptionStyleModel",
      "state": {
       "_model_module": "@jupyter-widgets/controls",
       "_model_module_version": "1.5.0",
       "_model_name": "DescriptionStyleModel",
       "_view_count": null,
       "_view_module": "@jupyter-widgets/base",
       "_view_module_version": "1.2.0",
       "_view_name": "StyleView",
       "description_width": ""
      }
     },
     "afee37841dfa4a5e9b959721681c1238": {
      "model_module": "@jupyter-widgets/controls",
      "model_module_version": "1.5.0",
      "model_name": "HTMLModel",
      "state": {
       "_dom_classes": [],
       "_model_module": "@jupyter-widgets/controls",
       "_model_module_version": "1.5.0",
       "_model_name": "HTMLModel",
       "_view_count": null,
       "_view_module": "@jupyter-widgets/controls",
       "_view_module_version": "1.5.0",
       "_view_name": "HTMLView",
       "description": "",
       "description_tooltip": null,
       "layout": "IPY_MODEL_62f87629473445b1bc079d1e1513ba26",
       "placeholder": "​",
       "style": "IPY_MODEL_64cb017c62b14e5fbc6b6a4a33746e44",
       "value": ""
      }
     },
     "b19c10644e62443ca601c8c71c797c52": {
      "model_module": "@jupyter-widgets/base",
      "model_module_version": "1.2.0",
      "model_name": "LayoutModel",
      "state": {
       "_model_module": "@jupyter-widgets/base",
       "_model_module_version": "1.2.0",
       "_model_name": "LayoutModel",
       "_view_count": null,
       "_view_module": "@jupyter-widgets/base",
       "_view_module_version": "1.2.0",
       "_view_name": "LayoutView",
       "align_content": null,
       "align_items": null,
       "align_self": null,
       "border": null,
       "bottom": null,
       "display": null,
       "flex": null,
       "flex_flow": null,
       "grid_area": null,
       "grid_auto_columns": null,
       "grid_auto_flow": null,
       "grid_auto_rows": null,
       "grid_column": null,
       "grid_gap": null,
       "grid_row": null,
       "grid_template_areas": null,
       "grid_template_columns": null,
       "grid_template_rows": null,
       "height": null,
       "justify_content": null,
       "justify_items": null,
       "left": null,
       "margin": null,
       "max_height": null,
       "max_width": null,
       "min_height": null,
       "min_width": null,
       "object_fit": null,
       "object_position": null,
       "order": null,
       "overflow": null,
       "overflow_x": null,
       "overflow_y": null,
       "padding": null,
       "right": null,
       "top": null,
       "visibility": null,
       "width": null
      }
     },
     "b2b46da4283d472185348aeaed737181": {
      "model_module": "@jupyter-widgets/controls",
      "model_module_version": "1.5.0",
      "model_name": "AccordionModel",
      "state": {
       "_dom_classes": [],
       "_model_module": "@jupyter-widgets/controls",
       "_model_module_version": "1.5.0",
       "_model_name": "AccordionModel",
       "_titles": {
        "0": "Log Output"
       },
       "_view_count": null,
       "_view_module": "@jupyter-widgets/controls",
       "_view_module_version": "1.5.0",
       "_view_name": "AccordionView",
       "box_style": "",
       "children": [
        "IPY_MODEL_563bf48da4044b53b08ad4348d2d01e0"
       ],
       "layout": "IPY_MODEL_9977b6b66c384efdae81e5a9c271de22",
       "selected_index": null
      }
     },
     "b323da6a24e54032954012c60c3bf473": {
      "model_module": "@jupyter-widgets/controls",
      "model_module_version": "1.5.0",
      "model_name": "HTMLModel",
      "state": {
       "_dom_classes": [],
       "_model_module": "@jupyter-widgets/controls",
       "_model_module_version": "1.5.0",
       "_model_name": "HTMLModel",
       "_view_count": null,
       "_view_module": "@jupyter-widgets/controls",
       "_view_module_version": "1.5.0",
       "_view_name": "HTMLView",
       "description": "",
       "description_tooltip": null,
       "layout": "IPY_MODEL_c3175d73d944486daa3cee891c64666e",
       "placeholder": "​",
       "style": "IPY_MODEL_d4577e18d666431f8ded476f265ee39d",
       "value": ""
      }
     },
     "b6674c6d6f044610b582ebcc48784892": {
      "model_module": "@jupyter-widgets/base",
      "model_module_version": "1.2.0",
      "model_name": "LayoutModel",
      "state": {
       "_model_module": "@jupyter-widgets/base",
       "_model_module_version": "1.2.0",
       "_model_name": "LayoutModel",
       "_view_count": null,
       "_view_module": "@jupyter-widgets/base",
       "_view_module_version": "1.2.0",
       "_view_name": "LayoutView",
       "align_content": null,
       "align_items": null,
       "align_self": null,
       "border": null,
       "bottom": null,
       "display": null,
       "flex": null,
       "flex_flow": null,
       "grid_area": null,
       "grid_auto_columns": null,
       "grid_auto_flow": null,
       "grid_auto_rows": null,
       "grid_column": null,
       "grid_gap": null,
       "grid_row": null,
       "grid_template_areas": null,
       "grid_template_columns": null,
       "grid_template_rows": null,
       "height": null,
       "justify_content": null,
       "justify_items": null,
       "left": null,
       "margin": null,
       "max_height": null,
       "max_width": null,
       "min_height": null,
       "min_width": null,
       "object_fit": null,
       "object_position": null,
       "order": null,
       "overflow": null,
       "overflow_x": null,
       "overflow_y": null,
       "padding": null,
       "right": null,
       "top": null,
       "visibility": null,
       "width": null
      }
     },
     "b6a4551d399f47e5bb6fc791f3daf2c0": {
      "model_module": "@jupyter-widgets/base",
      "model_module_version": "1.2.0",
      "model_name": "LayoutModel",
      "state": {
       "_model_module": "@jupyter-widgets/base",
       "_model_module_version": "1.2.0",
       "_model_name": "LayoutModel",
       "_view_count": null,
       "_view_module": "@jupyter-widgets/base",
       "_view_module_version": "1.2.0",
       "_view_name": "LayoutView",
       "align_content": null,
       "align_items": null,
       "align_self": null,
       "border": null,
       "bottom": null,
       "display": null,
       "flex": null,
       "flex_flow": null,
       "grid_area": null,
       "grid_auto_columns": null,
       "grid_auto_flow": null,
       "grid_auto_rows": null,
       "grid_column": null,
       "grid_gap": null,
       "grid_row": null,
       "grid_template_areas": null,
       "grid_template_columns": null,
       "grid_template_rows": null,
       "height": null,
       "justify_content": null,
       "justify_items": null,
       "left": null,
       "margin": null,
       "max_height": null,
       "max_width": null,
       "min_height": null,
       "min_width": null,
       "object_fit": null,
       "object_position": null,
       "order": null,
       "overflow": null,
       "overflow_x": null,
       "overflow_y": null,
       "padding": null,
       "right": null,
       "top": null,
       "visibility": null,
       "width": null
      }
     },
     "b6c007a2044b46ad9df94db68c8fa76b": {
      "model_module": "@jupyter-widgets/controls",
      "model_module_version": "1.5.0",
      "model_name": "HTMLModel",
      "state": {
       "_dom_classes": [],
       "_model_module": "@jupyter-widgets/controls",
       "_model_module_version": "1.5.0",
       "_model_name": "HTMLModel",
       "_view_count": null,
       "_view_module": "@jupyter-widgets/controls",
       "_view_module_version": "1.5.0",
       "_view_name": "HTMLView",
       "description": "",
       "description_tooltip": null,
       "layout": "IPY_MODEL_dfb3472adcaa4683a309fcb54cbc06b2",
       "placeholder": "​",
       "style": "IPY_MODEL_434c8aaaba4e4f7fbc84696f6e8b0b73",
       "value": ""
      }
     },
     "b738e417594843b7a42b77cbdc9ca860": {
      "model_module": "@jupyter-widgets/base",
      "model_module_version": "1.2.0",
      "model_name": "LayoutModel",
      "state": {
       "_model_module": "@jupyter-widgets/base",
       "_model_module_version": "1.2.0",
       "_model_name": "LayoutModel",
       "_view_count": null,
       "_view_module": "@jupyter-widgets/base",
       "_view_module_version": "1.2.0",
       "_view_name": "LayoutView",
       "align_content": null,
       "align_items": null,
       "align_self": null,
       "border": null,
       "bottom": null,
       "display": null,
       "flex": null,
       "flex_flow": null,
       "grid_area": null,
       "grid_auto_columns": null,
       "grid_auto_flow": null,
       "grid_auto_rows": null,
       "grid_column": null,
       "grid_gap": null,
       "grid_row": null,
       "grid_template_areas": null,
       "grid_template_columns": null,
       "grid_template_rows": null,
       "height": "16em",
       "justify_content": null,
       "justify_items": null,
       "left": null,
       "margin": null,
       "max_height": null,
       "max_width": null,
       "min_height": null,
       "min_width": null,
       "object_fit": null,
       "object_position": null,
       "order": null,
       "overflow": null,
       "overflow_x": null,
       "overflow_y": "auto",
       "padding": null,
       "right": null,
       "top": null,
       "visibility": null,
       "width": "100%"
      }
     },
     "b7f898189c6f4ed7a4e0c346858270fc": {
      "model_module": "@jupyter-widgets/base",
      "model_module_version": "1.2.0",
      "model_name": "LayoutModel",
      "state": {
       "_model_module": "@jupyter-widgets/base",
       "_model_module_version": "1.2.0",
       "_model_name": "LayoutModel",
       "_view_count": null,
       "_view_module": "@jupyter-widgets/base",
       "_view_module_version": "1.2.0",
       "_view_name": "LayoutView",
       "align_content": null,
       "align_items": null,
       "align_self": null,
       "border": null,
       "bottom": null,
       "display": null,
       "flex": null,
       "flex_flow": null,
       "grid_area": null,
       "grid_auto_columns": null,
       "grid_auto_flow": null,
       "grid_auto_rows": null,
       "grid_column": null,
       "grid_gap": null,
       "grid_row": null,
       "grid_template_areas": null,
       "grid_template_columns": null,
       "grid_template_rows": null,
       "height": null,
       "justify_content": null,
       "justify_items": null,
       "left": null,
       "margin": null,
       "max_height": null,
       "max_width": null,
       "min_height": null,
       "min_width": null,
       "object_fit": null,
       "object_position": null,
       "order": null,
       "overflow": null,
       "overflow_x": null,
       "overflow_y": null,
       "padding": null,
       "right": null,
       "top": null,
       "visibility": null,
       "width": null
      }
     },
     "b92cb7eedc4349be8c798fee5f57eab7": {
      "model_module": "@jupyter-widgets/base",
      "model_module_version": "1.2.0",
      "model_name": "LayoutModel",
      "state": {
       "_model_module": "@jupyter-widgets/base",
       "_model_module_version": "1.2.0",
       "_model_name": "LayoutModel",
       "_view_count": null,
       "_view_module": "@jupyter-widgets/base",
       "_view_module_version": "1.2.0",
       "_view_name": "LayoutView",
       "align_content": null,
       "align_items": null,
       "align_self": null,
       "border": null,
       "bottom": null,
       "display": null,
       "flex": null,
       "flex_flow": null,
       "grid_area": null,
       "grid_auto_columns": null,
       "grid_auto_flow": null,
       "grid_auto_rows": null,
       "grid_column": null,
       "grid_gap": null,
       "grid_row": null,
       "grid_template_areas": null,
       "grid_template_columns": null,
       "grid_template_rows": null,
       "height": null,
       "justify_content": null,
       "justify_items": null,
       "left": null,
       "margin": null,
       "max_height": null,
       "max_width": null,
       "min_height": null,
       "min_width": null,
       "object_fit": null,
       "object_position": null,
       "order": null,
       "overflow": null,
       "overflow_x": null,
       "overflow_y": null,
       "padding": null,
       "right": null,
       "top": null,
       "visibility": null,
       "width": null
      }
     },
     "b938bc0269b24a92b0a9fb17e96524b3": {
      "model_module": "@jupyter-widgets/base",
      "model_module_version": "1.2.0",
      "model_name": "LayoutModel",
      "state": {
       "_model_module": "@jupyter-widgets/base",
       "_model_module_version": "1.2.0",
       "_model_name": "LayoutModel",
       "_view_count": null,
       "_view_module": "@jupyter-widgets/base",
       "_view_module_version": "1.2.0",
       "_view_name": "LayoutView",
       "align_content": null,
       "align_items": null,
       "align_self": null,
       "border": null,
       "bottom": null,
       "display": null,
       "flex": null,
       "flex_flow": null,
       "grid_area": null,
       "grid_auto_columns": null,
       "grid_auto_flow": null,
       "grid_auto_rows": null,
       "grid_column": null,
       "grid_gap": null,
       "grid_row": null,
       "grid_template_areas": null,
       "grid_template_columns": null,
       "grid_template_rows": null,
       "height": "16em",
       "justify_content": null,
       "justify_items": null,
       "left": null,
       "margin": null,
       "max_height": null,
       "max_width": null,
       "min_height": null,
       "min_width": null,
       "object_fit": null,
       "object_position": null,
       "order": null,
       "overflow": null,
       "overflow_x": null,
       "overflow_y": "auto",
       "padding": null,
       "right": null,
       "top": null,
       "visibility": null,
       "width": "100%"
      }
     },
     "b9553668548a4e6ba6643e62d0799172": {
      "model_module": "@jupyter-widgets/base",
      "model_module_version": "1.2.0",
      "model_name": "LayoutModel",
      "state": {
       "_model_module": "@jupyter-widgets/base",
       "_model_module_version": "1.2.0",
       "_model_name": "LayoutModel",
       "_view_count": null,
       "_view_module": "@jupyter-widgets/base",
       "_view_module_version": "1.2.0",
       "_view_name": "LayoutView",
       "align_content": null,
       "align_items": null,
       "align_self": null,
       "border": null,
       "bottom": null,
       "display": null,
       "flex": null,
       "flex_flow": null,
       "grid_area": null,
       "grid_auto_columns": null,
       "grid_auto_flow": null,
       "grid_auto_rows": null,
       "grid_column": null,
       "grid_gap": null,
       "grid_row": null,
       "grid_template_areas": null,
       "grid_template_columns": null,
       "grid_template_rows": null,
       "height": "16em",
       "justify_content": null,
       "justify_items": null,
       "left": null,
       "margin": null,
       "max_height": null,
       "max_width": null,
       "min_height": null,
       "min_width": null,
       "object_fit": null,
       "object_position": null,
       "order": null,
       "overflow": null,
       "overflow_x": null,
       "overflow_y": "auto",
       "padding": null,
       "right": null,
       "top": null,
       "visibility": null,
       "width": "100%"
      }
     },
     "bef3b0c309df4ae6968dde591fd74919": {
      "model_module": "@jupyter-widgets/base",
      "model_module_version": "1.2.0",
      "model_name": "LayoutModel",
      "state": {
       "_model_module": "@jupyter-widgets/base",
       "_model_module_version": "1.2.0",
       "_model_name": "LayoutModel",
       "_view_count": null,
       "_view_module": "@jupyter-widgets/base",
       "_view_module_version": "1.2.0",
       "_view_name": "LayoutView",
       "align_content": null,
       "align_items": null,
       "align_self": null,
       "border": null,
       "bottom": null,
       "display": null,
       "flex": null,
       "flex_flow": null,
       "grid_area": null,
       "grid_auto_columns": null,
       "grid_auto_flow": null,
       "grid_auto_rows": null,
       "grid_column": null,
       "grid_gap": null,
       "grid_row": null,
       "grid_template_areas": null,
       "grid_template_columns": null,
       "grid_template_rows": null,
       "height": null,
       "justify_content": null,
       "justify_items": null,
       "left": null,
       "margin": null,
       "max_height": null,
       "max_width": null,
       "min_height": null,
       "min_width": null,
       "object_fit": null,
       "object_position": null,
       "order": null,
       "overflow": null,
       "overflow_x": null,
       "overflow_y": null,
       "padding": null,
       "right": null,
       "top": null,
       "visibility": null,
       "width": null
      }
     },
     "bfee828f020b47ca82e3fc3d80cba4ef": {
      "model_module": "k3d",
      "model_module_version": "2.6.6",
      "model_name": "PlotModel",
      "state": {
       "_backend_version": "2.6.6",
       "_dom_classes": [],
       "_model_module": "k3d",
       "_model_module_version": "2.6.6",
       "_model_name": "PlotModel",
       "_view_count": null,
       "_view_module": "k3d",
       "_view_module_version": "2.6.6",
       "_view_name": "PlotView",
       "antialias": 3,
       "axes": [
        "x",
        "y",
        "z"
       ],
       "background_color": 16777215,
       "camera": [
        0.5,
        0.5,
        0.8660254037844387,
        0.5,
        0.5,
        0.0,
        0,
        1,
        0
       ],
       "camera_auto_fit": false,
       "camera_no_pan": true,
       "camera_no_rotate": true,
       "camera_no_zoom": true,
       "clipping_planes": [],
       "colorbar_object_id": -1,
       "fps_meter": false,
       "grid": [
        0.0,
        0.0,
        0.0,
        1.0,
        1.0,
        0.0
       ],
       "grid_auto_fit": false,
       "grid_visible": false,
       "height": 512,
       "layout": "IPY_MODEL_91822c597aa54a8e9544f88d4cb548f9",
       "lighting": 1.0,
       "menu_visibility": false,
       "object_ids": [
        140435775704992
       ],
       "rendering_steps": 1,
       "screenshot": "",
       "screenshot_scale": 2.0,
       "time": 0.0,
       "voxel_paint_color": 0
      }
     },
     "c19181bdae5842d4ade398751a4283e3": {
      "model_module": "@jupyter-widgets/controls",
      "model_module_version": "1.5.0",
      "model_name": "DescriptionStyleModel",
      "state": {
       "_model_module": "@jupyter-widgets/controls",
       "_model_module_version": "1.5.0",
       "_model_name": "DescriptionStyleModel",
       "_view_count": null,
       "_view_module": "@jupyter-widgets/base",
       "_view_module_version": "1.2.0",
       "_view_name": "StyleView",
       "description_width": ""
      }
     },
     "c24a9af7e25443458895cce39031ab03": {
      "model_module": "@jupyter-widgets/base",
      "model_module_version": "1.2.0",
      "model_name": "LayoutModel",
      "state": {
       "_model_module": "@jupyter-widgets/base",
       "_model_module_version": "1.2.0",
       "_model_name": "LayoutModel",
       "_view_count": null,
       "_view_module": "@jupyter-widgets/base",
       "_view_module_version": "1.2.0",
       "_view_name": "LayoutView",
       "align_content": null,
       "align_items": null,
       "align_self": null,
       "border": null,
       "bottom": null,
       "display": null,
       "flex": null,
       "flex_flow": null,
       "grid_area": null,
       "grid_auto_columns": null,
       "grid_auto_flow": null,
       "grid_auto_rows": null,
       "grid_column": null,
       "grid_gap": null,
       "grid_row": null,
       "grid_template_areas": null,
       "grid_template_columns": null,
       "grid_template_rows": null,
       "height": "16em",
       "justify_content": null,
       "justify_items": null,
       "left": null,
       "margin": null,
       "max_height": null,
       "max_width": null,
       "min_height": null,
       "min_width": null,
       "object_fit": null,
       "object_position": null,
       "order": null,
       "overflow": null,
       "overflow_x": null,
       "overflow_y": "auto",
       "padding": null,
       "right": null,
       "top": null,
       "visibility": null,
       "width": "100%"
      }
     },
     "c3175d73d944486daa3cee891c64666e": {
      "model_module": "@jupyter-widgets/base",
      "model_module_version": "1.2.0",
      "model_name": "LayoutModel",
      "state": {
       "_model_module": "@jupyter-widgets/base",
       "_model_module_version": "1.2.0",
       "_model_name": "LayoutModel",
       "_view_count": null,
       "_view_module": "@jupyter-widgets/base",
       "_view_module_version": "1.2.0",
       "_view_name": "LayoutView",
       "align_content": null,
       "align_items": null,
       "align_self": null,
       "border": null,
       "bottom": null,
       "display": null,
       "flex": null,
       "flex_flow": null,
       "grid_area": null,
       "grid_auto_columns": null,
       "grid_auto_flow": null,
       "grid_auto_rows": null,
       "grid_column": null,
       "grid_gap": null,
       "grid_row": null,
       "grid_template_areas": null,
       "grid_template_columns": null,
       "grid_template_rows": null,
       "height": "16em",
       "justify_content": null,
       "justify_items": null,
       "left": null,
       "margin": null,
       "max_height": null,
       "max_width": null,
       "min_height": null,
       "min_width": null,
       "object_fit": null,
       "object_position": null,
       "order": null,
       "overflow": null,
       "overflow_x": null,
       "overflow_y": "auto",
       "padding": null,
       "right": null,
       "top": null,
       "visibility": null,
       "width": "100%"
      }
     },
     "c5380d366a4b441db917b45c5d5d7eae": {
      "model_module": "@jupyter-widgets/base",
      "model_module_version": "1.2.0",
      "model_name": "LayoutModel",
      "state": {
       "_model_module": "@jupyter-widgets/base",
       "_model_module_version": "1.2.0",
       "_model_name": "LayoutModel",
       "_view_count": null,
       "_view_module": "@jupyter-widgets/base",
       "_view_module_version": "1.2.0",
       "_view_name": "LayoutView",
       "align_content": null,
       "align_items": null,
       "align_self": null,
       "border": null,
       "bottom": null,
       "display": null,
       "flex": null,
       "flex_flow": null,
       "grid_area": null,
       "grid_auto_columns": null,
       "grid_auto_flow": null,
       "grid_auto_rows": null,
       "grid_column": null,
       "grid_gap": null,
       "grid_row": null,
       "grid_template_areas": null,
       "grid_template_columns": null,
       "grid_template_rows": null,
       "height": "16em",
       "justify_content": null,
       "justify_items": null,
       "left": null,
       "margin": null,
       "max_height": null,
       "max_width": null,
       "min_height": null,
       "min_width": null,
       "object_fit": null,
       "object_position": null,
       "order": null,
       "overflow": null,
       "overflow_x": null,
       "overflow_y": "auto",
       "padding": null,
       "right": null,
       "top": null,
       "visibility": null,
       "width": "100%"
      }
     },
     "c73b16d9f3d1479e857081eb52812332": {
      "model_module": "@jupyter-widgets/controls",
      "model_module_version": "1.5.0",
      "model_name": "DescriptionStyleModel",
      "state": {
       "_model_module": "@jupyter-widgets/controls",
       "_model_module_version": "1.5.0",
       "_model_name": "DescriptionStyleModel",
       "_view_count": null,
       "_view_module": "@jupyter-widgets/base",
       "_view_module_version": "1.2.0",
       "_view_name": "StyleView",
       "description_width": ""
      }
     },
     "c8b3c830524541e1a1e08e3161a92aba": {
      "model_module": "@jupyter-widgets/controls",
      "model_module_version": "1.5.0",
      "model_name": "HTMLModel",
      "state": {
       "_dom_classes": [],
       "_model_module": "@jupyter-widgets/controls",
       "_model_module_version": "1.5.0",
       "_model_name": "HTMLModel",
       "_view_count": null,
       "_view_module": "@jupyter-widgets/controls",
       "_view_module_version": "1.5.0",
       "_view_name": "HTMLView",
       "description": "",
       "description_tooltip": null,
       "layout": "IPY_MODEL_f43a11073fe644bbbd7045d9055679d4",
       "placeholder": "​",
       "style": "IPY_MODEL_01c53f1a9821497e8df6234a90034185",
       "value": ""
      }
     },
     "ccd90567adbf479dadd5790a8658e9ec": {
      "model_module": "@jupyter-widgets/controls",
      "model_module_version": "1.5.0",
      "model_name": "HTMLModel",
      "state": {
       "_dom_classes": [],
       "_model_module": "@jupyter-widgets/controls",
       "_model_module_version": "1.5.0",
       "_model_name": "HTMLModel",
       "_view_count": null,
       "_view_module": "@jupyter-widgets/controls",
       "_view_module_version": "1.5.0",
       "_view_name": "HTMLView",
       "description": "",
       "description_tooltip": null,
       "layout": "IPY_MODEL_b9553668548a4e6ba6643e62d0799172",
       "placeholder": "​",
       "style": "IPY_MODEL_24bd7640327247458b3a57c3559bb0af",
       "value": ""
      }
     },
     "cd2e096413ca436889a6ceddfc183a16": {
      "model_module": "@jupyter-widgets/base",
      "model_module_version": "1.2.0",
      "model_name": "LayoutModel",
      "state": {
       "_model_module": "@jupyter-widgets/base",
       "_model_module_version": "1.2.0",
       "_model_name": "LayoutModel",
       "_view_count": null,
       "_view_module": "@jupyter-widgets/base",
       "_view_module_version": "1.2.0",
       "_view_name": "LayoutView",
       "align_content": null,
       "align_items": null,
       "align_self": null,
       "border": null,
       "bottom": null,
       "display": null,
       "flex": null,
       "flex_flow": null,
       "grid_area": null,
       "grid_auto_columns": null,
       "grid_auto_flow": null,
       "grid_auto_rows": null,
       "grid_column": null,
       "grid_gap": null,
       "grid_row": null,
       "grid_template_areas": null,
       "grid_template_columns": null,
       "grid_template_rows": null,
       "height": "16em",
       "justify_content": null,
       "justify_items": null,
       "left": null,
       "margin": null,
       "max_height": null,
       "max_width": null,
       "min_height": null,
       "min_width": null,
       "object_fit": null,
       "object_position": null,
       "order": null,
       "overflow": null,
       "overflow_x": null,
       "overflow_y": "auto",
       "padding": null,
       "right": null,
       "top": null,
       "visibility": null,
       "width": "100%"
      }
     },
     "cf97959f0dcd4d33bf90905c22df7c4c": {
      "buffers": [
       {
        "data": "AAAAAAAAAAAAAAAAAACAPwAAgD8AAIA/AAAAQAAAAEAAAABAAABAQAAAQEAAAEBAAACAQAAAgEAAAIBAAACgQAAAoEAAAKBAAADAQAAAwEAAAMBAAADgQAAA4EAAAOBAAAAAQQAAAEEAAABBAAAQQQAAEEEAABBBAAAgQQAAIEEAACBBAAAwQQAAMEEAADBBAABAQQAAQEEAAEBBAABQQQAAUEEAAFBBAABgQQAAYEEAAGBBAABwQQAAcEEAAHBB",
        "encoding": "base64",
        "path": [
         "attribute",
         "buffer"
        ]
       },
       {
        "data": "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",
        "encoding": "base64",
        "path": [
         "color_map",
         "buffer"
        ]
       },
       {
        "data": "AAAAAAEAAAACAAAAAwAAAAQAAAAFAAAABgAAAAcAAAAIAAAACQAAAAoAAAALAAAADAAAAA0AAAAOAAAADwAAABAAAAARAAAAEgAAABMAAAAUAAAAFQAAABYAAAAXAAAAGAAAABkAAAAaAAAAGwAAABwAAAAdAAAAHgAAAB8AAAAgAAAAIQAAACIAAAAjAAAAJAAAACUAAAAmAAAAJwAAACgAAAApAAAAKgAAACsAAAAsAAAALQAAAC4AAAAvAAAA",
        "encoding": "base64",
        "path": [
         "indices",
         "buffer"
        ]
       },
       {
        "data": "AACAPwAAAAAAAAAAAAAAAAAAAAAAAIA/AAAAAAAAAAAAAAAAAAAAAAAAgD8AAAAAAAAAAAAAAAAAAAAAAACAPw==",
        "encoding": "base64",
        "path": [
         "model_matrix",
         "buffer"
        ]
       },
       {
        "data": "AAAAPwAAAD8AAAAAAAAAPwAAAAAAAAAAAACAPgAAgD4AAAAAAACAPgAAgD4AAAAAAAAAPwAAAAAAAAAAAAAAAAAAAAAAAAAAAAAAAAAAAAAAAAAAAAAAAAAAAD8AAAAAAACAPgAAgD4AAAAAAACAPgAAgD4AAAAAAAAAAAAAAD8AAAAAAAAAPwAAAD8AAAAAAACAPwAAAD8AAAAAAACAPwAAAAAAAAAAAABAPwAAgD4AAAAAAABAPwAAgD4AAAAAAACAPwAAAAAAAAAAAAAAPwAAAAAAAAAAAAAAPwAAAAAAAAAAAAAAPwAAAD8AAAAAAABAPwAAgD4AAAAAAABAPwAAgD4AAAAAAAAAPwAAAD8AAAAAAACAPwAAAD8AAAAAAAAAAAAAAD8AAAAAAAAAAAAAgD8AAAAAAACAPgAAQD8AAAAAAACAPgAAQD8AAAAAAAAAAAAAgD8AAAAAAAAAPwAAgD8AAAAAAAAAPwAAgD8AAAAAAAAAPwAAAD8AAAAAAACAPgAAQD8AAAAAAACAPgAAQD8AAAAAAAAAPwAAAD8AAAAAAAAAAAAAAD8AAAAAAACAPwAAgD8AAAAAAACAPwAAAD8AAAAAAABAPwAAQD8AAAAAAABAPwAAQD8AAAAAAACAPwAAAD8AAAAAAAAAPwAAAD8AAAAAAAAAPwAAAD8AAAAAAAAAPwAAgD8AAAAAAABAPwAAQD8AAAAAAABAPwAAQD8AAAAAAAAAPwAAgD8AAAAAAACAPwAAgD8AAAAA",
        "encoding": "base64",
        "path": [
         "vertices",
         "buffer"
        ]
       }
      ],
      "model_module": "k3d",
      "model_module_version": "2.6.6",
      "model_name": "ObjectModel",
      "state": {
       "_model_module": "k3d",
       "_model_module_version": "2.6.6",
       "_model_name": "ObjectModel",
       "_view_count": null,
       "_view_module": null,
       "_view_module_version": "",
       "_view_name": null,
       "attribute": {
        "dtype": "float32",
        "shape": [
         48
        ]
       },
       "color": 255,
       "color_map": {
        "dtype": "float32",
        "shape": [
         256,
         4
        ]
       },
       "color_range": [
        0.0,
        15.0
       ],
       "compression_level": 0,
       "flat_shading": false,
       "id": 140435775704992,
       "indices": {
        "dtype": "uint32",
        "shape": [
         16,
         3
        ]
       },
       "model_matrix": {
        "dtype": "float32",
        "shape": [
         4,
         4
        ]
       },
       "name": null,
       "opacity": 1.0,
       "type": "Mesh",
       "vertices": {
        "dtype": "float32",
        "shape": [
         48,
         3
        ]
       },
       "visible": true,
       "wireframe": false
      }
     },
     "d4577e18d666431f8ded476f265ee39d": {
      "model_module": "@jupyter-widgets/controls",
      "model_module_version": "1.5.0",
      "model_name": "DescriptionStyleModel",
      "state": {
       "_model_module": "@jupyter-widgets/controls",
       "_model_module_version": "1.5.0",
       "_model_name": "DescriptionStyleModel",
       "_view_count": null,
       "_view_module": "@jupyter-widgets/base",
       "_view_module_version": "1.2.0",
       "_view_name": "StyleView",
       "description_width": ""
      }
     },
     "d47013c011744743b0def37e63721646": {
      "buffers": [
       {
        "data": "RnK3PgAAAACw5+Q9sOfkPQAAAAAAAAAAAAAAAAAAAACw5+Q9sOfkPQAAAABGcrc+AAAAPwAAAABgj3U+YI91PgAAAAAAAAAAAAAAAEZytz5gj3U+YI91PkZytz4AAAA/AAAAAAAAAABgj3U+YI91PgAAAAAAAAA/AAAAP0Zytz5gj3U+YI91PkZytz4AAAAAAACAPwAAAD/mWyA/5lsgPwAAAD9Gcrc+RnK3PgAAAD/mWyA/5lsgPwAAAD8AAIA/",
        "encoding": "base64",
        "path": [
         "attribute",
         "buffer"
        ]
       },
       {
        "data": "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",
        "encoding": "base64",
        "path": [
         "color_map",
         "buffer"
        ]
       },
       {
        "data": "AAAAAAEAAAACAAAAAwAAAAQAAAAFAAAABgAAAAcAAAAIAAAACQAAAAoAAAALAAAADAAAAA0AAAAOAAAADwAAABAAAAARAAAAEgAAABMAAAAUAAAAFQAAABYAAAAXAAAAGAAAABkAAAAaAAAAGwAAABwAAAAdAAAAHgAAAB8AAAAgAAAAIQAAACIAAAAjAAAAJAAAACUAAAAmAAAAJwAAACgAAAApAAAAKgAAACsAAAAsAAAALQAAAC4AAAAvAAAA",
        "encoding": "base64",
        "path": [
         "indices",
         "buffer"
        ]
       },
       {
        "data": "AACAPwAAAAAAAAAAAAAAAAAAAAAAAIA/AAAAAAAAAAAAAAAAAAAAAAAAgD8AAAAAAAAAAAAAAAAAAAAAAACAPw==",
        "encoding": "base64",
        "path": [
         "model_matrix",
         "buffer"
        ]
       },
       {
        "data": "AAAAPwAAAD8AAAAAAAAAPwAAAAAAAAAAAACAPgAAgD4AAAAAAACAPgAAgD4AAAAAAAAAPwAAAAAAAAAAAAAAAAAAAAAAAAAAAAAAAAAAAAAAAAAAAAAAAAAAAD8AAAAAAACAPgAAgD4AAAAAAACAPgAAgD4AAAAAAAAAAAAAAD8AAAAAAAAAPwAAAD8AAAAAAACAPwAAAD8AAAAAAACAPwAAAAAAAAAAAABAPwAAgD4AAAAAAABAPwAAgD4AAAAAAACAPwAAAAAAAAAAAAAAPwAAAAAAAAAAAAAAPwAAAAAAAAAAAAAAPwAAAD8AAAAAAABAPwAAgD4AAAAAAABAPwAAgD4AAAAAAAAAPwAAAD8AAAAAAACAPwAAAD8AAAAAAAAAAAAAAD8AAAAAAAAAAAAAgD8AAAAAAACAPgAAQD8AAAAAAACAPgAAQD8AAAAAAAAAAAAAgD8AAAAAAAAAPwAAgD8AAAAAAAAAPwAAgD8AAAAAAAAAPwAAAD8AAAAAAACAPgAAQD8AAAAAAACAPgAAQD8AAAAAAAAAPwAAAD8AAAAAAAAAAAAAAD8AAAAAAACAPwAAgD8AAAAAAACAPwAAAD8AAAAAAABAPwAAQD8AAAAAAABAPwAAQD8AAAAAAACAPwAAAD8AAAAAAAAAPwAAAD8AAAAAAAAAPwAAAD8AAAAAAAAAPwAAgD8AAAAAAABAPwAAQD8AAAAAAABAPwAAQD8AAAAAAAAAPwAAgD8AAAAAAACAPwAAgD8AAAAA",
        "encoding": "base64",
        "path": [
         "vertices",
         "buffer"
        ]
       }
      ],
      "model_module": "k3d",
      "model_module_version": "2.6.6",
      "model_name": "ObjectModel",
      "state": {
       "_model_module": "k3d",
       "_model_module_version": "2.6.6",
       "_model_name": "ObjectModel",
       "_view_count": null,
       "_view_module": null,
       "_view_module_version": "",
       "_view_name": null,
       "attribute": {
        "dtype": "float32",
        "shape": [
         48
        ]
       },
       "color": 255,
       "color_map": {
        "dtype": "float32",
        "shape": [
         256,
         4
        ]
       },
       "color_range": [
        0.0,
        1.0
       ],
       "compression_level": 0,
       "flat_shading": false,
       "id": 140434212821696,
       "indices": {
        "dtype": "uint32",
        "shape": [
         16,
         3
        ]
       },
       "model_matrix": {
        "dtype": "float32",
        "shape": [
         4,
         4
        ]
       },
       "name": null,
       "opacity": 1.0,
       "type": "Mesh",
       "vertices": {
        "dtype": "float32",
        "shape": [
         48,
         3
        ]
       },
       "visible": true,
       "wireframe": false
      }
     },
     "d4f740f1796e4f108468ab7a52a45ae2": {
      "model_module": "@jupyter-widgets/controls",
      "model_module_version": "1.5.0",
      "model_name": "DescriptionStyleModel",
      "state": {
       "_model_module": "@jupyter-widgets/controls",
       "_model_module_version": "1.5.0",
       "_model_name": "DescriptionStyleModel",
       "_view_count": null,
       "_view_module": "@jupyter-widgets/base",
       "_view_module_version": "1.2.0",
       "_view_name": "StyleView",
       "description_width": ""
      }
     },
     "d92afae58f5c4d1188f32a302a502131": {
      "model_module": "@jupyter-widgets/controls",
      "model_module_version": "1.5.0",
      "model_name": "HTMLModel",
      "state": {
       "_dom_classes": [],
       "_model_module": "@jupyter-widgets/controls",
       "_model_module_version": "1.5.0",
       "_model_name": "HTMLModel",
       "_view_count": null,
       "_view_module": "@jupyter-widgets/controls",
       "_view_module_version": "1.5.0",
       "_view_name": "HTMLView",
       "description": "",
       "description_tooltip": null,
       "layout": "IPY_MODEL_b938bc0269b24a92b0a9fb17e96524b3",
       "placeholder": "​",
       "style": "IPY_MODEL_d4f740f1796e4f108468ab7a52a45ae2",
       "value": ""
      }
     },
     "d9a1b901f8934423aaaf370d7086f793": {
      "model_module": "@jupyter-widgets/controls",
      "model_module_version": "1.5.0",
      "model_name": "AccordionModel",
      "state": {
       "_dom_classes": [],
       "_model_module": "@jupyter-widgets/controls",
       "_model_module_version": "1.5.0",
       "_model_name": "AccordionModel",
       "_titles": {
        "0": "Log Output"
       },
       "_view_count": null,
       "_view_module": "@jupyter-widgets/controls",
       "_view_module_version": "1.5.0",
       "_view_name": "AccordionView",
       "box_style": "",
       "children": [
        "IPY_MODEL_29a7ba4c911c438594be2d4046b2d234"
       ],
       "layout": "IPY_MODEL_6ce2793c41984fa594a07e74e54fd4a2",
       "selected_index": null
      }
     },
     "dcf9e947b12c481287a178317841cc8d": {
      "model_module": "@jupyter-widgets/controls",
      "model_module_version": "1.5.0",
      "model_name": "HTMLModel",
      "state": {
       "_dom_classes": [],
       "_model_module": "@jupyter-widgets/controls",
       "_model_module_version": "1.5.0",
       "_model_name": "HTMLModel",
       "_view_count": null,
       "_view_module": "@jupyter-widgets/controls",
       "_view_module_version": "1.5.0",
       "_view_name": "HTMLView",
       "description": "",
       "description_tooltip": null,
       "layout": "IPY_MODEL_c24a9af7e25443458895cce39031ab03",
       "placeholder": "​",
       "style": "IPY_MODEL_a59ed836a7ac4400a78a805927c36652",
       "value": ""
      }
     },
     "de40075441e54065b4352d3116767478": {
      "model_module": "@jupyter-widgets/controls",
      "model_module_version": "1.5.0",
      "model_name": "DescriptionStyleModel",
      "state": {
       "_model_module": "@jupyter-widgets/controls",
       "_model_module_version": "1.5.0",
       "_model_name": "DescriptionStyleModel",
       "_view_count": null,
       "_view_module": "@jupyter-widgets/base",
       "_view_module_version": "1.2.0",
       "_view_name": "StyleView",
       "description_width": ""
      }
     },
     "df445bd7f0074d69816c1eb35acf70e5": {
      "model_module": "@jupyter-widgets/controls",
      "model_module_version": "1.5.0",
      "model_name": "DescriptionStyleModel",
      "state": {
       "_model_module": "@jupyter-widgets/controls",
       "_model_module_version": "1.5.0",
       "_model_name": "DescriptionStyleModel",
       "_view_count": null,
       "_view_module": "@jupyter-widgets/base",
       "_view_module_version": "1.2.0",
       "_view_name": "StyleView",
       "description_width": ""
      }
     },
     "dfb3472adcaa4683a309fcb54cbc06b2": {
      "model_module": "@jupyter-widgets/base",
      "model_module_version": "1.2.0",
      "model_name": "LayoutModel",
      "state": {
       "_model_module": "@jupyter-widgets/base",
       "_model_module_version": "1.2.0",
       "_model_name": "LayoutModel",
       "_view_count": null,
       "_view_module": "@jupyter-widgets/base",
       "_view_module_version": "1.2.0",
       "_view_name": "LayoutView",
       "align_content": null,
       "align_items": null,
       "align_self": null,
       "border": null,
       "bottom": null,
       "display": null,
       "flex": null,
       "flex_flow": null,
       "grid_area": null,
       "grid_auto_columns": null,
       "grid_auto_flow": null,
       "grid_auto_rows": null,
       "grid_column": null,
       "grid_gap": null,
       "grid_row": null,
       "grid_template_areas": null,
       "grid_template_columns": null,
       "grid_template_rows": null,
       "height": "16em",
       "justify_content": null,
       "justify_items": null,
       "left": null,
       "margin": null,
       "max_height": null,
       "max_width": null,
       "min_height": null,
       "min_width": null,
       "object_fit": null,
       "object_position": null,
       "order": null,
       "overflow": null,
       "overflow_x": null,
       "overflow_y": "auto",
       "padding": null,
       "right": null,
       "top": null,
       "visibility": null,
       "width": "100%"
      }
     },
     "e250b653949248688855d1a7f53ad93b": {
      "model_module": "@jupyter-widgets/base",
      "model_module_version": "1.2.0",
      "model_name": "LayoutModel",
      "state": {
       "_model_module": "@jupyter-widgets/base",
       "_model_module_version": "1.2.0",
       "_model_name": "LayoutModel",
       "_view_count": null,
       "_view_module": "@jupyter-widgets/base",
       "_view_module_version": "1.2.0",
       "_view_name": "LayoutView",
       "align_content": null,
       "align_items": null,
       "align_self": null,
       "border": null,
       "bottom": null,
       "display": null,
       "flex": null,
       "flex_flow": null,
       "grid_area": null,
       "grid_auto_columns": null,
       "grid_auto_flow": null,
       "grid_auto_rows": null,
       "grid_column": null,
       "grid_gap": null,
       "grid_row": null,
       "grid_template_areas": null,
       "grid_template_columns": null,
       "grid_template_rows": null,
       "height": null,
       "justify_content": null,
       "justify_items": null,
       "left": null,
       "margin": null,
       "max_height": null,
       "max_width": null,
       "min_height": null,
       "min_width": null,
       "object_fit": null,
       "object_position": null,
       "order": null,
       "overflow": null,
       "overflow_x": null,
       "overflow_y": null,
       "padding": null,
       "right": null,
       "top": null,
       "visibility": null,
       "width": null
      }
     },
     "e9b7302e001c4c518188d3b458c79179": {
      "model_module": "@jupyter-widgets/base",
      "model_module_version": "1.2.0",
      "model_name": "LayoutModel",
      "state": {
       "_model_module": "@jupyter-widgets/base",
       "_model_module_version": "1.2.0",
       "_model_name": "LayoutModel",
       "_view_count": null,
       "_view_module": "@jupyter-widgets/base",
       "_view_module_version": "1.2.0",
       "_view_name": "LayoutView",
       "align_content": null,
       "align_items": null,
       "align_self": null,
       "border": null,
       "bottom": null,
       "display": null,
       "flex": null,
       "flex_flow": null,
       "grid_area": null,
       "grid_auto_columns": null,
       "grid_auto_flow": null,
       "grid_auto_rows": null,
       "grid_column": null,
       "grid_gap": null,
       "grid_row": null,
       "grid_template_areas": null,
       "grid_template_columns": null,
       "grid_template_rows": null,
       "height": null,
       "justify_content": null,
       "justify_items": null,
       "left": null,
       "margin": null,
       "max_height": null,
       "max_width": null,
       "min_height": null,
       "min_width": null,
       "object_fit": null,
       "object_position": null,
       "order": null,
       "overflow": null,
       "overflow_x": null,
       "overflow_y": null,
       "padding": null,
       "right": null,
       "top": null,
       "visibility": null,
       "width": null
      }
     },
     "ebc0b58d68824c5998be12f0c87484d9": {
      "model_module": "@jupyter-widgets/base",
      "model_module_version": "1.2.0",
      "model_name": "LayoutModel",
      "state": {
       "_model_module": "@jupyter-widgets/base",
       "_model_module_version": "1.2.0",
       "_model_name": "LayoutModel",
       "_view_count": null,
       "_view_module": "@jupyter-widgets/base",
       "_view_module_version": "1.2.0",
       "_view_name": "LayoutView",
       "align_content": null,
       "align_items": null,
       "align_self": null,
       "border": null,
       "bottom": null,
       "display": null,
       "flex": null,
       "flex_flow": null,
       "grid_area": null,
       "grid_auto_columns": null,
       "grid_auto_flow": null,
       "grid_auto_rows": null,
       "grid_column": null,
       "grid_gap": null,
       "grid_row": null,
       "grid_template_areas": null,
       "grid_template_columns": null,
       "grid_template_rows": null,
       "height": "16em",
       "justify_content": null,
       "justify_items": null,
       "left": null,
       "margin": null,
       "max_height": null,
       "max_width": null,
       "min_height": null,
       "min_width": null,
       "object_fit": null,
       "object_position": null,
       "order": null,
       "overflow": null,
       "overflow_x": null,
       "overflow_y": "auto",
       "padding": null,
       "right": null,
       "top": null,
       "visibility": null,
       "width": "100%"
      }
     },
     "ebfe5d50d7aa4386bbff690d802de4fc": {
      "model_module": "@jupyter-widgets/output",
      "model_module_version": "1.0.0",
      "model_name": "OutputModel",
      "state": {
       "_dom_classes": [],
       "_model_module": "@jupyter-widgets/output",
       "_model_module_version": "1.0.0",
       "_model_name": "OutputModel",
       "_view_count": null,
       "_view_module": "@jupyter-widgets/output",
       "_view_module_version": "1.0.0",
       "_view_name": "OutputView",
       "layout": "IPY_MODEL_33579a48072a460095d304f4fb8f451e",
       "msg_id": "",
       "outputs": [
        {
         "data": {
          "application/vnd.jupyter.widget-view+json": {
           "model_id": "02b63cf366ee43dd8f10db06a92a6951",
           "version_major": 2,
           "version_minor": 0
          },
          "text/plain": "VTKPlot(antialias=3, axes=['x', 'y', 'z'], background_color=16777215, camera=[4.5, 4.5, 4.5, 0.0, 0.0, 0.0, 1.…"
         },
         "metadata": {},
         "output_type": "display_data"
        }
       ]
      }
     },
     "ec4e9fd9e858492e8351ca8a3bf2ae4f": {
      "model_module": "@jupyter-widgets/controls",
      "model_module_version": "1.5.0",
      "model_name": "AccordionModel",
      "state": {
       "_dom_classes": [],
       "_model_module": "@jupyter-widgets/controls",
       "_model_module_version": "1.5.0",
       "_model_name": "AccordionModel",
       "_titles": {
        "0": "Log Output"
       },
       "_view_count": null,
       "_view_module": "@jupyter-widgets/controls",
       "_view_module_version": "1.5.0",
       "_view_name": "AccordionView",
       "box_style": "",
       "children": [
        "IPY_MODEL_794b07b26884455281f29624cfb05795"
       ],
       "layout": "IPY_MODEL_41434ced388c49f5a6c74c1da77fb2f5",
       "selected_index": null
      }
     },
     "f0e32b062d6741f98ef9c5a8bff7bbca": {
      "model_module": "@jupyter-widgets/controls",
      "model_module_version": "1.5.0",
      "model_name": "DescriptionStyleModel",
      "state": {
       "_model_module": "@jupyter-widgets/controls",
       "_model_module_version": "1.5.0",
       "_model_name": "DescriptionStyleModel",
       "_view_count": null,
       "_view_module": "@jupyter-widgets/base",
       "_view_module_version": "1.2.0",
       "_view_name": "StyleView",
       "description_width": ""
      }
     },
     "f4398d95c6f14b3ab80e765dad267cca": {
      "model_module": "@jupyter-widgets/controls",
      "model_module_version": "1.5.0",
      "model_name": "DescriptionStyleModel",
      "state": {
       "_model_module": "@jupyter-widgets/controls",
       "_model_module_version": "1.5.0",
       "_model_name": "DescriptionStyleModel",
       "_view_count": null,
       "_view_module": "@jupyter-widgets/base",
       "_view_module_version": "1.2.0",
       "_view_name": "StyleView",
       "description_width": ""
      }
     },
     "f43a11073fe644bbbd7045d9055679d4": {
      "model_module": "@jupyter-widgets/base",
      "model_module_version": "1.2.0",
      "model_name": "LayoutModel",
      "state": {
       "_model_module": "@jupyter-widgets/base",
       "_model_module_version": "1.2.0",
       "_model_name": "LayoutModel",
       "_view_count": null,
       "_view_module": "@jupyter-widgets/base",
       "_view_module_version": "1.2.0",
       "_view_name": "LayoutView",
       "align_content": null,
       "align_items": null,
       "align_self": null,
       "border": null,
       "bottom": null,
       "display": null,
       "flex": null,
       "flex_flow": null,
       "grid_area": null,
       "grid_auto_columns": null,
       "grid_auto_flow": null,
       "grid_auto_rows": null,
       "grid_column": null,
       "grid_gap": null,
       "grid_row": null,
       "grid_template_areas": null,
       "grid_template_columns": null,
       "grid_template_rows": null,
       "height": "16em",
       "justify_content": null,
       "justify_items": null,
       "left": null,
       "margin": null,
       "max_height": null,
       "max_width": null,
       "min_height": null,
       "min_width": null,
       "object_fit": null,
       "object_position": null,
       "order": null,
       "overflow": null,
       "overflow_x": null,
       "overflow_y": "auto",
       "padding": null,
       "right": null,
       "top": null,
       "visibility": null,
       "width": "100%"
      }
     },
     "f43e8b78ec124147b432462905ce5517": {
      "model_module": "@jupyter-widgets/controls",
      "model_module_version": "1.5.0",
      "model_name": "DescriptionStyleModel",
      "state": {
       "_model_module": "@jupyter-widgets/controls",
       "_model_module_version": "1.5.0",
       "_model_name": "DescriptionStyleModel",
       "_view_count": null,
       "_view_module": "@jupyter-widgets/base",
       "_view_module_version": "1.2.0",
       "_view_name": "StyleView",
       "description_width": ""
      }
     },
     "f5b27e9c2007402db11c60685ac5ca41": {
      "model_module": "@jupyter-widgets/controls",
      "model_module_version": "1.5.0",
      "model_name": "AccordionModel",
      "state": {
       "_dom_classes": [],
       "_model_module": "@jupyter-widgets/controls",
       "_model_module_version": "1.5.0",
       "_model_name": "AccordionModel",
       "_titles": {
        "0": "Log Output"
       },
       "_view_count": null,
       "_view_module": "@jupyter-widgets/controls",
       "_view_module_version": "1.5.0",
       "_view_name": "AccordionView",
       "box_style": "",
       "children": [
        "IPY_MODEL_b323da6a24e54032954012c60c3bf473"
       ],
       "layout": "IPY_MODEL_30428267e45b41d59c475d5184b90e1d",
       "selected_index": null
      }
     },
     "f650d199846b4a35a08d060b49e484fc": {
      "model_module": "@jupyter-widgets/base",
      "model_module_version": "1.2.0",
      "model_name": "LayoutModel",
      "state": {
       "_model_module": "@jupyter-widgets/base",
       "_model_module_version": "1.2.0",
       "_model_name": "LayoutModel",
       "_view_count": null,
       "_view_module": "@jupyter-widgets/base",
       "_view_module_version": "1.2.0",
       "_view_name": "LayoutView",
       "align_content": null,
       "align_items": null,
       "align_self": null,
       "border": null,
       "bottom": null,
       "display": null,
       "flex": null,
       "flex_flow": null,
       "grid_area": null,
       "grid_auto_columns": null,
       "grid_auto_flow": null,
       "grid_auto_rows": null,
       "grid_column": null,
       "grid_gap": null,
       "grid_row": null,
       "grid_template_areas": null,
       "grid_template_columns": null,
       "grid_template_rows": null,
       "height": "16em",
       "justify_content": null,
       "justify_items": null,
       "left": null,
       "margin": null,
       "max_height": null,
       "max_width": null,
       "min_height": null,
       "min_width": null,
       "object_fit": null,
       "object_position": null,
       "order": null,
       "overflow": null,
       "overflow_x": null,
       "overflow_y": "auto",
       "padding": null,
       "right": null,
       "top": null,
       "visibility": null,
       "width": "100%"
      }
     },
     "fc88175494b247859d83db5d2284e362": {
      "model_module": "@jupyter-widgets/base",
      "model_module_version": "1.2.0",
      "model_name": "LayoutModel",
      "state": {
       "_model_module": "@jupyter-widgets/base",
       "_model_module_version": "1.2.0",
       "_model_name": "LayoutModel",
       "_view_count": null,
       "_view_module": "@jupyter-widgets/base",
       "_view_module_version": "1.2.0",
       "_view_name": "LayoutView",
       "align_content": null,
       "align_items": null,
       "align_self": null,
       "border": null,
       "bottom": null,
       "display": null,
       "flex": null,
       "flex_flow": null,
       "grid_area": null,
       "grid_auto_columns": null,
       "grid_auto_flow": null,
       "grid_auto_rows": null,
       "grid_column": null,
       "grid_gap": null,
       "grid_row": null,
       "grid_template_areas": null,
       "grid_template_columns": null,
       "grid_template_rows": null,
       "height": null,
       "justify_content": null,
       "justify_items": null,
       "left": null,
       "margin": null,
       "max_height": null,
       "max_width": null,
       "min_height": null,
       "min_width": null,
       "object_fit": null,
       "object_position": null,
       "order": null,
       "overflow": null,
       "overflow_x": null,
       "overflow_y": null,
       "padding": null,
       "right": null,
       "top": null,
       "visibility": null,
       "width": null
      }
     },
     "fe77640392714b6dac19aa76b1ef666c": {
      "model_module": "@jupyter-widgets/controls",
      "model_module_version": "1.5.0",
      "model_name": "AccordionModel",
      "state": {
       "_dom_classes": [],
       "_model_module": "@jupyter-widgets/controls",
       "_model_module_version": "1.5.0",
       "_model_name": "AccordionModel",
       "_titles": {
        "0": "Log Output"
       },
       "_view_count": null,
       "_view_module": "@jupyter-widgets/controls",
       "_view_module_version": "1.5.0",
       "_view_name": "AccordionView",
       "box_style": "",
       "children": [
        "IPY_MODEL_9c06226649da46cab925f6216da76e5c"
       ],
       "layout": "IPY_MODEL_909110f08aee44eabfbbefe3f30b42f2",
       "selected_index": null
      }
     },
     "fe893b0fc016438fa636e6733f9d5309": {
      "model_module": "@jupyter-widgets/controls",
      "model_module_version": "1.5.0",
      "model_name": "DescriptionStyleModel",
      "state": {
       "_model_module": "@jupyter-widgets/controls",
       "_model_module_version": "1.5.0",
       "_model_name": "DescriptionStyleModel",
       "_view_count": null,
       "_view_module": "@jupyter-widgets/base",
       "_view_module_version": "1.2.0",
       "_view_name": "StyleView",
       "description_width": ""
      }
     },
     "ffcd0c30c5334d8b8bb67a689e4006ac": {
      "model_module": "@jupyter-widgets/controls",
      "model_module_version": "1.5.0",
      "model_name": "AccordionModel",
      "state": {
       "_dom_classes": [],
       "_model_module": "@jupyter-widgets/controls",
       "_model_module_version": "1.5.0",
       "_model_name": "AccordionModel",
       "_titles": {
        "0": "Log Output"
       },
       "_view_count": null,
       "_view_module": "@jupyter-widgets/controls",
       "_view_module_version": "1.5.0",
       "_view_name": "AccordionView",
       "box_style": "",
       "children": [
        "IPY_MODEL_76d5f631b2da44e8baf4fe1e697577e4"
       ],
       "layout": "IPY_MODEL_bef3b0c309df4ae6968dde591fd74919",
       "selected_index": null
      }
     }
    },
    "version_major": 2,
    "version_minor": 0
   }
  }
 },
 "nbformat": 4,
 "nbformat_minor": 5
}