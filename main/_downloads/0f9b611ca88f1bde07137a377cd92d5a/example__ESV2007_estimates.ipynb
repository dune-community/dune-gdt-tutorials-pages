{
 "cells": [
  {
   "cell_type": "markdown",
   "id": "eb45b467",
   "metadata": {},
   "source": [
    "```{try_on_binder}\n",
    "```"
   ]
  },
  {
   "cell_type": "code",
   "execution_count": 1,
   "id": "b9d47672",
   "metadata": {
    "load": "myst_code_init.py",
    "tags": [
     "remove-cell"
    ]
   },
   "outputs": [],
   "source": [
    "from IPython import get_ipython\n",
    "import warnings\n",
    "\n",
    "ip = get_ipython()\n",
    "if ip is not None:\n",
    "    # ip.run_line_magic('load_ext', 'pymor.discretizers.builtin.gui.jupyter')\n",
    "    ip.run_line_magic(\"matplotlib\", \"inline\")\n",
    "\n",
    "warnings.filterwarnings(\"ignore\", category=UserWarning, module=\"torch\")\n"
   ]
  },
  {
   "cell_type": "markdown",
   "id": "efdcbccd",
   "metadata": {},
   "source": [
    "# Example: a posteriori error estimates based on flux reconstruction"
   ]
  },
  {
   "cell_type": "code",
   "execution_count": 2,
   "id": "49e45dc5",
   "metadata": {},
   "outputs": [],
   "source": [
    "# wurlitzer: display dune's output in the notebook\n",
    "%load_ext wurlitzer\n",
    "%matplotlib notebook\n",
    "\n",
    "import numpy as np\n",
    "np.warnings.filterwarnings('ignore') # silence numpys warnings"
   ]
  },
  {
   "cell_type": "code",
   "execution_count": 3,
   "id": "4debd6d8",
   "metadata": {},
   "outputs": [
    {
     "name": "stdout",
     "output_type": "stream",
     "text": [
      "grid has 128 elements, 208 edges and 81 vertices\n"
     ]
    },
    {
     "name": "stderr",
     "output_type": "stream",
     "text": [
      "GridParameterBlock: Parameter 'refinementedge' not specified, defaulting to 'ARBITRARY'.\n"
     ]
    }
   ],
   "source": [
    "from dune.xt.grid import Dim, Simplex, make_cube_grid, AllDirichletBoundaryInfo, visualize_grid\n",
    "\n",
    "d = 2\n",
    "grid = make_cube_grid(Dim(d), Simplex(), [-1, -1], [1, 1], [4, 4])\n",
    "grid.global_refine(2)\n",
    "\n",
    "print(f'grid has {grid.size(0)} elements, {grid.size(d - 1)} edges and {grid.size(d)} vertices')\n",
    "\n",
    "boundary_info = AllDirichletBoundaryInfo(grid)"
   ]
  },
  {
   "cell_type": "code",
   "execution_count": 4,
   "id": "61b0d851",
   "metadata": {},
   "outputs": [],
   "source": [
    "from dune.xt.functions import ExpressionFunction, GridFunction as GF\n",
    "\n",
    "diffusion = GF(grid, 1., dim_range=(Dim(d), Dim(d)), name='diffusion')\n",
    "source = GF(grid, ExpressionFunction(\n",
    "    dim_domain=Dim(d), variable='x',\n",
    "    expression='0.5*pi*pi*cos(0.5*pi*x[0])*cos(0.5*pi*x[1])', order=4, name='source'))"
   ]
  },
  {
   "cell_type": "code",
   "execution_count": 5,
   "id": "952cb501",
   "metadata": {},
   "outputs": [],
   "source": [
    "from dune.xt.grid import (\n",
    "    ApplyOnCustomBoundaryIntersections,\n",
    "    ApplyOnInnerIntersectionsOnce,\n",
    "    DirichletBoundary,\n",
    "    Walker,\n",
    ")\n",
    "\n",
    "from dune.gdt import (\n",
    "    DiscontinuousLagrangeSpace,\n",
    "    DiscreteFunction,\n",
    "    LocalElementIntegralBilinearForm,\n",
    "    LocalElementIntegralFunctional,\n",
    "    LocalElementProductIntegrand,\n",
    "    LocalCouplingIntersectionIntegralBilinearForm,\n",
    "    LocalIPDGBoundaryPenaltyIntegrand,\n",
    "    LocalIPDGInnerPenaltyIntegrand,\n",
    "    LocalIntersectionIntegralBilinearForm,\n",
    "    LocalLaplaceIntegrand,\n",
    "    LocalLaplaceIPDGDirichletCouplingIntegrand,\n",
    "    LocalLaplaceIPDGInnerCouplingIntegrand,\n",
    "    MatrixOperator,\n",
    "    VectorFunctional,\n",
    "    estimate_combined_inverse_trace_inequality_constant,\n",
    "    estimate_element_to_intersection_equivalence_constant,\n",
    "    make_element_and_intersection_sparsity_pattern,\n",
    ")\n",
    "\n",
    "V_h = DiscontinuousLagrangeSpace(grid, order=1)"
   ]
  },
  {
   "cell_type": "code",
   "execution_count": 6,
   "id": "3d7e0af0",
   "metadata": {},
   "outputs": [],
   "source": [
    "weight = diffusion\n",
    "penalty_parameter = 16\n",
    "symmetry_factor = 1\n",
    "\n",
    "l_h = VectorFunctional(grid, V_h)\n",
    "l_h += LocalElementIntegralFunctional(LocalElementProductIntegrand(GF(grid, 1)).with_ansatz(source))\n",
    "\n",
    "a_h = MatrixOperator(grid, V_h, V_h, make_element_and_intersection_sparsity_pattern(V_h))\n",
    "a_h += LocalElementIntegralBilinearForm(LocalLaplaceIntegrand(diffusion))\n",
    "a_h += (LocalCouplingIntersectionIntegralBilinearForm(\n",
    "            LocalLaplaceIPDGInnerCouplingIntegrand(symmetry_factor, diffusion, weight)\n",
    "            + LocalIPDGInnerPenaltyIntegrand(penalty_parameter, weight)),\n",
    "        {}, ApplyOnInnerIntersectionsOnce(grid))\n",
    "a_h += (LocalIntersectionIntegralBilinearForm(\n",
    "            LocalIPDGBoundaryPenaltyIntegrand(penalty_parameter, weight)\n",
    "            + LocalLaplaceIPDGDirichletCouplingIntegrand(symmetry_factor, diffusion)),\n",
    "       {}, ApplyOnCustomBoundaryIntersections(grid, boundary_info, DirichletBoundary()))\n",
    "\n",
    "walker = Walker(grid)\n",
    "walker.append(a_h)\n",
    "walker.append(l_h)\n",
    "walker.walk()"
   ]
  },
  {
   "cell_type": "code",
   "execution_count": 7,
   "id": "aa6fe3dc",
   "metadata": {},
   "outputs": [
    {
     "data": {
      "application/vnd.jupyter.widget-view+json": {
       "model_id": "0c50ac314d6d4766bbdfcb379b54f036",
       "version_major": 2,
       "version_minor": 0
      },
      "text/plain": [
       "Output()"
      ]
     },
     "metadata": {},
     "output_type": "display_data"
    }
   ],
   "source": [
    "from dune.gdt import visualize_function\n",
    "\n",
    "u_h = DiscreteFunction(V_h, 'u_h')\n",
    "\n",
    "a_h.apply_inverse(l_h.vector, u_h.dofs.vector)\n",
    "\n",
    "_ = visualize_function(u_h)"
   ]
  },
  {
   "cell_type": "code",
   "execution_count": 8,
   "id": "af4fed81",
   "metadata": {},
   "outputs": [
    {
     "data": {
      "application/vnd.jupyter.widget-view+json": {
       "model_id": "514be7ed0fc94c7b857b44876c53aa64",
       "version_major": 2,
       "version_minor": 0
      },
      "text/plain": [
       "Output()"
      ]
     },
     "metadata": {},
     "output_type": "display_data"
    }
   ],
   "source": [
    "from dune.gdt import oswald_interpolation\n",
    "\n",
    "s_h = oswald_interpolation(u_h, V_h)\n",
    "\n",
    "_ = visualize_function(u_h - s_h, grid)"
   ]
  },
  {
   "cell_type": "code",
   "execution_count": 9,
   "id": "511079e0",
   "metadata": {},
   "outputs": [],
   "source": [
    "from dune.gdt import LaplaceIpdgFluxReconstructionOperator, RaviartThomasSpace\n",
    "\n",
    "RT_0 = RaviartThomasSpace(grid, order=0)\n",
    "\n",
    "flux_reconstruction = LaplaceIpdgFluxReconstructionOperator(\n",
    "    grid, V_h, RT_0, symmetry_factor, penalty_parameter, penalty_parameter, diffusion, weight)\n",
    "flux_reconstruction.assemble()\n",
    "\n",
    "t_h = DiscreteFunction(RT_0, 't_h')\n",
    "flux_reconstruction.apply(u_h.dofs.vector, t_h.dofs.vector)"
   ]
  },
  {
   "cell_type": "code",
   "execution_count": 10,
   "id": "9414b6f9",
   "metadata": {},
   "outputs": [
    {
     "data": {
      "application/vnd.jupyter.widget-view+json": {
       "model_id": "939261fcb9664262bdc265ddbb5b2d43",
       "version_major": 2,
       "version_minor": 0
      },
      "text/plain": [
       "Output()"
      ]
     },
     "metadata": {},
     "output_type": "display_data"
    },
    {
     "name": "stdout",
     "output_type": "stream",
     "text": [
      "0.11421443364576142\n"
     ]
    }
   ],
   "source": [
    "from dune.gdt import FiniteVolumeSpace, Operator, LocalElementBilinearFormIndicatorOperator\n",
    "\n",
    "fv_space = FiniteVolumeSpace(grid)\n",
    "\n",
    "eta_nc_op = Operator(grid, V_h, fv_space)\n",
    "eta_nc_op += LocalElementBilinearFormIndicatorOperator(\n",
    "    LocalElementIntegralBilinearForm(LocalLaplaceIntegrand(weight)))\n",
    "eta_nc_2 = eta_nc_op.apply(u_h - s_h)\n",
    "_ = visualize_function(eta_nc_2)\n",
    "print(np.sqrt(eta_nc_2.dofs.vector.l1_norm()))"
   ]
  },
  {
   "cell_type": "code",
   "execution_count": 11,
   "id": "ca4eb8bb",
   "metadata": {},
   "outputs": [
    {
     "name": "stdout",
     "output_type": "stream",
     "text": [
      "5.712336230930925\n"
     ]
    },
    {
     "data": {
      "application/vnd.jupyter.widget-view+json": {
       "model_id": "76763b5bf6ee4faca0076d1132ed334a",
       "version_major": 2,
       "version_minor": 0
      },
      "text/plain": [
       "Output()"
      ]
     },
     "metadata": {},
     "output_type": "display_data"
    }
   ],
   "source": [
    "from dune.xt.functions import divergence, ElementwiseMinimumFunction, ElementwiseDiameterFunction, inverse\n",
    "\n",
    "h = ElementwiseDiameterFunction(grid)\n",
    "min_EV = ElementwiseMinimumFunction(diffusion, search_quadrature_order=0) # we know diffusion is constant\n",
    "C_P = GF(grid, 1/np.pi**2) # known for simplices\n",
    "\n",
    "eta_r_op = Operator(grid, V_h, fv_space)\n",
    "eta_r_op += LocalElementBilinearFormIndicatorOperator(\n",
    "    LocalElementIntegralBilinearForm(LocalElementProductIntegrand((C_P*h*h)/min_EV)))\n",
    "eta_r_2 = eta_r_op.apply(source - divergence(t_h))\n",
    "print(np.sqrt(eta_r_2.dofs.vector.l1_norm()))\n",
    "_ = visualize_function(eta_r_2)"
   ]
  },
  {
   "cell_type": "code",
   "execution_count": 12,
   "id": "37e1fd35",
   "metadata": {},
   "outputs": [
    {
     "name": "stdout",
     "output_type": "stream",
     "text": [
      "0.14652212287441532\n"
     ]
    },
    {
     "data": {
      "application/vnd.jupyter.widget-view+json": {
       "model_id": "3cc2a08d9ca349aa83e75571b6f7dddf",
       "version_major": 2,
       "version_minor": 0
      },
      "text/plain": [
       "Output()"
      ]
     },
     "metadata": {},
     "output_type": "display_data"
    }
   ],
   "source": [
    "from dune.xt.functions import gradient\n",
    "\n",
    "eta_df_op = Operator(grid, RT_0, fv_space)\n",
    "eta_df_op += LocalElementBilinearFormIndicatorOperator(\n",
    "    LocalElementIntegralBilinearForm(LocalElementProductIntegrand(inverse(diffusion, order=0))))\n",
    "eta_df_2 = eta_df_op.apply(diffusion*gradient(u_h) + t_h)\n",
    "print(eta_df_2.dofs.vector.l1_norm())\n",
    "_ = visualize_function(eta_df_2)"
   ]
  },
  {
   "cell_type": "markdown",
   "id": "8c941899",
   "metadata": {},
   "source": [
    "Download the code:\n",
    "{download}`example__ESV2007_estimates.md`\n",
    "{nb-download}`example__ESV2007_estimates.ipynb`"
   ]
  }
 ],
 "metadata": {
  "jupyter": {
   "jupytext": {
    "cell_metadata_filter": "-all",
    "formats": "ipynb,myst",
    "main_language": "python",
    "text_representation": {
     "extension": ".md",
     "format_name": "myst",
     "format_version": "1.3",
     "jupytext_version": "1.11.2"
    }
   }
  },
  "jupytext": {
   "text_representation": {
    "format_name": "myst"
   }
  },
  "kernelspec": {
   "display_name": "Python 3",
   "name": "python3"
  },
  "language_info": {
   "codemirror_mode": {
    "name": "ipython",
    "version": 3
   },
   "file_extension": ".py",
   "mimetype": "text/x-python",
   "name": "python",
   "nbconvert_exporter": "python",
   "pygments_lexer": "ipython3",
   "version": "3.9.10"
  },
  "source_map": [
   18,
   23,
   26,
   30,
   39,
   51,
   60,
   91,
   116,
   126,
   134,
   147,
   160,
   175,
   184
  ],
  "widgets": {
   "application/vnd.jupyter.widget-state+json": {
    "state": {
     "00a107053ba4492d847b64783d2ed85e": {
      "model_module": "@jupyter-widgets/base",
      "model_module_version": "1.2.0",
      "model_name": "LayoutModel",
      "state": {
       "_model_module": "@jupyter-widgets/base",
       "_model_module_version": "1.2.0",
       "_model_name": "LayoutModel",
       "_view_count": null,
       "_view_module": "@jupyter-widgets/base",
       "_view_module_version": "1.2.0",
       "_view_name": "LayoutView",
       "align_content": null,
       "align_items": null,
       "align_self": null,
       "border": null,
       "bottom": null,
       "display": null,
       "flex": null,
       "flex_flow": null,
       "grid_area": null,
       "grid_auto_columns": null,
       "grid_auto_flow": null,
       "grid_auto_rows": null,
       "grid_column": null,
       "grid_gap": null,
       "grid_row": null,
       "grid_template_areas": null,
       "grid_template_columns": null,
       "grid_template_rows": null,
       "height": null,
       "justify_content": null,
       "justify_items": null,
       "left": null,
       "margin": null,
       "max_height": null,
       "max_width": null,
       "min_height": null,
       "min_width": null,
       "object_fit": null,
       "object_position": null,
       "order": null,
       "overflow": null,
       "overflow_x": null,
       "overflow_y": null,
       "padding": null,
       "right": null,
       "top": null,
       "visibility": null,
       "width": null
      }
     },
     "015dd977b2a24c0c867b381595009d74": {
      "model_module": "@jupyter-widgets/controls",
      "model_module_version": "1.5.0",
      "model_name": "HTMLModel",
      "state": {
       "_dom_classes": [],
       "_model_module": "@jupyter-widgets/controls",
       "_model_module_version": "1.5.0",
       "_model_name": "HTMLModel",
       "_view_count": null,
       "_view_module": "@jupyter-widgets/controls",
       "_view_module_version": "1.5.0",
       "_view_name": "HTMLView",
       "description": "",
       "description_tooltip": null,
       "layout": "IPY_MODEL_b6dcb9c8d2ef47b9aa4819b280d5ecd8",
       "placeholder": "​",
       "style": "IPY_MODEL_0c0881a7cbfc4ebc81e638997166af3f",
       "value": ""
      }
     },
     "03608c73a0f14b82b8dd426bfd159d42": {
      "model_module": "@jupyter-widgets/controls",
      "model_module_version": "1.5.0",
      "model_name": "DescriptionStyleModel",
      "state": {
       "_model_module": "@jupyter-widgets/controls",
       "_model_module_version": "1.5.0",
       "_model_name": "DescriptionStyleModel",
       "_view_count": null,
       "_view_module": "@jupyter-widgets/base",
       "_view_module_version": "1.2.0",
       "_view_name": "StyleView",
       "description_width": ""
      }
     },
     "04c277b2af0446b2a3dc8566e1b8d19f": {
      "model_module": "@jupyter-widgets/controls",
      "model_module_version": "1.5.0",
      "model_name": "AccordionModel",
      "state": {
       "_dom_classes": [],
       "_model_module": "@jupyter-widgets/controls",
       "_model_module_version": "1.5.0",
       "_model_name": "AccordionModel",
       "_titles": {
        "0": "Log Output"
       },
       "_view_count": null,
       "_view_module": "@jupyter-widgets/controls",
       "_view_module_version": "1.5.0",
       "_view_name": "AccordionView",
       "box_style": "",
       "children": [
        "IPY_MODEL_dba06874682b4ff18a2c8e3bf313f13a"
       ],
       "layout": "IPY_MODEL_2844f158907e416d85518f490918bc91",
       "selected_index": null
      }
     },
     "06757ff6df2949bcbb565ee6b5d325d0": {
      "model_module": "@jupyter-widgets/controls",
      "model_module_version": "1.5.0",
      "model_name": "DescriptionStyleModel",
      "state": {
       "_model_module": "@jupyter-widgets/controls",
       "_model_module_version": "1.5.0",
       "_model_name": "DescriptionStyleModel",
       "_view_count": null,
       "_view_module": "@jupyter-widgets/base",
       "_view_module_version": "1.2.0",
       "_view_name": "StyleView",
       "description_width": ""
      }
     },
     "0c0881a7cbfc4ebc81e638997166af3f": {
      "model_module": "@jupyter-widgets/controls",
      "model_module_version": "1.5.0",
      "model_name": "DescriptionStyleModel",
      "state": {
       "_model_module": "@jupyter-widgets/controls",
       "_model_module_version": "1.5.0",
       "_model_name": "DescriptionStyleModel",
       "_view_count": null,
       "_view_module": "@jupyter-widgets/base",
       "_view_module_version": "1.2.0",
       "_view_name": "StyleView",
       "description_width": ""
      }
     },
     "0c50ac314d6d4766bbdfcb379b54f036": {
      "model_module": "@jupyter-widgets/output",
      "model_module_version": "1.0.0",
      "model_name": "OutputModel",
      "state": {
       "_dom_classes": [],
       "_model_module": "@jupyter-widgets/output",
       "_model_module_version": "1.0.0",
       "_model_name": "OutputModel",
       "_view_count": null,
       "_view_module": "@jupyter-widgets/output",
       "_view_module_version": "1.0.0",
       "_view_name": "OutputView",
       "layout": "IPY_MODEL_58c2ea85974640d08385dee75a71f0eb",
       "msg_id": "",
       "outputs": [
        {
         "data": {
          "application/vnd.jupyter.widget-view+json": {
           "model_id": "c60789c37a934da28cf89ad8cfbf5f49",
           "version_major": 2,
           "version_minor": 0
          },
          "text/plain": "VTKPlot(antialias=3, axes=['x', 'y', 'z'], background_color=16777215, camera=[4.5, 4.5, 4.5, 0.0, 0.0, 0.0, 1.…"
         },
         "metadata": {},
         "output_type": "display_data"
        }
       ]
      }
     },
     "0d1f1fee86d94842b3abf689bbdb67a7": {
      "model_module": "@jupyter-widgets/base",
      "model_module_version": "1.2.0",
      "model_name": "LayoutModel",
      "state": {
       "_model_module": "@jupyter-widgets/base",
       "_model_module_version": "1.2.0",
       "_model_name": "LayoutModel",
       "_view_count": null,
       "_view_module": "@jupyter-widgets/base",
       "_view_module_version": "1.2.0",
       "_view_name": "LayoutView",
       "align_content": null,
       "align_items": null,
       "align_self": null,
       "border": null,
       "bottom": null,
       "display": null,
       "flex": null,
       "flex_flow": null,
       "grid_area": null,
       "grid_auto_columns": null,
       "grid_auto_flow": null,
       "grid_auto_rows": null,
       "grid_column": null,
       "grid_gap": null,
       "grid_row": null,
       "grid_template_areas": null,
       "grid_template_columns": null,
       "grid_template_rows": null,
       "height": "16em",
       "justify_content": null,
       "justify_items": null,
       "left": null,
       "margin": null,
       "max_height": null,
       "max_width": null,
       "min_height": null,
       "min_width": null,
       "object_fit": null,
       "object_position": null,
       "order": null,
       "overflow": null,
       "overflow_x": null,
       "overflow_y": "auto",
       "padding": null,
       "right": null,
       "top": null,
       "visibility": null,
       "width": "100%"
      }
     },
     "0d3af82cf7e04243a373483b9334a2a2": {
      "model_module": "@jupyter-widgets/controls",
      "model_module_version": "1.5.0",
      "model_name": "AccordionModel",
      "state": {
       "_dom_classes": [],
       "_model_module": "@jupyter-widgets/controls",
       "_model_module_version": "1.5.0",
       "_model_name": "AccordionModel",
       "_titles": {
        "0": "Log Output"
       },
       "_view_count": null,
       "_view_module": "@jupyter-widgets/controls",
       "_view_module_version": "1.5.0",
       "_view_name": "AccordionView",
       "box_style": "",
       "children": [
        "IPY_MODEL_330b5bd06ec14f4fa58989f4fb6c24a8"
       ],
       "layout": "IPY_MODEL_515270dc82194895b2af4c02e3334959",
       "selected_index": null
      }
     },
     "100e8e84c6364a34a664dc8dd3db5ee4": {
      "model_module": "@jupyter-widgets/controls",
      "model_module_version": "1.5.0",
      "model_name": "HTMLModel",
      "state": {
       "_dom_classes": [],
       "_model_module": "@jupyter-widgets/controls",
       "_model_module_version": "1.5.0",
       "_model_name": "HTMLModel",
       "_view_count": null,
       "_view_module": "@jupyter-widgets/controls",
       "_view_module_version": "1.5.0",
       "_view_name": "HTMLView",
       "description": "",
       "description_tooltip": null,
       "layout": "IPY_MODEL_91e523ad408e45b1a532438b3668a6c0",
       "placeholder": "​",
       "style": "IPY_MODEL_c4aa89e2402e48a6946f6e5479824d54",
       "value": ""
      }
     },
     "111d078cfdbc44969710b067dc7eefa9": {
      "model_module": "@jupyter-widgets/controls",
      "model_module_version": "1.5.0",
      "model_name": "AccordionModel",
      "state": {
       "_dom_classes": [],
       "_model_module": "@jupyter-widgets/controls",
       "_model_module_version": "1.5.0",
       "_model_name": "AccordionModel",
       "_titles": {
        "0": "Log Output"
       },
       "_view_count": null,
       "_view_module": "@jupyter-widgets/controls",
       "_view_module_version": "1.5.0",
       "_view_name": "AccordionView",
       "box_style": "",
       "children": [
        "IPY_MODEL_bb028b489e3143da851e0f0a8c795a33"
       ],
       "layout": "IPY_MODEL_23e6de695cba40a984d0272d9a23f322",
       "selected_index": null
      }
     },
     "17ed163bf36747b1a844d4ece3bbd346": {
      "model_module": "@jupyter-widgets/controls",
      "model_module_version": "1.5.0",
      "model_name": "HTMLModel",
      "state": {
       "_dom_classes": [],
       "_model_module": "@jupyter-widgets/controls",
       "_model_module_version": "1.5.0",
       "_model_name": "HTMLModel",
       "_view_count": null,
       "_view_module": "@jupyter-widgets/controls",
       "_view_module_version": "1.5.0",
       "_view_name": "HTMLView",
       "description": "",
       "description_tooltip": null,
       "layout": "IPY_MODEL_7a2b579310a0459f9acb1e37aeff0393",
       "placeholder": "​",
       "style": "IPY_MODEL_287b552623c64462ad7a332ad99c2618",
       "value": ""
      }
     },
     "1c7f0d248c214684977c8f5671a5b200": {
      "model_module": "@jupyter-widgets/base",
      "model_module_version": "1.2.0",
      "model_name": "LayoutModel",
      "state": {
       "_model_module": "@jupyter-widgets/base",
       "_model_module_version": "1.2.0",
       "_model_name": "LayoutModel",
       "_view_count": null,
       "_view_module": "@jupyter-widgets/base",
       "_view_module_version": "1.2.0",
       "_view_name": "LayoutView",
       "align_content": null,
       "align_items": null,
       "align_self": null,
       "border": null,
       "bottom": null,
       "display": null,
       "flex": null,
       "flex_flow": null,
       "grid_area": null,
       "grid_auto_columns": null,
       "grid_auto_flow": null,
       "grid_auto_rows": null,
       "grid_column": null,
       "grid_gap": null,
       "grid_row": null,
       "grid_template_areas": null,
       "grid_template_columns": null,
       "grid_template_rows": null,
       "height": "16em",
       "justify_content": null,
       "justify_items": null,
       "left": null,
       "margin": null,
       "max_height": null,
       "max_width": null,
       "min_height": null,
       "min_width": null,
       "object_fit": null,
       "object_position": null,
       "order": null,
       "overflow": null,
       "overflow_x": null,
       "overflow_y": "auto",
       "padding": null,
       "right": null,
       "top": null,
       "visibility": null,
       "width": "100%"
      }
     },
     "200e27d6f5ac46a69dc5ecb4b258cd1a": {
      "model_module": "@jupyter-widgets/controls",
      "model_module_version": "1.5.0",
      "model_name": "DescriptionStyleModel",
      "state": {
       "_model_module": "@jupyter-widgets/controls",
       "_model_module_version": "1.5.0",
       "_model_name": "DescriptionStyleModel",
       "_view_count": null,
       "_view_module": "@jupyter-widgets/base",
       "_view_module_version": "1.2.0",
       "_view_name": "StyleView",
       "description_width": ""
      }
     },
     "220b4af413b541d287cde3e49e83081e": {
      "model_module": "@jupyter-widgets/base",
      "model_module_version": "1.2.0",
      "model_name": "LayoutModel",
      "state": {
       "_model_module": "@jupyter-widgets/base",
       "_model_module_version": "1.2.0",
       "_model_name": "LayoutModel",
       "_view_count": null,
       "_view_module": "@jupyter-widgets/base",
       "_view_module_version": "1.2.0",
       "_view_name": "LayoutView",
       "align_content": null,
       "align_items": null,
       "align_self": null,
       "border": null,
       "bottom": null,
       "display": null,
       "flex": null,
       "flex_flow": null,
       "grid_area": null,
       "grid_auto_columns": null,
       "grid_auto_flow": null,
       "grid_auto_rows": null,
       "grid_column": null,
       "grid_gap": null,
       "grid_row": null,
       "grid_template_areas": null,
       "grid_template_columns": null,
       "grid_template_rows": null,
       "height": null,
       "justify_content": null,
       "justify_items": null,
       "left": null,
       "margin": null,
       "max_height": null,
       "max_width": null,
       "min_height": null,
       "min_width": null,
       "object_fit": null,
       "object_position": null,
       "order": null,
       "overflow": null,
       "overflow_x": null,
       "overflow_y": null,
       "padding": null,
       "right": null,
       "top": null,
       "visibility": null,
       "width": null
      }
     },
     "224cd37b8c174ee6b9ba805c89cdcb6b": {
      "model_module": "@jupyter-widgets/base",
      "model_module_version": "1.2.0",
      "model_name": "LayoutModel",
      "state": {
       "_model_module": "@jupyter-widgets/base",
       "_model_module_version": "1.2.0",
       "_model_name": "LayoutModel",
       "_view_count": null,
       "_view_module": "@jupyter-widgets/base",
       "_view_module_version": "1.2.0",
       "_view_name": "LayoutView",
       "align_content": null,
       "align_items": null,
       "align_self": null,
       "border": null,
       "bottom": null,
       "display": null,
       "flex": null,
       "flex_flow": null,
       "grid_area": null,
       "grid_auto_columns": null,
       "grid_auto_flow": null,
       "grid_auto_rows": null,
       "grid_column": null,
       "grid_gap": null,
       "grid_row": null,
       "grid_template_areas": null,
       "grid_template_columns": null,
       "grid_template_rows": null,
       "height": "16em",
       "justify_content": null,
       "justify_items": null,
       "left": null,
       "margin": null,
       "max_height": null,
       "max_width": null,
       "min_height": null,
       "min_width": null,
       "object_fit": null,
       "object_position": null,
       "order": null,
       "overflow": null,
       "overflow_x": null,
       "overflow_y": "auto",
       "padding": null,
       "right": null,
       "top": null,
       "visibility": null,
       "width": "100%"
      }
     },
     "23e6de695cba40a984d0272d9a23f322": {
      "model_module": "@jupyter-widgets/base",
      "model_module_version": "1.2.0",
      "model_name": "LayoutModel",
      "state": {
       "_model_module": "@jupyter-widgets/base",
       "_model_module_version": "1.2.0",
       "_model_name": "LayoutModel",
       "_view_count": null,
       "_view_module": "@jupyter-widgets/base",
       "_view_module_version": "1.2.0",
       "_view_name": "LayoutView",
       "align_content": null,
       "align_items": null,
       "align_self": null,
       "border": null,
       "bottom": null,
       "display": null,
       "flex": null,
       "flex_flow": null,
       "grid_area": null,
       "grid_auto_columns": null,
       "grid_auto_flow": null,
       "grid_auto_rows": null,
       "grid_column": null,
       "grid_gap": null,
       "grid_row": null,
       "grid_template_areas": null,
       "grid_template_columns": null,
       "grid_template_rows": null,
       "height": null,
       "justify_content": null,
       "justify_items": null,
       "left": null,
       "margin": null,
       "max_height": null,
       "max_width": null,
       "min_height": null,
       "min_width": null,
       "object_fit": null,
       "object_position": null,
       "order": null,
       "overflow": null,
       "overflow_x": null,
       "overflow_y": null,
       "padding": null,
       "right": null,
       "top": null,
       "visibility": null,
       "width": null
      }
     },
     "27a53102c1e44164988c7a8fcbe3fd6c": {
      "model_module": "@jupyter-widgets/controls",
      "model_module_version": "1.5.0",
      "model_name": "AccordionModel",
      "state": {
       "_dom_classes": [],
       "_model_module": "@jupyter-widgets/controls",
       "_model_module_version": "1.5.0",
       "_model_name": "AccordionModel",
       "_titles": {
        "0": "Log Output"
       },
       "_view_count": null,
       "_view_module": "@jupyter-widgets/controls",
       "_view_module_version": "1.5.0",
       "_view_name": "AccordionView",
       "box_style": "",
       "children": [
        "IPY_MODEL_db7dc98c9fe0404985a1c116733dedb9"
       ],
       "layout": "IPY_MODEL_305c46bc06c44cdbad8e3135a06ea3a6",
       "selected_index": null
      }
     },
     "2844f158907e416d85518f490918bc91": {
      "model_module": "@jupyter-widgets/base",
      "model_module_version": "1.2.0",
      "model_name": "LayoutModel",
      "state": {
       "_model_module": "@jupyter-widgets/base",
       "_model_module_version": "1.2.0",
       "_model_name": "LayoutModel",
       "_view_count": null,
       "_view_module": "@jupyter-widgets/base",
       "_view_module_version": "1.2.0",
       "_view_name": "LayoutView",
       "align_content": null,
       "align_items": null,
       "align_self": null,
       "border": null,
       "bottom": null,
       "display": null,
       "flex": null,
       "flex_flow": null,
       "grid_area": null,
       "grid_auto_columns": null,
       "grid_auto_flow": null,
       "grid_auto_rows": null,
       "grid_column": null,
       "grid_gap": null,
       "grid_row": null,
       "grid_template_areas": null,
       "grid_template_columns": null,
       "grid_template_rows": null,
       "height": null,
       "justify_content": null,
       "justify_items": null,
       "left": null,
       "margin": null,
       "max_height": null,
       "max_width": null,
       "min_height": null,
       "min_width": null,
       "object_fit": null,
       "object_position": null,
       "order": null,
       "overflow": null,
       "overflow_x": null,
       "overflow_y": null,
       "padding": null,
       "right": null,
       "top": null,
       "visibility": null,
       "width": null
      }
     },
     "287b552623c64462ad7a332ad99c2618": {
      "model_module": "@jupyter-widgets/controls",
      "model_module_version": "1.5.0",
      "model_name": "DescriptionStyleModel",
      "state": {
       "_model_module": "@jupyter-widgets/controls",
       "_model_module_version": "1.5.0",
       "_model_name": "DescriptionStyleModel",
       "_view_count": null,
       "_view_module": "@jupyter-widgets/base",
       "_view_module_version": "1.2.0",
       "_view_name": "StyleView",
       "description_width": ""
      }
     },
     "300cd150e4424e5d80efb6617557022f": {
      "model_module": "@jupyter-widgets/controls",
      "model_module_version": "1.5.0",
      "model_name": "AccordionModel",
      "state": {
       "_dom_classes": [],
       "_model_module": "@jupyter-widgets/controls",
       "_model_module_version": "1.5.0",
       "_model_name": "AccordionModel",
       "_titles": {
        "0": "Log Output"
       },
       "_view_count": null,
       "_view_module": "@jupyter-widgets/controls",
       "_view_module_version": "1.5.0",
       "_view_name": "AccordionView",
       "box_style": "",
       "children": [
        "IPY_MODEL_015dd977b2a24c0c867b381595009d74"
       ],
       "layout": "IPY_MODEL_d6d9b776ba074f088077ab6d7fb778f2",
       "selected_index": null
      }
     },
     "305c46bc06c44cdbad8e3135a06ea3a6": {
      "model_module": "@jupyter-widgets/base",
      "model_module_version": "1.2.0",
      "model_name": "LayoutModel",
      "state": {
       "_model_module": "@jupyter-widgets/base",
       "_model_module_version": "1.2.0",
       "_model_name": "LayoutModel",
       "_view_count": null,
       "_view_module": "@jupyter-widgets/base",
       "_view_module_version": "1.2.0",
       "_view_name": "LayoutView",
       "align_content": null,
       "align_items": null,
       "align_self": null,
       "border": null,
       "bottom": null,
       "display": null,
       "flex": null,
       "flex_flow": null,
       "grid_area": null,
       "grid_auto_columns": null,
       "grid_auto_flow": null,
       "grid_auto_rows": null,
       "grid_column": null,
       "grid_gap": null,
       "grid_row": null,
       "grid_template_areas": null,
       "grid_template_columns": null,
       "grid_template_rows": null,
       "height": null,
       "justify_content": null,
       "justify_items": null,
       "left": null,
       "margin": null,
       "max_height": null,
       "max_width": null,
       "min_height": null,
       "min_width": null,
       "object_fit": null,
       "object_position": null,
       "order": null,
       "overflow": null,
       "overflow_x": null,
       "overflow_y": null,
       "padding": null,
       "right": null,
       "top": null,
       "visibility": null,
       "width": null
      }
     },
     "330b5bd06ec14f4fa58989f4fb6c24a8": {
      "model_module": "@jupyter-widgets/controls",
      "model_module_version": "1.5.0",
      "model_name": "HTMLModel",
      "state": {
       "_dom_classes": [],
       "_model_module": "@jupyter-widgets/controls",
       "_model_module_version": "1.5.0",
       "_model_name": "HTMLModel",
       "_view_count": null,
       "_view_module": "@jupyter-widgets/controls",
       "_view_module_version": "1.5.0",
       "_view_name": "HTMLView",
       "description": "",
       "description_tooltip": null,
       "layout": "IPY_MODEL_224cd37b8c174ee6b9ba805c89cdcb6b",
       "placeholder": "​",
       "style": "IPY_MODEL_59f2717ab65546bba671f92509f07b36",
       "value": ""
      }
     },
     "3872a06fad71460a920be613ba31112b": {
      "model_module": "@jupyter-widgets/controls",
      "model_module_version": "1.5.0",
      "model_name": "DescriptionStyleModel",
      "state": {
       "_model_module": "@jupyter-widgets/controls",
       "_model_module_version": "1.5.0",
       "_model_name": "DescriptionStyleModel",
       "_view_count": null,
       "_view_module": "@jupyter-widgets/base",
       "_view_module_version": "1.2.0",
       "_view_name": "StyleView",
       "description_width": ""
      }
     },
     "3cc2a08d9ca349aa83e75571b6f7dddf": {
      "model_module": "@jupyter-widgets/output",
      "model_module_version": "1.0.0",
      "model_name": "OutputModel",
      "state": {
       "_dom_classes": [],
       "_model_module": "@jupyter-widgets/output",
       "_model_module_version": "1.0.0",
       "_model_name": "OutputModel",
       "_view_count": null,
       "_view_module": "@jupyter-widgets/output",
       "_view_module_version": "1.0.0",
       "_view_name": "OutputView",
       "layout": "IPY_MODEL_94012a59fd1641af9c1f2bdfe9ccd360",
       "msg_id": "",
       "outputs": [
        {
         "data": {
          "application/vnd.jupyter.widget-view+json": {
           "model_id": "d905a8892fec461d81d2db3b6e0f58bd",
           "version_major": 2,
           "version_minor": 0
          },
          "text/plain": "VTKPlot(antialias=3, axes=['x', 'y', 'z'], background_color=16777215, camera=[4.5, 4.5, 4.5, 0.0, 0.0, 0.0, 1.…"
         },
         "metadata": {},
         "output_type": "display_data"
        }
       ]
      }
     },
     "3ed3175b6d6749a391fa71c42b2c6e4d": {
      "buffers": [
       {
        "data": "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",
        "encoding": "base64",
        "path": [
         "attribute",
         "buffer"
        ]
       },
       {
        "data": "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",
        "encoding": "base64",
        "path": [
         "color_map",
         "buffer"
        ]
       },
       {
        "data": "AAAAAAEAAAACAAAAAwAAAAQAAAAFAAAABgAAAAcAAAAIAAAACQAAAAoAAAALAAAADAAAAA0AAAAOAAAADwAAABAAAAARAAAAEgAAABMAAAAUAAAAFQAAABYAAAAXAAAAGAAAABkAAAAaAAAAGwAAABwAAAAdAAAAHgAAAB8AAAAgAAAAIQAAACIAAAAjAAAAJAAAACUAAAAmAAAAJwAAACgAAAApAAAAKgAAACsAAAAsAAAALQAAAC4AAAAvAAAAMAAAADEAAAAyAAAAMwAAADQAAAA1AAAANgAAADcAAAA4AAAAOQAAADoAAAA7AAAAPAAAAD0AAAA+AAAAPwAAAEAAAABBAAAAQgAAAEMAAABEAAAARQAAAEYAAABHAAAASAAAAEkAAABKAAAASwAAAEwAAABNAAAATgAAAE8AAABQAAAAUQAAAFIAAABTAAAAVAAAAFUAAABWAAAAVwAAAFgAAABZAAAAWgAAAFsAAABcAAAAXQAAAF4AAABfAAAAYAAAAGEAAABiAAAAYwAAAGQAAABlAAAAZgAAAGcAAABoAAAAaQAAAGoAAABrAAAAbAAAAG0AAABuAAAAbwAAAHAAAABxAAAAcgAAAHMAAAB0AAAAdQAAAHYAAAB3AAAAeAAAAHkAAAB6AAAAewAAAHwAAAB9AAAAfgAAAH8AAACAAAAAgQAAAIIAAACDAAAAhAAAAIUAAACGAAAAhwAAAIgAAACJAAAAigAAAIsAAACMAAAAjQAAAI4AAACPAAAAkAAAAJEAAACSAAAAkwAAAJQAAACVAAAAlgAAAJcAAACYAAAAmQAAAJoAAACbAAAAnAAAAJ0AAACeAAAAnwAAAKAAAAChAAAAogAAAKMAAACkAAAApQAAAKYAAACnAAAAqAAAAKkAAACqAAAAqwAAAKwAAACtAAAArgAAAK8AAACwAAAAsQAAALIAAACzAAAAtAAAALUAAAC2AAAAtwAAALgAAAC5AAAAugAAALsAAAC8AAAAvQAAAL4AAAC/AAAAwAAAAMEAAADCAAAAwwAAAMQAAADFAAAAxgAAAMcAAADIAAAAyQAAAMoAAADLAAAAzAAAAM0AAADOAAAAzwAAANAAAADRAAAA0gAAANMAAADUAAAA1QAAANYAAADXAAAA2AAAANkAAADaAAAA2wAAANwAAADdAAAA3gAAAN8AAADgAAAA4QAAAOIAAADjAAAA5AAAAOUAAADmAAAA5wAAAOgAAADpAAAA6gAAAOsAAADsAAAA7QAAAO4AAADvAAAA8AAAAPEAAADyAAAA8wAAAPQAAAD1AAAA9gAAAPcAAAD4AAAA+QAAAPoAAAD7AAAA/AAAAP0AAAD+AAAA/wAAAAABAAABAQAAAgEAAAMBAAAEAQAABQEAAAYBAAAHAQAACAEAAAkBAAAKAQAACwEAAAwBAAANAQAADgEAAA8BAAAQAQAAEQEAABIBAAATAQAAFAEAABUBAAAWAQAAFwEAABgBAAAZAQAAGgEAABsBAAAcAQAAHQEAAB4BAAAfAQAAIAEAACEBAAAiAQAAIwEAACQBAAAlAQAAJgEAACcBAAAoAQAAKQEAACoBAAArAQAALAEAAC0BAAAuAQAALwEAADABAAAxAQAAMgEAADMBAAA0AQAANQEAADYBAAA3AQAAOAEAADkBAAA6AQAAOwEAADwBAAA9AQAAPgEAAD8BAABAAQAAQQEAAEIBAABDAQAARAEAAEUBAABGAQAARwEAAEgBAABJAQAASgEAAEsBAABMAQAATQEAAE4BAABPAQAAUAEAAFEBAABSAQAAUwEAAFQBAABVAQAAVgEAAFcBAABYAQAAWQEAAFoBAABbAQAAXAEAAF0BAABeAQAAXwEAAGABAABhAQAAYgEAAGMBAABkAQAAZQEAAGYBAABnAQAAaAEAAGkBAABqAQAAawEAAGwBAABtAQAAbgEAAG8BAABwAQAAcQEAAHIBAABzAQAAdAEAAHUBAAB2AQAAdwEAAHgBAAB5AQAAegEAAHsBAAB8AQAAfQEAAH4BAAB/AQAA",
        "encoding": "base64",
        "path": [
         "indices",
         "buffer"
        ]
       },
       {
        "data": "AACAPwAAAAAAAAAAAAAAAAAAAAAAAIA/AAAAAAAAAAAAAAAAAAAAAAAAgD8AAAAAAAAAAAAAAAAAAAAAAACAPw==",
        "encoding": "base64",
        "path": [
         "model_matrix",
         "buffer"
        ]
       },
       {
        "data": "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",
        "encoding": "base64",
        "path": [
         "vertices",
         "buffer"
        ]
       }
      ],
      "model_module": "k3d",
      "model_module_version": "2.6.6",
      "model_name": "ObjectModel",
      "state": {
       "_model_module": "k3d",
       "_model_module_version": "2.6.6",
       "_model_name": "ObjectModel",
       "_view_count": null,
       "_view_module": null,
       "_view_module_version": "",
       "_view_name": null,
       "attribute": {
        "dtype": "float32",
        "shape": [
         384
        ]
       },
       "color": 255,
       "color_map": {
        "dtype": "float32",
        "shape": [
         256,
         4
        ]
       },
       "color_range": [
        9.646786929806694e-05,
        0.002930803457275033
       ],
       "compression_level": 0,
       "flat_shading": false,
       "id": 140265630250224,
       "indices": {
        "dtype": "uint32",
        "shape": [
         128,
         3
        ]
       },
       "model_matrix": {
        "dtype": "float32",
        "shape": [
         4,
         4
        ]
       },
       "name": null,
       "opacity": 1.0,
       "type": "Mesh",
       "vertices": {
        "dtype": "float32",
        "shape": [
         384,
         3
        ]
       },
       "visible": true,
       "wireframe": false
      }
     },
     "3f4719f303d841099e0ab3a8a0f93d44": {
      "model_module": "@jupyter-widgets/controls",
      "model_module_version": "1.5.0",
      "model_name": "AccordionModel",
      "state": {
       "_dom_classes": [],
       "_model_module": "@jupyter-widgets/controls",
       "_model_module_version": "1.5.0",
       "_model_name": "AccordionModel",
       "_titles": {
        "0": "Log Output"
       },
       "_view_count": null,
       "_view_module": "@jupyter-widgets/controls",
       "_view_module_version": "1.5.0",
       "_view_name": "AccordionView",
       "box_style": "",
       "children": [
        "IPY_MODEL_6e64c8133e1b4f47a40a11c7b60222ad"
       ],
       "layout": "IPY_MODEL_00a107053ba4492d847b64783d2ed85e",
       "selected_index": null
      }
     },
     "43c83f7784b040c5b707a355d6eb1284": {
      "model_module": "@jupyter-widgets/controls",
      "model_module_version": "1.5.0",
      "model_name": "HTMLModel",
      "state": {
       "_dom_classes": [],
       "_model_module": "@jupyter-widgets/controls",
       "_model_module_version": "1.5.0",
       "_model_name": "HTMLModel",
       "_view_count": null,
       "_view_module": "@jupyter-widgets/controls",
       "_view_module_version": "1.5.0",
       "_view_name": "HTMLView",
       "description": "",
       "description_tooltip": null,
       "layout": "IPY_MODEL_0d1f1fee86d94842b3abf689bbdb67a7",
       "placeholder": "​",
       "style": "IPY_MODEL_cf8c807bfdea4a9398c4ffd40cb21a12",
       "value": ""
      }
     },
     "462104fab2344256a959fc47ee2a8881": {
      "model_module": "@jupyter-widgets/controls",
      "model_module_version": "1.5.0",
      "model_name": "AccordionModel",
      "state": {
       "_dom_classes": [],
       "_model_module": "@jupyter-widgets/controls",
       "_model_module_version": "1.5.0",
       "_model_name": "AccordionModel",
       "_titles": {
        "0": "Log Output"
       },
       "_view_count": null,
       "_view_module": "@jupyter-widgets/controls",
       "_view_module_version": "1.5.0",
       "_view_name": "AccordionView",
       "box_style": "",
       "children": [
        "IPY_MODEL_17ed163bf36747b1a844d4ece3bbd346"
       ],
       "layout": "IPY_MODEL_9d94160c1ff64758abca16335dae4a62",
       "selected_index": null
      }
     },
     "4e140db54e8c497fa863ba1fdcb1be0d": {
      "model_module": "k3d",
      "model_module_version": "2.6.6",
      "model_name": "PlotModel",
      "state": {
       "_backend_version": "2.6.6",
       "_dom_classes": [],
       "_model_module": "k3d",
       "_model_module_version": "2.6.6",
       "_model_name": "PlotModel",
       "_view_count": null,
       "_view_module": "k3d",
       "_view_module_version": "2.6.6",
       "_view_name": "PlotView",
       "antialias": 3,
       "axes": [
        "x",
        "y",
        "z"
       ],
       "background_color": 16777215,
       "camera": [
        0.0,
        0.0,
        1.7320508075688774,
        0.0,
        0.0,
        0.0,
        0,
        1,
        0
       ],
       "camera_auto_fit": false,
       "camera_no_pan": true,
       "camera_no_rotate": true,
       "camera_no_zoom": true,
       "clipping_planes": [],
       "colorbar_object_id": -1,
       "fps_meter": false,
       "grid": [
        -1.0,
        -1.0,
        0.0,
        1.0,
        1.0,
        0.0
       ],
       "grid_auto_fit": false,
       "grid_visible": false,
       "height": 512,
       "layout": "IPY_MODEL_5c61d68e2daf442694a7ccad86310e7c",
       "lighting": 1.0,
       "menu_visibility": false,
       "object_ids": [
        140265765036912
       ],
       "rendering_steps": 1,
       "screenshot": "",
       "screenshot_scale": 2.0,
       "time": 0.0,
       "voxel_paint_color": 0
      }
     },
     "4f4d46ccfcd840c882bc8ff689ed0822": {
      "model_module": "@jupyter-widgets/base",
      "model_module_version": "1.2.0",
      "model_name": "LayoutModel",
      "state": {
       "_model_module": "@jupyter-widgets/base",
       "_model_module_version": "1.2.0",
       "_model_name": "LayoutModel",
       "_view_count": null,
       "_view_module": "@jupyter-widgets/base",
       "_view_module_version": "1.2.0",
       "_view_name": "LayoutView",
       "align_content": null,
       "align_items": null,
       "align_self": null,
       "border": null,
       "bottom": null,
       "display": null,
       "flex": null,
       "flex_flow": null,
       "grid_area": null,
       "grid_auto_columns": null,
       "grid_auto_flow": null,
       "grid_auto_rows": null,
       "grid_column": null,
       "grid_gap": null,
       "grid_row": null,
       "grid_template_areas": null,
       "grid_template_columns": null,
       "grid_template_rows": null,
       "height": "16em",
       "justify_content": null,
       "justify_items": null,
       "left": null,
       "margin": null,
       "max_height": null,
       "max_width": null,
       "min_height": null,
       "min_width": null,
       "object_fit": null,
       "object_position": null,
       "order": null,
       "overflow": null,
       "overflow_x": null,
       "overflow_y": "auto",
       "padding": null,
       "right": null,
       "top": null,
       "visibility": null,
       "width": "100%"
      }
     },
     "514be7ed0fc94c7b857b44876c53aa64": {
      "model_module": "@jupyter-widgets/output",
      "model_module_version": "1.0.0",
      "model_name": "OutputModel",
      "state": {
       "_dom_classes": [],
       "_model_module": "@jupyter-widgets/output",
       "_model_module_version": "1.0.0",
       "_model_name": "OutputModel",
       "_view_count": null,
       "_view_module": "@jupyter-widgets/output",
       "_view_module_version": "1.0.0",
       "_view_name": "OutputView",
       "layout": "IPY_MODEL_fc5d608a4dfd42548d55d44a6d7837e1",
       "msg_id": "",
       "outputs": [
        {
         "data": {
          "application/vnd.jupyter.widget-view+json": {
           "model_id": "4e140db54e8c497fa863ba1fdcb1be0d",
           "version_major": 2,
           "version_minor": 0
          },
          "text/plain": "VTKPlot(antialias=3, axes=['x', 'y', 'z'], background_color=16777215, camera=[4.5, 4.5, 4.5, 0.0, 0.0, 0.0, 1.…"
         },
         "metadata": {},
         "output_type": "display_data"
        }
       ]
      }
     },
     "515270dc82194895b2af4c02e3334959": {
      "model_module": "@jupyter-widgets/base",
      "model_module_version": "1.2.0",
      "model_name": "LayoutModel",
      "state": {
       "_model_module": "@jupyter-widgets/base",
       "_model_module_version": "1.2.0",
       "_model_name": "LayoutModel",
       "_view_count": null,
       "_view_module": "@jupyter-widgets/base",
       "_view_module_version": "1.2.0",
       "_view_name": "LayoutView",
       "align_content": null,
       "align_items": null,
       "align_self": null,
       "border": null,
       "bottom": null,
       "display": null,
       "flex": null,
       "flex_flow": null,
       "grid_area": null,
       "grid_auto_columns": null,
       "grid_auto_flow": null,
       "grid_auto_rows": null,
       "grid_column": null,
       "grid_gap": null,
       "grid_row": null,
       "grid_template_areas": null,
       "grid_template_columns": null,
       "grid_template_rows": null,
       "height": null,
       "justify_content": null,
       "justify_items": null,
       "left": null,
       "margin": null,
       "max_height": null,
       "max_width": null,
       "min_height": null,
       "min_width": null,
       "object_fit": null,
       "object_position": null,
       "order": null,
       "overflow": null,
       "overflow_x": null,
       "overflow_y": null,
       "padding": null,
       "right": null,
       "top": null,
       "visibility": null,
       "width": null
      }
     },
     "58c2ea85974640d08385dee75a71f0eb": {
      "model_module": "@jupyter-widgets/base",
      "model_module_version": "1.2.0",
      "model_name": "LayoutModel",
      "state": {
       "_model_module": "@jupyter-widgets/base",
       "_model_module_version": "1.2.0",
       "_model_name": "LayoutModel",
       "_view_count": null,
       "_view_module": "@jupyter-widgets/base",
       "_view_module_version": "1.2.0",
       "_view_name": "LayoutView",
       "align_content": null,
       "align_items": null,
       "align_self": null,
       "border": null,
       "bottom": null,
       "display": null,
       "flex": null,
       "flex_flow": null,
       "grid_area": null,
       "grid_auto_columns": null,
       "grid_auto_flow": null,
       "grid_auto_rows": null,
       "grid_column": null,
       "grid_gap": null,
       "grid_row": null,
       "grid_template_areas": null,
       "grid_template_columns": null,
       "grid_template_rows": null,
       "height": null,
       "justify_content": null,
       "justify_items": null,
       "left": null,
       "margin": null,
       "max_height": null,
       "max_width": null,
       "min_height": null,
       "min_width": null,
       "object_fit": null,
       "object_position": null,
       "order": null,
       "overflow": null,
       "overflow_x": null,
       "overflow_y": null,
       "padding": null,
       "right": null,
       "top": null,
       "visibility": null,
       "width": null
      }
     },
     "59f2717ab65546bba671f92509f07b36": {
      "model_module": "@jupyter-widgets/controls",
      "model_module_version": "1.5.0",
      "model_name": "DescriptionStyleModel",
      "state": {
       "_model_module": "@jupyter-widgets/controls",
       "_model_module_version": "1.5.0",
       "_model_name": "DescriptionStyleModel",
       "_view_count": null,
       "_view_module": "@jupyter-widgets/base",
       "_view_module_version": "1.2.0",
       "_view_name": "StyleView",
       "description_width": ""
      }
     },
     "5c5c3bc090ed484ba895694078a04042": {
      "model_module": "@jupyter-widgets/base",
      "model_module_version": "1.2.0",
      "model_name": "LayoutModel",
      "state": {
       "_model_module": "@jupyter-widgets/base",
       "_model_module_version": "1.2.0",
       "_model_name": "LayoutModel",
       "_view_count": null,
       "_view_module": "@jupyter-widgets/base",
       "_view_module_version": "1.2.0",
       "_view_name": "LayoutView",
       "align_content": null,
       "align_items": null,
       "align_self": null,
       "border": null,
       "bottom": null,
       "display": null,
       "flex": null,
       "flex_flow": null,
       "grid_area": null,
       "grid_auto_columns": null,
       "grid_auto_flow": null,
       "grid_auto_rows": null,
       "grid_column": null,
       "grid_gap": null,
       "grid_row": null,
       "grid_template_areas": null,
       "grid_template_columns": null,
       "grid_template_rows": null,
       "height": "16em",
       "justify_content": null,
       "justify_items": null,
       "left": null,
       "margin": null,
       "max_height": null,
       "max_width": null,
       "min_height": null,
       "min_width": null,
       "object_fit": null,
       "object_position": null,
       "order": null,
       "overflow": null,
       "overflow_x": null,
       "overflow_y": "auto",
       "padding": null,
       "right": null,
       "top": null,
       "visibility": null,
       "width": "100%"
      }
     },
     "5c61d68e2daf442694a7ccad86310e7c": {
      "model_module": "@jupyter-widgets/base",
      "model_module_version": "1.2.0",
      "model_name": "LayoutModel",
      "state": {
       "_model_module": "@jupyter-widgets/base",
       "_model_module_version": "1.2.0",
       "_model_name": "LayoutModel",
       "_view_count": null,
       "_view_module": "@jupyter-widgets/base",
       "_view_module_version": "1.2.0",
       "_view_name": "LayoutView",
       "align_content": null,
       "align_items": null,
       "align_self": null,
       "border": null,
       "bottom": null,
       "display": null,
       "flex": null,
       "flex_flow": null,
       "grid_area": null,
       "grid_auto_columns": null,
       "grid_auto_flow": null,
       "grid_auto_rows": null,
       "grid_column": null,
       "grid_gap": null,
       "grid_row": null,
       "grid_template_areas": null,
       "grid_template_columns": null,
       "grid_template_rows": null,
       "height": null,
       "justify_content": null,
       "justify_items": null,
       "left": null,
       "margin": null,
       "max_height": null,
       "max_width": null,
       "min_height": null,
       "min_width": null,
       "object_fit": null,
       "object_position": null,
       "order": null,
       "overflow": null,
       "overflow_x": null,
       "overflow_y": null,
       "padding": null,
       "right": null,
       "top": null,
       "visibility": null,
       "width": null
      }
     },
     "5fe6f4a9807d4e2f9430522487a7b78c": {
      "model_module": "@jupyter-widgets/base",
      "model_module_version": "1.2.0",
      "model_name": "LayoutModel",
      "state": {
       "_model_module": "@jupyter-widgets/base",
       "_model_module_version": "1.2.0",
       "_model_name": "LayoutModel",
       "_view_count": null,
       "_view_module": "@jupyter-widgets/base",
       "_view_module_version": "1.2.0",
       "_view_name": "LayoutView",
       "align_content": null,
       "align_items": null,
       "align_self": null,
       "border": null,
       "bottom": null,
       "display": null,
       "flex": null,
       "flex_flow": null,
       "grid_area": null,
       "grid_auto_columns": null,
       "grid_auto_flow": null,
       "grid_auto_rows": null,
       "grid_column": null,
       "grid_gap": null,
       "grid_row": null,
       "grid_template_areas": null,
       "grid_template_columns": null,
       "grid_template_rows": null,
       "height": null,
       "justify_content": null,
       "justify_items": null,
       "left": null,
       "margin": null,
       "max_height": null,
       "max_width": null,
       "min_height": null,
       "min_width": null,
       "object_fit": null,
       "object_position": null,
       "order": null,
       "overflow": null,
       "overflow_x": null,
       "overflow_y": null,
       "padding": null,
       "right": null,
       "top": null,
       "visibility": null,
       "width": null
      }
     },
     "6d1d9c79162749b89bbb019ced96f4d0": {
      "model_module": "@jupyter-widgets/base",
      "model_module_version": "1.2.0",
      "model_name": "LayoutModel",
      "state": {
       "_model_module": "@jupyter-widgets/base",
       "_model_module_version": "1.2.0",
       "_model_name": "LayoutModel",
       "_view_count": null,
       "_view_module": "@jupyter-widgets/base",
       "_view_module_version": "1.2.0",
       "_view_name": "LayoutView",
       "align_content": null,
       "align_items": null,
       "align_self": null,
       "border": null,
       "bottom": null,
       "display": null,
       "flex": null,
       "flex_flow": null,
       "grid_area": null,
       "grid_auto_columns": null,
       "grid_auto_flow": null,
       "grid_auto_rows": null,
       "grid_column": null,
       "grid_gap": null,
       "grid_row": null,
       "grid_template_areas": null,
       "grid_template_columns": null,
       "grid_template_rows": null,
       "height": "16em",
       "justify_content": null,
       "justify_items": null,
       "left": null,
       "margin": null,
       "max_height": null,
       "max_width": null,
       "min_height": null,
       "min_width": null,
       "object_fit": null,
       "object_position": null,
       "order": null,
       "overflow": null,
       "overflow_x": null,
       "overflow_y": "auto",
       "padding": null,
       "right": null,
       "top": null,
       "visibility": null,
       "width": "100%"
      }
     },
     "6db9115ef4654dd394a6de051bf7e2da": {
      "model_module": "@jupyter-widgets/controls",
      "model_module_version": "1.5.0",
      "model_name": "DescriptionStyleModel",
      "state": {
       "_model_module": "@jupyter-widgets/controls",
       "_model_module_version": "1.5.0",
       "_model_name": "DescriptionStyleModel",
       "_view_count": null,
       "_view_module": "@jupyter-widgets/base",
       "_view_module_version": "1.2.0",
       "_view_name": "StyleView",
       "description_width": ""
      }
     },
     "6e64c8133e1b4f47a40a11c7b60222ad": {
      "model_module": "@jupyter-widgets/controls",
      "model_module_version": "1.5.0",
      "model_name": "HTMLModel",
      "state": {
       "_dom_classes": [],
       "_model_module": "@jupyter-widgets/controls",
       "_model_module_version": "1.5.0",
       "_model_name": "HTMLModel",
       "_view_count": null,
       "_view_module": "@jupyter-widgets/controls",
       "_view_module_version": "1.5.0",
       "_view_name": "HTMLView",
       "description": "",
       "description_tooltip": null,
       "layout": "IPY_MODEL_4f4d46ccfcd840c882bc8ff689ed0822",
       "placeholder": "​",
       "style": "IPY_MODEL_6db9115ef4654dd394a6de051bf7e2da",
       "value": ""
      }
     },
     "725792672a25423b8158a6c5d4d7c79b": {
      "model_module": "@jupyter-widgets/base",
      "model_module_version": "1.2.0",
      "model_name": "LayoutModel",
      "state": {
       "_model_module": "@jupyter-widgets/base",
       "_model_module_version": "1.2.0",
       "_model_name": "LayoutModel",
       "_view_count": null,
       "_view_module": "@jupyter-widgets/base",
       "_view_module_version": "1.2.0",
       "_view_name": "LayoutView",
       "align_content": null,
       "align_items": null,
       "align_self": null,
       "border": null,
       "bottom": null,
       "display": null,
       "flex": null,
       "flex_flow": null,
       "grid_area": null,
       "grid_auto_columns": null,
       "grid_auto_flow": null,
       "grid_auto_rows": null,
       "grid_column": null,
       "grid_gap": null,
       "grid_row": null,
       "grid_template_areas": null,
       "grid_template_columns": null,
       "grid_template_rows": null,
       "height": null,
       "justify_content": null,
       "justify_items": null,
       "left": null,
       "margin": null,
       "max_height": null,
       "max_width": null,
       "min_height": null,
       "min_width": null,
       "object_fit": null,
       "object_position": null,
       "order": null,
       "overflow": null,
       "overflow_x": null,
       "overflow_y": null,
       "padding": null,
       "right": null,
       "top": null,
       "visibility": null,
       "width": null
      }
     },
     "76763b5bf6ee4faca0076d1132ed334a": {
      "model_module": "@jupyter-widgets/output",
      "model_module_version": "1.0.0",
      "model_name": "OutputModel",
      "state": {
       "_dom_classes": [],
       "_model_module": "@jupyter-widgets/output",
       "_model_module_version": "1.0.0",
       "_model_name": "OutputModel",
       "_view_count": null,
       "_view_module": "@jupyter-widgets/output",
       "_view_module_version": "1.0.0",
       "_view_name": "OutputView",
       "layout": "IPY_MODEL_d2e179491ca64555b6f96817311754ef",
       "msg_id": "",
       "outputs": [
        {
         "data": {
          "application/vnd.jupyter.widget-view+json": {
           "model_id": "a451739329dc4c25999015f00a33bd84",
           "version_major": 2,
           "version_minor": 0
          },
          "text/plain": "VTKPlot(antialias=3, axes=['x', 'y', 'z'], background_color=16777215, camera=[4.5, 4.5, 4.5, 0.0, 0.0, 0.0, 1.…"
         },
         "metadata": {},
         "output_type": "display_data"
        }
       ]
      }
     },
     "769c2c753e324673a4ea83f88d7a6ce8": {
      "model_module": "k3d",
      "model_module_version": "2.6.6",
      "model_name": "PlotModel",
      "state": {
       "_backend_version": "2.6.6",
       "_dom_classes": [],
       "_model_module": "k3d",
       "_model_module_version": "2.6.6",
       "_model_name": "PlotModel",
       "_view_count": null,
       "_view_module": "k3d",
       "_view_module_version": "2.6.6",
       "_view_name": "PlotView",
       "antialias": 3,
       "axes": [
        "x",
        "y",
        "z"
       ],
       "background_color": 16777215,
       "camera": [
        0.0,
        0.0,
        1.7320508075688774,
        0.0,
        0.0,
        0.0,
        0,
        1,
        0
       ],
       "camera_auto_fit": false,
       "camera_no_pan": true,
       "camera_no_rotate": true,
       "camera_no_zoom": true,
       "clipping_planes": [],
       "colorbar_object_id": -1,
       "fps_meter": false,
       "grid": [
        -1.0,
        -1.0,
        0.0,
        1.0,
        1.0,
        0.0
       ],
       "grid_auto_fit": false,
       "grid_visible": false,
       "height": 512,
       "layout": "IPY_MODEL_220b4af413b541d287cde3e49e83081e",
       "lighting": 1.0,
       "menu_visibility": false,
       "object_ids": [
        140267193133040
       ],
       "rendering_steps": 1,
       "screenshot": "",
       "screenshot_scale": 2.0,
       "time": 0.0,
       "voxel_paint_color": 0
      }
     },
     "7748075a52f74c1bb8a740116c3fb0b4": {
      "model_module": "@jupyter-widgets/controls",
      "model_module_version": "1.5.0",
      "model_name": "DescriptionStyleModel",
      "state": {
       "_model_module": "@jupyter-widgets/controls",
       "_model_module_version": "1.5.0",
       "_model_name": "DescriptionStyleModel",
       "_view_count": null,
       "_view_module": "@jupyter-widgets/base",
       "_view_module_version": "1.2.0",
       "_view_name": "StyleView",
       "description_width": ""
      }
     },
     "796dac9852944f60ae629746a3980ccf": {
      "buffers": [
       {
        "data": "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",
        "encoding": "base64",
        "path": [
         "attribute",
         "buffer"
        ]
       },
       {
        "data": "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",
        "encoding": "base64",
        "path": [
         "color_map",
         "buffer"
        ]
       },
       {
        "data": "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",
        "encoding": "base64",
        "path": [
         "indices",
         "buffer"
        ]
       },
       {
        "data": "AACAPwAAAAAAAAAAAAAAAAAAAAAAAIA/AAAAAAAAAAAAAAAAAAAAAAAAgD8AAAAAAAAAAAAAAAAAAAAAAACAPw==",
        "encoding": "base64",
        "path": [
         "model_matrix",
         "buffer"
        ]
       },
       {
        "data": "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",
        "encoding": "base64",
        "path": [
         "vertices",
         "buffer"
        ]
       }
      ],
      "model_module": "k3d",
      "model_module_version": "2.6.6",
      "model_name": "ObjectModel",
      "state": {
       "_model_module": "k3d",
       "_model_module_version": "2.6.6",
       "_model_name": "ObjectModel",
       "_view_count": null,
       "_view_module": null,
       "_view_module_version": "",
       "_view_name": null,
       "attribute": {
        "dtype": "float32",
        "shape": [
         384
        ]
       },
       "color": 255,
       "color_map": {
        "dtype": "float32",
        "shape": [
         256,
         4
        ]
       },
       "color_range": [
        5.519550541066565e-07,
        0.0003633767191786319
       ],
       "compression_level": 0,
       "flat_shading": false,
       "id": 140267193133040,
       "indices": {
        "dtype": "uint32",
        "shape": [
         128,
         3
        ]
       },
       "model_matrix": {
        "dtype": "float32",
        "shape": [
         4,
         4
        ]
       },
       "name": null,
       "opacity": 1.0,
       "type": "Mesh",
       "vertices": {
        "dtype": "float32",
        "shape": [
         384,
         3
        ]
       },
       "visible": true,
       "wireframe": false
      }
     },
     "7a2b579310a0459f9acb1e37aeff0393": {
      "model_module": "@jupyter-widgets/base",
      "model_module_version": "1.2.0",
      "model_name": "LayoutModel",
      "state": {
       "_model_module": "@jupyter-widgets/base",
       "_model_module_version": "1.2.0",
       "_model_name": "LayoutModel",
       "_view_count": null,
       "_view_module": "@jupyter-widgets/base",
       "_view_module_version": "1.2.0",
       "_view_name": "LayoutView",
       "align_content": null,
       "align_items": null,
       "align_self": null,
       "border": null,
       "bottom": null,
       "display": null,
       "flex": null,
       "flex_flow": null,
       "grid_area": null,
       "grid_auto_columns": null,
       "grid_auto_flow": null,
       "grid_auto_rows": null,
       "grid_column": null,
       "grid_gap": null,
       "grid_row": null,
       "grid_template_areas": null,
       "grid_template_columns": null,
       "grid_template_rows": null,
       "height": "16em",
       "justify_content": null,
       "justify_items": null,
       "left": null,
       "margin": null,
       "max_height": null,
       "max_width": null,
       "min_height": null,
       "min_width": null,
       "object_fit": null,
       "object_position": null,
       "order": null,
       "overflow": null,
       "overflow_x": null,
       "overflow_y": "auto",
       "padding": null,
       "right": null,
       "top": null,
       "visibility": null,
       "width": "100%"
      }
     },
     "7deeac5a029045e3bf8260c3dd4525c3": {
      "model_module": "@jupyter-widgets/base",
      "model_module_version": "1.2.0",
      "model_name": "LayoutModel",
      "state": {
       "_model_module": "@jupyter-widgets/base",
       "_model_module_version": "1.2.0",
       "_model_name": "LayoutModel",
       "_view_count": null,
       "_view_module": "@jupyter-widgets/base",
       "_view_module_version": "1.2.0",
       "_view_name": "LayoutView",
       "align_content": null,
       "align_items": null,
       "align_self": null,
       "border": null,
       "bottom": null,
       "display": null,
       "flex": null,
       "flex_flow": null,
       "grid_area": null,
       "grid_auto_columns": null,
       "grid_auto_flow": null,
       "grid_auto_rows": null,
       "grid_column": null,
       "grid_gap": null,
       "grid_row": null,
       "grid_template_areas": null,
       "grid_template_columns": null,
       "grid_template_rows": null,
       "height": null,
       "justify_content": null,
       "justify_items": null,
       "left": null,
       "margin": null,
       "max_height": null,
       "max_width": null,
       "min_height": null,
       "min_width": null,
       "object_fit": null,
       "object_position": null,
       "order": null,
       "overflow": null,
       "overflow_x": null,
       "overflow_y": null,
       "padding": null,
       "right": null,
       "top": null,
       "visibility": null,
       "width": null
      }
     },
     "8a46d08c6ed24acaabde16d659c16f60": {
      "model_module": "@jupyter-widgets/controls",
      "model_module_version": "1.5.0",
      "model_name": "HTMLModel",
      "state": {
       "_dom_classes": [],
       "_model_module": "@jupyter-widgets/controls",
       "_model_module_version": "1.5.0",
       "_model_name": "HTMLModel",
       "_view_count": null,
       "_view_module": "@jupyter-widgets/controls",
       "_view_module_version": "1.5.0",
       "_view_name": "HTMLView",
       "description": "",
       "description_tooltip": null,
       "layout": "IPY_MODEL_de1f5ba023d7430cbac2603970b4ad19",
       "placeholder": "​",
       "style": "IPY_MODEL_200e27d6f5ac46a69dc5ecb4b258cd1a",
       "value": ""
      }
     },
     "8dd0969b73104fcca1eaa3f3a32546f8": {
      "model_module": "@jupyter-widgets/base",
      "model_module_version": "1.2.0",
      "model_name": "LayoutModel",
      "state": {
       "_model_module": "@jupyter-widgets/base",
       "_model_module_version": "1.2.0",
       "_model_name": "LayoutModel",
       "_view_count": null,
       "_view_module": "@jupyter-widgets/base",
       "_view_module_version": "1.2.0",
       "_view_name": "LayoutView",
       "align_content": null,
       "align_items": null,
       "align_self": null,
       "border": null,
       "bottom": null,
       "display": null,
       "flex": null,
       "flex_flow": null,
       "grid_area": null,
       "grid_auto_columns": null,
       "grid_auto_flow": null,
       "grid_auto_rows": null,
       "grid_column": null,
       "grid_gap": null,
       "grid_row": null,
       "grid_template_areas": null,
       "grid_template_columns": null,
       "grid_template_rows": null,
       "height": null,
       "justify_content": null,
       "justify_items": null,
       "left": null,
       "margin": null,
       "max_height": null,
       "max_width": null,
       "min_height": null,
       "min_width": null,
       "object_fit": null,
       "object_position": null,
       "order": null,
       "overflow": null,
       "overflow_x": null,
       "overflow_y": null,
       "padding": null,
       "right": null,
       "top": null,
       "visibility": null,
       "width": null
      }
     },
     "8fa277e7b1814947872349a24601205d": {
      "model_module": "@jupyter-widgets/controls",
      "model_module_version": "1.5.0",
      "model_name": "AccordionModel",
      "state": {
       "_dom_classes": [],
       "_model_module": "@jupyter-widgets/controls",
       "_model_module_version": "1.5.0",
       "_model_name": "AccordionModel",
       "_titles": {
        "0": "Log Output"
       },
       "_view_count": null,
       "_view_module": "@jupyter-widgets/controls",
       "_view_module_version": "1.5.0",
       "_view_name": "AccordionView",
       "box_style": "",
       "children": [
        "IPY_MODEL_8a46d08c6ed24acaabde16d659c16f60"
       ],
       "layout": "IPY_MODEL_e5240bf5c8b1435c8023a75091836ba3",
       "selected_index": null
      }
     },
     "91e523ad408e45b1a532438b3668a6c0": {
      "model_module": "@jupyter-widgets/base",
      "model_module_version": "1.2.0",
      "model_name": "LayoutModel",
      "state": {
       "_model_module": "@jupyter-widgets/base",
       "_model_module_version": "1.2.0",
       "_model_name": "LayoutModel",
       "_view_count": null,
       "_view_module": "@jupyter-widgets/base",
       "_view_module_version": "1.2.0",
       "_view_name": "LayoutView",
       "align_content": null,
       "align_items": null,
       "align_self": null,
       "border": null,
       "bottom": null,
       "display": null,
       "flex": null,
       "flex_flow": null,
       "grid_area": null,
       "grid_auto_columns": null,
       "grid_auto_flow": null,
       "grid_auto_rows": null,
       "grid_column": null,
       "grid_gap": null,
       "grid_row": null,
       "grid_template_areas": null,
       "grid_template_columns": null,
       "grid_template_rows": null,
       "height": "16em",
       "justify_content": null,
       "justify_items": null,
       "left": null,
       "margin": null,
       "max_height": null,
       "max_width": null,
       "min_height": null,
       "min_width": null,
       "object_fit": null,
       "object_position": null,
       "order": null,
       "overflow": null,
       "overflow_x": null,
       "overflow_y": "auto",
       "padding": null,
       "right": null,
       "top": null,
       "visibility": null,
       "width": "100%"
      }
     },
     "92ada93832bd48bb96c59bdad1bfb549": {
      "model_module": "@jupyter-widgets/base",
      "model_module_version": "1.2.0",
      "model_name": "LayoutModel",
      "state": {
       "_model_module": "@jupyter-widgets/base",
       "_model_module_version": "1.2.0",
       "_model_name": "LayoutModel",
       "_view_count": null,
       "_view_module": "@jupyter-widgets/base",
       "_view_module_version": "1.2.0",
       "_view_name": "LayoutView",
       "align_content": null,
       "align_items": null,
       "align_self": null,
       "border": null,
       "bottom": null,
       "display": null,
       "flex": null,
       "flex_flow": null,
       "grid_area": null,
       "grid_auto_columns": null,
       "grid_auto_flow": null,
       "grid_auto_rows": null,
       "grid_column": null,
       "grid_gap": null,
       "grid_row": null,
       "grid_template_areas": null,
       "grid_template_columns": null,
       "grid_template_rows": null,
       "height": "16em",
       "justify_content": null,
       "justify_items": null,
       "left": null,
       "margin": null,
       "max_height": null,
       "max_width": null,
       "min_height": null,
       "min_width": null,
       "object_fit": null,
       "object_position": null,
       "order": null,
       "overflow": null,
       "overflow_x": null,
       "overflow_y": "auto",
       "padding": null,
       "right": null,
       "top": null,
       "visibility": null,
       "width": "100%"
      }
     },
     "939261fcb9664262bdc265ddbb5b2d43": {
      "model_module": "@jupyter-widgets/output",
      "model_module_version": "1.0.0",
      "model_name": "OutputModel",
      "state": {
       "_dom_classes": [],
       "_model_module": "@jupyter-widgets/output",
       "_model_module_version": "1.0.0",
       "_model_name": "OutputModel",
       "_view_count": null,
       "_view_module": "@jupyter-widgets/output",
       "_view_module_version": "1.0.0",
       "_view_name": "OutputView",
       "layout": "IPY_MODEL_c9e8935c2454412fb7e219b3a8b53a5a",
       "msg_id": "",
       "outputs": [
        {
         "data": {
          "application/vnd.jupyter.widget-view+json": {
           "model_id": "769c2c753e324673a4ea83f88d7a6ce8",
           "version_major": 2,
           "version_minor": 0
          },
          "text/plain": "VTKPlot(antialias=3, axes=['x', 'y', 'z'], background_color=16777215, camera=[4.5, 4.5, 4.5, 0.0, 0.0, 0.0, 1.…"
         },
         "metadata": {},
         "output_type": "display_data"
        }
       ]
      }
     },
     "94012a59fd1641af9c1f2bdfe9ccd360": {
      "model_module": "@jupyter-widgets/base",
      "model_module_version": "1.2.0",
      "model_name": "LayoutModel",
      "state": {
       "_model_module": "@jupyter-widgets/base",
       "_model_module_version": "1.2.0",
       "_model_name": "LayoutModel",
       "_view_count": null,
       "_view_module": "@jupyter-widgets/base",
       "_view_module_version": "1.2.0",
       "_view_name": "LayoutView",
       "align_content": null,
       "align_items": null,
       "align_self": null,
       "border": null,
       "bottom": null,
       "display": null,
       "flex": null,
       "flex_flow": null,
       "grid_area": null,
       "grid_auto_columns": null,
       "grid_auto_flow": null,
       "grid_auto_rows": null,
       "grid_column": null,
       "grid_gap": null,
       "grid_row": null,
       "grid_template_areas": null,
       "grid_template_columns": null,
       "grid_template_rows": null,
       "height": null,
       "justify_content": null,
       "justify_items": null,
       "left": null,
       "margin": null,
       "max_height": null,
       "max_width": null,
       "min_height": null,
       "min_width": null,
       "object_fit": null,
       "object_position": null,
       "order": null,
       "overflow": null,
       "overflow_x": null,
       "overflow_y": null,
       "padding": null,
       "right": null,
       "top": null,
       "visibility": null,
       "width": null
      }
     },
     "9d94160c1ff64758abca16335dae4a62": {
      "model_module": "@jupyter-widgets/base",
      "model_module_version": "1.2.0",
      "model_name": "LayoutModel",
      "state": {
       "_model_module": "@jupyter-widgets/base",
       "_model_module_version": "1.2.0",
       "_model_name": "LayoutModel",
       "_view_count": null,
       "_view_module": "@jupyter-widgets/base",
       "_view_module_version": "1.2.0",
       "_view_name": "LayoutView",
       "align_content": null,
       "align_items": null,
       "align_self": null,
       "border": null,
       "bottom": null,
       "display": null,
       "flex": null,
       "flex_flow": null,
       "grid_area": null,
       "grid_auto_columns": null,
       "grid_auto_flow": null,
       "grid_auto_rows": null,
       "grid_column": null,
       "grid_gap": null,
       "grid_row": null,
       "grid_template_areas": null,
       "grid_template_columns": null,
       "grid_template_rows": null,
       "height": null,
       "justify_content": null,
       "justify_items": null,
       "left": null,
       "margin": null,
       "max_height": null,
       "max_width": null,
       "min_height": null,
       "min_width": null,
       "object_fit": null,
       "object_position": null,
       "order": null,
       "overflow": null,
       "overflow_x": null,
       "overflow_y": null,
       "padding": null,
       "right": null,
       "top": null,
       "visibility": null,
       "width": null
      }
     },
     "9dac16e8dcc04d9281fced77765fd6dd": {
      "model_module": "@jupyter-widgets/controls",
      "model_module_version": "1.5.0",
      "model_name": "AccordionModel",
      "state": {
       "_dom_classes": [],
       "_model_module": "@jupyter-widgets/controls",
       "_model_module_version": "1.5.0",
       "_model_name": "AccordionModel",
       "_titles": {
        "0": "Log Output"
       },
       "_view_count": null,
       "_view_module": "@jupyter-widgets/controls",
       "_view_module_version": "1.5.0",
       "_view_name": "AccordionView",
       "box_style": "",
       "children": [
        "IPY_MODEL_100e8e84c6364a34a664dc8dd3db5ee4"
       ],
       "layout": "IPY_MODEL_a7467de0e6fb40e598c9fd5cd3d274c3",
       "selected_index": null
      }
     },
     "a451739329dc4c25999015f00a33bd84": {
      "model_module": "k3d",
      "model_module_version": "2.6.6",
      "model_name": "PlotModel",
      "state": {
       "_backend_version": "2.6.6",
       "_dom_classes": [],
       "_model_module": "k3d",
       "_model_module_version": "2.6.6",
       "_model_name": "PlotModel",
       "_view_count": null,
       "_view_module": "k3d",
       "_view_module_version": "2.6.6",
       "_view_name": "PlotView",
       "antialias": 3,
       "axes": [
        "x",
        "y",
        "z"
       ],
       "background_color": 16777215,
       "camera": [
        0.0,
        0.0,
        1.7320508075688774,
        0.0,
        0.0,
        0.0,
        0,
        1,
        0
       ],
       "camera_auto_fit": false,
       "camera_no_pan": true,
       "camera_no_rotate": true,
       "camera_no_zoom": true,
       "clipping_planes": [],
       "colorbar_object_id": -1,
       "fps_meter": false,
       "grid": [
        -1.0,
        -1.0,
        0.0,
        1.0,
        1.0,
        0.0
       ],
       "grid_auto_fit": false,
       "grid_visible": false,
       "height": 512,
       "layout": "IPY_MODEL_ec6c64590dba4ff4bc919ed86fdd94ce",
       "lighting": 1.0,
       "menu_visibility": false,
       "object_ids": [
        140267192753888
       ],
       "rendering_steps": 1,
       "screenshot": "",
       "screenshot_scale": 2.0,
       "time": 0.0,
       "voxel_paint_color": 0
      }
     },
     "a7467de0e6fb40e598c9fd5cd3d274c3": {
      "model_module": "@jupyter-widgets/base",
      "model_module_version": "1.2.0",
      "model_name": "LayoutModel",
      "state": {
       "_model_module": "@jupyter-widgets/base",
       "_model_module_version": "1.2.0",
       "_model_name": "LayoutModel",
       "_view_count": null,
       "_view_module": "@jupyter-widgets/base",
       "_view_module_version": "1.2.0",
       "_view_name": "LayoutView",
       "align_content": null,
       "align_items": null,
       "align_self": null,
       "border": null,
       "bottom": null,
       "display": null,
       "flex": null,
       "flex_flow": null,
       "grid_area": null,
       "grid_auto_columns": null,
       "grid_auto_flow": null,
       "grid_auto_rows": null,
       "grid_column": null,
       "grid_gap": null,
       "grid_row": null,
       "grid_template_areas": null,
       "grid_template_columns": null,
       "grid_template_rows": null,
       "height": null,
       "justify_content": null,
       "justify_items": null,
       "left": null,
       "margin": null,
       "max_height": null,
       "max_width": null,
       "min_height": null,
       "min_width": null,
       "object_fit": null,
       "object_position": null,
       "order": null,
       "overflow": null,
       "overflow_x": null,
       "overflow_y": null,
       "padding": null,
       "right": null,
       "top": null,
       "visibility": null,
       "width": null
      }
     },
     "a99a7912b83442bfbccddb2283d9e8c8": {
      "model_module": "@jupyter-widgets/controls",
      "model_module_version": "1.5.0",
      "model_name": "AccordionModel",
      "state": {
       "_dom_classes": [],
       "_model_module": "@jupyter-widgets/controls",
       "_model_module_version": "1.5.0",
       "_model_name": "AccordionModel",
       "_titles": {
        "0": "Log Output"
       },
       "_view_count": null,
       "_view_module": "@jupyter-widgets/controls",
       "_view_module_version": "1.5.0",
       "_view_name": "AccordionView",
       "box_style": "",
       "children": [
        "IPY_MODEL_43c83f7784b040c5b707a355d6eb1284"
       ],
       "layout": "IPY_MODEL_7deeac5a029045e3bf8260c3dd4525c3",
       "selected_index": null
      }
     },
     "b6dcb9c8d2ef47b9aa4819b280d5ecd8": {
      "model_module": "@jupyter-widgets/base",
      "model_module_version": "1.2.0",
      "model_name": "LayoutModel",
      "state": {
       "_model_module": "@jupyter-widgets/base",
       "_model_module_version": "1.2.0",
       "_model_name": "LayoutModel",
       "_view_count": null,
       "_view_module": "@jupyter-widgets/base",
       "_view_module_version": "1.2.0",
       "_view_name": "LayoutView",
       "align_content": null,
       "align_items": null,
       "align_self": null,
       "border": null,
       "bottom": null,
       "display": null,
       "flex": null,
       "flex_flow": null,
       "grid_area": null,
       "grid_auto_columns": null,
       "grid_auto_flow": null,
       "grid_auto_rows": null,
       "grid_column": null,
       "grid_gap": null,
       "grid_row": null,
       "grid_template_areas": null,
       "grid_template_columns": null,
       "grid_template_rows": null,
       "height": "16em",
       "justify_content": null,
       "justify_items": null,
       "left": null,
       "margin": null,
       "max_height": null,
       "max_width": null,
       "min_height": null,
       "min_width": null,
       "object_fit": null,
       "object_position": null,
       "order": null,
       "overflow": null,
       "overflow_x": null,
       "overflow_y": "auto",
       "padding": null,
       "right": null,
       "top": null,
       "visibility": null,
       "width": "100%"
      }
     },
     "b8c096c6dd3847db906976bf07374bfd": {
      "model_module": "@jupyter-widgets/controls",
      "model_module_version": "1.5.0",
      "model_name": "HTMLModel",
      "state": {
       "_dom_classes": [],
       "_model_module": "@jupyter-widgets/controls",
       "_model_module_version": "1.5.0",
       "_model_name": "HTMLModel",
       "_view_count": null,
       "_view_module": "@jupyter-widgets/controls",
       "_view_module_version": "1.5.0",
       "_view_name": "HTMLView",
       "description": "",
       "description_tooltip": null,
       "layout": "IPY_MODEL_c2d3c1a6494d4526846e78b3d2109eaf",
       "placeholder": "​",
       "style": "IPY_MODEL_3872a06fad71460a920be613ba31112b",
       "value": ""
      }
     },
     "bb028b489e3143da851e0f0a8c795a33": {
      "model_module": "@jupyter-widgets/controls",
      "model_module_version": "1.5.0",
      "model_name": "HTMLModel",
      "state": {
       "_dom_classes": [],
       "_model_module": "@jupyter-widgets/controls",
       "_model_module_version": "1.5.0",
       "_model_name": "HTMLModel",
       "_view_count": null,
       "_view_module": "@jupyter-widgets/controls",
       "_view_module_version": "1.5.0",
       "_view_name": "HTMLView",
       "description": "",
       "description_tooltip": null,
       "layout": "IPY_MODEL_1c7f0d248c214684977c8f5671a5b200",
       "placeholder": "​",
       "style": "IPY_MODEL_7748075a52f74c1bb8a740116c3fb0b4",
       "value": ""
      }
     },
     "c2d3c1a6494d4526846e78b3d2109eaf": {
      "model_module": "@jupyter-widgets/base",
      "model_module_version": "1.2.0",
      "model_name": "LayoutModel",
      "state": {
       "_model_module": "@jupyter-widgets/base",
       "_model_module_version": "1.2.0",
       "_model_name": "LayoutModel",
       "_view_count": null,
       "_view_module": "@jupyter-widgets/base",
       "_view_module_version": "1.2.0",
       "_view_name": "LayoutView",
       "align_content": null,
       "align_items": null,
       "align_self": null,
       "border": null,
       "bottom": null,
       "display": null,
       "flex": null,
       "flex_flow": null,
       "grid_area": null,
       "grid_auto_columns": null,
       "grid_auto_flow": null,
       "grid_auto_rows": null,
       "grid_column": null,
       "grid_gap": null,
       "grid_row": null,
       "grid_template_areas": null,
       "grid_template_columns": null,
       "grid_template_rows": null,
       "height": "16em",
       "justify_content": null,
       "justify_items": null,
       "left": null,
       "margin": null,
       "max_height": null,
       "max_width": null,
       "min_height": null,
       "min_width": null,
       "object_fit": null,
       "object_position": null,
       "order": null,
       "overflow": null,
       "overflow_x": null,
       "overflow_y": "auto",
       "padding": null,
       "right": null,
       "top": null,
       "visibility": null,
       "width": "100%"
      }
     },
     "c4aa89e2402e48a6946f6e5479824d54": {
      "model_module": "@jupyter-widgets/controls",
      "model_module_version": "1.5.0",
      "model_name": "DescriptionStyleModel",
      "state": {
       "_model_module": "@jupyter-widgets/controls",
       "_model_module_version": "1.5.0",
       "_model_name": "DescriptionStyleModel",
       "_view_count": null,
       "_view_module": "@jupyter-widgets/base",
       "_view_module_version": "1.2.0",
       "_view_name": "StyleView",
       "description_width": ""
      }
     },
     "c60789c37a934da28cf89ad8cfbf5f49": {
      "model_module": "k3d",
      "model_module_version": "2.6.6",
      "model_name": "PlotModel",
      "state": {
       "_backend_version": "2.6.6",
       "_dom_classes": [],
       "_model_module": "k3d",
       "_model_module_version": "2.6.6",
       "_model_name": "PlotModel",
       "_view_count": null,
       "_view_module": "k3d",
       "_view_module_version": "2.6.6",
       "_view_name": "PlotView",
       "antialias": 3,
       "axes": [
        "x",
        "y",
        "z"
       ],
       "background_color": 16777215,
       "camera": [
        0.0,
        0.0,
        1.7320508075688774,
        0.0,
        0.0,
        0.0,
        0,
        1,
        0
       ],
       "camera_auto_fit": false,
       "camera_no_pan": true,
       "camera_no_rotate": true,
       "camera_no_zoom": true,
       "clipping_planes": [],
       "colorbar_object_id": -1,
       "fps_meter": false,
       "grid": [
        -1.0,
        -1.0,
        0.0,
        1.0,
        1.0,
        0.0
       ],
       "grid_auto_fit": false,
       "grid_visible": false,
       "height": 512,
       "layout": "IPY_MODEL_f4d8e01d801846f88a97ea351f10dcaa",
       "lighting": 1.0,
       "menu_visibility": false,
       "object_ids": [
        140265765038016
       ],
       "rendering_steps": 1,
       "screenshot": "",
       "screenshot_scale": 2.0,
       "time": 0.0,
       "voxel_paint_color": 0
      }
     },
     "c9e8935c2454412fb7e219b3a8b53a5a": {
      "model_module": "@jupyter-widgets/base",
      "model_module_version": "1.2.0",
      "model_name": "LayoutModel",
      "state": {
       "_model_module": "@jupyter-widgets/base",
       "_model_module_version": "1.2.0",
       "_model_name": "LayoutModel",
       "_view_count": null,
       "_view_module": "@jupyter-widgets/base",
       "_view_module_version": "1.2.0",
       "_view_name": "LayoutView",
       "align_content": null,
       "align_items": null,
       "align_self": null,
       "border": null,
       "bottom": null,
       "display": null,
       "flex": null,
       "flex_flow": null,
       "grid_area": null,
       "grid_auto_columns": null,
       "grid_auto_flow": null,
       "grid_auto_rows": null,
       "grid_column": null,
       "grid_gap": null,
       "grid_row": null,
       "grid_template_areas": null,
       "grid_template_columns": null,
       "grid_template_rows": null,
       "height": null,
       "justify_content": null,
       "justify_items": null,
       "left": null,
       "margin": null,
       "max_height": null,
       "max_width": null,
       "min_height": null,
       "min_width": null,
       "object_fit": null,
       "object_position": null,
       "order": null,
       "overflow": null,
       "overflow_x": null,
       "overflow_y": null,
       "padding": null,
       "right": null,
       "top": null,
       "visibility": null,
       "width": null
      }
     },
     "cf8c807bfdea4a9398c4ffd40cb21a12": {
      "model_module": "@jupyter-widgets/controls",
      "model_module_version": "1.5.0",
      "model_name": "DescriptionStyleModel",
      "state": {
       "_model_module": "@jupyter-widgets/controls",
       "_model_module_version": "1.5.0",
       "_model_name": "DescriptionStyleModel",
       "_view_count": null,
       "_view_module": "@jupyter-widgets/base",
       "_view_module_version": "1.2.0",
       "_view_name": "StyleView",
       "description_width": ""
      }
     },
     "d2e179491ca64555b6f96817311754ef": {
      "model_module": "@jupyter-widgets/base",
      "model_module_version": "1.2.0",
      "model_name": "LayoutModel",
      "state": {
       "_model_module": "@jupyter-widgets/base",
       "_model_module_version": "1.2.0",
       "_model_name": "LayoutModel",
       "_view_count": null,
       "_view_module": "@jupyter-widgets/base",
       "_view_module_version": "1.2.0",
       "_view_name": "LayoutView",
       "align_content": null,
       "align_items": null,
       "align_self": null,
       "border": null,
       "bottom": null,
       "display": null,
       "flex": null,
       "flex_flow": null,
       "grid_area": null,
       "grid_auto_columns": null,
       "grid_auto_flow": null,
       "grid_auto_rows": null,
       "grid_column": null,
       "grid_gap": null,
       "grid_row": null,
       "grid_template_areas": null,
       "grid_template_columns": null,
       "grid_template_rows": null,
       "height": null,
       "justify_content": null,
       "justify_items": null,
       "left": null,
       "margin": null,
       "max_height": null,
       "max_width": null,
       "min_height": null,
       "min_width": null,
       "object_fit": null,
       "object_position": null,
       "order": null,
       "overflow": null,
       "overflow_x": null,
       "overflow_y": null,
       "padding": null,
       "right": null,
       "top": null,
       "visibility": null,
       "width": null
      }
     },
     "d6d9b776ba074f088077ab6d7fb778f2": {
      "model_module": "@jupyter-widgets/base",
      "model_module_version": "1.2.0",
      "model_name": "LayoutModel",
      "state": {
       "_model_module": "@jupyter-widgets/base",
       "_model_module_version": "1.2.0",
       "_model_name": "LayoutModel",
       "_view_count": null,
       "_view_module": "@jupyter-widgets/base",
       "_view_module_version": "1.2.0",
       "_view_name": "LayoutView",
       "align_content": null,
       "align_items": null,
       "align_self": null,
       "border": null,
       "bottom": null,
       "display": null,
       "flex": null,
       "flex_flow": null,
       "grid_area": null,
       "grid_auto_columns": null,
       "grid_auto_flow": null,
       "grid_auto_rows": null,
       "grid_column": null,
       "grid_gap": null,
       "grid_row": null,
       "grid_template_areas": null,
       "grid_template_columns": null,
       "grid_template_rows": null,
       "height": null,
       "justify_content": null,
       "justify_items": null,
       "left": null,
       "margin": null,
       "max_height": null,
       "max_width": null,
       "min_height": null,
       "min_width": null,
       "object_fit": null,
       "object_position": null,
       "order": null,
       "overflow": null,
       "overflow_x": null,
       "overflow_y": null,
       "padding": null,
       "right": null,
       "top": null,
       "visibility": null,
       "width": null
      }
     },
     "d905a8892fec461d81d2db3b6e0f58bd": {
      "model_module": "k3d",
      "model_module_version": "2.6.6",
      "model_name": "PlotModel",
      "state": {
       "_backend_version": "2.6.6",
       "_dom_classes": [],
       "_model_module": "k3d",
       "_model_module_version": "2.6.6",
       "_model_name": "PlotModel",
       "_view_count": null,
       "_view_module": "k3d",
       "_view_module_version": "2.6.6",
       "_view_name": "PlotView",
       "antialias": 3,
       "axes": [
        "x",
        "y",
        "z"
       ],
       "background_color": 16777215,
       "camera": [
        0.0,
        0.0,
        1.7320508075688774,
        0.0,
        0.0,
        0.0,
        0,
        1,
        0
       ],
       "camera_auto_fit": false,
       "camera_no_pan": true,
       "camera_no_rotate": true,
       "camera_no_zoom": true,
       "clipping_planes": [],
       "colorbar_object_id": -1,
       "fps_meter": false,
       "grid": [
        -1.0,
        -1.0,
        0.0,
        1.0,
        1.0,
        0.0
       ],
       "grid_auto_fit": false,
       "grid_visible": false,
       "height": 512,
       "layout": "IPY_MODEL_8dd0969b73104fcca1eaa3f3a32546f8",
       "lighting": 1.0,
       "menu_visibility": false,
       "object_ids": [
        140265630250224
       ],
       "rendering_steps": 1,
       "screenshot": "",
       "screenshot_scale": 2.0,
       "time": 0.0,
       "voxel_paint_color": 0
      }
     },
     "db7dc98c9fe0404985a1c116733dedb9": {
      "model_module": "@jupyter-widgets/controls",
      "model_module_version": "1.5.0",
      "model_name": "HTMLModel",
      "state": {
       "_dom_classes": [],
       "_model_module": "@jupyter-widgets/controls",
       "_model_module_version": "1.5.0",
       "_model_name": "HTMLModel",
       "_view_count": null,
       "_view_module": "@jupyter-widgets/controls",
       "_view_module_version": "1.5.0",
       "_view_name": "HTMLView",
       "description": "",
       "description_tooltip": null,
       "layout": "IPY_MODEL_92ada93832bd48bb96c59bdad1bfb549",
       "placeholder": "​",
       "style": "IPY_MODEL_e7e78b3fcfcf45f4a0f195e79ef02655",
       "value": ""
      }
     },
     "dba06874682b4ff18a2c8e3bf313f13a": {
      "model_module": "@jupyter-widgets/controls",
      "model_module_version": "1.5.0",
      "model_name": "HTMLModel",
      "state": {
       "_dom_classes": [],
       "_model_module": "@jupyter-widgets/controls",
       "_model_module_version": "1.5.0",
       "_model_name": "HTMLModel",
       "_view_count": null,
       "_view_module": "@jupyter-widgets/controls",
       "_view_module_version": "1.5.0",
       "_view_name": "HTMLView",
       "description": "",
       "description_tooltip": null,
       "layout": "IPY_MODEL_6d1d9c79162749b89bbb019ced96f4d0",
       "placeholder": "​",
       "style": "IPY_MODEL_03608c73a0f14b82b8dd426bfd159d42",
       "value": ""
      }
     },
     "dbfe17bb815348ffaac31851b1d7c52e": {
      "model_module": "@jupyter-widgets/controls",
      "model_module_version": "1.5.0",
      "model_name": "AccordionModel",
      "state": {
       "_dom_classes": [],
       "_model_module": "@jupyter-widgets/controls",
       "_model_module_version": "1.5.0",
       "_model_name": "AccordionModel",
       "_titles": {
        "0": "Log Output"
       },
       "_view_count": null,
       "_view_module": "@jupyter-widgets/controls",
       "_view_module_version": "1.5.0",
       "_view_name": "AccordionView",
       "box_style": "",
       "children": [
        "IPY_MODEL_b8c096c6dd3847db906976bf07374bfd"
       ],
       "layout": "IPY_MODEL_725792672a25423b8158a6c5d4d7c79b",
       "selected_index": null
      }
     },
     "de1f5ba023d7430cbac2603970b4ad19": {
      "model_module": "@jupyter-widgets/base",
      "model_module_version": "1.2.0",
      "model_name": "LayoutModel",
      "state": {
       "_model_module": "@jupyter-widgets/base",
       "_model_module_version": "1.2.0",
       "_model_name": "LayoutModel",
       "_view_count": null,
       "_view_module": "@jupyter-widgets/base",
       "_view_module_version": "1.2.0",
       "_view_name": "LayoutView",
       "align_content": null,
       "align_items": null,
       "align_self": null,
       "border": null,
       "bottom": null,
       "display": null,
       "flex": null,
       "flex_flow": null,
       "grid_area": null,
       "grid_auto_columns": null,
       "grid_auto_flow": null,
       "grid_auto_rows": null,
       "grid_column": null,
       "grid_gap": null,
       "grid_row": null,
       "grid_template_areas": null,
       "grid_template_columns": null,
       "grid_template_rows": null,
       "height": "16em",
       "justify_content": null,
       "justify_items": null,
       "left": null,
       "margin": null,
       "max_height": null,
       "max_width": null,
       "min_height": null,
       "min_width": null,
       "object_fit": null,
       "object_position": null,
       "order": null,
       "overflow": null,
       "overflow_x": null,
       "overflow_y": "auto",
       "padding": null,
       "right": null,
       "top": null,
       "visibility": null,
       "width": "100%"
      }
     },
     "e5240bf5c8b1435c8023a75091836ba3": {
      "model_module": "@jupyter-widgets/base",
      "model_module_version": "1.2.0",
      "model_name": "LayoutModel",
      "state": {
       "_model_module": "@jupyter-widgets/base",
       "_model_module_version": "1.2.0",
       "_model_name": "LayoutModel",
       "_view_count": null,
       "_view_module": "@jupyter-widgets/base",
       "_view_module_version": "1.2.0",
       "_view_name": "LayoutView",
       "align_content": null,
       "align_items": null,
       "align_self": null,
       "border": null,
       "bottom": null,
       "display": null,
       "flex": null,
       "flex_flow": null,
       "grid_area": null,
       "grid_auto_columns": null,
       "grid_auto_flow": null,
       "grid_auto_rows": null,
       "grid_column": null,
       "grid_gap": null,
       "grid_row": null,
       "grid_template_areas": null,
       "grid_template_columns": null,
       "grid_template_rows": null,
       "height": null,
       "justify_content": null,
       "justify_items": null,
       "left": null,
       "margin": null,
       "max_height": null,
       "max_width": null,
       "min_height": null,
       "min_width": null,
       "object_fit": null,
       "object_position": null,
       "order": null,
       "overflow": null,
       "overflow_x": null,
       "overflow_y": null,
       "padding": null,
       "right": null,
       "top": null,
       "visibility": null,
       "width": null
      }
     },
     "e5afe6671bdf4057ace4a00d8fdc0ce2": {
      "model_module": "@jupyter-widgets/controls",
      "model_module_version": "1.5.0",
      "model_name": "HTMLModel",
      "state": {
       "_dom_classes": [],
       "_model_module": "@jupyter-widgets/controls",
       "_model_module_version": "1.5.0",
       "_model_name": "HTMLModel",
       "_view_count": null,
       "_view_module": "@jupyter-widgets/controls",
       "_view_module_version": "1.5.0",
       "_view_name": "HTMLView",
       "description": "",
       "description_tooltip": null,
       "layout": "IPY_MODEL_5c5c3bc090ed484ba895694078a04042",
       "placeholder": "​",
       "style": "IPY_MODEL_06757ff6df2949bcbb565ee6b5d325d0",
       "value": ""
      }
     },
     "e7e78b3fcfcf45f4a0f195e79ef02655": {
      "model_module": "@jupyter-widgets/controls",
      "model_module_version": "1.5.0",
      "model_name": "DescriptionStyleModel",
      "state": {
       "_model_module": "@jupyter-widgets/controls",
       "_model_module_version": "1.5.0",
       "_model_name": "DescriptionStyleModel",
       "_view_count": null,
       "_view_module": "@jupyter-widgets/base",
       "_view_module_version": "1.2.0",
       "_view_name": "StyleView",
       "description_width": ""
      }
     },
     "e8364b6dad384ee2b253c36308d30c05": {
      "buffers": [
       {
        "data": "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",
        "encoding": "base64",
        "path": [
         "attribute",
         "buffer"
        ]
       },
       {
        "data": "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",
        "encoding": "base64",
        "path": [
         "color_map",
         "buffer"
        ]
       },
       {
        "data": "AAAAAAEAAAACAAAAAwAAAAQAAAAFAAAABgAAAAcAAAAIAAAACQAAAAoAAAALAAAADAAAAA0AAAAOAAAADwAAABAAAAARAAAAEgAAABMAAAAUAAAAFQAAABYAAAAXAAAAGAAAABkAAAAaAAAAGwAAABwAAAAdAAAAHgAAAB8AAAAgAAAAIQAAACIAAAAjAAAAJAAAACUAAAAmAAAAJwAAACgAAAApAAAAKgAAACsAAAAsAAAALQAAAC4AAAAvAAAAMAAAADEAAAAyAAAAMwAAADQAAAA1AAAANgAAADcAAAA4AAAAOQAAADoAAAA7AAAAPAAAAD0AAAA+AAAAPwAAAEAAAABBAAAAQgAAAEMAAABEAAAARQAAAEYAAABHAAAASAAAAEkAAABKAAAASwAAAEwAAABNAAAATgAAAE8AAABQAAAAUQAAAFIAAABTAAAAVAAAAFUAAABWAAAAVwAAAFgAAABZAAAAWgAAAFsAAABcAAAAXQAAAF4AAABfAAAAYAAAAGEAAABiAAAAYwAAAGQAAABlAAAAZgAAAGcAAABoAAAAaQAAAGoAAABrAAAAbAAAAG0AAABuAAAAbwAAAHAAAABxAAAAcgAAAHMAAAB0AAAAdQAAAHYAAAB3AAAAeAAAAHkAAAB6AAAAewAAAHwAAAB9AAAAfgAAAH8AAACAAAAAgQAAAIIAAACDAAAAhAAAAIUAAACGAAAAhwAAAIgAAACJAAAAigAAAIsAAACMAAAAjQAAAI4AAACPAAAAkAAAAJEAAACSAAAAkwAAAJQAAACVAAAAlgAAAJcAAACYAAAAmQAAAJoAAACbAAAAnAAAAJ0AAACeAAAAnwAAAKAAAAChAAAAogAAAKMAAACkAAAApQAAAKYAAACnAAAAqAAAAKkAAACqAAAAqwAAAKwAAACtAAAArgAAAK8AAACwAAAAsQAAALIAAACzAAAAtAAAALUAAAC2AAAAtwAAALgAAAC5AAAAugAAALsAAAC8AAAAvQAAAL4AAAC/AAAAwAAAAMEAAADCAAAAwwAAAMQAAADFAAAAxgAAAMcAAADIAAAAyQAAAMoAAADLAAAAzAAAAM0AAADOAAAAzwAAANAAAADRAAAA0gAAANMAAADUAAAA1QAAANYAAADXAAAA2AAAANkAAADaAAAA2wAAANwAAADdAAAA3gAAAN8AAADgAAAA4QAAAOIAAADjAAAA5AAAAOUAAADmAAAA5wAAAOgAAADpAAAA6gAAAOsAAADsAAAA7QAAAO4AAADvAAAA8AAAAPEAAADyAAAA8wAAAPQAAAD1AAAA9gAAAPcAAAD4AAAA+QAAAPoAAAD7AAAA/AAAAP0AAAD+AAAA/wAAAAABAAABAQAAAgEAAAMBAAAEAQAABQEAAAYBAAAHAQAACAEAAAkBAAAKAQAACwEAAAwBAAANAQAADgEAAA8BAAAQAQAAEQEAABIBAAATAQAAFAEAABUBAAAWAQAAFwEAABgBAAAZAQAAGgEAABsBAAAcAQAAHQEAAB4BAAAfAQAAIAEAACEBAAAiAQAAIwEAACQBAAAlAQAAJgEAACcBAAAoAQAAKQEAACoBAAArAQAALAEAAC0BAAAuAQAALwEAADABAAAxAQAAMgEAADMBAAA0AQAANQEAADYBAAA3AQAAOAEAADkBAAA6AQAAOwEAADwBAAA9AQAAPgEAAD8BAABAAQAAQQEAAEIBAABDAQAARAEAAEUBAABGAQAARwEAAEgBAABJAQAASgEAAEsBAABMAQAATQEAAE4BAABPAQAAUAEAAFEBAABSAQAAUwEAAFQBAABVAQAAVgEAAFcBAABYAQAAWQEAAFoBAABbAQAAXAEAAF0BAABeAQAAXwEAAGABAABhAQAAYgEAAGMBAABkAQAAZQEAAGYBAABnAQAAaAEAAGkBAABqAQAAawEAAGwBAABtAQAAbgEAAG8BAABwAQAAcQEAAHIBAABzAQAAdAEAAHUBAAB2AQAAdwEAAHgBAAB5AQAAegEAAHsBAAB8AQAAfQEAAH4BAAB/AQAA",
        "encoding": "base64",
        "path": [
         "indices",
         "buffer"
        ]
       },
       {
        "data": "AACAPwAAAAAAAAAAAAAAAAAAAAAAAIA/AAAAAAAAAAAAAAAAAAAAAAAAgD8AAAAAAAAAAAAAAAAAAAAAAACAPw==",
        "encoding": "base64",
        "path": [
         "model_matrix",
         "buffer"
        ]
       },
       {
        "data": "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",
        "encoding": "base64",
        "path": [
         "vertices",
         "buffer"
        ]
       }
      ],
      "model_module": "k3d",
      "model_module_version": "2.6.6",
      "model_name": "ObjectModel",
      "state": {
       "_model_module": "k3d",
       "_model_module_version": "2.6.6",
       "_model_name": "ObjectModel",
       "_view_count": null,
       "_view_module": null,
       "_view_module_version": "",
       "_view_name": null,
       "attribute": {
        "dtype": "float32",
        "shape": [
         384
        ]
       },
       "color": 255,
       "color_map": {
        "dtype": "float32",
        "shape": [
         256,
         4
        ]
       },
       "color_range": [
        -0.012425728142261505,
        1.0124256610870361
       ],
       "compression_level": 0,
       "flat_shading": false,
       "id": 140265765038016,
       "indices": {
        "dtype": "uint32",
        "shape": [
         128,
         3
        ]
       },
       "model_matrix": {
        "dtype": "float32",
        "shape": [
         4,
         4
        ]
       },
       "name": null,
       "opacity": 1.0,
       "type": "Mesh",
       "vertices": {
        "dtype": "float32",
        "shape": [
         384,
         3
        ]
       },
       "visible": true,
       "wireframe": false
      }
     },
     "ec6c64590dba4ff4bc919ed86fdd94ce": {
      "model_module": "@jupyter-widgets/base",
      "model_module_version": "1.2.0",
      "model_name": "LayoutModel",
      "state": {
       "_model_module": "@jupyter-widgets/base",
       "_model_module_version": "1.2.0",
       "_model_name": "LayoutModel",
       "_view_count": null,
       "_view_module": "@jupyter-widgets/base",
       "_view_module_version": "1.2.0",
       "_view_name": "LayoutView",
       "align_content": null,
       "align_items": null,
       "align_self": null,
       "border": null,
       "bottom": null,
       "display": null,
       "flex": null,
       "flex_flow": null,
       "grid_area": null,
       "grid_auto_columns": null,
       "grid_auto_flow": null,
       "grid_auto_rows": null,
       "grid_column": null,
       "grid_gap": null,
       "grid_row": null,
       "grid_template_areas": null,
       "grid_template_columns": null,
       "grid_template_rows": null,
       "height": null,
       "justify_content": null,
       "justify_items": null,
       "left": null,
       "margin": null,
       "max_height": null,
       "max_width": null,
       "min_height": null,
       "min_width": null,
       "object_fit": null,
       "object_position": null,
       "order": null,
       "overflow": null,
       "overflow_x": null,
       "overflow_y": null,
       "padding": null,
       "right": null,
       "top": null,
       "visibility": null,
       "width": null
      }
     },
     "f098dd6df1574d54a36a3c4bd52d7c37": {
      "buffers": [
       {
        "data": "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",
        "encoding": "base64",
        "path": [
         "attribute",
         "buffer"
        ]
       },
       {
        "data": "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",
        "encoding": "base64",
        "path": [
         "color_map",
         "buffer"
        ]
       },
       {
        "data": "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",
        "encoding": "base64",
        "path": [
         "indices",
         "buffer"
        ]
       },
       {
        "data": "AACAPwAAAAAAAAAAAAAAAAAAAAAAAIA/AAAAAAAAAAAAAAAAAAAAAAAAgD8AAAAAAAAAAAAAAAAAAAAAAACAPw==",
        "encoding": "base64",
        "path": [
         "model_matrix",
         "buffer"
        ]
       },
       {
        "data": "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",
        "encoding": "base64",
        "path": [
         "vertices",
         "buffer"
        ]
       }
      ],
      "model_module": "k3d",
      "model_module_version": "2.6.6",
      "model_name": "ObjectModel",
      "state": {
       "_model_module": "k3d",
       "_model_module_version": "2.6.6",
       "_model_name": "ObjectModel",
       "_view_count": null,
       "_view_module": null,
       "_view_module_version": "",
       "_view_name": null,
       "attribute": {
        "dtype": "float32",
        "shape": [
         384
        ]
       },
       "color": 255,
       "color_map": {
        "dtype": "float32",
        "shape": [
         256,
         4
        ]
       },
       "color_range": [
        -0.01390803698450327,
        0.012898808345198631
       ],
       "compression_level": 0,
       "flat_shading": false,
       "id": 140265765036912,
       "indices": {
        "dtype": "uint32",
        "shape": [
         128,
         3
        ]
       },
       "model_matrix": {
        "dtype": "float32",
        "shape": [
         4,
         4
        ]
       },
       "name": null,
       "opacity": 1.0,
       "type": "Mesh",
       "vertices": {
        "dtype": "float32",
        "shape": [
         384,
         3
        ]
       },
       "visible": true,
       "wireframe": false
      }
     },
     "f2de24de1ea24d40aaef831426f5d401": {
      "model_module": "@jupyter-widgets/controls",
      "model_module_version": "1.5.0",
      "model_name": "AccordionModel",
      "state": {
       "_dom_classes": [],
       "_model_module": "@jupyter-widgets/controls",
       "_model_module_version": "1.5.0",
       "_model_name": "AccordionModel",
       "_titles": {
        "0": "Log Output"
       },
       "_view_count": null,
       "_view_module": "@jupyter-widgets/controls",
       "_view_module_version": "1.5.0",
       "_view_name": "AccordionView",
       "box_style": "",
       "children": [
        "IPY_MODEL_e5afe6671bdf4057ace4a00d8fdc0ce2"
       ],
       "layout": "IPY_MODEL_5fe6f4a9807d4e2f9430522487a7b78c",
       "selected_index": null
      }
     },
     "f4d8e01d801846f88a97ea351f10dcaa": {
      "model_module": "@jupyter-widgets/base",
      "model_module_version": "1.2.0",
      "model_name": "LayoutModel",
      "state": {
       "_model_module": "@jupyter-widgets/base",
       "_model_module_version": "1.2.0",
       "_model_name": "LayoutModel",
       "_view_count": null,
       "_view_module": "@jupyter-widgets/base",
       "_view_module_version": "1.2.0",
       "_view_name": "LayoutView",
       "align_content": null,
       "align_items": null,
       "align_self": null,
       "border": null,
       "bottom": null,
       "display": null,
       "flex": null,
       "flex_flow": null,
       "grid_area": null,
       "grid_auto_columns": null,
       "grid_auto_flow": null,
       "grid_auto_rows": null,
       "grid_column": null,
       "grid_gap": null,
       "grid_row": null,
       "grid_template_areas": null,
       "grid_template_columns": null,
       "grid_template_rows": null,
       "height": null,
       "justify_content": null,
       "justify_items": null,
       "left": null,
       "margin": null,
       "max_height": null,
       "max_width": null,
       "min_height": null,
       "min_width": null,
       "object_fit": null,
       "object_position": null,
       "order": null,
       "overflow": null,
       "overflow_x": null,
       "overflow_y": null,
       "padding": null,
       "right": null,
       "top": null,
       "visibility": null,
       "width": null
      }
     },
     "f5daf04403ba4b1ebb32e8bbfe3e7d2e": {
      "buffers": [
       {
        "data": "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",
        "encoding": "base64",
        "path": [
         "attribute",
         "buffer"
        ]
       },
       {
        "data": "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",
        "encoding": "base64",
        "path": [
         "color_map",
         "buffer"
        ]
       },
       {
        "data": "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",
        "encoding": "base64",
        "path": [
         "indices",
         "buffer"
        ]
       },
       {
        "data": "AACAPwAAAAAAAAAAAAAAAAAAAAAAAIA/AAAAAAAAAAAAAAAAAAAAAAAAgD8AAAAAAAAAAAAAAAAAAAAAAACAPw==",
        "encoding": "base64",
        "path": [
         "model_matrix",
         "buffer"
        ]
       },
       {
        "data": "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",
        "encoding": "base64",
        "path": [
         "vertices",
         "buffer"
        ]
       }
      ],
      "model_module": "k3d",
      "model_module_version": "2.6.6",
      "model_name": "ObjectModel",
      "state": {
       "_model_module": "k3d",
       "_model_module_version": "2.6.6",
       "_model_name": "ObjectModel",
       "_view_count": null,
       "_view_module": null,
       "_view_module_version": "",
       "_view_name": null,
       "attribute": {
        "dtype": "float32",
        "shape": [
         384
        ]
       },
       "color": 255,
       "color_map": {
        "dtype": "float32",
        "shape": [
         256,
         4
        ]
       },
       "color_range": [
        0.05901186540722847,
        0.4557047188282013
       ],
       "compression_level": 0,
       "flat_shading": false,
       "id": 140267192753888,
       "indices": {
        "dtype": "uint32",
        "shape": [
         128,
         3
        ]
       },
       "model_matrix": {
        "dtype": "float32",
        "shape": [
         4,
         4
        ]
       },
       "name": null,
       "opacity": 1.0,
       "type": "Mesh",
       "vertices": {
        "dtype": "float32",
        "shape": [
         384,
         3
        ]
       },
       "visible": true,
       "wireframe": false
      }
     },
     "fc5d608a4dfd42548d55d44a6d7837e1": {
      "model_module": "@jupyter-widgets/base",
      "model_module_version": "1.2.0",
      "model_name": "LayoutModel",
      "state": {
       "_model_module": "@jupyter-widgets/base",
       "_model_module_version": "1.2.0",
       "_model_name": "LayoutModel",
       "_view_count": null,
       "_view_module": "@jupyter-widgets/base",
       "_view_module_version": "1.2.0",
       "_view_name": "LayoutView",
       "align_content": null,
       "align_items": null,
       "align_self": null,
       "border": null,
       "bottom": null,
       "display": null,
       "flex": null,
       "flex_flow": null,
       "grid_area": null,
       "grid_auto_columns": null,
       "grid_auto_flow": null,
       "grid_auto_rows": null,
       "grid_column": null,
       "grid_gap": null,
       "grid_row": null,
       "grid_template_areas": null,
       "grid_template_columns": null,
       "grid_template_rows": null,
       "height": null,
       "justify_content": null,
       "justify_items": null,
       "left": null,
       "margin": null,
       "max_height": null,
       "max_width": null,
       "min_height": null,
       "min_width": null,
       "object_fit": null,
       "object_position": null,
       "order": null,
       "overflow": null,
       "overflow_x": null,
       "overflow_y": null,
       "padding": null,
       "right": null,
       "top": null,
       "visibility": null,
       "width": null
      }
     }
    },
    "version_major": 2,
    "version_minor": 0
   }
  }
 },
 "nbformat": 4,
 "nbformat_minor": 5
}