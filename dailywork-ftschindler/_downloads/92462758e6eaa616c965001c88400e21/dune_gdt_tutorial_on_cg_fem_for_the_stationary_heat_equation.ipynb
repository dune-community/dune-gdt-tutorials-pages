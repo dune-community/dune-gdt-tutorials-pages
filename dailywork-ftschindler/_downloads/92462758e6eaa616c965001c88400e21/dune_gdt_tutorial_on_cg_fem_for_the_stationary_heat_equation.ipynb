{
 "cells": [
  {
   "cell_type": "markdown",
   "id": "68d59ee1",
   "metadata": {},
   "source": [
    "```{try_on_binder}\n",
    "```"
   ]
  },
  {
   "cell_type": "code",
   "execution_count": 1,
   "id": "486bb4dc",
   "metadata": {
    "load": "myst_code_init.py",
    "tags": [
     "remove-cell"
    ]
   },
   "outputs": [],
   "source": [
    "from IPython import get_ipython\n",
    "\n",
    "ip = get_ipython()\n",
    "if ip is not None:\n",
    "    # ip.run_line_magic('load_ext', 'pymor.discretizers.builtin.gui.jupyter')\n",
    "    ip.run_line_magic(\"matplotlib\", \"inline\")\n",
    "\n",
    "import warnings\n",
    "\n",
    "warnings.filterwarnings(\"ignore\", category=UserWarning, module=\"torch\")\n"
   ]
  },
  {
   "cell_type": "markdown",
   "id": "bcef70b9",
   "metadata": {},
   "source": [
    "# Tutorial: continuous FEM for the stationary heat equation\n",
    "\n",
    "This tutorial shows how to solve the stationary heat equation using continuous Finite Elements with `dune-gdt`.\n",
    "\n",
    "This is work in progress [WIP], still missing:\n",
    "\n",
    "* Neumann boundary values\n",
    "* Robin boundary values"
   ]
  },
  {
   "cell_type": "code",
   "execution_count": 2,
   "id": "320a5b5c",
   "metadata": {},
   "outputs": [],
   "source": [
    "%matplotlib notebook\n",
    "\n",
    "import numpy as np\n",
    "np.warnings.filterwarnings('ignore') # silence numpys warnings"
   ]
  },
  {
   "cell_type": "markdown",
   "id": "a661be01",
   "metadata": {},
   "source": [
    "## diffusion with homogeneous Dirichlet boundary condition\n",
    "\n",
    "### analytical problem\n",
    "\n",
    "Let $\\Omega \\subset \\mathbb{R}^d$ for $1 \\leq d \\leq 3$ be a bounded connected domain with Lipschitz-boundary $\\partial\\Omega$. We seek the solution $u \\in H^1_0(\\Omega)$ of the **linear diffusion equation** (with a homogeneous Dirichlet boundary condition)\n",
    "\n",
    "$$\\begin{align}\n",
    "- \\nabla\\cdot(\\kappa\\nabla u) &= f &&\\text{in } \\Omega,\\tag{1}\\label{pde}\\\\\n",
    "u &= 0 &&\\text{on } \\partial\\Omega,\n",
    "\\end{align}$$\n",
    "\n",
    "in a weak sense, where $\\kappa \\in [L^\\infty(\\Omega)]^{d \\times d}$ denotes a given diffusion function and $f \\in L^2(\\Omega)$ denotes a given source function.\n",
    "\n",
    "The variational problem associated with $\\eqref{pde}$ reads: find $u \\in H^1_0(\\Omega)$, such that\n",
    "\n",
    "$$\\begin{align}\n",
    "a(u, v) &= l(v) &&\\text{for all }v \\in V,\\tag{2}\\label{weak_formulation}\n",
    "\\end{align}$$\n",
    "\n",
    "where the bilinear form $a: H^1(\\Omega) \\times H^1(\\Omega) \\to \\mathbb{R}$ and the linear functional $l \\in H^{-1}(\\Omega)$ are given by\n",
    "\n",
    "$$\\begin{align}\n",
    "a(u, v) := \\int_\\Omega (\\kappa\\nabla u)\\cdot v \\,\\text{d}x &&\\text{and}&& l(v) := \\int_\\Omega f\\,\\,\\text{d}x,\\tag{3}\\label{a_and_l}\n",
    "\\end{align}$$\n",
    "\n",
    "respectively.\n",
    "\n",
    "\n",
    "Consider for example $\\eqref{pde}$ with:\n",
    "\n",
    "* $d = 2$\n",
    "* $\\Omega = [0, 1]^2$\n",
    "* $\\kappa = 1$\n",
    "* $f = \\exp(x_0 x_1)$"
   ]
  },
  {
   "cell_type": "code",
   "execution_count": 3,
   "id": "3ea6b257",
   "metadata": {},
   "outputs": [],
   "source": [
    "from dune.xt.grid import Dim\n",
    "from dune.xt.functions import ConstantFunction, ExpressionFunction\n",
    "\n",
    "d = 2\n",
    "omega = ([0, 0], [1, 1])\n",
    "\n",
    "kappa = ConstantFunction(dim_domain=Dim(d), dim_range=Dim(1), value=[1.], name='kappa')\n",
    "# note that we need to prescribe the approximation order,\n",
    "# which determines the quadrature on each element\n",
    "f = ExpressionFunction(\n",
    "    dim_domain=Dim(d), variable='x', expression='exp(x[0]*x[1])', order=3, name='f')"
   ]
  },
  {
   "cell_type": "markdown",
   "id": "17c7f940",
   "metadata": {},
   "source": [
    "### continuous Finite Elements\n",
    "\n",
    "Let us for simplicity consider a simplicial **grid** $\\mathcal{T}_h$ (other types of elements work analogously) as a partition of $\\Omega$ into elements $K \\in \\mathcal{T}_h$ with $h := \\max_{K \\in \\mathcal{T}_h} \\text{diam}(K)$, we consider the discrete space of continuous piecewise polynomial functions of order $k \\in \\mathbb{N}$,\n",
    "\n",
    "$$\\begin{align}\n",
    "V_h := \\big\\{ v \\in C^0(\\Omega) \\;\\big|\\; v|_K \\in \\mathbb{P}^k(K) \\big\\}\n",
    "\\end{align}$$\n",
    "\n",
    "where $\\mathbb{P}^k(K)$ denotes the space of polynomials of (total) degree up to $k$ (*note that $V_h \\subset H^1(\\Omega)$ and $V_h$ does not include the Dirichlet boundary condition, thus $V_h \\not\\subset H^1_0(\\Omega$.*). We obtain a finite-dimensional variational problem by Galerkin-projection of $\\eqref{weak_formulation}$ onto $V_h$, thas is: we seek the approximate solution $u_h \\in V_h \\cap H^1_0(\\Omega)$, such that\n",
    "\n",
    "$$\\begin{align}\n",
    "a(u_h, v_h) &= l(v_h) &&\\text{for all }v_h \\in V_h \\cap H^1_0(\\Omega).\\tag{4}\\label{discrete_variational_problem}\n",
    "\\end{align}$$\n",
    "\n",
    "A basis of $V_h$ is given by the Lagrangian basis functions\n",
    "\n",
    "$$\\begin{align}\n",
    "\\varPhi := \\big\\{\\varphi_1, \\dots, \\varphi_N\\big\\}\n",
    "\\end{align}$$\n",
    "\n",
    "of order $k$ (e.g., the usual hat-functions for $k = 1$, which we consider from here on), with $N := \\text{dim}(V_h)$. As usual, each of these *global* basis functions, if restricted to a grid element, is given by the concatenation of a *local* shape function and the reference map: given\n",
    "\n",
    "* the invertible affine **reference map** $F_K: \\hat{K} \\to K$ for all $K \\in \\mathcal{T}_h$, such that $\\hat{x} \\mapsto x := F_K(\\hat{x})$, where $\\hat{K}$ is the reference element associated with $K$,\n",
    "* a set of Lagrangian **shape functions** $\\{\\hat{\\varphi}_1, \\dots, \\hat{\\varphi}_{d + 1}\\} \\in \\mathbb{P}^1(K)$, each associated with a vertex $\\hat{a}_1, \\dots, \\hat{a}_{d + 1}$ of the reference element $\\hat{K}$ and\n",
    "* a **DoF mapping** $\\sigma_K: \\{1, \\dots, d + 1\\} \\to \\{1, \\dots, N\\}$ for all $K \\in \\mathcal{T}_h$, which associates the *local* index $\\hat{i} \\in \\{1, \\dots, d + 1\\}$ of a vertex $\\hat{a}_{\\hat{i}}$ of the reference element $\\hat{K}$ with the *global* index $i \\in \\{1, \\dots, N\\}$ of the vertex $a_i := F_K(\\hat{a}_\\hat{i})$ in the grid $\\mathcal{T}_h$.\n",
    "\n",
    "The DoF mapping as well as a localizable global basis is provided by a **discrete function space** in `dune-gdt`.\n",
    "We thus have\n",
    "\n",
    "$$\\begin{align}\n",
    "\\varphi_i|_K &= \\hat{\\varphi}_\\hat{i}\\circ F_K^{-1} &&\\text{and}\\tag{5}\\label{basis_transformation}\\\\\n",
    "(\\nabla\\varphi_i)|_K &= \\nabla\\big(\\hat{\\varphi}_\\hat{i}\\circ F_K^{-1}\\big) = \\nabla F_K^{-1} \\cdot \\big(\\nabla\\hat{\\varphi}_\\hat{i}\\circ F_K^{-1}\\big),\\tag{6}\\label{basis_transformation_grad}\n",
    "\\end{align}$$\n",
    "\n",
    "owing to the chain rule, with $i := \\sigma_K(\\hat{i})$ for all $1 \\leq \\hat{i} \\leq d+1$ and all $K \\in \\mathcal{T}_h$.\n",
    "\n",
    "To obtain the algebraic analogue to $\\eqref{discrete_variational_problem}$, we\n",
    "\n",
    "* replace the bilinear form and functional by discrete counterparts acting on $V_h$, namely $a_h: V_h \\times V_h \\to \\mathbb{R}$ and $l_h \\in V_h'$ (the construction of which is detailed further below) and\n",
    "\n",
    "* assemble the respective basis representations of $a_h$ and $l_h$ w.r.t. the basis of $V_h$ into a matrix $\\underline{a_h} \\in \\mathbb{R}^{N \\times N}$ and vector $\\underline{l_h} \\in \\mathbb{R}^N$, given by\n",
    "  $$\\begin{align}\n",
    "  (\\underline{a_h})_{i, j} := a_h(\\varphi_j, \\varphi_i) &&\\text{and}&& (\\underline{l_h})_i := l_h(\\varphi_i),\n",
    "  \\end{align}$$\n",
    "  respectively, for $1 \\leq i, j \\leq N$;\n",
    "* and obtain the restrictions of $\\underline{a_h}$ and $\\underline{l_h}$ to $V_h \\cap H^1_0(\\Omega)$ by modifying all entries associated with basis functions defined on the Dirichlet boundary: for each index $i \\in \\{1, \\dots N\\}$, where the Lagrange-point defining the basis function $\\varphi_i$ lies on the Dirichlet boundary $\\partial\\Omega$, we set\n",
    "  the $i$th row of $\\underline{a_h}$ to a unit row and clear the $i$th entry of $\\underline{l_h}$.\n",
    "\n",
    "\n",
    "The algebraic version of $\\eqref{discrete_variational_problem}$ then reads: find the vector of degrees of freedom (DoF) $\\underline{u_h} \\in \\mathbb{R}^N$, such that\n",
    "\n",
    "$$\\begin{align}\n",
    "\\underline{a_h}\\;\\underline{u_h} = \\underline{l_h}.\n",
    "\\end{align}$$\n",
    "\n",
    "After solving the above linear system, we recover the solution of $\\eqref{discrete_variational_problem}$ from its basis representation $u_h = \\sum_{i=1}^{N}\\underline{u_h}_i \\varphi_i$.\n",
    "\n",
    "\n",
    "\n",
    "We consider for example a structured simplicial grid with 16 triangles."
   ]
  },
  {
   "cell_type": "code",
   "execution_count": 4,
   "id": "013611ec",
   "metadata": {},
   "outputs": [
    {
     "name": "stdout",
     "output_type": "stream",
     "text": [
      "grid has 16 elements, 28 edges and 13 vertices\n"
     ]
    },
    {
     "name": "stderr",
     "output_type": "stream",
     "text": [
      "GridParameterBlock: Parameter 'refinementedge' not specified, defaulting to 'ARBITRARY'.\n"
     ]
    },
    {
     "data": {
      "application/vnd.jupyter.widget-view+json": {
       "model_id": "f29c54368ecd4e1281a7ef69923f4b48",
       "version_major": 2,
       "version_minor": 0
      },
      "text/plain": [
       "Output()"
      ]
     },
     "metadata": {},
     "output_type": "display_data"
    }
   ],
   "source": [
    "from dune.xt.grid import Simplex, make_cube_grid, AllDirichletBoundaryInfo, visualize_grid\n",
    "\n",
    "grid = make_cube_grid(Dim(d), Simplex(),\n",
    "                      lower_left=omega[0], upper_right=omega[1], num_elements=[2, 2])\n",
    "grid.global_refine(1)  # we need to refine once to obtain a symmetric grid\n",
    "\n",
    "print(f'grid has {grid.size(0)} elements, '\n",
    "      f'{grid.size(d - 1)} edges and {grid.size(d)} vertices')\n",
    "\n",
    "boundary_info = AllDirichletBoundaryInfo(grid)\n",
    "\n",
    "_ = visualize_grid(grid)"
   ]
  },
  {
   "cell_type": "code",
   "execution_count": 5,
   "id": "8f47e90f",
   "metadata": {},
   "outputs": [
    {
     "name": "stdout",
     "output_type": "stream",
     "text": [
      "V_h has 13 DoFs\n"
     ]
    }
   ],
   "source": [
    "from dune.gdt import ContinuousLagrangeSpace\n",
    "\n",
    "V_h = ContinuousLagrangeSpace(grid, order=1)\n",
    "\n",
    "print(f'V_h has {V_h.num_DoFs} DoFs')\n",
    "\n",
    "assert V_h.num_DoFs == grid.size(d)"
   ]
  },
  {
   "cell_type": "markdown",
   "id": "fdb51e57",
   "metadata": {},
   "source": [
    "### approximate functionals\n",
    "\n",
    "Since the application of the functional to a *global* basis function $\\psi_i$ is localizable w.r.t. the grid, e.g.\n",
    "\n",
    "$$\\begin{align}\n",
    "l(\\psi_i) = \\sum_{K \\in \\mathcal{T}_h} \\underbrace{\\int_K f \\psi_i\\,\\text{d}x}_{=: l^K(\\psi_i)},\\tag{7}\\label{localized_rhs}\n",
    "\\end{align}$$\n",
    "\n",
    "we first consider local functionals (such as $l^K \\in L^2(K)'$), where *local* means: *with respect to a grid element $K$*. Using the reference map $F_K$ and $\\eqref{basis_transformation}$ from above, we transform the evaluation of $l^K(\\psi_i)$ to the reference element,\n",
    "\n",
    "$$\\begin{align}\n",
    "l^K(\\psi_i) &= \\int_K f\\psi_i\\,\\text{d}x = \\int_{\\hat{K}} |\\text{det}\\nabla F_K| \\underbrace{(f\\circ F_K)}_{=: f^K} (\\hat{\\psi}_\\hat{i}\\circ F_K^{-1}\\circ F_K) \\text{d}\\hat{x}\\\\\n",
    "&=\\int_{\\hat{K}} |\\text{det}\\nabla F_K| f^K \\hat{\\psi}_\\hat{i} \\,\\text{d}\\hat{x},\\tag{8}\\label{transformed_localized_rhs}\n",
    "\\end{align}$$\n",
    "\n",
    "where $f^K: \\hat{K} \\to \\mathbb{R}$ is the *local function* associated with $f$, $i = \\sigma_K(\\hat{i})$ and $\\hat{\\psi}_\\hat{i}$ is the corresponding shape function.\n",
    "\n",
    "Note that, apart from the integration domain ($\\hat{K}$ instead of $K$) and the transformation factor ($|\\text{det}\\nabla F^K|$), the structure of the local functional from $\\eqref{localized_rhs}$ is reflected in $\\eqref{transformed_localized_rhs}$.\n",
    "\n",
    "This leads us to the definition of a local functional in `dune-gdt`: ignoring the user input (namely the data function $f$ for a moment), a **local functional** is determined by\n",
    "\n",
    "* an integrand, depending on a single test function, that we can evaluate at points on the reference element.\n",
    "  We call such integrands **unary element integrand**s. In the above example, given a test basis function $\\hat{\\psi}$ and a point in the reference element $\\hat{x}$, the integrand is determined by $\\Xi^{1, K}_\\text{prod}: \\mathbb{P}^k(\\hat{K}) \\times \\hat{K} \\to \\mathbb{R}$, $\\hat{\\psi}, \\hat{x} \\mapsto f^K(\\hat{x})\\,\\hat{\\psi}(\\hat{x})$,\n",
    "  which is modelled by `LocalElementProductIntegrand` in `dune-gdt` (see below); and\n",
    "* an approximation of the integral in $\\eqref{transformed_localized_rhs}$ by a numerical **quadrature**:\n",
    "  given any unary element integrand $\\Xi^{1, K}$, and $Q \\in \\mathbb{N}$ quadrature points $\\hat{x}_1, \\dots, \\hat{x}_Q$ and weights $\\omega_1, \\dots, \\omega_Q \\in \\mathbb{R}$, we approximate\n",
    "  $l_h^K(\\psi_i) := \\sum_{q = 1}^Q |\\text{det}\\nabla F_K(\\hat{x}_q)|\\,\\omega_q\\,\\Xi^{1,K}(\\hat{\\psi}_\\hat{i}, \\hat{x}_q) \\approx \\int_\\hat{K} \\Xi^{1,K}(\\hat{\\psi}_\\hat{i}, \\hat{x})\\,\\text{d}\\hat{x} = l^K(\\psi_i)$,\n",
    "  which is modelled by `LocalElementIntegralFunctional` in `dune-gdt` (see below).\n",
    "\n",
    "  Note that the order of the quadrature is determined automatically, since the integrand computes its polynomial degree given all data functions and basis functions (in the above example, the polynomial order of $f^K$ is 3 by our construction and the polynomial order of $\\hat{\\psi}$ is 1, since we are using piecewise linear shape functions, yielding a polynomial order of 4 for $\\Xi_\\text{prod}^{1,K}$).\n",
    "\n",
    "Given local functionals, the purpose of the `VectorFunctional` in `dune-gdt` is to assemble $\\underline{l_h}$ from $\\eqref{6}$ by\n",
    "* creating an appropriate vector of length $N$\n",
    "* iterating over all grid elements $K \\in \\mathcal{T}_h$\n",
    "* localizing the basis of $V_h$ w.r.t. each grid element $K$\n",
    "* evaluating the local functionals $l_h^K$ for each localized basis function\n",
    "* adding the results to the respective entry of $\\underline{l_h}$, determined by the DoF-mapping of the discrete function space `ContinuousLagrangeSpace`\n",
    "\n",
    "\n",
    "In our example, we define $l_h$ as:"
   ]
  },
  {
   "cell_type": "code",
   "execution_count": 6,
   "id": "af4f5004",
   "metadata": {},
   "outputs": [],
   "source": [
    "from dune.xt.functions import GridFunction as GF\n",
    "\n",
    "from dune.gdt import (\n",
    "    VectorFunctional,\n",
    "    LocalElementProductIntegrand,\n",
    "    LocalElementIntegralFunctional,\n",
    ")\n",
    "\n",
    "l_h = VectorFunctional(grid, source_space=V_h)\n",
    "l_h += LocalElementIntegralFunctional(\n",
    "         LocalElementProductIntegrand(GF(grid, 1)).with_ansatz(GF(grid, f)))"
   ]
  },
  {
   "cell_type": "markdown",
   "id": "6e5f6b2d",
   "metadata": {},
   "source": [
    "A few notes regarding the above code:\n",
    "\n",
    "* there exists a large variety of data functions, but in order to all handle them in `dune-gdt` we require them to be localizable w.r.t. a grid (i.e. to have *local functions* as above). This is achieved by wrapping them into a `GridFunction`, which accepts all kind of functions, discrete functions or numbers. Thus `GF(grid, 1)` creates a grid function which is localizable w.r.t. each grid elements and evaluates to 1, whenever evaluated; whereas `GF(grid, f)`, when localized to a grid element $K$ and evaluated at a point on the associated reference element, $\\hat{x}$, evaluates to $f(F_K(\\hat{x}))$.\n",
    "\n",
    "* the `LocalElementProductIntegrand` is actually a **binary element integrand** modelling a weighted product, as in: with a weight function $w: \\Omega \\to \\mathbb{R}$, given an ansatz function $\\hat{\\varphi}$, a test function $\\hat{\\psi}$ and a point $\\hat{x} \\in \\hat{K}$, this integrand is determined by\n",
    "  $\\Xi_\\text{prod}^{2,K}: \\mathbb{P}^k(\\hat{K}) \\times \\mathbb{P}^k(\\hat{K}) \\times \\hat{K} \\to \\mathbb{R}$, $\\hat{\\varphi}, \\hat{\\psi}, \\hat{x} \\mapsto w^K(\\hat{x})\\,\\hat{\\varphi}(\\hat{x})\\,\\hat{\\psi}(\\hat{x})$.\n",
    "  Thus, `LocalElementProductIntegrand` is often used in bilinear forms to assemble $L^2$ products (with weight $w =1$), which we achieve by `LocalElementProductIntegrand(GF(grid, 1))`. However, even with $w = 1$, the integrand $\\Xi_\\text{prod}^{2,K}$ still depends on the test and ansatz function. Using `with_ansatz(GF(grid, f))`, we fix $f^K$ as the ansatz function to obtain exactly the *unary* integrand we require, which only depends on the test function,\n",
    "  $\\Xi_\\text{prod}^{1,K}: \\mathbb{P}^k(\\hat{K}) \\times \\hat{K} \\to \\mathbb{R}$, $\\hat{\\psi}, \\hat{x} \\mapsto \\Xi_\\text{prod}^{2, K}(f^K, \\hat{\\psi}, \\hat{x}) = f^K(\\hat{x})\\,\\hat{\\psi}(\\hat{x})$,\n",
    "  which is exactly what we need to approximate  $l_\\text{src}^K(\\psi_i) = \\int_K f\\,\\psi_i\\text{d}x$.\n",
    "\n",
    "* the above code creates the vector $\\underline{l_h}$ (available as the `vector` attribute of `l_h`) filled with `0`, but does not yet assemble the functional into it, which we can check by:"
   ]
  },
  {
   "cell_type": "code",
   "execution_count": 7,
   "id": "9f52ad83",
   "metadata": {},
   "outputs": [
    {
     "name": "stdout",
     "output_type": "stream",
     "text": [
      "0.0\n"
     ]
    }
   ],
   "source": [
    "assert len(l_h.vector) == V_h.num_DoFs\n",
    "\n",
    "print(l_h.vector.sup_norm())"
   ]
  },
  {
   "cell_type": "markdown",
   "id": "8c6a3905",
   "metadata": {},
   "source": [
    "### approximate bilinear forms\n",
    "\n",
    "The approximation of the application of the bilinear form $a$ to two *global* basis function $\\psi_i, \\varphi_j$ follows in a similar manner. We obtain by localization\n",
    "\n",
    "$$\\begin{align}\n",
    "a(\\psi_i, \\varphi_j) &= \\int_\\Omega (\\kappa\\nabla \\varphi_j)\\cdot \\nabla\\psi_i\\,\\text{d}x = \\sum_{K \\in \\mathcal{T}_h}\\underbrace{\\int_K (\\kappa\\nabla \\varphi_j)\\cdot \\nabla\\psi_i\\,\\text{d}x}_{=:a^K(\\psi_i, \\varphi_j)}\n",
    "\\end{align}$$\n",
    "\n",
    "and by transformation and the chain rule, using $\\eqref{basis_transformation_grad}$ and $F_K^{-1}\\circ F_K = \\text{id}$\n",
    "\n",
    "$$\\begin{align}\n",
    "a^K(\\psi_i, \\varphi_j) &= \\int_{\\hat{K}} |\\text{det}\\nabla F_K| \\big(\\underbrace{(\\kappa\\circ F_K)}_{=: \\kappa^K}\\underbrace{(\\nabla F_K^{-1}\\cdot\\nabla\\hat{\\varphi}_\\hat{j})}_{=: \\nabla_K\\hat{\\varphi}_\\hat{j}}\\big)\\cdot\\underbrace{(\\nabla F_K^{-1}\\cdot\\nabla\\hat{\\psi}_\\hat{i})}_{=: \\nabla_K\\hat{\\psi}_\\hat{i}}\\,\\text{d}\\hat{x}\\\\\n",
    "&= \\int_{\\hat{K}} |\\text{det}\\nabla F_K| \\big(\\kappa^K \\nabla_K\\hat{\\varphi}_\\hat{j}\\big)\\cdot\\nabla_K\\hat{\\psi}_\\hat{i}\\,\\text{d}\\hat{x},\n",
    "\\end{align}$$\n",
    "\n",
    "where $\\kappa^K$ denote the *local function* of $\\kappa$ as above, and where $\\nabla_K\\hat{\\varphi}_\\hat{j}$ denote suitably transformed *global* gradients of the *local* shape functions, for the integrand to reflect the same structure as above.\n",
    "\n",
    "Similar to local fucntionals, a **local bilinear form** is determined\n",
    "\n",
    "* by a **binary element integrand**, in our case the `LocalLaplaceIntegrand` (see below)\n",
    "  $$\\begin{align}\n",
    "  \\Xi_\\text{laplace}^{2, K}: \\mathbb{P}^k(\\hat{K}) \\times \\mathbb{P}^k(\\hat{K}) \\times \\hat{K} &\\to \\mathbb{R}\\\\\n",
    "  \\hat{\\varphi}, \\hat{\\xi}, \\hat{x} &\\mapsto \\big(\\kappa^K(\\hat{x})\\,\\nabla_K\\hat{\\varphi}(\\hat{x})\\big)\\cdot\\nabla_K\\hat{\\psi}(\\hat{x})\n",
    "  \\end{align}$$\n",
    "  and\n",
    "* an approximation of the integral by a numerical **quadrature**: given any binary element integrand $\\Xi^{2, K}$, and $Q \\in \\mathbb{N}$ quadrature points $\\hat{x}_1, \\dots, \\hat{x}_Q$ and weights $\\omega_1, \\dots, \\omega_Q \\in \\mathbb{R}$, we approximate\n",
    "  $$\\begin{align}\n",
    "  a_h^K(\\psi_i, \\varphi_j) := \\sum_{q = 1}^Q |\\text{det}\\nabla F_K(\\hat{x}_q)|\\,\\omega_q\\,\\Xi^{2,K}(\\hat{\\psi}_\\hat{i}, \\hat{\\varphi}_\\hat{j}, \\hat{x}_q) \\approx \\int_\\hat{K} \\Xi^{2,K}(\\hat{\\psi}_\\hat{i}, \\hat{\\varphi}_\\hat{j}, \\hat{x})\\,\\text{d}\\hat{x} = a^K(\\psi_i, \\varphi_i),\n",
    "\\end{align}$$\n",
    "which is modelled by `LocalElementIntegralBilinearForm` in `dune-gdt` (see below).\n",
    "\n",
    "Given local bilinear forms, the purpose of the `MatrixOperator` in `dune-gdt` is to assemble $\\underline{a_h}$ from $\\eqref{6}$ by\n",
    "* creating an appropriate (sparse) matrix of size $N \\times N$\n",
    "* iterating over all grid elements $K \\in \\mathcal{T}_h$\n",
    "* localizing the basis of $V_h$ w.r.t. each grid element $K$\n",
    "* evaluating the local bilinear form $a_h^K$ for each combination localized ansatz and test basis functions\n",
    "* adding the results to the respective entry of $\\underline{a_h}$, determined by the DoF-mapping of the discrete function space `ContinuousLagrangeSpace`"
   ]
  },
  {
   "cell_type": "code",
   "execution_count": 8,
   "id": "ccf17c3a",
   "metadata": {},
   "outputs": [],
   "source": [
    "from dune.gdt import (\n",
    "    MatrixOperator,\n",
    "    make_element_sparsity_pattern,\n",
    "    LocalLaplaceIntegrand,\n",
    "    LocalElementIntegralBilinearForm,\n",
    ")\n",
    "\n",
    "a_h = MatrixOperator(grid, source_space=V_h, range_space=V_h,\n",
    "                     sparsity_pattern=make_element_sparsity_pattern(V_h))\n",
    "a_h += LocalElementIntegralBilinearForm(LocalLaplaceIntegrand(GF(grid, kappa, dim_range=(Dim(d), Dim(d)))))"
   ]
  },
  {
   "cell_type": "markdown",
   "id": "8ce9e9a4",
   "metadata": {},
   "source": [
    "A few notes regarding the above code:\n",
    "\n",
    "* the `LocalLaplaceIntegrand` expects a matrix-valued function, which we achieve by converting the scalar function `kappa` to a matrix-valued `GridFunction`\n",
    "\n",
    "* the above code creates the matrix $\\underline{a_h}$ (available as the `matrix` attribute of `a_h`) with sparse `0` entries, but does not yet assemble the bilinear form into it, which we can check by:"
   ]
  },
  {
   "cell_type": "code",
   "execution_count": 9,
   "id": "1b52afc1",
   "metadata": {},
   "outputs": [
    {
     "name": "stdout",
     "output_type": "stream",
     "text": [
      "0.0\n"
     ]
    }
   ],
   "source": [
    "assert a_h.matrix.rows == a_h.matrix.cols == V_h.num_DoFs\n",
    "\n",
    "print(a_h.matrix.sup_norm())"
   ]
  },
  {
   "cell_type": "markdown",
   "id": "e7f0750b",
   "metadata": {},
   "source": [
    "### handling the Dirichlet boundary condition\n",
    "\n",
    "As noted above, we handle the Dirichlet boundary condition on the algebraic level by modifying the assembled matrices and vector.\n",
    "We therefore require a means to identify all DoFs of $V_h$ associated with the Dirichlet boundary modelled by `boundary_info`."
   ]
  },
  {
   "cell_type": "code",
   "execution_count": 10,
   "id": "bc0e636e",
   "metadata": {},
   "outputs": [],
   "source": [
    "from dune.gdt import DirichletConstraints\n",
    "\n",
    "dirichlet_constraints = DirichletConstraints(boundary_info, V_h)"
   ]
  },
  {
   "cell_type": "markdown",
   "id": "eb9cd6cb",
   "metadata": {},
   "source": [
    "Similar to the bilinear forms and functionals above, the `dirichlet_constraints` are not yet assembled, which we can check as follows:"
   ]
  },
  {
   "cell_type": "code",
   "execution_count": 11,
   "id": "2e0b7b00",
   "metadata": {},
   "outputs": [
    {
     "name": "stdout",
     "output_type": "stream",
     "text": [
      "set()\n"
     ]
    }
   ],
   "source": [
    "print(dirichlet_constraints.dirichlet_DoFs)"
   ]
  },
  {
   "cell_type": "markdown",
   "id": "eac193d9",
   "metadata": {},
   "source": [
    "### walking the grid\n",
    "\n",
    "Until now, we constructed a bilinear form `a_h`, a linear functional `l_h` and Dirichlet constrinaints `dirichlet_constraints`, which are all localizable w.r.t. the grid, that is: i order to compute their application or to assemble them, it is sufficient to apply them to each element of the grid.\n",
    "\n",
    "Internally, this is realized by means of the `Walker` from `dune-xt-grid`, which allows to register all kinds of *grid functors* which are applied locally on each element. All bilinear forms, operators and functionals (as well as other constructs such as the Dirichlet constraints) in `dune-gdt` are implemented as such functors.\n",
    "\n",
    "Thus, we may assemble everything in one grid walk:"
   ]
  },
  {
   "cell_type": "code",
   "execution_count": 12,
   "id": "27404045",
   "metadata": {},
   "outputs": [],
   "source": [
    "from dune.xt.grid import Walker\n",
    "\n",
    "walker = Walker(grid)\n",
    "walker.append(a_h)\n",
    "walker.append(l_h)\n",
    "walker.append(dirichlet_constraints)\n",
    "walker.walk()"
   ]
  },
  {
   "cell_type": "markdown",
   "id": "4b809ea8",
   "metadata": {},
   "source": [
    "We can check that the assembled bilinear form and functional as well as the Dirichlet constraints actually contain some data:"
   ]
  },
  {
   "cell_type": "code",
   "execution_count": 13,
   "id": "885ea5d0",
   "metadata": {},
   "outputs": [
    {
     "name": "stdout",
     "output_type": "stream",
     "text": [
      "a_h = IstlSparseMatrix(\n",
      "  [4 0 -1 ... 0 0 -1]\n",
      "  [0 2 -1 ... 0 0 0]\n",
      "  [-1 -1 4 ... 0 0 0]\n",
      "   ...\n",
      "  [0 0 0 ... 2 0 -1]\n",
      "  [0 0 0 ... 0 1 -1]\n",
      "  [-1 0 0 ... -1 -1 4]\n",
      ")\n",
      "\n",
      "l_h = IstlVector([0.215393 0.088827 0.0887864 ... 0.130627 0.0897916 0.147315])\n",
      "\n",
      "Dirichlet DoFs: {1, 3, 4, 5, 6, 8, 10, 11}\n"
     ]
    }
   ],
   "source": [
    "print(f'a_h = {a_h.matrix.__repr__()}')\n",
    "print()\n",
    "print(f'l_h = {l_h.vector.__repr__()}')\n",
    "print()\n",
    "print(f'Dirichlet DoFs: {dirichlet_constraints.dirichlet_DoFs}')"
   ]
  },
  {
   "cell_type": "markdown",
   "id": "0aeda7ae",
   "metadata": {},
   "source": [
    "### solving the linear system\n",
    "\n",
    "After walking the grid, the bilinra form and linear functional are assembled w.r.t. $V_h$ and we constrain them to include the handling of the Dirichlet boundary condition."
   ]
  },
  {
   "cell_type": "code",
   "execution_count": 14,
   "id": "d2ebaa96",
   "metadata": {},
   "outputs": [],
   "source": [
    "dirichlet_constraints.apply(a_h.matrix, l_h.vector)"
   ]
  },
  {
   "cell_type": "markdown",
   "id": "ddbff89e",
   "metadata": {},
   "source": [
    "Since the bilinear form is implemented as a `MatrixOperator`, we may simply invert the operator to obtain the DoF vector of the solution of $\\eqref{discrete_variational_problem}$."
   ]
  },
  {
   "cell_type": "code",
   "execution_count": 15,
   "id": "c3b9f090",
   "metadata": {},
   "outputs": [],
   "source": [
    "u_h_vector = a_h.apply_inverse(l_h.vector)"
   ]
  },
  {
   "cell_type": "markdown",
   "id": "8d96e206",
   "metadata": {},
   "source": [
    "### postprocessing the solution\n",
    "\n",
    "To make use of the DoF vector of the approximate solution, $\\underline{u_h} \\in \\mathbb{R}^N$, it is convenient to interpert it as a discrete function again, $u_h \\in V_h$ by means of the Galerkin isomorphism. This can be achieved by the `DiscreteFunction` in `dune-gdt`.\n",
    "\n",
    "All discrete functions are in particular grid functions and can thus be compared to analytical solutions, used as input in discretization schemes or visualized.\n",
    "\n",
    "**Note:** if visualization fails for some reason, call `paraview` on the command line and open `u_h.vtu`!"
   ]
  },
  {
   "cell_type": "code",
   "execution_count": 16,
   "id": "181f9ca4",
   "metadata": {},
   "outputs": [
    {
     "data": {
      "application/vnd.jupyter.widget-view+json": {
       "model_id": "2485ae3e81444f7ca32224276e9dbd26",
       "version_major": 2,
       "version_minor": 0
      },
      "text/plain": [
       "Output()"
      ]
     },
     "metadata": {},
     "output_type": "display_data"
    }
   ],
   "source": [
    "from dune.gdt import DiscreteFunction, visualize_function\n",
    "\n",
    "u_h = DiscreteFunction(V_h, u_h_vector, name='u_h')\n",
    "_ = visualize_function(u_h)"
   ]
  },
  {
   "cell_type": "markdown",
   "id": "f55e4a36",
   "metadata": {},
   "source": [
    "### everything in a single function\n",
    "\n",
    "For a better overview, the above discretization code is also available in a single function in the file `discretize_elliptic_cg.py`:"
   ]
  },
  {
   "cell_type": "code",
   "execution_count": 17,
   "id": "9264c3c7",
   "metadata": {},
   "outputs": [
    {
     "name": "stdout",
     "output_type": "stream",
     "text": [
      "def discretize_elliptic_cg_dirichlet_zero(grid, diffusion, source):\n",
      "\n",
      "    \"\"\"\n",
      "    Discretizes the stationary heat equation with homogeneous Dirichlet boundary values everywhere\n",
      "    with dune-gdt using continuous Lagrange finite elements.\n",
      "\n",
      "    Parameters\n",
      "    ----------\n",
      "    grid\n",
      "        The grid, given as a GridProvider from dune.xt.grid.\n",
      "    diffusion\n",
      "        Diffusion function with values in R^{d x d}, anything that dune.xt.functions.GridFunction\n",
      "        can handle.\n",
      "    source\n",
      "        Right hand side source function with values in R, anything that\n",
      "        dune.xt.functions.GridFunction can handle.\n",
      "    \n",
      "    Returns\n",
      "    -------\n",
      "    u_h\n",
      "        The computed solution as a dune.gdt.DiscreteFunction for postprocessing.\n",
      "    \"\"\"\n",
      "    \n",
      "    d = grid.dimension\n",
      "    diffusion = GF(grid, diffusion, dim_range=(Dim(d), Dim(d)))\n",
      "    source = GF(grid, source)\n",
      "\n",
      "    boundary_info = AllDirichletBoundaryInfo(grid)\n",
      "    \n",
      "    V_h = ContinuousLagrangeSpace(grid, order=1)\n",
      "\n",
      "    l_h = VectorFunctional(grid, source_space=V_h)\n",
      "    l_h += LocalElementIntegralFunctional(LocalElementProductIntegrand(GF(grid, 1)).with_ansatz(source))\n",
      "    \n",
      "    a_h = MatrixOperator(grid, source_space=V_h, range_space=V_h,\n",
      "                         sparsity_pattern=make_element_sparsity_pattern(V_h))\n",
      "    a_h += LocalElementIntegralBilinearForm(LocalLaplaceIntegrand(diffusion))\n",
      "    \n",
      "    dirichlet_constraints = DirichletConstraints(boundary_info, V_h)\n",
      "    \n",
      "    walker = Walker(grid)\n",
      "    walker.append(a_h)\n",
      "    walker.append(l_h)\n",
      "    walker.append(dirichlet_constraints)\n",
      "    walker.walk()\n",
      "    \n",
      "    u_h = DiscreteFunction(V_h, name='u_h')\n",
      "    dirichlet_constraints.apply(a_h.matrix, l_h.vector)\n",
      "    a_h.apply_inverse(l_h.vector, u_h.dofs.vector)\n",
      "    \n",
      "    return u_h\n",
      "\n"
     ]
    }
   ],
   "source": [
    "import inspect\n",
    "from discretize_elliptic_cg import discretize_elliptic_cg_dirichlet_zero\n",
    "\n",
    "print(inspect.getsource(discretize_elliptic_cg_dirichlet_zero))"
   ]
  },
  {
   "cell_type": "markdown",
   "id": "8f835747",
   "metadata": {},
   "source": [
    "Calling it gives the same solution as above:"
   ]
  },
  {
   "cell_type": "code",
   "execution_count": 18,
   "id": "8be0e9d5",
   "metadata": {},
   "outputs": [
    {
     "data": {
      "application/vnd.jupyter.widget-view+json": {
       "model_id": "b1581dfdf0254677a244f10a7daf4a7a",
       "version_major": 2,
       "version_minor": 0
      },
      "text/plain": [
       "Output()"
      ]
     },
     "metadata": {},
     "output_type": "display_data"
    }
   ],
   "source": [
    "u_h = discretize_elliptic_cg_dirichlet_zero(grid, kappa, f)\n",
    "_ = visualize_function(u_h)"
   ]
  },
  {
   "cell_type": "markdown",
   "id": "08f1d81c",
   "metadata": {},
   "source": [
    "## diffusion with non-homogeneous Dirichlet boundary condition\n",
    "\n",
    "### analytical problem\n",
    "\n",
    "Consider problem $\\eqref{pde}$ from above, but with non-homogeneous Dirichlet boundary values. That is:\n",
    "\n",
    "\n",
    "Let $\\Omega \\subset \\mathbb{R}^d$ for $1 \\leq d \\leq 3$ be a bounded connected domain with Lipschitz-boundary $\\partial\\Omega$. We seek the solution $u \\in H^1(\\Omega)$ of the linear diffusion equation (with a **non-homogeneous Dirichlet boundary condition**)\n",
    "\n",
    "$$\\begin{align}\n",
    "- \\nabla\\cdot(\\kappa\\nabla u) &= f &&\\text{in } \\Omega,\\tag{9}\\label{inhomogeneous_pde}\\\\\n",
    "u &= g_\\text{D} &&\\text{on } \\partial\\Omega,\n",
    "\\end{align}$$\n",
    "\n",
    "in a weak sense, where $\\kappa \\in [L^\\infty(\\Omega)]^{d \\times d}$ denotes a given diffusion function, $f \\in L^2(\\Omega)$ denotes a given source function and $g_\\text{D} \\in L^2(\\partial\\Omega)$ denotes given Dirichlet boundary values.\n",
    "\n",
    "The variational problem associated with $\\eqref{inhomogeneous_pde}$ reads: find $u \\in H^1(\\Omega)$, such that\n",
    "\n",
    "$$\\begin{align}\n",
    "a(u, v) &= l(v) &&\\text{for all }v \\in V,\n",
    "\\end{align}$$\n",
    "\n",
    "with the same bilinear form $a$ and linear functional $l$ as above in $\\eqref{a_and_l}$.\n",
    "<!-- #endregion -->\n",
    "\n",
    "### Dirichlet shift\n",
    "\n",
    "Suppose $\\hat{g}_\\text{D} \\in H^1(\\Omega)$ is an extension of the Dirichlet boundary values to $\\Omega$, such that\n",
    "\n",
    "$$\\begin{align}\n",
    "\\hat{g}_\\text{D}|_{\\partial\\Omega} = g_\\text{D}\n",
    "\\end{align}$$\n",
    "\n",
    "in the sense of traces. We then have for the solution $u \\in H^1(\\Omega)$ of $(13)$, that\n",
    "\n",
    "$$\\begin{align}\n",
    "u = u_0 + \\hat{g}_\\text{D}\n",
    "\\end{align}$$\n",
    "\n",
    "for some $u_0 \\in H^1_0(\\Omega)$. Thus, we may reformulate $(13)$ as follows: Find $u_0 \\in H^1_0(\\Omega)$, such that\n",
    "\n",
    "$$\\begin{align}\n",
    "a(u_0 + \\hat{g}_\\text{D}, v) &= l(v) &&\\text{for all }v \\in V,\n",
    "\\end{align}$$\n",
    "\n",
    "or equivalently\n",
    "\n",
    "$$\\begin{align}\n",
    "a(u_0, v) &= l(v) - a(\\hat{g}_\\text{D}, v) &&\\text{for all }v \\in V.\n",
    "\\end{align}$$\n",
    "\n",
    "We have thus shifted problem $(13)$ to be of familiar form, i.e., similarly to above we consider a linear diffusion equation with **homogeneous** Dirichlet boundary conditions, but a **modified source** term.\n",
    "\n",
    "\n",
    "Consider for example $\\eqref{pde}$ with:\n",
    "\n",
    "* $d = 2$\n",
    "* $\\Omega = [0, 1]^2$\n",
    "* $\\kappa = 1$\n",
    "* $f = \\exp(x_0 x_1)$\n",
    "* $g_\\text{D} = x_0 x_1$\n",
    "\n",
    "Except for $g_\\text{D}$, we may thus use the same grid, boundary info and data functions as above.\n",
    "\n",
    "\n",
    "### Dirichlet interpolation\n",
    "\n",
    "To obtain $\\hat{g}_\\text{D} \\in H^1(\\Omega)$, we use the Lagrange interpolation of $g_\\text{D}$ and set all DoFs associated with inner Lagrange nodes to zero. This is realized by the `boundary_interpolation`."
   ]
  },
  {
   "cell_type": "code",
   "execution_count": 19,
   "id": "f9349e69",
   "metadata": {},
   "outputs": [
    {
     "data": {
      "application/vnd.jupyter.widget-view+json": {
       "model_id": "cb876c9b3b9249f7b738a6237ce6cc9e",
       "version_major": 2,
       "version_minor": 0
      },
      "text/plain": [
       "Output()"
      ]
     },
     "metadata": {},
     "output_type": "display_data"
    }
   ],
   "source": [
    "from dune.xt.grid import DirichletBoundary\n",
    "from dune.gdt import boundary_interpolation\n",
    "\n",
    "g_D = ExpressionFunction(dim_domain=Dim(d), variable='x', expression='x[0]*x[1]', order=2, name='g_D')\n",
    "\n",
    "g_D_hat = boundary_interpolation(GF(grid, g_D), V_h, boundary_info, DirichletBoundary())\n",
    "\n",
    "_ = visualize_function(g_D_hat)"
   ]
  },
  {
   "cell_type": "markdown",
   "id": "eba4eddd",
   "metadata": {},
   "source": [
    "As we observe, the values on all boundary DoFs are $x_0 x_1$ and on all inner DoFs $0$.\n",
    "\n",
    "\n",
    "### assembling the shifted system\n",
    "\n",
    "* We assemble the unconstrained matrix- and vector representation of $a_h$ and $l_h$ w.r.t. $V_h$ similarly as above."
   ]
  },
  {
   "cell_type": "code",
   "execution_count": 20,
   "id": "e6d37c1e",
   "metadata": {},
   "outputs": [],
   "source": [
    "l_h = VectorFunctional(grid, source_space=V_h)\n",
    "l_h += LocalElementIntegralFunctional(LocalElementProductIntegrand(GF(grid, 1)).with_ansatz(GF(grid, f)))\n",
    "\n",
    "a_h = MatrixOperator(grid, source_space=V_h, range_space=V_h,\n",
    "                     sparsity_pattern=make_element_sparsity_pattern(V_h))\n",
    "a_h += LocalElementIntegralBilinearForm(LocalLaplaceIntegrand(GF(grid, kappa, dim_range=(Dim(d), Dim(d)))))\n",
    "\n",
    "walker = Walker(grid)\n",
    "walker.append(a_h)\n",
    "walker.append(l_h)\n",
    "walker.walk()"
   ]
  },
  {
   "cell_type": "markdown",
   "id": "fa700f16",
   "metadata": {},
   "source": [
    "* We then obtain the shifted system by directly modifying the right hand side vector."
   ]
  },
  {
   "cell_type": "code",
   "execution_count": 21,
   "id": "8b97ebec",
   "metadata": {},
   "outputs": [],
   "source": [
    "rhs_vector = l_h.vector - a_h.matrix@g_D_hat.dofs.vector"
   ]
  },
  {
   "cell_type": "markdown",
   "id": "024f6468",
   "metadata": {},
   "source": [
    "* *Afterwards*, we constrain the shifted system to $V_h \\cap H^1_0(\\Omega)$."
   ]
  },
  {
   "cell_type": "code",
   "execution_count": 22,
   "id": "33f86df3",
   "metadata": {},
   "outputs": [],
   "source": [
    "dirichlet_constraints.apply(a_h.matrix, rhs_vector)"
   ]
  },
  {
   "cell_type": "markdown",
   "id": "98269c43",
   "metadata": {},
   "source": [
    "* Then, we solve the shifted and constrained system for the DoF vector of $u_{0, h}$."
   ]
  },
  {
   "cell_type": "code",
   "execution_count": 23,
   "id": "42c907cc",
   "metadata": {},
   "outputs": [],
   "source": [
    "u_0_h_vector = a_h.apply_inverse(rhs_vector)"
   ]
  },
  {
   "cell_type": "markdown",
   "id": "31b4fc9f",
   "metadata": {},
   "source": [
    "* We may then obtain the solution by shifting it back."
   ]
  },
  {
   "cell_type": "code",
   "execution_count": 24,
   "id": "23a3990d",
   "metadata": {},
   "outputs": [
    {
     "data": {
      "application/vnd.jupyter.widget-view+json": {
       "model_id": "6e5c18e9cfd44f109dab2702dfa747f2",
       "version_major": 2,
       "version_minor": 0
      },
      "text/plain": [
       "Output()"
      ]
     },
     "metadata": {},
     "output_type": "display_data"
    }
   ],
   "source": [
    "u_h = DiscreteFunction(V_h, u_0_h_vector + g_D_hat.dofs.vector)\n",
    "\n",
    "_ = visualize_function(u_h)"
   ]
  },
  {
   "cell_type": "markdown",
   "id": "9dbb5fb1",
   "metadata": {},
   "source": [
    "### everything in a single function\n",
    "\n",
    "As above, solving with non-homogeneous Dirichlet values is also available in a single function."
   ]
  },
  {
   "cell_type": "code",
   "execution_count": 25,
   "id": "d6abb4f0",
   "metadata": {},
   "outputs": [
    {
     "data": {
      "application/vnd.jupyter.widget-view+json": {
       "model_id": "6dd58de29b884eccafd841d778dc7448",
       "version_major": 2,
       "version_minor": 0
      },
      "text/plain": [
       "Output()"
      ]
     },
     "metadata": {},
     "output_type": "display_data"
    }
   ],
   "source": [
    "from discretize_elliptic_cg import discretize_elliptic_cg_dirichlet\n",
    "\n",
    "u_h = discretize_elliptic_cg_dirichlet(grid, kappa, f, g_D)\n",
    "\n",
    "_ = visualize_function(u_h)"
   ]
  },
  {
   "cell_type": "markdown",
   "id": "450e7869",
   "metadata": {},
   "source": [
    "Download the code:\n",
    "{download}`dune_gdt_tutorial_on_cg_fem_for_the_stationary_heat_equation.md`\n",
    "{nb-download}`dune_gdt_tutorial_on_cg_fem_for_the_stationary_heat_equation.ipynb`"
   ]
  }
 ],
 "metadata": {
  "jupyter": {
   "jupytext": {
    "cell_metadata_filter": "-all",
    "formats": "ipynb,myst",
    "main_language": "python",
    "text_representation": {
     "extension": ".md",
     "format_name": "myst",
     "format_version": "1.3",
     "jupytext_version": "1.11.2"
    }
   }
  },
  "jupytext": {
   "text_representation": {
    "format_name": "myst"
   }
  },
  "kernelspec": {
   "display_name": "Python 3",
   "name": "python3"
  },
  "language_info": {
   "codemirror_mode": {
    "name": "ipython",
    "version": 3
   },
   "file_extension": ".py",
   "mimetype": "text/x-python",
   "name": "python",
   "nbconvert_exporter": "python",
   "pygments_lexer": "ipython3",
   "version": "3.9.8"
  },
  "source_map": [
   18,
   23,
   26,
   37,
   42,
   79,
   91,
   154,
   169,
   177,
   220,
   232,
   246,
   250,
   290,
   301,
   309,
   313,
   320,
   324,
   328,
   330,
   340,
   348,
   352,
   358,
   364,
   366,
   370,
   372,
   382,
   387,
   393,
   398,
   402,
   405,
   476,
   485,
   494,
   506,
   510,
   512,
   516,
   518,
   522,
   524,
   528,
   532,
   538,
   544
  ],
  "widgets": {
   "application/vnd.jupyter.widget-state+json": {
    "state": {
     "0059af0814d041efbd06925158e7be02": {
      "model_module": "@jupyter-widgets/base",
      "model_module_version": "1.2.0",
      "model_name": "LayoutModel",
      "state": {
       "_model_module": "@jupyter-widgets/base",
       "_model_module_version": "1.2.0",
       "_model_name": "LayoutModel",
       "_view_count": null,
       "_view_module": "@jupyter-widgets/base",
       "_view_module_version": "1.2.0",
       "_view_name": "LayoutView",
       "align_content": null,
       "align_items": null,
       "align_self": null,
       "border": null,
       "bottom": null,
       "display": null,
       "flex": null,
       "flex_flow": null,
       "grid_area": null,
       "grid_auto_columns": null,
       "grid_auto_flow": null,
       "grid_auto_rows": null,
       "grid_column": null,
       "grid_gap": null,
       "grid_row": null,
       "grid_template_areas": null,
       "grid_template_columns": null,
       "grid_template_rows": null,
       "height": null,
       "justify_content": null,
       "justify_items": null,
       "left": null,
       "margin": null,
       "max_height": null,
       "max_width": null,
       "min_height": null,
       "min_width": null,
       "object_fit": null,
       "object_position": null,
       "order": null,
       "overflow": null,
       "overflow_x": null,
       "overflow_y": null,
       "padding": null,
       "right": null,
       "top": null,
       "visibility": null,
       "width": null
      }
     },
     "010a2d92110644d9b1b0da1ca9a18d5f": {
      "model_module": "@jupyter-widgets/base",
      "model_module_version": "1.2.0",
      "model_name": "LayoutModel",
      "state": {
       "_model_module": "@jupyter-widgets/base",
       "_model_module_version": "1.2.0",
       "_model_name": "LayoutModel",
       "_view_count": null,
       "_view_module": "@jupyter-widgets/base",
       "_view_module_version": "1.2.0",
       "_view_name": "LayoutView",
       "align_content": null,
       "align_items": null,
       "align_self": null,
       "border": null,
       "bottom": null,
       "display": null,
       "flex": null,
       "flex_flow": null,
       "grid_area": null,
       "grid_auto_columns": null,
       "grid_auto_flow": null,
       "grid_auto_rows": null,
       "grid_column": null,
       "grid_gap": null,
       "grid_row": null,
       "grid_template_areas": null,
       "grid_template_columns": null,
       "grid_template_rows": null,
       "height": null,
       "justify_content": null,
       "justify_items": null,
       "left": null,
       "margin": null,
       "max_height": null,
       "max_width": null,
       "min_height": null,
       "min_width": null,
       "object_fit": null,
       "object_position": null,
       "order": null,
       "overflow": null,
       "overflow_x": null,
       "overflow_y": null,
       "padding": null,
       "right": null,
       "top": null,
       "visibility": null,
       "width": null
      }
     },
     "0422ed47811f4093a4021802751db711": {
      "model_module": "@jupyter-widgets/base",
      "model_module_version": "1.2.0",
      "model_name": "LayoutModel",
      "state": {
       "_model_module": "@jupyter-widgets/base",
       "_model_module_version": "1.2.0",
       "_model_name": "LayoutModel",
       "_view_count": null,
       "_view_module": "@jupyter-widgets/base",
       "_view_module_version": "1.2.0",
       "_view_name": "LayoutView",
       "align_content": null,
       "align_items": null,
       "align_self": null,
       "border": null,
       "bottom": null,
       "display": null,
       "flex": null,
       "flex_flow": null,
       "grid_area": null,
       "grid_auto_columns": null,
       "grid_auto_flow": null,
       "grid_auto_rows": null,
       "grid_column": null,
       "grid_gap": null,
       "grid_row": null,
       "grid_template_areas": null,
       "grid_template_columns": null,
       "grid_template_rows": null,
       "height": "16em",
       "justify_content": null,
       "justify_items": null,
       "left": null,
       "margin": null,
       "max_height": null,
       "max_width": null,
       "min_height": null,
       "min_width": null,
       "object_fit": null,
       "object_position": null,
       "order": null,
       "overflow": null,
       "overflow_x": null,
       "overflow_y": "auto",
       "padding": null,
       "right": null,
       "top": null,
       "visibility": null,
       "width": "100%"
      }
     },
     "0525cf5bd62c40258fbb13dc13a5b2ee": {
      "model_module": "@jupyter-widgets/base",
      "model_module_version": "1.2.0",
      "model_name": "LayoutModel",
      "state": {
       "_model_module": "@jupyter-widgets/base",
       "_model_module_version": "1.2.0",
       "_model_name": "LayoutModel",
       "_view_count": null,
       "_view_module": "@jupyter-widgets/base",
       "_view_module_version": "1.2.0",
       "_view_name": "LayoutView",
       "align_content": null,
       "align_items": null,
       "align_self": null,
       "border": null,
       "bottom": null,
       "display": null,
       "flex": null,
       "flex_flow": null,
       "grid_area": null,
       "grid_auto_columns": null,
       "grid_auto_flow": null,
       "grid_auto_rows": null,
       "grid_column": null,
       "grid_gap": null,
       "grid_row": null,
       "grid_template_areas": null,
       "grid_template_columns": null,
       "grid_template_rows": null,
       "height": null,
       "justify_content": null,
       "justify_items": null,
       "left": null,
       "margin": null,
       "max_height": null,
       "max_width": null,
       "min_height": null,
       "min_width": null,
       "object_fit": null,
       "object_position": null,
       "order": null,
       "overflow": null,
       "overflow_x": null,
       "overflow_y": null,
       "padding": null,
       "right": null,
       "top": null,
       "visibility": null,
       "width": null
      }
     },
     "05e08eeb9d7e435f91512f3877561a9e": {
      "model_module": "@jupyter-widgets/base",
      "model_module_version": "1.2.0",
      "model_name": "LayoutModel",
      "state": {
       "_model_module": "@jupyter-widgets/base",
       "_model_module_version": "1.2.0",
       "_model_name": "LayoutModel",
       "_view_count": null,
       "_view_module": "@jupyter-widgets/base",
       "_view_module_version": "1.2.0",
       "_view_name": "LayoutView",
       "align_content": null,
       "align_items": null,
       "align_self": null,
       "border": null,
       "bottom": null,
       "display": null,
       "flex": null,
       "flex_flow": null,
       "grid_area": null,
       "grid_auto_columns": null,
       "grid_auto_flow": null,
       "grid_auto_rows": null,
       "grid_column": null,
       "grid_gap": null,
       "grid_row": null,
       "grid_template_areas": null,
       "grid_template_columns": null,
       "grid_template_rows": null,
       "height": "16em",
       "justify_content": null,
       "justify_items": null,
       "left": null,
       "margin": null,
       "max_height": null,
       "max_width": null,
       "min_height": null,
       "min_width": null,
       "object_fit": null,
       "object_position": null,
       "order": null,
       "overflow": null,
       "overflow_x": null,
       "overflow_y": "auto",
       "padding": null,
       "right": null,
       "top": null,
       "visibility": null,
       "width": "100%"
      }
     },
     "0aa4ca3193384f85bdebec23138fe024": {
      "model_module": "@jupyter-widgets/controls",
      "model_module_version": "1.5.0",
      "model_name": "DescriptionStyleModel",
      "state": {
       "_model_module": "@jupyter-widgets/controls",
       "_model_module_version": "1.5.0",
       "_model_name": "DescriptionStyleModel",
       "_view_count": null,
       "_view_module": "@jupyter-widgets/base",
       "_view_module_version": "1.2.0",
       "_view_name": "StyleView",
       "description_width": ""
      }
     },
     "0af124976a93484087734da46e58d734": {
      "model_module": "@jupyter-widgets/controls",
      "model_module_version": "1.5.0",
      "model_name": "AccordionModel",
      "state": {
       "_dom_classes": [],
       "_model_module": "@jupyter-widgets/controls",
       "_model_module_version": "1.5.0",
       "_model_name": "AccordionModel",
       "_titles": {
        "0": "Log Output"
       },
       "_view_count": null,
       "_view_module": "@jupyter-widgets/controls",
       "_view_module_version": "1.5.0",
       "_view_name": "AccordionView",
       "box_style": "",
       "children": [
        "IPY_MODEL_10641059868642beb0cd6804f7bf7a58"
       ],
       "layout": "IPY_MODEL_4a7f0b32ec5b462ead0f67194cedb40e",
       "selected_index": null
      }
     },
     "0cc7abf5dbd14028a05f1cb069aa9e58": {
      "model_module": "k3d",
      "model_module_version": "2.6.6",
      "model_name": "PlotModel",
      "state": {
       "_backend_version": "2.6.6",
       "_dom_classes": [],
       "_model_module": "k3d",
       "_model_module_version": "2.6.6",
       "_model_name": "PlotModel",
       "_view_count": null,
       "_view_module": "k3d",
       "_view_module_version": "2.6.6",
       "_view_name": "PlotView",
       "antialias": 3,
       "axes": [
        "x",
        "y",
        "z"
       ],
       "background_color": 16777215,
       "camera": [
        0.5,
        0.5,
        0.8660254037844387,
        0.5,
        0.5,
        0.0,
        0,
        1,
        0
       ],
       "camera_auto_fit": false,
       "camera_no_pan": true,
       "camera_no_rotate": true,
       "camera_no_zoom": true,
       "clipping_planes": [],
       "colorbar_object_id": -1,
       "fps_meter": false,
       "grid": [
        0.0,
        0.0,
        0.0,
        1.0,
        1.0,
        0.0
       ],
       "grid_auto_fit": false,
       "grid_visible": false,
       "height": 512,
       "layout": "IPY_MODEL_db3b45abdac04ea59365e2985f29b730",
       "lighting": 1.0,
       "menu_visibility": false,
       "object_ids": [
        140007281480416
       ],
       "rendering_steps": 1,
       "screenshot": "",
       "screenshot_scale": 2.0,
       "time": 0.0,
       "voxel_paint_color": 0
      }
     },
     "0eb40e999c0a4077b3b4057c01e9342a": {
      "model_module": "@jupyter-widgets/base",
      "model_module_version": "1.2.0",
      "model_name": "LayoutModel",
      "state": {
       "_model_module": "@jupyter-widgets/base",
       "_model_module_version": "1.2.0",
       "_model_name": "LayoutModel",
       "_view_count": null,
       "_view_module": "@jupyter-widgets/base",
       "_view_module_version": "1.2.0",
       "_view_name": "LayoutView",
       "align_content": null,
       "align_items": null,
       "align_self": null,
       "border": null,
       "bottom": null,
       "display": null,
       "flex": null,
       "flex_flow": null,
       "grid_area": null,
       "grid_auto_columns": null,
       "grid_auto_flow": null,
       "grid_auto_rows": null,
       "grid_column": null,
       "grid_gap": null,
       "grid_row": null,
       "grid_template_areas": null,
       "grid_template_columns": null,
       "grid_template_rows": null,
       "height": "16em",
       "justify_content": null,
       "justify_items": null,
       "left": null,
       "margin": null,
       "max_height": null,
       "max_width": null,
       "min_height": null,
       "min_width": null,
       "object_fit": null,
       "object_position": null,
       "order": null,
       "overflow": null,
       "overflow_x": null,
       "overflow_y": "auto",
       "padding": null,
       "right": null,
       "top": null,
       "visibility": null,
       "width": "100%"
      }
     },
     "10641059868642beb0cd6804f7bf7a58": {
      "model_module": "@jupyter-widgets/controls",
      "model_module_version": "1.5.0",
      "model_name": "HTMLModel",
      "state": {
       "_dom_classes": [],
       "_model_module": "@jupyter-widgets/controls",
       "_model_module_version": "1.5.0",
       "_model_name": "HTMLModel",
       "_view_count": null,
       "_view_module": "@jupyter-widgets/controls",
       "_view_module_version": "1.5.0",
       "_view_name": "HTMLView",
       "description": "",
       "description_tooltip": null,
       "layout": "IPY_MODEL_f8dbd0b0475942bb8d4f5d6a07863b1a",
       "placeholder": "​",
       "style": "IPY_MODEL_3781a426fa5442ba9b2d8356ead161b1",
       "value": ""
      }
     },
     "12573b5d219041849daa995b33baf78f": {
      "model_module": "@jupyter-widgets/base",
      "model_module_version": "1.2.0",
      "model_name": "LayoutModel",
      "state": {
       "_model_module": "@jupyter-widgets/base",
       "_model_module_version": "1.2.0",
       "_model_name": "LayoutModel",
       "_view_count": null,
       "_view_module": "@jupyter-widgets/base",
       "_view_module_version": "1.2.0",
       "_view_name": "LayoutView",
       "align_content": null,
       "align_items": null,
       "align_self": null,
       "border": null,
       "bottom": null,
       "display": null,
       "flex": null,
       "flex_flow": null,
       "grid_area": null,
       "grid_auto_columns": null,
       "grid_auto_flow": null,
       "grid_auto_rows": null,
       "grid_column": null,
       "grid_gap": null,
       "grid_row": null,
       "grid_template_areas": null,
       "grid_template_columns": null,
       "grid_template_rows": null,
       "height": null,
       "justify_content": null,
       "justify_items": null,
       "left": null,
       "margin": null,
       "max_height": null,
       "max_width": null,
       "min_height": null,
       "min_width": null,
       "object_fit": null,
       "object_position": null,
       "order": null,
       "overflow": null,
       "overflow_x": null,
       "overflow_y": null,
       "padding": null,
       "right": null,
       "top": null,
       "visibility": null,
       "width": null
      }
     },
     "15b8b3360dbc4d26aefa4296e1e2145d": {
      "model_module": "@jupyter-widgets/controls",
      "model_module_version": "1.5.0",
      "model_name": "HTMLModel",
      "state": {
       "_dom_classes": [],
       "_model_module": "@jupyter-widgets/controls",
       "_model_module_version": "1.5.0",
       "_model_name": "HTMLModel",
       "_view_count": null,
       "_view_module": "@jupyter-widgets/controls",
       "_view_module_version": "1.5.0",
       "_view_name": "HTMLView",
       "description": "",
       "description_tooltip": null,
       "layout": "IPY_MODEL_c04e746e68fa48cfa15d9db18d1d8b5f",
       "placeholder": "​",
       "style": "IPY_MODEL_797bced3ab5d4efe943410072eb0edd0",
       "value": ""
      }
     },
     "1b2c2fefacd347f2a9def671a43cd3db": {
      "model_module": "@jupyter-widgets/controls",
      "model_module_version": "1.5.0",
      "model_name": "AccordionModel",
      "state": {
       "_dom_classes": [],
       "_model_module": "@jupyter-widgets/controls",
       "_model_module_version": "1.5.0",
       "_model_name": "AccordionModel",
       "_titles": {
        "0": "Log Output"
       },
       "_view_count": null,
       "_view_module": "@jupyter-widgets/controls",
       "_view_module_version": "1.5.0",
       "_view_name": "AccordionView",
       "box_style": "",
       "children": [
        "IPY_MODEL_d2b8784d8c90401ea0b8d3ea3008c832"
       ],
       "layout": "IPY_MODEL_aa327f32c1f54ed68976c7278219dc1e",
       "selected_index": null
      }
     },
     "219addaa1e8d45bbbc9256cca2037fa7": {
      "model_module": "@jupyter-widgets/base",
      "model_module_version": "1.2.0",
      "model_name": "LayoutModel",
      "state": {
       "_model_module": "@jupyter-widgets/base",
       "_model_module_version": "1.2.0",
       "_model_name": "LayoutModel",
       "_view_count": null,
       "_view_module": "@jupyter-widgets/base",
       "_view_module_version": "1.2.0",
       "_view_name": "LayoutView",
       "align_content": null,
       "align_items": null,
       "align_self": null,
       "border": null,
       "bottom": null,
       "display": null,
       "flex": null,
       "flex_flow": null,
       "grid_area": null,
       "grid_auto_columns": null,
       "grid_auto_flow": null,
       "grid_auto_rows": null,
       "grid_column": null,
       "grid_gap": null,
       "grid_row": null,
       "grid_template_areas": null,
       "grid_template_columns": null,
       "grid_template_rows": null,
       "height": null,
       "justify_content": null,
       "justify_items": null,
       "left": null,
       "margin": null,
       "max_height": null,
       "max_width": null,
       "min_height": null,
       "min_width": null,
       "object_fit": null,
       "object_position": null,
       "order": null,
       "overflow": null,
       "overflow_x": null,
       "overflow_y": null,
       "padding": null,
       "right": null,
       "top": null,
       "visibility": null,
       "width": null
      }
     },
     "2270e138000b4898a4c114002352bf3c": {
      "model_module": "@jupyter-widgets/controls",
      "model_module_version": "1.5.0",
      "model_name": "HTMLModel",
      "state": {
       "_dom_classes": [],
       "_model_module": "@jupyter-widgets/controls",
       "_model_module_version": "1.5.0",
       "_model_name": "HTMLModel",
       "_view_count": null,
       "_view_module": "@jupyter-widgets/controls",
       "_view_module_version": "1.5.0",
       "_view_name": "HTMLView",
       "description": "",
       "description_tooltip": null,
       "layout": "IPY_MODEL_0422ed47811f4093a4021802751db711",
       "placeholder": "​",
       "style": "IPY_MODEL_42ec908d00c44aeabe292a16bf87acd9",
       "value": ""
      }
     },
     "22fa52ed695e4c8b9530452b9fc1e596": {
      "model_module": "@jupyter-widgets/base",
      "model_module_version": "1.2.0",
      "model_name": "LayoutModel",
      "state": {
       "_model_module": "@jupyter-widgets/base",
       "_model_module_version": "1.2.0",
       "_model_name": "LayoutModel",
       "_view_count": null,
       "_view_module": "@jupyter-widgets/base",
       "_view_module_version": "1.2.0",
       "_view_name": "LayoutView",
       "align_content": null,
       "align_items": null,
       "align_self": null,
       "border": null,
       "bottom": null,
       "display": null,
       "flex": null,
       "flex_flow": null,
       "grid_area": null,
       "grid_auto_columns": null,
       "grid_auto_flow": null,
       "grid_auto_rows": null,
       "grid_column": null,
       "grid_gap": null,
       "grid_row": null,
       "grid_template_areas": null,
       "grid_template_columns": null,
       "grid_template_rows": null,
       "height": null,
       "justify_content": null,
       "justify_items": null,
       "left": null,
       "margin": null,
       "max_height": null,
       "max_width": null,
       "min_height": null,
       "min_width": null,
       "object_fit": null,
       "object_position": null,
       "order": null,
       "overflow": null,
       "overflow_x": null,
       "overflow_y": null,
       "padding": null,
       "right": null,
       "top": null,
       "visibility": null,
       "width": null
      }
     },
     "23ccd961f716456890fe62f27e532c97": {
      "model_module": "k3d",
      "model_module_version": "2.6.6",
      "model_name": "PlotModel",
      "state": {
       "_backend_version": "2.6.6",
       "_dom_classes": [],
       "_model_module": "k3d",
       "_model_module_version": "2.6.6",
       "_model_name": "PlotModel",
       "_view_count": null,
       "_view_module": "k3d",
       "_view_module_version": "2.6.6",
       "_view_name": "PlotView",
       "antialias": 3,
       "axes": [
        "x",
        "y",
        "z"
       ],
       "background_color": 16777215,
       "camera": [
        0.5,
        0.5,
        0.8660254037844387,
        0.5,
        0.5,
        0.0,
        0,
        1,
        0
       ],
       "camera_auto_fit": false,
       "camera_no_pan": true,
       "camera_no_rotate": true,
       "camera_no_zoom": true,
       "clipping_planes": [],
       "colorbar_object_id": -1,
       "fps_meter": false,
       "grid": [
        0.0,
        0.0,
        0.0,
        1.0,
        1.0,
        0.0
       ],
       "grid_auto_fit": false,
       "grid_visible": false,
       "height": 512,
       "layout": "IPY_MODEL_b0b2301d2efe4bb98e46ce672a060a79",
       "lighting": 1.0,
       "menu_visibility": false,
       "object_ids": [
        140007146691264
       ],
       "rendering_steps": 1,
       "screenshot": "",
       "screenshot_scale": 2.0,
       "time": 0.0,
       "voxel_paint_color": 0
      }
     },
     "2485ae3e81444f7ca32224276e9dbd26": {
      "model_module": "@jupyter-widgets/output",
      "model_module_version": "1.0.0",
      "model_name": "OutputModel",
      "state": {
       "_dom_classes": [],
       "_model_module": "@jupyter-widgets/output",
       "_model_module_version": "1.0.0",
       "_model_name": "OutputModel",
       "_view_count": null,
       "_view_module": "@jupyter-widgets/output",
       "_view_module_version": "1.0.0",
       "_view_name": "OutputView",
       "layout": "IPY_MODEL_2f6775bb18ec44919e5792c1480fef71",
       "msg_id": "",
       "outputs": [
        {
         "data": {
          "application/vnd.jupyter.widget-view+json": {
           "model_id": "0cc7abf5dbd14028a05f1cb069aa9e58",
           "version_major": 2,
           "version_minor": 0
          },
          "text/plain": "VTKPlot(antialias=3, axes=['x', 'y', 'z'], background_color=16777215, camera=[4.5, 4.5, 4.5, 0.0, 0.0, 0.0, 1.…"
         },
         "metadata": {},
         "output_type": "display_data"
        }
       ]
      }
     },
     "2750317ba7b349208125fe7412eba2b6": {
      "model_module": "@jupyter-widgets/controls",
      "model_module_version": "1.5.0",
      "model_name": "AccordionModel",
      "state": {
       "_dom_classes": [],
       "_model_module": "@jupyter-widgets/controls",
       "_model_module_version": "1.5.0",
       "_model_name": "AccordionModel",
       "_titles": {
        "0": "Log Output"
       },
       "_view_count": null,
       "_view_module": "@jupyter-widgets/controls",
       "_view_module_version": "1.5.0",
       "_view_name": "AccordionView",
       "box_style": "",
       "children": [
        "IPY_MODEL_d1472a60bf454e52adffea5b61f56650"
       ],
       "layout": "IPY_MODEL_7669417ca82841e182ad654743d979dc",
       "selected_index": null
      }
     },
     "27dc752540e64d3f93776b62e4bd186a": {
      "model_module": "@jupyter-widgets/base",
      "model_module_version": "1.2.0",
      "model_name": "LayoutModel",
      "state": {
       "_model_module": "@jupyter-widgets/base",
       "_model_module_version": "1.2.0",
       "_model_name": "LayoutModel",
       "_view_count": null,
       "_view_module": "@jupyter-widgets/base",
       "_view_module_version": "1.2.0",
       "_view_name": "LayoutView",
       "align_content": null,
       "align_items": null,
       "align_self": null,
       "border": null,
       "bottom": null,
       "display": null,
       "flex": null,
       "flex_flow": null,
       "grid_area": null,
       "grid_auto_columns": null,
       "grid_auto_flow": null,
       "grid_auto_rows": null,
       "grid_column": null,
       "grid_gap": null,
       "grid_row": null,
       "grid_template_areas": null,
       "grid_template_columns": null,
       "grid_template_rows": null,
       "height": "16em",
       "justify_content": null,
       "justify_items": null,
       "left": null,
       "margin": null,
       "max_height": null,
       "max_width": null,
       "min_height": null,
       "min_width": null,
       "object_fit": null,
       "object_position": null,
       "order": null,
       "overflow": null,
       "overflow_x": null,
       "overflow_y": "auto",
       "padding": null,
       "right": null,
       "top": null,
       "visibility": null,
       "width": "100%"
      }
     },
     "28d591c4464f4defb65220bfb745f705": {
      "model_module": "@jupyter-widgets/controls",
      "model_module_version": "1.5.0",
      "model_name": "HTMLModel",
      "state": {
       "_dom_classes": [],
       "_model_module": "@jupyter-widgets/controls",
       "_model_module_version": "1.5.0",
       "_model_name": "HTMLModel",
       "_view_count": null,
       "_view_module": "@jupyter-widgets/controls",
       "_view_module_version": "1.5.0",
       "_view_name": "HTMLView",
       "description": "",
       "description_tooltip": null,
       "layout": "IPY_MODEL_ed59b40fc38e45b6852948c1eb7f87c0",
       "placeholder": "​",
       "style": "IPY_MODEL_b19639389ac94d26810be7e111bd7421",
       "value": ""
      }
     },
     "29764fe2dc174b77887376ba94280891": {
      "model_module": "@jupyter-widgets/controls",
      "model_module_version": "1.5.0",
      "model_name": "HTMLModel",
      "state": {
       "_dom_classes": [],
       "_model_module": "@jupyter-widgets/controls",
       "_model_module_version": "1.5.0",
       "_model_name": "HTMLModel",
       "_view_count": null,
       "_view_module": "@jupyter-widgets/controls",
       "_view_module_version": "1.5.0",
       "_view_name": "HTMLView",
       "description": "",
       "description_tooltip": null,
       "layout": "IPY_MODEL_3f32fc10f9b84af7bf40a2c12995bdca",
       "placeholder": "​",
       "style": "IPY_MODEL_c62de71d83fb404588dd1a3e012735f2",
       "value": ""
      }
     },
     "2add39aff949497bb8c2e7d2bad696bd": {
      "model_module": "@jupyter-widgets/controls",
      "model_module_version": "1.5.0",
      "model_name": "HTMLModel",
      "state": {
       "_dom_classes": [],
       "_model_module": "@jupyter-widgets/controls",
       "_model_module_version": "1.5.0",
       "_model_name": "HTMLModel",
       "_view_count": null,
       "_view_module": "@jupyter-widgets/controls",
       "_view_module_version": "1.5.0",
       "_view_name": "HTMLView",
       "description": "",
       "description_tooltip": null,
       "layout": "IPY_MODEL_cef4806701fd4cb884de59d398e86b96",
       "placeholder": "​",
       "style": "IPY_MODEL_ee2eae48de784828be550235565676e4",
       "value": ""
      }
     },
     "2b9cab7f4d2a4b3b8b9f92cd93257e4b": {
      "model_module": "@jupyter-widgets/base",
      "model_module_version": "1.2.0",
      "model_name": "LayoutModel",
      "state": {
       "_model_module": "@jupyter-widgets/base",
       "_model_module_version": "1.2.0",
       "_model_name": "LayoutModel",
       "_view_count": null,
       "_view_module": "@jupyter-widgets/base",
       "_view_module_version": "1.2.0",
       "_view_name": "LayoutView",
       "align_content": null,
       "align_items": null,
       "align_self": null,
       "border": null,
       "bottom": null,
       "display": null,
       "flex": null,
       "flex_flow": null,
       "grid_area": null,
       "grid_auto_columns": null,
       "grid_auto_flow": null,
       "grid_auto_rows": null,
       "grid_column": null,
       "grid_gap": null,
       "grid_row": null,
       "grid_template_areas": null,
       "grid_template_columns": null,
       "grid_template_rows": null,
       "height": null,
       "justify_content": null,
       "justify_items": null,
       "left": null,
       "margin": null,
       "max_height": null,
       "max_width": null,
       "min_height": null,
       "min_width": null,
       "object_fit": null,
       "object_position": null,
       "order": null,
       "overflow": null,
       "overflow_x": null,
       "overflow_y": null,
       "padding": null,
       "right": null,
       "top": null,
       "visibility": null,
       "width": null
      }
     },
     "2e7aa943f1b0439c9b1c05ac4cc4f585": {
      "buffers": [
       {
        "data": "RnK3PgAAAACw5+Q9sOfkPQAAAAAAAAAAAAAAAAAAAACw5+Q9sOfkPQAAAABGcrc+AAAAPwAAAABgj3U+YI91PgAAAAAAAAAAAAAAAEZytz5gj3U+YI91PkZytz4AAAA/AAAAAAAAAABgj3U+YI91PgAAAAAAAAA/AAAAP0Zytz5gj3U+YI91PkZytz4AAAAAAACAPwAAAD/mWyA/5lsgPwAAAD9Gcrc+RnK3PgAAAD/mWyA/5lsgPwAAAD8AAIA/",
        "encoding": "base64",
        "path": [
         "attribute",
         "buffer"
        ]
       },
       {
        "data": "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",
        "encoding": "base64",
        "path": [
         "color_map",
         "buffer"
        ]
       },
       {
        "data": "AAAAAAEAAAACAAAAAwAAAAQAAAAFAAAABgAAAAcAAAAIAAAACQAAAAoAAAALAAAADAAAAA0AAAAOAAAADwAAABAAAAARAAAAEgAAABMAAAAUAAAAFQAAABYAAAAXAAAAGAAAABkAAAAaAAAAGwAAABwAAAAdAAAAHgAAAB8AAAAgAAAAIQAAACIAAAAjAAAAJAAAACUAAAAmAAAAJwAAACgAAAApAAAAKgAAACsAAAAsAAAALQAAAC4AAAAvAAAA",
        "encoding": "base64",
        "path": [
         "indices",
         "buffer"
        ]
       },
       {
        "data": "AACAPwAAAAAAAAAAAAAAAAAAAAAAAIA/AAAAAAAAAAAAAAAAAAAAAAAAgD8AAAAAAAAAAAAAAAAAAAAAAACAPw==",
        "encoding": "base64",
        "path": [
         "model_matrix",
         "buffer"
        ]
       },
       {
        "data": "AAAAPwAAAD8AAAAAAAAAPwAAAAAAAAAAAACAPgAAgD4AAAAAAACAPgAAgD4AAAAAAAAAPwAAAAAAAAAAAAAAAAAAAAAAAAAAAAAAAAAAAAAAAAAAAAAAAAAAAD8AAAAAAACAPgAAgD4AAAAAAACAPgAAgD4AAAAAAAAAAAAAAD8AAAAAAAAAPwAAAD8AAAAAAACAPwAAAD8AAAAAAACAPwAAAAAAAAAAAABAPwAAgD4AAAAAAABAPwAAgD4AAAAAAACAPwAAAAAAAAAAAAAAPwAAAAAAAAAAAAAAPwAAAAAAAAAAAAAAPwAAAD8AAAAAAABAPwAAgD4AAAAAAABAPwAAgD4AAAAAAAAAPwAAAD8AAAAAAACAPwAAAD8AAAAAAAAAAAAAAD8AAAAAAAAAAAAAgD8AAAAAAACAPgAAQD8AAAAAAACAPgAAQD8AAAAAAAAAAAAAgD8AAAAAAAAAPwAAgD8AAAAAAAAAPwAAgD8AAAAAAAAAPwAAAD8AAAAAAACAPgAAQD8AAAAAAACAPgAAQD8AAAAAAAAAPwAAAD8AAAAAAAAAAAAAAD8AAAAAAACAPwAAgD8AAAAAAACAPwAAAD8AAAAAAABAPwAAQD8AAAAAAABAPwAAQD8AAAAAAACAPwAAAD8AAAAAAAAAPwAAAD8AAAAAAAAAPwAAAD8AAAAAAAAAPwAAgD8AAAAAAABAPwAAQD8AAAAAAABAPwAAQD8AAAAAAAAAPwAAgD8AAAAAAACAPwAAgD8AAAAA",
        "encoding": "base64",
        "path": [
         "vertices",
         "buffer"
        ]
       }
      ],
      "model_module": "k3d",
      "model_module_version": "2.6.6",
      "model_name": "ObjectModel",
      "state": {
       "_model_module": "k3d",
       "_model_module_version": "2.6.6",
       "_model_name": "ObjectModel",
       "_view_count": null,
       "_view_module": null,
       "_view_module_version": "",
       "_view_name": null,
       "attribute": {
        "dtype": "float32",
        "shape": [
         48
        ]
       },
       "color": 255,
       "color_map": {
        "dtype": "float32",
        "shape": [
         256,
         4
        ]
       },
       "color_range": [
        0.0,
        1.0
       ],
       "compression_level": 0,
       "flat_shading": false,
       "id": 140007146691264,
       "indices": {
        "dtype": "uint32",
        "shape": [
         16,
         3
        ]
       },
       "model_matrix": {
        "dtype": "float32",
        "shape": [
         4,
         4
        ]
       },
       "name": null,
       "opacity": 1.0,
       "type": "Mesh",
       "vertices": {
        "dtype": "float32",
        "shape": [
         48,
         3
        ]
       },
       "visible": true,
       "wireframe": false
      }
     },
     "2f6775bb18ec44919e5792c1480fef71": {
      "model_module": "@jupyter-widgets/base",
      "model_module_version": "1.2.0",
      "model_name": "LayoutModel",
      "state": {
       "_model_module": "@jupyter-widgets/base",
       "_model_module_version": "1.2.0",
       "_model_name": "LayoutModel",
       "_view_count": null,
       "_view_module": "@jupyter-widgets/base",
       "_view_module_version": "1.2.0",
       "_view_name": "LayoutView",
       "align_content": null,
       "align_items": null,
       "align_self": null,
       "border": null,
       "bottom": null,
       "display": null,
       "flex": null,
       "flex_flow": null,
       "grid_area": null,
       "grid_auto_columns": null,
       "grid_auto_flow": null,
       "grid_auto_rows": null,
       "grid_column": null,
       "grid_gap": null,
       "grid_row": null,
       "grid_template_areas": null,
       "grid_template_columns": null,
       "grid_template_rows": null,
       "height": null,
       "justify_content": null,
       "justify_items": null,
       "left": null,
       "margin": null,
       "max_height": null,
       "max_width": null,
       "min_height": null,
       "min_width": null,
       "object_fit": null,
       "object_position": null,
       "order": null,
       "overflow": null,
       "overflow_x": null,
       "overflow_y": null,
       "padding": null,
       "right": null,
       "top": null,
       "visibility": null,
       "width": null
      }
     },
     "3238e078497146308a1977a2b288518a": {
      "buffers": [
       {
        "data": "GMndPQAAAABfz0k9X89JPQAAAAAAAAAAAAAAAAAAAABfz0k9X89JPQAAAAAYyd09AAAAAAAAAACBPVY9gT1WPQAAAAAAAAAAAAAAABjJ3T2BPVY9gT1WPRjJ3T0AAAAAAAAAAAAAAACBPVY9gT1WPQAAAAAAAAAAAAAAABjJ3T2BPVY9gT1WPRjJ3T0AAAAAAAAAAAAAAAAu34I9Lt+CPQAAAAAYyd09GMndPQAAAAAu34I9Lt+CPQAAAAAAAAAA",
        "encoding": "base64",
        "path": [
         "attribute",
         "buffer"
        ]
       },
       {
        "data": "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",
        "encoding": "base64",
        "path": [
         "color_map",
         "buffer"
        ]
       },
       {
        "data": "AAAAAAEAAAACAAAAAwAAAAQAAAAFAAAABgAAAAcAAAAIAAAACQAAAAoAAAALAAAADAAAAA0AAAAOAAAADwAAABAAAAARAAAAEgAAABMAAAAUAAAAFQAAABYAAAAXAAAAGAAAABkAAAAaAAAAGwAAABwAAAAdAAAAHgAAAB8AAAAgAAAAIQAAACIAAAAjAAAAJAAAACUAAAAmAAAAJwAAACgAAAApAAAAKgAAACsAAAAsAAAALQAAAC4AAAAvAAAA",
        "encoding": "base64",
        "path": [
         "indices",
         "buffer"
        ]
       },
       {
        "data": "AACAPwAAAAAAAAAAAAAAAAAAAAAAAIA/AAAAAAAAAAAAAAAAAAAAAAAAgD8AAAAAAAAAAAAAAAAAAAAAAACAPw==",
        "encoding": "base64",
        "path": [
         "model_matrix",
         "buffer"
        ]
       },
       {
        "data": "AAAAPwAAAD8AAAAAAAAAPwAAAAAAAAAAAACAPgAAgD4AAAAAAACAPgAAgD4AAAAAAAAAPwAAAAAAAAAAAAAAAAAAAAAAAAAAAAAAAAAAAAAAAAAAAAAAAAAAAD8AAAAAAACAPgAAgD4AAAAAAACAPgAAgD4AAAAAAAAAAAAAAD8AAAAAAAAAPwAAAD8AAAAAAACAPwAAAD8AAAAAAACAPwAAAAAAAAAAAABAPwAAgD4AAAAAAABAPwAAgD4AAAAAAACAPwAAAAAAAAAAAAAAPwAAAAAAAAAAAAAAPwAAAAAAAAAAAAAAPwAAAD8AAAAAAABAPwAAgD4AAAAAAABAPwAAgD4AAAAAAAAAPwAAAD8AAAAAAACAPwAAAD8AAAAAAAAAAAAAAD8AAAAAAAAAAAAAgD8AAAAAAACAPgAAQD8AAAAAAACAPgAAQD8AAAAAAAAAAAAAgD8AAAAAAAAAPwAAgD8AAAAAAAAAPwAAgD8AAAAAAAAAPwAAAD8AAAAAAACAPgAAQD8AAAAAAACAPgAAQD8AAAAAAAAAPwAAAD8AAAAAAAAAAAAAAD8AAAAAAACAPwAAgD8AAAAAAACAPwAAAD8AAAAAAABAPwAAQD8AAAAAAABAPwAAQD8AAAAAAACAPwAAAD8AAAAAAAAAPwAAAD8AAAAAAAAAPwAAAD8AAAAAAAAAPwAAgD8AAAAAAABAPwAAQD8AAAAAAABAPwAAQD8AAAAAAAAAPwAAgD8AAAAAAACAPwAAgD8AAAAA",
        "encoding": "base64",
        "path": [
         "vertices",
         "buffer"
        ]
       }
      ],
      "model_module": "k3d",
      "model_module_version": "2.6.6",
      "model_name": "ObjectModel",
      "state": {
       "_model_module": "k3d",
       "_model_module_version": "2.6.6",
       "_model_name": "ObjectModel",
       "_view_count": null,
       "_view_module": null,
       "_view_module_version": "",
       "_view_name": null,
       "attribute": {
        "dtype": "float32",
        "shape": [
         48
        ]
       },
       "color": 255,
       "color_map": {
        "dtype": "float32",
        "shape": [
         256,
         4
        ]
       },
       "color_range": [
        0.0,
        0.10829371213912964
       ],
       "compression_level": 0,
       "flat_shading": false,
       "id": 140007146729328,
       "indices": {
        "dtype": "uint32",
        "shape": [
         16,
         3
        ]
       },
       "model_matrix": {
        "dtype": "float32",
        "shape": [
         4,
         4
        ]
       },
       "name": null,
       "opacity": 1.0,
       "type": "Mesh",
       "vertices": {
        "dtype": "float32",
        "shape": [
         48,
         3
        ]
       },
       "visible": true,
       "wireframe": false
      }
     },
     "375b4ee748634418858da1da6ac1c25c": {
      "model_module": "@jupyter-widgets/controls",
      "model_module_version": "1.5.0",
      "model_name": "AccordionModel",
      "state": {
       "_dom_classes": [],
       "_model_module": "@jupyter-widgets/controls",
       "_model_module_version": "1.5.0",
       "_model_name": "AccordionModel",
       "_titles": {
        "0": "Log Output"
       },
       "_view_count": null,
       "_view_module": "@jupyter-widgets/controls",
       "_view_module_version": "1.5.0",
       "_view_name": "AccordionView",
       "box_style": "",
       "children": [
        "IPY_MODEL_2270e138000b4898a4c114002352bf3c"
       ],
       "layout": "IPY_MODEL_690fd68d170d455f96a3b5ec38777c45",
       "selected_index": null
      }
     },
     "3781a426fa5442ba9b2d8356ead161b1": {
      "model_module": "@jupyter-widgets/controls",
      "model_module_version": "1.5.0",
      "model_name": "DescriptionStyleModel",
      "state": {
       "_model_module": "@jupyter-widgets/controls",
       "_model_module_version": "1.5.0",
       "_model_name": "DescriptionStyleModel",
       "_view_count": null,
       "_view_module": "@jupyter-widgets/base",
       "_view_module_version": "1.2.0",
       "_view_name": "StyleView",
       "description_width": ""
      }
     },
     "38835bb5558049af96788f6958a6e2c5": {
      "model_module": "@jupyter-widgets/controls",
      "model_module_version": "1.5.0",
      "model_name": "DescriptionStyleModel",
      "state": {
       "_model_module": "@jupyter-widgets/controls",
       "_model_module_version": "1.5.0",
       "_model_name": "DescriptionStyleModel",
       "_view_count": null,
       "_view_module": "@jupyter-widgets/base",
       "_view_module_version": "1.2.0",
       "_view_name": "StyleView",
       "description_width": ""
      }
     },
     "3ae7df1bc0364be69dad603efb01a6ff": {
      "model_module": "@jupyter-widgets/base",
      "model_module_version": "1.2.0",
      "model_name": "LayoutModel",
      "state": {
       "_model_module": "@jupyter-widgets/base",
       "_model_module_version": "1.2.0",
       "_model_name": "LayoutModel",
       "_view_count": null,
       "_view_module": "@jupyter-widgets/base",
       "_view_module_version": "1.2.0",
       "_view_name": "LayoutView",
       "align_content": null,
       "align_items": null,
       "align_self": null,
       "border": null,
       "bottom": null,
       "display": null,
       "flex": null,
       "flex_flow": null,
       "grid_area": null,
       "grid_auto_columns": null,
       "grid_auto_flow": null,
       "grid_auto_rows": null,
       "grid_column": null,
       "grid_gap": null,
       "grid_row": null,
       "grid_template_areas": null,
       "grid_template_columns": null,
       "grid_template_rows": null,
       "height": null,
       "justify_content": null,
       "justify_items": null,
       "left": null,
       "margin": null,
       "max_height": null,
       "max_width": null,
       "min_height": null,
       "min_width": null,
       "object_fit": null,
       "object_position": null,
       "order": null,
       "overflow": null,
       "overflow_x": null,
       "overflow_y": null,
       "padding": null,
       "right": null,
       "top": null,
       "visibility": null,
       "width": null
      }
     },
     "3d6a8b633e9640f9a91c446c44539124": {
      "model_module": "@jupyter-widgets/controls",
      "model_module_version": "1.5.0",
      "model_name": "HTMLModel",
      "state": {
       "_dom_classes": [],
       "_model_module": "@jupyter-widgets/controls",
       "_model_module_version": "1.5.0",
       "_model_name": "HTMLModel",
       "_view_count": null,
       "_view_module": "@jupyter-widgets/controls",
       "_view_module_version": "1.5.0",
       "_view_name": "HTMLView",
       "description": "",
       "description_tooltip": null,
       "layout": "IPY_MODEL_05e08eeb9d7e435f91512f3877561a9e",
       "placeholder": "​",
       "style": "IPY_MODEL_51ecf34dcbf545cfa39861f600c84de9",
       "value": ""
      }
     },
     "3f32fc10f9b84af7bf40a2c12995bdca": {
      "model_module": "@jupyter-widgets/base",
      "model_module_version": "1.2.0",
      "model_name": "LayoutModel",
      "state": {
       "_model_module": "@jupyter-widgets/base",
       "_model_module_version": "1.2.0",
       "_model_name": "LayoutModel",
       "_view_count": null,
       "_view_module": "@jupyter-widgets/base",
       "_view_module_version": "1.2.0",
       "_view_name": "LayoutView",
       "align_content": null,
       "align_items": null,
       "align_self": null,
       "border": null,
       "bottom": null,
       "display": null,
       "flex": null,
       "flex_flow": null,
       "grid_area": null,
       "grid_auto_columns": null,
       "grid_auto_flow": null,
       "grid_auto_rows": null,
       "grid_column": null,
       "grid_gap": null,
       "grid_row": null,
       "grid_template_areas": null,
       "grid_template_columns": null,
       "grid_template_rows": null,
       "height": "16em",
       "justify_content": null,
       "justify_items": null,
       "left": null,
       "margin": null,
       "max_height": null,
       "max_width": null,
       "min_height": null,
       "min_width": null,
       "object_fit": null,
       "object_position": null,
       "order": null,
       "overflow": null,
       "overflow_x": null,
       "overflow_y": "auto",
       "padding": null,
       "right": null,
       "top": null,
       "visibility": null,
       "width": "100%"
      }
     },
     "3f5592872c7849029d0a0d4deb564df6": {
      "model_module": "@jupyter-widgets/base",
      "model_module_version": "1.2.0",
      "model_name": "LayoutModel",
      "state": {
       "_model_module": "@jupyter-widgets/base",
       "_model_module_version": "1.2.0",
       "_model_name": "LayoutModel",
       "_view_count": null,
       "_view_module": "@jupyter-widgets/base",
       "_view_module_version": "1.2.0",
       "_view_name": "LayoutView",
       "align_content": null,
       "align_items": null,
       "align_self": null,
       "border": null,
       "bottom": null,
       "display": null,
       "flex": null,
       "flex_flow": null,
       "grid_area": null,
       "grid_auto_columns": null,
       "grid_auto_flow": null,
       "grid_auto_rows": null,
       "grid_column": null,
       "grid_gap": null,
       "grid_row": null,
       "grid_template_areas": null,
       "grid_template_columns": null,
       "grid_template_rows": null,
       "height": "16em",
       "justify_content": null,
       "justify_items": null,
       "left": null,
       "margin": null,
       "max_height": null,
       "max_width": null,
       "min_height": null,
       "min_width": null,
       "object_fit": null,
       "object_position": null,
       "order": null,
       "overflow": null,
       "overflow_x": null,
       "overflow_y": "auto",
       "padding": null,
       "right": null,
       "top": null,
       "visibility": null,
       "width": "100%"
      }
     },
     "417a8a8471bd4080b81b21efd0efdf44": {
      "model_module": "@jupyter-widgets/base",
      "model_module_version": "1.2.0",
      "model_name": "LayoutModel",
      "state": {
       "_model_module": "@jupyter-widgets/base",
       "_model_module_version": "1.2.0",
       "_model_name": "LayoutModel",
       "_view_count": null,
       "_view_module": "@jupyter-widgets/base",
       "_view_module_version": "1.2.0",
       "_view_name": "LayoutView",
       "align_content": null,
       "align_items": null,
       "align_self": null,
       "border": null,
       "bottom": null,
       "display": null,
       "flex": null,
       "flex_flow": null,
       "grid_area": null,
       "grid_auto_columns": null,
       "grid_auto_flow": null,
       "grid_auto_rows": null,
       "grid_column": null,
       "grid_gap": null,
       "grid_row": null,
       "grid_template_areas": null,
       "grid_template_columns": null,
       "grid_template_rows": null,
       "height": "16em",
       "justify_content": null,
       "justify_items": null,
       "left": null,
       "margin": null,
       "max_height": null,
       "max_width": null,
       "min_height": null,
       "min_width": null,
       "object_fit": null,
       "object_position": null,
       "order": null,
       "overflow": null,
       "overflow_x": null,
       "overflow_y": "auto",
       "padding": null,
       "right": null,
       "top": null,
       "visibility": null,
       "width": "100%"
      }
     },
     "41a3808ed21a4e04864fe6e458bf738a": {
      "model_module": "k3d",
      "model_module_version": "2.6.6",
      "model_name": "PlotModel",
      "state": {
       "_backend_version": "2.6.6",
       "_dom_classes": [],
       "_model_module": "k3d",
       "_model_module_version": "2.6.6",
       "_model_name": "PlotModel",
       "_view_count": null,
       "_view_module": "k3d",
       "_view_module_version": "2.6.6",
       "_view_name": "PlotView",
       "antialias": 3,
       "axes": [
        "x",
        "y",
        "z"
       ],
       "background_color": 16777215,
       "camera": [
        0.5,
        0.5,
        0.8660254037844387,
        0.5,
        0.5,
        0.0,
        0,
        1,
        0
       ],
       "camera_auto_fit": false,
       "camera_no_pan": true,
       "camera_no_rotate": true,
       "camera_no_zoom": true,
       "clipping_planes": [],
       "colorbar_object_id": -1,
       "fps_meter": false,
       "grid": [
        0.0,
        0.0,
        0.0,
        1.0,
        1.0,
        0.0
       ],
       "grid_auto_fit": false,
       "grid_visible": false,
       "height": 512,
       "layout": "IPY_MODEL_48ecde94e16f4b3281d88ae94514faa0",
       "lighting": 1.0,
       "menu_visibility": false,
       "object_ids": [
        140007146729328
       ],
       "rendering_steps": 1,
       "screenshot": "",
       "screenshot_scale": 2.0,
       "time": 0.0,
       "voxel_paint_color": 0
      }
     },
     "42ec908d00c44aeabe292a16bf87acd9": {
      "model_module": "@jupyter-widgets/controls",
      "model_module_version": "1.5.0",
      "model_name": "DescriptionStyleModel",
      "state": {
       "_model_module": "@jupyter-widgets/controls",
       "_model_module_version": "1.5.0",
       "_model_name": "DescriptionStyleModel",
       "_view_count": null,
       "_view_module": "@jupyter-widgets/base",
       "_view_module_version": "1.2.0",
       "_view_name": "StyleView",
       "description_width": ""
      }
     },
     "431a25bac868408f91d11f3840deb4ee": {
      "model_module": "@jupyter-widgets/controls",
      "model_module_version": "1.5.0",
      "model_name": "HTMLModel",
      "state": {
       "_dom_classes": [],
       "_model_module": "@jupyter-widgets/controls",
       "_model_module_version": "1.5.0",
       "_model_name": "HTMLModel",
       "_view_count": null,
       "_view_module": "@jupyter-widgets/controls",
       "_view_module_version": "1.5.0",
       "_view_name": "HTMLView",
       "description": "",
       "description_tooltip": null,
       "layout": "IPY_MODEL_d11b076b7f62449abfadb3db1c3823ca",
       "placeholder": "​",
       "style": "IPY_MODEL_920ea5ae161947f688898b2f3178d49e",
       "value": ""
      }
     },
     "47e04c5d5f4c4c7db51bc619517f08db": {
      "model_module": "@jupyter-widgets/controls",
      "model_module_version": "1.5.0",
      "model_name": "AccordionModel",
      "state": {
       "_dom_classes": [],
       "_model_module": "@jupyter-widgets/controls",
       "_model_module_version": "1.5.0",
       "_model_name": "AccordionModel",
       "_titles": {
        "0": "Log Output"
       },
       "_view_count": null,
       "_view_module": "@jupyter-widgets/controls",
       "_view_module_version": "1.5.0",
       "_view_name": "AccordionView",
       "box_style": "",
       "children": [
        "IPY_MODEL_9ee7f44a71604e9c9caab8d7af4e2285"
       ],
       "layout": "IPY_MODEL_a565e34a78794408b66965ec14294c90",
       "selected_index": null
      }
     },
     "48ecde94e16f4b3281d88ae94514faa0": {
      "model_module": "@jupyter-widgets/base",
      "model_module_version": "1.2.0",
      "model_name": "LayoutModel",
      "state": {
       "_model_module": "@jupyter-widgets/base",
       "_model_module_version": "1.2.0",
       "_model_name": "LayoutModel",
       "_view_count": null,
       "_view_module": "@jupyter-widgets/base",
       "_view_module_version": "1.2.0",
       "_view_name": "LayoutView",
       "align_content": null,
       "align_items": null,
       "align_self": null,
       "border": null,
       "bottom": null,
       "display": null,
       "flex": null,
       "flex_flow": null,
       "grid_area": null,
       "grid_auto_columns": null,
       "grid_auto_flow": null,
       "grid_auto_rows": null,
       "grid_column": null,
       "grid_gap": null,
       "grid_row": null,
       "grid_template_areas": null,
       "grid_template_columns": null,
       "grid_template_rows": null,
       "height": null,
       "justify_content": null,
       "justify_items": null,
       "left": null,
       "margin": null,
       "max_height": null,
       "max_width": null,
       "min_height": null,
       "min_width": null,
       "object_fit": null,
       "object_position": null,
       "order": null,
       "overflow": null,
       "overflow_x": null,
       "overflow_y": null,
       "padding": null,
       "right": null,
       "top": null,
       "visibility": null,
       "width": null
      }
     },
     "4a7f0b32ec5b462ead0f67194cedb40e": {
      "model_module": "@jupyter-widgets/base",
      "model_module_version": "1.2.0",
      "model_name": "LayoutModel",
      "state": {
       "_model_module": "@jupyter-widgets/base",
       "_model_module_version": "1.2.0",
       "_model_name": "LayoutModel",
       "_view_count": null,
       "_view_module": "@jupyter-widgets/base",
       "_view_module_version": "1.2.0",
       "_view_name": "LayoutView",
       "align_content": null,
       "align_items": null,
       "align_self": null,
       "border": null,
       "bottom": null,
       "display": null,
       "flex": null,
       "flex_flow": null,
       "grid_area": null,
       "grid_auto_columns": null,
       "grid_auto_flow": null,
       "grid_auto_rows": null,
       "grid_column": null,
       "grid_gap": null,
       "grid_row": null,
       "grid_template_areas": null,
       "grid_template_columns": null,
       "grid_template_rows": null,
       "height": null,
       "justify_content": null,
       "justify_items": null,
       "left": null,
       "margin": null,
       "max_height": null,
       "max_width": null,
       "min_height": null,
       "min_width": null,
       "object_fit": null,
       "object_position": null,
       "order": null,
       "overflow": null,
       "overflow_x": null,
       "overflow_y": null,
       "padding": null,
       "right": null,
       "top": null,
       "visibility": null,
       "width": null
      }
     },
     "4becf2483a094d9a98913abfc29ae645": {
      "model_module": "@jupyter-widgets/controls",
      "model_module_version": "1.5.0",
      "model_name": "AccordionModel",
      "state": {
       "_dom_classes": [],
       "_model_module": "@jupyter-widgets/controls",
       "_model_module_version": "1.5.0",
       "_model_name": "AccordionModel",
       "_titles": {
        "0": "Log Output"
       },
       "_view_count": null,
       "_view_module": "@jupyter-widgets/controls",
       "_view_module_version": "1.5.0",
       "_view_name": "AccordionView",
       "box_style": "",
       "children": [
        "IPY_MODEL_837ba306de4e45699c7ec888bd6f02c4"
       ],
       "layout": "IPY_MODEL_76ee26d17d4540ed962c08570935dcfa",
       "selected_index": null
      }
     },
     "4c4d4772ab8c43c394acb514b8891323": {
      "model_module": "@jupyter-widgets/controls",
      "model_module_version": "1.5.0",
      "model_name": "AccordionModel",
      "state": {
       "_dom_classes": [],
       "_model_module": "@jupyter-widgets/controls",
       "_model_module_version": "1.5.0",
       "_model_name": "AccordionModel",
       "_titles": {
        "0": "Log Output"
       },
       "_view_count": null,
       "_view_module": "@jupyter-widgets/controls",
       "_view_module_version": "1.5.0",
       "_view_name": "AccordionView",
       "box_style": "",
       "children": [
        "IPY_MODEL_7cd5d1e507ff410d8fc72e58238cc117"
       ],
       "layout": "IPY_MODEL_6ceaa54d6bce478bafc612d7d03d77b3",
       "selected_index": null
      }
     },
     "4e1d2fa5628e4a929d2b417836af8c15": {
      "model_module": "@jupyter-widgets/controls",
      "model_module_version": "1.5.0",
      "model_name": "DescriptionStyleModel",
      "state": {
       "_model_module": "@jupyter-widgets/controls",
       "_model_module_version": "1.5.0",
       "_model_name": "DescriptionStyleModel",
       "_view_count": null,
       "_view_module": "@jupyter-widgets/base",
       "_view_module_version": "1.2.0",
       "_view_name": "StyleView",
       "description_width": ""
      }
     },
     "4e534cd42d5849d89bc8cae2ca2b8b99": {
      "model_module": "@jupyter-widgets/base",
      "model_module_version": "1.2.0",
      "model_name": "LayoutModel",
      "state": {
       "_model_module": "@jupyter-widgets/base",
       "_model_module_version": "1.2.0",
       "_model_name": "LayoutModel",
       "_view_count": null,
       "_view_module": "@jupyter-widgets/base",
       "_view_module_version": "1.2.0",
       "_view_name": "LayoutView",
       "align_content": null,
       "align_items": null,
       "align_self": null,
       "border": null,
       "bottom": null,
       "display": null,
       "flex": null,
       "flex_flow": null,
       "grid_area": null,
       "grid_auto_columns": null,
       "grid_auto_flow": null,
       "grid_auto_rows": null,
       "grid_column": null,
       "grid_gap": null,
       "grid_row": null,
       "grid_template_areas": null,
       "grid_template_columns": null,
       "grid_template_rows": null,
       "height": null,
       "justify_content": null,
       "justify_items": null,
       "left": null,
       "margin": null,
       "max_height": null,
       "max_width": null,
       "min_height": null,
       "min_width": null,
       "object_fit": null,
       "object_position": null,
       "order": null,
       "overflow": null,
       "overflow_x": null,
       "overflow_y": null,
       "padding": null,
       "right": null,
       "top": null,
       "visibility": null,
       "width": null
      }
     },
     "4e92e280d3db4ade9b74855df8de6813": {
      "model_module": "@jupyter-widgets/controls",
      "model_module_version": "1.5.0",
      "model_name": "AccordionModel",
      "state": {
       "_dom_classes": [],
       "_model_module": "@jupyter-widgets/controls",
       "_model_module_version": "1.5.0",
       "_model_name": "AccordionModel",
       "_titles": {
        "0": "Log Output"
       },
       "_view_count": null,
       "_view_module": "@jupyter-widgets/controls",
       "_view_module_version": "1.5.0",
       "_view_name": "AccordionView",
       "box_style": "",
       "children": [
        "IPY_MODEL_9036d339263944118dec3b7b3602bb84"
       ],
       "layout": "IPY_MODEL_22fa52ed695e4c8b9530452b9fc1e596",
       "selected_index": null
      }
     },
     "5099a96ff2ca4cdaa727535f65d2db5b": {
      "model_module": "@jupyter-widgets/base",
      "model_module_version": "1.2.0",
      "model_name": "LayoutModel",
      "state": {
       "_model_module": "@jupyter-widgets/base",
       "_model_module_version": "1.2.0",
       "_model_name": "LayoutModel",
       "_view_count": null,
       "_view_module": "@jupyter-widgets/base",
       "_view_module_version": "1.2.0",
       "_view_name": "LayoutView",
       "align_content": null,
       "align_items": null,
       "align_self": null,
       "border": null,
       "bottom": null,
       "display": null,
       "flex": null,
       "flex_flow": null,
       "grid_area": null,
       "grid_auto_columns": null,
       "grid_auto_flow": null,
       "grid_auto_rows": null,
       "grid_column": null,
       "grid_gap": null,
       "grid_row": null,
       "grid_template_areas": null,
       "grid_template_columns": null,
       "grid_template_rows": null,
       "height": "16em",
       "justify_content": null,
       "justify_items": null,
       "left": null,
       "margin": null,
       "max_height": null,
       "max_width": null,
       "min_height": null,
       "min_width": null,
       "object_fit": null,
       "object_position": null,
       "order": null,
       "overflow": null,
       "overflow_x": null,
       "overflow_y": "auto",
       "padding": null,
       "right": null,
       "top": null,
       "visibility": null,
       "width": "100%"
      }
     },
     "51ea00139d504da29d313a2cba106838": {
      "model_module": "@jupyter-widgets/base",
      "model_module_version": "1.2.0",
      "model_name": "LayoutModel",
      "state": {
       "_model_module": "@jupyter-widgets/base",
       "_model_module_version": "1.2.0",
       "_model_name": "LayoutModel",
       "_view_count": null,
       "_view_module": "@jupyter-widgets/base",
       "_view_module_version": "1.2.0",
       "_view_name": "LayoutView",
       "align_content": null,
       "align_items": null,
       "align_self": null,
       "border": null,
       "bottom": null,
       "display": null,
       "flex": null,
       "flex_flow": null,
       "grid_area": null,
       "grid_auto_columns": null,
       "grid_auto_flow": null,
       "grid_auto_rows": null,
       "grid_column": null,
       "grid_gap": null,
       "grid_row": null,
       "grid_template_areas": null,
       "grid_template_columns": null,
       "grid_template_rows": null,
       "height": null,
       "justify_content": null,
       "justify_items": null,
       "left": null,
       "margin": null,
       "max_height": null,
       "max_width": null,
       "min_height": null,
       "min_width": null,
       "object_fit": null,
       "object_position": null,
       "order": null,
       "overflow": null,
       "overflow_x": null,
       "overflow_y": null,
       "padding": null,
       "right": null,
       "top": null,
       "visibility": null,
       "width": null
      }
     },
     "51ecf34dcbf545cfa39861f600c84de9": {
      "model_module": "@jupyter-widgets/controls",
      "model_module_version": "1.5.0",
      "model_name": "DescriptionStyleModel",
      "state": {
       "_model_module": "@jupyter-widgets/controls",
       "_model_module_version": "1.5.0",
       "_model_name": "DescriptionStyleModel",
       "_view_count": null,
       "_view_module": "@jupyter-widgets/base",
       "_view_module_version": "1.2.0",
       "_view_name": "StyleView",
       "description_width": ""
      }
     },
     "584f69be0ad34b4dac269eb2b18c27d5": {
      "model_module": "@jupyter-widgets/base",
      "model_module_version": "1.2.0",
      "model_name": "LayoutModel",
      "state": {
       "_model_module": "@jupyter-widgets/base",
       "_model_module_version": "1.2.0",
       "_model_name": "LayoutModel",
       "_view_count": null,
       "_view_module": "@jupyter-widgets/base",
       "_view_module_version": "1.2.0",
       "_view_name": "LayoutView",
       "align_content": null,
       "align_items": null,
       "align_self": null,
       "border": null,
       "bottom": null,
       "display": null,
       "flex": null,
       "flex_flow": null,
       "grid_area": null,
       "grid_auto_columns": null,
       "grid_auto_flow": null,
       "grid_auto_rows": null,
       "grid_column": null,
       "grid_gap": null,
       "grid_row": null,
       "grid_template_areas": null,
       "grid_template_columns": null,
       "grid_template_rows": null,
       "height": "16em",
       "justify_content": null,
       "justify_items": null,
       "left": null,
       "margin": null,
       "max_height": null,
       "max_width": null,
       "min_height": null,
       "min_width": null,
       "object_fit": null,
       "object_position": null,
       "order": null,
       "overflow": null,
       "overflow_x": null,
       "overflow_y": "auto",
       "padding": null,
       "right": null,
       "top": null,
       "visibility": null,
       "width": "100%"
      }
     },
     "591a864a642f46adbe6f44cd6b538d66": {
      "model_module": "@jupyter-widgets/controls",
      "model_module_version": "1.5.0",
      "model_name": "DescriptionStyleModel",
      "state": {
       "_model_module": "@jupyter-widgets/controls",
       "_model_module_version": "1.5.0",
       "_model_name": "DescriptionStyleModel",
       "_view_count": null,
       "_view_module": "@jupyter-widgets/base",
       "_view_module_version": "1.2.0",
       "_view_name": "StyleView",
       "description_width": ""
      }
     },
     "5c4a416f3c2a4dfcb4a5693218cb0cb1": {
      "model_module": "@jupyter-widgets/controls",
      "model_module_version": "1.5.0",
      "model_name": "HTMLModel",
      "state": {
       "_dom_classes": [],
       "_model_module": "@jupyter-widgets/controls",
       "_model_module_version": "1.5.0",
       "_model_name": "HTMLModel",
       "_view_count": null,
       "_view_module": "@jupyter-widgets/controls",
       "_view_module_version": "1.5.0",
       "_view_name": "HTMLView",
       "description": "",
       "description_tooltip": null,
       "layout": "IPY_MODEL_0eb40e999c0a4077b3b4057c01e9342a",
       "placeholder": "​",
       "style": "IPY_MODEL_fbae8fc560354d65a96632a23c0be19a",
       "value": ""
      }
     },
     "5de0a7d604684e6a8fb16df8af3ae3c8": {
      "model_module": "@jupyter-widgets/controls",
      "model_module_version": "1.5.0",
      "model_name": "HTMLModel",
      "state": {
       "_dom_classes": [],
       "_model_module": "@jupyter-widgets/controls",
       "_model_module_version": "1.5.0",
       "_model_name": "HTMLModel",
       "_view_count": null,
       "_view_module": "@jupyter-widgets/controls",
       "_view_module_version": "1.5.0",
       "_view_name": "HTMLView",
       "description": "",
       "description_tooltip": null,
       "layout": "IPY_MODEL_953c86fd25c74e94b6ca365fa251e50b",
       "placeholder": "​",
       "style": "IPY_MODEL_9fa3d183e908417ab71578b4750f555a",
       "value": ""
      }
     },
     "606ab9d7a0ee4921b4c6da1d5772af1a": {
      "model_module": "@jupyter-widgets/controls",
      "model_module_version": "1.5.0",
      "model_name": "DescriptionStyleModel",
      "state": {
       "_model_module": "@jupyter-widgets/controls",
       "_model_module_version": "1.5.0",
       "_model_name": "DescriptionStyleModel",
       "_view_count": null,
       "_view_module": "@jupyter-widgets/base",
       "_view_module_version": "1.2.0",
       "_view_name": "StyleView",
       "description_width": ""
      }
     },
     "61e58833435c4883bd6496bfa1768365": {
      "model_module": "@jupyter-widgets/controls",
      "model_module_version": "1.5.0",
      "model_name": "AccordionModel",
      "state": {
       "_dom_classes": [],
       "_model_module": "@jupyter-widgets/controls",
       "_model_module_version": "1.5.0",
       "_model_name": "AccordionModel",
       "_titles": {
        "0": "Log Output"
       },
       "_view_count": null,
       "_view_module": "@jupyter-widgets/controls",
       "_view_module_version": "1.5.0",
       "_view_name": "AccordionView",
       "box_style": "",
       "children": [
        "IPY_MODEL_29764fe2dc174b77887376ba94280891"
       ],
       "layout": "IPY_MODEL_9b96ad26d55a496e80a1de2d709b208d",
       "selected_index": null
      }
     },
     "6304e31735604ba795136ff90f4971cd": {
      "model_module": "@jupyter-widgets/base",
      "model_module_version": "1.2.0",
      "model_name": "LayoutModel",
      "state": {
       "_model_module": "@jupyter-widgets/base",
       "_model_module_version": "1.2.0",
       "_model_name": "LayoutModel",
       "_view_count": null,
       "_view_module": "@jupyter-widgets/base",
       "_view_module_version": "1.2.0",
       "_view_name": "LayoutView",
       "align_content": null,
       "align_items": null,
       "align_self": null,
       "border": null,
       "bottom": null,
       "display": null,
       "flex": null,
       "flex_flow": null,
       "grid_area": null,
       "grid_auto_columns": null,
       "grid_auto_flow": null,
       "grid_auto_rows": null,
       "grid_column": null,
       "grid_gap": null,
       "grid_row": null,
       "grid_template_areas": null,
       "grid_template_columns": null,
       "grid_template_rows": null,
       "height": "16em",
       "justify_content": null,
       "justify_items": null,
       "left": null,
       "margin": null,
       "max_height": null,
       "max_width": null,
       "min_height": null,
       "min_width": null,
       "object_fit": null,
       "object_position": null,
       "order": null,
       "overflow": null,
       "overflow_x": null,
       "overflow_y": "auto",
       "padding": null,
       "right": null,
       "top": null,
       "visibility": null,
       "width": "100%"
      }
     },
     "63b7cf92e84d4e0cb38c2fa8f8d0e0c3": {
      "model_module": "@jupyter-widgets/base",
      "model_module_version": "1.2.0",
      "model_name": "LayoutModel",
      "state": {
       "_model_module": "@jupyter-widgets/base",
       "_model_module_version": "1.2.0",
       "_model_name": "LayoutModel",
       "_view_count": null,
       "_view_module": "@jupyter-widgets/base",
       "_view_module_version": "1.2.0",
       "_view_name": "LayoutView",
       "align_content": null,
       "align_items": null,
       "align_self": null,
       "border": null,
       "bottom": null,
       "display": null,
       "flex": null,
       "flex_flow": null,
       "grid_area": null,
       "grid_auto_columns": null,
       "grid_auto_flow": null,
       "grid_auto_rows": null,
       "grid_column": null,
       "grid_gap": null,
       "grid_row": null,
       "grid_template_areas": null,
       "grid_template_columns": null,
       "grid_template_rows": null,
       "height": "16em",
       "justify_content": null,
       "justify_items": null,
       "left": null,
       "margin": null,
       "max_height": null,
       "max_width": null,
       "min_height": null,
       "min_width": null,
       "object_fit": null,
       "object_position": null,
       "order": null,
       "overflow": null,
       "overflow_x": null,
       "overflow_y": "auto",
       "padding": null,
       "right": null,
       "top": null,
       "visibility": null,
       "width": "100%"
      }
     },
     "6519a355df044caea924a6e9994a3117": {
      "model_module": "@jupyter-widgets/base",
      "model_module_version": "1.2.0",
      "model_name": "LayoutModel",
      "state": {
       "_model_module": "@jupyter-widgets/base",
       "_model_module_version": "1.2.0",
       "_model_name": "LayoutModel",
       "_view_count": null,
       "_view_module": "@jupyter-widgets/base",
       "_view_module_version": "1.2.0",
       "_view_name": "LayoutView",
       "align_content": null,
       "align_items": null,
       "align_self": null,
       "border": null,
       "bottom": null,
       "display": null,
       "flex": null,
       "flex_flow": null,
       "grid_area": null,
       "grid_auto_columns": null,
       "grid_auto_flow": null,
       "grid_auto_rows": null,
       "grid_column": null,
       "grid_gap": null,
       "grid_row": null,
       "grid_template_areas": null,
       "grid_template_columns": null,
       "grid_template_rows": null,
       "height": null,
       "justify_content": null,
       "justify_items": null,
       "left": null,
       "margin": null,
       "max_height": null,
       "max_width": null,
       "min_height": null,
       "min_width": null,
       "object_fit": null,
       "object_position": null,
       "order": null,
       "overflow": null,
       "overflow_x": null,
       "overflow_y": null,
       "padding": null,
       "right": null,
       "top": null,
       "visibility": null,
       "width": null
      }
     },
     "65a5e7f60bdd40a585c08faed97f9956": {
      "model_module": "@jupyter-widgets/base",
      "model_module_version": "1.2.0",
      "model_name": "LayoutModel",
      "state": {
       "_model_module": "@jupyter-widgets/base",
       "_model_module_version": "1.2.0",
       "_model_name": "LayoutModel",
       "_view_count": null,
       "_view_module": "@jupyter-widgets/base",
       "_view_module_version": "1.2.0",
       "_view_name": "LayoutView",
       "align_content": null,
       "align_items": null,
       "align_self": null,
       "border": null,
       "bottom": null,
       "display": null,
       "flex": null,
       "flex_flow": null,
       "grid_area": null,
       "grid_auto_columns": null,
       "grid_auto_flow": null,
       "grid_auto_rows": null,
       "grid_column": null,
       "grid_gap": null,
       "grid_row": null,
       "grid_template_areas": null,
       "grid_template_columns": null,
       "grid_template_rows": null,
       "height": null,
       "justify_content": null,
       "justify_items": null,
       "left": null,
       "margin": null,
       "max_height": null,
       "max_width": null,
       "min_height": null,
       "min_width": null,
       "object_fit": null,
       "object_position": null,
       "order": null,
       "overflow": null,
       "overflow_x": null,
       "overflow_y": null,
       "padding": null,
       "right": null,
       "top": null,
       "visibility": null,
       "width": null
      }
     },
     "68ee8c3f9f324962b25dcbe6b0fc7e91": {
      "buffers": [
       {
        "data": "AAAAAAAAAAAAAAAAAACAPwAAgD8AAIA/AAAAQAAAAEAAAABAAABAQAAAQEAAAEBAAACAQAAAgEAAAIBAAACgQAAAoEAAAKBAAADAQAAAwEAAAMBAAADgQAAA4EAAAOBAAAAAQQAAAEEAAABBAAAQQQAAEEEAABBBAAAgQQAAIEEAACBBAAAwQQAAMEEAADBBAABAQQAAQEEAAEBBAABQQQAAUEEAAFBBAABgQQAAYEEAAGBBAABwQQAAcEEAAHBB",
        "encoding": "base64",
        "path": [
         "attribute",
         "buffer"
        ]
       },
       {
        "data": "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",
        "encoding": "base64",
        "path": [
         "color_map",
         "buffer"
        ]
       },
       {
        "data": "AAAAAAEAAAACAAAAAwAAAAQAAAAFAAAABgAAAAcAAAAIAAAACQAAAAoAAAALAAAADAAAAA0AAAAOAAAADwAAABAAAAARAAAAEgAAABMAAAAUAAAAFQAAABYAAAAXAAAAGAAAABkAAAAaAAAAGwAAABwAAAAdAAAAHgAAAB8AAAAgAAAAIQAAACIAAAAjAAAAJAAAACUAAAAmAAAAJwAAACgAAAApAAAAKgAAACsAAAAsAAAALQAAAC4AAAAvAAAA",
        "encoding": "base64",
        "path": [
         "indices",
         "buffer"
        ]
       },
       {
        "data": "AACAPwAAAAAAAAAAAAAAAAAAAAAAAIA/AAAAAAAAAAAAAAAAAAAAAAAAgD8AAAAAAAAAAAAAAAAAAAAAAACAPw==",
        "encoding": "base64",
        "path": [
         "model_matrix",
         "buffer"
        ]
       },
       {
        "data": "AAAAPwAAAD8AAAAAAAAAPwAAAAAAAAAAAACAPgAAgD4AAAAAAACAPgAAgD4AAAAAAAAAPwAAAAAAAAAAAAAAAAAAAAAAAAAAAAAAAAAAAAAAAAAAAAAAAAAAAD8AAAAAAACAPgAAgD4AAAAAAACAPgAAgD4AAAAAAAAAAAAAAD8AAAAAAAAAPwAAAD8AAAAAAACAPwAAAD8AAAAAAACAPwAAAAAAAAAAAABAPwAAgD4AAAAAAABAPwAAgD4AAAAAAACAPwAAAAAAAAAAAAAAPwAAAAAAAAAAAAAAPwAAAAAAAAAAAAAAPwAAAD8AAAAAAABAPwAAgD4AAAAAAABAPwAAgD4AAAAAAAAAPwAAAD8AAAAAAACAPwAAAD8AAAAAAAAAAAAAAD8AAAAAAAAAAAAAgD8AAAAAAACAPgAAQD8AAAAAAACAPgAAQD8AAAAAAAAAAAAAgD8AAAAAAAAAPwAAgD8AAAAAAAAAPwAAgD8AAAAAAAAAPwAAAD8AAAAAAACAPgAAQD8AAAAAAACAPgAAQD8AAAAAAAAAPwAAAD8AAAAAAAAAAAAAAD8AAAAAAACAPwAAgD8AAAAAAACAPwAAAD8AAAAAAABAPwAAQD8AAAAAAABAPwAAQD8AAAAAAACAPwAAAD8AAAAAAAAAPwAAAD8AAAAAAAAAPwAAAD8AAAAAAAAAPwAAgD8AAAAAAABAPwAAQD8AAAAAAABAPwAAQD8AAAAAAAAAPwAAgD8AAAAAAACAPwAAgD8AAAAA",
        "encoding": "base64",
        "path": [
         "vertices",
         "buffer"
        ]
       }
      ],
      "model_module": "k3d",
      "model_module_version": "2.6.6",
      "model_name": "ObjectModel",
      "state": {
       "_model_module": "k3d",
       "_model_module_version": "2.6.6",
       "_model_name": "ObjectModel",
       "_view_count": null,
       "_view_module": null,
       "_view_module_version": "",
       "_view_name": null,
       "attribute": {
        "dtype": "float32",
        "shape": [
         48
        ]
       },
       "color": 255,
       "color_map": {
        "dtype": "float32",
        "shape": [
         256,
         4
        ]
       },
       "color_range": [
        0.0,
        15.0
       ],
       "compression_level": 0,
       "flat_shading": false,
       "id": 140008491172912,
       "indices": {
        "dtype": "uint32",
        "shape": [
         16,
         3
        ]
       },
       "model_matrix": {
        "dtype": "float32",
        "shape": [
         4,
         4
        ]
       },
       "name": null,
       "opacity": 1.0,
       "type": "Mesh",
       "vertices": {
        "dtype": "float32",
        "shape": [
         48,
         3
        ]
       },
       "visible": true,
       "wireframe": false
      }
     },
     "690fd68d170d455f96a3b5ec38777c45": {
      "model_module": "@jupyter-widgets/base",
      "model_module_version": "1.2.0",
      "model_name": "LayoutModel",
      "state": {
       "_model_module": "@jupyter-widgets/base",
       "_model_module_version": "1.2.0",
       "_model_name": "LayoutModel",
       "_view_count": null,
       "_view_module": "@jupyter-widgets/base",
       "_view_module_version": "1.2.0",
       "_view_name": "LayoutView",
       "align_content": null,
       "align_items": null,
       "align_self": null,
       "border": null,
       "bottom": null,
       "display": null,
       "flex": null,
       "flex_flow": null,
       "grid_area": null,
       "grid_auto_columns": null,
       "grid_auto_flow": null,
       "grid_auto_rows": null,
       "grid_column": null,
       "grid_gap": null,
       "grid_row": null,
       "grid_template_areas": null,
       "grid_template_columns": null,
       "grid_template_rows": null,
       "height": null,
       "justify_content": null,
       "justify_items": null,
       "left": null,
       "margin": null,
       "max_height": null,
       "max_width": null,
       "min_height": null,
       "min_width": null,
       "object_fit": null,
       "object_position": null,
       "order": null,
       "overflow": null,
       "overflow_x": null,
       "overflow_y": null,
       "padding": null,
       "right": null,
       "top": null,
       "visibility": null,
       "width": null
      }
     },
     "6ceaa54d6bce478bafc612d7d03d77b3": {
      "model_module": "@jupyter-widgets/base",
      "model_module_version": "1.2.0",
      "model_name": "LayoutModel",
      "state": {
       "_model_module": "@jupyter-widgets/base",
       "_model_module_version": "1.2.0",
       "_model_name": "LayoutModel",
       "_view_count": null,
       "_view_module": "@jupyter-widgets/base",
       "_view_module_version": "1.2.0",
       "_view_name": "LayoutView",
       "align_content": null,
       "align_items": null,
       "align_self": null,
       "border": null,
       "bottom": null,
       "display": null,
       "flex": null,
       "flex_flow": null,
       "grid_area": null,
       "grid_auto_columns": null,
       "grid_auto_flow": null,
       "grid_auto_rows": null,
       "grid_column": null,
       "grid_gap": null,
       "grid_row": null,
       "grid_template_areas": null,
       "grid_template_columns": null,
       "grid_template_rows": null,
       "height": null,
       "justify_content": null,
       "justify_items": null,
       "left": null,
       "margin": null,
       "max_height": null,
       "max_width": null,
       "min_height": null,
       "min_width": null,
       "object_fit": null,
       "object_position": null,
       "order": null,
       "overflow": null,
       "overflow_x": null,
       "overflow_y": null,
       "padding": null,
       "right": null,
       "top": null,
       "visibility": null,
       "width": null
      }
     },
     "6dd58de29b884eccafd841d778dc7448": {
      "model_module": "@jupyter-widgets/output",
      "model_module_version": "1.0.0",
      "model_name": "OutputModel",
      "state": {
       "_dom_classes": [],
       "_model_module": "@jupyter-widgets/output",
       "_model_module_version": "1.0.0",
       "_model_name": "OutputModel",
       "_view_count": null,
       "_view_module": "@jupyter-widgets/output",
       "_view_module_version": "1.0.0",
       "_view_name": "OutputView",
       "layout": "IPY_MODEL_824f477782a64b9bb6ffaaaaac951dbe",
       "msg_id": "",
       "outputs": [
        {
         "data": {
          "application/vnd.jupyter.widget-view+json": {
           "model_id": "23ccd961f716456890fe62f27e532c97",
           "version_major": 2,
           "version_minor": 0
          },
          "text/plain": "VTKPlot(antialias=3, axes=['x', 'y', 'z'], background_color=16777215, camera=[4.5, 4.5, 4.5, 0.0, 0.0, 0.0, 1.…"
         },
         "metadata": {},
         "output_type": "display_data"
        }
       ]
      }
     },
     "6ddd808888564401a07c620ea71e780c": {
      "model_module": "@jupyter-widgets/controls",
      "model_module_version": "1.5.0",
      "model_name": "AccordionModel",
      "state": {
       "_dom_classes": [],
       "_model_module": "@jupyter-widgets/controls",
       "_model_module_version": "1.5.0",
       "_model_name": "AccordionModel",
       "_titles": {
        "0": "Log Output"
       },
       "_view_count": null,
       "_view_module": "@jupyter-widgets/controls",
       "_view_module_version": "1.5.0",
       "_view_name": "AccordionView",
       "box_style": "",
       "children": [
        "IPY_MODEL_be4453dd52524c35ab273cf2f736cd45"
       ],
       "layout": "IPY_MODEL_a9c11a2508f94ea99f5f80b4090ac8da",
       "selected_index": null
      }
     },
     "6e5c18e9cfd44f109dab2702dfa747f2": {
      "model_module": "@jupyter-widgets/output",
      "model_module_version": "1.0.0",
      "model_name": "OutputModel",
      "state": {
       "_dom_classes": [],
       "_model_module": "@jupyter-widgets/output",
       "_model_module_version": "1.0.0",
       "_model_name": "OutputModel",
       "_view_count": null,
       "_view_module": "@jupyter-widgets/output",
       "_view_module_version": "1.0.0",
       "_view_name": "OutputView",
       "layout": "IPY_MODEL_51ea00139d504da29d313a2cba106838",
       "msg_id": "",
       "outputs": [
        {
         "data": {
          "application/vnd.jupyter.widget-view+json": {
           "model_id": "f48db066d0334a11b4ceb9444987b17d",
           "version_major": 2,
           "version_minor": 0
          },
          "text/plain": "VTKPlot(antialias=3, axes=['x', 'y', 'z'], background_color=16777215, camera=[4.5, 4.5, 4.5, 0.0, 0.0, 0.0, 1.…"
         },
         "metadata": {},
         "output_type": "display_data"
        }
       ]
      }
     },
     "6fdcd475942c4a46ae0f1fd61243e8c2": {
      "model_module": "@jupyter-widgets/base",
      "model_module_version": "1.2.0",
      "model_name": "LayoutModel",
      "state": {
       "_model_module": "@jupyter-widgets/base",
       "_model_module_version": "1.2.0",
       "_model_name": "LayoutModel",
       "_view_count": null,
       "_view_module": "@jupyter-widgets/base",
       "_view_module_version": "1.2.0",
       "_view_name": "LayoutView",
       "align_content": null,
       "align_items": null,
       "align_self": null,
       "border": null,
       "bottom": null,
       "display": null,
       "flex": null,
       "flex_flow": null,
       "grid_area": null,
       "grid_auto_columns": null,
       "grid_auto_flow": null,
       "grid_auto_rows": null,
       "grid_column": null,
       "grid_gap": null,
       "grid_row": null,
       "grid_template_areas": null,
       "grid_template_columns": null,
       "grid_template_rows": null,
       "height": null,
       "justify_content": null,
       "justify_items": null,
       "left": null,
       "margin": null,
       "max_height": null,
       "max_width": null,
       "min_height": null,
       "min_width": null,
       "object_fit": null,
       "object_position": null,
       "order": null,
       "overflow": null,
       "overflow_x": null,
       "overflow_y": null,
       "padding": null,
       "right": null,
       "top": null,
       "visibility": null,
       "width": null
      }
     },
     "718102ccb05c4261b615eeef69ab2284": {
      "model_module": "@jupyter-widgets/base",
      "model_module_version": "1.2.0",
      "model_name": "LayoutModel",
      "state": {
       "_model_module": "@jupyter-widgets/base",
       "_model_module_version": "1.2.0",
       "_model_name": "LayoutModel",
       "_view_count": null,
       "_view_module": "@jupyter-widgets/base",
       "_view_module_version": "1.2.0",
       "_view_name": "LayoutView",
       "align_content": null,
       "align_items": null,
       "align_self": null,
       "border": null,
       "bottom": null,
       "display": null,
       "flex": null,
       "flex_flow": null,
       "grid_area": null,
       "grid_auto_columns": null,
       "grid_auto_flow": null,
       "grid_auto_rows": null,
       "grid_column": null,
       "grid_gap": null,
       "grid_row": null,
       "grid_template_areas": null,
       "grid_template_columns": null,
       "grid_template_rows": null,
       "height": null,
       "justify_content": null,
       "justify_items": null,
       "left": null,
       "margin": null,
       "max_height": null,
       "max_width": null,
       "min_height": null,
       "min_width": null,
       "object_fit": null,
       "object_position": null,
       "order": null,
       "overflow": null,
       "overflow_x": null,
       "overflow_y": null,
       "padding": null,
       "right": null,
       "top": null,
       "visibility": null,
       "width": null
      }
     },
     "725cbd7c57a346488962ed5808e534b4": {
      "model_module": "@jupyter-widgets/base",
      "model_module_version": "1.2.0",
      "model_name": "LayoutModel",
      "state": {
       "_model_module": "@jupyter-widgets/base",
       "_model_module_version": "1.2.0",
       "_model_name": "LayoutModel",
       "_view_count": null,
       "_view_module": "@jupyter-widgets/base",
       "_view_module_version": "1.2.0",
       "_view_name": "LayoutView",
       "align_content": null,
       "align_items": null,
       "align_self": null,
       "border": null,
       "bottom": null,
       "display": null,
       "flex": null,
       "flex_flow": null,
       "grid_area": null,
       "grid_auto_columns": null,
       "grid_auto_flow": null,
       "grid_auto_rows": null,
       "grid_column": null,
       "grid_gap": null,
       "grid_row": null,
       "grid_template_areas": null,
       "grid_template_columns": null,
       "grid_template_rows": null,
       "height": null,
       "justify_content": null,
       "justify_items": null,
       "left": null,
       "margin": null,
       "max_height": null,
       "max_width": null,
       "min_height": null,
       "min_width": null,
       "object_fit": null,
       "object_position": null,
       "order": null,
       "overflow": null,
       "overflow_x": null,
       "overflow_y": null,
       "padding": null,
       "right": null,
       "top": null,
       "visibility": null,
       "width": null
      }
     },
     "7669417ca82841e182ad654743d979dc": {
      "model_module": "@jupyter-widgets/base",
      "model_module_version": "1.2.0",
      "model_name": "LayoutModel",
      "state": {
       "_model_module": "@jupyter-widgets/base",
       "_model_module_version": "1.2.0",
       "_model_name": "LayoutModel",
       "_view_count": null,
       "_view_module": "@jupyter-widgets/base",
       "_view_module_version": "1.2.0",
       "_view_name": "LayoutView",
       "align_content": null,
       "align_items": null,
       "align_self": null,
       "border": null,
       "bottom": null,
       "display": null,
       "flex": null,
       "flex_flow": null,
       "grid_area": null,
       "grid_auto_columns": null,
       "grid_auto_flow": null,
       "grid_auto_rows": null,
       "grid_column": null,
       "grid_gap": null,
       "grid_row": null,
       "grid_template_areas": null,
       "grid_template_columns": null,
       "grid_template_rows": null,
       "height": null,
       "justify_content": null,
       "justify_items": null,
       "left": null,
       "margin": null,
       "max_height": null,
       "max_width": null,
       "min_height": null,
       "min_width": null,
       "object_fit": null,
       "object_position": null,
       "order": null,
       "overflow": null,
       "overflow_x": null,
       "overflow_y": null,
       "padding": null,
       "right": null,
       "top": null,
       "visibility": null,
       "width": null
      }
     },
     "76ee26d17d4540ed962c08570935dcfa": {
      "model_module": "@jupyter-widgets/base",
      "model_module_version": "1.2.0",
      "model_name": "LayoutModel",
      "state": {
       "_model_module": "@jupyter-widgets/base",
       "_model_module_version": "1.2.0",
       "_model_name": "LayoutModel",
       "_view_count": null,
       "_view_module": "@jupyter-widgets/base",
       "_view_module_version": "1.2.0",
       "_view_name": "LayoutView",
       "align_content": null,
       "align_items": null,
       "align_self": null,
       "border": null,
       "bottom": null,
       "display": null,
       "flex": null,
       "flex_flow": null,
       "grid_area": null,
       "grid_auto_columns": null,
       "grid_auto_flow": null,
       "grid_auto_rows": null,
       "grid_column": null,
       "grid_gap": null,
       "grid_row": null,
       "grid_template_areas": null,
       "grid_template_columns": null,
       "grid_template_rows": null,
       "height": null,
       "justify_content": null,
       "justify_items": null,
       "left": null,
       "margin": null,
       "max_height": null,
       "max_width": null,
       "min_height": null,
       "min_width": null,
       "object_fit": null,
       "object_position": null,
       "order": null,
       "overflow": null,
       "overflow_x": null,
       "overflow_y": null,
       "padding": null,
       "right": null,
       "top": null,
       "visibility": null,
       "width": null
      }
     },
     "797bced3ab5d4efe943410072eb0edd0": {
      "model_module": "@jupyter-widgets/controls",
      "model_module_version": "1.5.0",
      "model_name": "DescriptionStyleModel",
      "state": {
       "_model_module": "@jupyter-widgets/controls",
       "_model_module_version": "1.5.0",
       "_model_name": "DescriptionStyleModel",
       "_view_count": null,
       "_view_module": "@jupyter-widgets/base",
       "_view_module_version": "1.2.0",
       "_view_name": "StyleView",
       "description_width": ""
      }
     },
     "7cd5d1e507ff410d8fc72e58238cc117": {
      "model_module": "@jupyter-widgets/controls",
      "model_module_version": "1.5.0",
      "model_name": "HTMLModel",
      "state": {
       "_dom_classes": [],
       "_model_module": "@jupyter-widgets/controls",
       "_model_module_version": "1.5.0",
       "_model_name": "HTMLModel",
       "_view_count": null,
       "_view_module": "@jupyter-widgets/controls",
       "_view_module_version": "1.5.0",
       "_view_name": "HTMLView",
       "description": "",
       "description_tooltip": null,
       "layout": "IPY_MODEL_63b7cf92e84d4e0cb38c2fa8f8d0e0c3",
       "placeholder": "​",
       "style": "IPY_MODEL_ccbd19d3e4d546de8d3fa1c97ed36ae0",
       "value": ""
      }
     },
     "801284a3c1f7487baeb68de4c064b51c": {
      "model_module": "@jupyter-widgets/base",
      "model_module_version": "1.2.0",
      "model_name": "LayoutModel",
      "state": {
       "_model_module": "@jupyter-widgets/base",
       "_model_module_version": "1.2.0",
       "_model_name": "LayoutModel",
       "_view_count": null,
       "_view_module": "@jupyter-widgets/base",
       "_view_module_version": "1.2.0",
       "_view_name": "LayoutView",
       "align_content": null,
       "align_items": null,
       "align_self": null,
       "border": null,
       "bottom": null,
       "display": null,
       "flex": null,
       "flex_flow": null,
       "grid_area": null,
       "grid_auto_columns": null,
       "grid_auto_flow": null,
       "grid_auto_rows": null,
       "grid_column": null,
       "grid_gap": null,
       "grid_row": null,
       "grid_template_areas": null,
       "grid_template_columns": null,
       "grid_template_rows": null,
       "height": "16em",
       "justify_content": null,
       "justify_items": null,
       "left": null,
       "margin": null,
       "max_height": null,
       "max_width": null,
       "min_height": null,
       "min_width": null,
       "object_fit": null,
       "object_position": null,
       "order": null,
       "overflow": null,
       "overflow_x": null,
       "overflow_y": "auto",
       "padding": null,
       "right": null,
       "top": null,
       "visibility": null,
       "width": "100%"
      }
     },
     "813e39d682e64a33b11713fbf95447dd": {
      "model_module": "k3d",
      "model_module_version": "2.6.6",
      "model_name": "PlotModel",
      "state": {
       "_backend_version": "2.6.6",
       "_dom_classes": [],
       "_model_module": "k3d",
       "_model_module_version": "2.6.6",
       "_model_name": "PlotModel",
       "_view_count": null,
       "_view_module": "k3d",
       "_view_module_version": "2.6.6",
       "_view_name": "PlotView",
       "antialias": 3,
       "axes": [
        "x",
        "y",
        "z"
       ],
       "background_color": 16777215,
       "camera": [
        0.5,
        0.5,
        0.8660254037844387,
        0.5,
        0.5,
        0.0,
        0,
        1,
        0
       ],
       "camera_auto_fit": false,
       "camera_no_pan": true,
       "camera_no_rotate": true,
       "camera_no_zoom": true,
       "clipping_planes": [],
       "colorbar_object_id": -1,
       "fps_meter": false,
       "grid": [
        0.0,
        0.0,
        0.0,
        1.0,
        1.0,
        0.0
       ],
       "grid_auto_fit": false,
       "grid_visible": false,
       "height": 512,
       "layout": "IPY_MODEL_0525cf5bd62c40258fbb13dc13a5b2ee",
       "lighting": 1.0,
       "menu_visibility": false,
       "object_ids": [
        140008491172912
       ],
       "rendering_steps": 1,
       "screenshot": "",
       "screenshot_scale": 2.0,
       "time": 0.0,
       "voxel_paint_color": 0
      }
     },
     "824f477782a64b9bb6ffaaaaac951dbe": {
      "model_module": "@jupyter-widgets/base",
      "model_module_version": "1.2.0",
      "model_name": "LayoutModel",
      "state": {
       "_model_module": "@jupyter-widgets/base",
       "_model_module_version": "1.2.0",
       "_model_name": "LayoutModel",
       "_view_count": null,
       "_view_module": "@jupyter-widgets/base",
       "_view_module_version": "1.2.0",
       "_view_name": "LayoutView",
       "align_content": null,
       "align_items": null,
       "align_self": null,
       "border": null,
       "bottom": null,
       "display": null,
       "flex": null,
       "flex_flow": null,
       "grid_area": null,
       "grid_auto_columns": null,
       "grid_auto_flow": null,
       "grid_auto_rows": null,
       "grid_column": null,
       "grid_gap": null,
       "grid_row": null,
       "grid_template_areas": null,
       "grid_template_columns": null,
       "grid_template_rows": null,
       "height": null,
       "justify_content": null,
       "justify_items": null,
       "left": null,
       "margin": null,
       "max_height": null,
       "max_width": null,
       "min_height": null,
       "min_width": null,
       "object_fit": null,
       "object_position": null,
       "order": null,
       "overflow": null,
       "overflow_x": null,
       "overflow_y": null,
       "padding": null,
       "right": null,
       "top": null,
       "visibility": null,
       "width": null
      }
     },
     "82af49238c3b43339801273a55ddbd63": {
      "model_module": "@jupyter-widgets/base",
      "model_module_version": "1.2.0",
      "model_name": "LayoutModel",
      "state": {
       "_model_module": "@jupyter-widgets/base",
       "_model_module_version": "1.2.0",
       "_model_name": "LayoutModel",
       "_view_count": null,
       "_view_module": "@jupyter-widgets/base",
       "_view_module_version": "1.2.0",
       "_view_name": "LayoutView",
       "align_content": null,
       "align_items": null,
       "align_self": null,
       "border": null,
       "bottom": null,
       "display": null,
       "flex": null,
       "flex_flow": null,
       "grid_area": null,
       "grid_auto_columns": null,
       "grid_auto_flow": null,
       "grid_auto_rows": null,
       "grid_column": null,
       "grid_gap": null,
       "grid_row": null,
       "grid_template_areas": null,
       "grid_template_columns": null,
       "grid_template_rows": null,
       "height": "16em",
       "justify_content": null,
       "justify_items": null,
       "left": null,
       "margin": null,
       "max_height": null,
       "max_width": null,
       "min_height": null,
       "min_width": null,
       "object_fit": null,
       "object_position": null,
       "order": null,
       "overflow": null,
       "overflow_x": null,
       "overflow_y": "auto",
       "padding": null,
       "right": null,
       "top": null,
       "visibility": null,
       "width": "100%"
      }
     },
     "837ba306de4e45699c7ec888bd6f02c4": {
      "model_module": "@jupyter-widgets/controls",
      "model_module_version": "1.5.0",
      "model_name": "HTMLModel",
      "state": {
       "_dom_classes": [],
       "_model_module": "@jupyter-widgets/controls",
       "_model_module_version": "1.5.0",
       "_model_name": "HTMLModel",
       "_view_count": null,
       "_view_module": "@jupyter-widgets/controls",
       "_view_module_version": "1.5.0",
       "_view_name": "HTMLView",
       "description": "",
       "description_tooltip": null,
       "layout": "IPY_MODEL_b07ad5e0754249dabd3b8408c2b6ad08",
       "placeholder": "​",
       "style": "IPY_MODEL_c82b736b326e40c3b9eae3518d84b296",
       "value": ""
      }
     },
     "840f9b33eb3142b0925371be767d92b0": {
      "model_module": "@jupyter-widgets/base",
      "model_module_version": "1.2.0",
      "model_name": "LayoutModel",
      "state": {
       "_model_module": "@jupyter-widgets/base",
       "_model_module_version": "1.2.0",
       "_model_name": "LayoutModel",
       "_view_count": null,
       "_view_module": "@jupyter-widgets/base",
       "_view_module_version": "1.2.0",
       "_view_name": "LayoutView",
       "align_content": null,
       "align_items": null,
       "align_self": null,
       "border": null,
       "bottom": null,
       "display": null,
       "flex": null,
       "flex_flow": null,
       "grid_area": null,
       "grid_auto_columns": null,
       "grid_auto_flow": null,
       "grid_auto_rows": null,
       "grid_column": null,
       "grid_gap": null,
       "grid_row": null,
       "grid_template_areas": null,
       "grid_template_columns": null,
       "grid_template_rows": null,
       "height": null,
       "justify_content": null,
       "justify_items": null,
       "left": null,
       "margin": null,
       "max_height": null,
       "max_width": null,
       "min_height": null,
       "min_width": null,
       "object_fit": null,
       "object_position": null,
       "order": null,
       "overflow": null,
       "overflow_x": null,
       "overflow_y": null,
       "padding": null,
       "right": null,
       "top": null,
       "visibility": null,
       "width": null
      }
     },
     "857b6b0773ea461d84c2bd638082cb60": {
      "model_module": "@jupyter-widgets/controls",
      "model_module_version": "1.5.0",
      "model_name": "AccordionModel",
      "state": {
       "_dom_classes": [],
       "_model_module": "@jupyter-widgets/controls",
       "_model_module_version": "1.5.0",
       "_model_name": "AccordionModel",
       "_titles": {
        "0": "Log Output"
       },
       "_view_count": null,
       "_view_module": "@jupyter-widgets/controls",
       "_view_module_version": "1.5.0",
       "_view_name": "AccordionView",
       "box_style": "",
       "children": [
        "IPY_MODEL_f83e93b5a82e4a319731d7b9bc971516"
       ],
       "layout": "IPY_MODEL_65a5e7f60bdd40a585c08faed97f9956",
       "selected_index": null
      }
     },
     "8be2700e8d594f2cb959fe6c2a2c19b1": {
      "model_module": "@jupyter-widgets/controls",
      "model_module_version": "1.5.0",
      "model_name": "AccordionModel",
      "state": {
       "_dom_classes": [],
       "_model_module": "@jupyter-widgets/controls",
       "_model_module_version": "1.5.0",
       "_model_name": "AccordionModel",
       "_titles": {
        "0": "Log Output"
       },
       "_view_count": null,
       "_view_module": "@jupyter-widgets/controls",
       "_view_module_version": "1.5.0",
       "_view_name": "AccordionView",
       "box_style": "",
       "children": [
        "IPY_MODEL_5de0a7d604684e6a8fb16df8af3ae3c8"
       ],
       "layout": "IPY_MODEL_3ae7df1bc0364be69dad603efb01a6ff",
       "selected_index": null
      }
     },
     "8c0a0b9227ce4386b33d43bc4b0beffa": {
      "model_module": "@jupyter-widgets/controls",
      "model_module_version": "1.5.0",
      "model_name": "AccordionModel",
      "state": {
       "_dom_classes": [],
       "_model_module": "@jupyter-widgets/controls",
       "_model_module_version": "1.5.0",
       "_model_name": "AccordionModel",
       "_titles": {
        "0": "Log Output"
       },
       "_view_count": null,
       "_view_module": "@jupyter-widgets/controls",
       "_view_module_version": "1.5.0",
       "_view_name": "AccordionView",
       "box_style": "",
       "children": [
        "IPY_MODEL_a85dd263278347fb8d41b959b4dfc934"
       ],
       "layout": "IPY_MODEL_8d0a58b187da471981e7f66981a13b95",
       "selected_index": null
      }
     },
     "8d0a58b187da471981e7f66981a13b95": {
      "model_module": "@jupyter-widgets/base",
      "model_module_version": "1.2.0",
      "model_name": "LayoutModel",
      "state": {
       "_model_module": "@jupyter-widgets/base",
       "_model_module_version": "1.2.0",
       "_model_name": "LayoutModel",
       "_view_count": null,
       "_view_module": "@jupyter-widgets/base",
       "_view_module_version": "1.2.0",
       "_view_name": "LayoutView",
       "align_content": null,
       "align_items": null,
       "align_self": null,
       "border": null,
       "bottom": null,
       "display": null,
       "flex": null,
       "flex_flow": null,
       "grid_area": null,
       "grid_auto_columns": null,
       "grid_auto_flow": null,
       "grid_auto_rows": null,
       "grid_column": null,
       "grid_gap": null,
       "grid_row": null,
       "grid_template_areas": null,
       "grid_template_columns": null,
       "grid_template_rows": null,
       "height": null,
       "justify_content": null,
       "justify_items": null,
       "left": null,
       "margin": null,
       "max_height": null,
       "max_width": null,
       "min_height": null,
       "min_width": null,
       "object_fit": null,
       "object_position": null,
       "order": null,
       "overflow": null,
       "overflow_x": null,
       "overflow_y": null,
       "padding": null,
       "right": null,
       "top": null,
       "visibility": null,
       "width": null
      }
     },
     "9036d339263944118dec3b7b3602bb84": {
      "model_module": "@jupyter-widgets/controls",
      "model_module_version": "1.5.0",
      "model_name": "HTMLModel",
      "state": {
       "_dom_classes": [],
       "_model_module": "@jupyter-widgets/controls",
       "_model_module_version": "1.5.0",
       "_model_name": "HTMLModel",
       "_view_count": null,
       "_view_module": "@jupyter-widgets/controls",
       "_view_module_version": "1.5.0",
       "_view_name": "HTMLView",
       "description": "",
       "description_tooltip": null,
       "layout": "IPY_MODEL_b9a60e028a884d2b8421ed982c0de01c",
       "placeholder": "​",
       "style": "IPY_MODEL_591a864a642f46adbe6f44cd6b538d66",
       "value": ""
      }
     },
     "90d42de2eff847a3ba6b94aeff4d5088": {
      "model_module": "@jupyter-widgets/controls",
      "model_module_version": "1.5.0",
      "model_name": "DescriptionStyleModel",
      "state": {
       "_model_module": "@jupyter-widgets/controls",
       "_model_module_version": "1.5.0",
       "_model_name": "DescriptionStyleModel",
       "_view_count": null,
       "_view_module": "@jupyter-widgets/base",
       "_view_module_version": "1.2.0",
       "_view_name": "StyleView",
       "description_width": ""
      }
     },
     "920ea5ae161947f688898b2f3178d49e": {
      "model_module": "@jupyter-widgets/controls",
      "model_module_version": "1.5.0",
      "model_name": "DescriptionStyleModel",
      "state": {
       "_model_module": "@jupyter-widgets/controls",
       "_model_module_version": "1.5.0",
       "_model_name": "DescriptionStyleModel",
       "_view_count": null,
       "_view_module": "@jupyter-widgets/base",
       "_view_module_version": "1.2.0",
       "_view_name": "StyleView",
       "description_width": ""
      }
     },
     "92e8f63b880047ff8b1ee61ac7087a02": {
      "model_module": "@jupyter-widgets/controls",
      "model_module_version": "1.5.0",
      "model_name": "HTMLModel",
      "state": {
       "_dom_classes": [],
       "_model_module": "@jupyter-widgets/controls",
       "_model_module_version": "1.5.0",
       "_model_name": "HTMLModel",
       "_view_count": null,
       "_view_module": "@jupyter-widgets/controls",
       "_view_module_version": "1.5.0",
       "_view_name": "HTMLView",
       "description": "",
       "description_tooltip": null,
       "layout": "IPY_MODEL_82af49238c3b43339801273a55ddbd63",
       "placeholder": "​",
       "style": "IPY_MODEL_0aa4ca3193384f85bdebec23138fe024",
       "value": ""
      }
     },
     "9330b2cfaad84003ac050fab7aca1792": {
      "model_module": "@jupyter-widgets/controls",
      "model_module_version": "1.5.0",
      "model_name": "AccordionModel",
      "state": {
       "_dom_classes": [],
       "_model_module": "@jupyter-widgets/controls",
       "_model_module_version": "1.5.0",
       "_model_name": "AccordionModel",
       "_titles": {
        "0": "Log Output"
       },
       "_view_count": null,
       "_view_module": "@jupyter-widgets/controls",
       "_view_module_version": "1.5.0",
       "_view_name": "AccordionView",
       "box_style": "",
       "children": [
        "IPY_MODEL_b03b1ae45320459ba37a1cf152449d97"
       ],
       "layout": "IPY_MODEL_219addaa1e8d45bbbc9256cca2037fa7",
       "selected_index": null
      }
     },
     "943c0488e2574280af2a3fafdfe123e1": {
      "model_module": "@jupyter-widgets/controls",
      "model_module_version": "1.5.0",
      "model_name": "AccordionModel",
      "state": {
       "_dom_classes": [],
       "_model_module": "@jupyter-widgets/controls",
       "_model_module_version": "1.5.0",
       "_model_name": "AccordionModel",
       "_titles": {
        "0": "Log Output"
       },
       "_view_count": null,
       "_view_module": "@jupyter-widgets/controls",
       "_view_module_version": "1.5.0",
       "_view_name": "AccordionView",
       "box_style": "",
       "children": [
        "IPY_MODEL_92e8f63b880047ff8b1ee61ac7087a02"
       ],
       "layout": "IPY_MODEL_dbfa6c7d4682455db8f997f99415cd12",
       "selected_index": null
      }
     },
     "948deaa05d0b4d5dbd885d4ecbd5381b": {
      "model_module": "@jupyter-widgets/base",
      "model_module_version": "1.2.0",
      "model_name": "LayoutModel",
      "state": {
       "_model_module": "@jupyter-widgets/base",
       "_model_module_version": "1.2.0",
       "_model_name": "LayoutModel",
       "_view_count": null,
       "_view_module": "@jupyter-widgets/base",
       "_view_module_version": "1.2.0",
       "_view_name": "LayoutView",
       "align_content": null,
       "align_items": null,
       "align_self": null,
       "border": null,
       "bottom": null,
       "display": null,
       "flex": null,
       "flex_flow": null,
       "grid_area": null,
       "grid_auto_columns": null,
       "grid_auto_flow": null,
       "grid_auto_rows": null,
       "grid_column": null,
       "grid_gap": null,
       "grid_row": null,
       "grid_template_areas": null,
       "grid_template_columns": null,
       "grid_template_rows": null,
       "height": null,
       "justify_content": null,
       "justify_items": null,
       "left": null,
       "margin": null,
       "max_height": null,
       "max_width": null,
       "min_height": null,
       "min_width": null,
       "object_fit": null,
       "object_position": null,
       "order": null,
       "overflow": null,
       "overflow_x": null,
       "overflow_y": null,
       "padding": null,
       "right": null,
       "top": null,
       "visibility": null,
       "width": null
      }
     },
     "953aafa01d1b4515a08b5d6f5774961f": {
      "model_module": "@jupyter-widgets/controls",
      "model_module_version": "1.5.0",
      "model_name": "HTMLModel",
      "state": {
       "_dom_classes": [],
       "_model_module": "@jupyter-widgets/controls",
       "_model_module_version": "1.5.0",
       "_model_name": "HTMLModel",
       "_view_count": null,
       "_view_module": "@jupyter-widgets/controls",
       "_view_module_version": "1.5.0",
       "_view_name": "HTMLView",
       "description": "",
       "description_tooltip": null,
       "layout": "IPY_MODEL_5099a96ff2ca4cdaa727535f65d2db5b",
       "placeholder": "​",
       "style": "IPY_MODEL_a343e9d839d14e1eba2ac2724cd4f9a2",
       "value": ""
      }
     },
     "953c86fd25c74e94b6ca365fa251e50b": {
      "model_module": "@jupyter-widgets/base",
      "model_module_version": "1.2.0",
      "model_name": "LayoutModel",
      "state": {
       "_model_module": "@jupyter-widgets/base",
       "_model_module_version": "1.2.0",
       "_model_name": "LayoutModel",
       "_view_count": null,
       "_view_module": "@jupyter-widgets/base",
       "_view_module_version": "1.2.0",
       "_view_name": "LayoutView",
       "align_content": null,
       "align_items": null,
       "align_self": null,
       "border": null,
       "bottom": null,
       "display": null,
       "flex": null,
       "flex_flow": null,
       "grid_area": null,
       "grid_auto_columns": null,
       "grid_auto_flow": null,
       "grid_auto_rows": null,
       "grid_column": null,
       "grid_gap": null,
       "grid_row": null,
       "grid_template_areas": null,
       "grid_template_columns": null,
       "grid_template_rows": null,
       "height": "16em",
       "justify_content": null,
       "justify_items": null,
       "left": null,
       "margin": null,
       "max_height": null,
       "max_width": null,
       "min_height": null,
       "min_width": null,
       "object_fit": null,
       "object_position": null,
       "order": null,
       "overflow": null,
       "overflow_x": null,
       "overflow_y": "auto",
       "padding": null,
       "right": null,
       "top": null,
       "visibility": null,
       "width": "100%"
      }
     },
     "98f4a5354c6048cfbeae9fe379423f10": {
      "model_module": "@jupyter-widgets/base",
      "model_module_version": "1.2.0",
      "model_name": "LayoutModel",
      "state": {
       "_model_module": "@jupyter-widgets/base",
       "_model_module_version": "1.2.0",
       "_model_name": "LayoutModel",
       "_view_count": null,
       "_view_module": "@jupyter-widgets/base",
       "_view_module_version": "1.2.0",
       "_view_name": "LayoutView",
       "align_content": null,
       "align_items": null,
       "align_self": null,
       "border": null,
       "bottom": null,
       "display": null,
       "flex": null,
       "flex_flow": null,
       "grid_area": null,
       "grid_auto_columns": null,
       "grid_auto_flow": null,
       "grid_auto_rows": null,
       "grid_column": null,
       "grid_gap": null,
       "grid_row": null,
       "grid_template_areas": null,
       "grid_template_columns": null,
       "grid_template_rows": null,
       "height": "16em",
       "justify_content": null,
       "justify_items": null,
       "left": null,
       "margin": null,
       "max_height": null,
       "max_width": null,
       "min_height": null,
       "min_width": null,
       "object_fit": null,
       "object_position": null,
       "order": null,
       "overflow": null,
       "overflow_x": null,
       "overflow_y": "auto",
       "padding": null,
       "right": null,
       "top": null,
       "visibility": null,
       "width": "100%"
      }
     },
     "9acdae3f6de642c2a3cdc8c9385672b7": {
      "model_module": "@jupyter-widgets/controls",
      "model_module_version": "1.5.0",
      "model_name": "AccordionModel",
      "state": {
       "_dom_classes": [],
       "_model_module": "@jupyter-widgets/controls",
       "_model_module_version": "1.5.0",
       "_model_name": "AccordionModel",
       "_titles": {
        "0": "Log Output"
       },
       "_view_count": null,
       "_view_module": "@jupyter-widgets/controls",
       "_view_module_version": "1.5.0",
       "_view_name": "AccordionView",
       "box_style": "",
       "children": [
        "IPY_MODEL_15b8b3360dbc4d26aefa4296e1e2145d"
       ],
       "layout": "IPY_MODEL_6519a355df044caea924a6e9994a3117",
       "selected_index": null
      }
     },
     "9b96ad26d55a496e80a1de2d709b208d": {
      "model_module": "@jupyter-widgets/base",
      "model_module_version": "1.2.0",
      "model_name": "LayoutModel",
      "state": {
       "_model_module": "@jupyter-widgets/base",
       "_model_module_version": "1.2.0",
       "_model_name": "LayoutModel",
       "_view_count": null,
       "_view_module": "@jupyter-widgets/base",
       "_view_module_version": "1.2.0",
       "_view_name": "LayoutView",
       "align_content": null,
       "align_items": null,
       "align_self": null,
       "border": null,
       "bottom": null,
       "display": null,
       "flex": null,
       "flex_flow": null,
       "grid_area": null,
       "grid_auto_columns": null,
       "grid_auto_flow": null,
       "grid_auto_rows": null,
       "grid_column": null,
       "grid_gap": null,
       "grid_row": null,
       "grid_template_areas": null,
       "grid_template_columns": null,
       "grid_template_rows": null,
       "height": null,
       "justify_content": null,
       "justify_items": null,
       "left": null,
       "margin": null,
       "max_height": null,
       "max_width": null,
       "min_height": null,
       "min_width": null,
       "object_fit": null,
       "object_position": null,
       "order": null,
       "overflow": null,
       "overflow_x": null,
       "overflow_y": null,
       "padding": null,
       "right": null,
       "top": null,
       "visibility": null,
       "width": null
      }
     },
     "9d56a6d791284d84a6f8d49a73a06bd0": {
      "model_module": "@jupyter-widgets/controls",
      "model_module_version": "1.5.0",
      "model_name": "AccordionModel",
      "state": {
       "_dom_classes": [],
       "_model_module": "@jupyter-widgets/controls",
       "_model_module_version": "1.5.0",
       "_model_name": "AccordionModel",
       "_titles": {
        "0": "Log Output"
       },
       "_view_count": null,
       "_view_module": "@jupyter-widgets/controls",
       "_view_module_version": "1.5.0",
       "_view_name": "AccordionView",
       "box_style": "",
       "children": [
        "IPY_MODEL_953aafa01d1b4515a08b5d6f5774961f"
       ],
       "layout": "IPY_MODEL_2b9cab7f4d2a4b3b8b9f92cd93257e4b",
       "selected_index": null
      }
     },
     "9d99fabd962949269ea058ebb09306b6": {
      "model_module": "@jupyter-widgets/controls",
      "model_module_version": "1.5.0",
      "model_name": "AccordionModel",
      "state": {
       "_dom_classes": [],
       "_model_module": "@jupyter-widgets/controls",
       "_model_module_version": "1.5.0",
       "_model_name": "AccordionModel",
       "_titles": {
        "0": "Log Output"
       },
       "_view_count": null,
       "_view_module": "@jupyter-widgets/controls",
       "_view_module_version": "1.5.0",
       "_view_name": "AccordionView",
       "box_style": "",
       "children": [
        "IPY_MODEL_5c4a416f3c2a4dfcb4a5693218cb0cb1"
       ],
       "layout": "IPY_MODEL_718102ccb05c4261b615eeef69ab2284",
       "selected_index": null
      }
     },
     "9ee7f44a71604e9c9caab8d7af4e2285": {
      "model_module": "@jupyter-widgets/controls",
      "model_module_version": "1.5.0",
      "model_name": "HTMLModel",
      "state": {
       "_dom_classes": [],
       "_model_module": "@jupyter-widgets/controls",
       "_model_module_version": "1.5.0",
       "_model_name": "HTMLModel",
       "_view_count": null,
       "_view_module": "@jupyter-widgets/controls",
       "_view_module_version": "1.5.0",
       "_view_name": "HTMLView",
       "description": "",
       "description_tooltip": null,
       "layout": "IPY_MODEL_a67c0ec37f2946ad95b6d555129871cf",
       "placeholder": "​",
       "style": "IPY_MODEL_ee388f773bea43299b35b2c6dfbb0d93",
       "value": ""
      }
     },
     "9fa3d183e908417ab71578b4750f555a": {
      "model_module": "@jupyter-widgets/controls",
      "model_module_version": "1.5.0",
      "model_name": "DescriptionStyleModel",
      "state": {
       "_model_module": "@jupyter-widgets/controls",
       "_model_module_version": "1.5.0",
       "_model_name": "DescriptionStyleModel",
       "_view_count": null,
       "_view_module": "@jupyter-widgets/base",
       "_view_module_version": "1.2.0",
       "_view_name": "StyleView",
       "description_width": ""
      }
     },
     "a2f7591b0460496681dccc5682d18315": {
      "buffers": [
       {
        "data": "GMndPQAAAABfz0k9X89JPQAAAAAAAAAAAAAAAAAAAABfz0k9X89JPQAAAAAYyd09AAAAAAAAAACBPVY9gT1WPQAAAAAAAAAAAAAAABjJ3T2BPVY9gT1WPRjJ3T0AAAAAAAAAAAAAAACBPVY9gT1WPQAAAAAAAAAAAAAAABjJ3T2BPVY9gT1WPRjJ3T0AAAAAAAAAAAAAAAAu34I9Lt+CPQAAAAAYyd09GMndPQAAAAAu34I9Lt+CPQAAAAAAAAAA",
        "encoding": "base64",
        "path": [
         "attribute",
         "buffer"
        ]
       },
       {
        "data": "AAAAAMC0iD4Ttp87FamoPoGAgDsleok+Sl4dPBa9qz6BgAA8GjaKPrKdbzw6ya4+wcBAPH3oij5oXaM8Ps2xPoGAgDxxkYs+f2nRPJvItD6hoKA8sTCMPgADAT2Vu7c+wcDAPILGjD7XoRo9YaW6PuHg4DzBUo0+deg0PSOGvT6BgAA9TtWNPoM1Tj23XcA+kZAQPUhOjj7/s2Y9dyvDPqGgID2yvY4+wYt+PWPvxT6xsDA9RiOPPprtij1Yqcg+wcBAPSh/jz6nW5Y981jLPtHQUD1X0Y8+/pmhPRH+zT7h4GA9sRmQPvevrD2RmNA+8fBwPVhYkD7Porc9DyjTPoGAgD0qjZA+xHfCPWms1T6JiIg9SriQPo8zzT1bJdg+kZCQPZTZkD5J2Nc95pLaPpmYmD1O8ZA+nGniPaX03D6hoKA9Mv+QPqPp7D13St8+qaioPWQDkT7vWfc9OpThPrGwsD3j/ZA+TN4APszR4z65uLg90O6QPlcJBj7rAuY+wcDAPSzWkD6dLgs+lSfoPsnIyD32s5A+6E4QPqs/6j7R0NA9UYiQPvVpFT4KS+w+2djYPX5TkD6NgBo+kEnuPuHg4D08FZA+85IfPh078D7p6Og97s2PPiehJD7RH/I+8fDwPZV9jz5tqyk+jPfzPvn4+D1TJI8+gbEuPivC9T6BgAA+SMKOPqezMz7Qf/c+hYQEPpdXjj4gsjg+WTD5PomICD6C5I0+aaw9PunT+j6NjAw+TWmNPsKiQj6havw+kZAQPtbljD4tlUc+XvT9PpWUFD6BWow+qYNMPkNx/z6ZmBg+cceLPrFtUT7KcAA/nZwcPgotiz6HU1Y+liIBP6GgID5ui4o+5zRbPinOAT+lpCQ+veKJPtMRYD6jcwI/qagoPhoziT4H6mQ+9RIDP62sLD4sfYg+hL1pPmCsAz+xsDA+FsGHPgWMbj7VPwQ/tbQ0Ptb+hj6KVXM+ls0EP7m4OD70NoY+0hl4PpNVBT+9vDw+kGmFPh/ZfD4O2AU/wcBAPg+XhD51yYA+GVUGP8XERD62v4M+eSODPtXMBj/JyEg+5+OCPt16hT51Pwc/zcxMPsUDgj5fz4c+96wHP9HQUD6SH4E+/yCKPpAVCD/V1FQ+tTeAPr1vjD5weQg/2dhYPpqYfj6Zu44+qdgIP93cXD4GvHw+cQSRPm4zCT/h4GA+8dl6PiNKkz7fiQk/5eRkPp3yeD4VjZU+L9wJP+noaD7VBnc+4syXPl4qCj/t7Gw+Hhd1PqsJmj7BdAo/8fBwPrwjcz5wQ5w+VrsKP/X0dD66LXE+U3qePmH+Cj/5+Hg+oDVvPhCuoD7zPQs//fx8PvM7bT7K3qI+PnoLP4GAgD6zQGs+gAylPmOzCz+DgoI+7URpPlQ3pz6F6Qs/hYSEPqFIZz5GX6k+xRwMP4eGhj6YTGU+VYSrPjRNDD+JiIg+FlFjPoOmrT4Deww/i4qKPp9WYT7vxa8+VaYMP42MjD55XV8+m+KxPkrPDD+Pjo4+J2ZdPmX8sz7k9Qw/kZCQPu9wWz6yE7Y+ZRoNP5OSkj4Tflk+Xyi4Pt48DT+VlJQ+GY5XPm06uj5fXQ0/l5aWPkWhVT79Sbw+HHwNP5mYmD7Yt1M+EVe+PhOZDT+bmpo+GNJRPshhwD5XtA0/nZycPr/vTz4jasI+B84NP5+enj6ZEU4+ZXDEPjbmDT+hoKA+YTdMPm10xj4F/Q0/o6KiPhdhSj5cdsg+cxIOP6WkpD6Gj0g+MnbKPpEmDj+npqY+J8JGPhB0zD6COQ4/qaioPjz5RD4ZcM4+RUsOP6uqqj7GNEM+TWrQPtlbDj+trKw+CHVBPsxi0j5haw4/r66uPny5Pz6WWdQ+3XkOP7GwsD5kAj4+z07WPl2HDj+zsrI+wk88PpZC2D7ikw4/tbS0PlGhOj7KNNo+a58OP7e2tj7P9jg+ryXcPgiqDj+5uLg+wlA3PkQV3j68sw4/u7q6PmCuNT6KA+A+lLwOP728vD6qDzQ+w/DhPnLEDj+/vr4+4nQyPs/c4z51yw4/wcDAPkDdMD7vx+U+jdEOP8PCwj7DSC8+A7LnPsvWDj/FxMQ+rrctPiyb6T4O2w4/x8bGPjkpLD6Mg+s+dt4OP8nIyD6mnSo+I2vtPuPgDj/Lyso+bhQpPhFS7z5U4g4/zczMPlCNJz5YOPE+yuIOP8/Ozj6NCCY+9x3zPkPiDj/R0NA+XoUkPjID9T6g4A4/09LSPsADIz7F5/Y+390OP9XU1D62gyE+FMz4PvHZDj/X1tY+PgUgPv+v+j7l1A4/2djYPtOHHj6Gk/w+ms4OP9va2j50Cx0+yXb+PgDHDj/d3Nw+ZJAbPuQsAD8Gvg4/397ePmEWGj5UHgE/vLMOP+Hg4D6unRg+oQ8CP/CnDj/j4uI+SiYXPu8AAz/Dmg4/5eTkPjawFT4b8gM/9IsOP+fm5j60OxQ+R+MEP4F7Dj/p6Og+gsgSPnTUBT9ZaQ4/6+rqPmlXET6gxQY/bVUOP+3s7D6r6A8+u7YHP6s/Dj/v7u4+jXwOPuenCD8CKA4/8fDwPpQTDT4TmQk/Ug4OP/Py8j6Krgs+UIoKP5nyDT/19PQ+vk4KPnx7Cz/Y1A0/9/b2Pu3zCD7KbAw/3bQNP/n4+D5mnwc+B14NP5aSDT/7+vo+9FEGPmZPDj/0bQ0//fz8PigNBT7EQA8/9kYNP//+/j6J0QM+IzIQP1gdDT+BgAA/MKECPpIjET898Qw/goEBP+V8AT4BFRI/YcIMP4OCAj9JZwA+gQYTP+aQDD+EgwM/zsL+PfD3Ez+JXAw/hYQEPyva/D1w6RQ/WyUMP4aFBT/bGPs94NoVPynrCz+HhgY/iIL5PU/MFj/zrQs/iIcHP3Ec+D2+vRc/mG0LP4mICD/I6vY9Ha8YPxcqCz+KiQk/y/L1PWqgGT8/4wo/i4oKPzI59T2nkRo/MZkKP4yLCz+1wvQ9w4IbP7pLCj+NjAw/DJT0Pb1zHD+5+gk/jo0NP4Gz9D2mZB0/L6YJP4+ODj/AJPU9XFUePwlOCT+Qjw8/B+31PfFFHz858gg/kZAQPw4R9z1ENiA/q5IIP5KRET8Ulvg9YyYhP2IvCD+TkhI/t376PVEWIj8qyAc/lJMTPzXQ/D3qBSM/A10HP5WUFD+ojP89QfUjP+7tBj+WlRU/mlsBPjLkJD/IegY/l5YWPz0pAz7h0iU/ggMGP5iXFz9JMAU+GsEmPxqIBT+ZmBg/Q3EHPv+uJz+BCAU/mpkZP7PsCT5enCg/pYQEP5uaGj+Yogw+WYkpP3b8Az+cmxs/NpMPPrx1Kj/0bwM/nZwcPwa+Ej6qYSs//N4CP56dHT+BIhY+AU0sP6FJAj+fnh4/ZsAZPrA3LT/RrwE/oJ8fP2SWHT7JIS4/axEBP6GgID+xoyE+OQsvP35uAD+ioSE/huclPvHzLz/Wjf8+o6IiP05gKj7w2zA/gzX+PqSjIz/+DC8+JsMxP7/T/D6lpCQ/iewzPpOpMj+taPs+pqUlPxr9OD4VjzM/6fP5PqemJj/mPT4+vXM0P7R1+D6opyc/Ga1DPnlXNT/u7fY+qagoP+lJST5LOjY/dFz1PqqpKT9/Ek8+ERw3P0jB8z6rqio/0QVVPsr8Nz9pHPI+rKsrP9EiWz533Dg/123wPq2sLD8waGE+9bo5Py217j6urS0/ndRnPmeYOj+u8uw+r64uPw5nbj6KdDs/WybrPrCvLz91HnU+f088P/BP6T6xsDA/xvl7PjUpPT+xb+c+srExP/p7gT6KAT4/e4XlPrOyMj/6C4U+kNg+Py6R4z60szM/fqyIPiWuPz/JkuE+tbQ0P0JdjD5JgkA/K4rfPra1NT/BHZA+/FRBP3V33T63tjY/dO2TPhwmQj+nWts+uLc3PxjMlz6p9UI/wjPZPrm4OD9JuZs+pMNDP8UC1z66uTk/orSfPvyPRD+wx9Q+u7o6PwG+oz6fWkU/hILSPry7Oz/h1Kc+jiNGPx4z0D69vDw/HvmrPqfqRj9e2c0+vr09P3gqsD77r0c/hnXLPr++Pj+IaLQ+aXNIP5YHyT7Avz8/C7O4PvA0ST+Oj8Y+wcBAP54JvT6Q9Ek/Tg3EPsLBQT9AbME+KbJKPziBwT7DwkI/jNrFPsptSz/q6r4+xMNDPz9Uyj5SJ0w/pUq8PsXERD842c4+095MP2qguT7GxUU/VWnTPhiUTT/267Y+x8ZGP1ME2D40R04/jC20PsjHRz/Oqdw+FvhOP01lsT7JyEg/o1nhPr2mTz86k64+yslJP5AT5j4aU1A/dLerPsvKSj9S1+o+Kv1QP/rRqD7My0s/paTvPs+kUT8R46U+zcxMP2d79D4nSlI/dOqiPs7NTT95W/k+A+1SP4ronz7Pzk4/UkT+PmGNUz9y3Zw+0M9PP/qaAT9SK1Q/DMmZPtHQUD8NGAQ/xcZUP72rlj7S0VE/QpkGP6tfVT9ihZM+09JSP3UeCT8B9lU/P1aQPtTTUz92pws/uYlWP9oejT7V1FQ/MzQOP+MaVz8z34k+1tVVP3rEED9+qVc/0JeGPtfWVj8ZWBM/ejVYP9RIgz7Y11c//u4VP8a+WD8A5X8+2dhYP+iIGD+ERVk/PSt5PtrZWT/EJRs/o8lZP6Fkcj7b2lo/YcUdPyNLWj/Akms+3NtbP3tnID8Eylo/prZkPt3cXD8CDCM/VkZbP6LRXT7e3V0/orIlPxrAWz/N5VY+395ePzpbKD9QN1w/uvRPPuDfXz+WBSs/96tcPwgBST7h4GA/dbEtPzIeXT8TDUI+4uFhP6JeMD8Ajl0/Qxw7PuPiYj/dDDM/YftdP74xND7k42M/4Ls1P3dmXj+1US0+5eRkP4trOD9Cz14/Z4EmPublZT+LGzs/4zVfPxHGHz7n5mY/m8s9P1uaXz+FJhk+6OdnP3h7QD/K/F8/XKoSPunoaD/gKkM/U11gP4FaDD7q6Wk/odlFP/W7YD9wQQY+6+pqP1WHSD/SGGE/K2oAPuzraz/bM0s/HXRhPy7F9T3t7Gw/395NP8TNYT/Fcus97u1tPw6IUD8LJmI/nP3hPe/ubj9FL1M/A31iP0yI2T3w728/QdRVP8zSYj8RONI98fBwP7B2WD+JJ2M/kDDMPfLxcT9dFls/W3tjP+qUxz3z8nI/B7NdP2TOYz8Cg8Q99PNzP4xMYD/FIGQ/bxLDPfX0dD+o4mI/n3JkP3JTwz329XU/OnVlPwXEZD9JS8U99/Z2P/8DaD84FWU/w/XIPfj3dz/Wjmo/OGZlP7dEzj35+Hg/SBVtP2u3ZT8tI9U9+vl5P2iXbz+vCGY/yXPdPfv6ej8zFXI/R1pmP5wX5z38+3s/io50PzKsZj8Y7fE9/fx8P0sDdz+k/mY/x9T9Pf79fT9kc3k/rVFnPxVXBT7//n4/xt57P12lZz+6Lgw+AACAP4BFfj/o+Wc/9WMTPg==",
        "encoding": "base64",
        "path": [
         "color_map",
         "buffer"
        ]
       },
       {
        "data": "AAAAAAEAAAACAAAAAwAAAAQAAAAFAAAABgAAAAcAAAAIAAAACQAAAAoAAAALAAAADAAAAA0AAAAOAAAADwAAABAAAAARAAAAEgAAABMAAAAUAAAAFQAAABYAAAAXAAAAGAAAABkAAAAaAAAAGwAAABwAAAAdAAAAHgAAAB8AAAAgAAAAIQAAACIAAAAjAAAAJAAAACUAAAAmAAAAJwAAACgAAAApAAAAKgAAACsAAAAsAAAALQAAAC4AAAAvAAAA",
        "encoding": "base64",
        "path": [
         "indices",
         "buffer"
        ]
       },
       {
        "data": "AACAPwAAAAAAAAAAAAAAAAAAAAAAAIA/AAAAAAAAAAAAAAAAAAAAAAAAgD8AAAAAAAAAAAAAAAAAAAAAAACAPw==",
        "encoding": "base64",
        "path": [
         "model_matrix",
         "buffer"
        ]
       },
       {
        "data": "AAAAPwAAAD8AAAAAAAAAPwAAAAAAAAAAAACAPgAAgD4AAAAAAACAPgAAgD4AAAAAAAAAPwAAAAAAAAAAAAAAAAAAAAAAAAAAAAAAAAAAAAAAAAAAAAAAAAAAAD8AAAAAAACAPgAAgD4AAAAAAACAPgAAgD4AAAAAAAAAAAAAAD8AAAAAAAAAPwAAAD8AAAAAAACAPwAAAD8AAAAAAACAPwAAAAAAAAAAAABAPwAAgD4AAAAAAABAPwAAgD4AAAAAAACAPwAAAAAAAAAAAAAAPwAAAAAAAAAAAAAAPwAAAAAAAAAAAAAAPwAAAD8AAAAAAABAPwAAgD4AAAAAAABAPwAAgD4AAAAAAAAAPwAAAD8AAAAAAACAPwAAAD8AAAAAAAAAAAAAAD8AAAAAAAAAAAAAgD8AAAAAAACAPgAAQD8AAAAAAACAPgAAQD8AAAAAAAAAAAAAgD8AAAAAAAAAPwAAgD8AAAAAAAAAPwAAgD8AAAAAAAAAPwAAAD8AAAAAAACAPgAAQD8AAAAAAACAPgAAQD8AAAAAAAAAPwAAAD8AAAAAAAAAAAAAAD8AAAAAAACAPwAAgD8AAAAAAACAPwAAAD8AAAAAAABAPwAAQD8AAAAAAABAPwAAQD8AAAAAAACAPwAAAD8AAAAAAAAAPwAAAD8AAAAAAAAAPwAAAD8AAAAAAAAAPwAAgD8AAAAAAABAPwAAQD8AAAAAAABAPwAAQD8AAAAAAAAAPwAAgD8AAAAAAACAPwAAgD8AAAAA",
        "encoding": "base64",
        "path": [
         "vertices",
         "buffer"
        ]
       }
      ],
      "model_module": "k3d",
      "model_module_version": "2.6.6",
      "model_name": "ObjectModel",
      "state": {
       "_model_module": "k3d",
       "_model_module_version": "2.6.6",
       "_model_name": "ObjectModel",
       "_view_count": null,
       "_view_module": null,
       "_view_module_version": "",
       "_view_name": null,
       "attribute": {
        "dtype": "float32",
        "shape": [
         48
        ]
       },
       "color": 255,
       "color_map": {
        "dtype": "float32",
        "shape": [
         256,
         4
        ]
       },
       "color_range": [
        0.0,
        0.10829371213912964
       ],
       "compression_level": 0,
       "flat_shading": false,
       "id": 140007281480416,
       "indices": {
        "dtype": "uint32",
        "shape": [
         16,
         3
        ]
       },
       "model_matrix": {
        "dtype": "float32",
        "shape": [
         4,
         4
        ]
       },
       "name": null,
       "opacity": 1.0,
       "type": "Mesh",
       "vertices": {
        "dtype": "float32",
        "shape": [
         48,
         3
        ]
       },
       "visible": true,
       "wireframe": false
      }
     },
     "a343e9d839d14e1eba2ac2724cd4f9a2": {
      "model_module": "@jupyter-widgets/controls",
      "model_module_version": "1.5.0",
      "model_name": "DescriptionStyleModel",
      "state": {
       "_model_module": "@jupyter-widgets/controls",
       "_model_module_version": "1.5.0",
       "_model_name": "DescriptionStyleModel",
       "_view_count": null,
       "_view_module": "@jupyter-widgets/base",
       "_view_module_version": "1.2.0",
       "_view_name": "StyleView",
       "description_width": ""
      }
     },
     "a565e34a78794408b66965ec14294c90": {
      "model_module": "@jupyter-widgets/base",
      "model_module_version": "1.2.0",
      "model_name": "LayoutModel",
      "state": {
       "_model_module": "@jupyter-widgets/base",
       "_model_module_version": "1.2.0",
       "_model_name": "LayoutModel",
       "_view_count": null,
       "_view_module": "@jupyter-widgets/base",
       "_view_module_version": "1.2.0",
       "_view_name": "LayoutView",
       "align_content": null,
       "align_items": null,
       "align_self": null,
       "border": null,
       "bottom": null,
       "display": null,
       "flex": null,
       "flex_flow": null,
       "grid_area": null,
       "grid_auto_columns": null,
       "grid_auto_flow": null,
       "grid_auto_rows": null,
       "grid_column": null,
       "grid_gap": null,
       "grid_row": null,
       "grid_template_areas": null,
       "grid_template_columns": null,
       "grid_template_rows": null,
       "height": null,
       "justify_content": null,
       "justify_items": null,
       "left": null,
       "margin": null,
       "max_height": null,
       "max_width": null,
       "min_height": null,
       "min_width": null,
       "object_fit": null,
       "object_position": null,
       "order": null,
       "overflow": null,
       "overflow_x": null,
       "overflow_y": null,
       "padding": null,
       "right": null,
       "top": null,
       "visibility": null,
       "width": null
      }
     },
     "a6736f6546ee40b9a1259220666f6045": {
      "model_module": "@jupyter-widgets/controls",
      "model_module_version": "1.5.0",
      "model_name": "DescriptionStyleModel",
      "state": {
       "_model_module": "@jupyter-widgets/controls",
       "_model_module_version": "1.5.0",
       "_model_name": "DescriptionStyleModel",
       "_view_count": null,
       "_view_module": "@jupyter-widgets/base",
       "_view_module_version": "1.2.0",
       "_view_name": "StyleView",
       "description_width": ""
      }
     },
     "a67c0ec37f2946ad95b6d555129871cf": {
      "model_module": "@jupyter-widgets/base",
      "model_module_version": "1.2.0",
      "model_name": "LayoutModel",
      "state": {
       "_model_module": "@jupyter-widgets/base",
       "_model_module_version": "1.2.0",
       "_model_name": "LayoutModel",
       "_view_count": null,
       "_view_module": "@jupyter-widgets/base",
       "_view_module_version": "1.2.0",
       "_view_name": "LayoutView",
       "align_content": null,
       "align_items": null,
       "align_self": null,
       "border": null,
       "bottom": null,
       "display": null,
       "flex": null,
       "flex_flow": null,
       "grid_area": null,
       "grid_auto_columns": null,
       "grid_auto_flow": null,
       "grid_auto_rows": null,
       "grid_column": null,
       "grid_gap": null,
       "grid_row": null,
       "grid_template_areas": null,
       "grid_template_columns": null,
       "grid_template_rows": null,
       "height": "16em",
       "justify_content": null,
       "justify_items": null,
       "left": null,
       "margin": null,
       "max_height": null,
       "max_width": null,
       "min_height": null,
       "min_width": null,
       "object_fit": null,
       "object_position": null,
       "order": null,
       "overflow": null,
       "overflow_x": null,
       "overflow_y": "auto",
       "padding": null,
       "right": null,
       "top": null,
       "visibility": null,
       "width": "100%"
      }
     },
     "a85dd263278347fb8d41b959b4dfc934": {
      "model_module": "@jupyter-widgets/controls",
      "model_module_version": "1.5.0",
      "model_name": "HTMLModel",
      "state": {
       "_dom_classes": [],
       "_model_module": "@jupyter-widgets/controls",
       "_model_module_version": "1.5.0",
       "_model_name": "HTMLModel",
       "_view_count": null,
       "_view_module": "@jupyter-widgets/controls",
       "_view_module_version": "1.5.0",
       "_view_name": "HTMLView",
       "description": "",
       "description_tooltip": null,
       "layout": "IPY_MODEL_b8cc34962bae4e79b9cbf805cba01d15",
       "placeholder": "​",
       "style": "IPY_MODEL_4e1d2fa5628e4a929d2b417836af8c15",
       "value": ""
      }
     },
     "a9c11a2508f94ea99f5f80b4090ac8da": {
      "model_module": "@jupyter-widgets/base",
      "model_module_version": "1.2.0",
      "model_name": "LayoutModel",
      "state": {
       "_model_module": "@jupyter-widgets/base",
       "_model_module_version": "1.2.0",
       "_model_name": "LayoutModel",
       "_view_count": null,
       "_view_module": "@jupyter-widgets/base",
       "_view_module_version": "1.2.0",
       "_view_name": "LayoutView",
       "align_content": null,
       "align_items": null,
       "align_self": null,
       "border": null,
       "bottom": null,
       "display": null,
       "flex": null,
       "flex_flow": null,
       "grid_area": null,
       "grid_auto_columns": null,
       "grid_auto_flow": null,
       "grid_auto_rows": null,
       "grid_column": null,
       "grid_gap": null,
       "grid_row": null,
       "grid_template_areas": null,
       "grid_template_columns": null,
       "grid_template_rows": null,
       "height": null,
       "justify_content": null,
       "justify_items": null,
       "left": null,
       "margin": null,
       "max_height": null,
       "max_width": null,
       "min_height": null,
       "min_width": null,
       "object_fit": null,
       "object_position": null,
       "order": null,
       "overflow": null,
       "overflow_x": null,
       "overflow_y": null,
       "padding": null,
       "right": null,
       "top": null,
       "visibility": null,
       "width": null
      }
     },
     "aa327f32c1f54ed68976c7278219dc1e": {
      "model_module": "@jupyter-widgets/base",
      "model_module_version": "1.2.0",
      "model_name": "LayoutModel",
      "state": {
       "_model_module": "@jupyter-widgets/base",
       "_model_module_version": "1.2.0",
       "_model_name": "LayoutModel",
       "_view_count": null,
       "_view_module": "@jupyter-widgets/base",
       "_view_module_version": "1.2.0",
       "_view_name": "LayoutView",
       "align_content": null,
       "align_items": null,
       "align_self": null,
       "border": null,
       "bottom": null,
       "display": null,
       "flex": null,
       "flex_flow": null,
       "grid_area": null,
       "grid_auto_columns": null,
       "grid_auto_flow": null,
       "grid_auto_rows": null,
       "grid_column": null,
       "grid_gap": null,
       "grid_row": null,
       "grid_template_areas": null,
       "grid_template_columns": null,
       "grid_template_rows": null,
       "height": null,
       "justify_content": null,
       "justify_items": null,
       "left": null,
       "margin": null,
       "max_height": null,
       "max_width": null,
       "min_height": null,
       "min_width": null,
       "object_fit": null,
       "object_position": null,
       "order": null,
       "overflow": null,
       "overflow_x": null,
       "overflow_y": null,
       "padding": null,
       "right": null,
       "top": null,
       "visibility": null,
       "width": null
      }
     },
     "adc44098868a4545828dfda50665abe0": {
      "buffers": [
       {
        "data": "AAAAAAAAAAAAAAAAAAAAAAAAAAAAAAAAAAAAAAAAAAAAAAAAAAAAAAAAAAAAAAAAAAAAPwAAAAAAAAAAAAAAAAAAAAAAAAAAAAAAAAAAAAAAAAAAAAAAAAAAAAAAAAA/AAAAAAAAAAAAAAAAAAAAAAAAAAAAAAA/AAAAPwAAAAAAAAAAAAAAAAAAAAAAAAAAAACAPwAAAD8AAAAAAAAAAAAAAD8AAAAAAAAAAAAAAD8AAAAAAAAAAAAAAD8AAIA/",
        "encoding": "base64",
        "path": [
         "attribute",
         "buffer"
        ]
       },
       {
        "data": "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",
        "encoding": "base64",
        "path": [
         "color_map",
         "buffer"
        ]
       },
       {
        "data": "AAAAAAEAAAACAAAAAwAAAAQAAAAFAAAABgAAAAcAAAAIAAAACQAAAAoAAAALAAAADAAAAA0AAAAOAAAADwAAABAAAAARAAAAEgAAABMAAAAUAAAAFQAAABYAAAAXAAAAGAAAABkAAAAaAAAAGwAAABwAAAAdAAAAHgAAAB8AAAAgAAAAIQAAACIAAAAjAAAAJAAAACUAAAAmAAAAJwAAACgAAAApAAAAKgAAACsAAAAsAAAALQAAAC4AAAAvAAAA",
        "encoding": "base64",
        "path": [
         "indices",
         "buffer"
        ]
       },
       {
        "data": "AACAPwAAAAAAAAAAAAAAAAAAAAAAAIA/AAAAAAAAAAAAAAAAAAAAAAAAgD8AAAAAAAAAAAAAAAAAAAAAAACAPw==",
        "encoding": "base64",
        "path": [
         "model_matrix",
         "buffer"
        ]
       },
       {
        "data": "AAAAPwAAAD8AAAAAAAAAPwAAAAAAAAAAAACAPgAAgD4AAAAAAACAPgAAgD4AAAAAAAAAPwAAAAAAAAAAAAAAAAAAAAAAAAAAAAAAAAAAAAAAAAAAAAAAAAAAAD8AAAAAAACAPgAAgD4AAAAAAACAPgAAgD4AAAAAAAAAAAAAAD8AAAAAAAAAPwAAAD8AAAAAAACAPwAAAD8AAAAAAACAPwAAAAAAAAAAAABAPwAAgD4AAAAAAABAPwAAgD4AAAAAAACAPwAAAAAAAAAAAAAAPwAAAAAAAAAAAAAAPwAAAAAAAAAAAAAAPwAAAD8AAAAAAABAPwAAgD4AAAAAAABAPwAAgD4AAAAAAAAAPwAAAD8AAAAAAACAPwAAAD8AAAAAAAAAAAAAAD8AAAAAAAAAAAAAgD8AAAAAAACAPgAAQD8AAAAAAACAPgAAQD8AAAAAAAAAAAAAgD8AAAAAAAAAPwAAgD8AAAAAAAAAPwAAgD8AAAAAAAAAPwAAAD8AAAAAAACAPgAAQD8AAAAAAACAPgAAQD8AAAAAAAAAPwAAAD8AAAAAAAAAAAAAAD8AAAAAAACAPwAAgD8AAAAAAACAPwAAAD8AAAAAAABAPwAAQD8AAAAAAABAPwAAQD8AAAAAAACAPwAAAD8AAAAAAAAAPwAAAD8AAAAAAAAAPwAAAD8AAAAAAAAAPwAAgD8AAAAAAABAPwAAQD8AAAAAAABAPwAAQD8AAAAAAAAAPwAAgD8AAAAAAACAPwAAgD8AAAAA",
        "encoding": "base64",
        "path": [
         "vertices",
         "buffer"
        ]
       }
      ],
      "model_module": "k3d",
      "model_module_version": "2.6.6",
      "model_name": "ObjectModel",
      "state": {
       "_model_module": "k3d",
       "_model_module_version": "2.6.6",
       "_model_name": "ObjectModel",
       "_view_count": null,
       "_view_module": null,
       "_view_module_version": "",
       "_view_name": null,
       "attribute": {
        "dtype": "float32",
        "shape": [
         48
        ]
       },
       "color": 255,
       "color_map": {
        "dtype": "float32",
        "shape": [
         256,
         4
        ]
       },
       "color_range": [
        0.0,
        1.0
       ],
       "compression_level": 0,
       "flat_shading": false,
       "id": 140007146691120,
       "indices": {
        "dtype": "uint32",
        "shape": [
         16,
         3
        ]
       },
       "model_matrix": {
        "dtype": "float32",
        "shape": [
         4,
         4
        ]
       },
       "name": null,
       "opacity": 1.0,
       "type": "Mesh",
       "vertices": {
        "dtype": "float32",
        "shape": [
         48,
         3
        ]
       },
       "visible": true,
       "wireframe": false
      }
     },
     "b03b1ae45320459ba37a1cf152449d97": {
      "model_module": "@jupyter-widgets/controls",
      "model_module_version": "1.5.0",
      "model_name": "HTMLModel",
      "state": {
       "_dom_classes": [],
       "_model_module": "@jupyter-widgets/controls",
       "_model_module_version": "1.5.0",
       "_model_name": "HTMLModel",
       "_view_count": null,
       "_view_module": "@jupyter-widgets/controls",
       "_view_module_version": "1.5.0",
       "_view_name": "HTMLView",
       "description": "",
       "description_tooltip": null,
       "layout": "IPY_MODEL_27dc752540e64d3f93776b62e4bd186a",
       "placeholder": "​",
       "style": "IPY_MODEL_38835bb5558049af96788f6958a6e2c5",
       "value": ""
      }
     },
     "b07ad5e0754249dabd3b8408c2b6ad08": {
      "model_module": "@jupyter-widgets/base",
      "model_module_version": "1.2.0",
      "model_name": "LayoutModel",
      "state": {
       "_model_module": "@jupyter-widgets/base",
       "_model_module_version": "1.2.0",
       "_model_name": "LayoutModel",
       "_view_count": null,
       "_view_module": "@jupyter-widgets/base",
       "_view_module_version": "1.2.0",
       "_view_name": "LayoutView",
       "align_content": null,
       "align_items": null,
       "align_self": null,
       "border": null,
       "bottom": null,
       "display": null,
       "flex": null,
       "flex_flow": null,
       "grid_area": null,
       "grid_auto_columns": null,
       "grid_auto_flow": null,
       "grid_auto_rows": null,
       "grid_column": null,
       "grid_gap": null,
       "grid_row": null,
       "grid_template_areas": null,
       "grid_template_columns": null,
       "grid_template_rows": null,
       "height": "16em",
       "justify_content": null,
       "justify_items": null,
       "left": null,
       "margin": null,
       "max_height": null,
       "max_width": null,
       "min_height": null,
       "min_width": null,
       "object_fit": null,
       "object_position": null,
       "order": null,
       "overflow": null,
       "overflow_x": null,
       "overflow_y": "auto",
       "padding": null,
       "right": null,
       "top": null,
       "visibility": null,
       "width": "100%"
      }
     },
     "b0b2301d2efe4bb98e46ce672a060a79": {
      "model_module": "@jupyter-widgets/base",
      "model_module_version": "1.2.0",
      "model_name": "LayoutModel",
      "state": {
       "_model_module": "@jupyter-widgets/base",
       "_model_module_version": "1.2.0",
       "_model_name": "LayoutModel",
       "_view_count": null,
       "_view_module": "@jupyter-widgets/base",
       "_view_module_version": "1.2.0",
       "_view_name": "LayoutView",
       "align_content": null,
       "align_items": null,
       "align_self": null,
       "border": null,
       "bottom": null,
       "display": null,
       "flex": null,
       "flex_flow": null,
       "grid_area": null,
       "grid_auto_columns": null,
       "grid_auto_flow": null,
       "grid_auto_rows": null,
       "grid_column": null,
       "grid_gap": null,
       "grid_row": null,
       "grid_template_areas": null,
       "grid_template_columns": null,
       "grid_template_rows": null,
       "height": null,
       "justify_content": null,
       "justify_items": null,
       "left": null,
       "margin": null,
       "max_height": null,
       "max_width": null,
       "min_height": null,
       "min_width": null,
       "object_fit": null,
       "object_position": null,
       "order": null,
       "overflow": null,
       "overflow_x": null,
       "overflow_y": null,
       "padding": null,
       "right": null,
       "top": null,
       "visibility": null,
       "width": null
      }
     },
     "b1581dfdf0254677a244f10a7daf4a7a": {
      "model_module": "@jupyter-widgets/output",
      "model_module_version": "1.0.0",
      "model_name": "OutputModel",
      "state": {
       "_dom_classes": [],
       "_model_module": "@jupyter-widgets/output",
       "_model_module_version": "1.0.0",
       "_model_name": "OutputModel",
       "_view_count": null,
       "_view_module": "@jupyter-widgets/output",
       "_view_module_version": "1.0.0",
       "_view_name": "OutputView",
       "layout": "IPY_MODEL_c4adef122fd8436aa7074df7f582df5b",
       "msg_id": "",
       "outputs": [
        {
         "data": {
          "application/vnd.jupyter.widget-view+json": {
           "model_id": "41a3808ed21a4e04864fe6e458bf738a",
           "version_major": 2,
           "version_minor": 0
          },
          "text/plain": "VTKPlot(antialias=3, axes=['x', 'y', 'z'], background_color=16777215, camera=[4.5, 4.5, 4.5, 0.0, 0.0, 0.0, 1.…"
         },
         "metadata": {},
         "output_type": "display_data"
        }
       ]
      }
     },
     "b19639389ac94d26810be7e111bd7421": {
      "model_module": "@jupyter-widgets/controls",
      "model_module_version": "1.5.0",
      "model_name": "DescriptionStyleModel",
      "state": {
       "_model_module": "@jupyter-widgets/controls",
       "_model_module_version": "1.5.0",
       "_model_name": "DescriptionStyleModel",
       "_view_count": null,
       "_view_module": "@jupyter-widgets/base",
       "_view_module_version": "1.2.0",
       "_view_name": "StyleView",
       "description_width": ""
      }
     },
     "b2eaac2783654edf804c858472c90b07": {
      "model_module": "@jupyter-widgets/base",
      "model_module_version": "1.2.0",
      "model_name": "LayoutModel",
      "state": {
       "_model_module": "@jupyter-widgets/base",
       "_model_module_version": "1.2.0",
       "_model_name": "LayoutModel",
       "_view_count": null,
       "_view_module": "@jupyter-widgets/base",
       "_view_module_version": "1.2.0",
       "_view_name": "LayoutView",
       "align_content": null,
       "align_items": null,
       "align_self": null,
       "border": null,
       "bottom": null,
       "display": null,
       "flex": null,
       "flex_flow": null,
       "grid_area": null,
       "grid_auto_columns": null,
       "grid_auto_flow": null,
       "grid_auto_rows": null,
       "grid_column": null,
       "grid_gap": null,
       "grid_row": null,
       "grid_template_areas": null,
       "grid_template_columns": null,
       "grid_template_rows": null,
       "height": null,
       "justify_content": null,
       "justify_items": null,
       "left": null,
       "margin": null,
       "max_height": null,
       "max_width": null,
       "min_height": null,
       "min_width": null,
       "object_fit": null,
       "object_position": null,
       "order": null,
       "overflow": null,
       "overflow_x": null,
       "overflow_y": null,
       "padding": null,
       "right": null,
       "top": null,
       "visibility": null,
       "width": null
      }
     },
     "b7a1eff97ef24e968b121c0d7c4b7b18": {
      "buffers": [
       {
        "data": "RnK3PgAAAACw5+Q9sOfkPQAAAAAAAAAAAAAAAAAAAACw5+Q9sOfkPQAAAABGcrc+AAAAPwAAAABgj3U+YI91PgAAAAAAAAAAAAAAAEZytz5gj3U+YI91PkZytz4AAAA/AAAAAAAAAABgj3U+YI91PgAAAAAAAAA/AAAAP0Zytz5gj3U+YI91PkZytz4AAAAAAACAPwAAAD/mWyA/5lsgPwAAAD9Gcrc+RnK3PgAAAD/mWyA/5lsgPwAAAD8AAIA/",
        "encoding": "base64",
        "path": [
         "attribute",
         "buffer"
        ]
       },
       {
        "data": "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",
        "encoding": "base64",
        "path": [
         "color_map",
         "buffer"
        ]
       },
       {
        "data": "AAAAAAEAAAACAAAAAwAAAAQAAAAFAAAABgAAAAcAAAAIAAAACQAAAAoAAAALAAAADAAAAA0AAAAOAAAADwAAABAAAAARAAAAEgAAABMAAAAUAAAAFQAAABYAAAAXAAAAGAAAABkAAAAaAAAAGwAAABwAAAAdAAAAHgAAAB8AAAAgAAAAIQAAACIAAAAjAAAAJAAAACUAAAAmAAAAJwAAACgAAAApAAAAKgAAACsAAAAsAAAALQAAAC4AAAAvAAAA",
        "encoding": "base64",
        "path": [
         "indices",
         "buffer"
        ]
       },
       {
        "data": "AACAPwAAAAAAAAAAAAAAAAAAAAAAAIA/AAAAAAAAAAAAAAAAAAAAAAAAgD8AAAAAAAAAAAAAAAAAAAAAAACAPw==",
        "encoding": "base64",
        "path": [
         "model_matrix",
         "buffer"
        ]
       },
       {
        "data": "AAAAPwAAAD8AAAAAAAAAPwAAAAAAAAAAAACAPgAAgD4AAAAAAACAPgAAgD4AAAAAAAAAPwAAAAAAAAAAAAAAAAAAAAAAAAAAAAAAAAAAAAAAAAAAAAAAAAAAAD8AAAAAAACAPgAAgD4AAAAAAACAPgAAgD4AAAAAAAAAAAAAAD8AAAAAAAAAPwAAAD8AAAAAAACAPwAAAD8AAAAAAACAPwAAAAAAAAAAAABAPwAAgD4AAAAAAABAPwAAgD4AAAAAAACAPwAAAAAAAAAAAAAAPwAAAAAAAAAAAAAAPwAAAAAAAAAAAAAAPwAAAD8AAAAAAABAPwAAgD4AAAAAAABAPwAAgD4AAAAAAAAAPwAAAD8AAAAAAACAPwAAAD8AAAAAAAAAAAAAAD8AAAAAAAAAAAAAgD8AAAAAAACAPgAAQD8AAAAAAACAPgAAQD8AAAAAAAAAAAAAgD8AAAAAAAAAPwAAgD8AAAAAAAAAPwAAgD8AAAAAAAAAPwAAAD8AAAAAAACAPgAAQD8AAAAAAACAPgAAQD8AAAAAAAAAPwAAAD8AAAAAAAAAAAAAAD8AAAAAAACAPwAAgD8AAAAAAACAPwAAAD8AAAAAAABAPwAAQD8AAAAAAABAPwAAQD8AAAAAAACAPwAAAD8AAAAAAAAAPwAAAD8AAAAAAAAAPwAAAD8AAAAAAAAAPwAAgD8AAAAAAABAPwAAQD8AAAAAAABAPwAAQD8AAAAAAAAAPwAAgD8AAAAAAACAPwAAgD8AAAAA",
        "encoding": "base64",
        "path": [
         "vertices",
         "buffer"
        ]
       }
      ],
      "model_module": "k3d",
      "model_module_version": "2.6.6",
      "model_name": "ObjectModel",
      "state": {
       "_model_module": "k3d",
       "_model_module_version": "2.6.6",
       "_model_name": "ObjectModel",
       "_view_count": null,
       "_view_module": null,
       "_view_module_version": "",
       "_view_name": null,
       "attribute": {
        "dtype": "float32",
        "shape": [
         48
        ]
       },
       "color": 255,
       "color_map": {
        "dtype": "float32",
        "shape": [
         256,
         4
        ]
       },
       "color_range": [
        0.0,
        1.0
       ],
       "compression_level": 0,
       "flat_shading": false,
       "id": 140007146725584,
       "indices": {
        "dtype": "uint32",
        "shape": [
         16,
         3
        ]
       },
       "model_matrix": {
        "dtype": "float32",
        "shape": [
         4,
         4
        ]
       },
       "name": null,
       "opacity": 1.0,
       "type": "Mesh",
       "vertices": {
        "dtype": "float32",
        "shape": [
         48,
         3
        ]
       },
       "visible": true,
       "wireframe": false
      }
     },
     "b8cc34962bae4e79b9cbf805cba01d15": {
      "model_module": "@jupyter-widgets/base",
      "model_module_version": "1.2.0",
      "model_name": "LayoutModel",
      "state": {
       "_model_module": "@jupyter-widgets/base",
       "_model_module_version": "1.2.0",
       "_model_name": "LayoutModel",
       "_view_count": null,
       "_view_module": "@jupyter-widgets/base",
       "_view_module_version": "1.2.0",
       "_view_name": "LayoutView",
       "align_content": null,
       "align_items": null,
       "align_self": null,
       "border": null,
       "bottom": null,
       "display": null,
       "flex": null,
       "flex_flow": null,
       "grid_area": null,
       "grid_auto_columns": null,
       "grid_auto_flow": null,
       "grid_auto_rows": null,
       "grid_column": null,
       "grid_gap": null,
       "grid_row": null,
       "grid_template_areas": null,
       "grid_template_columns": null,
       "grid_template_rows": null,
       "height": "16em",
       "justify_content": null,
       "justify_items": null,
       "left": null,
       "margin": null,
       "max_height": null,
       "max_width": null,
       "min_height": null,
       "min_width": null,
       "object_fit": null,
       "object_position": null,
       "order": null,
       "overflow": null,
       "overflow_x": null,
       "overflow_y": "auto",
       "padding": null,
       "right": null,
       "top": null,
       "visibility": null,
       "width": "100%"
      }
     },
     "b9a60e028a884d2b8421ed982c0de01c": {
      "model_module": "@jupyter-widgets/base",
      "model_module_version": "1.2.0",
      "model_name": "LayoutModel",
      "state": {
       "_model_module": "@jupyter-widgets/base",
       "_model_module_version": "1.2.0",
       "_model_name": "LayoutModel",
       "_view_count": null,
       "_view_module": "@jupyter-widgets/base",
       "_view_module_version": "1.2.0",
       "_view_name": "LayoutView",
       "align_content": null,
       "align_items": null,
       "align_self": null,
       "border": null,
       "bottom": null,
       "display": null,
       "flex": null,
       "flex_flow": null,
       "grid_area": null,
       "grid_auto_columns": null,
       "grid_auto_flow": null,
       "grid_auto_rows": null,
       "grid_column": null,
       "grid_gap": null,
       "grid_row": null,
       "grid_template_areas": null,
       "grid_template_columns": null,
       "grid_template_rows": null,
       "height": "16em",
       "justify_content": null,
       "justify_items": null,
       "left": null,
       "margin": null,
       "max_height": null,
       "max_width": null,
       "min_height": null,
       "min_width": null,
       "object_fit": null,
       "object_position": null,
       "order": null,
       "overflow": null,
       "overflow_x": null,
       "overflow_y": "auto",
       "padding": null,
       "right": null,
       "top": null,
       "visibility": null,
       "width": "100%"
      }
     },
     "bc567dffcb1241bcba82bb710570a692": {
      "model_module": "@jupyter-widgets/controls",
      "model_module_version": "1.5.0",
      "model_name": "HTMLModel",
      "state": {
       "_dom_classes": [],
       "_model_module": "@jupyter-widgets/controls",
       "_model_module_version": "1.5.0",
       "_model_name": "HTMLModel",
       "_view_count": null,
       "_view_module": "@jupyter-widgets/controls",
       "_view_module_version": "1.5.0",
       "_view_name": "HTMLView",
       "description": "",
       "description_tooltip": null,
       "layout": "IPY_MODEL_6304e31735604ba795136ff90f4971cd",
       "placeholder": "​",
       "style": "IPY_MODEL_f96a85de6e9f495a84b8f46a91b2f237",
       "value": ""
      }
     },
     "bd7462332bb24460b9273082f507145f": {
      "model_module": "@jupyter-widgets/controls",
      "model_module_version": "1.5.0",
      "model_name": "HTMLModel",
      "state": {
       "_dom_classes": [],
       "_model_module": "@jupyter-widgets/controls",
       "_model_module_version": "1.5.0",
       "_model_name": "HTMLModel",
       "_view_count": null,
       "_view_module": "@jupyter-widgets/controls",
       "_view_module_version": "1.5.0",
       "_view_name": "HTMLView",
       "description": "",
       "description_tooltip": null,
       "layout": "IPY_MODEL_98f4a5354c6048cfbeae9fe379423f10",
       "placeholder": "​",
       "style": "IPY_MODEL_d5876216eb084ab295406cb7134795b1",
       "value": ""
      }
     },
     "be4453dd52524c35ab273cf2f736cd45": {
      "model_module": "@jupyter-widgets/controls",
      "model_module_version": "1.5.0",
      "model_name": "HTMLModel",
      "state": {
       "_dom_classes": [],
       "_model_module": "@jupyter-widgets/controls",
       "_model_module_version": "1.5.0",
       "_model_name": "HTMLModel",
       "_view_count": null,
       "_view_module": "@jupyter-widgets/controls",
       "_view_module_version": "1.5.0",
       "_view_name": "HTMLView",
       "description": "",
       "description_tooltip": null,
       "layout": "IPY_MODEL_584f69be0ad34b4dac269eb2b18c27d5",
       "placeholder": "​",
       "style": "IPY_MODEL_a6736f6546ee40b9a1259220666f6045",
       "value": ""
      }
     },
     "bf7a22eabe1e4529a1d5139f27b5ae75": {
      "model_module": "@jupyter-widgets/controls",
      "model_module_version": "1.5.0",
      "model_name": "DescriptionStyleModel",
      "state": {
       "_model_module": "@jupyter-widgets/controls",
       "_model_module_version": "1.5.0",
       "_model_name": "DescriptionStyleModel",
       "_view_count": null,
       "_view_module": "@jupyter-widgets/base",
       "_view_module_version": "1.2.0",
       "_view_name": "StyleView",
       "description_width": ""
      }
     },
     "c04e746e68fa48cfa15d9db18d1d8b5f": {
      "model_module": "@jupyter-widgets/base",
      "model_module_version": "1.2.0",
      "model_name": "LayoutModel",
      "state": {
       "_model_module": "@jupyter-widgets/base",
       "_model_module_version": "1.2.0",
       "_model_name": "LayoutModel",
       "_view_count": null,
       "_view_module": "@jupyter-widgets/base",
       "_view_module_version": "1.2.0",
       "_view_name": "LayoutView",
       "align_content": null,
       "align_items": null,
       "align_self": null,
       "border": null,
       "bottom": null,
       "display": null,
       "flex": null,
       "flex_flow": null,
       "grid_area": null,
       "grid_auto_columns": null,
       "grid_auto_flow": null,
       "grid_auto_rows": null,
       "grid_column": null,
       "grid_gap": null,
       "grid_row": null,
       "grid_template_areas": null,
       "grid_template_columns": null,
       "grid_template_rows": null,
       "height": "16em",
       "justify_content": null,
       "justify_items": null,
       "left": null,
       "margin": null,
       "max_height": null,
       "max_width": null,
       "min_height": null,
       "min_width": null,
       "object_fit": null,
       "object_position": null,
       "order": null,
       "overflow": null,
       "overflow_x": null,
       "overflow_y": "auto",
       "padding": null,
       "right": null,
       "top": null,
       "visibility": null,
       "width": "100%"
      }
     },
     "c32233fa389948e091966452ad023c1e": {
      "model_module": "@jupyter-widgets/base",
      "model_module_version": "1.2.0",
      "model_name": "LayoutModel",
      "state": {
       "_model_module": "@jupyter-widgets/base",
       "_model_module_version": "1.2.0",
       "_model_name": "LayoutModel",
       "_view_count": null,
       "_view_module": "@jupyter-widgets/base",
       "_view_module_version": "1.2.0",
       "_view_name": "LayoutView",
       "align_content": null,
       "align_items": null,
       "align_self": null,
       "border": null,
       "bottom": null,
       "display": null,
       "flex": null,
       "flex_flow": null,
       "grid_area": null,
       "grid_auto_columns": null,
       "grid_auto_flow": null,
       "grid_auto_rows": null,
       "grid_column": null,
       "grid_gap": null,
       "grid_row": null,
       "grid_template_areas": null,
       "grid_template_columns": null,
       "grid_template_rows": null,
       "height": "16em",
       "justify_content": null,
       "justify_items": null,
       "left": null,
       "margin": null,
       "max_height": null,
       "max_width": null,
       "min_height": null,
       "min_width": null,
       "object_fit": null,
       "object_position": null,
       "order": null,
       "overflow": null,
       "overflow_x": null,
       "overflow_y": "auto",
       "padding": null,
       "right": null,
       "top": null,
       "visibility": null,
       "width": "100%"
      }
     },
     "c387b7b08038457cb19fb1e6ead9b7ce": {
      "model_module": "@jupyter-widgets/base",
      "model_module_version": "1.2.0",
      "model_name": "LayoutModel",
      "state": {
       "_model_module": "@jupyter-widgets/base",
       "_model_module_version": "1.2.0",
       "_model_name": "LayoutModel",
       "_view_count": null,
       "_view_module": "@jupyter-widgets/base",
       "_view_module_version": "1.2.0",
       "_view_name": "LayoutView",
       "align_content": null,
       "align_items": null,
       "align_self": null,
       "border": null,
       "bottom": null,
       "display": null,
       "flex": null,
       "flex_flow": null,
       "grid_area": null,
       "grid_auto_columns": null,
       "grid_auto_flow": null,
       "grid_auto_rows": null,
       "grid_column": null,
       "grid_gap": null,
       "grid_row": null,
       "grid_template_areas": null,
       "grid_template_columns": null,
       "grid_template_rows": null,
       "height": null,
       "justify_content": null,
       "justify_items": null,
       "left": null,
       "margin": null,
       "max_height": null,
       "max_width": null,
       "min_height": null,
       "min_width": null,
       "object_fit": null,
       "object_position": null,
       "order": null,
       "overflow": null,
       "overflow_x": null,
       "overflow_y": null,
       "padding": null,
       "right": null,
       "top": null,
       "visibility": null,
       "width": null
      }
     },
     "c4811af8ef184aa6baab09e83a9f4bfa": {
      "model_module": "@jupyter-widgets/controls",
      "model_module_version": "1.5.0",
      "model_name": "AccordionModel",
      "state": {
       "_dom_classes": [],
       "_model_module": "@jupyter-widgets/controls",
       "_model_module_version": "1.5.0",
       "_model_name": "AccordionModel",
       "_titles": {
        "0": "Log Output"
       },
       "_view_count": null,
       "_view_module": "@jupyter-widgets/controls",
       "_view_module_version": "1.5.0",
       "_view_name": "AccordionView",
       "box_style": "",
       "children": [
        "IPY_MODEL_3d6a8b633e9640f9a91c446c44539124"
       ],
       "layout": "IPY_MODEL_840f9b33eb3142b0925371be767d92b0",
       "selected_index": null
      }
     },
     "c4adef122fd8436aa7074df7f582df5b": {
      "model_module": "@jupyter-widgets/base",
      "model_module_version": "1.2.0",
      "model_name": "LayoutModel",
      "state": {
       "_model_module": "@jupyter-widgets/base",
       "_model_module_version": "1.2.0",
       "_model_name": "LayoutModel",
       "_view_count": null,
       "_view_module": "@jupyter-widgets/base",
       "_view_module_version": "1.2.0",
       "_view_name": "LayoutView",
       "align_content": null,
       "align_items": null,
       "align_self": null,
       "border": null,
       "bottom": null,
       "display": null,
       "flex": null,
       "flex_flow": null,
       "grid_area": null,
       "grid_auto_columns": null,
       "grid_auto_flow": null,
       "grid_auto_rows": null,
       "grid_column": null,
       "grid_gap": null,
       "grid_row": null,
       "grid_template_areas": null,
       "grid_template_columns": null,
       "grid_template_rows": null,
       "height": null,
       "justify_content": null,
       "justify_items": null,
       "left": null,
       "margin": null,
       "max_height": null,
       "max_width": null,
       "min_height": null,
       "min_width": null,
       "object_fit": null,
       "object_position": null,
       "order": null,
       "overflow": null,
       "overflow_x": null,
       "overflow_y": null,
       "padding": null,
       "right": null,
       "top": null,
       "visibility": null,
       "width": null
      }
     },
     "c62de71d83fb404588dd1a3e012735f2": {
      "model_module": "@jupyter-widgets/controls",
      "model_module_version": "1.5.0",
      "model_name": "DescriptionStyleModel",
      "state": {
       "_model_module": "@jupyter-widgets/controls",
       "_model_module_version": "1.5.0",
       "_model_name": "DescriptionStyleModel",
       "_view_count": null,
       "_view_module": "@jupyter-widgets/base",
       "_view_module_version": "1.2.0",
       "_view_name": "StyleView",
       "description_width": ""
      }
     },
     "c82b736b326e40c3b9eae3518d84b296": {
      "model_module": "@jupyter-widgets/controls",
      "model_module_version": "1.5.0",
      "model_name": "DescriptionStyleModel",
      "state": {
       "_model_module": "@jupyter-widgets/controls",
       "_model_module_version": "1.5.0",
       "_model_name": "DescriptionStyleModel",
       "_view_count": null,
       "_view_module": "@jupyter-widgets/base",
       "_view_module_version": "1.2.0",
       "_view_name": "StyleView",
       "description_width": ""
      }
     },
     "c988a589156d44549140e76939f56900": {
      "model_module": "@jupyter-widgets/controls",
      "model_module_version": "1.5.0",
      "model_name": "AccordionModel",
      "state": {
       "_dom_classes": [],
       "_model_module": "@jupyter-widgets/controls",
       "_model_module_version": "1.5.0",
       "_model_name": "AccordionModel",
       "_titles": {
        "0": "Log Output"
       },
       "_view_count": null,
       "_view_module": "@jupyter-widgets/controls",
       "_view_module_version": "1.5.0",
       "_view_name": "AccordionView",
       "box_style": "",
       "children": [
        "IPY_MODEL_431a25bac868408f91d11f3840deb4ee"
       ],
       "layout": "IPY_MODEL_010a2d92110644d9b1b0da1ca9a18d5f",
       "selected_index": null
      }
     },
     "cb876c9b3b9249f7b738a6237ce6cc9e": {
      "model_module": "@jupyter-widgets/output",
      "model_module_version": "1.0.0",
      "model_name": "OutputModel",
      "state": {
       "_dom_classes": [],
       "_model_module": "@jupyter-widgets/output",
       "_model_module_version": "1.0.0",
       "_model_name": "OutputModel",
       "_view_count": null,
       "_view_module": "@jupyter-widgets/output",
       "_view_module_version": "1.0.0",
       "_view_name": "OutputView",
       "layout": "IPY_MODEL_6fdcd475942c4a46ae0f1fd61243e8c2",
       "msg_id": "",
       "outputs": [
        {
         "data": {
          "application/vnd.jupyter.widget-view+json": {
           "model_id": "fb68bbd6423a41e49be0c9a9430e3675",
           "version_major": 2,
           "version_minor": 0
          },
          "text/plain": "VTKPlot(antialias=3, axes=['x', 'y', 'z'], background_color=16777215, camera=[4.5, 4.5, 4.5, 0.0, 0.0, 0.0, 1.…"
         },
         "metadata": {},
         "output_type": "display_data"
        }
       ]
      }
     },
     "cc789eb5a8084338b0b6c843a03eeb00": {
      "model_module": "@jupyter-widgets/controls",
      "model_module_version": "1.5.0",
      "model_name": "AccordionModel",
      "state": {
       "_dom_classes": [],
       "_model_module": "@jupyter-widgets/controls",
       "_model_module_version": "1.5.0",
       "_model_name": "AccordionModel",
       "_titles": {
        "0": "Log Output"
       },
       "_view_count": null,
       "_view_module": "@jupyter-widgets/controls",
       "_view_module_version": "1.5.0",
       "_view_name": "AccordionView",
       "box_style": "",
       "children": [
        "IPY_MODEL_28d591c4464f4defb65220bfb745f705"
       ],
       "layout": "IPY_MODEL_12573b5d219041849daa995b33baf78f",
       "selected_index": null
      }
     },
     "ccbd19d3e4d546de8d3fa1c97ed36ae0": {
      "model_module": "@jupyter-widgets/controls",
      "model_module_version": "1.5.0",
      "model_name": "DescriptionStyleModel",
      "state": {
       "_model_module": "@jupyter-widgets/controls",
       "_model_module_version": "1.5.0",
       "_model_name": "DescriptionStyleModel",
       "_view_count": null,
       "_view_module": "@jupyter-widgets/base",
       "_view_module_version": "1.2.0",
       "_view_name": "StyleView",
       "description_width": ""
      }
     },
     "cd14b09f700e4d3f97d94e3d48c46fdd": {
      "model_module": "@jupyter-widgets/controls",
      "model_module_version": "1.5.0",
      "model_name": "AccordionModel",
      "state": {
       "_dom_classes": [],
       "_model_module": "@jupyter-widgets/controls",
       "_model_module_version": "1.5.0",
       "_model_name": "AccordionModel",
       "_titles": {
        "0": "Log Output"
       },
       "_view_count": null,
       "_view_module": "@jupyter-widgets/controls",
       "_view_module_version": "1.5.0",
       "_view_name": "AccordionView",
       "box_style": "",
       "children": [
        "IPY_MODEL_d06bdc17b0a043f896fc327fbc23e7d0"
       ],
       "layout": "IPY_MODEL_0059af0814d041efbd06925158e7be02",
       "selected_index": null
      }
     },
     "cef4806701fd4cb884de59d398e86b96": {
      "model_module": "@jupyter-widgets/base",
      "model_module_version": "1.2.0",
      "model_name": "LayoutModel",
      "state": {
       "_model_module": "@jupyter-widgets/base",
       "_model_module_version": "1.2.0",
       "_model_name": "LayoutModel",
       "_view_count": null,
       "_view_module": "@jupyter-widgets/base",
       "_view_module_version": "1.2.0",
       "_view_name": "LayoutView",
       "align_content": null,
       "align_items": null,
       "align_self": null,
       "border": null,
       "bottom": null,
       "display": null,
       "flex": null,
       "flex_flow": null,
       "grid_area": null,
       "grid_auto_columns": null,
       "grid_auto_flow": null,
       "grid_auto_rows": null,
       "grid_column": null,
       "grid_gap": null,
       "grid_row": null,
       "grid_template_areas": null,
       "grid_template_columns": null,
       "grid_template_rows": null,
       "height": "16em",
       "justify_content": null,
       "justify_items": null,
       "left": null,
       "margin": null,
       "max_height": null,
       "max_width": null,
       "min_height": null,
       "min_width": null,
       "object_fit": null,
       "object_position": null,
       "order": null,
       "overflow": null,
       "overflow_x": null,
       "overflow_y": "auto",
       "padding": null,
       "right": null,
       "top": null,
       "visibility": null,
       "width": "100%"
      }
     },
     "d06bdc17b0a043f896fc327fbc23e7d0": {
      "model_module": "@jupyter-widgets/controls",
      "model_module_version": "1.5.0",
      "model_name": "HTMLModel",
      "state": {
       "_dom_classes": [],
       "_model_module": "@jupyter-widgets/controls",
       "_model_module_version": "1.5.0",
       "_model_name": "HTMLModel",
       "_view_count": null,
       "_view_module": "@jupyter-widgets/controls",
       "_view_module_version": "1.5.0",
       "_view_name": "HTMLView",
       "description": "",
       "description_tooltip": null,
       "layout": "IPY_MODEL_801284a3c1f7487baeb68de4c064b51c",
       "placeholder": "​",
       "style": "IPY_MODEL_bf7a22eabe1e4529a1d5139f27b5ae75",
       "value": ""
      }
     },
     "d11b076b7f62449abfadb3db1c3823ca": {
      "model_module": "@jupyter-widgets/base",
      "model_module_version": "1.2.0",
      "model_name": "LayoutModel",
      "state": {
       "_model_module": "@jupyter-widgets/base",
       "_model_module_version": "1.2.0",
       "_model_name": "LayoutModel",
       "_view_count": null,
       "_view_module": "@jupyter-widgets/base",
       "_view_module_version": "1.2.0",
       "_view_name": "LayoutView",
       "align_content": null,
       "align_items": null,
       "align_self": null,
       "border": null,
       "bottom": null,
       "display": null,
       "flex": null,
       "flex_flow": null,
       "grid_area": null,
       "grid_auto_columns": null,
       "grid_auto_flow": null,
       "grid_auto_rows": null,
       "grid_column": null,
       "grid_gap": null,
       "grid_row": null,
       "grid_template_areas": null,
       "grid_template_columns": null,
       "grid_template_rows": null,
       "height": "16em",
       "justify_content": null,
       "justify_items": null,
       "left": null,
       "margin": null,
       "max_height": null,
       "max_width": null,
       "min_height": null,
       "min_width": null,
       "object_fit": null,
       "object_position": null,
       "order": null,
       "overflow": null,
       "overflow_x": null,
       "overflow_y": "auto",
       "padding": null,
       "right": null,
       "top": null,
       "visibility": null,
       "width": "100%"
      }
     },
     "d1472a60bf454e52adffea5b61f56650": {
      "model_module": "@jupyter-widgets/controls",
      "model_module_version": "1.5.0",
      "model_name": "HTMLModel",
      "state": {
       "_dom_classes": [],
       "_model_module": "@jupyter-widgets/controls",
       "_model_module_version": "1.5.0",
       "_model_name": "HTMLModel",
       "_view_count": null,
       "_view_module": "@jupyter-widgets/controls",
       "_view_module_version": "1.5.0",
       "_view_name": "HTMLView",
       "description": "",
       "description_tooltip": null,
       "layout": "IPY_MODEL_417a8a8471bd4080b81b21efd0efdf44",
       "placeholder": "​",
       "style": "IPY_MODEL_606ab9d7a0ee4921b4c6da1d5772af1a",
       "value": ""
      }
     },
     "d26801a53edf4aad8c918d25c6ee474a": {
      "model_module": "@jupyter-widgets/controls",
      "model_module_version": "1.5.0",
      "model_name": "AccordionModel",
      "state": {
       "_dom_classes": [],
       "_model_module": "@jupyter-widgets/controls",
       "_model_module_version": "1.5.0",
       "_model_name": "AccordionModel",
       "_titles": {
        "0": "Log Output"
       },
       "_view_count": null,
       "_view_module": "@jupyter-widgets/controls",
       "_view_module_version": "1.5.0",
       "_view_name": "AccordionView",
       "box_style": "",
       "children": [
        "IPY_MODEL_bc567dffcb1241bcba82bb710570a692"
       ],
       "layout": "IPY_MODEL_4e534cd42d5849d89bc8cae2ca2b8b99",
       "selected_index": null
      }
     },
     "d2b8784d8c90401ea0b8d3ea3008c832": {
      "model_module": "@jupyter-widgets/controls",
      "model_module_version": "1.5.0",
      "model_name": "HTMLModel",
      "state": {
       "_dom_classes": [],
       "_model_module": "@jupyter-widgets/controls",
       "_model_module_version": "1.5.0",
       "_model_name": "HTMLModel",
       "_view_count": null,
       "_view_module": "@jupyter-widgets/controls",
       "_view_module_version": "1.5.0",
       "_view_name": "HTMLView",
       "description": "",
       "description_tooltip": null,
       "layout": "IPY_MODEL_c32233fa389948e091966452ad023c1e",
       "placeholder": "​",
       "style": "IPY_MODEL_90d42de2eff847a3ba6b94aeff4d5088",
       "value": ""
      }
     },
     "d2c5db4e206d4d96a67fb10cba977357": {
      "model_module": "@jupyter-widgets/controls",
      "model_module_version": "1.5.0",
      "model_name": "AccordionModel",
      "state": {
       "_dom_classes": [],
       "_model_module": "@jupyter-widgets/controls",
       "_model_module_version": "1.5.0",
       "_model_name": "AccordionModel",
       "_titles": {
        "0": "Log Output"
       },
       "_view_count": null,
       "_view_module": "@jupyter-widgets/controls",
       "_view_module_version": "1.5.0",
       "_view_name": "AccordionView",
       "box_style": "",
       "children": [
        "IPY_MODEL_2add39aff949497bb8c2e7d2bad696bd"
       ],
       "layout": "IPY_MODEL_725cbd7c57a346488962ed5808e534b4",
       "selected_index": null
      }
     },
     "d5876216eb084ab295406cb7134795b1": {
      "model_module": "@jupyter-widgets/controls",
      "model_module_version": "1.5.0",
      "model_name": "DescriptionStyleModel",
      "state": {
       "_model_module": "@jupyter-widgets/controls",
       "_model_module_version": "1.5.0",
       "_model_name": "DescriptionStyleModel",
       "_view_count": null,
       "_view_module": "@jupyter-widgets/base",
       "_view_module_version": "1.2.0",
       "_view_name": "StyleView",
       "description_width": ""
      }
     },
     "db3b45abdac04ea59365e2985f29b730": {
      "model_module": "@jupyter-widgets/base",
      "model_module_version": "1.2.0",
      "model_name": "LayoutModel",
      "state": {
       "_model_module": "@jupyter-widgets/base",
       "_model_module_version": "1.2.0",
       "_model_name": "LayoutModel",
       "_view_count": null,
       "_view_module": "@jupyter-widgets/base",
       "_view_module_version": "1.2.0",
       "_view_name": "LayoutView",
       "align_content": null,
       "align_items": null,
       "align_self": null,
       "border": null,
       "bottom": null,
       "display": null,
       "flex": null,
       "flex_flow": null,
       "grid_area": null,
       "grid_auto_columns": null,
       "grid_auto_flow": null,
       "grid_auto_rows": null,
       "grid_column": null,
       "grid_gap": null,
       "grid_row": null,
       "grid_template_areas": null,
       "grid_template_columns": null,
       "grid_template_rows": null,
       "height": null,
       "justify_content": null,
       "justify_items": null,
       "left": null,
       "margin": null,
       "max_height": null,
       "max_width": null,
       "min_height": null,
       "min_width": null,
       "object_fit": null,
       "object_position": null,
       "order": null,
       "overflow": null,
       "overflow_x": null,
       "overflow_y": null,
       "padding": null,
       "right": null,
       "top": null,
       "visibility": null,
       "width": null
      }
     },
     "dbfa6c7d4682455db8f997f99415cd12": {
      "model_module": "@jupyter-widgets/base",
      "model_module_version": "1.2.0",
      "model_name": "LayoutModel",
      "state": {
       "_model_module": "@jupyter-widgets/base",
       "_model_module_version": "1.2.0",
       "_model_name": "LayoutModel",
       "_view_count": null,
       "_view_module": "@jupyter-widgets/base",
       "_view_module_version": "1.2.0",
       "_view_name": "LayoutView",
       "align_content": null,
       "align_items": null,
       "align_self": null,
       "border": null,
       "bottom": null,
       "display": null,
       "flex": null,
       "flex_flow": null,
       "grid_area": null,
       "grid_auto_columns": null,
       "grid_auto_flow": null,
       "grid_auto_rows": null,
       "grid_column": null,
       "grid_gap": null,
       "grid_row": null,
       "grid_template_areas": null,
       "grid_template_columns": null,
       "grid_template_rows": null,
       "height": null,
       "justify_content": null,
       "justify_items": null,
       "left": null,
       "margin": null,
       "max_height": null,
       "max_width": null,
       "min_height": null,
       "min_width": null,
       "object_fit": null,
       "object_position": null,
       "order": null,
       "overflow": null,
       "overflow_x": null,
       "overflow_y": null,
       "padding": null,
       "right": null,
       "top": null,
       "visibility": null,
       "width": null
      }
     },
     "df7016ccf6c644949137af9f2a7580bd": {
      "model_module": "@jupyter-widgets/controls",
      "model_module_version": "1.5.0",
      "model_name": "AccordionModel",
      "state": {
       "_dom_classes": [],
       "_model_module": "@jupyter-widgets/controls",
       "_model_module_version": "1.5.0",
       "_model_name": "AccordionModel",
       "_titles": {
        "0": "Log Output"
       },
       "_view_count": null,
       "_view_module": "@jupyter-widgets/controls",
       "_view_module_version": "1.5.0",
       "_view_name": "AccordionView",
       "box_style": "",
       "children": [
        "IPY_MODEL_bd7462332bb24460b9273082f507145f"
       ],
       "layout": "IPY_MODEL_c387b7b08038457cb19fb1e6ead9b7ce",
       "selected_index": null
      }
     },
     "e58dd3c5a5984b0bad27c8ff3faa5423": {
      "model_module": "@jupyter-widgets/base",
      "model_module_version": "1.2.0",
      "model_name": "LayoutModel",
      "state": {
       "_model_module": "@jupyter-widgets/base",
       "_model_module_version": "1.2.0",
       "_model_name": "LayoutModel",
       "_view_count": null,
       "_view_module": "@jupyter-widgets/base",
       "_view_module_version": "1.2.0",
       "_view_name": "LayoutView",
       "align_content": null,
       "align_items": null,
       "align_self": null,
       "border": null,
       "bottom": null,
       "display": null,
       "flex": null,
       "flex_flow": null,
       "grid_area": null,
       "grid_auto_columns": null,
       "grid_auto_flow": null,
       "grid_auto_rows": null,
       "grid_column": null,
       "grid_gap": null,
       "grid_row": null,
       "grid_template_areas": null,
       "grid_template_columns": null,
       "grid_template_rows": null,
       "height": null,
       "justify_content": null,
       "justify_items": null,
       "left": null,
       "margin": null,
       "max_height": null,
       "max_width": null,
       "min_height": null,
       "min_width": null,
       "object_fit": null,
       "object_position": null,
       "order": null,
       "overflow": null,
       "overflow_x": null,
       "overflow_y": null,
       "padding": null,
       "right": null,
       "top": null,
       "visibility": null,
       "width": null
      }
     },
     "ed59b40fc38e45b6852948c1eb7f87c0": {
      "model_module": "@jupyter-widgets/base",
      "model_module_version": "1.2.0",
      "model_name": "LayoutModel",
      "state": {
       "_model_module": "@jupyter-widgets/base",
       "_model_module_version": "1.2.0",
       "_model_name": "LayoutModel",
       "_view_count": null,
       "_view_module": "@jupyter-widgets/base",
       "_view_module_version": "1.2.0",
       "_view_name": "LayoutView",
       "align_content": null,
       "align_items": null,
       "align_self": null,
       "border": null,
       "bottom": null,
       "display": null,
       "flex": null,
       "flex_flow": null,
       "grid_area": null,
       "grid_auto_columns": null,
       "grid_auto_flow": null,
       "grid_auto_rows": null,
       "grid_column": null,
       "grid_gap": null,
       "grid_row": null,
       "grid_template_areas": null,
       "grid_template_columns": null,
       "grid_template_rows": null,
       "height": "16em",
       "justify_content": null,
       "justify_items": null,
       "left": null,
       "margin": null,
       "max_height": null,
       "max_width": null,
       "min_height": null,
       "min_width": null,
       "object_fit": null,
       "object_position": null,
       "order": null,
       "overflow": null,
       "overflow_x": null,
       "overflow_y": "auto",
       "padding": null,
       "right": null,
       "top": null,
       "visibility": null,
       "width": "100%"
      }
     },
     "ee2eae48de784828be550235565676e4": {
      "model_module": "@jupyter-widgets/controls",
      "model_module_version": "1.5.0",
      "model_name": "DescriptionStyleModel",
      "state": {
       "_model_module": "@jupyter-widgets/controls",
       "_model_module_version": "1.5.0",
       "_model_name": "DescriptionStyleModel",
       "_view_count": null,
       "_view_module": "@jupyter-widgets/base",
       "_view_module_version": "1.2.0",
       "_view_name": "StyleView",
       "description_width": ""
      }
     },
     "ee388f773bea43299b35b2c6dfbb0d93": {
      "model_module": "@jupyter-widgets/controls",
      "model_module_version": "1.5.0",
      "model_name": "DescriptionStyleModel",
      "state": {
       "_model_module": "@jupyter-widgets/controls",
       "_model_module_version": "1.5.0",
       "_model_name": "DescriptionStyleModel",
       "_view_count": null,
       "_view_module": "@jupyter-widgets/base",
       "_view_module_version": "1.2.0",
       "_view_name": "StyleView",
       "description_width": ""
      }
     },
     "f29c54368ecd4e1281a7ef69923f4b48": {
      "model_module": "@jupyter-widgets/output",
      "model_module_version": "1.0.0",
      "model_name": "OutputModel",
      "state": {
       "_dom_classes": [],
       "_model_module": "@jupyter-widgets/output",
       "_model_module_version": "1.0.0",
       "_model_name": "OutputModel",
       "_view_count": null,
       "_view_module": "@jupyter-widgets/output",
       "_view_module_version": "1.0.0",
       "_view_name": "OutputView",
       "layout": "IPY_MODEL_b2eaac2783654edf804c858472c90b07",
       "msg_id": "",
       "outputs": [
        {
         "data": {
          "application/vnd.jupyter.widget-view+json": {
           "model_id": "813e39d682e64a33b11713fbf95447dd",
           "version_major": 2,
           "version_minor": 0
          },
          "text/plain": "VTKPlot(antialias=3, axes=['x', 'y', 'z'], background_color=16777215, camera=[4.5, 4.5, 4.5, 0.0, 0.0, 0.0, 1.…"
         },
         "metadata": {},
         "output_type": "display_data"
        }
       ]
      }
     },
     "f48db066d0334a11b4ceb9444987b17d": {
      "model_module": "k3d",
      "model_module_version": "2.6.6",
      "model_name": "PlotModel",
      "state": {
       "_backend_version": "2.6.6",
       "_dom_classes": [],
       "_model_module": "k3d",
       "_model_module_version": "2.6.6",
       "_model_name": "PlotModel",
       "_view_count": null,
       "_view_module": "k3d",
       "_view_module_version": "2.6.6",
       "_view_name": "PlotView",
       "antialias": 3,
       "axes": [
        "x",
        "y",
        "z"
       ],
       "background_color": 16777215,
       "camera": [
        0.5,
        0.5,
        0.8660254037844387,
        0.5,
        0.5,
        0.0,
        0,
        1,
        0
       ],
       "camera_auto_fit": false,
       "camera_no_pan": true,
       "camera_no_rotate": true,
       "camera_no_zoom": true,
       "clipping_planes": [],
       "colorbar_object_id": -1,
       "fps_meter": false,
       "grid": [
        0.0,
        0.0,
        0.0,
        1.0,
        1.0,
        0.0
       ],
       "grid_auto_fit": false,
       "grid_visible": false,
       "height": 512,
       "layout": "IPY_MODEL_948deaa05d0b4d5dbd885d4ecbd5381b",
       "lighting": 1.0,
       "menu_visibility": false,
       "object_ids": [
        140007146725584
       ],
       "rendering_steps": 1,
       "screenshot": "",
       "screenshot_scale": 2.0,
       "time": 0.0,
       "voxel_paint_color": 0
      }
     },
     "f83e93b5a82e4a319731d7b9bc971516": {
      "model_module": "@jupyter-widgets/controls",
      "model_module_version": "1.5.0",
      "model_name": "HTMLModel",
      "state": {
       "_dom_classes": [],
       "_model_module": "@jupyter-widgets/controls",
       "_model_module_version": "1.5.0",
       "_model_name": "HTMLModel",
       "_view_count": null,
       "_view_module": "@jupyter-widgets/controls",
       "_view_module_version": "1.5.0",
       "_view_name": "HTMLView",
       "description": "",
       "description_tooltip": null,
       "layout": "IPY_MODEL_3f5592872c7849029d0a0d4deb564df6",
       "placeholder": "​",
       "style": "IPY_MODEL_fcc4780ef72940dc95e61f21bf80d7ba",
       "value": ""
      }
     },
     "f8dbd0b0475942bb8d4f5d6a07863b1a": {
      "model_module": "@jupyter-widgets/base",
      "model_module_version": "1.2.0",
      "model_name": "LayoutModel",
      "state": {
       "_model_module": "@jupyter-widgets/base",
       "_model_module_version": "1.2.0",
       "_model_name": "LayoutModel",
       "_view_count": null,
       "_view_module": "@jupyter-widgets/base",
       "_view_module_version": "1.2.0",
       "_view_name": "LayoutView",
       "align_content": null,
       "align_items": null,
       "align_self": null,
       "border": null,
       "bottom": null,
       "display": null,
       "flex": null,
       "flex_flow": null,
       "grid_area": null,
       "grid_auto_columns": null,
       "grid_auto_flow": null,
       "grid_auto_rows": null,
       "grid_column": null,
       "grid_gap": null,
       "grid_row": null,
       "grid_template_areas": null,
       "grid_template_columns": null,
       "grid_template_rows": null,
       "height": "16em",
       "justify_content": null,
       "justify_items": null,
       "left": null,
       "margin": null,
       "max_height": null,
       "max_width": null,
       "min_height": null,
       "min_width": null,
       "object_fit": null,
       "object_position": null,
       "order": null,
       "overflow": null,
       "overflow_x": null,
       "overflow_y": "auto",
       "padding": null,
       "right": null,
       "top": null,
       "visibility": null,
       "width": "100%"
      }
     },
     "f96a85de6e9f495a84b8f46a91b2f237": {
      "model_module": "@jupyter-widgets/controls",
      "model_module_version": "1.5.0",
      "model_name": "DescriptionStyleModel",
      "state": {
       "_model_module": "@jupyter-widgets/controls",
       "_model_module_version": "1.5.0",
       "_model_name": "DescriptionStyleModel",
       "_view_count": null,
       "_view_module": "@jupyter-widgets/base",
       "_view_module_version": "1.2.0",
       "_view_name": "StyleView",
       "description_width": ""
      }
     },
     "fb68bbd6423a41e49be0c9a9430e3675": {
      "model_module": "k3d",
      "model_module_version": "2.6.6",
      "model_name": "PlotModel",
      "state": {
       "_backend_version": "2.6.6",
       "_dom_classes": [],
       "_model_module": "k3d",
       "_model_module_version": "2.6.6",
       "_model_name": "PlotModel",
       "_view_count": null,
       "_view_module": "k3d",
       "_view_module_version": "2.6.6",
       "_view_name": "PlotView",
       "antialias": 3,
       "axes": [
        "x",
        "y",
        "z"
       ],
       "background_color": 16777215,
       "camera": [
        0.5,
        0.5,
        0.8660254037844387,
        0.5,
        0.5,
        0.0,
        0,
        1,
        0
       ],
       "camera_auto_fit": false,
       "camera_no_pan": true,
       "camera_no_rotate": true,
       "camera_no_zoom": true,
       "clipping_planes": [],
       "colorbar_object_id": -1,
       "fps_meter": false,
       "grid": [
        0.0,
        0.0,
        0.0,
        1.0,
        1.0,
        0.0
       ],
       "grid_auto_fit": false,
       "grid_visible": false,
       "height": 512,
       "layout": "IPY_MODEL_e58dd3c5a5984b0bad27c8ff3faa5423",
       "lighting": 1.0,
       "menu_visibility": false,
       "object_ids": [
        140007146691120
       ],
       "rendering_steps": 1,
       "screenshot": "",
       "screenshot_scale": 2.0,
       "time": 0.0,
       "voxel_paint_color": 0
      }
     },
     "fbae8fc560354d65a96632a23c0be19a": {
      "model_module": "@jupyter-widgets/controls",
      "model_module_version": "1.5.0",
      "model_name": "DescriptionStyleModel",
      "state": {
       "_model_module": "@jupyter-widgets/controls",
       "_model_module_version": "1.5.0",
       "_model_name": "DescriptionStyleModel",
       "_view_count": null,
       "_view_module": "@jupyter-widgets/base",
       "_view_module_version": "1.2.0",
       "_view_name": "StyleView",
       "description_width": ""
      }
     },
     "fcc4780ef72940dc95e61f21bf80d7ba": {
      "model_module": "@jupyter-widgets/controls",
      "model_module_version": "1.5.0",
      "model_name": "DescriptionStyleModel",
      "state": {
       "_model_module": "@jupyter-widgets/controls",
       "_model_module_version": "1.5.0",
       "_model_name": "DescriptionStyleModel",
       "_view_count": null,
       "_view_module": "@jupyter-widgets/base",
       "_view_module_version": "1.2.0",
       "_view_name": "StyleView",
       "description_width": ""
      }
     }
    },
    "version_major": 2,
    "version_minor": 0
   }
  }
 },
 "nbformat": 4,
 "nbformat_minor": 5
}