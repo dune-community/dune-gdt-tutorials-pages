{
 "cells": [
  {
   "cell_type": "markdown",
   "id": "c2d99e4a",
   "metadata": {},
   "source": [
    "```{try_on_binder}\n",
    "```"
   ]
  },
  {
   "cell_type": "code",
   "execution_count": 1,
   "id": "778de88e",
   "metadata": {
    "load": "myst_code_init.py",
    "tags": [
     "remove-cell"
    ]
   },
   "outputs": [],
   "source": [
    "from IPython import get_ipython\n",
    "\n",
    "ip = get_ipython()\n",
    "if ip is not None:\n",
    "    # ip.run_line_magic('load_ext', 'pymor.discretizers.builtin.gui.jupyter')\n",
    "    ip.run_line_magic(\"matplotlib\", \"inline\")\n",
    "\n",
    "import warnings\n",
    "\n",
    "warnings.filterwarnings(\"ignore\", category=UserWarning, module=\"torch\")\n"
   ]
  },
  {
   "cell_type": "markdown",
   "id": "abb8b299",
   "metadata": {},
   "source": [
    "# Tutorial: continuous FEM for the stationary heat equation\n",
    "\n",
    "This tutorial shows how to solve the stationary heat equation using continuous Finite Elements with `dune-gdt`.\n",
    "\n",
    "This is work in progress [WIP], still missing:\n",
    "\n",
    "* Neumann boundary values\n",
    "* Robin boundary values"
   ]
  },
  {
   "cell_type": "code",
   "execution_count": 2,
   "id": "7e898eb2",
   "metadata": {},
   "outputs": [],
   "source": [
    "# wurlitzer: display dune's output in the notebook\n",
    "%load_ext wurlitzer\n",
    "%matplotlib notebook\n",
    "\n",
    "import numpy as np\n",
    "np.warnings.filterwarnings('ignore') # silence numpys warnings"
   ]
  },
  {
   "cell_type": "markdown",
   "id": "98c99481",
   "metadata": {},
   "source": [
    "## diffusion with homogeneous Dirichlet boundary condition\n",
    "\n",
    "### analytical problem\n",
    "\n",
    "Let $\\Omega \\subset \\mathbb{R}^d$ for $1 \\leq d \\leq 3$ be a bounded connected domain with Lipschitz-boundary $\\partial\\Omega$. We seek the solution $u \\in H^1_0(\\Omega)$ of the **linear diffusion equation** (with a homogeneous Dirichlet boundary condition)\n",
    "\n",
    "$$\\begin{align}\n",
    "- \\nabla\\cdot(\\kappa\\nabla u) &= f &&\\text{in } \\Omega,\\label{eq:diff:pde}\\\\\n",
    "u &= 0 &&\\text{on } \\partial\\Omega,\n",
    "\\end{align}$$\n",
    "\n",
    "in a weak sense, where $\\kappa \\in [L^\\infty(\\Omega)]^{d \\times d}$ denotes a given diffusion function and $f \\in L^2(\\Omega)$ denotes a given source function.\n",
    "\n",
    "The variational problem associated with $\\eqref{eq:diff:pde}$ reads: find $u \\in H^1_0(\\Omega)$, such that\n",
    "\n",
    "$$\\begin{align}\n",
    "a(u, v) &= l(v) &&\\text{for all }v \\in V,\\label{eq:diff:variational_problem}\n",
    "\\end{align}$$\n",
    "\n",
    "where the bilinear form $a: H^1(\\Omega) \\times H^1(\\Omega) \\to \\mathbb{R}$ and the linear functional $l \\in H^{-1}(\\Omega)$ are given by\n",
    "\n",
    "$$\\begin{align}\n",
    "a(u, v) := \\int_\\Omega (\\kappa\\nabla u)\\cdot v \\,\\text{d}x &&\\text{and}&& l(v) := \\int_\\Omega f\\,\\,\\text{d}x,\\label{eq:diff:a_and_l}\n",
    "\\end{align}$$\n",
    "\n",
    "respectively.\n",
    "\n",
    "\n",
    "Consider for example $\\eqref{eq:diff:pde}$ with:\n",
    "\n",
    "* $d = 2$\n",
    "* $\\Omega = [0, 1]^2$\n",
    "* $\\kappa = 1$\n",
    "* $f = \\exp(x_0 x_1)$"
   ]
  },
  {
   "cell_type": "code",
   "execution_count": 3,
   "id": "7bcee350",
   "metadata": {},
   "outputs": [],
   "source": [
    "from dune.xt.grid import Dim\n",
    "from dune.xt.functions import ConstantFunction, ExpressionFunction\n",
    "\n",
    "d = 2\n",
    "omega = ([0, 0], [1, 1])\n",
    "\n",
    "kappa = ConstantFunction(dim_domain=Dim(d), dim_range=Dim(1), value=[1.], name='kappa')\n",
    "# note that we need to prescribe the approximation order,\n",
    "# which determines the quadrature on each element\n",
    "f = ExpressionFunction(\n",
    "    dim_domain=Dim(d), variable='x', expression='exp(x[0]*x[1])', order=3, name='f')"
   ]
  },
  {
   "cell_type": "markdown",
   "id": "3a0d5de6",
   "metadata": {},
   "source": [
    "### continuous Finite Elements\n",
    "\n",
    "Let us for simplicity consider a simplicial **grid** $\\mathcal{T}_h$ (other types of elements work analogously) as a partition of $\\Omega$ into elements $K \\in \\mathcal{T}_h$ with $h := \\max_{K \\in \\mathcal{T}_h} \\text{diam}(K)$, we consider the discrete space of continuous piecewise polynomial functions of order $k \\in \\mathbb{N}$,\n",
    "\n",
    "$$\\begin{align}\n",
    "V_h := \\big\\{ v \\in C^0(\\Omega) \\;\\big|\\; v|_K \\in \\mathbb{P}^k(K) \\big\\}\\label{eq:V_h}\n",
    "\\end{align}$$\n",
    "\n",
    "where $\\mathbb{P}^k(K)$ denotes the space of polynomials of (total) degree up to $k$ (*note that $V_h \\subset H^1(\\Omega)$ and $V_h$ does not include the Dirichlet boundary condition, thus $V_h \\not\\subset H^1_0(\\Omega$.*). We obtain a finite-dimensional variational problem by Galerkin-projection of $\\eqref{eq:diff:variational_problem}$ onto $V_h$, thas is: we seek the approximate solution $u_h \\in V_h \\cap H^1_0(\\Omega)$, such that\n",
    "\n",
    "$$\\begin{align}\n",
    "a(u_h, v_h) &= l(v_h) &&\\text{for all }v_h \\in V_h \\cap H^1_0(\\Omega).\\label{eq:diff:discrete_variational_problem}\n",
    "\\end{align}$$\n",
    "\n",
    "A basis of $V_h$ is given by the Lagrangian basis functions\n",
    "\n",
    "$$\\begin{align}\n",
    "\\varPhi := \\big\\{\\varphi_1, \\dots, \\varphi_N\\big\\}\\label{eq:lagrangian_basis}\n",
    "\\end{align}$$\n",
    "\n",
    "of order $k$ (e.g., the usual hat-functions for $k = 1$, which we consider from here on), with $N := \\text{dim}(V_h)$. As usual, each of these *global* basis functions, if restricted to a grid element, is given by the concatenation of a *local* shape function and the reference map: given\n",
    "\n",
    "* the invertible affine **reference map** $F_K: \\hat{K} \\to K$ for all $K \\in \\mathcal{T}_h$, such that $\\hat{x} \\mapsto x := F_K(\\hat{x})$, where $\\hat{K}$ is the reference element associated with $K$,\n",
    "* a set of Lagrangian **shape functions** $\\{\\hat{\\varphi}_1, \\dots, \\hat{\\varphi}_{d + 1}\\} \\in \\mathbb{P}^1(K)$, each associated with a vertex $\\hat{a}_1, \\dots, \\hat{a}_{d + 1}$ of the reference element $\\hat{K}$ and\n",
    "* a **DoF mapping** $\\sigma_K: \\{1, \\dots, d + 1\\} \\to \\{1, \\dots, N\\}$ for all $K \\in \\mathcal{T}_h$, which associates the *local* index $\\hat{i} \\in \\{1, \\dots, d + 1\\}$ of a vertex $\\hat{a}_{\\hat{i}}$ of the reference element $\\hat{K}$ with the *global* index $i \\in \\{1, \\dots, N\\}$ of the vertex $a_i := F_K(\\hat{a}_\\hat{i})$ in the grid $\\mathcal{T}_h$.\n",
    "\n",
    "The DoF mapping as well as a localizable global basis is provided by a **discrete function space** in `dune-gdt`.\n",
    "We thus have\n",
    "\n",
    "$$\\begin{align}\n",
    "\\varphi_i|_K &= \\hat{\\varphi}_\\hat{i}\\circ F_K^{-1} &&\\text{and}\\\\\n",
    "(\\nabla\\varphi_i)|_K &= \\nabla\\big(\\hat{\\varphi}_\\hat{i}\\circ F_K^{-1}\\big) = \\nabla F_K^{-1} \\cdot \\big(\\nabla\\hat{\\varphi}_\\hat{i}\\circ F_K^{-1}\\big),\n",
    "\\end{align}$$\n",
    "\n",
    "owing to the chain rule, with $i := \\sigma_K(\\hat{i})$ for all $1 \\leq \\hat{i} \\leq d+1$ and all $K \\in \\mathcal{T}_h$.\n",
    "\n",
    "To obtain the algebraic analogue to $\\eqref{eq:diff:discrete_variational_problem}$, we\n",
    "\n",
    "* replace the bilinear form and functional by discrete counterparts acting on $V_h$, namely $a_h: V_h \\times V_h \\to \\mathbb{R}$ and $l_h \\in V_h'$ (the construction of which is detailed further below) and\n",
    "\n",
    "* assemble the respective basis representations of $a_h$ and $l_h$ w.r.t. the basis of $V_h$ into a matrix $\\underline{a_h} \\in \\mathbb{R}^{N \\times N}$ and vector $\\underline{l_h} \\in \\mathbb{R}^N$, given by\n",
    "  $$\\begin{align}\n",
    "  (\\underline{a_h})_{i, j} := a_h(\\varphi_j, \\varphi_i) &&\\text{and}&& (\\underline{l_h})_i := l_h(\\varphi_i),\n",
    "  \\end{align}$$\n",
    "  respectively, for $1 \\leq i, j \\leq N$;\n",
    "* and obtain the restrictions of $\\underline{a_h}$ and $\\underline{l_h}$ to $V_h \\cap H^1_0(\\Omega)$ by modifying all entries associated with basis functions defined on the Dirichlet boundary: for each index $i \\in \\{1, \\dots N\\}$, where the Lagrange-point defining the basis function $\\varphi_i$ lies on the Dirichlet boundary $\\partial\\Omega$, we set\n",
    "  the $i$th row of $\\underline{a_h}$ to a unit row and clear the $i$th entry of $\\underline{l_h}$.\n",
    "\n",
    "\n",
    "The algebraic version of $\\eqref{eq:diff:discrete_variational_problem}$ then reads: find the vector of degrees of freedom (DoF) $\\underline{u_h} \\in \\mathbb{R}^N$, such that\n",
    "\n",
    "$$\\begin{align}\n",
    "\\underline{a_h}\\;\\underline{u_h} = \\underline{l_h}.\n",
    "\\end{align}$$\n",
    "\n",
    "After solving the above linear system, we recover the solution of $\\eqref{eq:diff:discrete_variational_problem}$ from its basis representation $u_h = \\sum_{i=1}^{N}\\underline{u_h}_i \\varphi_i$.\n",
    "\n",
    "\n",
    "\n",
    "We consider for example a structured simplicial grid with 16 triangles."
   ]
  },
  {
   "cell_type": "code",
   "execution_count": 4,
   "id": "dd801b5b",
   "metadata": {},
   "outputs": [
    {
     "name": "stderr",
     "output_type": "stream",
     "text": [
      "GridParameterBlock: Parameter 'refinementedge' not specified, defaulting to 'ARBITRARY'.\n"
     ]
    },
    {
     "name": "stdout",
     "output_type": "stream",
     "text": [
      "grid has 16 elements, 28 edges and 13 vertices\n"
     ]
    },
    {
     "data": {
      "application/vnd.jupyter.widget-view+json": {
       "model_id": "312daf3128c64ce0990ddaa038d802aa",
       "version_major": 2,
       "version_minor": 0
      },
      "text/plain": [
       "Output()"
      ]
     },
     "metadata": {},
     "output_type": "display_data"
    }
   ],
   "source": [
    "from dune.xt.grid import Simplex, make_cube_grid, AllDirichletBoundaryInfo, visualize_grid\n",
    "\n",
    "grid = make_cube_grid(Dim(d), Simplex(),\n",
    "                      lower_left=omega[0], upper_right=omega[1], num_elements=[2, 2])\n",
    "grid.global_refine(1)  # we need to refine once to obtain a symmetric grid\n",
    "\n",
    "print(f'grid has {grid.size(0)} elements, '\n",
    "      f'{grid.size(d - 1)} edges and {grid.size(d)} vertices')\n",
    "\n",
    "boundary_info = AllDirichletBoundaryInfo(grid)\n",
    "\n",
    "_ = visualize_grid(grid)"
   ]
  },
  {
   "cell_type": "code",
   "execution_count": 5,
   "id": "2b8ea445",
   "metadata": {},
   "outputs": [
    {
     "name": "stdout",
     "output_type": "stream",
     "text": [
      "V_h has 13 DoFs\n"
     ]
    }
   ],
   "source": [
    "from dune.gdt import ContinuousLagrangeSpace\n",
    "\n",
    "V_h = ContinuousLagrangeSpace(grid, order=1)\n",
    "\n",
    "print(f'V_h has {V_h.num_DoFs} DoFs')\n",
    "\n",
    "assert V_h.num_DoFs == grid.size(d)"
   ]
  },
  {
   "cell_type": "markdown",
   "id": "c78a3b61",
   "metadata": {},
   "source": [
    "### approximate functionals\n",
    "\n",
    "Since the application of the functional to a *global* basis function $\\psi_i$ is localizable w.r.t. the grid, e.g.\n",
    "\n",
    "$$\\begin{align}\n",
    "l(\\psi_i) = \\sum_{K \\in \\mathcal{T}_h} \\underbrace{\\int_K f \\psi_i\\,\\text{d}x}_{=: l^K(\\psi_i)},\\label{eq:diff:localized_rhs}\n",
    "\\end{align}$$\n",
    "\n",
    "we first consider local functionals (such as $l^K \\in L^2(K)'$), where *local* means: *with respect to a grid element $K$*. Using the reference map $F_K$ and $\\eqref{6}$ from above, we transform the evaluation of $l^K(\\psi_i)$ to the reference element,\n",
    "\n",
    "$$\\begin{align}\n",
    "l^K(\\psi_i) &= \\int_K f\\psi_i\\,\\text{d}x = \\int_{\\hat{K}} |\\text{det}\\nabla F_K| \\underbrace{(f\\circ F_K)}_{=: f^K} (\\hat{\\psi}_\\hat{i}\\circ F_K^{-1}\\circ F_K) \\text{d}\\hat{x}\\\\\n",
    "&=\\int_{\\hat{K}} |\\text{det}\\nabla F_K| f^K \\hat{\\psi}_\\hat{i} \\,\\text{d}\\hat{x},\\label{eq:diff:transformed_localized_rhs}\n",
    "\\end{align}$$\n",
    "\n",
    "where $f^K: \\hat{K} \\to \\mathbb{R}$ is the *local function* associated with $f$, $i = \\sigma_K(\\hat{i})$ and $\\hat{\\psi}_\\hat{i}$ is the corresponding shape function.\n",
    "\n",
    "Note that, apart from the integration domain ($\\hat{K}$ instead of $K$) and the transformation factor ($|\\text{det}\\nabla F^K|$), the structure of the local functional from $\\eqref{eq:diff:localized_rhs}$ is reflected in $\\eqref{eq:diff:transformed_localized_rhs}$.\n",
    "\n",
    "This leads us to the definition of a local functional in `dune-gdt`: ignoring the user input (namely the data function $f$ for a moment), a **local functional** is determined by\n",
    "\n",
    "* an integrand, depending on a single test function, that we can evaluate at points on the reference element.\n",
    "  We call such integrands **unary element integrand**s. In the above example, given a test basis function $\\hat{\\psi}$ and a point in the reference element $\\hat{x}$, the integrand is determined by $\\Xi^{1, K}_\\text{prod}: \\mathbb{P}^k(\\hat{K}) \\times \\hat{K} \\to \\mathbb{R}$, $\\hat{\\psi}, \\hat{x} \\mapsto f^K(\\hat{x})\\,\\hat{\\psi}(\\hat{x})$,\n",
    "  which is modelled by `LocalElementProductIntegrand` in `dune-gdt` (see below); and\n",
    "* an approximation of the integral in $\\eqref{eq:diff:transformed_localized_rhs}$ by a numerical **quadrature**:\n",
    "  given any unary element integrand $\\Xi^{1, K}$, and $Q \\in \\mathbb{N}$ quadrature points $\\hat{x}_1, \\dots, \\hat{x}_Q$ and weights $\\omega_1, \\dots, \\omega_Q \\in \\mathbb{R}$, we approximate\n",
    "  $l_h^K(\\psi_i) := \\sum_{q = 1}^Q |\\text{det}\\nabla F_K(\\hat{x}_q)|\\,\\omega_q\\,\\Xi^{1,K}(\\hat{\\psi}_\\hat{i}, \\hat{x}_q) \\approx \\int_\\hat{K} \\Xi^{1,K}(\\hat{\\psi}_\\hat{i}, \\hat{x})\\,\\text{d}\\hat{x} = l^K(\\psi_i)$,\n",
    "  which is modelled by `LocalElementIntegralFunctional` in `dune-gdt` (see below).\n",
    "\n",
    "  Note that the order of the quadrature is determined automatically, since the integrand computes its polynomial degree given all data functions and basis functions (in the above example, the polynomial order of $f^K$ is 3 by our construction and the polynomial order of $\\hat{\\psi}$ is 1, since we are using piecewise linear shape functions, yielding a polynomial order of 4 for $\\Xi_\\text{prod}^{1,K}$).\n",
    "\n",
    "Given local functionals, the purpose of the `VectorFunctional` in `dune-gdt` is to assemble $\\underline{l_h}$ from $\\eqref{6}$ by\n",
    "* creating an appropriate vector of length $N$\n",
    "* iterating over all grid elements $K \\in \\mathcal{T}_h$\n",
    "* localizing the basis of $V_h$ w.r.t. each grid element $K$\n",
    "* evaluating the local functionals $l_h^K$ for each localized basis function\n",
    "* adding the results to the respective entry of $\\underline{l_h}$, determined by the DoF-mapping of the discrete function space `ContinuousLagrangeSpace`\n",
    "\n",
    "\n",
    "In our example, we define $l_{\\text{src}, h}$ as:"
   ]
  },
  {
   "cell_type": "code",
   "execution_count": 6,
   "id": "fe69df48",
   "metadata": {},
   "outputs": [],
   "source": [
    "from dune.xt.functions import GridFunction as GF\n",
    "\n",
    "from dune.gdt import (\n",
    "    VectorFunctional,\n",
    "    LocalElementProductIntegrand,\n",
    "    LocalElementIntegralFunctional,\n",
    ")\n",
    "\n",
    "l_h = VectorFunctional(grid, source_space=V_h)\n",
    "l_h += LocalElementIntegralFunctional(\n",
    "         LocalElementProductIntegrand(GF(grid, 1)).with_ansatz(GF(grid, f)))"
   ]
  },
  {
   "cell_type": "markdown",
   "id": "214c345d",
   "metadata": {},
   "source": [
    "A few notes regarding the above code:\n",
    "\n",
    "* there exists a large variety of data functions, but in order to all handle them in `dune-gdt` we require them to be localizable w.r.t. a grid (i.e. to have *local functions* as above). This is achieved by wrapping them into a `GridFunction`, which accepts all kind of functions, discrete functions or numbers. Thus `GF(grid, 1)` creates a grid function which is localizable w.r.t. each grid elements and evaluates to 1, whenever evaluated; whereas `GF(grid, f)`, when localized to a grid element $K$ and evaluated at a point on the associated reference element, $\\hat{x}$, evaluates to $f(F_K(\\hat{x}))$.\n",
    "\n",
    "* the `LocalElementProductIntegrand` is actually a **binary element integrand** modelling a weighted product, as in: with a weight function $w: \\Omega \\to \\mathbb{R}$, given an ansatz function $\\hat{\\varphi}$, a test function $\\hat{\\psi}$ and a point $\\hat{x} \\in \\hat{K}$, this integrand is determined by\n",
    "  $\\Xi_\\text{prod}^{2,K}: \\mathbb{P}^k(\\hat{K}) \\times \\mathbb{P}^k(\\hat{K}) \\times \\hat{K} \\to \\mathbb{R}$, $\\hat{\\varphi}, \\hat{\\psi}, \\hat{x} \\mapsto w^K(\\hat{x})\\,\\hat{\\varphi}(\\hat{x})\\,\\hat{\\psi}(\\hat{x})$.\n",
    "  Thus, `LocalElementProductIntegrand` is often used in bilinear forms to assemble $L^2$ products (with weight $w =1$), which we achieve by `LocalElementProductIntegrand(GF(grid, 1))`. However, even with $w = 1$, the integrand $\\Xi_\\text{prod}^{2,K}$ still depends on the test and ansatz function. Using `with_ansatz(GF(grid, f))`, we fix $f^K$ as the ansatz function to obtain exactly the *unary* integrand we require, which only depends on the test function,\n",
    "  $\\Xi_\\text{prod}^{1,K}: \\mathbb{P}^k(\\hat{K}) \\times \\hat{K} \\to \\mathbb{R}$, $\\hat{\\psi}, \\hat{x} \\mapsto \\Xi_\\text{prod}^{2, K}(f^K, \\hat{\\psi}, \\hat{x}) = f^K(\\hat{x})\\,\\hat{\\psi}(\\hat{x})$,\n",
    "  which is exactly what we need to approximate  $l_\\text{src}^K(\\psi_i) = \\int_K f\\,\\psi_i\\text{d}x$.\n",
    "\n",
    "* the above code creates the vector $\\underline{l_h}$ (available as the `vector` attribute of `l_h`) filled with `0`, but does not yet assemble the functional into it, which we can check by:"
   ]
  },
  {
   "cell_type": "code",
   "execution_count": 7,
   "id": "9ac546c3",
   "metadata": {},
   "outputs": [
    {
     "name": "stdout",
     "output_type": "stream",
     "text": [
      "0.0\n"
     ]
    }
   ],
   "source": [
    "assert len(l_h.vector) == V_h.num_DoFs\n",
    "\n",
    "print(l_h.vector.sup_norm())"
   ]
  },
  {
   "cell_type": "markdown",
   "id": "b7cd33f6",
   "metadata": {},
   "source": [
    "### approximate bilinear forms\n",
    "\n",
    "The approximation of the application of the bilinear form $a$ to two *global* basis function $\\psi_i, \\varphi_j$ follows in a similar manner. We obtain by localization\n",
    "\n",
    "$$\\begin{align}\n",
    "a(\\psi_i, \\varphi_j) &= \\int_\\Omega (\\kappa\\nabla \\varphi_j)\\cdot \\nabla\\psi_i\\,\\text{d}x = \\sum_{K \\in \\mathcal{T}_h}\\underbrace{\\int_K (\\kappa\\nabla \\varphi_j)\\cdot \\nabla\\psi_i\\,\\text{d}x}_{=:a^K(\\psi_i, \\varphi_j)}\n",
    "\\end{align}$$\n",
    "\n",
    "and by transformation and the chain rule, using $\\eqref{6}$, $(7)$ and $F_K^{-1}\\circ F_K = \\text{id}$\n",
    "\n",
    "$$\\begin{align}\n",
    "a^K(\\psi_i, \\varphi_j) &= \\int_{\\hat{K}} |\\text{det}\\nabla F_K| \\big(\\underbrace{(\\kappa\\circ F_K)}_{=: \\kappa^K}\\underbrace{(\\nabla F_K^{-1}\\cdot\\nabla\\hat{\\varphi}_\\hat{j})}_{=: \\nabla_K\\hat{\\varphi}_\\hat{j}}\\big)\\cdot\\underbrace{(\\nabla F_K^{-1}\\cdot\\nabla\\hat{\\psi}_\\hat{i})}_{=: \\nabla_K\\hat{\\psi}_\\hat{i}}\\,\\text{d}\\hat{x}\\\\\n",
    "&= \\int_{\\hat{K}} |\\text{det}\\nabla F_K| \\big(\\kappa^K \\nabla_K\\hat{\\varphi}_\\hat{j}\\big)\\cdot\\nabla_K\\hat{\\psi}_\\hat{i}\\,\\text{d}\\hat{x},\n",
    "\\end{align}$$\n",
    "\n",
    "where $\\kappa^K$ denote the *local function* of $\\kappa$ as above, and where $\\nabla_K\\hat{\\varphi}_\\hat{j}$ denote suitably transformed *global* gradients of the *local* shape functions, for the integrand to reflect the same structure as above.\n",
    "\n",
    "Similar to local fucntionals, a **local bilinear form** is determined\n",
    "\n",
    "* by a **binary element integrand**, in our case the `LocalLaplaceIntegrand` (see below)\n",
    "  $$\\begin{align}\n",
    "  \\Xi_\\text{laplace}^{2, K}: \\mathbb{P}^k(\\hat{K}) \\times \\mathbb{P}^k(\\hat{K}) \\times \\hat{K} &\\to \\mathbb{R}\\\\\n",
    "  \\hat{\\varphi}, \\hat{\\xi}, \\hat{x} &\\mapsto \\big(\\kappa^K(\\hat{x})\\,\\nabla_K\\hat{\\varphi}(\\hat{x})\\big)\\cdot\\nabla_K\\hat{\\psi}(\\hat{x})\n",
    "  \\end{align}$$\n",
    "  and\n",
    "* an approximation of the integral by a numerical **quadrature**: given any binary element integrand $\\Xi^{2, K}$, and $Q \\in \\mathbb{N}$ quadrature points $\\hat{x}_1, \\dots, \\hat{x}_Q$ and weights $\\omega_1, \\dots, \\omega_Q \\in \\mathbb{R}$, we approximate\n",
    "  $$\\begin{align}\n",
    "  a_h^K(\\psi_i, \\varphi_j) := \\sum_{q = 1}^Q |\\text{det}\\nabla F_K(\\hat{x}_q)|\\,\\omega_q\\,\\Xi^{2,K}(\\hat{\\psi}_\\hat{i}, \\hat{\\varphi}_\\hat{j}, \\hat{x}_q) \\approx \\int_\\hat{K} \\Xi^{2,K}(\\hat{\\psi}_\\hat{i}, \\hat{\\varphi}_\\hat{j}, \\hat{x})\\,\\text{d}\\hat{x} = a^K(\\psi_i, \\varphi_i),\n",
    "\\end{align}$$\n",
    "which is modelled by `LocalElementIntegralBilinearForm` in `dune-gdt` (see below).\n",
    "\n",
    "Given local bilinear forms, the purpose of the `MatrixOperator` in `dune-gdt` is to assemble $\\underline{a_h}$ from $\\eqref{6}$ by\n",
    "* creating an appropriate (sparse) matrix of size $N \\times N$\n",
    "* iterating over all grid elements $K \\in \\mathcal{T}_h$\n",
    "* localizing the basis of $V_h$ w.r.t. each grid element $K$\n",
    "* evaluating the local bilinear form $a_h^K$ for each combination localized ansatz and test basis functions\n",
    "* adding the results to the respective entry of $\\underline{a_h}$, determined by the DoF-mapping of the discrete function space `ContinuousLagrangeSpace`"
   ]
  },
  {
   "cell_type": "code",
   "execution_count": 8,
   "id": "684e88f3",
   "metadata": {},
   "outputs": [],
   "source": [
    "from dune.gdt import (\n",
    "    MatrixOperator,\n",
    "    make_element_sparsity_pattern,\n",
    "    LocalLaplaceIntegrand,\n",
    "    LocalElementIntegralBilinearForm,\n",
    ")\n",
    "\n",
    "a_h = MatrixOperator(grid, source_space=V_h, range_space=V_h,\n",
    "                     sparsity_pattern=make_element_sparsity_pattern(V_h))\n",
    "a_h += LocalElementIntegralBilinearForm(LocalLaplaceIntegrand(GF(grid, kappa, dim_range=(Dim(d), Dim(d)))))"
   ]
  },
  {
   "cell_type": "markdown",
   "id": "47bbaeae",
   "metadata": {},
   "source": [
    "A few notes regarding the above code:\n",
    "\n",
    "* the `LocalLaplaceIntegrand` expects a matrix-valued function, which we achieve by converting the scalar function `kappa` to a matrix-valued `GridFunction`\n",
    "\n",
    "* the above code creates the matrix $\\underline{a_h}$ (available as the `matrix` attribute of `a_h`) with sparse `0` entries, but does not yet assemble the bilinear form into it, which we can check by:"
   ]
  },
  {
   "cell_type": "code",
   "execution_count": 9,
   "id": "ccd1f6c9",
   "metadata": {},
   "outputs": [
    {
     "name": "stdout",
     "output_type": "stream",
     "text": [
      "0.0\n"
     ]
    }
   ],
   "source": [
    "assert a_h.matrix.rows == a_h.matrix.cols == V_h.num_DoFs\n",
    "\n",
    "print(a_h.matrix.sup_norm())"
   ]
  },
  {
   "cell_type": "markdown",
   "id": "487de656",
   "metadata": {},
   "source": [
    "### handling the Dirichlet boundary condition\n",
    "\n",
    "As noted above, we handle the Dirichlet boundary condition on the algebraic level by modifying the assembled matrices and vector.\n",
    "We therefore require a means to identify all DoFs of $V_h$ associated with the Dirichlet boundary modelled by `boundary_info`."
   ]
  },
  {
   "cell_type": "code",
   "execution_count": 10,
   "id": "4d17ce86",
   "metadata": {},
   "outputs": [],
   "source": [
    "from dune.gdt import DirichletConstraints\n",
    "\n",
    "dirichlet_constraints = DirichletConstraints(boundary_info, V_h)"
   ]
  },
  {
   "cell_type": "markdown",
   "id": "3520a7c2",
   "metadata": {},
   "source": [
    "Similar to the bilinear forms and functionals above, the `dirichlet_constraints` are not yet assembled, which we can check as follows:"
   ]
  },
  {
   "cell_type": "code",
   "execution_count": 11,
   "id": "b006e029",
   "metadata": {},
   "outputs": [
    {
     "name": "stdout",
     "output_type": "stream",
     "text": [
      "set()\n"
     ]
    }
   ],
   "source": [
    "print(dirichlet_constraints.dirichlet_DoFs)"
   ]
  },
  {
   "cell_type": "markdown",
   "id": "0fed6b10",
   "metadata": {},
   "source": [
    "### walking the grid\n",
    "\n",
    "Until now, we constructed a bilinear form `a_h`, a linear functional `l_h` and Dirichlet constrinaints `dirichlet_constraints`, which are all localizable w.r.t. the grid, that is: i order to compute their application or to assemble them, it is sufficient to apply them to each element of the grid.\n",
    "\n",
    "Internally, this is realized by means of the `Walker` from `dune-xt-grid`, which allows to register all kinds of *grid functors* which are applied locally on each element. All bilinear forms, operators and functionals (as well as other constructs such as the Dirichlet constraints) in `dune-gdt` are implemented as such functors.\n",
    "\n",
    "Thus, we may assemble everything in one grid walk:"
   ]
  },
  {
   "cell_type": "code",
   "execution_count": 12,
   "id": "d91c4445",
   "metadata": {},
   "outputs": [],
   "source": [
    "from dune.xt.grid import Walker\n",
    "\n",
    "walker = Walker(grid)\n",
    "walker.append(a_h)\n",
    "walker.append(l_h)\n",
    "walker.append(dirichlet_constraints)\n",
    "walker.walk()"
   ]
  },
  {
   "cell_type": "markdown",
   "id": "e735e0fa",
   "metadata": {},
   "source": [
    "We can check that the assembled bilinear form and functional as well as the Dirichlet constraints actually contain some data:"
   ]
  },
  {
   "cell_type": "code",
   "execution_count": 13,
   "id": "276f7df8",
   "metadata": {},
   "outputs": [
    {
     "name": "stdout",
     "output_type": "stream",
     "text": [
      "a_h = IstlSparseMatrix(\n",
      "  [4 0 -1 ... 0 0 -1]\n",
      "  [0 2 -1 ... 0 0 0]\n",
      "  [-1 -1 4 ... 0 0 0]\n",
      "   ...\n",
      "  [0 0 0 ... 2 0 -1]\n",
      "  [0 0 0 ... 0 1 -1]\n",
      "  [-1 0 0 ... -1 -1 4]\n",
      ")\n",
      "\n",
      "l_h = IstlVector([0.215393 0.088827 0.0887864 ... 0.130627 0.0897916 0.147315])\n",
      "\n",
      "Dirichlet DoFs: {1, 3, 4, 5, 6, 8, 10, 11}\n"
     ]
    }
   ],
   "source": [
    "print(f'a_h = {a_h.matrix.__repr__()}')\n",
    "print()\n",
    "print(f'l_h = {l_h.vector.__repr__()}')\n",
    "print()\n",
    "print(f'Dirichlet DoFs: {dirichlet_constraints.dirichlet_DoFs}')"
   ]
  },
  {
   "cell_type": "markdown",
   "id": "484487e4",
   "metadata": {},
   "source": [
    "### solving the linear system\n",
    "\n",
    "After walking the grid, the bilinra form and linear functional are assembled w.r.t. $V_h$ and we constrain them to include the handling of the Dirichlet boundary condition."
   ]
  },
  {
   "cell_type": "code",
   "execution_count": 14,
   "id": "bcd2d2cf",
   "metadata": {},
   "outputs": [],
   "source": [
    "dirichlet_constraints.apply(a_h.matrix, l_h.vector)"
   ]
  },
  {
   "cell_type": "markdown",
   "id": "b53b0641",
   "metadata": {},
   "source": [
    "Since the bilinear form is implemented as a `MatrixOperator`, we may simply invert the operator to obtain the DoF vector of the solution of $(9)$."
   ]
  },
  {
   "cell_type": "code",
   "execution_count": 15,
   "id": "c1f9c2e3",
   "metadata": {},
   "outputs": [],
   "source": [
    "u_h_vector = a_h.apply_inverse(l_h.vector)"
   ]
  },
  {
   "cell_type": "markdown",
   "id": "c9dddc43",
   "metadata": {},
   "source": [
    "### postprocessing the solution\n",
    "\n",
    "To make use of the DoF vector of the approximate solution, $\\underline{u_h} \\in \\mathbb{R}^N$, it is convenient to interpert it as a discrete function again, $u_h \\in V_h$ by means of the Galerkin isomorphism. This can be achieved by the `DiscreteFunction` in `dune-gdt`.\n",
    "\n",
    "All discrete functions are in particular grid functions and can thus be compared to analytical solutions, used as input in discretization schemes or visualized.\n",
    "\n",
    "**Note:** if visualization fails for some reason, call `paraview` on the command line and open `u_h.vtu`!"
   ]
  },
  {
   "cell_type": "code",
   "execution_count": 16,
   "id": "432d4b04",
   "metadata": {},
   "outputs": [
    {
     "data": {
      "application/vnd.jupyter.widget-view+json": {
       "model_id": "6a8d5af7864045959265704df3b5b502",
       "version_major": 2,
       "version_minor": 0
      },
      "text/plain": [
       "Output()"
      ]
     },
     "metadata": {},
     "output_type": "display_data"
    }
   ],
   "source": [
    "from dune.gdt import DiscreteFunction, visualize_function\n",
    "\n",
    "u_h = DiscreteFunction(V_h, u_h_vector, name='u_h')\n",
    "_ = visualize_function(u_h)"
   ]
  },
  {
   "cell_type": "markdown",
   "id": "97b1cfc7",
   "metadata": {},
   "source": [
    "### everything in a single function\n",
    "\n",
    "For a better overview, the above discretization code is also available in a single function in the file `discretize_elliptic_cg.py`:"
   ]
  },
  {
   "cell_type": "code",
   "execution_count": 17,
   "id": "4402a74e",
   "metadata": {},
   "outputs": [
    {
     "name": "stdout",
     "output_type": "stream",
     "text": [
      "def discretize_elliptic_cg_dirichlet_zero(grid, diffusion, source):\n",
      "\n",
      "    \"\"\"\n",
      "    Discretizes the stationary heat equation with homogeneous Dirichlet boundary values everywhere\n",
      "    with dune-gdt using continuous Lagrange finite elements.\n",
      "\n",
      "    Parameters\n",
      "    ----------\n",
      "    grid\n",
      "        The grid, given as a GridProvider from dune.xt.grid.\n",
      "    diffusion\n",
      "        Diffusion function with values in R^{d x d}, anything that dune.xt.functions.GridFunction\n",
      "        can handle.\n",
      "    source\n",
      "        Right hand side source function with values in R, anything that\n",
      "        dune.xt.functions.GridFunction can handle.\n",
      "    \n",
      "    Returns\n",
      "    -------\n",
      "    u_h\n",
      "        The computed solution as a dune.gdt.DiscreteFunction for postprocessing.\n",
      "    \"\"\"\n",
      "    \n",
      "    d = grid.dimension\n",
      "    diffusion = GF(grid, diffusion, dim_range=(Dim(d), Dim(d)))\n",
      "    source = GF(grid, source)\n",
      "\n",
      "    boundary_info = AllDirichletBoundaryInfo(grid)\n",
      "    \n",
      "    V_h = ContinuousLagrangeSpace(grid, order=1)\n",
      "\n",
      "    l_h = VectorFunctional(grid, source_space=V_h)\n",
      "    l_h += LocalElementIntegralFunctional(LocalElementProductIntegrand(GF(grid, 1)).with_ansatz(source))\n",
      "    \n",
      "    a_h = MatrixOperator(grid, source_space=V_h, range_space=V_h,\n",
      "                         sparsity_pattern=make_element_sparsity_pattern(V_h))\n",
      "    a_h += LocalElementIntegralBilinearForm(LocalLaplaceIntegrand(diffusion))\n",
      "    \n",
      "    dirichlet_constraints = DirichletConstraints(boundary_info, V_h)\n",
      "    \n",
      "    walker = Walker(grid)\n",
      "    walker.append(a_h)\n",
      "    walker.append(l_h)\n",
      "    walker.append(dirichlet_constraints)\n",
      "    walker.walk()\n",
      "    \n",
      "    u_h = DiscreteFunction(V_h, name='u_h')\n",
      "    dirichlet_constraints.apply(a_h.matrix, l_h.vector)\n",
      "    a_h.apply_inverse(l_h.vector, u_h.dofs.vector)\n",
      "    \n",
      "    return u_h\n",
      "\n"
     ]
    }
   ],
   "source": [
    "import inspect\n",
    "from discretize_elliptic_cg import discretize_elliptic_cg_dirichlet_zero\n",
    "\n",
    "print(inspect.getsource(discretize_elliptic_cg_dirichlet_zero))"
   ]
  },
  {
   "cell_type": "markdown",
   "id": "69259a55",
   "metadata": {},
   "source": [
    "Calling it gives the same solution as above:"
   ]
  },
  {
   "cell_type": "code",
   "execution_count": 18,
   "id": "5f09a423",
   "metadata": {},
   "outputs": [
    {
     "data": {
      "application/vnd.jupyter.widget-view+json": {
       "model_id": "423b43a3bc7d4e9aa47457701b8f0502",
       "version_major": 2,
       "version_minor": 0
      },
      "text/plain": [
       "Output()"
      ]
     },
     "metadata": {},
     "output_type": "display_data"
    }
   ],
   "source": [
    "u_h = discretize_elliptic_cg_dirichlet_zero(grid, kappa, f)\n",
    "_ = visualize_function(u_h)"
   ]
  },
  {
   "cell_type": "markdown",
   "id": "69e77c87",
   "metadata": {},
   "source": [
    "## diffusion with non-homogeneous Dirichlet boundary condition\n",
    "\n",
    "### analytical problem\n",
    "\n",
    "Consider problem $\\eqref{eq:diff:pde}$ from above, but with non-homogeneous Dirichlet boundary values. That is:\n",
    "\n",
    "\n",
    "Let $\\Omega \\subset \\mathbb{R}^d$ for $1 \\leq d \\leq 3$ be a bounded connected domain with Lipschitz-boundary $\\partial\\Omega$. We seek the solution $u \\in H^1(\\Omega)$ of the linear diffusion equation (with a **non-homogeneous Dirichlet boundary condition**)\n",
    "\n",
    "$$\\begin{align}\n",
    "- \\nabla\\cdot(\\kappa\\nabla u) &= f &&\\text{in } \\Omega,\\label{eq:diff_dir:pde}\\\\\n",
    "u &= g_\\text{D} &&\\text{on } \\partial\\Omega,\n",
    "\\end{align}$$\n",
    "\n",
    "in a weak sense, where $\\kappa \\in [L^\\infty(\\Omega)]^{d \\times d}$ denotes a given diffusion function, $f \\in L^2(\\Omega)$ denotes a given source function and $g_\\text{D} \\in L^2(\\partial\\Omega)$ denotes given Dirichlet boundary values.\n",
    "\n",
    "The variational problem associated with $\\eqref{eq:diff_dir:pde}$ reads: find $u \\in H^1(\\Omega)$, such that\n",
    "\n",
    "$$\\begin{align}\n",
    "a(u, v) &= l(v) &&\\text{for all }v \\in V,\\label{eq:diff_dir:variational_problem}\n",
    "\\end{align}$$\n",
    "\n",
    "with the same bilinear form $a$ and linear functional $l$ as above in $\\eqref{eq:diff:a_and_l}$.\n",
    "<!-- #endregion -->\n",
    "\n",
    "### Dirichlet shift\n",
    "\n",
    "Suppose $\\hat{g}_\\text{D} \\in H^1(\\Omega)$ is an extension of the Dirichlet boundary values to $\\Omega$, such that\n",
    "\n",
    "$$\\begin{align}\n",
    "\\hat{g}_\\text{D}|_{\\partial\\Omega} = g_\\text{D}\n",
    "\\end{align}$$\n",
    "\n",
    "in the sense of traces. We then have for the solution $u \\in H^1(\\Omega)$ of $(13)$, that\n",
    "\n",
    "$$\\begin{align}\n",
    "u = u_0 + \\hat{g}_\\text{D}\n",
    "\\end{align}$$\n",
    "\n",
    "for some $u_0 \\in H^1_0(\\Omega)$. Thus, we may reformulate $(13)$ as follows: Find $u_0 \\in H^1_0(\\Omega)$, such that\n",
    "\n",
    "$$\\begin{align}\n",
    "a(u_0 + \\hat{g}_\\text{D}, v) &= l(v) &&\\text{for all }v \\in V,\n",
    "\\end{align}$$\n",
    "\n",
    "or equivalently\n",
    "\n",
    "$$\\begin{align}\n",
    "a(u_0, v) &= l(v) - a(\\hat{g}_\\text{D}, v) &&\\text{for all }v \\in V.\\label{eq:diff_dir:shifted_variational_problem}\n",
    "\\end{align}$$\n",
    "\n",
    "We have thus shifted problem $(13)$ to be of familiar form, i.e., similarly to above we consider a linear diffusion equation with **homogeneous** Dirichlet boundary conditions, but a **modified source** term.\n",
    "\n",
    "\n",
    "Consider for example $\\eqref{eq:diff:pde}$ with:\n",
    "\n",
    "* $d = 2$\n",
    "* $\\Omega = [0, 1]^2$\n",
    "* $\\kappa = 1$\n",
    "* $f = \\exp(x_0 x_1)$\n",
    "* $g_\\text{D} = x_0 x_1$\n",
    "\n",
    "Except for $g_\\text{D}$, we may thus use the same grid, boundary info and data functions as above.\n",
    "\n",
    "\n",
    "### Dirichlet interpolation\n",
    "\n",
    "To obtain $\\hat{g}_\\text{D} \\in H^1(\\Omega)$, we use the Lagrange interpolation of $g_\\text{D}$ and set all DoFs associated with inner Lagrange nodes to zero. This is realized by the `boundary_interpolation`."
   ]
  },
  {
   "cell_type": "code",
   "execution_count": 19,
   "id": "0cc4add5",
   "metadata": {},
   "outputs": [
    {
     "data": {
      "application/vnd.jupyter.widget-view+json": {
       "model_id": "b700b6ec258c498f9de194eea67aeb52",
       "version_major": 2,
       "version_minor": 0
      },
      "text/plain": [
       "Output()"
      ]
     },
     "metadata": {},
     "output_type": "display_data"
    }
   ],
   "source": [
    "from dune.xt.grid import DirichletBoundary\n",
    "from dune.gdt import boundary_interpolation\n",
    "\n",
    "g_D = ExpressionFunction(dim_domain=Dim(d), variable='x', expression='x[0]*x[1]', order=2, name='g_D')\n",
    "\n",
    "g_D_hat = boundary_interpolation(GF(grid, g_D), V_h, boundary_info, DirichletBoundary())\n",
    "\n",
    "_ = visualize_function(g_D_hat)"
   ]
  },
  {
   "cell_type": "markdown",
   "id": "d590e242",
   "metadata": {},
   "source": [
    "As we observe, the values on all boundary DoFs are $x_0 x_1$ and on all inner DoFs $0$.\n",
    "\n",
    "\n",
    "### assembling the shifted system\n",
    "\n",
    "* We assemble the unconstrained matrix- and vector representation of $a_h$ and $l_h$ w.r.t. $V_h$ similarly as above."
   ]
  },
  {
   "cell_type": "code",
   "execution_count": 20,
   "id": "6640802f",
   "metadata": {},
   "outputs": [],
   "source": [
    "l_h = VectorFunctional(grid, source_space=V_h)\n",
    "l_h += LocalElementIntegralFunctional(LocalElementProductIntegrand(GF(grid, 1)).with_ansatz(GF(grid, f)))\n",
    "\n",
    "a_h = MatrixOperator(grid, source_space=V_h, range_space=V_h,\n",
    "                     sparsity_pattern=make_element_sparsity_pattern(V_h))\n",
    "a_h += LocalElementIntegralBilinearForm(LocalLaplaceIntegrand(GF(grid, kappa, dim_range=(Dim(d), Dim(d)))))\n",
    "\n",
    "walker = Walker(grid)\n",
    "walker.append(a_h)\n",
    "walker.append(l_h)\n",
    "walker.walk()"
   ]
  },
  {
   "cell_type": "markdown",
   "id": "8501d0e6",
   "metadata": {},
   "source": [
    "* We then obtain the shifted system by directly modifying the right hand side vector."
   ]
  },
  {
   "cell_type": "code",
   "execution_count": 21,
   "id": "1ca35c1b",
   "metadata": {},
   "outputs": [],
   "source": [
    "rhs_vector = l_h.vector - a_h.matrix@g_D_hat.dofs.vector"
   ]
  },
  {
   "cell_type": "markdown",
   "id": "e31e431c",
   "metadata": {},
   "source": [
    "* *Afterwards*, we constrain the shifted system to $V_h \\cap H^1_0(\\Omega)$."
   ]
  },
  {
   "cell_type": "code",
   "execution_count": 22,
   "id": "507bc766",
   "metadata": {},
   "outputs": [],
   "source": [
    "dirichlet_constraints.apply(a_h.matrix, rhs_vector)"
   ]
  },
  {
   "cell_type": "markdown",
   "id": "dbfebf66",
   "metadata": {},
   "source": [
    "* Then, we solve the shifted and constrained system for the DoF vector of $u_{0, h}$."
   ]
  },
  {
   "cell_type": "code",
   "execution_count": 23,
   "id": "07170012",
   "metadata": {},
   "outputs": [],
   "source": [
    "u_0_h_vector = a_h.apply_inverse(rhs_vector)"
   ]
  },
  {
   "cell_type": "markdown",
   "id": "766d3e59",
   "metadata": {},
   "source": [
    "* We may then obtain the solution by shifting it back."
   ]
  },
  {
   "cell_type": "code",
   "execution_count": 24,
   "id": "e8303014",
   "metadata": {},
   "outputs": [
    {
     "data": {
      "application/vnd.jupyter.widget-view+json": {
       "model_id": "65f5e21e4c944ea6b11fb170221a6f5d",
       "version_major": 2,
       "version_minor": 0
      },
      "text/plain": [
       "Output()"
      ]
     },
     "metadata": {},
     "output_type": "display_data"
    }
   ],
   "source": [
    "u_h = DiscreteFunction(V_h, u_0_h_vector + g_D_hat.dofs.vector)\n",
    "\n",
    "_ = visualize_function(u_h)"
   ]
  },
  {
   "cell_type": "markdown",
   "id": "a9e439a8",
   "metadata": {},
   "source": [
    "### everything in a single function\n",
    "\n",
    "As above, solving with non-homogeneous Dirichlet values is also available in a single function."
   ]
  },
  {
   "cell_type": "code",
   "execution_count": 25,
   "id": "719f06e5",
   "metadata": {},
   "outputs": [
    {
     "data": {
      "application/vnd.jupyter.widget-view+json": {
       "model_id": "fd8975a501964430b39694605ca45259",
       "version_major": 2,
       "version_minor": 0
      },
      "text/plain": [
       "Output()"
      ]
     },
     "metadata": {},
     "output_type": "display_data"
    }
   ],
   "source": [
    "from discretize_elliptic_cg import discretize_elliptic_cg_dirichlet\n",
    "\n",
    "u_h = discretize_elliptic_cg_dirichlet(grid, kappa, f, g_D)\n",
    "\n",
    "_ = visualize_function(u_h)"
   ]
  },
  {
   "cell_type": "markdown",
   "id": "2af90f13",
   "metadata": {},
   "source": [
    "Download the code:\n",
    "{download}`dune_gdt_tutorial_on_cg_fem_for_the_stationary_heat_equation.md`\n",
    "{nb-download}`dune_gdt_tutorial_on_cg_fem_for_the_stationary_heat_equation.ipynb`"
   ]
  }
 ],
 "metadata": {
  "jupyter": {
   "jupytext": {
    "cell_metadata_filter": "-all",
    "formats": "ipynb,myst",
    "main_language": "python",
    "text_representation": {
     "extension": ".md",
     "format_name": "myst",
     "format_version": "1.3",
     "jupytext_version": "1.11.2"
    }
   }
  },
  "jupytext": {
   "text_representation": {
    "format_name": "myst"
   }
  },
  "kernelspec": {
   "display_name": "Python 3",
   "name": "python3"
  },
  "language_info": {
   "codemirror_mode": {
    "name": "ipython",
    "version": 3
   },
   "file_extension": ".py",
   "mimetype": "text/x-python",
   "name": "python",
   "nbconvert_exporter": "python",
   "pygments_lexer": "ipython3",
   "version": "3.9.8"
  },
  "source_map": [
   18,
   23,
   26,
   37,
   44,
   81,
   93,
   156,
   171,
   179,
   222,
   234,
   248,
   252,
   292,
   303,
   311,
   315,
   322,
   326,
   330,
   332,
   342,
   350,
   354,
   360,
   366,
   368,
   372,
   374,
   384,
   389,
   395,
   400,
   404,
   407,
   478,
   487,
   496,
   508,
   512,
   514,
   518,
   520,
   524,
   526,
   530,
   534,
   540,
   546
  ],
  "widgets": {
   "application/vnd.jupyter.widget-state+json": {
    "state": {
     "0090c05bfcbb4942a9f8765120fe4337": {
      "model_module": "@jupyter-widgets/controls",
      "model_module_version": "1.5.0",
      "model_name": "HTMLModel",
      "state": {
       "_dom_classes": [],
       "_model_module": "@jupyter-widgets/controls",
       "_model_module_version": "1.5.0",
       "_model_name": "HTMLModel",
       "_view_count": null,
       "_view_module": "@jupyter-widgets/controls",
       "_view_module_version": "1.5.0",
       "_view_name": "HTMLView",
       "description": "",
       "description_tooltip": null,
       "layout": "IPY_MODEL_746f9eb653ed4a9ca595d0c0ec4db05e",
       "placeholder": "​",
       "style": "IPY_MODEL_6cb14f313157452da2a56bf05d09be5a",
       "value": ""
      }
     },
     "06172ba68a894e11bd1ddccd32bb0967": {
      "model_module": "@jupyter-widgets/controls",
      "model_module_version": "1.5.0",
      "model_name": "HTMLModel",
      "state": {
       "_dom_classes": [],
       "_model_module": "@jupyter-widgets/controls",
       "_model_module_version": "1.5.0",
       "_model_name": "HTMLModel",
       "_view_count": null,
       "_view_module": "@jupyter-widgets/controls",
       "_view_module_version": "1.5.0",
       "_view_name": "HTMLView",
       "description": "",
       "description_tooltip": null,
       "layout": "IPY_MODEL_fbf1f2b2abcc460d931c7314c0d69798",
       "placeholder": "​",
       "style": "IPY_MODEL_5f6328b39db6474ba61ed65440ed9f74",
       "value": ""
      }
     },
     "07d3c6d9833041fd95e355f293bcc3ba": {
      "model_module": "@jupyter-widgets/base",
      "model_module_version": "1.2.0",
      "model_name": "LayoutModel",
      "state": {
       "_model_module": "@jupyter-widgets/base",
       "_model_module_version": "1.2.0",
       "_model_name": "LayoutModel",
       "_view_count": null,
       "_view_module": "@jupyter-widgets/base",
       "_view_module_version": "1.2.0",
       "_view_name": "LayoutView",
       "align_content": null,
       "align_items": null,
       "align_self": null,
       "border": null,
       "bottom": null,
       "display": null,
       "flex": null,
       "flex_flow": null,
       "grid_area": null,
       "grid_auto_columns": null,
       "grid_auto_flow": null,
       "grid_auto_rows": null,
       "grid_column": null,
       "grid_gap": null,
       "grid_row": null,
       "grid_template_areas": null,
       "grid_template_columns": null,
       "grid_template_rows": null,
       "height": null,
       "justify_content": null,
       "justify_items": null,
       "left": null,
       "margin": null,
       "max_height": null,
       "max_width": null,
       "min_height": null,
       "min_width": null,
       "object_fit": null,
       "object_position": null,
       "order": null,
       "overflow": null,
       "overflow_x": null,
       "overflow_y": null,
       "padding": null,
       "right": null,
       "top": null,
       "visibility": null,
       "width": null
      }
     },
     "085ec3d15b3843abbca3acb279b202a7": {
      "model_module": "@jupyter-widgets/controls",
      "model_module_version": "1.5.0",
      "model_name": "AccordionModel",
      "state": {
       "_dom_classes": [],
       "_model_module": "@jupyter-widgets/controls",
       "_model_module_version": "1.5.0",
       "_model_name": "AccordionModel",
       "_titles": {
        "0": "Log Output"
       },
       "_view_count": null,
       "_view_module": "@jupyter-widgets/controls",
       "_view_module_version": "1.5.0",
       "_view_name": "AccordionView",
       "box_style": "",
       "children": [
        "IPY_MODEL_91f71d4e190e4e0e95460f8514f77629"
       ],
       "layout": "IPY_MODEL_07d3c6d9833041fd95e355f293bcc3ba",
       "selected_index": null
      }
     },
     "09411db8b9fb45aea3deb1a00ec158a9": {
      "model_module": "@jupyter-widgets/base",
      "model_module_version": "1.2.0",
      "model_name": "LayoutModel",
      "state": {
       "_model_module": "@jupyter-widgets/base",
       "_model_module_version": "1.2.0",
       "_model_name": "LayoutModel",
       "_view_count": null,
       "_view_module": "@jupyter-widgets/base",
       "_view_module_version": "1.2.0",
       "_view_name": "LayoutView",
       "align_content": null,
       "align_items": null,
       "align_self": null,
       "border": null,
       "bottom": null,
       "display": null,
       "flex": null,
       "flex_flow": null,
       "grid_area": null,
       "grid_auto_columns": null,
       "grid_auto_flow": null,
       "grid_auto_rows": null,
       "grid_column": null,
       "grid_gap": null,
       "grid_row": null,
       "grid_template_areas": null,
       "grid_template_columns": null,
       "grid_template_rows": null,
       "height": "16em",
       "justify_content": null,
       "justify_items": null,
       "left": null,
       "margin": null,
       "max_height": null,
       "max_width": null,
       "min_height": null,
       "min_width": null,
       "object_fit": null,
       "object_position": null,
       "order": null,
       "overflow": null,
       "overflow_x": null,
       "overflow_y": "auto",
       "padding": null,
       "right": null,
       "top": null,
       "visibility": null,
       "width": "100%"
      }
     },
     "0a3db280c6934dbf8dcf0e72e2a1cd18": {
      "model_module": "@jupyter-widgets/base",
      "model_module_version": "1.2.0",
      "model_name": "LayoutModel",
      "state": {
       "_model_module": "@jupyter-widgets/base",
       "_model_module_version": "1.2.0",
       "_model_name": "LayoutModel",
       "_view_count": null,
       "_view_module": "@jupyter-widgets/base",
       "_view_module_version": "1.2.0",
       "_view_name": "LayoutView",
       "align_content": null,
       "align_items": null,
       "align_self": null,
       "border": null,
       "bottom": null,
       "display": null,
       "flex": null,
       "flex_flow": null,
       "grid_area": null,
       "grid_auto_columns": null,
       "grid_auto_flow": null,
       "grid_auto_rows": null,
       "grid_column": null,
       "grid_gap": null,
       "grid_row": null,
       "grid_template_areas": null,
       "grid_template_columns": null,
       "grid_template_rows": null,
       "height": "16em",
       "justify_content": null,
       "justify_items": null,
       "left": null,
       "margin": null,
       "max_height": null,
       "max_width": null,
       "min_height": null,
       "min_width": null,
       "object_fit": null,
       "object_position": null,
       "order": null,
       "overflow": null,
       "overflow_x": null,
       "overflow_y": "auto",
       "padding": null,
       "right": null,
       "top": null,
       "visibility": null,
       "width": "100%"
      }
     },
     "11296f18f96a4983a22ed5f0246e9ff9": {
      "model_module": "@jupyter-widgets/controls",
      "model_module_version": "1.5.0",
      "model_name": "DescriptionStyleModel",
      "state": {
       "_model_module": "@jupyter-widgets/controls",
       "_model_module_version": "1.5.0",
       "_model_name": "DescriptionStyleModel",
       "_view_count": null,
       "_view_module": "@jupyter-widgets/base",
       "_view_module_version": "1.2.0",
       "_view_name": "StyleView",
       "description_width": ""
      }
     },
     "12aec391e9bd4fc492897b951e553357": {
      "model_module": "@jupyter-widgets/controls",
      "model_module_version": "1.5.0",
      "model_name": "HTMLModel",
      "state": {
       "_dom_classes": [],
       "_model_module": "@jupyter-widgets/controls",
       "_model_module_version": "1.5.0",
       "_model_name": "HTMLModel",
       "_view_count": null,
       "_view_module": "@jupyter-widgets/controls",
       "_view_module_version": "1.5.0",
       "_view_name": "HTMLView",
       "description": "",
       "description_tooltip": null,
       "layout": "IPY_MODEL_4e93cd025660479f8ebbe3919a8fc1c6",
       "placeholder": "​",
       "style": "IPY_MODEL_161475b46f7c421189d87f9eb7cdbae2",
       "value": ""
      }
     },
     "161475b46f7c421189d87f9eb7cdbae2": {
      "model_module": "@jupyter-widgets/controls",
      "model_module_version": "1.5.0",
      "model_name": "DescriptionStyleModel",
      "state": {
       "_model_module": "@jupyter-widgets/controls",
       "_model_module_version": "1.5.0",
       "_model_name": "DescriptionStyleModel",
       "_view_count": null,
       "_view_module": "@jupyter-widgets/base",
       "_view_module_version": "1.2.0",
       "_view_name": "StyleView",
       "description_width": ""
      }
     },
     "1639af16e90647ccb92cc3dc5e717be1": {
      "model_module": "@jupyter-widgets/controls",
      "model_module_version": "1.5.0",
      "model_name": "AccordionModel",
      "state": {
       "_dom_classes": [],
       "_model_module": "@jupyter-widgets/controls",
       "_model_module_version": "1.5.0",
       "_model_name": "AccordionModel",
       "_titles": {
        "0": "Log Output"
       },
       "_view_count": null,
       "_view_module": "@jupyter-widgets/controls",
       "_view_module_version": "1.5.0",
       "_view_name": "AccordionView",
       "box_style": "",
       "children": [
        "IPY_MODEL_645f267c45bc493cafe33b89f8f1c07b"
       ],
       "layout": "IPY_MODEL_75f0cc4e08f045c4a82072ef7d44b31c",
       "selected_index": null
      }
     },
     "170f2d87a0624b76804d480d8f5f52d8": {
      "buffers": [
       {
        "data": "AAAAAAAAAAAAAAAAAAAAAAAAAAAAAAAAAAAAAAAAAAAAAAAAAAAAAAAAAAAAAAAAAAAAPwAAAAAAAAAAAAAAAAAAAAAAAAAAAAAAAAAAAAAAAAAAAAAAAAAAAAAAAAA/AAAAAAAAAAAAAAAAAAAAAAAAAAAAAAA/AAAAPwAAAAAAAAAAAAAAAAAAAAAAAAAAAACAPwAAAD8AAAAAAAAAAAAAAD8AAAAAAAAAAAAAAD8AAAAAAAAAAAAAAD8AAIA/",
        "encoding": "base64",
        "path": [
         "attribute",
         "buffer"
        ]
       },
       {
        "data": "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",
        "encoding": "base64",
        "path": [
         "color_map",
         "buffer"
        ]
       },
       {
        "data": "AAAAAAEAAAACAAAAAwAAAAQAAAAFAAAABgAAAAcAAAAIAAAACQAAAAoAAAALAAAADAAAAA0AAAAOAAAADwAAABAAAAARAAAAEgAAABMAAAAUAAAAFQAAABYAAAAXAAAAGAAAABkAAAAaAAAAGwAAABwAAAAdAAAAHgAAAB8AAAAgAAAAIQAAACIAAAAjAAAAJAAAACUAAAAmAAAAJwAAACgAAAApAAAAKgAAACsAAAAsAAAALQAAAC4AAAAvAAAA",
        "encoding": "base64",
        "path": [
         "indices",
         "buffer"
        ]
       },
       {
        "data": "AACAPwAAAAAAAAAAAAAAAAAAAAAAAIA/AAAAAAAAAAAAAAAAAAAAAAAAgD8AAAAAAAAAAAAAAAAAAAAAAACAPw==",
        "encoding": "base64",
        "path": [
         "model_matrix",
         "buffer"
        ]
       },
       {
        "data": "AAAAPwAAAD8AAAAAAAAAPwAAAAAAAAAAAACAPgAAgD4AAAAAAACAPgAAgD4AAAAAAAAAPwAAAAAAAAAAAAAAAAAAAAAAAAAAAAAAAAAAAAAAAAAAAAAAAAAAAD8AAAAAAACAPgAAgD4AAAAAAACAPgAAgD4AAAAAAAAAAAAAAD8AAAAAAAAAPwAAAD8AAAAAAACAPwAAAD8AAAAAAACAPwAAAAAAAAAAAABAPwAAgD4AAAAAAABAPwAAgD4AAAAAAACAPwAAAAAAAAAAAAAAPwAAAAAAAAAAAAAAPwAAAAAAAAAAAAAAPwAAAD8AAAAAAABAPwAAgD4AAAAAAABAPwAAgD4AAAAAAAAAPwAAAD8AAAAAAACAPwAAAD8AAAAAAAAAAAAAAD8AAAAAAAAAAAAAgD8AAAAAAACAPgAAQD8AAAAAAACAPgAAQD8AAAAAAAAAAAAAgD8AAAAAAAAAPwAAgD8AAAAAAAAAPwAAgD8AAAAAAAAAPwAAAD8AAAAAAACAPgAAQD8AAAAAAACAPgAAQD8AAAAAAAAAPwAAAD8AAAAAAAAAAAAAAD8AAAAAAACAPwAAgD8AAAAAAACAPwAAAD8AAAAAAABAPwAAQD8AAAAAAABAPwAAQD8AAAAAAACAPwAAAD8AAAAAAAAAPwAAAD8AAAAAAAAAPwAAAD8AAAAAAAAAPwAAgD8AAAAAAABAPwAAQD8AAAAAAABAPwAAQD8AAAAAAAAAPwAAgD8AAAAAAACAPwAAgD8AAAAA",
        "encoding": "base64",
        "path": [
         "vertices",
         "buffer"
        ]
       }
      ],
      "model_module": "k3d",
      "model_module_version": "2.6.6",
      "model_name": "ObjectModel",
      "state": {
       "_model_module": "k3d",
       "_model_module_version": "2.6.6",
       "_model_name": "ObjectModel",
       "_view_count": null,
       "_view_module": null,
       "_view_module_version": "",
       "_view_name": null,
       "attribute": {
        "dtype": "float32",
        "shape": [
         48
        ]
       },
       "color": 255,
       "color_map": {
        "dtype": "float32",
        "shape": [
         256,
         4
        ]
       },
       "color_range": [
        0.0,
        1.0
       ],
       "compression_level": 0,
       "flat_shading": false,
       "id": 139727300842544,
       "indices": {
        "dtype": "uint32",
        "shape": [
         16,
         3
        ]
       },
       "model_matrix": {
        "dtype": "float32",
        "shape": [
         4,
         4
        ]
       },
       "name": null,
       "opacity": 1.0,
       "type": "Mesh",
       "vertices": {
        "dtype": "float32",
        "shape": [
         48,
         3
        ]
       },
       "visible": true,
       "wireframe": false
      }
     },
     "185b5502d08c44cd8e002664de6004ac": {
      "model_module": "@jupyter-widgets/base",
      "model_module_version": "1.2.0",
      "model_name": "LayoutModel",
      "state": {
       "_model_module": "@jupyter-widgets/base",
       "_model_module_version": "1.2.0",
       "_model_name": "LayoutModel",
       "_view_count": null,
       "_view_module": "@jupyter-widgets/base",
       "_view_module_version": "1.2.0",
       "_view_name": "LayoutView",
       "align_content": null,
       "align_items": null,
       "align_self": null,
       "border": null,
       "bottom": null,
       "display": null,
       "flex": null,
       "flex_flow": null,
       "grid_area": null,
       "grid_auto_columns": null,
       "grid_auto_flow": null,
       "grid_auto_rows": null,
       "grid_column": null,
       "grid_gap": null,
       "grid_row": null,
       "grid_template_areas": null,
       "grid_template_columns": null,
       "grid_template_rows": null,
       "height": null,
       "justify_content": null,
       "justify_items": null,
       "left": null,
       "margin": null,
       "max_height": null,
       "max_width": null,
       "min_height": null,
       "min_width": null,
       "object_fit": null,
       "object_position": null,
       "order": null,
       "overflow": null,
       "overflow_x": null,
       "overflow_y": null,
       "padding": null,
       "right": null,
       "top": null,
       "visibility": null,
       "width": null
      }
     },
     "18ec100d6a374be7a8341e97592dd352": {
      "model_module": "@jupyter-widgets/base",
      "model_module_version": "1.2.0",
      "model_name": "LayoutModel",
      "state": {
       "_model_module": "@jupyter-widgets/base",
       "_model_module_version": "1.2.0",
       "_model_name": "LayoutModel",
       "_view_count": null,
       "_view_module": "@jupyter-widgets/base",
       "_view_module_version": "1.2.0",
       "_view_name": "LayoutView",
       "align_content": null,
       "align_items": null,
       "align_self": null,
       "border": null,
       "bottom": null,
       "display": null,
       "flex": null,
       "flex_flow": null,
       "grid_area": null,
       "grid_auto_columns": null,
       "grid_auto_flow": null,
       "grid_auto_rows": null,
       "grid_column": null,
       "grid_gap": null,
       "grid_row": null,
       "grid_template_areas": null,
       "grid_template_columns": null,
       "grid_template_rows": null,
       "height": null,
       "justify_content": null,
       "justify_items": null,
       "left": null,
       "margin": null,
       "max_height": null,
       "max_width": null,
       "min_height": null,
       "min_width": null,
       "object_fit": null,
       "object_position": null,
       "order": null,
       "overflow": null,
       "overflow_x": null,
       "overflow_y": null,
       "padding": null,
       "right": null,
       "top": null,
       "visibility": null,
       "width": null
      }
     },
     "1a5010693f2b4bbdb76ab312338f2dc7": {
      "model_module": "@jupyter-widgets/controls",
      "model_module_version": "1.5.0",
      "model_name": "AccordionModel",
      "state": {
       "_dom_classes": [],
       "_model_module": "@jupyter-widgets/controls",
       "_model_module_version": "1.5.0",
       "_model_name": "AccordionModel",
       "_titles": {
        "0": "Log Output"
       },
       "_view_count": null,
       "_view_module": "@jupyter-widgets/controls",
       "_view_module_version": "1.5.0",
       "_view_name": "AccordionView",
       "box_style": "",
       "children": [
        "IPY_MODEL_360a97d5ada34230b9c0036bcc42eeeb"
       ],
       "layout": "IPY_MODEL_f9a1b79151994043839ccbd9530fa294",
       "selected_index": null
      }
     },
     "1b8e4262231e4066bcf0e66b3007fc11": {
      "model_module": "@jupyter-widgets/controls",
      "model_module_version": "1.5.0",
      "model_name": "AccordionModel",
      "state": {
       "_dom_classes": [],
       "_model_module": "@jupyter-widgets/controls",
       "_model_module_version": "1.5.0",
       "_model_name": "AccordionModel",
       "_titles": {
        "0": "Log Output"
       },
       "_view_count": null,
       "_view_module": "@jupyter-widgets/controls",
       "_view_module_version": "1.5.0",
       "_view_name": "AccordionView",
       "box_style": "",
       "children": [
        "IPY_MODEL_12aec391e9bd4fc492897b951e553357"
       ],
       "layout": "IPY_MODEL_37cd50e6fd024983a447f958bc3a92e2",
       "selected_index": null
      }
     },
     "1cf824fe2d9a441b80f56bc6be532a64": {
      "model_module": "@jupyter-widgets/base",
      "model_module_version": "1.2.0",
      "model_name": "LayoutModel",
      "state": {
       "_model_module": "@jupyter-widgets/base",
       "_model_module_version": "1.2.0",
       "_model_name": "LayoutModel",
       "_view_count": null,
       "_view_module": "@jupyter-widgets/base",
       "_view_module_version": "1.2.0",
       "_view_name": "LayoutView",
       "align_content": null,
       "align_items": null,
       "align_self": null,
       "border": null,
       "bottom": null,
       "display": null,
       "flex": null,
       "flex_flow": null,
       "grid_area": null,
       "grid_auto_columns": null,
       "grid_auto_flow": null,
       "grid_auto_rows": null,
       "grid_column": null,
       "grid_gap": null,
       "grid_row": null,
       "grid_template_areas": null,
       "grid_template_columns": null,
       "grid_template_rows": null,
       "height": null,
       "justify_content": null,
       "justify_items": null,
       "left": null,
       "margin": null,
       "max_height": null,
       "max_width": null,
       "min_height": null,
       "min_width": null,
       "object_fit": null,
       "object_position": null,
       "order": null,
       "overflow": null,
       "overflow_x": null,
       "overflow_y": null,
       "padding": null,
       "right": null,
       "top": null,
       "visibility": null,
       "width": null
      }
     },
     "1ee199f991204a59808e5c6713530948": {
      "model_module": "@jupyter-widgets/controls",
      "model_module_version": "1.5.0",
      "model_name": "DescriptionStyleModel",
      "state": {
       "_model_module": "@jupyter-widgets/controls",
       "_model_module_version": "1.5.0",
       "_model_name": "DescriptionStyleModel",
       "_view_count": null,
       "_view_module": "@jupyter-widgets/base",
       "_view_module_version": "1.2.0",
       "_view_name": "StyleView",
       "description_width": ""
      }
     },
     "22e2f021c9bf47d4bb2cfee463ea49b3": {
      "model_module": "@jupyter-widgets/base",
      "model_module_version": "1.2.0",
      "model_name": "LayoutModel",
      "state": {
       "_model_module": "@jupyter-widgets/base",
       "_model_module_version": "1.2.0",
       "_model_name": "LayoutModel",
       "_view_count": null,
       "_view_module": "@jupyter-widgets/base",
       "_view_module_version": "1.2.0",
       "_view_name": "LayoutView",
       "align_content": null,
       "align_items": null,
       "align_self": null,
       "border": null,
       "bottom": null,
       "display": null,
       "flex": null,
       "flex_flow": null,
       "grid_area": null,
       "grid_auto_columns": null,
       "grid_auto_flow": null,
       "grid_auto_rows": null,
       "grid_column": null,
       "grid_gap": null,
       "grid_row": null,
       "grid_template_areas": null,
       "grid_template_columns": null,
       "grid_template_rows": null,
       "height": null,
       "justify_content": null,
       "justify_items": null,
       "left": null,
       "margin": null,
       "max_height": null,
       "max_width": null,
       "min_height": null,
       "min_width": null,
       "object_fit": null,
       "object_position": null,
       "order": null,
       "overflow": null,
       "overflow_x": null,
       "overflow_y": null,
       "padding": null,
       "right": null,
       "top": null,
       "visibility": null,
       "width": null
      }
     },
     "269e6ef44d064c4197eb65c821569c36": {
      "model_module": "@jupyter-widgets/base",
      "model_module_version": "1.2.0",
      "model_name": "LayoutModel",
      "state": {
       "_model_module": "@jupyter-widgets/base",
       "_model_module_version": "1.2.0",
       "_model_name": "LayoutModel",
       "_view_count": null,
       "_view_module": "@jupyter-widgets/base",
       "_view_module_version": "1.2.0",
       "_view_name": "LayoutView",
       "align_content": null,
       "align_items": null,
       "align_self": null,
       "border": null,
       "bottom": null,
       "display": null,
       "flex": null,
       "flex_flow": null,
       "grid_area": null,
       "grid_auto_columns": null,
       "grid_auto_flow": null,
       "grid_auto_rows": null,
       "grid_column": null,
       "grid_gap": null,
       "grid_row": null,
       "grid_template_areas": null,
       "grid_template_columns": null,
       "grid_template_rows": null,
       "height": "16em",
       "justify_content": null,
       "justify_items": null,
       "left": null,
       "margin": null,
       "max_height": null,
       "max_width": null,
       "min_height": null,
       "min_width": null,
       "object_fit": null,
       "object_position": null,
       "order": null,
       "overflow": null,
       "overflow_x": null,
       "overflow_y": "auto",
       "padding": null,
       "right": null,
       "top": null,
       "visibility": null,
       "width": "100%"
      }
     },
     "2befb83a63b64b519fd8de8cb13d0510": {
      "model_module": "@jupyter-widgets/base",
      "model_module_version": "1.2.0",
      "model_name": "LayoutModel",
      "state": {
       "_model_module": "@jupyter-widgets/base",
       "_model_module_version": "1.2.0",
       "_model_name": "LayoutModel",
       "_view_count": null,
       "_view_module": "@jupyter-widgets/base",
       "_view_module_version": "1.2.0",
       "_view_name": "LayoutView",
       "align_content": null,
       "align_items": null,
       "align_self": null,
       "border": null,
       "bottom": null,
       "display": null,
       "flex": null,
       "flex_flow": null,
       "grid_area": null,
       "grid_auto_columns": null,
       "grid_auto_flow": null,
       "grid_auto_rows": null,
       "grid_column": null,
       "grid_gap": null,
       "grid_row": null,
       "grid_template_areas": null,
       "grid_template_columns": null,
       "grid_template_rows": null,
       "height": null,
       "justify_content": null,
       "justify_items": null,
       "left": null,
       "margin": null,
       "max_height": null,
       "max_width": null,
       "min_height": null,
       "min_width": null,
       "object_fit": null,
       "object_position": null,
       "order": null,
       "overflow": null,
       "overflow_x": null,
       "overflow_y": null,
       "padding": null,
       "right": null,
       "top": null,
       "visibility": null,
       "width": null
      }
     },
     "2d3ab59b06cd4e6daf9f3cf240ad32b5": {
      "model_module": "@jupyter-widgets/controls",
      "model_module_version": "1.5.0",
      "model_name": "DescriptionStyleModel",
      "state": {
       "_model_module": "@jupyter-widgets/controls",
       "_model_module_version": "1.5.0",
       "_model_name": "DescriptionStyleModel",
       "_view_count": null,
       "_view_module": "@jupyter-widgets/base",
       "_view_module_version": "1.2.0",
       "_view_name": "StyleView",
       "description_width": ""
      }
     },
     "2d67d002a21647e78eec0853f834c5d8": {
      "model_module": "@jupyter-widgets/base",
      "model_module_version": "1.2.0",
      "model_name": "LayoutModel",
      "state": {
       "_model_module": "@jupyter-widgets/base",
       "_model_module_version": "1.2.0",
       "_model_name": "LayoutModel",
       "_view_count": null,
       "_view_module": "@jupyter-widgets/base",
       "_view_module_version": "1.2.0",
       "_view_name": "LayoutView",
       "align_content": null,
       "align_items": null,
       "align_self": null,
       "border": null,
       "bottom": null,
       "display": null,
       "flex": null,
       "flex_flow": null,
       "grid_area": null,
       "grid_auto_columns": null,
       "grid_auto_flow": null,
       "grid_auto_rows": null,
       "grid_column": null,
       "grid_gap": null,
       "grid_row": null,
       "grid_template_areas": null,
       "grid_template_columns": null,
       "grid_template_rows": null,
       "height": "16em",
       "justify_content": null,
       "justify_items": null,
       "left": null,
       "margin": null,
       "max_height": null,
       "max_width": null,
       "min_height": null,
       "min_width": null,
       "object_fit": null,
       "object_position": null,
       "order": null,
       "overflow": null,
       "overflow_x": null,
       "overflow_y": "auto",
       "padding": null,
       "right": null,
       "top": null,
       "visibility": null,
       "width": "100%"
      }
     },
     "2f65200043294df3947620ad4e278344": {
      "buffers": [
       {
        "data": "GMndPQAAAABfz0k9X89JPQAAAAAAAAAAAAAAAAAAAABfz0k9X89JPQAAAAAYyd09AAAAAAAAAACBPVY9gT1WPQAAAAAAAAAAAAAAABjJ3T2BPVY9gT1WPRjJ3T0AAAAAAAAAAAAAAACBPVY9gT1WPQAAAAAAAAAAAAAAABjJ3T2BPVY9gT1WPRjJ3T0AAAAAAAAAAAAAAAAu34I9Lt+CPQAAAAAYyd09GMndPQAAAAAu34I9Lt+CPQAAAAAAAAAA",
        "encoding": "base64",
        "path": [
         "attribute",
         "buffer"
        ]
       },
       {
        "data": "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",
        "encoding": "base64",
        "path": [
         "color_map",
         "buffer"
        ]
       },
       {
        "data": "AAAAAAEAAAACAAAAAwAAAAQAAAAFAAAABgAAAAcAAAAIAAAACQAAAAoAAAALAAAADAAAAA0AAAAOAAAADwAAABAAAAARAAAAEgAAABMAAAAUAAAAFQAAABYAAAAXAAAAGAAAABkAAAAaAAAAGwAAABwAAAAdAAAAHgAAAB8AAAAgAAAAIQAAACIAAAAjAAAAJAAAACUAAAAmAAAAJwAAACgAAAApAAAAKgAAACsAAAAsAAAALQAAAC4AAAAvAAAA",
        "encoding": "base64",
        "path": [
         "indices",
         "buffer"
        ]
       },
       {
        "data": "AACAPwAAAAAAAAAAAAAAAAAAAAAAAIA/AAAAAAAAAAAAAAAAAAAAAAAAgD8AAAAAAAAAAAAAAAAAAAAAAACAPw==",
        "encoding": "base64",
        "path": [
         "model_matrix",
         "buffer"
        ]
       },
       {
        "data": "AAAAPwAAAD8AAAAAAAAAPwAAAAAAAAAAAACAPgAAgD4AAAAAAACAPgAAgD4AAAAAAAAAPwAAAAAAAAAAAAAAAAAAAAAAAAAAAAAAAAAAAAAAAAAAAAAAAAAAAD8AAAAAAACAPgAAgD4AAAAAAACAPgAAgD4AAAAAAAAAAAAAAD8AAAAAAAAAPwAAAD8AAAAAAACAPwAAAD8AAAAAAACAPwAAAAAAAAAAAABAPwAAgD4AAAAAAABAPwAAgD4AAAAAAACAPwAAAAAAAAAAAAAAPwAAAAAAAAAAAAAAPwAAAAAAAAAAAAAAPwAAAD8AAAAAAABAPwAAgD4AAAAAAABAPwAAgD4AAAAAAAAAPwAAAD8AAAAAAACAPwAAAD8AAAAAAAAAAAAAAD8AAAAAAAAAAAAAgD8AAAAAAACAPgAAQD8AAAAAAACAPgAAQD8AAAAAAAAAAAAAgD8AAAAAAAAAPwAAgD8AAAAAAAAAPwAAgD8AAAAAAAAAPwAAAD8AAAAAAACAPgAAQD8AAAAAAACAPgAAQD8AAAAAAAAAPwAAAD8AAAAAAAAAAAAAAD8AAAAAAACAPwAAgD8AAAAAAACAPwAAAD8AAAAAAABAPwAAQD8AAAAAAABAPwAAQD8AAAAAAACAPwAAAD8AAAAAAAAAPwAAAD8AAAAAAAAAPwAAAD8AAAAAAAAAPwAAgD8AAAAAAABAPwAAQD8AAAAAAABAPwAAQD8AAAAAAAAAPwAAgD8AAAAAAACAPwAAgD8AAAAA",
        "encoding": "base64",
        "path": [
         "vertices",
         "buffer"
        ]
       }
      ],
      "model_module": "k3d",
      "model_module_version": "2.6.6",
      "model_name": "ObjectModel",
      "state": {
       "_model_module": "k3d",
       "_model_module_version": "2.6.6",
       "_model_name": "ObjectModel",
       "_view_count": null,
       "_view_module": null,
       "_view_module_version": "",
       "_view_name": null,
       "attribute": {
        "dtype": "float32",
        "shape": [
         48
        ]
       },
       "color": 255,
       "color_map": {
        "dtype": "float32",
        "shape": [
         256,
         4
        ]
       },
       "color_range": [
        0.0,
        0.10829371213912964
       ],
       "compression_level": 0,
       "flat_shading": false,
       "id": 139727300888416,
       "indices": {
        "dtype": "uint32",
        "shape": [
         16,
         3
        ]
       },
       "model_matrix": {
        "dtype": "float32",
        "shape": [
         4,
         4
        ]
       },
       "name": null,
       "opacity": 1.0,
       "type": "Mesh",
       "vertices": {
        "dtype": "float32",
        "shape": [
         48,
         3
        ]
       },
       "visible": true,
       "wireframe": false
      }
     },
     "312daf3128c64ce0990ddaa038d802aa": {
      "model_module": "@jupyter-widgets/output",
      "model_module_version": "1.0.0",
      "model_name": "OutputModel",
      "state": {
       "_dom_classes": [],
       "_model_module": "@jupyter-widgets/output",
       "_model_module_version": "1.0.0",
       "_model_name": "OutputModel",
       "_view_count": null,
       "_view_module": "@jupyter-widgets/output",
       "_view_module_version": "1.0.0",
       "_view_name": "OutputView",
       "layout": "IPY_MODEL_9a65098865c446faaa7f7562e0f68d53",
       "msg_id": "",
       "outputs": [
        {
         "data": {
          "application/vnd.jupyter.widget-view+json": {
           "model_id": "dbb1534e6fa84be99003ef8ffdf7a869",
           "version_major": 2,
           "version_minor": 0
          },
          "text/plain": "VTKPlot(antialias=3, axes=['x', 'y', 'z'], background_color=16777215, camera=[4.5, 4.5, 4.5, 0.0, 0.0, 0.0, 1.…"
         },
         "metadata": {},
         "output_type": "display_data"
        }
       ]
      }
     },
     "31945afb639c4c0dbed2a4a847eeea7c": {
      "model_module": "@jupyter-widgets/base",
      "model_module_version": "1.2.0",
      "model_name": "LayoutModel",
      "state": {
       "_model_module": "@jupyter-widgets/base",
       "_model_module_version": "1.2.0",
       "_model_name": "LayoutModel",
       "_view_count": null,
       "_view_module": "@jupyter-widgets/base",
       "_view_module_version": "1.2.0",
       "_view_name": "LayoutView",
       "align_content": null,
       "align_items": null,
       "align_self": null,
       "border": null,
       "bottom": null,
       "display": null,
       "flex": null,
       "flex_flow": null,
       "grid_area": null,
       "grid_auto_columns": null,
       "grid_auto_flow": null,
       "grid_auto_rows": null,
       "grid_column": null,
       "grid_gap": null,
       "grid_row": null,
       "grid_template_areas": null,
       "grid_template_columns": null,
       "grid_template_rows": null,
       "height": null,
       "justify_content": null,
       "justify_items": null,
       "left": null,
       "margin": null,
       "max_height": null,
       "max_width": null,
       "min_height": null,
       "min_width": null,
       "object_fit": null,
       "object_position": null,
       "order": null,
       "overflow": null,
       "overflow_x": null,
       "overflow_y": null,
       "padding": null,
       "right": null,
       "top": null,
       "visibility": null,
       "width": null
      }
     },
     "31d401409c4c4c168152d5d5c35286ff": {
      "model_module": "@jupyter-widgets/base",
      "model_module_version": "1.2.0",
      "model_name": "LayoutModel",
      "state": {
       "_model_module": "@jupyter-widgets/base",
       "_model_module_version": "1.2.0",
       "_model_name": "LayoutModel",
       "_view_count": null,
       "_view_module": "@jupyter-widgets/base",
       "_view_module_version": "1.2.0",
       "_view_name": "LayoutView",
       "align_content": null,
       "align_items": null,
       "align_self": null,
       "border": null,
       "bottom": null,
       "display": null,
       "flex": null,
       "flex_flow": null,
       "grid_area": null,
       "grid_auto_columns": null,
       "grid_auto_flow": null,
       "grid_auto_rows": null,
       "grid_column": null,
       "grid_gap": null,
       "grid_row": null,
       "grid_template_areas": null,
       "grid_template_columns": null,
       "grid_template_rows": null,
       "height": null,
       "justify_content": null,
       "justify_items": null,
       "left": null,
       "margin": null,
       "max_height": null,
       "max_width": null,
       "min_height": null,
       "min_width": null,
       "object_fit": null,
       "object_position": null,
       "order": null,
       "overflow": null,
       "overflow_x": null,
       "overflow_y": null,
       "padding": null,
       "right": null,
       "top": null,
       "visibility": null,
       "width": null
      }
     },
     "31e23746957a4a45a3513a65aca75972": {
      "model_module": "@jupyter-widgets/base",
      "model_module_version": "1.2.0",
      "model_name": "LayoutModel",
      "state": {
       "_model_module": "@jupyter-widgets/base",
       "_model_module_version": "1.2.0",
       "_model_name": "LayoutModel",
       "_view_count": null,
       "_view_module": "@jupyter-widgets/base",
       "_view_module_version": "1.2.0",
       "_view_name": "LayoutView",
       "align_content": null,
       "align_items": null,
       "align_self": null,
       "border": null,
       "bottom": null,
       "display": null,
       "flex": null,
       "flex_flow": null,
       "grid_area": null,
       "grid_auto_columns": null,
       "grid_auto_flow": null,
       "grid_auto_rows": null,
       "grid_column": null,
       "grid_gap": null,
       "grid_row": null,
       "grid_template_areas": null,
       "grid_template_columns": null,
       "grid_template_rows": null,
       "height": null,
       "justify_content": null,
       "justify_items": null,
       "left": null,
       "margin": null,
       "max_height": null,
       "max_width": null,
       "min_height": null,
       "min_width": null,
       "object_fit": null,
       "object_position": null,
       "order": null,
       "overflow": null,
       "overflow_x": null,
       "overflow_y": null,
       "padding": null,
       "right": null,
       "top": null,
       "visibility": null,
       "width": null
      }
     },
     "325ec81ed4ec4f62a742c5bcf82f93af": {
      "model_module": "@jupyter-widgets/controls",
      "model_module_version": "1.5.0",
      "model_name": "HTMLModel",
      "state": {
       "_dom_classes": [],
       "_model_module": "@jupyter-widgets/controls",
       "_model_module_version": "1.5.0",
       "_model_name": "HTMLModel",
       "_view_count": null,
       "_view_module": "@jupyter-widgets/controls",
       "_view_module_version": "1.5.0",
       "_view_name": "HTMLView",
       "description": "",
       "description_tooltip": null,
       "layout": "IPY_MODEL_71bf6db589d44bd8a9cb64fa3d386309",
       "placeholder": "​",
       "style": "IPY_MODEL_8544145aa6614af5a6db39a408743729",
       "value": ""
      }
     },
     "3346219cbba4418497e5ca3e84b397c7": {
      "model_module": "@jupyter-widgets/base",
      "model_module_version": "1.2.0",
      "model_name": "LayoutModel",
      "state": {
       "_model_module": "@jupyter-widgets/base",
       "_model_module_version": "1.2.0",
       "_model_name": "LayoutModel",
       "_view_count": null,
       "_view_module": "@jupyter-widgets/base",
       "_view_module_version": "1.2.0",
       "_view_name": "LayoutView",
       "align_content": null,
       "align_items": null,
       "align_self": null,
       "border": null,
       "bottom": null,
       "display": null,
       "flex": null,
       "flex_flow": null,
       "grid_area": null,
       "grid_auto_columns": null,
       "grid_auto_flow": null,
       "grid_auto_rows": null,
       "grid_column": null,
       "grid_gap": null,
       "grid_row": null,
       "grid_template_areas": null,
       "grid_template_columns": null,
       "grid_template_rows": null,
       "height": "16em",
       "justify_content": null,
       "justify_items": null,
       "left": null,
       "margin": null,
       "max_height": null,
       "max_width": null,
       "min_height": null,
       "min_width": null,
       "object_fit": null,
       "object_position": null,
       "order": null,
       "overflow": null,
       "overflow_x": null,
       "overflow_y": "auto",
       "padding": null,
       "right": null,
       "top": null,
       "visibility": null,
       "width": "100%"
      }
     },
     "335106de49854f8f888bd8a77cf7d3b9": {
      "model_module": "@jupyter-widgets/base",
      "model_module_version": "1.2.0",
      "model_name": "LayoutModel",
      "state": {
       "_model_module": "@jupyter-widgets/base",
       "_model_module_version": "1.2.0",
       "_model_name": "LayoutModel",
       "_view_count": null,
       "_view_module": "@jupyter-widgets/base",
       "_view_module_version": "1.2.0",
       "_view_name": "LayoutView",
       "align_content": null,
       "align_items": null,
       "align_self": null,
       "border": null,
       "bottom": null,
       "display": null,
       "flex": null,
       "flex_flow": null,
       "grid_area": null,
       "grid_auto_columns": null,
       "grid_auto_flow": null,
       "grid_auto_rows": null,
       "grid_column": null,
       "grid_gap": null,
       "grid_row": null,
       "grid_template_areas": null,
       "grid_template_columns": null,
       "grid_template_rows": null,
       "height": "16em",
       "justify_content": null,
       "justify_items": null,
       "left": null,
       "margin": null,
       "max_height": null,
       "max_width": null,
       "min_height": null,
       "min_width": null,
       "object_fit": null,
       "object_position": null,
       "order": null,
       "overflow": null,
       "overflow_x": null,
       "overflow_y": "auto",
       "padding": null,
       "right": null,
       "top": null,
       "visibility": null,
       "width": "100%"
      }
     },
     "33b76a8df1cf4bd9a9e12abdd8d0a8f2": {
      "model_module": "@jupyter-widgets/base",
      "model_module_version": "1.2.0",
      "model_name": "LayoutModel",
      "state": {
       "_model_module": "@jupyter-widgets/base",
       "_model_module_version": "1.2.0",
       "_model_name": "LayoutModel",
       "_view_count": null,
       "_view_module": "@jupyter-widgets/base",
       "_view_module_version": "1.2.0",
       "_view_name": "LayoutView",
       "align_content": null,
       "align_items": null,
       "align_self": null,
       "border": null,
       "bottom": null,
       "display": null,
       "flex": null,
       "flex_flow": null,
       "grid_area": null,
       "grid_auto_columns": null,
       "grid_auto_flow": null,
       "grid_auto_rows": null,
       "grid_column": null,
       "grid_gap": null,
       "grid_row": null,
       "grid_template_areas": null,
       "grid_template_columns": null,
       "grid_template_rows": null,
       "height": "16em",
       "justify_content": null,
       "justify_items": null,
       "left": null,
       "margin": null,
       "max_height": null,
       "max_width": null,
       "min_height": null,
       "min_width": null,
       "object_fit": null,
       "object_position": null,
       "order": null,
       "overflow": null,
       "overflow_x": null,
       "overflow_y": "auto",
       "padding": null,
       "right": null,
       "top": null,
       "visibility": null,
       "width": "100%"
      }
     },
     "350f39f88a1d444daa3afff97a131a17": {
      "model_module": "@jupyter-widgets/controls",
      "model_module_version": "1.5.0",
      "model_name": "AccordionModel",
      "state": {
       "_dom_classes": [],
       "_model_module": "@jupyter-widgets/controls",
       "_model_module_version": "1.5.0",
       "_model_name": "AccordionModel",
       "_titles": {
        "0": "Log Output"
       },
       "_view_count": null,
       "_view_module": "@jupyter-widgets/controls",
       "_view_module_version": "1.5.0",
       "_view_name": "AccordionView",
       "box_style": "",
       "children": [
        "IPY_MODEL_eb19e552950647418807364ba2c853eb"
       ],
       "layout": "IPY_MODEL_522c568c5aa940d68df62dfc2ef76b4d",
       "selected_index": null
      }
     },
     "35ff2a47e9c94f43bffc32dab8b36fbe": {
      "model_module": "k3d",
      "model_module_version": "2.6.6",
      "model_name": "PlotModel",
      "state": {
       "_backend_version": "2.6.6",
       "_dom_classes": [],
       "_model_module": "k3d",
       "_model_module_version": "2.6.6",
       "_model_name": "PlotModel",
       "_view_count": null,
       "_view_module": "k3d",
       "_view_module_version": "2.6.6",
       "_view_name": "PlotView",
       "antialias": 3,
       "axes": [
        "x",
        "y",
        "z"
       ],
       "background_color": 16777215,
       "camera": [
        0.5,
        0.5,
        0.8660254037844387,
        0.5,
        0.5,
        0.0,
        0,
        1,
        0
       ],
       "camera_auto_fit": false,
       "camera_no_pan": true,
       "camera_no_rotate": true,
       "camera_no_zoom": true,
       "clipping_planes": [],
       "colorbar_object_id": -1,
       "fps_meter": false,
       "grid": [
        0.0,
        0.0,
        0.0,
        1.0,
        1.0,
        0.0
       ],
       "grid_auto_fit": false,
       "grid_visible": false,
       "height": 512,
       "layout": "IPY_MODEL_6cd5a416b7a94be58607018e9ca4a85b",
       "lighting": 1.0,
       "menu_visibility": false,
       "object_ids": [
        139727300888416
       ],
       "rendering_steps": 1,
       "screenshot": "",
       "screenshot_scale": 2.0,
       "time": 0.0,
       "voxel_paint_color": 0
      }
     },
     "360a97d5ada34230b9c0036bcc42eeeb": {
      "model_module": "@jupyter-widgets/controls",
      "model_module_version": "1.5.0",
      "model_name": "HTMLModel",
      "state": {
       "_dom_classes": [],
       "_model_module": "@jupyter-widgets/controls",
       "_model_module_version": "1.5.0",
       "_model_name": "HTMLModel",
       "_view_count": null,
       "_view_module": "@jupyter-widgets/controls",
       "_view_module_version": "1.5.0",
       "_view_name": "HTMLView",
       "description": "",
       "description_tooltip": null,
       "layout": "IPY_MODEL_47242610b10740f7b4b69a836a6de261",
       "placeholder": "​",
       "style": "IPY_MODEL_ff4398d083de4f83b2587005932e9bb9",
       "value": ""
      }
     },
     "3639bf977cc4445a9b905bc9a154091e": {
      "model_module": "@jupyter-widgets/controls",
      "model_module_version": "1.5.0",
      "model_name": "AccordionModel",
      "state": {
       "_dom_classes": [],
       "_model_module": "@jupyter-widgets/controls",
       "_model_module_version": "1.5.0",
       "_model_name": "AccordionModel",
       "_titles": {
        "0": "Log Output"
       },
       "_view_count": null,
       "_view_module": "@jupyter-widgets/controls",
       "_view_module_version": "1.5.0",
       "_view_name": "AccordionView",
       "box_style": "",
       "children": [
        "IPY_MODEL_da4421b735d94151bb8a34d5427f5d16"
       ],
       "layout": "IPY_MODEL_eeb2388c166945d296dce8fada0446bc",
       "selected_index": null
      }
     },
     "37a71e33945f4deda92c6052612fd62c": {
      "model_module": "@jupyter-widgets/base",
      "model_module_version": "1.2.0",
      "model_name": "LayoutModel",
      "state": {
       "_model_module": "@jupyter-widgets/base",
       "_model_module_version": "1.2.0",
       "_model_name": "LayoutModel",
       "_view_count": null,
       "_view_module": "@jupyter-widgets/base",
       "_view_module_version": "1.2.0",
       "_view_name": "LayoutView",
       "align_content": null,
       "align_items": null,
       "align_self": null,
       "border": null,
       "bottom": null,
       "display": null,
       "flex": null,
       "flex_flow": null,
       "grid_area": null,
       "grid_auto_columns": null,
       "grid_auto_flow": null,
       "grid_auto_rows": null,
       "grid_column": null,
       "grid_gap": null,
       "grid_row": null,
       "grid_template_areas": null,
       "grid_template_columns": null,
       "grid_template_rows": null,
       "height": null,
       "justify_content": null,
       "justify_items": null,
       "left": null,
       "margin": null,
       "max_height": null,
       "max_width": null,
       "min_height": null,
       "min_width": null,
       "object_fit": null,
       "object_position": null,
       "order": null,
       "overflow": null,
       "overflow_x": null,
       "overflow_y": null,
       "padding": null,
       "right": null,
       "top": null,
       "visibility": null,
       "width": null
      }
     },
     "37cd50e6fd024983a447f958bc3a92e2": {
      "model_module": "@jupyter-widgets/base",
      "model_module_version": "1.2.0",
      "model_name": "LayoutModel",
      "state": {
       "_model_module": "@jupyter-widgets/base",
       "_model_module_version": "1.2.0",
       "_model_name": "LayoutModel",
       "_view_count": null,
       "_view_module": "@jupyter-widgets/base",
       "_view_module_version": "1.2.0",
       "_view_name": "LayoutView",
       "align_content": null,
       "align_items": null,
       "align_self": null,
       "border": null,
       "bottom": null,
       "display": null,
       "flex": null,
       "flex_flow": null,
       "grid_area": null,
       "grid_auto_columns": null,
       "grid_auto_flow": null,
       "grid_auto_rows": null,
       "grid_column": null,
       "grid_gap": null,
       "grid_row": null,
       "grid_template_areas": null,
       "grid_template_columns": null,
       "grid_template_rows": null,
       "height": null,
       "justify_content": null,
       "justify_items": null,
       "left": null,
       "margin": null,
       "max_height": null,
       "max_width": null,
       "min_height": null,
       "min_width": null,
       "object_fit": null,
       "object_position": null,
       "order": null,
       "overflow": null,
       "overflow_x": null,
       "overflow_y": null,
       "padding": null,
       "right": null,
       "top": null,
       "visibility": null,
       "width": null
      }
     },
     "3839a944c3944c3a9ba6d322cb5c7f53": {
      "model_module": "@jupyter-widgets/controls",
      "model_module_version": "1.5.0",
      "model_name": "AccordionModel",
      "state": {
       "_dom_classes": [],
       "_model_module": "@jupyter-widgets/controls",
       "_model_module_version": "1.5.0",
       "_model_name": "AccordionModel",
       "_titles": {
        "0": "Log Output"
       },
       "_view_count": null,
       "_view_module": "@jupyter-widgets/controls",
       "_view_module_version": "1.5.0",
       "_view_name": "AccordionView",
       "box_style": "",
       "children": [
        "IPY_MODEL_995089c7a6c249c4a34d3aef83a2b3ce"
       ],
       "layout": "IPY_MODEL_a3098ad6d31344b58a7ba55fde91948f",
       "selected_index": null
      }
     },
     "3936787f913f47b399dfef1dc61b9d14": {
      "model_module": "@jupyter-widgets/base",
      "model_module_version": "1.2.0",
      "model_name": "LayoutModel",
      "state": {
       "_model_module": "@jupyter-widgets/base",
       "_model_module_version": "1.2.0",
       "_model_name": "LayoutModel",
       "_view_count": null,
       "_view_module": "@jupyter-widgets/base",
       "_view_module_version": "1.2.0",
       "_view_name": "LayoutView",
       "align_content": null,
       "align_items": null,
       "align_self": null,
       "border": null,
       "bottom": null,
       "display": null,
       "flex": null,
       "flex_flow": null,
       "grid_area": null,
       "grid_auto_columns": null,
       "grid_auto_flow": null,
       "grid_auto_rows": null,
       "grid_column": null,
       "grid_gap": null,
       "grid_row": null,
       "grid_template_areas": null,
       "grid_template_columns": null,
       "grid_template_rows": null,
       "height": null,
       "justify_content": null,
       "justify_items": null,
       "left": null,
       "margin": null,
       "max_height": null,
       "max_width": null,
       "min_height": null,
       "min_width": null,
       "object_fit": null,
       "object_position": null,
       "order": null,
       "overflow": null,
       "overflow_x": null,
       "overflow_y": null,
       "padding": null,
       "right": null,
       "top": null,
       "visibility": null,
       "width": null
      }
     },
     "3ae6c86f7e494a33ad062129a2c99665": {
      "model_module": "@jupyter-widgets/controls",
      "model_module_version": "1.5.0",
      "model_name": "DescriptionStyleModel",
      "state": {
       "_model_module": "@jupyter-widgets/controls",
       "_model_module_version": "1.5.0",
       "_model_name": "DescriptionStyleModel",
       "_view_count": null,
       "_view_module": "@jupyter-widgets/base",
       "_view_module_version": "1.2.0",
       "_view_name": "StyleView",
       "description_width": ""
      }
     },
     "3d3dbc23908140dead10c182905f7b96": {
      "model_module": "@jupyter-widgets/base",
      "model_module_version": "1.2.0",
      "model_name": "LayoutModel",
      "state": {
       "_model_module": "@jupyter-widgets/base",
       "_model_module_version": "1.2.0",
       "_model_name": "LayoutModel",
       "_view_count": null,
       "_view_module": "@jupyter-widgets/base",
       "_view_module_version": "1.2.0",
       "_view_name": "LayoutView",
       "align_content": null,
       "align_items": null,
       "align_self": null,
       "border": null,
       "bottom": null,
       "display": null,
       "flex": null,
       "flex_flow": null,
       "grid_area": null,
       "grid_auto_columns": null,
       "grid_auto_flow": null,
       "grid_auto_rows": null,
       "grid_column": null,
       "grid_gap": null,
       "grid_row": null,
       "grid_template_areas": null,
       "grid_template_columns": null,
       "grid_template_rows": null,
       "height": null,
       "justify_content": null,
       "justify_items": null,
       "left": null,
       "margin": null,
       "max_height": null,
       "max_width": null,
       "min_height": null,
       "min_width": null,
       "object_fit": null,
       "object_position": null,
       "order": null,
       "overflow": null,
       "overflow_x": null,
       "overflow_y": null,
       "padding": null,
       "right": null,
       "top": null,
       "visibility": null,
       "width": null
      }
     },
     "3d67b2da35d24fc9939decd58d3f9971": {
      "model_module": "@jupyter-widgets/base",
      "model_module_version": "1.2.0",
      "model_name": "LayoutModel",
      "state": {
       "_model_module": "@jupyter-widgets/base",
       "_model_module_version": "1.2.0",
       "_model_name": "LayoutModel",
       "_view_count": null,
       "_view_module": "@jupyter-widgets/base",
       "_view_module_version": "1.2.0",
       "_view_name": "LayoutView",
       "align_content": null,
       "align_items": null,
       "align_self": null,
       "border": null,
       "bottom": null,
       "display": null,
       "flex": null,
       "flex_flow": null,
       "grid_area": null,
       "grid_auto_columns": null,
       "grid_auto_flow": null,
       "grid_auto_rows": null,
       "grid_column": null,
       "grid_gap": null,
       "grid_row": null,
       "grid_template_areas": null,
       "grid_template_columns": null,
       "grid_template_rows": null,
       "height": "16em",
       "justify_content": null,
       "justify_items": null,
       "left": null,
       "margin": null,
       "max_height": null,
       "max_width": null,
       "min_height": null,
       "min_width": null,
       "object_fit": null,
       "object_position": null,
       "order": null,
       "overflow": null,
       "overflow_x": null,
       "overflow_y": "auto",
       "padding": null,
       "right": null,
       "top": null,
       "visibility": null,
       "width": "100%"
      }
     },
     "3e87d6304265478da4a22fe7265cae85": {
      "model_module": "@jupyter-widgets/controls",
      "model_module_version": "1.5.0",
      "model_name": "HTMLModel",
      "state": {
       "_dom_classes": [],
       "_model_module": "@jupyter-widgets/controls",
       "_model_module_version": "1.5.0",
       "_model_name": "HTMLModel",
       "_view_count": null,
       "_view_module": "@jupyter-widgets/controls",
       "_view_module_version": "1.5.0",
       "_view_name": "HTMLView",
       "description": "",
       "description_tooltip": null,
       "layout": "IPY_MODEL_474a60f7be33417d82bbad04fbfa6206",
       "placeholder": "​",
       "style": "IPY_MODEL_5f0512b0fff849eba4c8e50a1d378245",
       "value": ""
      }
     },
     "4127b64943c94f9a8aa0e43cf1405fc7": {
      "model_module": "@jupyter-widgets/controls",
      "model_module_version": "1.5.0",
      "model_name": "HTMLModel",
      "state": {
       "_dom_classes": [],
       "_model_module": "@jupyter-widgets/controls",
       "_model_module_version": "1.5.0",
       "_model_name": "HTMLModel",
       "_view_count": null,
       "_view_module": "@jupyter-widgets/controls",
       "_view_module_version": "1.5.0",
       "_view_name": "HTMLView",
       "description": "",
       "description_tooltip": null,
       "layout": "IPY_MODEL_c85252ea4eaa4871b095bee428bc43d4",
       "placeholder": "​",
       "style": "IPY_MODEL_bcf6440530414696b6a5fd153db0ba62",
       "value": ""
      }
     },
     "423b43a3bc7d4e9aa47457701b8f0502": {
      "model_module": "@jupyter-widgets/output",
      "model_module_version": "1.0.0",
      "model_name": "OutputModel",
      "state": {
       "_dom_classes": [],
       "_model_module": "@jupyter-widgets/output",
       "_model_module_version": "1.0.0",
       "_model_name": "OutputModel",
       "_view_count": null,
       "_view_module": "@jupyter-widgets/output",
       "_view_module_version": "1.0.0",
       "_view_name": "OutputView",
       "layout": "IPY_MODEL_935022ee1db145869b2dca6ed9c466da",
       "msg_id": "",
       "outputs": [
        {
         "data": {
          "application/vnd.jupyter.widget-view+json": {
           "model_id": "906756b530aa473ba7db2c4b40d7a302",
           "version_major": 2,
           "version_minor": 0
          },
          "text/plain": "VTKPlot(antialias=3, axes=['x', 'y', 'z'], background_color=16777215, camera=[4.5, 4.5, 4.5, 0.0, 0.0, 0.0, 1.…"
         },
         "metadata": {},
         "output_type": "display_data"
        }
       ]
      }
     },
     "43d960016b1f42a3861e6760c697378b": {
      "model_module": "@jupyter-widgets/controls",
      "model_module_version": "1.5.0",
      "model_name": "DescriptionStyleModel",
      "state": {
       "_model_module": "@jupyter-widgets/controls",
       "_model_module_version": "1.5.0",
       "_model_name": "DescriptionStyleModel",
       "_view_count": null,
       "_view_module": "@jupyter-widgets/base",
       "_view_module_version": "1.2.0",
       "_view_name": "StyleView",
       "description_width": ""
      }
     },
     "45b2ddbac69b40738f9a37488b25ab2a": {
      "buffers": [
       {
        "data": "RnK3PgAAAACw5+Q9sOfkPQAAAAAAAAAAAAAAAAAAAACw5+Q9sOfkPQAAAABGcrc+AAAAPwAAAABgj3U+YI91PgAAAAAAAAAAAAAAAEZytz5gj3U+YI91PkZytz4AAAA/AAAAAAAAAABgj3U+YI91PgAAAAAAAAA/AAAAP0Zytz5gj3U+YI91PkZytz4AAAAAAACAPwAAAD/mWyA/5lsgPwAAAD9Gcrc+RnK3PgAAAD/mWyA/5lsgPwAAAD8AAIA/",
        "encoding": "base64",
        "path": [
         "attribute",
         "buffer"
        ]
       },
       {
        "data": "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",
        "encoding": "base64",
        "path": [
         "color_map",
         "buffer"
        ]
       },
       {
        "data": "AAAAAAEAAAACAAAAAwAAAAQAAAAFAAAABgAAAAcAAAAIAAAACQAAAAoAAAALAAAADAAAAA0AAAAOAAAADwAAABAAAAARAAAAEgAAABMAAAAUAAAAFQAAABYAAAAXAAAAGAAAABkAAAAaAAAAGwAAABwAAAAdAAAAHgAAAB8AAAAgAAAAIQAAACIAAAAjAAAAJAAAACUAAAAmAAAAJwAAACgAAAApAAAAKgAAACsAAAAsAAAALQAAAC4AAAAvAAAA",
        "encoding": "base64",
        "path": [
         "indices",
         "buffer"
        ]
       },
       {
        "data": "AACAPwAAAAAAAAAAAAAAAAAAAAAAAIA/AAAAAAAAAAAAAAAAAAAAAAAAgD8AAAAAAAAAAAAAAAAAAAAAAACAPw==",
        "encoding": "base64",
        "path": [
         "model_matrix",
         "buffer"
        ]
       },
       {
        "data": "AAAAPwAAAD8AAAAAAAAAPwAAAAAAAAAAAACAPgAAgD4AAAAAAACAPgAAgD4AAAAAAAAAPwAAAAAAAAAAAAAAAAAAAAAAAAAAAAAAAAAAAAAAAAAAAAAAAAAAAD8AAAAAAACAPgAAgD4AAAAAAACAPgAAgD4AAAAAAAAAAAAAAD8AAAAAAAAAPwAAAD8AAAAAAACAPwAAAD8AAAAAAACAPwAAAAAAAAAAAABAPwAAgD4AAAAAAABAPwAAgD4AAAAAAACAPwAAAAAAAAAAAAAAPwAAAAAAAAAAAAAAPwAAAAAAAAAAAAAAPwAAAD8AAAAAAABAPwAAgD4AAAAAAABAPwAAgD4AAAAAAAAAPwAAAD8AAAAAAACAPwAAAD8AAAAAAAAAAAAAAD8AAAAAAAAAAAAAgD8AAAAAAACAPgAAQD8AAAAAAACAPgAAQD8AAAAAAAAAAAAAgD8AAAAAAAAAPwAAgD8AAAAAAAAAPwAAgD8AAAAAAAAAPwAAAD8AAAAAAACAPgAAQD8AAAAAAACAPgAAQD8AAAAAAAAAPwAAAD8AAAAAAAAAAAAAAD8AAAAAAACAPwAAgD8AAAAAAACAPwAAAD8AAAAAAABAPwAAQD8AAAAAAABAPwAAQD8AAAAAAACAPwAAAD8AAAAAAAAAPwAAAD8AAAAAAAAAPwAAAD8AAAAAAAAAPwAAgD8AAAAAAABAPwAAQD8AAAAAAABAPwAAQD8AAAAAAAAAPwAAgD8AAAAAAACAPwAAgD8AAAAA",
        "encoding": "base64",
        "path": [
         "vertices",
         "buffer"
        ]
       }
      ],
      "model_module": "k3d",
      "model_module_version": "2.6.6",
      "model_name": "ObjectModel",
      "state": {
       "_model_module": "k3d",
       "_model_module_version": "2.6.6",
       "_model_name": "ObjectModel",
       "_view_count": null,
       "_view_module": null,
       "_view_module_version": "",
       "_view_name": null,
       "attribute": {
        "dtype": "float32",
        "shape": [
         48
        ]
       },
       "color": 255,
       "color_map": {
        "dtype": "float32",
        "shape": [
         256,
         4
        ]
       },
       "color_range": [
        0.0,
        1.0
       ],
       "compression_level": 0,
       "flat_shading": false,
       "id": 139727300841728,
       "indices": {
        "dtype": "uint32",
        "shape": [
         16,
         3
        ]
       },
       "model_matrix": {
        "dtype": "float32",
        "shape": [
         4,
         4
        ]
       },
       "name": null,
       "opacity": 1.0,
       "type": "Mesh",
       "vertices": {
        "dtype": "float32",
        "shape": [
         48,
         3
        ]
       },
       "visible": true,
       "wireframe": false
      }
     },
     "47242610b10740f7b4b69a836a6de261": {
      "model_module": "@jupyter-widgets/base",
      "model_module_version": "1.2.0",
      "model_name": "LayoutModel",
      "state": {
       "_model_module": "@jupyter-widgets/base",
       "_model_module_version": "1.2.0",
       "_model_name": "LayoutModel",
       "_view_count": null,
       "_view_module": "@jupyter-widgets/base",
       "_view_module_version": "1.2.0",
       "_view_name": "LayoutView",
       "align_content": null,
       "align_items": null,
       "align_self": null,
       "border": null,
       "bottom": null,
       "display": null,
       "flex": null,
       "flex_flow": null,
       "grid_area": null,
       "grid_auto_columns": null,
       "grid_auto_flow": null,
       "grid_auto_rows": null,
       "grid_column": null,
       "grid_gap": null,
       "grid_row": null,
       "grid_template_areas": null,
       "grid_template_columns": null,
       "grid_template_rows": null,
       "height": "16em",
       "justify_content": null,
       "justify_items": null,
       "left": null,
       "margin": null,
       "max_height": null,
       "max_width": null,
       "min_height": null,
       "min_width": null,
       "object_fit": null,
       "object_position": null,
       "order": null,
       "overflow": null,
       "overflow_x": null,
       "overflow_y": "auto",
       "padding": null,
       "right": null,
       "top": null,
       "visibility": null,
       "width": "100%"
      }
     },
     "474a60f7be33417d82bbad04fbfa6206": {
      "model_module": "@jupyter-widgets/base",
      "model_module_version": "1.2.0",
      "model_name": "LayoutModel",
      "state": {
       "_model_module": "@jupyter-widgets/base",
       "_model_module_version": "1.2.0",
       "_model_name": "LayoutModel",
       "_view_count": null,
       "_view_module": "@jupyter-widgets/base",
       "_view_module_version": "1.2.0",
       "_view_name": "LayoutView",
       "align_content": null,
       "align_items": null,
       "align_self": null,
       "border": null,
       "bottom": null,
       "display": null,
       "flex": null,
       "flex_flow": null,
       "grid_area": null,
       "grid_auto_columns": null,
       "grid_auto_flow": null,
       "grid_auto_rows": null,
       "grid_column": null,
       "grid_gap": null,
       "grid_row": null,
       "grid_template_areas": null,
       "grid_template_columns": null,
       "grid_template_rows": null,
       "height": "16em",
       "justify_content": null,
       "justify_items": null,
       "left": null,
       "margin": null,
       "max_height": null,
       "max_width": null,
       "min_height": null,
       "min_width": null,
       "object_fit": null,
       "object_position": null,
       "order": null,
       "overflow": null,
       "overflow_x": null,
       "overflow_y": "auto",
       "padding": null,
       "right": null,
       "top": null,
       "visibility": null,
       "width": "100%"
      }
     },
     "47699b5eb5f242e1b508aebc450bcd8c": {
      "model_module": "@jupyter-widgets/controls",
      "model_module_version": "1.5.0",
      "model_name": "AccordionModel",
      "state": {
       "_dom_classes": [],
       "_model_module": "@jupyter-widgets/controls",
       "_model_module_version": "1.5.0",
       "_model_name": "AccordionModel",
       "_titles": {
        "0": "Log Output"
       },
       "_view_count": null,
       "_view_module": "@jupyter-widgets/controls",
       "_view_module_version": "1.5.0",
       "_view_name": "AccordionView",
       "box_style": "",
       "children": [
        "IPY_MODEL_7a18b63ee3c84b3593614bd07b372f17"
       ],
       "layout": "IPY_MODEL_a1e828ffda2c43409839cb180c769200",
       "selected_index": null
      }
     },
     "48243c3772ec4f08987594582fb91a96": {
      "model_module": "@jupyter-widgets/controls",
      "model_module_version": "1.5.0",
      "model_name": "AccordionModel",
      "state": {
       "_dom_classes": [],
       "_model_module": "@jupyter-widgets/controls",
       "_model_module_version": "1.5.0",
       "_model_name": "AccordionModel",
       "_titles": {
        "0": "Log Output"
       },
       "_view_count": null,
       "_view_module": "@jupyter-widgets/controls",
       "_view_module_version": "1.5.0",
       "_view_name": "AccordionView",
       "box_style": "",
       "children": [
        "IPY_MODEL_325ec81ed4ec4f62a742c5bcf82f93af"
       ],
       "layout": "IPY_MODEL_3936787f913f47b399dfef1dc61b9d14",
       "selected_index": null
      }
     },
     "4907e29fa70c41efaed63bfe1a58ae54": {
      "model_module": "k3d",
      "model_module_version": "2.6.6",
      "model_name": "PlotModel",
      "state": {
       "_backend_version": "2.6.6",
       "_dom_classes": [],
       "_model_module": "k3d",
       "_model_module_version": "2.6.6",
       "_model_name": "PlotModel",
       "_view_count": null,
       "_view_module": "k3d",
       "_view_module_version": "2.6.6",
       "_view_name": "PlotView",
       "antialias": 3,
       "axes": [
        "x",
        "y",
        "z"
       ],
       "background_color": 16777215,
       "camera": [
        0.5,
        0.5,
        0.8660254037844387,
        0.5,
        0.5,
        0.0,
        0,
        1,
        0
       ],
       "camera_auto_fit": false,
       "camera_no_pan": true,
       "camera_no_rotate": true,
       "camera_no_zoom": true,
       "clipping_planes": [],
       "colorbar_object_id": -1,
       "fps_meter": false,
       "grid": [
        0.0,
        0.0,
        0.0,
        1.0,
        1.0,
        0.0
       ],
       "grid_auto_fit": false,
       "grid_visible": false,
       "height": 512,
       "layout": "IPY_MODEL_4ebe5a4fae264b818da87d6a4ab98c34",
       "lighting": 1.0,
       "menu_visibility": false,
       "object_ids": [
        139727300841728
       ],
       "rendering_steps": 1,
       "screenshot": "",
       "screenshot_scale": 2.0,
       "time": 0.0,
       "voxel_paint_color": 0
      }
     },
     "4989c874651e464d9cbf573c0389bf37": {
      "model_module": "@jupyter-widgets/base",
      "model_module_version": "1.2.0",
      "model_name": "LayoutModel",
      "state": {
       "_model_module": "@jupyter-widgets/base",
       "_model_module_version": "1.2.0",
       "_model_name": "LayoutModel",
       "_view_count": null,
       "_view_module": "@jupyter-widgets/base",
       "_view_module_version": "1.2.0",
       "_view_name": "LayoutView",
       "align_content": null,
       "align_items": null,
       "align_self": null,
       "border": null,
       "bottom": null,
       "display": null,
       "flex": null,
       "flex_flow": null,
       "grid_area": null,
       "grid_auto_columns": null,
       "grid_auto_flow": null,
       "grid_auto_rows": null,
       "grid_column": null,
       "grid_gap": null,
       "grid_row": null,
       "grid_template_areas": null,
       "grid_template_columns": null,
       "grid_template_rows": null,
       "height": null,
       "justify_content": null,
       "justify_items": null,
       "left": null,
       "margin": null,
       "max_height": null,
       "max_width": null,
       "min_height": null,
       "min_width": null,
       "object_fit": null,
       "object_position": null,
       "order": null,
       "overflow": null,
       "overflow_x": null,
       "overflow_y": null,
       "padding": null,
       "right": null,
       "top": null,
       "visibility": null,
       "width": null
      }
     },
     "4a9adddfb6e0461999ce6eb1b3b7d886": {
      "model_module": "@jupyter-widgets/base",
      "model_module_version": "1.2.0",
      "model_name": "LayoutModel",
      "state": {
       "_model_module": "@jupyter-widgets/base",
       "_model_module_version": "1.2.0",
       "_model_name": "LayoutModel",
       "_view_count": null,
       "_view_module": "@jupyter-widgets/base",
       "_view_module_version": "1.2.0",
       "_view_name": "LayoutView",
       "align_content": null,
       "align_items": null,
       "align_self": null,
       "border": null,
       "bottom": null,
       "display": null,
       "flex": null,
       "flex_flow": null,
       "grid_area": null,
       "grid_auto_columns": null,
       "grid_auto_flow": null,
       "grid_auto_rows": null,
       "grid_column": null,
       "grid_gap": null,
       "grid_row": null,
       "grid_template_areas": null,
       "grid_template_columns": null,
       "grid_template_rows": null,
       "height": "16em",
       "justify_content": null,
       "justify_items": null,
       "left": null,
       "margin": null,
       "max_height": null,
       "max_width": null,
       "min_height": null,
       "min_width": null,
       "object_fit": null,
       "object_position": null,
       "order": null,
       "overflow": null,
       "overflow_x": null,
       "overflow_y": "auto",
       "padding": null,
       "right": null,
       "top": null,
       "visibility": null,
       "width": "100%"
      }
     },
     "4be656bff5e042879600e1658e75db77": {
      "model_module": "@jupyter-widgets/base",
      "model_module_version": "1.2.0",
      "model_name": "LayoutModel",
      "state": {
       "_model_module": "@jupyter-widgets/base",
       "_model_module_version": "1.2.0",
       "_model_name": "LayoutModel",
       "_view_count": null,
       "_view_module": "@jupyter-widgets/base",
       "_view_module_version": "1.2.0",
       "_view_name": "LayoutView",
       "align_content": null,
       "align_items": null,
       "align_self": null,
       "border": null,
       "bottom": null,
       "display": null,
       "flex": null,
       "flex_flow": null,
       "grid_area": null,
       "grid_auto_columns": null,
       "grid_auto_flow": null,
       "grid_auto_rows": null,
       "grid_column": null,
       "grid_gap": null,
       "grid_row": null,
       "grid_template_areas": null,
       "grid_template_columns": null,
       "grid_template_rows": null,
       "height": "16em",
       "justify_content": null,
       "justify_items": null,
       "left": null,
       "margin": null,
       "max_height": null,
       "max_width": null,
       "min_height": null,
       "min_width": null,
       "object_fit": null,
       "object_position": null,
       "order": null,
       "overflow": null,
       "overflow_x": null,
       "overflow_y": "auto",
       "padding": null,
       "right": null,
       "top": null,
       "visibility": null,
       "width": "100%"
      }
     },
     "4c025c41daf84e82ae8cb03567f2c4d6": {
      "model_module": "@jupyter-widgets/base",
      "model_module_version": "1.2.0",
      "model_name": "LayoutModel",
      "state": {
       "_model_module": "@jupyter-widgets/base",
       "_model_module_version": "1.2.0",
       "_model_name": "LayoutModel",
       "_view_count": null,
       "_view_module": "@jupyter-widgets/base",
       "_view_module_version": "1.2.0",
       "_view_name": "LayoutView",
       "align_content": null,
       "align_items": null,
       "align_self": null,
       "border": null,
       "bottom": null,
       "display": null,
       "flex": null,
       "flex_flow": null,
       "grid_area": null,
       "grid_auto_columns": null,
       "grid_auto_flow": null,
       "grid_auto_rows": null,
       "grid_column": null,
       "grid_gap": null,
       "grid_row": null,
       "grid_template_areas": null,
       "grid_template_columns": null,
       "grid_template_rows": null,
       "height": null,
       "justify_content": null,
       "justify_items": null,
       "left": null,
       "margin": null,
       "max_height": null,
       "max_width": null,
       "min_height": null,
       "min_width": null,
       "object_fit": null,
       "object_position": null,
       "order": null,
       "overflow": null,
       "overflow_x": null,
       "overflow_y": null,
       "padding": null,
       "right": null,
       "top": null,
       "visibility": null,
       "width": null
      }
     },
     "4c8ddd04a68e4579acb0858cc24ceea1": {
      "model_module": "@jupyter-widgets/base",
      "model_module_version": "1.2.0",
      "model_name": "LayoutModel",
      "state": {
       "_model_module": "@jupyter-widgets/base",
       "_model_module_version": "1.2.0",
       "_model_name": "LayoutModel",
       "_view_count": null,
       "_view_module": "@jupyter-widgets/base",
       "_view_module_version": "1.2.0",
       "_view_name": "LayoutView",
       "align_content": null,
       "align_items": null,
       "align_self": null,
       "border": null,
       "bottom": null,
       "display": null,
       "flex": null,
       "flex_flow": null,
       "grid_area": null,
       "grid_auto_columns": null,
       "grid_auto_flow": null,
       "grid_auto_rows": null,
       "grid_column": null,
       "grid_gap": null,
       "grid_row": null,
       "grid_template_areas": null,
       "grid_template_columns": null,
       "grid_template_rows": null,
       "height": null,
       "justify_content": null,
       "justify_items": null,
       "left": null,
       "margin": null,
       "max_height": null,
       "max_width": null,
       "min_height": null,
       "min_width": null,
       "object_fit": null,
       "object_position": null,
       "order": null,
       "overflow": null,
       "overflow_x": null,
       "overflow_y": null,
       "padding": null,
       "right": null,
       "top": null,
       "visibility": null,
       "width": null
      }
     },
     "4d90b53b5bc14804a2765a2f2d33985e": {
      "model_module": "@jupyter-widgets/base",
      "model_module_version": "1.2.0",
      "model_name": "LayoutModel",
      "state": {
       "_model_module": "@jupyter-widgets/base",
       "_model_module_version": "1.2.0",
       "_model_name": "LayoutModel",
       "_view_count": null,
       "_view_module": "@jupyter-widgets/base",
       "_view_module_version": "1.2.0",
       "_view_name": "LayoutView",
       "align_content": null,
       "align_items": null,
       "align_self": null,
       "border": null,
       "bottom": null,
       "display": null,
       "flex": null,
       "flex_flow": null,
       "grid_area": null,
       "grid_auto_columns": null,
       "grid_auto_flow": null,
       "grid_auto_rows": null,
       "grid_column": null,
       "grid_gap": null,
       "grid_row": null,
       "grid_template_areas": null,
       "grid_template_columns": null,
       "grid_template_rows": null,
       "height": null,
       "justify_content": null,
       "justify_items": null,
       "left": null,
       "margin": null,
       "max_height": null,
       "max_width": null,
       "min_height": null,
       "min_width": null,
       "object_fit": null,
       "object_position": null,
       "order": null,
       "overflow": null,
       "overflow_x": null,
       "overflow_y": null,
       "padding": null,
       "right": null,
       "top": null,
       "visibility": null,
       "width": null
      }
     },
     "4ddf7a19db0d4b8d99157f0a5643e411": {
      "model_module": "@jupyter-widgets/controls",
      "model_module_version": "1.5.0",
      "model_name": "HTMLModel",
      "state": {
       "_dom_classes": [],
       "_model_module": "@jupyter-widgets/controls",
       "_model_module_version": "1.5.0",
       "_model_name": "HTMLModel",
       "_view_count": null,
       "_view_module": "@jupyter-widgets/controls",
       "_view_module_version": "1.5.0",
       "_view_name": "HTMLView",
       "description": "",
       "description_tooltip": null,
       "layout": "IPY_MODEL_fc19132c04934a8b8fa626c513d8d1ce",
       "placeholder": "​",
       "style": "IPY_MODEL_def4f54ea846459db0e6d24d6deb5438",
       "value": ""
      }
     },
     "4e93cd025660479f8ebbe3919a8fc1c6": {
      "model_module": "@jupyter-widgets/base",
      "model_module_version": "1.2.0",
      "model_name": "LayoutModel",
      "state": {
       "_model_module": "@jupyter-widgets/base",
       "_model_module_version": "1.2.0",
       "_model_name": "LayoutModel",
       "_view_count": null,
       "_view_module": "@jupyter-widgets/base",
       "_view_module_version": "1.2.0",
       "_view_name": "LayoutView",
       "align_content": null,
       "align_items": null,
       "align_self": null,
       "border": null,
       "bottom": null,
       "display": null,
       "flex": null,
       "flex_flow": null,
       "grid_area": null,
       "grid_auto_columns": null,
       "grid_auto_flow": null,
       "grid_auto_rows": null,
       "grid_column": null,
       "grid_gap": null,
       "grid_row": null,
       "grid_template_areas": null,
       "grid_template_columns": null,
       "grid_template_rows": null,
       "height": "16em",
       "justify_content": null,
       "justify_items": null,
       "left": null,
       "margin": null,
       "max_height": null,
       "max_width": null,
       "min_height": null,
       "min_width": null,
       "object_fit": null,
       "object_position": null,
       "order": null,
       "overflow": null,
       "overflow_x": null,
       "overflow_y": "auto",
       "padding": null,
       "right": null,
       "top": null,
       "visibility": null,
       "width": "100%"
      }
     },
     "4ebe5a4fae264b818da87d6a4ab98c34": {
      "model_module": "@jupyter-widgets/base",
      "model_module_version": "1.2.0",
      "model_name": "LayoutModel",
      "state": {
       "_model_module": "@jupyter-widgets/base",
       "_model_module_version": "1.2.0",
       "_model_name": "LayoutModel",
       "_view_count": null,
       "_view_module": "@jupyter-widgets/base",
       "_view_module_version": "1.2.0",
       "_view_name": "LayoutView",
       "align_content": null,
       "align_items": null,
       "align_self": null,
       "border": null,
       "bottom": null,
       "display": null,
       "flex": null,
       "flex_flow": null,
       "grid_area": null,
       "grid_auto_columns": null,
       "grid_auto_flow": null,
       "grid_auto_rows": null,
       "grid_column": null,
       "grid_gap": null,
       "grid_row": null,
       "grid_template_areas": null,
       "grid_template_columns": null,
       "grid_template_rows": null,
       "height": null,
       "justify_content": null,
       "justify_items": null,
       "left": null,
       "margin": null,
       "max_height": null,
       "max_width": null,
       "min_height": null,
       "min_width": null,
       "object_fit": null,
       "object_position": null,
       "order": null,
       "overflow": null,
       "overflow_x": null,
       "overflow_y": null,
       "padding": null,
       "right": null,
       "top": null,
       "visibility": null,
       "width": null
      }
     },
     "522c568c5aa940d68df62dfc2ef76b4d": {
      "model_module": "@jupyter-widgets/base",
      "model_module_version": "1.2.0",
      "model_name": "LayoutModel",
      "state": {
       "_model_module": "@jupyter-widgets/base",
       "_model_module_version": "1.2.0",
       "_model_name": "LayoutModel",
       "_view_count": null,
       "_view_module": "@jupyter-widgets/base",
       "_view_module_version": "1.2.0",
       "_view_name": "LayoutView",
       "align_content": null,
       "align_items": null,
       "align_self": null,
       "border": null,
       "bottom": null,
       "display": null,
       "flex": null,
       "flex_flow": null,
       "grid_area": null,
       "grid_auto_columns": null,
       "grid_auto_flow": null,
       "grid_auto_rows": null,
       "grid_column": null,
       "grid_gap": null,
       "grid_row": null,
       "grid_template_areas": null,
       "grid_template_columns": null,
       "grid_template_rows": null,
       "height": null,
       "justify_content": null,
       "justify_items": null,
       "left": null,
       "margin": null,
       "max_height": null,
       "max_width": null,
       "min_height": null,
       "min_width": null,
       "object_fit": null,
       "object_position": null,
       "order": null,
       "overflow": null,
       "overflow_x": null,
       "overflow_y": null,
       "padding": null,
       "right": null,
       "top": null,
       "visibility": null,
       "width": null
      }
     },
     "536be7e35a4847729106cf5fa7f056b0": {
      "buffers": [
       {
        "data": "RnK3PgAAAACw5+Q9sOfkPQAAAAAAAAAAAAAAAAAAAACw5+Q9sOfkPQAAAABGcrc+AAAAPwAAAABgj3U+YI91PgAAAAAAAAAAAAAAAEZytz5gj3U+YI91PkZytz4AAAA/AAAAAAAAAABgj3U+YI91PgAAAAAAAAA/AAAAP0Zytz5gj3U+YI91PkZytz4AAAAAAACAPwAAAD/mWyA/5lsgPwAAAD9Gcrc+RnK3PgAAAD/mWyA/5lsgPwAAAD8AAIA/",
        "encoding": "base64",
        "path": [
         "attribute",
         "buffer"
        ]
       },
       {
        "data": "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",
        "encoding": "base64",
        "path": [
         "color_map",
         "buffer"
        ]
       },
       {
        "data": "AAAAAAEAAAACAAAAAwAAAAQAAAAFAAAABgAAAAcAAAAIAAAACQAAAAoAAAALAAAADAAAAA0AAAAOAAAADwAAABAAAAARAAAAEgAAABMAAAAUAAAAFQAAABYAAAAXAAAAGAAAABkAAAAaAAAAGwAAABwAAAAdAAAAHgAAAB8AAAAgAAAAIQAAACIAAAAjAAAAJAAAACUAAAAmAAAAJwAAACgAAAApAAAAKgAAACsAAAAsAAAALQAAAC4AAAAvAAAA",
        "encoding": "base64",
        "path": [
         "indices",
         "buffer"
        ]
       },
       {
        "data": "AACAPwAAAAAAAAAAAAAAAAAAAAAAAIA/AAAAAAAAAAAAAAAAAAAAAAAAgD8AAAAAAAAAAAAAAAAAAAAAAACAPw==",
        "encoding": "base64",
        "path": [
         "model_matrix",
         "buffer"
        ]
       },
       {
        "data": "AAAAPwAAAD8AAAAAAAAAPwAAAAAAAAAAAACAPgAAgD4AAAAAAACAPgAAgD4AAAAAAAAAPwAAAAAAAAAAAAAAAAAAAAAAAAAAAAAAAAAAAAAAAAAAAAAAAAAAAD8AAAAAAACAPgAAgD4AAAAAAACAPgAAgD4AAAAAAAAAAAAAAD8AAAAAAAAAPwAAAD8AAAAAAACAPwAAAD8AAAAAAACAPwAAAAAAAAAAAABAPwAAgD4AAAAAAABAPwAAgD4AAAAAAACAPwAAAAAAAAAAAAAAPwAAAAAAAAAAAAAAPwAAAAAAAAAAAAAAPwAAAD8AAAAAAABAPwAAgD4AAAAAAABAPwAAgD4AAAAAAAAAPwAAAD8AAAAAAACAPwAAAD8AAAAAAAAAAAAAAD8AAAAAAAAAAAAAgD8AAAAAAACAPgAAQD8AAAAAAACAPgAAQD8AAAAAAAAAAAAAgD8AAAAAAAAAPwAAgD8AAAAAAAAAPwAAgD8AAAAAAAAAPwAAAD8AAAAAAACAPgAAQD8AAAAAAACAPgAAQD8AAAAAAAAAPwAAAD8AAAAAAAAAAAAAAD8AAAAAAACAPwAAgD8AAAAAAACAPwAAAD8AAAAAAABAPwAAQD8AAAAAAABAPwAAQD8AAAAAAACAPwAAAD8AAAAAAAAAPwAAAD8AAAAAAAAAPwAAAD8AAAAAAAAAPwAAgD8AAAAAAABAPwAAQD8AAAAAAABAPwAAQD8AAAAAAAAAPwAAgD8AAAAAAACAPwAAgD8AAAAA",
        "encoding": "base64",
        "path": [
         "vertices",
         "buffer"
        ]
       }
      ],
      "model_module": "k3d",
      "model_module_version": "2.6.6",
      "model_name": "ObjectModel",
      "state": {
       "_model_module": "k3d",
       "_model_module_version": "2.6.6",
       "_model_name": "ObjectModel",
       "_view_count": null,
       "_view_module": null,
       "_view_module_version": "",
       "_view_name": null,
       "attribute": {
        "dtype": "float32",
        "shape": [
         48
        ]
       },
       "color": 255,
       "color_map": {
        "dtype": "float32",
        "shape": [
         256,
         4
        ]
       },
       "color_range": [
        0.0,
        1.0
       ],
       "compression_level": 0,
       "flat_shading": false,
       "id": 139727301010000,
       "indices": {
        "dtype": "uint32",
        "shape": [
         16,
         3
        ]
       },
       "model_matrix": {
        "dtype": "float32",
        "shape": [
         4,
         4
        ]
       },
       "name": null,
       "opacity": 1.0,
       "type": "Mesh",
       "vertices": {
        "dtype": "float32",
        "shape": [
         48,
         3
        ]
       },
       "visible": true,
       "wireframe": false
      }
     },
     "54a44b106f384ad79e2b4768825e6c52": {
      "model_module": "@jupyter-widgets/base",
      "model_module_version": "1.2.0",
      "model_name": "LayoutModel",
      "state": {
       "_model_module": "@jupyter-widgets/base",
       "_model_module_version": "1.2.0",
       "_model_name": "LayoutModel",
       "_view_count": null,
       "_view_module": "@jupyter-widgets/base",
       "_view_module_version": "1.2.0",
       "_view_name": "LayoutView",
       "align_content": null,
       "align_items": null,
       "align_self": null,
       "border": null,
       "bottom": null,
       "display": null,
       "flex": null,
       "flex_flow": null,
       "grid_area": null,
       "grid_auto_columns": null,
       "grid_auto_flow": null,
       "grid_auto_rows": null,
       "grid_column": null,
       "grid_gap": null,
       "grid_row": null,
       "grid_template_areas": null,
       "grid_template_columns": null,
       "grid_template_rows": null,
       "height": null,
       "justify_content": null,
       "justify_items": null,
       "left": null,
       "margin": null,
       "max_height": null,
       "max_width": null,
       "min_height": null,
       "min_width": null,
       "object_fit": null,
       "object_position": null,
       "order": null,
       "overflow": null,
       "overflow_x": null,
       "overflow_y": null,
       "padding": null,
       "right": null,
       "top": null,
       "visibility": null,
       "width": null
      }
     },
     "56b09a0c361a431e9876032fe48b31bc": {
      "model_module": "@jupyter-widgets/controls",
      "model_module_version": "1.5.0",
      "model_name": "HTMLModel",
      "state": {
       "_dom_classes": [],
       "_model_module": "@jupyter-widgets/controls",
       "_model_module_version": "1.5.0",
       "_model_name": "HTMLModel",
       "_view_count": null,
       "_view_module": "@jupyter-widgets/controls",
       "_view_module_version": "1.5.0",
       "_view_name": "HTMLView",
       "description": "",
       "description_tooltip": null,
       "layout": "IPY_MODEL_aff074c4e9a34a78b18a427b031b3b78",
       "placeholder": "​",
       "style": "IPY_MODEL_11296f18f96a4983a22ed5f0246e9ff9",
       "value": ""
      }
     },
     "5ac4b57f03d845bd88d29cffe37b6933": {
      "model_module": "@jupyter-widgets/base",
      "model_module_version": "1.2.0",
      "model_name": "LayoutModel",
      "state": {
       "_model_module": "@jupyter-widgets/base",
       "_model_module_version": "1.2.0",
       "_model_name": "LayoutModel",
       "_view_count": null,
       "_view_module": "@jupyter-widgets/base",
       "_view_module_version": "1.2.0",
       "_view_name": "LayoutView",
       "align_content": null,
       "align_items": null,
       "align_self": null,
       "border": null,
       "bottom": null,
       "display": null,
       "flex": null,
       "flex_flow": null,
       "grid_area": null,
       "grid_auto_columns": null,
       "grid_auto_flow": null,
       "grid_auto_rows": null,
       "grid_column": null,
       "grid_gap": null,
       "grid_row": null,
       "grid_template_areas": null,
       "grid_template_columns": null,
       "grid_template_rows": null,
       "height": null,
       "justify_content": null,
       "justify_items": null,
       "left": null,
       "margin": null,
       "max_height": null,
       "max_width": null,
       "min_height": null,
       "min_width": null,
       "object_fit": null,
       "object_position": null,
       "order": null,
       "overflow": null,
       "overflow_x": null,
       "overflow_y": null,
       "padding": null,
       "right": null,
       "top": null,
       "visibility": null,
       "width": null
      }
     },
     "5b5d72ea050d4efdaddcb88c892d99ed": {
      "model_module": "@jupyter-widgets/controls",
      "model_module_version": "1.5.0",
      "model_name": "AccordionModel",
      "state": {
       "_dom_classes": [],
       "_model_module": "@jupyter-widgets/controls",
       "_model_module_version": "1.5.0",
       "_model_name": "AccordionModel",
       "_titles": {
        "0": "Log Output"
       },
       "_view_count": null,
       "_view_module": "@jupyter-widgets/controls",
       "_view_module_version": "1.5.0",
       "_view_name": "AccordionView",
       "box_style": "",
       "children": [
        "IPY_MODEL_ce774aa8d09e4669ad0ef8e7859dc219"
       ],
       "layout": "IPY_MODEL_f85fea871eff46acac155fd497fdb441",
       "selected_index": null
      }
     },
     "5cb74b3aad5b4d0bbd983dbe1328d35c": {
      "model_module": "@jupyter-widgets/base",
      "model_module_version": "1.2.0",
      "model_name": "LayoutModel",
      "state": {
       "_model_module": "@jupyter-widgets/base",
       "_model_module_version": "1.2.0",
       "_model_name": "LayoutModel",
       "_view_count": null,
       "_view_module": "@jupyter-widgets/base",
       "_view_module_version": "1.2.0",
       "_view_name": "LayoutView",
       "align_content": null,
       "align_items": null,
       "align_self": null,
       "border": null,
       "bottom": null,
       "display": null,
       "flex": null,
       "flex_flow": null,
       "grid_area": null,
       "grid_auto_columns": null,
       "grid_auto_flow": null,
       "grid_auto_rows": null,
       "grid_column": null,
       "grid_gap": null,
       "grid_row": null,
       "grid_template_areas": null,
       "grid_template_columns": null,
       "grid_template_rows": null,
       "height": null,
       "justify_content": null,
       "justify_items": null,
       "left": null,
       "margin": null,
       "max_height": null,
       "max_width": null,
       "min_height": null,
       "min_width": null,
       "object_fit": null,
       "object_position": null,
       "order": null,
       "overflow": null,
       "overflow_x": null,
       "overflow_y": null,
       "padding": null,
       "right": null,
       "top": null,
       "visibility": null,
       "width": null
      }
     },
     "5ddf542ff953416391f106a1489be354": {
      "model_module": "@jupyter-widgets/controls",
      "model_module_version": "1.5.0",
      "model_name": "HTMLModel",
      "state": {
       "_dom_classes": [],
       "_model_module": "@jupyter-widgets/controls",
       "_model_module_version": "1.5.0",
       "_model_name": "HTMLModel",
       "_view_count": null,
       "_view_module": "@jupyter-widgets/controls",
       "_view_module_version": "1.5.0",
       "_view_name": "HTMLView",
       "description": "",
       "description_tooltip": null,
       "layout": "IPY_MODEL_4a9adddfb6e0461999ce6eb1b3b7d886",
       "placeholder": "​",
       "style": "IPY_MODEL_2d3ab59b06cd4e6daf9f3cf240ad32b5",
       "value": ""
      }
     },
     "5f0512b0fff849eba4c8e50a1d378245": {
      "model_module": "@jupyter-widgets/controls",
      "model_module_version": "1.5.0",
      "model_name": "DescriptionStyleModel",
      "state": {
       "_model_module": "@jupyter-widgets/controls",
       "_model_module_version": "1.5.0",
       "_model_name": "DescriptionStyleModel",
       "_view_count": null,
       "_view_module": "@jupyter-widgets/base",
       "_view_module_version": "1.2.0",
       "_view_name": "StyleView",
       "description_width": ""
      }
     },
     "5f6328b39db6474ba61ed65440ed9f74": {
      "model_module": "@jupyter-widgets/controls",
      "model_module_version": "1.5.0",
      "model_name": "DescriptionStyleModel",
      "state": {
       "_model_module": "@jupyter-widgets/controls",
       "_model_module_version": "1.5.0",
       "_model_name": "DescriptionStyleModel",
       "_view_count": null,
       "_view_module": "@jupyter-widgets/base",
       "_view_module_version": "1.2.0",
       "_view_name": "StyleView",
       "description_width": ""
      }
     },
     "5f882a2de8204facbe36a8e9372252a2": {
      "model_module": "@jupyter-widgets/base",
      "model_module_version": "1.2.0",
      "model_name": "LayoutModel",
      "state": {
       "_model_module": "@jupyter-widgets/base",
       "_model_module_version": "1.2.0",
       "_model_name": "LayoutModel",
       "_view_count": null,
       "_view_module": "@jupyter-widgets/base",
       "_view_module_version": "1.2.0",
       "_view_name": "LayoutView",
       "align_content": null,
       "align_items": null,
       "align_self": null,
       "border": null,
       "bottom": null,
       "display": null,
       "flex": null,
       "flex_flow": null,
       "grid_area": null,
       "grid_auto_columns": null,
       "grid_auto_flow": null,
       "grid_auto_rows": null,
       "grid_column": null,
       "grid_gap": null,
       "grid_row": null,
       "grid_template_areas": null,
       "grid_template_columns": null,
       "grid_template_rows": null,
       "height": "16em",
       "justify_content": null,
       "justify_items": null,
       "left": null,
       "margin": null,
       "max_height": null,
       "max_width": null,
       "min_height": null,
       "min_width": null,
       "object_fit": null,
       "object_position": null,
       "order": null,
       "overflow": null,
       "overflow_x": null,
       "overflow_y": "auto",
       "padding": null,
       "right": null,
       "top": null,
       "visibility": null,
       "width": "100%"
      }
     },
     "64293b0d853846d687be8621030c0707": {
      "model_module": "k3d",
      "model_module_version": "2.6.6",
      "model_name": "PlotModel",
      "state": {
       "_backend_version": "2.6.6",
       "_dom_classes": [],
       "_model_module": "k3d",
       "_model_module_version": "2.6.6",
       "_model_name": "PlotModel",
       "_view_count": null,
       "_view_module": "k3d",
       "_view_module_version": "2.6.6",
       "_view_name": "PlotView",
       "antialias": 3,
       "axes": [
        "x",
        "y",
        "z"
       ],
       "background_color": 16777215,
       "camera": [
        0.5,
        0.5,
        0.8660254037844387,
        0.5,
        0.5,
        0.0,
        0,
        1,
        0
       ],
       "camera_auto_fit": false,
       "camera_no_pan": true,
       "camera_no_rotate": true,
       "camera_no_zoom": true,
       "clipping_planes": [],
       "colorbar_object_id": -1,
       "fps_meter": false,
       "grid": [
        0.0,
        0.0,
        0.0,
        1.0,
        1.0,
        0.0
       ],
       "grid_auto_fit": false,
       "grid_visible": false,
       "height": 512,
       "layout": "IPY_MODEL_5ac4b57f03d845bd88d29cffe37b6933",
       "lighting": 1.0,
       "menu_visibility": false,
       "object_ids": [
        139727301010000
       ],
       "rendering_steps": 1,
       "screenshot": "",
       "screenshot_scale": 2.0,
       "time": 0.0,
       "voxel_paint_color": 0
      }
     },
     "645f267c45bc493cafe33b89f8f1c07b": {
      "model_module": "@jupyter-widgets/controls",
      "model_module_version": "1.5.0",
      "model_name": "HTMLModel",
      "state": {
       "_dom_classes": [],
       "_model_module": "@jupyter-widgets/controls",
       "_model_module_version": "1.5.0",
       "_model_name": "HTMLModel",
       "_view_count": null,
       "_view_module": "@jupyter-widgets/controls",
       "_view_module_version": "1.5.0",
       "_view_name": "HTMLView",
       "description": "",
       "description_tooltip": null,
       "layout": "IPY_MODEL_8513b42b27924991963cdb40c0db07a3",
       "placeholder": "​",
       "style": "IPY_MODEL_66ed162d3dbd4e30b6743ee3589db044",
       "value": ""
      }
     },
     "646894b3783e425a8e832cdda08385df": {
      "model_module": "@jupyter-widgets/controls",
      "model_module_version": "1.5.0",
      "model_name": "AccordionModel",
      "state": {
       "_dom_classes": [],
       "_model_module": "@jupyter-widgets/controls",
       "_model_module_version": "1.5.0",
       "_model_name": "AccordionModel",
       "_titles": {
        "0": "Log Output"
       },
       "_view_count": null,
       "_view_module": "@jupyter-widgets/controls",
       "_view_module_version": "1.5.0",
       "_view_name": "AccordionView",
       "box_style": "",
       "children": [
        "IPY_MODEL_de90eb5cf1f842e2868e214aa47af70f"
       ],
       "layout": "IPY_MODEL_54a44b106f384ad79e2b4768825e6c52",
       "selected_index": null
      }
     },
     "6556083c51944360829d92512719f161": {
      "buffers": [
       {
        "data": "AAAAAAAAAAAAAAAAAACAPwAAgD8AAIA/AAAAQAAAAEAAAABAAABAQAAAQEAAAEBAAACAQAAAgEAAAIBAAACgQAAAoEAAAKBAAADAQAAAwEAAAMBAAADgQAAA4EAAAOBAAAAAQQAAAEEAAABBAAAQQQAAEEEAABBBAAAgQQAAIEEAACBBAAAwQQAAMEEAADBBAABAQQAAQEEAAEBBAABQQQAAUEEAAFBBAABgQQAAYEEAAGBBAABwQQAAcEEAAHBB",
        "encoding": "base64",
        "path": [
         "attribute",
         "buffer"
        ]
       },
       {
        "data": "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",
        "encoding": "base64",
        "path": [
         "color_map",
         "buffer"
        ]
       },
       {
        "data": "AAAAAAEAAAACAAAAAwAAAAQAAAAFAAAABgAAAAcAAAAIAAAACQAAAAoAAAALAAAADAAAAA0AAAAOAAAADwAAABAAAAARAAAAEgAAABMAAAAUAAAAFQAAABYAAAAXAAAAGAAAABkAAAAaAAAAGwAAABwAAAAdAAAAHgAAAB8AAAAgAAAAIQAAACIAAAAjAAAAJAAAACUAAAAmAAAAJwAAACgAAAApAAAAKgAAACsAAAAsAAAALQAAAC4AAAAvAAAA",
        "encoding": "base64",
        "path": [
         "indices",
         "buffer"
        ]
       },
       {
        "data": "AACAPwAAAAAAAAAAAAAAAAAAAAAAAIA/AAAAAAAAAAAAAAAAAAAAAAAAgD8AAAAAAAAAAAAAAAAAAAAAAACAPw==",
        "encoding": "base64",
        "path": [
         "model_matrix",
         "buffer"
        ]
       },
       {
        "data": "AAAAPwAAAD8AAAAAAAAAPwAAAAAAAAAAAACAPgAAgD4AAAAAAACAPgAAgD4AAAAAAAAAPwAAAAAAAAAAAAAAAAAAAAAAAAAAAAAAAAAAAAAAAAAAAAAAAAAAAD8AAAAAAACAPgAAgD4AAAAAAACAPgAAgD4AAAAAAAAAAAAAAD8AAAAAAAAAPwAAAD8AAAAAAACAPwAAAD8AAAAAAACAPwAAAAAAAAAAAABAPwAAgD4AAAAAAABAPwAAgD4AAAAAAACAPwAAAAAAAAAAAAAAPwAAAAAAAAAAAAAAPwAAAAAAAAAAAAAAPwAAAD8AAAAAAABAPwAAgD4AAAAAAABAPwAAgD4AAAAAAAAAPwAAAD8AAAAAAACAPwAAAD8AAAAAAAAAAAAAAD8AAAAAAAAAAAAAgD8AAAAAAACAPgAAQD8AAAAAAACAPgAAQD8AAAAAAAAAAAAAgD8AAAAAAAAAPwAAgD8AAAAAAAAAPwAAgD8AAAAAAAAAPwAAAD8AAAAAAACAPgAAQD8AAAAAAACAPgAAQD8AAAAAAAAAPwAAAD8AAAAAAAAAAAAAAD8AAAAAAACAPwAAgD8AAAAAAACAPwAAAD8AAAAAAABAPwAAQD8AAAAAAABAPwAAQD8AAAAAAACAPwAAAD8AAAAAAAAAPwAAAD8AAAAAAAAAPwAAAD8AAAAAAAAAPwAAgD8AAAAAAABAPwAAQD8AAAAAAABAPwAAQD8AAAAAAAAAPwAAgD8AAAAAAACAPwAAgD8AAAAA",
        "encoding": "base64",
        "path": [
         "vertices",
         "buffer"
        ]
       }
      ],
      "model_module": "k3d",
      "model_module_version": "2.6.6",
      "model_name": "ObjectModel",
      "state": {
       "_model_module": "k3d",
       "_model_module_version": "2.6.6",
       "_model_name": "ObjectModel",
       "_view_count": null,
       "_view_module": null,
       "_view_module_version": "",
       "_view_name": null,
       "attribute": {
        "dtype": "float32",
        "shape": [
         48
        ]
       },
       "color": 255,
       "color_map": {
        "dtype": "float32",
        "shape": [
         256,
         4
        ]
       },
       "color_range": [
        0.0,
        15.0
       ],
       "compression_level": 0,
       "flat_shading": false,
       "id": 139728213597728,
       "indices": {
        "dtype": "uint32",
        "shape": [
         16,
         3
        ]
       },
       "model_matrix": {
        "dtype": "float32",
        "shape": [
         4,
         4
        ]
       },
       "name": null,
       "opacity": 1.0,
       "type": "Mesh",
       "vertices": {
        "dtype": "float32",
        "shape": [
         48,
         3
        ]
       },
       "visible": true,
       "wireframe": false
      }
     },
     "65b7f044b1484c02ab304d4666e5a584": {
      "model_module": "@jupyter-widgets/controls",
      "model_module_version": "1.5.0",
      "model_name": "DescriptionStyleModel",
      "state": {
       "_model_module": "@jupyter-widgets/controls",
       "_model_module_version": "1.5.0",
       "_model_name": "DescriptionStyleModel",
       "_view_count": null,
       "_view_module": "@jupyter-widgets/base",
       "_view_module_version": "1.2.0",
       "_view_name": "StyleView",
       "description_width": ""
      }
     },
     "65f5e21e4c944ea6b11fb170221a6f5d": {
      "model_module": "@jupyter-widgets/output",
      "model_module_version": "1.0.0",
      "model_name": "OutputModel",
      "state": {
       "_dom_classes": [],
       "_model_module": "@jupyter-widgets/output",
       "_model_module_version": "1.0.0",
       "_model_name": "OutputModel",
       "_view_count": null,
       "_view_module": "@jupyter-widgets/output",
       "_view_module_version": "1.0.0",
       "_view_name": "OutputView",
       "layout": "IPY_MODEL_3d3dbc23908140dead10c182905f7b96",
       "msg_id": "",
       "outputs": [
        {
         "data": {
          "application/vnd.jupyter.widget-view+json": {
           "model_id": "64293b0d853846d687be8621030c0707",
           "version_major": 2,
           "version_minor": 0
          },
          "text/plain": "VTKPlot(antialias=3, axes=['x', 'y', 'z'], background_color=16777215, camera=[4.5, 4.5, 4.5, 0.0, 0.0, 0.0, 1.…"
         },
         "metadata": {},
         "output_type": "display_data"
        }
       ]
      }
     },
     "66ed162d3dbd4e30b6743ee3589db044": {
      "model_module": "@jupyter-widgets/controls",
      "model_module_version": "1.5.0",
      "model_name": "DescriptionStyleModel",
      "state": {
       "_model_module": "@jupyter-widgets/controls",
       "_model_module_version": "1.5.0",
       "_model_name": "DescriptionStyleModel",
       "_view_count": null,
       "_view_module": "@jupyter-widgets/base",
       "_view_module_version": "1.2.0",
       "_view_name": "StyleView",
       "description_width": ""
      }
     },
     "6a8d5af7864045959265704df3b5b502": {
      "model_module": "@jupyter-widgets/output",
      "model_module_version": "1.0.0",
      "model_name": "OutputModel",
      "state": {
       "_dom_classes": [],
       "_model_module": "@jupyter-widgets/output",
       "_model_module_version": "1.0.0",
       "_model_name": "OutputModel",
       "_view_count": null,
       "_view_module": "@jupyter-widgets/output",
       "_view_module_version": "1.0.0",
       "_view_name": "OutputView",
       "layout": "IPY_MODEL_31945afb639c4c0dbed2a4a847eeea7c",
       "msg_id": "",
       "outputs": [
        {
         "data": {
          "application/vnd.jupyter.widget-view+json": {
           "model_id": "35ff2a47e9c94f43bffc32dab8b36fbe",
           "version_major": 2,
           "version_minor": 0
          },
          "text/plain": "VTKPlot(antialias=3, axes=['x', 'y', 'z'], background_color=16777215, camera=[4.5, 4.5, 4.5, 0.0, 0.0, 0.0, 1.…"
         },
         "metadata": {},
         "output_type": "display_data"
        }
       ]
      }
     },
     "6aabf5b58d984f31afd36a3377d8d4ae": {
      "model_module": "k3d",
      "model_module_version": "2.6.6",
      "model_name": "PlotModel",
      "state": {
       "_backend_version": "2.6.6",
       "_dom_classes": [],
       "_model_module": "k3d",
       "_model_module_version": "2.6.6",
       "_model_name": "PlotModel",
       "_view_count": null,
       "_view_module": "k3d",
       "_view_module_version": "2.6.6",
       "_view_name": "PlotView",
       "antialias": 3,
       "axes": [
        "x",
        "y",
        "z"
       ],
       "background_color": 16777215,
       "camera": [
        0.5,
        0.5,
        0.8660254037844387,
        0.5,
        0.5,
        0.0,
        0,
        1,
        0
       ],
       "camera_auto_fit": false,
       "camera_no_pan": true,
       "camera_no_rotate": true,
       "camera_no_zoom": true,
       "clipping_planes": [],
       "colorbar_object_id": -1,
       "fps_meter": false,
       "grid": [
        0.0,
        0.0,
        0.0,
        1.0,
        1.0,
        0.0
       ],
       "grid_auto_fit": false,
       "grid_visible": false,
       "height": 512,
       "layout": "IPY_MODEL_4c025c41daf84e82ae8cb03567f2c4d6",
       "lighting": 1.0,
       "menu_visibility": false,
       "object_ids": [
        139727300842544
       ],
       "rendering_steps": 1,
       "screenshot": "",
       "screenshot_scale": 2.0,
       "time": 0.0,
       "voxel_paint_color": 0
      }
     },
     "6cb14f313157452da2a56bf05d09be5a": {
      "model_module": "@jupyter-widgets/controls",
      "model_module_version": "1.5.0",
      "model_name": "DescriptionStyleModel",
      "state": {
       "_model_module": "@jupyter-widgets/controls",
       "_model_module_version": "1.5.0",
       "_model_name": "DescriptionStyleModel",
       "_view_count": null,
       "_view_module": "@jupyter-widgets/base",
       "_view_module_version": "1.2.0",
       "_view_name": "StyleView",
       "description_width": ""
      }
     },
     "6cd5a416b7a94be58607018e9ca4a85b": {
      "model_module": "@jupyter-widgets/base",
      "model_module_version": "1.2.0",
      "model_name": "LayoutModel",
      "state": {
       "_model_module": "@jupyter-widgets/base",
       "_model_module_version": "1.2.0",
       "_model_name": "LayoutModel",
       "_view_count": null,
       "_view_module": "@jupyter-widgets/base",
       "_view_module_version": "1.2.0",
       "_view_name": "LayoutView",
       "align_content": null,
       "align_items": null,
       "align_self": null,
       "border": null,
       "bottom": null,
       "display": null,
       "flex": null,
       "flex_flow": null,
       "grid_area": null,
       "grid_auto_columns": null,
       "grid_auto_flow": null,
       "grid_auto_rows": null,
       "grid_column": null,
       "grid_gap": null,
       "grid_row": null,
       "grid_template_areas": null,
       "grid_template_columns": null,
       "grid_template_rows": null,
       "height": null,
       "justify_content": null,
       "justify_items": null,
       "left": null,
       "margin": null,
       "max_height": null,
       "max_width": null,
       "min_height": null,
       "min_width": null,
       "object_fit": null,
       "object_position": null,
       "order": null,
       "overflow": null,
       "overflow_x": null,
       "overflow_y": null,
       "padding": null,
       "right": null,
       "top": null,
       "visibility": null,
       "width": null
      }
     },
     "71bf6db589d44bd8a9cb64fa3d386309": {
      "model_module": "@jupyter-widgets/base",
      "model_module_version": "1.2.0",
      "model_name": "LayoutModel",
      "state": {
       "_model_module": "@jupyter-widgets/base",
       "_model_module_version": "1.2.0",
       "_model_name": "LayoutModel",
       "_view_count": null,
       "_view_module": "@jupyter-widgets/base",
       "_view_module_version": "1.2.0",
       "_view_name": "LayoutView",
       "align_content": null,
       "align_items": null,
       "align_self": null,
       "border": null,
       "bottom": null,
       "display": null,
       "flex": null,
       "flex_flow": null,
       "grid_area": null,
       "grid_auto_columns": null,
       "grid_auto_flow": null,
       "grid_auto_rows": null,
       "grid_column": null,
       "grid_gap": null,
       "grid_row": null,
       "grid_template_areas": null,
       "grid_template_columns": null,
       "grid_template_rows": null,
       "height": "16em",
       "justify_content": null,
       "justify_items": null,
       "left": null,
       "margin": null,
       "max_height": null,
       "max_width": null,
       "min_height": null,
       "min_width": null,
       "object_fit": null,
       "object_position": null,
       "order": null,
       "overflow": null,
       "overflow_x": null,
       "overflow_y": "auto",
       "padding": null,
       "right": null,
       "top": null,
       "visibility": null,
       "width": "100%"
      }
     },
     "746f9eb653ed4a9ca595d0c0ec4db05e": {
      "model_module": "@jupyter-widgets/base",
      "model_module_version": "1.2.0",
      "model_name": "LayoutModel",
      "state": {
       "_model_module": "@jupyter-widgets/base",
       "_model_module_version": "1.2.0",
       "_model_name": "LayoutModel",
       "_view_count": null,
       "_view_module": "@jupyter-widgets/base",
       "_view_module_version": "1.2.0",
       "_view_name": "LayoutView",
       "align_content": null,
       "align_items": null,
       "align_self": null,
       "border": null,
       "bottom": null,
       "display": null,
       "flex": null,
       "flex_flow": null,
       "grid_area": null,
       "grid_auto_columns": null,
       "grid_auto_flow": null,
       "grid_auto_rows": null,
       "grid_column": null,
       "grid_gap": null,
       "grid_row": null,
       "grid_template_areas": null,
       "grid_template_columns": null,
       "grid_template_rows": null,
       "height": "16em",
       "justify_content": null,
       "justify_items": null,
       "left": null,
       "margin": null,
       "max_height": null,
       "max_width": null,
       "min_height": null,
       "min_width": null,
       "object_fit": null,
       "object_position": null,
       "order": null,
       "overflow": null,
       "overflow_x": null,
       "overflow_y": "auto",
       "padding": null,
       "right": null,
       "top": null,
       "visibility": null,
       "width": "100%"
      }
     },
     "75f0cc4e08f045c4a82072ef7d44b31c": {
      "model_module": "@jupyter-widgets/base",
      "model_module_version": "1.2.0",
      "model_name": "LayoutModel",
      "state": {
       "_model_module": "@jupyter-widgets/base",
       "_model_module_version": "1.2.0",
       "_model_name": "LayoutModel",
       "_view_count": null,
       "_view_module": "@jupyter-widgets/base",
       "_view_module_version": "1.2.0",
       "_view_name": "LayoutView",
       "align_content": null,
       "align_items": null,
       "align_self": null,
       "border": null,
       "bottom": null,
       "display": null,
       "flex": null,
       "flex_flow": null,
       "grid_area": null,
       "grid_auto_columns": null,
       "grid_auto_flow": null,
       "grid_auto_rows": null,
       "grid_column": null,
       "grid_gap": null,
       "grid_row": null,
       "grid_template_areas": null,
       "grid_template_columns": null,
       "grid_template_rows": null,
       "height": null,
       "justify_content": null,
       "justify_items": null,
       "left": null,
       "margin": null,
       "max_height": null,
       "max_width": null,
       "min_height": null,
       "min_width": null,
       "object_fit": null,
       "object_position": null,
       "order": null,
       "overflow": null,
       "overflow_x": null,
       "overflow_y": null,
       "padding": null,
       "right": null,
       "top": null,
       "visibility": null,
       "width": null
      }
     },
     "7a18b63ee3c84b3593614bd07b372f17": {
      "model_module": "@jupyter-widgets/controls",
      "model_module_version": "1.5.0",
      "model_name": "HTMLModel",
      "state": {
       "_dom_classes": [],
       "_model_module": "@jupyter-widgets/controls",
       "_model_module_version": "1.5.0",
       "_model_name": "HTMLModel",
       "_view_count": null,
       "_view_module": "@jupyter-widgets/controls",
       "_view_module_version": "1.5.0",
       "_view_name": "HTMLView",
       "description": "",
       "description_tooltip": null,
       "layout": "IPY_MODEL_7f8dfa920efb4b4287e7fa18ebcc14ff",
       "placeholder": "​",
       "style": "IPY_MODEL_f6b719b3544d4bdc8289ff0dcbbd6662",
       "value": ""
      }
     },
     "7f8dfa920efb4b4287e7fa18ebcc14ff": {
      "model_module": "@jupyter-widgets/base",
      "model_module_version": "1.2.0",
      "model_name": "LayoutModel",
      "state": {
       "_model_module": "@jupyter-widgets/base",
       "_model_module_version": "1.2.0",
       "_model_name": "LayoutModel",
       "_view_count": null,
       "_view_module": "@jupyter-widgets/base",
       "_view_module_version": "1.2.0",
       "_view_name": "LayoutView",
       "align_content": null,
       "align_items": null,
       "align_self": null,
       "border": null,
       "bottom": null,
       "display": null,
       "flex": null,
       "flex_flow": null,
       "grid_area": null,
       "grid_auto_columns": null,
       "grid_auto_flow": null,
       "grid_auto_rows": null,
       "grid_column": null,
       "grid_gap": null,
       "grid_row": null,
       "grid_template_areas": null,
       "grid_template_columns": null,
       "grid_template_rows": null,
       "height": "16em",
       "justify_content": null,
       "justify_items": null,
       "left": null,
       "margin": null,
       "max_height": null,
       "max_width": null,
       "min_height": null,
       "min_width": null,
       "object_fit": null,
       "object_position": null,
       "order": null,
       "overflow": null,
       "overflow_x": null,
       "overflow_y": "auto",
       "padding": null,
       "right": null,
       "top": null,
       "visibility": null,
       "width": "100%"
      }
     },
     "825d3eb05ccc4893be8cc0506b8e72db": {
      "model_module": "@jupyter-widgets/controls",
      "model_module_version": "1.5.0",
      "model_name": "AccordionModel",
      "state": {
       "_dom_classes": [],
       "_model_module": "@jupyter-widgets/controls",
       "_model_module_version": "1.5.0",
       "_model_name": "AccordionModel",
       "_titles": {
        "0": "Log Output"
       },
       "_view_count": null,
       "_view_module": "@jupyter-widgets/controls",
       "_view_module_version": "1.5.0",
       "_view_name": "AccordionView",
       "box_style": "",
       "children": [
        "IPY_MODEL_e6691b82ca794d78936ebd938e1c736e"
       ],
       "layout": "IPY_MODEL_22e2f021c9bf47d4bb2cfee463ea49b3",
       "selected_index": null
      }
     },
     "84c92a724c8743bea198e4dee202d88a": {
      "model_module": "@jupyter-widgets/controls",
      "model_module_version": "1.5.0",
      "model_name": "HTMLModel",
      "state": {
       "_dom_classes": [],
       "_model_module": "@jupyter-widgets/controls",
       "_model_module_version": "1.5.0",
       "_model_name": "HTMLModel",
       "_view_count": null,
       "_view_module": "@jupyter-widgets/controls",
       "_view_module_version": "1.5.0",
       "_view_name": "HTMLView",
       "description": "",
       "description_tooltip": null,
       "layout": "IPY_MODEL_09411db8b9fb45aea3deb1a00ec158a9",
       "placeholder": "​",
       "style": "IPY_MODEL_929944ef48f24f11b69c81d5e9c50989",
       "value": ""
      }
     },
     "84f1bc1719b240ad9b77ed3e886f6277": {
      "model_module": "@jupyter-widgets/controls",
      "model_module_version": "1.5.0",
      "model_name": "DescriptionStyleModel",
      "state": {
       "_model_module": "@jupyter-widgets/controls",
       "_model_module_version": "1.5.0",
       "_model_name": "DescriptionStyleModel",
       "_view_count": null,
       "_view_module": "@jupyter-widgets/base",
       "_view_module_version": "1.2.0",
       "_view_name": "StyleView",
       "description_width": ""
      }
     },
     "8513b42b27924991963cdb40c0db07a3": {
      "model_module": "@jupyter-widgets/base",
      "model_module_version": "1.2.0",
      "model_name": "LayoutModel",
      "state": {
       "_model_module": "@jupyter-widgets/base",
       "_model_module_version": "1.2.0",
       "_model_name": "LayoutModel",
       "_view_count": null,
       "_view_module": "@jupyter-widgets/base",
       "_view_module_version": "1.2.0",
       "_view_name": "LayoutView",
       "align_content": null,
       "align_items": null,
       "align_self": null,
       "border": null,
       "bottom": null,
       "display": null,
       "flex": null,
       "flex_flow": null,
       "grid_area": null,
       "grid_auto_columns": null,
       "grid_auto_flow": null,
       "grid_auto_rows": null,
       "grid_column": null,
       "grid_gap": null,
       "grid_row": null,
       "grid_template_areas": null,
       "grid_template_columns": null,
       "grid_template_rows": null,
       "height": "16em",
       "justify_content": null,
       "justify_items": null,
       "left": null,
       "margin": null,
       "max_height": null,
       "max_width": null,
       "min_height": null,
       "min_width": null,
       "object_fit": null,
       "object_position": null,
       "order": null,
       "overflow": null,
       "overflow_x": null,
       "overflow_y": "auto",
       "padding": null,
       "right": null,
       "top": null,
       "visibility": null,
       "width": "100%"
      }
     },
     "8544145aa6614af5a6db39a408743729": {
      "model_module": "@jupyter-widgets/controls",
      "model_module_version": "1.5.0",
      "model_name": "DescriptionStyleModel",
      "state": {
       "_model_module": "@jupyter-widgets/controls",
       "_model_module_version": "1.5.0",
       "_model_name": "DescriptionStyleModel",
       "_view_count": null,
       "_view_module": "@jupyter-widgets/base",
       "_view_module_version": "1.2.0",
       "_view_name": "StyleView",
       "description_width": ""
      }
     },
     "88b761ebe19d4882aea6381f6cb195cc": {
      "model_module": "@jupyter-widgets/base",
      "model_module_version": "1.2.0",
      "model_name": "LayoutModel",
      "state": {
       "_model_module": "@jupyter-widgets/base",
       "_model_module_version": "1.2.0",
       "_model_name": "LayoutModel",
       "_view_count": null,
       "_view_module": "@jupyter-widgets/base",
       "_view_module_version": "1.2.0",
       "_view_name": "LayoutView",
       "align_content": null,
       "align_items": null,
       "align_self": null,
       "border": null,
       "bottom": null,
       "display": null,
       "flex": null,
       "flex_flow": null,
       "grid_area": null,
       "grid_auto_columns": null,
       "grid_auto_flow": null,
       "grid_auto_rows": null,
       "grid_column": null,
       "grid_gap": null,
       "grid_row": null,
       "grid_template_areas": null,
       "grid_template_columns": null,
       "grid_template_rows": null,
       "height": null,
       "justify_content": null,
       "justify_items": null,
       "left": null,
       "margin": null,
       "max_height": null,
       "max_width": null,
       "min_height": null,
       "min_width": null,
       "object_fit": null,
       "object_position": null,
       "order": null,
       "overflow": null,
       "overflow_x": null,
       "overflow_y": null,
       "padding": null,
       "right": null,
       "top": null,
       "visibility": null,
       "width": null
      }
     },
     "897cac11ceb548779ebf977b29e56ad1": {
      "model_module": "@jupyter-widgets/controls",
      "model_module_version": "1.5.0",
      "model_name": "AccordionModel",
      "state": {
       "_dom_classes": [],
       "_model_module": "@jupyter-widgets/controls",
       "_model_module_version": "1.5.0",
       "_model_name": "AccordionModel",
       "_titles": {
        "0": "Log Output"
       },
       "_view_count": null,
       "_view_module": "@jupyter-widgets/controls",
       "_view_module_version": "1.5.0",
       "_view_name": "AccordionView",
       "box_style": "",
       "children": [
        "IPY_MODEL_ceec00826d9d40c5a934eb0cd40f341a"
       ],
       "layout": "IPY_MODEL_ef20b049ac4b458189430b815460613a",
       "selected_index": null
      }
     },
     "8ce0621447f24003b6781fbe745fe6ee": {
      "model_module": "@jupyter-widgets/base",
      "model_module_version": "1.2.0",
      "model_name": "LayoutModel",
      "state": {
       "_model_module": "@jupyter-widgets/base",
       "_model_module_version": "1.2.0",
       "_model_name": "LayoutModel",
       "_view_count": null,
       "_view_module": "@jupyter-widgets/base",
       "_view_module_version": "1.2.0",
       "_view_name": "LayoutView",
       "align_content": null,
       "align_items": null,
       "align_self": null,
       "border": null,
       "bottom": null,
       "display": null,
       "flex": null,
       "flex_flow": null,
       "grid_area": null,
       "grid_auto_columns": null,
       "grid_auto_flow": null,
       "grid_auto_rows": null,
       "grid_column": null,
       "grid_gap": null,
       "grid_row": null,
       "grid_template_areas": null,
       "grid_template_columns": null,
       "grid_template_rows": null,
       "height": "16em",
       "justify_content": null,
       "justify_items": null,
       "left": null,
       "margin": null,
       "max_height": null,
       "max_width": null,
       "min_height": null,
       "min_width": null,
       "object_fit": null,
       "object_position": null,
       "order": null,
       "overflow": null,
       "overflow_x": null,
       "overflow_y": "auto",
       "padding": null,
       "right": null,
       "top": null,
       "visibility": null,
       "width": "100%"
      }
     },
     "8d624c3646064494945a3f479262ec10": {
      "model_module": "@jupyter-widgets/controls",
      "model_module_version": "1.5.0",
      "model_name": "AccordionModel",
      "state": {
       "_dom_classes": [],
       "_model_module": "@jupyter-widgets/controls",
       "_model_module_version": "1.5.0",
       "_model_name": "AccordionModel",
       "_titles": {
        "0": "Log Output"
       },
       "_view_count": null,
       "_view_module": "@jupyter-widgets/controls",
       "_view_module_version": "1.5.0",
       "_view_name": "AccordionView",
       "box_style": "",
       "children": [
        "IPY_MODEL_0090c05bfcbb4942a9f8765120fe4337"
       ],
       "layout": "IPY_MODEL_2befb83a63b64b519fd8de8cb13d0510",
       "selected_index": null
      }
     },
     "906756b530aa473ba7db2c4b40d7a302": {
      "model_module": "k3d",
      "model_module_version": "2.6.6",
      "model_name": "PlotModel",
      "state": {
       "_backend_version": "2.6.6",
       "_dom_classes": [],
       "_model_module": "k3d",
       "_model_module_version": "2.6.6",
       "_model_name": "PlotModel",
       "_view_count": null,
       "_view_module": "k3d",
       "_view_module_version": "2.6.6",
       "_view_name": "PlotView",
       "antialias": 3,
       "axes": [
        "x",
        "y",
        "z"
       ],
       "background_color": 16777215,
       "camera": [
        0.5,
        0.5,
        0.8660254037844387,
        0.5,
        0.5,
        0.0,
        0,
        1,
        0
       ],
       "camera_auto_fit": false,
       "camera_no_pan": true,
       "camera_no_rotate": true,
       "camera_no_zoom": true,
       "clipping_planes": [],
       "colorbar_object_id": -1,
       "fps_meter": false,
       "grid": [
        0.0,
        0.0,
        0.0,
        1.0,
        1.0,
        0.0
       ],
       "grid_auto_fit": false,
       "grid_visible": false,
       "height": 512,
       "layout": "IPY_MODEL_e03586f005a042ecad4163d6426c5387",
       "lighting": 1.0,
       "menu_visibility": false,
       "object_ids": [
        139727301223904
       ],
       "rendering_steps": 1,
       "screenshot": "",
       "screenshot_scale": 2.0,
       "time": 0.0,
       "voxel_paint_color": 0
      }
     },
     "91f71d4e190e4e0e95460f8514f77629": {
      "model_module": "@jupyter-widgets/controls",
      "model_module_version": "1.5.0",
      "model_name": "HTMLModel",
      "state": {
       "_dom_classes": [],
       "_model_module": "@jupyter-widgets/controls",
       "_model_module_version": "1.5.0",
       "_model_name": "HTMLModel",
       "_view_count": null,
       "_view_module": "@jupyter-widgets/controls",
       "_view_module_version": "1.5.0",
       "_view_name": "HTMLView",
       "description": "",
       "description_tooltip": null,
       "layout": "IPY_MODEL_3d67b2da35d24fc9939decd58d3f9971",
       "placeholder": "​",
       "style": "IPY_MODEL_3ae6c86f7e494a33ad062129a2c99665",
       "value": ""
      }
     },
     "929944ef48f24f11b69c81d5e9c50989": {
      "model_module": "@jupyter-widgets/controls",
      "model_module_version": "1.5.0",
      "model_name": "DescriptionStyleModel",
      "state": {
       "_model_module": "@jupyter-widgets/controls",
       "_model_module_version": "1.5.0",
       "_model_name": "DescriptionStyleModel",
       "_view_count": null,
       "_view_module": "@jupyter-widgets/base",
       "_view_module_version": "1.2.0",
       "_view_name": "StyleView",
       "description_width": ""
      }
     },
     "935022ee1db145869b2dca6ed9c466da": {
      "model_module": "@jupyter-widgets/base",
      "model_module_version": "1.2.0",
      "model_name": "LayoutModel",
      "state": {
       "_model_module": "@jupyter-widgets/base",
       "_model_module_version": "1.2.0",
       "_model_name": "LayoutModel",
       "_view_count": null,
       "_view_module": "@jupyter-widgets/base",
       "_view_module_version": "1.2.0",
       "_view_name": "LayoutView",
       "align_content": null,
       "align_items": null,
       "align_self": null,
       "border": null,
       "bottom": null,
       "display": null,
       "flex": null,
       "flex_flow": null,
       "grid_area": null,
       "grid_auto_columns": null,
       "grid_auto_flow": null,
       "grid_auto_rows": null,
       "grid_column": null,
       "grid_gap": null,
       "grid_row": null,
       "grid_template_areas": null,
       "grid_template_columns": null,
       "grid_template_rows": null,
       "height": null,
       "justify_content": null,
       "justify_items": null,
       "left": null,
       "margin": null,
       "max_height": null,
       "max_width": null,
       "min_height": null,
       "min_width": null,
       "object_fit": null,
       "object_position": null,
       "order": null,
       "overflow": null,
       "overflow_x": null,
       "overflow_y": null,
       "padding": null,
       "right": null,
       "top": null,
       "visibility": null,
       "width": null
      }
     },
     "93e3dfd9ab084fb29662976ce628c0f6": {
      "model_module": "@jupyter-widgets/controls",
      "model_module_version": "1.5.0",
      "model_name": "DescriptionStyleModel",
      "state": {
       "_model_module": "@jupyter-widgets/controls",
       "_model_module_version": "1.5.0",
       "_model_name": "DescriptionStyleModel",
       "_view_count": null,
       "_view_module": "@jupyter-widgets/base",
       "_view_module_version": "1.2.0",
       "_view_name": "StyleView",
       "description_width": ""
      }
     },
     "960d93c48a1b45e49088497f635c5ae5": {
      "model_module": "@jupyter-widgets/controls",
      "model_module_version": "1.5.0",
      "model_name": "AccordionModel",
      "state": {
       "_dom_classes": [],
       "_model_module": "@jupyter-widgets/controls",
       "_model_module_version": "1.5.0",
       "_model_name": "AccordionModel",
       "_titles": {
        "0": "Log Output"
       },
       "_view_count": null,
       "_view_module": "@jupyter-widgets/controls",
       "_view_module_version": "1.5.0",
       "_view_name": "AccordionView",
       "box_style": "",
       "children": [
        "IPY_MODEL_3e87d6304265478da4a22fe7265cae85"
       ],
       "layout": "IPY_MODEL_5cb74b3aad5b4d0bbd983dbe1328d35c",
       "selected_index": null
      }
     },
     "96726d015dae45d3a39e867b3c4c6823": {
      "model_module": "@jupyter-widgets/controls",
      "model_module_version": "1.5.0",
      "model_name": "AccordionModel",
      "state": {
       "_dom_classes": [],
       "_model_module": "@jupyter-widgets/controls",
       "_model_module_version": "1.5.0",
       "_model_name": "AccordionModel",
       "_titles": {
        "0": "Log Output"
       },
       "_view_count": null,
       "_view_module": "@jupyter-widgets/controls",
       "_view_module_version": "1.5.0",
       "_view_name": "AccordionView",
       "box_style": "",
       "children": [
        "IPY_MODEL_d373bc394d104de6992c0addfda5462a"
       ],
       "layout": "IPY_MODEL_1cf824fe2d9a441b80f56bc6be532a64",
       "selected_index": null
      }
     },
     "977c9a6ea0d7424791e1b218ec299542": {
      "model_module": "@jupyter-widgets/controls",
      "model_module_version": "1.5.0",
      "model_name": "AccordionModel",
      "state": {
       "_dom_classes": [],
       "_model_module": "@jupyter-widgets/controls",
       "_model_module_version": "1.5.0",
       "_model_name": "AccordionModel",
       "_titles": {
        "0": "Log Output"
       },
       "_view_count": null,
       "_view_module": "@jupyter-widgets/controls",
       "_view_module_version": "1.5.0",
       "_view_name": "AccordionView",
       "box_style": "",
       "children": [
        "IPY_MODEL_5ddf542ff953416391f106a1489be354"
       ],
       "layout": "IPY_MODEL_88b761ebe19d4882aea6381f6cb195cc",
       "selected_index": null
      }
     },
     "994867e293a9423a82d28ecbbb474fc9": {
      "model_module": "@jupyter-widgets/controls",
      "model_module_version": "1.5.0",
      "model_name": "AccordionModel",
      "state": {
       "_dom_classes": [],
       "_model_module": "@jupyter-widgets/controls",
       "_model_module_version": "1.5.0",
       "_model_name": "AccordionModel",
       "_titles": {
        "0": "Log Output"
       },
       "_view_count": null,
       "_view_module": "@jupyter-widgets/controls",
       "_view_module_version": "1.5.0",
       "_view_name": "AccordionView",
       "box_style": "",
       "children": [
        "IPY_MODEL_f51cad87fce34983a783f24ecb9191ee"
       ],
       "layout": "IPY_MODEL_d9c07e72e5c64f63af8877a054c78b21",
       "selected_index": null
      }
     },
     "995089c7a6c249c4a34d3aef83a2b3ce": {
      "model_module": "@jupyter-widgets/controls",
      "model_module_version": "1.5.0",
      "model_name": "HTMLModel",
      "state": {
       "_dom_classes": [],
       "_model_module": "@jupyter-widgets/controls",
       "_model_module_version": "1.5.0",
       "_model_name": "HTMLModel",
       "_view_count": null,
       "_view_module": "@jupyter-widgets/controls",
       "_view_module_version": "1.5.0",
       "_view_name": "HTMLView",
       "description": "",
       "description_tooltip": null,
       "layout": "IPY_MODEL_33b76a8df1cf4bd9a9e12abdd8d0a8f2",
       "placeholder": "​",
       "style": "IPY_MODEL_43d960016b1f42a3861e6760c697378b",
       "value": ""
      }
     },
     "9a65098865c446faaa7f7562e0f68d53": {
      "model_module": "@jupyter-widgets/base",
      "model_module_version": "1.2.0",
      "model_name": "LayoutModel",
      "state": {
       "_model_module": "@jupyter-widgets/base",
       "_model_module_version": "1.2.0",
       "_model_name": "LayoutModel",
       "_view_count": null,
       "_view_module": "@jupyter-widgets/base",
       "_view_module_version": "1.2.0",
       "_view_name": "LayoutView",
       "align_content": null,
       "align_items": null,
       "align_self": null,
       "border": null,
       "bottom": null,
       "display": null,
       "flex": null,
       "flex_flow": null,
       "grid_area": null,
       "grid_auto_columns": null,
       "grid_auto_flow": null,
       "grid_auto_rows": null,
       "grid_column": null,
       "grid_gap": null,
       "grid_row": null,
       "grid_template_areas": null,
       "grid_template_columns": null,
       "grid_template_rows": null,
       "height": null,
       "justify_content": null,
       "justify_items": null,
       "left": null,
       "margin": null,
       "max_height": null,
       "max_width": null,
       "min_height": null,
       "min_width": null,
       "object_fit": null,
       "object_position": null,
       "order": null,
       "overflow": null,
       "overflow_x": null,
       "overflow_y": null,
       "padding": null,
       "right": null,
       "top": null,
       "visibility": null,
       "width": null
      }
     },
     "9fe217f76a3345309e19e7a354f1595f": {
      "model_module": "@jupyter-widgets/base",
      "model_module_version": "1.2.0",
      "model_name": "LayoutModel",
      "state": {
       "_model_module": "@jupyter-widgets/base",
       "_model_module_version": "1.2.0",
       "_model_name": "LayoutModel",
       "_view_count": null,
       "_view_module": "@jupyter-widgets/base",
       "_view_module_version": "1.2.0",
       "_view_name": "LayoutView",
       "align_content": null,
       "align_items": null,
       "align_self": null,
       "border": null,
       "bottom": null,
       "display": null,
       "flex": null,
       "flex_flow": null,
       "grid_area": null,
       "grid_auto_columns": null,
       "grid_auto_flow": null,
       "grid_auto_rows": null,
       "grid_column": null,
       "grid_gap": null,
       "grid_row": null,
       "grid_template_areas": null,
       "grid_template_columns": null,
       "grid_template_rows": null,
       "height": null,
       "justify_content": null,
       "justify_items": null,
       "left": null,
       "margin": null,
       "max_height": null,
       "max_width": null,
       "min_height": null,
       "min_width": null,
       "object_fit": null,
       "object_position": null,
       "order": null,
       "overflow": null,
       "overflow_x": null,
       "overflow_y": null,
       "padding": null,
       "right": null,
       "top": null,
       "visibility": null,
       "width": null
      }
     },
     "a032a7060bdc4a5c861aea2f1d3722e3": {
      "buffers": [
       {
        "data": "GMndPQAAAABfz0k9X89JPQAAAAAAAAAAAAAAAAAAAABfz0k9X89JPQAAAAAYyd09AAAAAAAAAACBPVY9gT1WPQAAAAAAAAAAAAAAABjJ3T2BPVY9gT1WPRjJ3T0AAAAAAAAAAAAAAACBPVY9gT1WPQAAAAAAAAAAAAAAABjJ3T2BPVY9gT1WPRjJ3T0AAAAAAAAAAAAAAAAu34I9Lt+CPQAAAAAYyd09GMndPQAAAAAu34I9Lt+CPQAAAAAAAAAA",
        "encoding": "base64",
        "path": [
         "attribute",
         "buffer"
        ]
       },
       {
        "data": "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",
        "encoding": "base64",
        "path": [
         "color_map",
         "buffer"
        ]
       },
       {
        "data": "AAAAAAEAAAACAAAAAwAAAAQAAAAFAAAABgAAAAcAAAAIAAAACQAAAAoAAAALAAAADAAAAA0AAAAOAAAADwAAABAAAAARAAAAEgAAABMAAAAUAAAAFQAAABYAAAAXAAAAGAAAABkAAAAaAAAAGwAAABwAAAAdAAAAHgAAAB8AAAAgAAAAIQAAACIAAAAjAAAAJAAAACUAAAAmAAAAJwAAACgAAAApAAAAKgAAACsAAAAsAAAALQAAAC4AAAAvAAAA",
        "encoding": "base64",
        "path": [
         "indices",
         "buffer"
        ]
       },
       {
        "data": "AACAPwAAAAAAAAAAAAAAAAAAAAAAAIA/AAAAAAAAAAAAAAAAAAAAAAAAgD8AAAAAAAAAAAAAAAAAAAAAAACAPw==",
        "encoding": "base64",
        "path": [
         "model_matrix",
         "buffer"
        ]
       },
       {
        "data": "AAAAPwAAAD8AAAAAAAAAPwAAAAAAAAAAAACAPgAAgD4AAAAAAACAPgAAgD4AAAAAAAAAPwAAAAAAAAAAAAAAAAAAAAAAAAAAAAAAAAAAAAAAAAAAAAAAAAAAAD8AAAAAAACAPgAAgD4AAAAAAACAPgAAgD4AAAAAAAAAAAAAAD8AAAAAAAAAPwAAAD8AAAAAAACAPwAAAD8AAAAAAACAPwAAAAAAAAAAAABAPwAAgD4AAAAAAABAPwAAgD4AAAAAAACAPwAAAAAAAAAAAAAAPwAAAAAAAAAAAAAAPwAAAAAAAAAAAAAAPwAAAD8AAAAAAABAPwAAgD4AAAAAAABAPwAAgD4AAAAAAAAAPwAAAD8AAAAAAACAPwAAAD8AAAAAAAAAAAAAAD8AAAAAAAAAAAAAgD8AAAAAAACAPgAAQD8AAAAAAACAPgAAQD8AAAAAAAAAAAAAgD8AAAAAAAAAPwAAgD8AAAAAAAAAPwAAgD8AAAAAAAAAPwAAAD8AAAAAAACAPgAAQD8AAAAAAACAPgAAQD8AAAAAAAAAPwAAAD8AAAAAAAAAAAAAAD8AAAAAAACAPwAAgD8AAAAAAACAPwAAAD8AAAAAAABAPwAAQD8AAAAAAABAPwAAQD8AAAAAAACAPwAAAD8AAAAAAAAAPwAAAD8AAAAAAAAAPwAAAD8AAAAAAAAAPwAAgD8AAAAAAABAPwAAQD8AAAAAAABAPwAAQD8AAAAAAAAAPwAAgD8AAAAAAACAPwAAgD8AAAAA",
        "encoding": "base64",
        "path": [
         "vertices",
         "buffer"
        ]
       }
      ],
      "model_module": "k3d",
      "model_module_version": "2.6.6",
      "model_name": "ObjectModel",
      "state": {
       "_model_module": "k3d",
       "_model_module_version": "2.6.6",
       "_model_name": "ObjectModel",
       "_view_count": null,
       "_view_module": null,
       "_view_module_version": "",
       "_view_name": null,
       "attribute": {
        "dtype": "float32",
        "shape": [
         48
        ]
       },
       "color": 255,
       "color_map": {
        "dtype": "float32",
        "shape": [
         256,
         4
        ]
       },
       "color_range": [
        0.0,
        0.10829371213912964
       ],
       "compression_level": 0,
       "flat_shading": false,
       "id": 139727301223904,
       "indices": {
        "dtype": "uint32",
        "shape": [
         16,
         3
        ]
       },
       "model_matrix": {
        "dtype": "float32",
        "shape": [
         4,
         4
        ]
       },
       "name": null,
       "opacity": 1.0,
       "type": "Mesh",
       "vertices": {
        "dtype": "float32",
        "shape": [
         48,
         3
        ]
       },
       "visible": true,
       "wireframe": false
      }
     },
     "a1e828ffda2c43409839cb180c769200": {
      "model_module": "@jupyter-widgets/base",
      "model_module_version": "1.2.0",
      "model_name": "LayoutModel",
      "state": {
       "_model_module": "@jupyter-widgets/base",
       "_model_module_version": "1.2.0",
       "_model_name": "LayoutModel",
       "_view_count": null,
       "_view_module": "@jupyter-widgets/base",
       "_view_module_version": "1.2.0",
       "_view_name": "LayoutView",
       "align_content": null,
       "align_items": null,
       "align_self": null,
       "border": null,
       "bottom": null,
       "display": null,
       "flex": null,
       "flex_flow": null,
       "grid_area": null,
       "grid_auto_columns": null,
       "grid_auto_flow": null,
       "grid_auto_rows": null,
       "grid_column": null,
       "grid_gap": null,
       "grid_row": null,
       "grid_template_areas": null,
       "grid_template_columns": null,
       "grid_template_rows": null,
       "height": null,
       "justify_content": null,
       "justify_items": null,
       "left": null,
       "margin": null,
       "max_height": null,
       "max_width": null,
       "min_height": null,
       "min_width": null,
       "object_fit": null,
       "object_position": null,
       "order": null,
       "overflow": null,
       "overflow_x": null,
       "overflow_y": null,
       "padding": null,
       "right": null,
       "top": null,
       "visibility": null,
       "width": null
      }
     },
     "a2057c245a024e4f9bf5dd114e84b554": {
      "model_module": "@jupyter-widgets/controls",
      "model_module_version": "1.5.0",
      "model_name": "DescriptionStyleModel",
      "state": {
       "_model_module": "@jupyter-widgets/controls",
       "_model_module_version": "1.5.0",
       "_model_name": "DescriptionStyleModel",
       "_view_count": null,
       "_view_module": "@jupyter-widgets/base",
       "_view_module_version": "1.2.0",
       "_view_name": "StyleView",
       "description_width": ""
      }
     },
     "a3098ad6d31344b58a7ba55fde91948f": {
      "model_module": "@jupyter-widgets/base",
      "model_module_version": "1.2.0",
      "model_name": "LayoutModel",
      "state": {
       "_model_module": "@jupyter-widgets/base",
       "_model_module_version": "1.2.0",
       "_model_name": "LayoutModel",
       "_view_count": null,
       "_view_module": "@jupyter-widgets/base",
       "_view_module_version": "1.2.0",
       "_view_name": "LayoutView",
       "align_content": null,
       "align_items": null,
       "align_self": null,
       "border": null,
       "bottom": null,
       "display": null,
       "flex": null,
       "flex_flow": null,
       "grid_area": null,
       "grid_auto_columns": null,
       "grid_auto_flow": null,
       "grid_auto_rows": null,
       "grid_column": null,
       "grid_gap": null,
       "grid_row": null,
       "grid_template_areas": null,
       "grid_template_columns": null,
       "grid_template_rows": null,
       "height": null,
       "justify_content": null,
       "justify_items": null,
       "left": null,
       "margin": null,
       "max_height": null,
       "max_width": null,
       "min_height": null,
       "min_width": null,
       "object_fit": null,
       "object_position": null,
       "order": null,
       "overflow": null,
       "overflow_x": null,
       "overflow_y": null,
       "padding": null,
       "right": null,
       "top": null,
       "visibility": null,
       "width": null
      }
     },
     "af738652b9cc4c10aa926d8cacfa3942": {
      "model_module": "@jupyter-widgets/controls",
      "model_module_version": "1.5.0",
      "model_name": "AccordionModel",
      "state": {
       "_dom_classes": [],
       "_model_module": "@jupyter-widgets/controls",
       "_model_module_version": "1.5.0",
       "_model_name": "AccordionModel",
       "_titles": {
        "0": "Log Output"
       },
       "_view_count": null,
       "_view_module": "@jupyter-widgets/controls",
       "_view_module_version": "1.5.0",
       "_view_name": "AccordionView",
       "box_style": "",
       "children": [
        "IPY_MODEL_84c92a724c8743bea198e4dee202d88a"
       ],
       "layout": "IPY_MODEL_31d401409c4c4c168152d5d5c35286ff",
       "selected_index": null
      }
     },
     "aff074c4e9a34a78b18a427b031b3b78": {
      "model_module": "@jupyter-widgets/base",
      "model_module_version": "1.2.0",
      "model_name": "LayoutModel",
      "state": {
       "_model_module": "@jupyter-widgets/base",
       "_model_module_version": "1.2.0",
       "_model_name": "LayoutModel",
       "_view_count": null,
       "_view_module": "@jupyter-widgets/base",
       "_view_module_version": "1.2.0",
       "_view_name": "LayoutView",
       "align_content": null,
       "align_items": null,
       "align_self": null,
       "border": null,
       "bottom": null,
       "display": null,
       "flex": null,
       "flex_flow": null,
       "grid_area": null,
       "grid_auto_columns": null,
       "grid_auto_flow": null,
       "grid_auto_rows": null,
       "grid_column": null,
       "grid_gap": null,
       "grid_row": null,
       "grid_template_areas": null,
       "grid_template_columns": null,
       "grid_template_rows": null,
       "height": "16em",
       "justify_content": null,
       "justify_items": null,
       "left": null,
       "margin": null,
       "max_height": null,
       "max_width": null,
       "min_height": null,
       "min_width": null,
       "object_fit": null,
       "object_position": null,
       "order": null,
       "overflow": null,
       "overflow_x": null,
       "overflow_y": "auto",
       "padding": null,
       "right": null,
       "top": null,
       "visibility": null,
       "width": "100%"
      }
     },
     "b700b6ec258c498f9de194eea67aeb52": {
      "model_module": "@jupyter-widgets/output",
      "model_module_version": "1.0.0",
      "model_name": "OutputModel",
      "state": {
       "_dom_classes": [],
       "_model_module": "@jupyter-widgets/output",
       "_model_module_version": "1.0.0",
       "_model_name": "OutputModel",
       "_view_count": null,
       "_view_module": "@jupyter-widgets/output",
       "_view_module_version": "1.0.0",
       "_view_name": "OutputView",
       "layout": "IPY_MODEL_37a71e33945f4deda92c6052612fd62c",
       "msg_id": "",
       "outputs": [
        {
         "data": {
          "application/vnd.jupyter.widget-view+json": {
           "model_id": "6aabf5b58d984f31afd36a3377d8d4ae",
           "version_major": 2,
           "version_minor": 0
          },
          "text/plain": "VTKPlot(antialias=3, axes=['x', 'y', 'z'], background_color=16777215, camera=[4.5, 4.5, 4.5, 0.0, 0.0, 0.0, 1.…"
         },
         "metadata": {},
         "output_type": "display_data"
        }
       ]
      }
     },
     "b9d111ce0b0b4d01a16bf4e15b8219eb": {
      "model_module": "@jupyter-widgets/controls",
      "model_module_version": "1.5.0",
      "model_name": "DescriptionStyleModel",
      "state": {
       "_model_module": "@jupyter-widgets/controls",
       "_model_module_version": "1.5.0",
       "_model_name": "DescriptionStyleModel",
       "_view_count": null,
       "_view_module": "@jupyter-widgets/base",
       "_view_module_version": "1.2.0",
       "_view_name": "StyleView",
       "description_width": ""
      }
     },
     "ba95bc1fc3394241a9bfece8657fce92": {
      "model_module": "@jupyter-widgets/controls",
      "model_module_version": "1.5.0",
      "model_name": "DescriptionStyleModel",
      "state": {
       "_model_module": "@jupyter-widgets/controls",
       "_model_module_version": "1.5.0",
       "_model_name": "DescriptionStyleModel",
       "_view_count": null,
       "_view_module": "@jupyter-widgets/base",
       "_view_module_version": "1.2.0",
       "_view_name": "StyleView",
       "description_width": ""
      }
     },
     "bc6372fe92e6444b994b24563fc95a48": {
      "model_module": "@jupyter-widgets/controls",
      "model_module_version": "1.5.0",
      "model_name": "AccordionModel",
      "state": {
       "_dom_classes": [],
       "_model_module": "@jupyter-widgets/controls",
       "_model_module_version": "1.5.0",
       "_model_name": "AccordionModel",
       "_titles": {
        "0": "Log Output"
       },
       "_view_count": null,
       "_view_module": "@jupyter-widgets/controls",
       "_view_module_version": "1.5.0",
       "_view_name": "AccordionView",
       "box_style": "",
       "children": [
        "IPY_MODEL_4ddf7a19db0d4b8d99157f0a5643e411"
       ],
       "layout": "IPY_MODEL_9fe217f76a3345309e19e7a354f1595f",
       "selected_index": null
      }
     },
     "bcf6440530414696b6a5fd153db0ba62": {
      "model_module": "@jupyter-widgets/controls",
      "model_module_version": "1.5.0",
      "model_name": "DescriptionStyleModel",
      "state": {
       "_model_module": "@jupyter-widgets/controls",
       "_model_module_version": "1.5.0",
       "_model_name": "DescriptionStyleModel",
       "_view_count": null,
       "_view_module": "@jupyter-widgets/base",
       "_view_module_version": "1.2.0",
       "_view_name": "StyleView",
       "description_width": ""
      }
     },
     "c343643ce2d6438b96f3b2aae1d1d492": {
      "model_module": "@jupyter-widgets/controls",
      "model_module_version": "1.5.0",
      "model_name": "DescriptionStyleModel",
      "state": {
       "_model_module": "@jupyter-widgets/controls",
       "_model_module_version": "1.5.0",
       "_model_name": "DescriptionStyleModel",
       "_view_count": null,
       "_view_module": "@jupyter-widgets/base",
       "_view_module_version": "1.2.0",
       "_view_name": "StyleView",
       "description_width": ""
      }
     },
     "c3c108bb7e8742b7b21b32d9f1b3b1e6": {
      "model_module": "@jupyter-widgets/controls",
      "model_module_version": "1.5.0",
      "model_name": "HTMLModel",
      "state": {
       "_dom_classes": [],
       "_model_module": "@jupyter-widgets/controls",
       "_model_module_version": "1.5.0",
       "_model_name": "HTMLModel",
       "_view_count": null,
       "_view_module": "@jupyter-widgets/controls",
       "_view_module_version": "1.5.0",
       "_view_name": "HTMLView",
       "description": "",
       "description_tooltip": null,
       "layout": "IPY_MODEL_2d67d002a21647e78eec0853f834c5d8",
       "placeholder": "​",
       "style": "IPY_MODEL_d6b61a7ff8c44ed99a110b293dd04cc0",
       "value": ""
      }
     },
     "c51644c10c4f4aeb8d32502d84617aac": {
      "model_module": "@jupyter-widgets/controls",
      "model_module_version": "1.5.0",
      "model_name": "HTMLModel",
      "state": {
       "_dom_classes": [],
       "_model_module": "@jupyter-widgets/controls",
       "_model_module_version": "1.5.0",
       "_model_name": "HTMLModel",
       "_view_count": null,
       "_view_module": "@jupyter-widgets/controls",
       "_view_module_version": "1.5.0",
       "_view_name": "HTMLView",
       "description": "",
       "description_tooltip": null,
       "layout": "IPY_MODEL_0a3db280c6934dbf8dcf0e72e2a1cd18",
       "placeholder": "​",
       "style": "IPY_MODEL_b9d111ce0b0b4d01a16bf4e15b8219eb",
       "value": ""
      }
     },
     "c85252ea4eaa4871b095bee428bc43d4": {
      "model_module": "@jupyter-widgets/base",
      "model_module_version": "1.2.0",
      "model_name": "LayoutModel",
      "state": {
       "_model_module": "@jupyter-widgets/base",
       "_model_module_version": "1.2.0",
       "_model_name": "LayoutModel",
       "_view_count": null,
       "_view_module": "@jupyter-widgets/base",
       "_view_module_version": "1.2.0",
       "_view_name": "LayoutView",
       "align_content": null,
       "align_items": null,
       "align_self": null,
       "border": null,
       "bottom": null,
       "display": null,
       "flex": null,
       "flex_flow": null,
       "grid_area": null,
       "grid_auto_columns": null,
       "grid_auto_flow": null,
       "grid_auto_rows": null,
       "grid_column": null,
       "grid_gap": null,
       "grid_row": null,
       "grid_template_areas": null,
       "grid_template_columns": null,
       "grid_template_rows": null,
       "height": "16em",
       "justify_content": null,
       "justify_items": null,
       "left": null,
       "margin": null,
       "max_height": null,
       "max_width": null,
       "min_height": null,
       "min_width": null,
       "object_fit": null,
       "object_position": null,
       "order": null,
       "overflow": null,
       "overflow_x": null,
       "overflow_y": "auto",
       "padding": null,
       "right": null,
       "top": null,
       "visibility": null,
       "width": "100%"
      }
     },
     "c98fa07e6994474c95b7e6e431e99f5b": {
      "model_module": "@jupyter-widgets/controls",
      "model_module_version": "1.5.0",
      "model_name": "DescriptionStyleModel",
      "state": {
       "_model_module": "@jupyter-widgets/controls",
       "_model_module_version": "1.5.0",
       "_model_name": "DescriptionStyleModel",
       "_view_count": null,
       "_view_module": "@jupyter-widgets/base",
       "_view_module_version": "1.2.0",
       "_view_name": "StyleView",
       "description_width": ""
      }
     },
     "ce774aa8d09e4669ad0ef8e7859dc219": {
      "model_module": "@jupyter-widgets/controls",
      "model_module_version": "1.5.0",
      "model_name": "HTMLModel",
      "state": {
       "_dom_classes": [],
       "_model_module": "@jupyter-widgets/controls",
       "_model_module_version": "1.5.0",
       "_model_name": "HTMLModel",
       "_view_count": null,
       "_view_module": "@jupyter-widgets/controls",
       "_view_module_version": "1.5.0",
       "_view_name": "HTMLView",
       "description": "",
       "description_tooltip": null,
       "layout": "IPY_MODEL_3346219cbba4418497e5ca3e84b397c7",
       "placeholder": "​",
       "style": "IPY_MODEL_ba95bc1fc3394241a9bfece8657fce92",
       "value": ""
      }
     },
     "ceec00826d9d40c5a934eb0cd40f341a": {
      "model_module": "@jupyter-widgets/controls",
      "model_module_version": "1.5.0",
      "model_name": "HTMLModel",
      "state": {
       "_dom_classes": [],
       "_model_module": "@jupyter-widgets/controls",
       "_model_module_version": "1.5.0",
       "_model_name": "HTMLModel",
       "_view_count": null,
       "_view_module": "@jupyter-widgets/controls",
       "_view_module_version": "1.5.0",
       "_view_name": "HTMLView",
       "description": "",
       "description_tooltip": null,
       "layout": "IPY_MODEL_dc743053d39a4f3f93c64932f46d252c",
       "placeholder": "​",
       "style": "IPY_MODEL_65b7f044b1484c02ab304d4666e5a584",
       "value": ""
      }
     },
     "d373bc394d104de6992c0addfda5462a": {
      "model_module": "@jupyter-widgets/controls",
      "model_module_version": "1.5.0",
      "model_name": "HTMLModel",
      "state": {
       "_dom_classes": [],
       "_model_module": "@jupyter-widgets/controls",
       "_model_module_version": "1.5.0",
       "_model_name": "HTMLModel",
       "_view_count": null,
       "_view_module": "@jupyter-widgets/controls",
       "_view_module_version": "1.5.0",
       "_view_name": "HTMLView",
       "description": "",
       "description_tooltip": null,
       "layout": "IPY_MODEL_feb8d48377e140529bc9c890f3845cf2",
       "placeholder": "​",
       "style": "IPY_MODEL_a2057c245a024e4f9bf5dd114e84b554",
       "value": ""
      }
     },
     "d6b61a7ff8c44ed99a110b293dd04cc0": {
      "model_module": "@jupyter-widgets/controls",
      "model_module_version": "1.5.0",
      "model_name": "DescriptionStyleModel",
      "state": {
       "_model_module": "@jupyter-widgets/controls",
       "_model_module_version": "1.5.0",
       "_model_name": "DescriptionStyleModel",
       "_view_count": null,
       "_view_module": "@jupyter-widgets/base",
       "_view_module_version": "1.2.0",
       "_view_name": "StyleView",
       "description_width": ""
      }
     },
     "d7df973f2ba54077a07ab3d085d74631": {
      "model_module": "@jupyter-widgets/controls",
      "model_module_version": "1.5.0",
      "model_name": "AccordionModel",
      "state": {
       "_dom_classes": [],
       "_model_module": "@jupyter-widgets/controls",
       "_model_module_version": "1.5.0",
       "_model_name": "AccordionModel",
       "_titles": {
        "0": "Log Output"
       },
       "_view_count": null,
       "_view_module": "@jupyter-widgets/controls",
       "_view_module_version": "1.5.0",
       "_view_name": "AccordionView",
       "box_style": "",
       "children": [
        "IPY_MODEL_56b09a0c361a431e9876032fe48b31bc"
       ],
       "layout": "IPY_MODEL_e5138d8e071140f9932fff9e6eb0b951",
       "selected_index": null
      }
     },
     "d9c07e72e5c64f63af8877a054c78b21": {
      "model_module": "@jupyter-widgets/base",
      "model_module_version": "1.2.0",
      "model_name": "LayoutModel",
      "state": {
       "_model_module": "@jupyter-widgets/base",
       "_model_module_version": "1.2.0",
       "_model_name": "LayoutModel",
       "_view_count": null,
       "_view_module": "@jupyter-widgets/base",
       "_view_module_version": "1.2.0",
       "_view_name": "LayoutView",
       "align_content": null,
       "align_items": null,
       "align_self": null,
       "border": null,
       "bottom": null,
       "display": null,
       "flex": null,
       "flex_flow": null,
       "grid_area": null,
       "grid_auto_columns": null,
       "grid_auto_flow": null,
       "grid_auto_rows": null,
       "grid_column": null,
       "grid_gap": null,
       "grid_row": null,
       "grid_template_areas": null,
       "grid_template_columns": null,
       "grid_template_rows": null,
       "height": null,
       "justify_content": null,
       "justify_items": null,
       "left": null,
       "margin": null,
       "max_height": null,
       "max_width": null,
       "min_height": null,
       "min_width": null,
       "object_fit": null,
       "object_position": null,
       "order": null,
       "overflow": null,
       "overflow_x": null,
       "overflow_y": null,
       "padding": null,
       "right": null,
       "top": null,
       "visibility": null,
       "width": null
      }
     },
     "da4421b735d94151bb8a34d5427f5d16": {
      "model_module": "@jupyter-widgets/controls",
      "model_module_version": "1.5.0",
      "model_name": "HTMLModel",
      "state": {
       "_dom_classes": [],
       "_model_module": "@jupyter-widgets/controls",
       "_model_module_version": "1.5.0",
       "_model_name": "HTMLModel",
       "_view_count": null,
       "_view_module": "@jupyter-widgets/controls",
       "_view_module_version": "1.5.0",
       "_view_name": "HTMLView",
       "description": "",
       "description_tooltip": null,
       "layout": "IPY_MODEL_269e6ef44d064c4197eb65c821569c36",
       "placeholder": "​",
       "style": "IPY_MODEL_1ee199f991204a59808e5c6713530948",
       "value": ""
      }
     },
     "dbb1534e6fa84be99003ef8ffdf7a869": {
      "model_module": "k3d",
      "model_module_version": "2.6.6",
      "model_name": "PlotModel",
      "state": {
       "_backend_version": "2.6.6",
       "_dom_classes": [],
       "_model_module": "k3d",
       "_model_module_version": "2.6.6",
       "_model_name": "PlotModel",
       "_view_count": null,
       "_view_module": "k3d",
       "_view_module_version": "2.6.6",
       "_view_name": "PlotView",
       "antialias": 3,
       "axes": [
        "x",
        "y",
        "z"
       ],
       "background_color": 16777215,
       "camera": [
        0.5,
        0.5,
        0.8660254037844387,
        0.5,
        0.5,
        0.0,
        0,
        1,
        0
       ],
       "camera_auto_fit": false,
       "camera_no_pan": true,
       "camera_no_rotate": true,
       "camera_no_zoom": true,
       "clipping_planes": [],
       "colorbar_object_id": -1,
       "fps_meter": false,
       "grid": [
        0.0,
        0.0,
        0.0,
        1.0,
        1.0,
        0.0
       ],
       "grid_auto_fit": false,
       "grid_visible": false,
       "height": 512,
       "layout": "IPY_MODEL_4d90b53b5bc14804a2765a2f2d33985e",
       "lighting": 1.0,
       "menu_visibility": false,
       "object_ids": [
        139728213597728
       ],
       "rendering_steps": 1,
       "screenshot": "",
       "screenshot_scale": 2.0,
       "time": 0.0,
       "voxel_paint_color": 0
      }
     },
     "dc743053d39a4f3f93c64932f46d252c": {
      "model_module": "@jupyter-widgets/base",
      "model_module_version": "1.2.0",
      "model_name": "LayoutModel",
      "state": {
       "_model_module": "@jupyter-widgets/base",
       "_model_module_version": "1.2.0",
       "_model_name": "LayoutModel",
       "_view_count": null,
       "_view_module": "@jupyter-widgets/base",
       "_view_module_version": "1.2.0",
       "_view_name": "LayoutView",
       "align_content": null,
       "align_items": null,
       "align_self": null,
       "border": null,
       "bottom": null,
       "display": null,
       "flex": null,
       "flex_flow": null,
       "grid_area": null,
       "grid_auto_columns": null,
       "grid_auto_flow": null,
       "grid_auto_rows": null,
       "grid_column": null,
       "grid_gap": null,
       "grid_row": null,
       "grid_template_areas": null,
       "grid_template_columns": null,
       "grid_template_rows": null,
       "height": "16em",
       "justify_content": null,
       "justify_items": null,
       "left": null,
       "margin": null,
       "max_height": null,
       "max_width": null,
       "min_height": null,
       "min_width": null,
       "object_fit": null,
       "object_position": null,
       "order": null,
       "overflow": null,
       "overflow_x": null,
       "overflow_y": "auto",
       "padding": null,
       "right": null,
       "top": null,
       "visibility": null,
       "width": "100%"
      }
     },
     "de90eb5cf1f842e2868e214aa47af70f": {
      "model_module": "@jupyter-widgets/controls",
      "model_module_version": "1.5.0",
      "model_name": "HTMLModel",
      "state": {
       "_dom_classes": [],
       "_model_module": "@jupyter-widgets/controls",
       "_model_module_version": "1.5.0",
       "_model_name": "HTMLModel",
       "_view_count": null,
       "_view_module": "@jupyter-widgets/controls",
       "_view_module_version": "1.5.0",
       "_view_name": "HTMLView",
       "description": "",
       "description_tooltip": null,
       "layout": "IPY_MODEL_8ce0621447f24003b6781fbe745fe6ee",
       "placeholder": "​",
       "style": "IPY_MODEL_93e3dfd9ab084fb29662976ce628c0f6",
       "value": ""
      }
     },
     "def4f54ea846459db0e6d24d6deb5438": {
      "model_module": "@jupyter-widgets/controls",
      "model_module_version": "1.5.0",
      "model_name": "DescriptionStyleModel",
      "state": {
       "_model_module": "@jupyter-widgets/controls",
       "_model_module_version": "1.5.0",
       "_model_name": "DescriptionStyleModel",
       "_view_count": null,
       "_view_module": "@jupyter-widgets/base",
       "_view_module_version": "1.2.0",
       "_view_name": "StyleView",
       "description_width": ""
      }
     },
     "e03586f005a042ecad4163d6426c5387": {
      "model_module": "@jupyter-widgets/base",
      "model_module_version": "1.2.0",
      "model_name": "LayoutModel",
      "state": {
       "_model_module": "@jupyter-widgets/base",
       "_model_module_version": "1.2.0",
       "_model_name": "LayoutModel",
       "_view_count": null,
       "_view_module": "@jupyter-widgets/base",
       "_view_module_version": "1.2.0",
       "_view_name": "LayoutView",
       "align_content": null,
       "align_items": null,
       "align_self": null,
       "border": null,
       "bottom": null,
       "display": null,
       "flex": null,
       "flex_flow": null,
       "grid_area": null,
       "grid_auto_columns": null,
       "grid_auto_flow": null,
       "grid_auto_rows": null,
       "grid_column": null,
       "grid_gap": null,
       "grid_row": null,
       "grid_template_areas": null,
       "grid_template_columns": null,
       "grid_template_rows": null,
       "height": null,
       "justify_content": null,
       "justify_items": null,
       "left": null,
       "margin": null,
       "max_height": null,
       "max_width": null,
       "min_height": null,
       "min_width": null,
       "object_fit": null,
       "object_position": null,
       "order": null,
       "overflow": null,
       "overflow_x": null,
       "overflow_y": null,
       "padding": null,
       "right": null,
       "top": null,
       "visibility": null,
       "width": null
      }
     },
     "e4c77a30760640ac83522b917890f3ee": {
      "model_module": "@jupyter-widgets/controls",
      "model_module_version": "1.5.0",
      "model_name": "AccordionModel",
      "state": {
       "_dom_classes": [],
       "_model_module": "@jupyter-widgets/controls",
       "_model_module_version": "1.5.0",
       "_model_name": "AccordionModel",
       "_titles": {
        "0": "Log Output"
       },
       "_view_count": null,
       "_view_module": "@jupyter-widgets/controls",
       "_view_module_version": "1.5.0",
       "_view_name": "AccordionView",
       "box_style": "",
       "children": [
        "IPY_MODEL_06172ba68a894e11bd1ddccd32bb0967"
       ],
       "layout": "IPY_MODEL_18ec100d6a374be7a8341e97592dd352",
       "selected_index": null
      }
     },
     "e5138d8e071140f9932fff9e6eb0b951": {
      "model_module": "@jupyter-widgets/base",
      "model_module_version": "1.2.0",
      "model_name": "LayoutModel",
      "state": {
       "_model_module": "@jupyter-widgets/base",
       "_model_module_version": "1.2.0",
       "_model_name": "LayoutModel",
       "_view_count": null,
       "_view_module": "@jupyter-widgets/base",
       "_view_module_version": "1.2.0",
       "_view_name": "LayoutView",
       "align_content": null,
       "align_items": null,
       "align_self": null,
       "border": null,
       "bottom": null,
       "display": null,
       "flex": null,
       "flex_flow": null,
       "grid_area": null,
       "grid_auto_columns": null,
       "grid_auto_flow": null,
       "grid_auto_rows": null,
       "grid_column": null,
       "grid_gap": null,
       "grid_row": null,
       "grid_template_areas": null,
       "grid_template_columns": null,
       "grid_template_rows": null,
       "height": null,
       "justify_content": null,
       "justify_items": null,
       "left": null,
       "margin": null,
       "max_height": null,
       "max_width": null,
       "min_height": null,
       "min_width": null,
       "object_fit": null,
       "object_position": null,
       "order": null,
       "overflow": null,
       "overflow_x": null,
       "overflow_y": null,
       "padding": null,
       "right": null,
       "top": null,
       "visibility": null,
       "width": null
      }
     },
     "e6691b82ca794d78936ebd938e1c736e": {
      "model_module": "@jupyter-widgets/controls",
      "model_module_version": "1.5.0",
      "model_name": "HTMLModel",
      "state": {
       "_dom_classes": [],
       "_model_module": "@jupyter-widgets/controls",
       "_model_module_version": "1.5.0",
       "_model_name": "HTMLModel",
       "_view_count": null,
       "_view_module": "@jupyter-widgets/controls",
       "_view_module_version": "1.5.0",
       "_view_name": "HTMLView",
       "description": "",
       "description_tooltip": null,
       "layout": "IPY_MODEL_4be656bff5e042879600e1658e75db77",
       "placeholder": "​",
       "style": "IPY_MODEL_84f1bc1719b240ad9b77ed3e886f6277",
       "value": ""
      }
     },
     "eb19e552950647418807364ba2c853eb": {
      "model_module": "@jupyter-widgets/controls",
      "model_module_version": "1.5.0",
      "model_name": "HTMLModel",
      "state": {
       "_dom_classes": [],
       "_model_module": "@jupyter-widgets/controls",
       "_model_module_version": "1.5.0",
       "_model_name": "HTMLModel",
       "_view_count": null,
       "_view_module": "@jupyter-widgets/controls",
       "_view_module_version": "1.5.0",
       "_view_name": "HTMLView",
       "description": "",
       "description_tooltip": null,
       "layout": "IPY_MODEL_335106de49854f8f888bd8a77cf7d3b9",
       "placeholder": "​",
       "style": "IPY_MODEL_c343643ce2d6438b96f3b2aae1d1d492",
       "value": ""
      }
     },
     "eeb2388c166945d296dce8fada0446bc": {
      "model_module": "@jupyter-widgets/base",
      "model_module_version": "1.2.0",
      "model_name": "LayoutModel",
      "state": {
       "_model_module": "@jupyter-widgets/base",
       "_model_module_version": "1.2.0",
       "_model_name": "LayoutModel",
       "_view_count": null,
       "_view_module": "@jupyter-widgets/base",
       "_view_module_version": "1.2.0",
       "_view_name": "LayoutView",
       "align_content": null,
       "align_items": null,
       "align_self": null,
       "border": null,
       "bottom": null,
       "display": null,
       "flex": null,
       "flex_flow": null,
       "grid_area": null,
       "grid_auto_columns": null,
       "grid_auto_flow": null,
       "grid_auto_rows": null,
       "grid_column": null,
       "grid_gap": null,
       "grid_row": null,
       "grid_template_areas": null,
       "grid_template_columns": null,
       "grid_template_rows": null,
       "height": null,
       "justify_content": null,
       "justify_items": null,
       "left": null,
       "margin": null,
       "max_height": null,
       "max_width": null,
       "min_height": null,
       "min_width": null,
       "object_fit": null,
       "object_position": null,
       "order": null,
       "overflow": null,
       "overflow_x": null,
       "overflow_y": null,
       "padding": null,
       "right": null,
       "top": null,
       "visibility": null,
       "width": null
      }
     },
     "ef20b049ac4b458189430b815460613a": {
      "model_module": "@jupyter-widgets/base",
      "model_module_version": "1.2.0",
      "model_name": "LayoutModel",
      "state": {
       "_model_module": "@jupyter-widgets/base",
       "_model_module_version": "1.2.0",
       "_model_name": "LayoutModel",
       "_view_count": null,
       "_view_module": "@jupyter-widgets/base",
       "_view_module_version": "1.2.0",
       "_view_name": "LayoutView",
       "align_content": null,
       "align_items": null,
       "align_self": null,
       "border": null,
       "bottom": null,
       "display": null,
       "flex": null,
       "flex_flow": null,
       "grid_area": null,
       "grid_auto_columns": null,
       "grid_auto_flow": null,
       "grid_auto_rows": null,
       "grid_column": null,
       "grid_gap": null,
       "grid_row": null,
       "grid_template_areas": null,
       "grid_template_columns": null,
       "grid_template_rows": null,
       "height": null,
       "justify_content": null,
       "justify_items": null,
       "left": null,
       "margin": null,
       "max_height": null,
       "max_width": null,
       "min_height": null,
       "min_width": null,
       "object_fit": null,
       "object_position": null,
       "order": null,
       "overflow": null,
       "overflow_x": null,
       "overflow_y": null,
       "padding": null,
       "right": null,
       "top": null,
       "visibility": null,
       "width": null
      }
     },
     "f371632228264fc38ba19e3c308eb1e0": {
      "model_module": "@jupyter-widgets/controls",
      "model_module_version": "1.5.0",
      "model_name": "AccordionModel",
      "state": {
       "_dom_classes": [],
       "_model_module": "@jupyter-widgets/controls",
       "_model_module_version": "1.5.0",
       "_model_name": "AccordionModel",
       "_titles": {
        "0": "Log Output"
       },
       "_view_count": null,
       "_view_module": "@jupyter-widgets/controls",
       "_view_module_version": "1.5.0",
       "_view_name": "AccordionView",
       "box_style": "",
       "children": [
        "IPY_MODEL_c51644c10c4f4aeb8d32502d84617aac"
       ],
       "layout": "IPY_MODEL_4989c874651e464d9cbf573c0389bf37",
       "selected_index": null
      }
     },
     "f420ab2ee8ec4d549c221ea6e965ef83": {
      "model_module": "@jupyter-widgets/controls",
      "model_module_version": "1.5.0",
      "model_name": "AccordionModel",
      "state": {
       "_dom_classes": [],
       "_model_module": "@jupyter-widgets/controls",
       "_model_module_version": "1.5.0",
       "_model_name": "AccordionModel",
       "_titles": {
        "0": "Log Output"
       },
       "_view_count": null,
       "_view_module": "@jupyter-widgets/controls",
       "_view_module_version": "1.5.0",
       "_view_name": "AccordionView",
       "box_style": "",
       "children": [
        "IPY_MODEL_4127b64943c94f9a8aa0e43cf1405fc7"
       ],
       "layout": "IPY_MODEL_31e23746957a4a45a3513a65aca75972",
       "selected_index": null
      }
     },
     "f51cad87fce34983a783f24ecb9191ee": {
      "model_module": "@jupyter-widgets/controls",
      "model_module_version": "1.5.0",
      "model_name": "HTMLModel",
      "state": {
       "_dom_classes": [],
       "_model_module": "@jupyter-widgets/controls",
       "_model_module_version": "1.5.0",
       "_model_name": "HTMLModel",
       "_view_count": null,
       "_view_module": "@jupyter-widgets/controls",
       "_view_module_version": "1.5.0",
       "_view_name": "HTMLView",
       "description": "",
       "description_tooltip": null,
       "layout": "IPY_MODEL_5f882a2de8204facbe36a8e9372252a2",
       "placeholder": "​",
       "style": "IPY_MODEL_c98fa07e6994474c95b7e6e431e99f5b",
       "value": ""
      }
     },
     "f5f6a1885b9942d59b1cb9b883c2b806": {
      "model_module": "@jupyter-widgets/controls",
      "model_module_version": "1.5.0",
      "model_name": "AccordionModel",
      "state": {
       "_dom_classes": [],
       "_model_module": "@jupyter-widgets/controls",
       "_model_module_version": "1.5.0",
       "_model_name": "AccordionModel",
       "_titles": {
        "0": "Log Output"
       },
       "_view_count": null,
       "_view_module": "@jupyter-widgets/controls",
       "_view_module_version": "1.5.0",
       "_view_name": "AccordionView",
       "box_style": "",
       "children": [
        "IPY_MODEL_c3c108bb7e8742b7b21b32d9f1b3b1e6"
       ],
       "layout": "IPY_MODEL_185b5502d08c44cd8e002664de6004ac",
       "selected_index": null
      }
     },
     "f6b719b3544d4bdc8289ff0dcbbd6662": {
      "model_module": "@jupyter-widgets/controls",
      "model_module_version": "1.5.0",
      "model_name": "DescriptionStyleModel",
      "state": {
       "_model_module": "@jupyter-widgets/controls",
       "_model_module_version": "1.5.0",
       "_model_name": "DescriptionStyleModel",
       "_view_count": null,
       "_view_module": "@jupyter-widgets/base",
       "_view_module_version": "1.2.0",
       "_view_name": "StyleView",
       "description_width": ""
      }
     },
     "f85fea871eff46acac155fd497fdb441": {
      "model_module": "@jupyter-widgets/base",
      "model_module_version": "1.2.0",
      "model_name": "LayoutModel",
      "state": {
       "_model_module": "@jupyter-widgets/base",
       "_model_module_version": "1.2.0",
       "_model_name": "LayoutModel",
       "_view_count": null,
       "_view_module": "@jupyter-widgets/base",
       "_view_module_version": "1.2.0",
       "_view_name": "LayoutView",
       "align_content": null,
       "align_items": null,
       "align_self": null,
       "border": null,
       "bottom": null,
       "display": null,
       "flex": null,
       "flex_flow": null,
       "grid_area": null,
       "grid_auto_columns": null,
       "grid_auto_flow": null,
       "grid_auto_rows": null,
       "grid_column": null,
       "grid_gap": null,
       "grid_row": null,
       "grid_template_areas": null,
       "grid_template_columns": null,
       "grid_template_rows": null,
       "height": null,
       "justify_content": null,
       "justify_items": null,
       "left": null,
       "margin": null,
       "max_height": null,
       "max_width": null,
       "min_height": null,
       "min_width": null,
       "object_fit": null,
       "object_position": null,
       "order": null,
       "overflow": null,
       "overflow_x": null,
       "overflow_y": null,
       "padding": null,
       "right": null,
       "top": null,
       "visibility": null,
       "width": null
      }
     },
     "f9a1b79151994043839ccbd9530fa294": {
      "model_module": "@jupyter-widgets/base",
      "model_module_version": "1.2.0",
      "model_name": "LayoutModel",
      "state": {
       "_model_module": "@jupyter-widgets/base",
       "_model_module_version": "1.2.0",
       "_model_name": "LayoutModel",
       "_view_count": null,
       "_view_module": "@jupyter-widgets/base",
       "_view_module_version": "1.2.0",
       "_view_name": "LayoutView",
       "align_content": null,
       "align_items": null,
       "align_self": null,
       "border": null,
       "bottom": null,
       "display": null,
       "flex": null,
       "flex_flow": null,
       "grid_area": null,
       "grid_auto_columns": null,
       "grid_auto_flow": null,
       "grid_auto_rows": null,
       "grid_column": null,
       "grid_gap": null,
       "grid_row": null,
       "grid_template_areas": null,
       "grid_template_columns": null,
       "grid_template_rows": null,
       "height": null,
       "justify_content": null,
       "justify_items": null,
       "left": null,
       "margin": null,
       "max_height": null,
       "max_width": null,
       "min_height": null,
       "min_width": null,
       "object_fit": null,
       "object_position": null,
       "order": null,
       "overflow": null,
       "overflow_x": null,
       "overflow_y": null,
       "padding": null,
       "right": null,
       "top": null,
       "visibility": null,
       "width": null
      }
     },
     "fbf1f2b2abcc460d931c7314c0d69798": {
      "model_module": "@jupyter-widgets/base",
      "model_module_version": "1.2.0",
      "model_name": "LayoutModel",
      "state": {
       "_model_module": "@jupyter-widgets/base",
       "_model_module_version": "1.2.0",
       "_model_name": "LayoutModel",
       "_view_count": null,
       "_view_module": "@jupyter-widgets/base",
       "_view_module_version": "1.2.0",
       "_view_name": "LayoutView",
       "align_content": null,
       "align_items": null,
       "align_self": null,
       "border": null,
       "bottom": null,
       "display": null,
       "flex": null,
       "flex_flow": null,
       "grid_area": null,
       "grid_auto_columns": null,
       "grid_auto_flow": null,
       "grid_auto_rows": null,
       "grid_column": null,
       "grid_gap": null,
       "grid_row": null,
       "grid_template_areas": null,
       "grid_template_columns": null,
       "grid_template_rows": null,
       "height": "16em",
       "justify_content": null,
       "justify_items": null,
       "left": null,
       "margin": null,
       "max_height": null,
       "max_width": null,
       "min_height": null,
       "min_width": null,
       "object_fit": null,
       "object_position": null,
       "order": null,
       "overflow": null,
       "overflow_x": null,
       "overflow_y": "auto",
       "padding": null,
       "right": null,
       "top": null,
       "visibility": null,
       "width": "100%"
      }
     },
     "fc19132c04934a8b8fa626c513d8d1ce": {
      "model_module": "@jupyter-widgets/base",
      "model_module_version": "1.2.0",
      "model_name": "LayoutModel",
      "state": {
       "_model_module": "@jupyter-widgets/base",
       "_model_module_version": "1.2.0",
       "_model_name": "LayoutModel",
       "_view_count": null,
       "_view_module": "@jupyter-widgets/base",
       "_view_module_version": "1.2.0",
       "_view_name": "LayoutView",
       "align_content": null,
       "align_items": null,
       "align_self": null,
       "border": null,
       "bottom": null,
       "display": null,
       "flex": null,
       "flex_flow": null,
       "grid_area": null,
       "grid_auto_columns": null,
       "grid_auto_flow": null,
       "grid_auto_rows": null,
       "grid_column": null,
       "grid_gap": null,
       "grid_row": null,
       "grid_template_areas": null,
       "grid_template_columns": null,
       "grid_template_rows": null,
       "height": "16em",
       "justify_content": null,
       "justify_items": null,
       "left": null,
       "margin": null,
       "max_height": null,
       "max_width": null,
       "min_height": null,
       "min_width": null,
       "object_fit": null,
       "object_position": null,
       "order": null,
       "overflow": null,
       "overflow_x": null,
       "overflow_y": "auto",
       "padding": null,
       "right": null,
       "top": null,
       "visibility": null,
       "width": "100%"
      }
     },
     "fd8975a501964430b39694605ca45259": {
      "model_module": "@jupyter-widgets/output",
      "model_module_version": "1.0.0",
      "model_name": "OutputModel",
      "state": {
       "_dom_classes": [],
       "_model_module": "@jupyter-widgets/output",
       "_model_module_version": "1.0.0",
       "_model_name": "OutputModel",
       "_view_count": null,
       "_view_module": "@jupyter-widgets/output",
       "_view_module_version": "1.0.0",
       "_view_name": "OutputView",
       "layout": "IPY_MODEL_4c8ddd04a68e4579acb0858cc24ceea1",
       "msg_id": "",
       "outputs": [
        {
         "data": {
          "application/vnd.jupyter.widget-view+json": {
           "model_id": "4907e29fa70c41efaed63bfe1a58ae54",
           "version_major": 2,
           "version_minor": 0
          },
          "text/plain": "VTKPlot(antialias=3, axes=['x', 'y', 'z'], background_color=16777215, camera=[4.5, 4.5, 4.5, 0.0, 0.0, 0.0, 1.…"
         },
         "metadata": {},
         "output_type": "display_data"
        }
       ]
      }
     },
     "feb8d48377e140529bc9c890f3845cf2": {
      "model_module": "@jupyter-widgets/base",
      "model_module_version": "1.2.0",
      "model_name": "LayoutModel",
      "state": {
       "_model_module": "@jupyter-widgets/base",
       "_model_module_version": "1.2.0",
       "_model_name": "LayoutModel",
       "_view_count": null,
       "_view_module": "@jupyter-widgets/base",
       "_view_module_version": "1.2.0",
       "_view_name": "LayoutView",
       "align_content": null,
       "align_items": null,
       "align_self": null,
       "border": null,
       "bottom": null,
       "display": null,
       "flex": null,
       "flex_flow": null,
       "grid_area": null,
       "grid_auto_columns": null,
       "grid_auto_flow": null,
       "grid_auto_rows": null,
       "grid_column": null,
       "grid_gap": null,
       "grid_row": null,
       "grid_template_areas": null,
       "grid_template_columns": null,
       "grid_template_rows": null,
       "height": "16em",
       "justify_content": null,
       "justify_items": null,
       "left": null,
       "margin": null,
       "max_height": null,
       "max_width": null,
       "min_height": null,
       "min_width": null,
       "object_fit": null,
       "object_position": null,
       "order": null,
       "overflow": null,
       "overflow_x": null,
       "overflow_y": "auto",
       "padding": null,
       "right": null,
       "top": null,
       "visibility": null,
       "width": "100%"
      }
     },
     "ff4398d083de4f83b2587005932e9bb9": {
      "model_module": "@jupyter-widgets/controls",
      "model_module_version": "1.5.0",
      "model_name": "DescriptionStyleModel",
      "state": {
       "_model_module": "@jupyter-widgets/controls",
       "_model_module_version": "1.5.0",
       "_model_name": "DescriptionStyleModel",
       "_view_count": null,
       "_view_module": "@jupyter-widgets/base",
       "_view_module_version": "1.2.0",
       "_view_name": "StyleView",
       "description_width": ""
      }
     }
    },
    "version_major": 2,
    "version_minor": 0
   }
  }
 },
 "nbformat": 4,
 "nbformat_minor": 5
}