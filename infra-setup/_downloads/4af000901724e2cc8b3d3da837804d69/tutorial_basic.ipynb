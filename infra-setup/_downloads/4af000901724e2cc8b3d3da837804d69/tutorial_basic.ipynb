{
 "cells": [
  {
   "cell_type": "markdown",
   "id": "7816a7fe",
   "metadata": {},
   "source": [
    "```{try_on_binder}\n",
    "```"
   ]
  },
  {
   "cell_type": "code",
   "execution_count": 1,
   "id": "5d90b227",
   "metadata": {
    "load": "myst_code_init.py",
    "tags": [
     "remove-cell"
    ]
   },
   "outputs": [],
   "source": [
    "from IPython import get_ipython\n",
    "\n",
    "ip = get_ipython()\n",
    "if ip is not None:\n",
    "    # ip.run_line_magic('load_ext', 'pymor.discretizers.builtin.gui.jupyter')\n",
    "    ip.run_line_magic(\"matplotlib\", \"inline\")\n",
    "\n",
    "import warnings\n",
    "\n",
    "warnings.filterwarnings(\"ignore\", category=UserWarning, module=\"torch\")\n"
   ]
  },
  {
   "cell_type": "markdown",
   "id": "5049c39c",
   "metadata": {},
   "source": [
    "# Tutorial:\n",
    "\n",
    "Some text."
   ]
  },
  {
   "cell_type": "code",
   "execution_count": 2,
   "id": "4ed739ad",
   "metadata": {},
   "outputs": [
    {
     "data": {
      "text/plain": [
       "'2021.1.8'"
      ]
     },
     "execution_count": 2,
     "metadata": {},
     "output_type": "execute_result"
    }
   ],
   "source": [
    "from dune.xt import *\n",
    "from dune.gdt import *\n",
    "import dune.gdt\n",
    "dune.gdt.__version__"
   ]
  },
  {
   "cell_type": "markdown",
   "id": "1ca1b417",
   "metadata": {},
   "source": [
    "Download the code:\n",
    "{download}`tutorial_basic.md`\n",
    "{nb-download}`tutorial_basic.ipynb`"
   ]
  }
 ],
 "metadata": {
  "jupyter": {
   "jupytext": {
    "cell_metadata_filter": "-all",
    "formats": "ipynb,myst",
    "main_language": "python",
    "text_representation": {
     "extension": ".md",
     "format_name": "myst",
     "format_version": "1.3",
     "jupytext_version": "1.11.2"
    }
   }
  },
  "jupytext": {
   "text_representation": {
    "format_name": "myst"
   }
  },
  "kernelspec": {
   "display_name": "Python 3",
   "name": "python3"
  },
  "language_info": {
   "codemirror_mode": {
    "name": "ipython",
    "version": 3
   },
   "file_extension": ".py",
   "mimetype": "text/x-python",
   "name": "python",
   "nbconvert_exporter": "python",
   "pygments_lexer": "ipython3",
   "version": "3.7.12"
  },
  "source_map": [
   18,
   23,
   26,
   34,
   39
  ]
 },
 "nbformat": 4,
 "nbformat_minor": 5
}