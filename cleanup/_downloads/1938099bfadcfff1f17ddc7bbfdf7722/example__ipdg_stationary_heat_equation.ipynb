{
 "cells": [
  {
   "cell_type": "markdown",
   "id": "8db3d2d2",
   "metadata": {},
   "source": [
    "```{try_on_binder}\n",
    "```"
   ]
  },
  {
   "cell_type": "code",
   "execution_count": 1,
   "id": "5aabb76a",
   "metadata": {
    "load": "myst_code_init.py",
    "tags": [
     "remove-cell"
    ]
   },
   "outputs": [],
   "source": [
    "from IPython import get_ipython\n",
    "import warnings\n",
    "\n",
    "ip = get_ipython()\n",
    "if ip is not None:\n",
    "    # ip.run_line_magic('load_ext', 'pymor.discretizers.builtin.gui.jupyter')\n",
    "    ip.run_line_magic(\"matplotlib\", \"inline\")\n",
    "\n",
    "warnings.filterwarnings(\"ignore\", category=UserWarning, module=\"torch\")\n"
   ]
  },
  {
   "cell_type": "markdown",
   "id": "df178fcd",
   "metadata": {},
   "source": [
    "# Tutorial: discontinuous IPDG for the stationary heat equation\n",
    "\n",
    "This tutorial shows how to solve the stationary heat equation with homogeneous Dirichlet boundary conditions using interior penalty (IP) discontinuous Galerkin (DG) Finite Elements with `dune-gdt`.\n",
    "\n",
    "This is work in progress [WIP], still missing:\n",
    "\n",
    "* mathematical theory on IPDG methods\n",
    "* explanation of the IPDG implementation\n",
    "* non-homonegenous Dirichlet boundary values\n",
    "* Neumann boundary values\n",
    "* Robin boundary values"
   ]
  },
  {
   "cell_type": "code",
   "execution_count": 2,
   "id": "5553cb71",
   "metadata": {},
   "outputs": [],
   "source": [
    "# wurlitzer: display dune's output in the notebook\n",
    "%load_ext wurlitzer\n",
    "%matplotlib notebook\n",
    "\n",
    "import numpy as np\n",
    "np.warnings.filterwarnings('ignore') # silence numpys warnings"
   ]
  },
  {
   "cell_type": "code",
   "execution_count": 3,
   "id": "2af6252c",
   "metadata": {},
   "outputs": [],
   "source": [
    "from dune.xt.grid import Dim\n",
    "from dune.xt.functions import ConstantFunction, ExpressionFunction\n",
    "\n",
    "d = 2\n",
    "omega = ([0, 0], [1, 1])\n",
    "\n",
    "kappa = ConstantFunction(dim_domain=Dim(d), dim_range=Dim(1), value=[1.], name='kappa')\n",
    "# note that we need to prescribe the approximation order, which determines the quadrature on each element\n",
    "f = ExpressionFunction(dim_domain=Dim(d), variable='x', expression='exp(x[0]*x[1])', order=3, name='f')"
   ]
  },
  {
   "cell_type": "code",
   "execution_count": 4,
   "id": "b989bc4a",
   "metadata": {},
   "outputs": [
    {
     "name": "stdout",
     "output_type": "stream",
     "text": [
      "grid has 16 elements, 28 edges and 13 vertices\n"
     ]
    },
    {
     "name": "stderr",
     "output_type": "stream",
     "text": [
      "GridParameterBlock: Parameter 'refinementedge' not specified, defaulting to 'ARBITRARY'.\n"
     ]
    },
    {
     "data": {
      "application/vnd.jupyter.widget-view+json": {
       "model_id": "e4a71c1dc5df4855b888109b30a086d9",
       "version_major": 2,
       "version_minor": 0
      },
      "text/plain": [
       "Output()"
      ]
     },
     "metadata": {},
     "output_type": "display_data"
    }
   ],
   "source": [
    "from dune.xt.grid import Simplex, make_cube_grid, visualize_grid\n",
    "\n",
    "grid = make_cube_grid(Dim(d), Simplex(), lower_left=omega[0], upper_right=omega[1], num_elements=[2, 2])\n",
    "grid.global_refine(1) # we need to refine once to obtain a symmetric grid\n",
    "\n",
    "print(f'grid has {grid.size(0)} elements, {grid.size(d - 1)} edges and {grid.size(d)} vertices')\n",
    "\n",
    "_ = visualize_grid(grid)"
   ]
  },
  {
   "cell_type": "markdown",
   "id": "717ead97",
   "metadata": {},
   "source": [
    "## 1.9: everything in a single function\n",
    "\n",
    "For a better overview, the above discretization code is also available in a single function in the file `discretize_elliptic_ipdg.py`."
   ]
  },
  {
   "cell_type": "code",
   "execution_count": 5,
   "id": "beb93082",
   "metadata": {},
   "outputs": [
    {
     "name": "stdout",
     "output_type": "stream",
     "text": [
      "def discretize_elliptic_ipdg_dirichlet_zero(\n",
      "    grid, diffusion, source, symmetry_factor=1, penalty_parameter=None, weight=1\n",
      "):\n",
      "\n",
      "    \"\"\"\n",
      "    Discretizes the stationary heat equation with homogeneous Dirichlet boundary values everywhere\n",
      "    with dune-gdt using an interior penalty (IP) discontinuous Galerkin (DG) method based on first\n",
      "    order Lagrange finite elements.\n",
      "\n",
      "    The type of IPDG scheme is determined by `symmetry_factor` and `weight`:\n",
      "\n",
      "    * with `weight==1` we obtain\n",
      "\n",
      "    - `symmetry_factor==-1`: non-symmetric interior penalty scheme (NIPDG)\n",
      "    - `symmetry_factor==0`: incomplete interior penalty scheme (IIPDG)\n",
      "    - `symmetry_factor==1`: symmetric interior penalty scheme (SIPDG)\n",
      "\n",
      "    * with `weight=diffusion`, we obtain\n",
      "\n",
      "    - `symmetry_factor==1`: symmetric weighted interior penalty scheme (SWIPDG)\n",
      "\n",
      "    Parameters\n",
      "    ----------\n",
      "    grid\n",
      "        The grid, given as a GridProvider from dune.xt.grid.\n",
      "    diffusion\n",
      "        Diffusion function with values in R^{d x d}, anything that dune.xt.functions.GridFunction\n",
      "        can handle.\n",
      "    source\n",
      "        Right hand side source function with values in R, anything that\n",
      "        dune.xt.functions.GridFunction can handle.\n",
      "    symmetry_factor\n",
      "        Usually one of -1, 0, 1, determines the IPDG scheme (see above).\n",
      "    penalty_parameter\n",
      "        Positive number to ensure coercivity of the resulting diffusion bilinear form,\n",
      "        e.g. 16 for simplicial non-degenerate grids in 2d and `diffusion==1`.\n",
      "        Determined automatically if `None`.\n",
      "    weight\n",
      "        Usually 1 or diffusion, determines the IPDG scheme (see above).\n",
      "\n",
      "    Returns\n",
      "    -------\n",
      "    u_h\n",
      "        The computed solution as a dune.gdt.DiscreteFunction for postprocessing.\n",
      "    \"\"\"\n",
      "\n",
      "    d = grid.dimension\n",
      "    diffusion = GF(grid, diffusion, dim_range=(Dim(d), Dim(d)))\n",
      "    source = GF(grid, source)\n",
      "    weight = GF(grid, weight, dim_range=(Dim(d), Dim(d)))\n",
      "\n",
      "    boundary_info = AllDirichletBoundaryInfo(grid)\n",
      "\n",
      "    V_h = DiscontinuousLagrangeSpace(grid, order=1)\n",
      "    if not penalty_parameter:\n",
      "        # TODO: check if we need to include diffusion for the coercivity here!\n",
      "        # TODO: each is a grid walk, compute this in one grid walk with the sparsity pattern\n",
      "        C_G = estimate_element_to_intersection_equivalence_constant(grid)\n",
      "        C_M_times_1_plus_C_T = estimate_combined_inverse_trace_inequality_constant(V_h)\n",
      "        penalty_parameter = C_G * C_M_times_1_plus_C_T\n",
      "        if symmetry_factor == 1:\n",
      "            penalty_parameter *= 4\n",
      "    assert isinstance(penalty_parameter, Number)\n",
      "    assert penalty_parameter > 0\n",
      "\n",
      "    l_h = VectorFunctional(grid, source_space=V_h)\n",
      "    l_h += LocalElementIntegralFunctional(\n",
      "        LocalElementProductIntegrand(GF(grid, 1)).with_ansatz(source)\n",
      "    )\n",
      "\n",
      "    a_h = MatrixOperator(\n",
      "        grid,\n",
      "        source_space=V_h,\n",
      "        range_space=V_h,\n",
      "        sparsity_pattern=make_element_and_intersection_sparsity_pattern(V_h),\n",
      "    )\n",
      "    a_h += LocalElementIntegralBilinearForm(LocalLaplaceIntegrand(diffusion))\n",
      "    a_h += (\n",
      "        LocalCouplingIntersectionIntegralBilinearForm(\n",
      "            LocalLaplaceIPDGInnerCouplingIntegrand(symmetry_factor, diffusion, weight)\n",
      "            + LocalIPDGInnerPenaltyIntegrand(penalty_parameter, weight)\n",
      "        ),\n",
      "        {},\n",
      "        ApplyOnInnerIntersectionsOnce(grid),\n",
      "    )\n",
      "    a_h += (\n",
      "        LocalIntersectionIntegralBilinearForm(\n",
      "            LocalIPDGBoundaryPenaltyIntegrand(penalty_parameter, weight)\n",
      "            + LocalLaplaceIPDGDirichletCouplingIntegrand(symmetry_factor, diffusion)\n",
      "        ),\n",
      "        {},\n",
      "        ApplyOnCustomBoundaryIntersections(grid, boundary_info, DirichletBoundary()),\n",
      "    )\n",
      "\n",
      "    walker = Walker(grid)\n",
      "    walker.append(a_h)\n",
      "    walker.append(l_h)\n",
      "    walker.walk()\n",
      "\n",
      "    u_h = DiscreteFunction(V_h, name=\"u_h\")\n",
      "    a_h.apply_inverse(l_h.vector, u_h.dofs.vector)\n",
      "\n",
      "    return u_h\n",
      "\n"
     ]
    }
   ],
   "source": [
    "import inspect\n",
    "from discretize_elliptic_ipdg import discretize_elliptic_ipdg_dirichlet_zero\n",
    "\n",
    "print(inspect.getsource(discretize_elliptic_ipdg_dirichlet_zero))"
   ]
  },
  {
   "cell_type": "code",
   "execution_count": 6,
   "id": "23d3c819",
   "metadata": {},
   "outputs": [
    {
     "data": {
      "application/vnd.jupyter.widget-view+json": {
       "model_id": "8897fe437fd84425996280a3cf111da8",
       "version_major": 2,
       "version_minor": 0
      },
      "text/plain": [
       "Output()"
      ]
     },
     "metadata": {},
     "output_type": "display_data"
    }
   ],
   "source": [
    "from dune.gdt import visualize_function\n",
    "\n",
    "u_h = discretize_elliptic_ipdg_dirichlet_zero(\n",
    "    grid, kappa, f,\n",
    "    symmetry_factor=1, penalty_parameter=16, weight=1) # SIPDG scheme\n",
    "\n",
    "_ = visualize_function(u_h)"
   ]
  },
  {
   "cell_type": "markdown",
   "id": "632f9153",
   "metadata": {},
   "source": [
    "Download the code:\n",
    "{download}`example__ipdg_stationary_heat_equation.md`\n",
    "{nb-download}`example__ipdg_stationary_heat_equation.ipynb`"
   ]
  }
 ],
 "metadata": {
  "jupyter": {
   "jupytext": {
    "cell_metadata_filter": "-all",
    "formats": "ipynb,myst",
    "main_language": "python",
    "text_representation": {
     "extension": ".md",
     "format_name": "myst",
     "format_version": "1.3",
     "jupytext_version": "1.11.2"
    }
   }
  },
  "jupytext": {
   "text_representation": {
    "format_name": "myst"
   }
  },
  "kernelspec": {
   "display_name": "Python 3",
   "name": "python3"
  },
  "language_info": {
   "codemirror_mode": {
    "name": "ipython",
    "version": 3
   },
   "file_extension": ".py",
   "mimetype": "text/x-python",
   "name": "python",
   "nbconvert_exporter": "python",
   "pygments_lexer": "ipython3",
   "version": "3.9.10"
  },
  "source_map": [
   18,
   23,
   26,
   39,
   48,
   60,
   69,
   75,
   82,
   90
  ],
  "widgets": {
   "application/vnd.jupyter.widget-state+json": {
    "state": {
     "087b7890acfb487aa289a45ca650cfd1": {
      "model_module": "@jupyter-widgets/controls",
      "model_module_version": "1.5.0",
      "model_name": "DescriptionStyleModel",
      "state": {
       "_model_module": "@jupyter-widgets/controls",
       "_model_module_version": "1.5.0",
       "_model_name": "DescriptionStyleModel",
       "_view_count": null,
       "_view_module": "@jupyter-widgets/base",
       "_view_module_version": "1.2.0",
       "_view_name": "StyleView",
       "description_width": ""
      }
     },
     "092895ed175b40cabe65923aa7e3642d": {
      "model_module": "@jupyter-widgets/controls",
      "model_module_version": "1.5.0",
      "model_name": "AccordionModel",
      "state": {
       "_dom_classes": [],
       "_model_module": "@jupyter-widgets/controls",
       "_model_module_version": "1.5.0",
       "_model_name": "AccordionModel",
       "_titles": {
        "0": "Log Output"
       },
       "_view_count": null,
       "_view_module": "@jupyter-widgets/controls",
       "_view_module_version": "1.5.0",
       "_view_name": "AccordionView",
       "box_style": "",
       "children": [
        "IPY_MODEL_095eba7bd1f2451aa7f5348e8278f17e"
       ],
       "layout": "IPY_MODEL_4a8fdf6d38ec4e05a8184ae9fa9ac617",
       "selected_index": null
      }
     },
     "095eba7bd1f2451aa7f5348e8278f17e": {
      "model_module": "@jupyter-widgets/controls",
      "model_module_version": "1.5.0",
      "model_name": "HTMLModel",
      "state": {
       "_dom_classes": [],
       "_model_module": "@jupyter-widgets/controls",
       "_model_module_version": "1.5.0",
       "_model_name": "HTMLModel",
       "_view_count": null,
       "_view_module": "@jupyter-widgets/controls",
       "_view_module_version": "1.5.0",
       "_view_name": "HTMLView",
       "description": "",
       "description_tooltip": null,
       "layout": "IPY_MODEL_ed5709904e3c4836b445793d483e2349",
       "placeholder": "​",
       "style": "IPY_MODEL_91ffd38260e648b59e155059a1ba3307",
       "value": ""
      }
     },
     "0b8d84a14d804ceb993ab701824093b5": {
      "buffers": [
       {
        "data": "RXTWPdr/dTwf0E89mtxRPc/XFTwyyHm7Msh5u8/XFTya3FE9H9BPPdr/dTxFdNY9tfVHPDItkbvl1mM9qg9hPRGPf7toCRE84AhsPLBC2T1CsV89T1NePW8+3T1z9K88aAkRPBGPf7uqD2E95dZjPTItkbu19Uc8c/SvPG8+3T1PU149QrFfPbBC2T3gCGw8g/bDumCMRDz5pYo9wxCGPbwErTx3It89dyLfPbwErTzDEIY9+aWKPWCMRDyD9sO6",
        "encoding": "base64",
        "path": [
         "attribute",
         "buffer"
        ]
       },
       {
        "data": "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",
        "encoding": "base64",
        "path": [
         "color_map",
         "buffer"
        ]
       },
       {
        "data": "AAAAAAEAAAACAAAAAwAAAAQAAAAFAAAABgAAAAcAAAAIAAAACQAAAAoAAAALAAAADAAAAA0AAAAOAAAADwAAABAAAAARAAAAEgAAABMAAAAUAAAAFQAAABYAAAAXAAAAGAAAABkAAAAaAAAAGwAAABwAAAAdAAAAHgAAAB8AAAAgAAAAIQAAACIAAAAjAAAAJAAAACUAAAAmAAAAJwAAACgAAAApAAAAKgAAACsAAAAsAAAALQAAAC4AAAAvAAAA",
        "encoding": "base64",
        "path": [
         "indices",
         "buffer"
        ]
       },
       {
        "data": "AACAPwAAAAAAAAAAAAAAAAAAAAAAAIA/AAAAAAAAAAAAAAAAAAAAAAAAgD8AAAAAAAAAAAAAAAAAAAAAAACAPw==",
        "encoding": "base64",
        "path": [
         "model_matrix",
         "buffer"
        ]
       },
       {
        "data": "AAAAPwAAAD8AAAAAAAAAPwAAAAAAAAAAAACAPgAAgD4AAAAAAACAPgAAgD4AAAAAAAAAPwAAAAAAAAAAAAAAAAAAAAAAAAAAAAAAAAAAAAAAAAAAAAAAAAAAAD8AAAAAAACAPgAAgD4AAAAAAACAPgAAgD4AAAAAAAAAAAAAAD8AAAAAAAAAPwAAAD8AAAAAAACAPwAAAD8AAAAAAACAPwAAAAAAAAAAAABAPwAAgD4AAAAAAABAPwAAgD4AAAAAAACAPwAAAAAAAAAAAAAAPwAAAAAAAAAAAAAAPwAAAAAAAAAAAAAAPwAAAD8AAAAAAABAPwAAgD4AAAAAAABAPwAAgD4AAAAAAAAAPwAAAD8AAAAAAACAPwAAAD8AAAAAAAAAAAAAAD8AAAAAAAAAAAAAgD8AAAAAAACAPgAAQD8AAAAAAACAPgAAQD8AAAAAAAAAAAAAgD8AAAAAAAAAPwAAgD8AAAAAAAAAPwAAgD8AAAAAAAAAPwAAAD8AAAAAAACAPgAAQD8AAAAAAACAPgAAQD8AAAAAAAAAPwAAAD8AAAAAAAAAAAAAAD8AAAAAAACAPwAAgD8AAAAAAACAPwAAAD8AAAAAAABAPwAAQD8AAAAAAABAPwAAQD8AAAAAAACAPwAAAD8AAAAAAAAAPwAAAD8AAAAAAAAAPwAAAD8AAAAAAAAAPwAAgD8AAAAAAABAPwAAQD8AAAAAAABAPwAAQD8AAAAAAAAAPwAAgD8AAAAAAACAPwAAgD8AAAAA",
        "encoding": "base64",
        "path": [
         "vertices",
         "buffer"
        ]
       }
      ],
      "model_module": "k3d",
      "model_module_version": "2.6.6",
      "model_name": "ObjectModel",
      "state": {
       "_model_module": "k3d",
       "_model_module_version": "2.6.6",
       "_model_name": "ObjectModel",
       "_view_count": null,
       "_view_module": null,
       "_view_module_version": "",
       "_view_name": null,
       "attribute": {
        "dtype": "float32",
        "shape": [
         48
        ]
       },
       "color": 255,
       "color_map": {
        "dtype": "float32",
        "shape": [
         256,
         4
        ]
       },
       "color_range": [
        -0.0044304365292191505,
        0.10895245522260666
       ],
       "compression_level": 0,
       "flat_shading": false,
       "id": 139651101980560,
       "indices": {
        "dtype": "uint32",
        "shape": [
         16,
         3
        ]
       },
       "model_matrix": {
        "dtype": "float32",
        "shape": [
         4,
         4
        ]
       },
       "name": null,
       "opacity": 1.0,
       "type": "Mesh",
       "vertices": {
        "dtype": "float32",
        "shape": [
         48,
         3
        ]
       },
       "visible": true,
       "wireframe": false
      }
     },
     "0c827e21f22941109edc52e06fc1ea2a": {
      "model_module": "@jupyter-widgets/controls",
      "model_module_version": "1.5.0",
      "model_name": "AccordionModel",
      "state": {
       "_dom_classes": [],
       "_model_module": "@jupyter-widgets/controls",
       "_model_module_version": "1.5.0",
       "_model_name": "AccordionModel",
       "_titles": {
        "0": "Log Output"
       },
       "_view_count": null,
       "_view_module": "@jupyter-widgets/controls",
       "_view_module_version": "1.5.0",
       "_view_name": "AccordionView",
       "box_style": "",
       "children": [
        "IPY_MODEL_1d20bcff0b2c45d8999dd959e5b6bb81"
       ],
       "layout": "IPY_MODEL_1f979513bdc04490a7debf4907173206",
       "selected_index": null
      }
     },
     "0f66730ab65f475ea0297ae6d854bdcb": {
      "model_module": "@jupyter-widgets/controls",
      "model_module_version": "1.5.0",
      "model_name": "HTMLModel",
      "state": {
       "_dom_classes": [],
       "_model_module": "@jupyter-widgets/controls",
       "_model_module_version": "1.5.0",
       "_model_name": "HTMLModel",
       "_view_count": null,
       "_view_module": "@jupyter-widgets/controls",
       "_view_module_version": "1.5.0",
       "_view_name": "HTMLView",
       "description": "",
       "description_tooltip": null,
       "layout": "IPY_MODEL_1cd294326f4c4502a409edc06965d9d8",
       "placeholder": "​",
       "style": "IPY_MODEL_7341acfc05204380af6be8fa527b6ed7",
       "value": ""
      }
     },
     "1862f67213564ce29d717db8afd69efd": {
      "model_module": "@jupyter-widgets/base",
      "model_module_version": "1.2.0",
      "model_name": "LayoutModel",
      "state": {
       "_model_module": "@jupyter-widgets/base",
       "_model_module_version": "1.2.0",
       "_model_name": "LayoutModel",
       "_view_count": null,
       "_view_module": "@jupyter-widgets/base",
       "_view_module_version": "1.2.0",
       "_view_name": "LayoutView",
       "align_content": null,
       "align_items": null,
       "align_self": null,
       "border": null,
       "bottom": null,
       "display": null,
       "flex": null,
       "flex_flow": null,
       "grid_area": null,
       "grid_auto_columns": null,
       "grid_auto_flow": null,
       "grid_auto_rows": null,
       "grid_column": null,
       "grid_gap": null,
       "grid_row": null,
       "grid_template_areas": null,
       "grid_template_columns": null,
       "grid_template_rows": null,
       "height": null,
       "justify_content": null,
       "justify_items": null,
       "left": null,
       "margin": null,
       "max_height": null,
       "max_width": null,
       "min_height": null,
       "min_width": null,
       "object_fit": null,
       "object_position": null,
       "order": null,
       "overflow": null,
       "overflow_x": null,
       "overflow_y": null,
       "padding": null,
       "right": null,
       "top": null,
       "visibility": null,
       "width": null
      }
     },
     "1cd294326f4c4502a409edc06965d9d8": {
      "model_module": "@jupyter-widgets/base",
      "model_module_version": "1.2.0",
      "model_name": "LayoutModel",
      "state": {
       "_model_module": "@jupyter-widgets/base",
       "_model_module_version": "1.2.0",
       "_model_name": "LayoutModel",
       "_view_count": null,
       "_view_module": "@jupyter-widgets/base",
       "_view_module_version": "1.2.0",
       "_view_name": "LayoutView",
       "align_content": null,
       "align_items": null,
       "align_self": null,
       "border": null,
       "bottom": null,
       "display": null,
       "flex": null,
       "flex_flow": null,
       "grid_area": null,
       "grid_auto_columns": null,
       "grid_auto_flow": null,
       "grid_auto_rows": null,
       "grid_column": null,
       "grid_gap": null,
       "grid_row": null,
       "grid_template_areas": null,
       "grid_template_columns": null,
       "grid_template_rows": null,
       "height": "16em",
       "justify_content": null,
       "justify_items": null,
       "left": null,
       "margin": null,
       "max_height": null,
       "max_width": null,
       "min_height": null,
       "min_width": null,
       "object_fit": null,
       "object_position": null,
       "order": null,
       "overflow": null,
       "overflow_x": null,
       "overflow_y": "auto",
       "padding": null,
       "right": null,
       "top": null,
       "visibility": null,
       "width": "100%"
      }
     },
     "1d20bcff0b2c45d8999dd959e5b6bb81": {
      "model_module": "@jupyter-widgets/controls",
      "model_module_version": "1.5.0",
      "model_name": "HTMLModel",
      "state": {
       "_dom_classes": [],
       "_model_module": "@jupyter-widgets/controls",
       "_model_module_version": "1.5.0",
       "_model_name": "HTMLModel",
       "_view_count": null,
       "_view_module": "@jupyter-widgets/controls",
       "_view_module_version": "1.5.0",
       "_view_name": "HTMLView",
       "description": "",
       "description_tooltip": null,
       "layout": "IPY_MODEL_d70e4b2b775442dca71f0dad21f2ce3a",
       "placeholder": "​",
       "style": "IPY_MODEL_deb74aee1a3c458394aaf604dc1666e6",
       "value": ""
      }
     },
     "1f979513bdc04490a7debf4907173206": {
      "model_module": "@jupyter-widgets/base",
      "model_module_version": "1.2.0",
      "model_name": "LayoutModel",
      "state": {
       "_model_module": "@jupyter-widgets/base",
       "_model_module_version": "1.2.0",
       "_model_name": "LayoutModel",
       "_view_count": null,
       "_view_module": "@jupyter-widgets/base",
       "_view_module_version": "1.2.0",
       "_view_name": "LayoutView",
       "align_content": null,
       "align_items": null,
       "align_self": null,
       "border": null,
       "bottom": null,
       "display": null,
       "flex": null,
       "flex_flow": null,
       "grid_area": null,
       "grid_auto_columns": null,
       "grid_auto_flow": null,
       "grid_auto_rows": null,
       "grid_column": null,
       "grid_gap": null,
       "grid_row": null,
       "grid_template_areas": null,
       "grid_template_columns": null,
       "grid_template_rows": null,
       "height": null,
       "justify_content": null,
       "justify_items": null,
       "left": null,
       "margin": null,
       "max_height": null,
       "max_width": null,
       "min_height": null,
       "min_width": null,
       "object_fit": null,
       "object_position": null,
       "order": null,
       "overflow": null,
       "overflow_x": null,
       "overflow_y": null,
       "padding": null,
       "right": null,
       "top": null,
       "visibility": null,
       "width": null
      }
     },
     "2ef8cbc83d3947e89154b016b8f54900": {
      "buffers": [
       {
        "data": "AAAAAAAAAAAAAAAAAACAPwAAgD8AAIA/AAAAQAAAAEAAAABAAABAQAAAQEAAAEBAAACAQAAAgEAAAIBAAACgQAAAoEAAAKBAAADAQAAAwEAAAMBAAADgQAAA4EAAAOBAAAAAQQAAAEEAAABBAAAQQQAAEEEAABBBAAAgQQAAIEEAACBBAAAwQQAAMEEAADBBAABAQQAAQEEAAEBBAABQQQAAUEEAAFBBAABgQQAAYEEAAGBBAABwQQAAcEEAAHBB",
        "encoding": "base64",
        "path": [
         "attribute",
         "buffer"
        ]
       },
       {
        "data": "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",
        "encoding": "base64",
        "path": [
         "color_map",
         "buffer"
        ]
       },
       {
        "data": "AAAAAAEAAAACAAAAAwAAAAQAAAAFAAAABgAAAAcAAAAIAAAACQAAAAoAAAALAAAADAAAAA0AAAAOAAAADwAAABAAAAARAAAAEgAAABMAAAAUAAAAFQAAABYAAAAXAAAAGAAAABkAAAAaAAAAGwAAABwAAAAdAAAAHgAAAB8AAAAgAAAAIQAAACIAAAAjAAAAJAAAACUAAAAmAAAAJwAAACgAAAApAAAAKgAAACsAAAAsAAAALQAAAC4AAAAvAAAA",
        "encoding": "base64",
        "path": [
         "indices",
         "buffer"
        ]
       },
       {
        "data": "AACAPwAAAAAAAAAAAAAAAAAAAAAAAIA/AAAAAAAAAAAAAAAAAAAAAAAAgD8AAAAAAAAAAAAAAAAAAAAAAACAPw==",
        "encoding": "base64",
        "path": [
         "model_matrix",
         "buffer"
        ]
       },
       {
        "data": "AAAAPwAAAD8AAAAAAAAAPwAAAAAAAAAAAACAPgAAgD4AAAAAAACAPgAAgD4AAAAAAAAAPwAAAAAAAAAAAAAAAAAAAAAAAAAAAAAAAAAAAAAAAAAAAAAAAAAAAD8AAAAAAACAPgAAgD4AAAAAAACAPgAAgD4AAAAAAAAAAAAAAD8AAAAAAAAAPwAAAD8AAAAAAACAPwAAAD8AAAAAAACAPwAAAAAAAAAAAABAPwAAgD4AAAAAAABAPwAAgD4AAAAAAACAPwAAAAAAAAAAAAAAPwAAAAAAAAAAAAAAPwAAAAAAAAAAAAAAPwAAAD8AAAAAAABAPwAAgD4AAAAAAABAPwAAgD4AAAAAAAAAPwAAAD8AAAAAAACAPwAAAD8AAAAAAAAAAAAAAD8AAAAAAAAAAAAAgD8AAAAAAACAPgAAQD8AAAAAAACAPgAAQD8AAAAAAAAAAAAAgD8AAAAAAAAAPwAAgD8AAAAAAAAAPwAAgD8AAAAAAAAAPwAAAD8AAAAAAACAPgAAQD8AAAAAAACAPgAAQD8AAAAAAAAAPwAAAD8AAAAAAAAAAAAAAD8AAAAAAACAPwAAgD8AAAAAAACAPwAAAD8AAAAAAABAPwAAQD8AAAAAAABAPwAAQD8AAAAAAACAPwAAAD8AAAAAAAAAPwAAAD8AAAAAAAAAPwAAAD8AAAAAAAAAPwAAgD8AAAAAAABAPwAAQD8AAAAAAABAPwAAQD8AAAAAAAAAPwAAgD8AAAAAAACAPwAAgD8AAAAA",
        "encoding": "base64",
        "path": [
         "vertices",
         "buffer"
        ]
       }
      ],
      "model_module": "k3d",
      "model_module_version": "2.6.6",
      "model_name": "ObjectModel",
      "state": {
       "_model_module": "k3d",
       "_model_module_version": "2.6.6",
       "_model_name": "ObjectModel",
       "_view_count": null,
       "_view_module": null,
       "_view_module_version": "",
       "_view_name": null,
       "attribute": {
        "dtype": "float32",
        "shape": [
         48
        ]
       },
       "color": 255,
       "color_map": {
        "dtype": "float32",
        "shape": [
         256,
         4
        ]
       },
       "color_range": [
        0.0,
        15.0
       ],
       "compression_level": 0,
       "flat_shading": false,
       "id": 139651845743952,
       "indices": {
        "dtype": "uint32",
        "shape": [
         16,
         3
        ]
       },
       "model_matrix": {
        "dtype": "float32",
        "shape": [
         4,
         4
        ]
       },
       "name": null,
       "opacity": 1.0,
       "type": "Mesh",
       "vertices": {
        "dtype": "float32",
        "shape": [
         48,
         3
        ]
       },
       "visible": true,
       "wireframe": false
      }
     },
     "402f432931ee41abbc4a0f0c0d52ae77": {
      "model_module": "@jupyter-widgets/controls",
      "model_module_version": "1.5.0",
      "model_name": "AccordionModel",
      "state": {
       "_dom_classes": [],
       "_model_module": "@jupyter-widgets/controls",
       "_model_module_version": "1.5.0",
       "_model_name": "AccordionModel",
       "_titles": {
        "0": "Log Output"
       },
       "_view_count": null,
       "_view_module": "@jupyter-widgets/controls",
       "_view_module_version": "1.5.0",
       "_view_name": "AccordionView",
       "box_style": "",
       "children": [
        "IPY_MODEL_a9d584caf48a4b348e6c47f48c118c59"
       ],
       "layout": "IPY_MODEL_f5b080f24a4e4043960ce6be34a62112",
       "selected_index": null
      }
     },
     "40478588d6064f619b5cebea06476b7a": {
      "model_module": "@jupyter-widgets/controls",
      "model_module_version": "1.5.0",
      "model_name": "HTMLModel",
      "state": {
       "_dom_classes": [],
       "_model_module": "@jupyter-widgets/controls",
       "_model_module_version": "1.5.0",
       "_model_name": "HTMLModel",
       "_view_count": null,
       "_view_module": "@jupyter-widgets/controls",
       "_view_module_version": "1.5.0",
       "_view_name": "HTMLView",
       "description": "",
       "description_tooltip": null,
       "layout": "IPY_MODEL_54f7437110e34359a0fe503e9b9cce49",
       "placeholder": "​",
       "style": "IPY_MODEL_ca7c915aeda14578a953395689cb5929",
       "value": ""
      }
     },
     "4a8fdf6d38ec4e05a8184ae9fa9ac617": {
      "model_module": "@jupyter-widgets/base",
      "model_module_version": "1.2.0",
      "model_name": "LayoutModel",
      "state": {
       "_model_module": "@jupyter-widgets/base",
       "_model_module_version": "1.2.0",
       "_model_name": "LayoutModel",
       "_view_count": null,
       "_view_module": "@jupyter-widgets/base",
       "_view_module_version": "1.2.0",
       "_view_name": "LayoutView",
       "align_content": null,
       "align_items": null,
       "align_self": null,
       "border": null,
       "bottom": null,
       "display": null,
       "flex": null,
       "flex_flow": null,
       "grid_area": null,
       "grid_auto_columns": null,
       "grid_auto_flow": null,
       "grid_auto_rows": null,
       "grid_column": null,
       "grid_gap": null,
       "grid_row": null,
       "grid_template_areas": null,
       "grid_template_columns": null,
       "grid_template_rows": null,
       "height": null,
       "justify_content": null,
       "justify_items": null,
       "left": null,
       "margin": null,
       "max_height": null,
       "max_width": null,
       "min_height": null,
       "min_width": null,
       "object_fit": null,
       "object_position": null,
       "order": null,
       "overflow": null,
       "overflow_x": null,
       "overflow_y": null,
       "padding": null,
       "right": null,
       "top": null,
       "visibility": null,
       "width": null
      }
     },
     "4b5322d808204f779cfecfc19653b48a": {
      "model_module": "k3d",
      "model_module_version": "2.6.6",
      "model_name": "PlotModel",
      "state": {
       "_backend_version": "2.6.6",
       "_dom_classes": [],
       "_model_module": "k3d",
       "_model_module_version": "2.6.6",
       "_model_name": "PlotModel",
       "_view_count": null,
       "_view_module": "k3d",
       "_view_module_version": "2.6.6",
       "_view_name": "PlotView",
       "antialias": 3,
       "axes": [
        "x",
        "y",
        "z"
       ],
       "background_color": 16777215,
       "camera": [
        0.5,
        0.5,
        0.8660254037844387,
        0.5,
        0.5,
        0.0,
        0,
        1,
        0
       ],
       "camera_auto_fit": false,
       "camera_no_pan": true,
       "camera_no_rotate": true,
       "camera_no_zoom": true,
       "clipping_planes": [],
       "colorbar_object_id": -1,
       "fps_meter": false,
       "grid": [
        0.0,
        0.0,
        0.0,
        1.0,
        1.0,
        0.0
       ],
       "grid_auto_fit": false,
       "grid_visible": false,
       "height": 512,
       "layout": "IPY_MODEL_1862f67213564ce29d717db8afd69efd",
       "lighting": 1.0,
       "menu_visibility": false,
       "object_ids": [
        139651845743952
       ],
       "rendering_steps": 1,
       "screenshot": "",
       "screenshot_scale": 2.0,
       "time": 0.0,
       "voxel_paint_color": 0
      }
     },
     "54f7437110e34359a0fe503e9b9cce49": {
      "model_module": "@jupyter-widgets/base",
      "model_module_version": "1.2.0",
      "model_name": "LayoutModel",
      "state": {
       "_model_module": "@jupyter-widgets/base",
       "_model_module_version": "1.2.0",
       "_model_name": "LayoutModel",
       "_view_count": null,
       "_view_module": "@jupyter-widgets/base",
       "_view_module_version": "1.2.0",
       "_view_name": "LayoutView",
       "align_content": null,
       "align_items": null,
       "align_self": null,
       "border": null,
       "bottom": null,
       "display": null,
       "flex": null,
       "flex_flow": null,
       "grid_area": null,
       "grid_auto_columns": null,
       "grid_auto_flow": null,
       "grid_auto_rows": null,
       "grid_column": null,
       "grid_gap": null,
       "grid_row": null,
       "grid_template_areas": null,
       "grid_template_columns": null,
       "grid_template_rows": null,
       "height": "16em",
       "justify_content": null,
       "justify_items": null,
       "left": null,
       "margin": null,
       "max_height": null,
       "max_width": null,
       "min_height": null,
       "min_width": null,
       "object_fit": null,
       "object_position": null,
       "order": null,
       "overflow": null,
       "overflow_x": null,
       "overflow_y": "auto",
       "padding": null,
       "right": null,
       "top": null,
       "visibility": null,
       "width": "100%"
      }
     },
     "67c73ba21e064f428604fb5c8de24577": {
      "model_module": "@jupyter-widgets/base",
      "model_module_version": "1.2.0",
      "model_name": "LayoutModel",
      "state": {
       "_model_module": "@jupyter-widgets/base",
       "_model_module_version": "1.2.0",
       "_model_name": "LayoutModel",
       "_view_count": null,
       "_view_module": "@jupyter-widgets/base",
       "_view_module_version": "1.2.0",
       "_view_name": "LayoutView",
       "align_content": null,
       "align_items": null,
       "align_self": null,
       "border": null,
       "bottom": null,
       "display": null,
       "flex": null,
       "flex_flow": null,
       "grid_area": null,
       "grid_auto_columns": null,
       "grid_auto_flow": null,
       "grid_auto_rows": null,
       "grid_column": null,
       "grid_gap": null,
       "grid_row": null,
       "grid_template_areas": null,
       "grid_template_columns": null,
       "grid_template_rows": null,
       "height": null,
       "justify_content": null,
       "justify_items": null,
       "left": null,
       "margin": null,
       "max_height": null,
       "max_width": null,
       "min_height": null,
       "min_width": null,
       "object_fit": null,
       "object_position": null,
       "order": null,
       "overflow": null,
       "overflow_x": null,
       "overflow_y": null,
       "padding": null,
       "right": null,
       "top": null,
       "visibility": null,
       "width": null
      }
     },
     "67ee0c77471547b5b05efac8e3d2bde9": {
      "model_module": "@jupyter-widgets/base",
      "model_module_version": "1.2.0",
      "model_name": "LayoutModel",
      "state": {
       "_model_module": "@jupyter-widgets/base",
       "_model_module_version": "1.2.0",
       "_model_name": "LayoutModel",
       "_view_count": null,
       "_view_module": "@jupyter-widgets/base",
       "_view_module_version": "1.2.0",
       "_view_name": "LayoutView",
       "align_content": null,
       "align_items": null,
       "align_self": null,
       "border": null,
       "bottom": null,
       "display": null,
       "flex": null,
       "flex_flow": null,
       "grid_area": null,
       "grid_auto_columns": null,
       "grid_auto_flow": null,
       "grid_auto_rows": null,
       "grid_column": null,
       "grid_gap": null,
       "grid_row": null,
       "grid_template_areas": null,
       "grid_template_columns": null,
       "grid_template_rows": null,
       "height": null,
       "justify_content": null,
       "justify_items": null,
       "left": null,
       "margin": null,
       "max_height": null,
       "max_width": null,
       "min_height": null,
       "min_width": null,
       "object_fit": null,
       "object_position": null,
       "order": null,
       "overflow": null,
       "overflow_x": null,
       "overflow_y": null,
       "padding": null,
       "right": null,
       "top": null,
       "visibility": null,
       "width": null
      }
     },
     "68882a888f6d4d00b7054a7f4241f266": {
      "model_module": "@jupyter-widgets/controls",
      "model_module_version": "1.5.0",
      "model_name": "AccordionModel",
      "state": {
       "_dom_classes": [],
       "_model_module": "@jupyter-widgets/controls",
       "_model_module_version": "1.5.0",
       "_model_name": "AccordionModel",
       "_titles": {
        "0": "Log Output"
       },
       "_view_count": null,
       "_view_module": "@jupyter-widgets/controls",
       "_view_module_version": "1.5.0",
       "_view_name": "AccordionView",
       "box_style": "",
       "children": [
        "IPY_MODEL_0f66730ab65f475ea0297ae6d854bdcb"
       ],
       "layout": "IPY_MODEL_e3868e8204754ffb8b2f9ca1dfea56ca",
       "selected_index": null
      }
     },
     "7341acfc05204380af6be8fa527b6ed7": {
      "model_module": "@jupyter-widgets/controls",
      "model_module_version": "1.5.0",
      "model_name": "DescriptionStyleModel",
      "state": {
       "_model_module": "@jupyter-widgets/controls",
       "_model_module_version": "1.5.0",
       "_model_name": "DescriptionStyleModel",
       "_view_count": null,
       "_view_module": "@jupyter-widgets/base",
       "_view_module_version": "1.2.0",
       "_view_name": "StyleView",
       "description_width": ""
      }
     },
     "7e91f878c0864a739eccecce2dba58a2": {
      "model_module": "@jupyter-widgets/controls",
      "model_module_version": "1.5.0",
      "model_name": "AccordionModel",
      "state": {
       "_dom_classes": [],
       "_model_module": "@jupyter-widgets/controls",
       "_model_module_version": "1.5.0",
       "_model_name": "AccordionModel",
       "_titles": {
        "0": "Log Output"
       },
       "_view_count": null,
       "_view_module": "@jupyter-widgets/controls",
       "_view_module_version": "1.5.0",
       "_view_name": "AccordionView",
       "box_style": "",
       "children": [
        "IPY_MODEL_f065f7a8cc1244c4bb8e905fb1e11d50"
       ],
       "layout": "IPY_MODEL_67ee0c77471547b5b05efac8e3d2bde9",
       "selected_index": null
      }
     },
     "8897fe437fd84425996280a3cf111da8": {
      "model_module": "@jupyter-widgets/output",
      "model_module_version": "1.0.0",
      "model_name": "OutputModel",
      "state": {
       "_dom_classes": [],
       "_model_module": "@jupyter-widgets/output",
       "_model_module_version": "1.0.0",
       "_model_name": "OutputModel",
       "_view_count": null,
       "_view_module": "@jupyter-widgets/output",
       "_view_module_version": "1.0.0",
       "_view_name": "OutputView",
       "layout": "IPY_MODEL_9a400d86eedc4582b6200cc0d059b3b6",
       "msg_id": "",
       "outputs": [
        {
         "data": {
          "application/vnd.jupyter.widget-view+json": {
           "model_id": "b6734ee652c745dc972014ac272b4a23",
           "version_major": 2,
           "version_minor": 0
          },
          "text/plain": "VTKPlot(antialias=3, axes=['x', 'y', 'z'], background_color=16777215, camera=[4.5, 4.5, 4.5, 0.0, 0.0, 0.0, 1.…"
         },
         "metadata": {},
         "output_type": "display_data"
        }
       ]
      }
     },
     "8f1dc66c74614b4d8635450f203b8598": {
      "model_module": "@jupyter-widgets/controls",
      "model_module_version": "1.5.0",
      "model_name": "DescriptionStyleModel",
      "state": {
       "_model_module": "@jupyter-widgets/controls",
       "_model_module_version": "1.5.0",
       "_model_name": "DescriptionStyleModel",
       "_view_count": null,
       "_view_module": "@jupyter-widgets/base",
       "_view_module_version": "1.2.0",
       "_view_name": "StyleView",
       "description_width": ""
      }
     },
     "91ffd38260e648b59e155059a1ba3307": {
      "model_module": "@jupyter-widgets/controls",
      "model_module_version": "1.5.0",
      "model_name": "DescriptionStyleModel",
      "state": {
       "_model_module": "@jupyter-widgets/controls",
       "_model_module_version": "1.5.0",
       "_model_name": "DescriptionStyleModel",
       "_view_count": null,
       "_view_module": "@jupyter-widgets/base",
       "_view_module_version": "1.2.0",
       "_view_name": "StyleView",
       "description_width": ""
      }
     },
     "9a400d86eedc4582b6200cc0d059b3b6": {
      "model_module": "@jupyter-widgets/base",
      "model_module_version": "1.2.0",
      "model_name": "LayoutModel",
      "state": {
       "_model_module": "@jupyter-widgets/base",
       "_model_module_version": "1.2.0",
       "_model_name": "LayoutModel",
       "_view_count": null,
       "_view_module": "@jupyter-widgets/base",
       "_view_module_version": "1.2.0",
       "_view_name": "LayoutView",
       "align_content": null,
       "align_items": null,
       "align_self": null,
       "border": null,
       "bottom": null,
       "display": null,
       "flex": null,
       "flex_flow": null,
       "grid_area": null,
       "grid_auto_columns": null,
       "grid_auto_flow": null,
       "grid_auto_rows": null,
       "grid_column": null,
       "grid_gap": null,
       "grid_row": null,
       "grid_template_areas": null,
       "grid_template_columns": null,
       "grid_template_rows": null,
       "height": null,
       "justify_content": null,
       "justify_items": null,
       "left": null,
       "margin": null,
       "max_height": null,
       "max_width": null,
       "min_height": null,
       "min_width": null,
       "object_fit": null,
       "object_position": null,
       "order": null,
       "overflow": null,
       "overflow_x": null,
       "overflow_y": null,
       "padding": null,
       "right": null,
       "top": null,
       "visibility": null,
       "width": null
      }
     },
     "a9d584caf48a4b348e6c47f48c118c59": {
      "model_module": "@jupyter-widgets/controls",
      "model_module_version": "1.5.0",
      "model_name": "HTMLModel",
      "state": {
       "_dom_classes": [],
       "_model_module": "@jupyter-widgets/controls",
       "_model_module_version": "1.5.0",
       "_model_name": "HTMLModel",
       "_view_count": null,
       "_view_module": "@jupyter-widgets/controls",
       "_view_module_version": "1.5.0",
       "_view_name": "HTMLView",
       "description": "",
       "description_tooltip": null,
       "layout": "IPY_MODEL_e1701923981a4013bc94730f85f79594",
       "placeholder": "​",
       "style": "IPY_MODEL_087b7890acfb487aa289a45ca650cfd1",
       "value": ""
      }
     },
     "b6734ee652c745dc972014ac272b4a23": {
      "model_module": "k3d",
      "model_module_version": "2.6.6",
      "model_name": "PlotModel",
      "state": {
       "_backend_version": "2.6.6",
       "_dom_classes": [],
       "_model_module": "k3d",
       "_model_module_version": "2.6.6",
       "_model_name": "PlotModel",
       "_view_count": null,
       "_view_module": "k3d",
       "_view_module_version": "2.6.6",
       "_view_name": "PlotView",
       "antialias": 3,
       "axes": [
        "x",
        "y",
        "z"
       ],
       "background_color": 16777215,
       "camera": [
        0.5,
        0.5,
        0.8660254037844387,
        0.5,
        0.5,
        0.0,
        0,
        1,
        0
       ],
       "camera_auto_fit": false,
       "camera_no_pan": true,
       "camera_no_rotate": true,
       "camera_no_zoom": true,
       "clipping_planes": [],
       "colorbar_object_id": -1,
       "fps_meter": false,
       "grid": [
        0.0,
        0.0,
        0.0,
        1.0,
        1.0,
        0.0
       ],
       "grid_auto_fit": false,
       "grid_visible": false,
       "height": 512,
       "layout": "IPY_MODEL_67c73ba21e064f428604fb5c8de24577",
       "lighting": 1.0,
       "menu_visibility": false,
       "object_ids": [
        139651101980560
       ],
       "rendering_steps": 1,
       "screenshot": "",
       "screenshot_scale": 2.0,
       "time": 0.0,
       "voxel_paint_color": 0
      }
     },
     "ca7c915aeda14578a953395689cb5929": {
      "model_module": "@jupyter-widgets/controls",
      "model_module_version": "1.5.0",
      "model_name": "DescriptionStyleModel",
      "state": {
       "_model_module": "@jupyter-widgets/controls",
       "_model_module_version": "1.5.0",
       "_model_name": "DescriptionStyleModel",
       "_view_count": null,
       "_view_module": "@jupyter-widgets/base",
       "_view_module_version": "1.2.0",
       "_view_name": "StyleView",
       "description_width": ""
      }
     },
     "cab355b2e2da433f9ddbe38d2f027284": {
      "model_module": "@jupyter-widgets/base",
      "model_module_version": "1.2.0",
      "model_name": "LayoutModel",
      "state": {
       "_model_module": "@jupyter-widgets/base",
       "_model_module_version": "1.2.0",
       "_model_name": "LayoutModel",
       "_view_count": null,
       "_view_module": "@jupyter-widgets/base",
       "_view_module_version": "1.2.0",
       "_view_name": "LayoutView",
       "align_content": null,
       "align_items": null,
       "align_self": null,
       "border": null,
       "bottom": null,
       "display": null,
       "flex": null,
       "flex_flow": null,
       "grid_area": null,
       "grid_auto_columns": null,
       "grid_auto_flow": null,
       "grid_auto_rows": null,
       "grid_column": null,
       "grid_gap": null,
       "grid_row": null,
       "grid_template_areas": null,
       "grid_template_columns": null,
       "grid_template_rows": null,
       "height": null,
       "justify_content": null,
       "justify_items": null,
       "left": null,
       "margin": null,
       "max_height": null,
       "max_width": null,
       "min_height": null,
       "min_width": null,
       "object_fit": null,
       "object_position": null,
       "order": null,
       "overflow": null,
       "overflow_x": null,
       "overflow_y": null,
       "padding": null,
       "right": null,
       "top": null,
       "visibility": null,
       "width": null
      }
     },
     "d46c1e3c944040a797942485a2cecda8": {
      "model_module": "@jupyter-widgets/base",
      "model_module_version": "1.2.0",
      "model_name": "LayoutModel",
      "state": {
       "_model_module": "@jupyter-widgets/base",
       "_model_module_version": "1.2.0",
       "_model_name": "LayoutModel",
       "_view_count": null,
       "_view_module": "@jupyter-widgets/base",
       "_view_module_version": "1.2.0",
       "_view_name": "LayoutView",
       "align_content": null,
       "align_items": null,
       "align_self": null,
       "border": null,
       "bottom": null,
       "display": null,
       "flex": null,
       "flex_flow": null,
       "grid_area": null,
       "grid_auto_columns": null,
       "grid_auto_flow": null,
       "grid_auto_rows": null,
       "grid_column": null,
       "grid_gap": null,
       "grid_row": null,
       "grid_template_areas": null,
       "grid_template_columns": null,
       "grid_template_rows": null,
       "height": null,
       "justify_content": null,
       "justify_items": null,
       "left": null,
       "margin": null,
       "max_height": null,
       "max_width": null,
       "min_height": null,
       "min_width": null,
       "object_fit": null,
       "object_position": null,
       "order": null,
       "overflow": null,
       "overflow_x": null,
       "overflow_y": null,
       "padding": null,
       "right": null,
       "top": null,
       "visibility": null,
       "width": null
      }
     },
     "d70e4b2b775442dca71f0dad21f2ce3a": {
      "model_module": "@jupyter-widgets/base",
      "model_module_version": "1.2.0",
      "model_name": "LayoutModel",
      "state": {
       "_model_module": "@jupyter-widgets/base",
       "_model_module_version": "1.2.0",
       "_model_name": "LayoutModel",
       "_view_count": null,
       "_view_module": "@jupyter-widgets/base",
       "_view_module_version": "1.2.0",
       "_view_name": "LayoutView",
       "align_content": null,
       "align_items": null,
       "align_self": null,
       "border": null,
       "bottom": null,
       "display": null,
       "flex": null,
       "flex_flow": null,
       "grid_area": null,
       "grid_auto_columns": null,
       "grid_auto_flow": null,
       "grid_auto_rows": null,
       "grid_column": null,
       "grid_gap": null,
       "grid_row": null,
       "grid_template_areas": null,
       "grid_template_columns": null,
       "grid_template_rows": null,
       "height": "16em",
       "justify_content": null,
       "justify_items": null,
       "left": null,
       "margin": null,
       "max_height": null,
       "max_width": null,
       "min_height": null,
       "min_width": null,
       "object_fit": null,
       "object_position": null,
       "order": null,
       "overflow": null,
       "overflow_x": null,
       "overflow_y": "auto",
       "padding": null,
       "right": null,
       "top": null,
       "visibility": null,
       "width": "100%"
      }
     },
     "deb74aee1a3c458394aaf604dc1666e6": {
      "model_module": "@jupyter-widgets/controls",
      "model_module_version": "1.5.0",
      "model_name": "DescriptionStyleModel",
      "state": {
       "_model_module": "@jupyter-widgets/controls",
       "_model_module_version": "1.5.0",
       "_model_name": "DescriptionStyleModel",
       "_view_count": null,
       "_view_module": "@jupyter-widgets/base",
       "_view_module_version": "1.2.0",
       "_view_name": "StyleView",
       "description_width": ""
      }
     },
     "e1701923981a4013bc94730f85f79594": {
      "model_module": "@jupyter-widgets/base",
      "model_module_version": "1.2.0",
      "model_name": "LayoutModel",
      "state": {
       "_model_module": "@jupyter-widgets/base",
       "_model_module_version": "1.2.0",
       "_model_name": "LayoutModel",
       "_view_count": null,
       "_view_module": "@jupyter-widgets/base",
       "_view_module_version": "1.2.0",
       "_view_name": "LayoutView",
       "align_content": null,
       "align_items": null,
       "align_self": null,
       "border": null,
       "bottom": null,
       "display": null,
       "flex": null,
       "flex_flow": null,
       "grid_area": null,
       "grid_auto_columns": null,
       "grid_auto_flow": null,
       "grid_auto_rows": null,
       "grid_column": null,
       "grid_gap": null,
       "grid_row": null,
       "grid_template_areas": null,
       "grid_template_columns": null,
       "grid_template_rows": null,
       "height": "16em",
       "justify_content": null,
       "justify_items": null,
       "left": null,
       "margin": null,
       "max_height": null,
       "max_width": null,
       "min_height": null,
       "min_width": null,
       "object_fit": null,
       "object_position": null,
       "order": null,
       "overflow": null,
       "overflow_x": null,
       "overflow_y": "auto",
       "padding": null,
       "right": null,
       "top": null,
       "visibility": null,
       "width": "100%"
      }
     },
     "e3868e8204754ffb8b2f9ca1dfea56ca": {
      "model_module": "@jupyter-widgets/base",
      "model_module_version": "1.2.0",
      "model_name": "LayoutModel",
      "state": {
       "_model_module": "@jupyter-widgets/base",
       "_model_module_version": "1.2.0",
       "_model_name": "LayoutModel",
       "_view_count": null,
       "_view_module": "@jupyter-widgets/base",
       "_view_module_version": "1.2.0",
       "_view_name": "LayoutView",
       "align_content": null,
       "align_items": null,
       "align_self": null,
       "border": null,
       "bottom": null,
       "display": null,
       "flex": null,
       "flex_flow": null,
       "grid_area": null,
       "grid_auto_columns": null,
       "grid_auto_flow": null,
       "grid_auto_rows": null,
       "grid_column": null,
       "grid_gap": null,
       "grid_row": null,
       "grid_template_areas": null,
       "grid_template_columns": null,
       "grid_template_rows": null,
       "height": null,
       "justify_content": null,
       "justify_items": null,
       "left": null,
       "margin": null,
       "max_height": null,
       "max_width": null,
       "min_height": null,
       "min_width": null,
       "object_fit": null,
       "object_position": null,
       "order": null,
       "overflow": null,
       "overflow_x": null,
       "overflow_y": null,
       "padding": null,
       "right": null,
       "top": null,
       "visibility": null,
       "width": null
      }
     },
     "e4a71c1dc5df4855b888109b30a086d9": {
      "model_module": "@jupyter-widgets/output",
      "model_module_version": "1.0.0",
      "model_name": "OutputModel",
      "state": {
       "_dom_classes": [],
       "_model_module": "@jupyter-widgets/output",
       "_model_module_version": "1.0.0",
       "_model_name": "OutputModel",
       "_view_count": null,
       "_view_module": "@jupyter-widgets/output",
       "_view_module_version": "1.0.0",
       "_view_name": "OutputView",
       "layout": "IPY_MODEL_d46c1e3c944040a797942485a2cecda8",
       "msg_id": "",
       "outputs": [
        {
         "data": {
          "application/vnd.jupyter.widget-view+json": {
           "model_id": "4b5322d808204f779cfecfc19653b48a",
           "version_major": 2,
           "version_minor": 0
          },
          "text/plain": "VTKPlot(antialias=3, axes=['x', 'y', 'z'], background_color=16777215, camera=[4.5, 4.5, 4.5, 0.0, 0.0, 0.0, 1.…"
         },
         "metadata": {},
         "output_type": "display_data"
        }
       ]
      }
     },
     "ed5709904e3c4836b445793d483e2349": {
      "model_module": "@jupyter-widgets/base",
      "model_module_version": "1.2.0",
      "model_name": "LayoutModel",
      "state": {
       "_model_module": "@jupyter-widgets/base",
       "_model_module_version": "1.2.0",
       "_model_name": "LayoutModel",
       "_view_count": null,
       "_view_module": "@jupyter-widgets/base",
       "_view_module_version": "1.2.0",
       "_view_name": "LayoutView",
       "align_content": null,
       "align_items": null,
       "align_self": null,
       "border": null,
       "bottom": null,
       "display": null,
       "flex": null,
       "flex_flow": null,
       "grid_area": null,
       "grid_auto_columns": null,
       "grid_auto_flow": null,
       "grid_auto_rows": null,
       "grid_column": null,
       "grid_gap": null,
       "grid_row": null,
       "grid_template_areas": null,
       "grid_template_columns": null,
       "grid_template_rows": null,
       "height": "16em",
       "justify_content": null,
       "justify_items": null,
       "left": null,
       "margin": null,
       "max_height": null,
       "max_width": null,
       "min_height": null,
       "min_width": null,
       "object_fit": null,
       "object_position": null,
       "order": null,
       "overflow": null,
       "overflow_x": null,
       "overflow_y": "auto",
       "padding": null,
       "right": null,
       "top": null,
       "visibility": null,
       "width": "100%"
      }
     },
     "f065f7a8cc1244c4bb8e905fb1e11d50": {
      "model_module": "@jupyter-widgets/controls",
      "model_module_version": "1.5.0",
      "model_name": "HTMLModel",
      "state": {
       "_dom_classes": [],
       "_model_module": "@jupyter-widgets/controls",
       "_model_module_version": "1.5.0",
       "_model_name": "HTMLModel",
       "_view_count": null,
       "_view_module": "@jupyter-widgets/controls",
       "_view_module_version": "1.5.0",
       "_view_name": "HTMLView",
       "description": "",
       "description_tooltip": null,
       "layout": "IPY_MODEL_f71557b1ed8f4df79419063946d1e27d",
       "placeholder": "​",
       "style": "IPY_MODEL_8f1dc66c74614b4d8635450f203b8598",
       "value": ""
      }
     },
     "f5b080f24a4e4043960ce6be34a62112": {
      "model_module": "@jupyter-widgets/base",
      "model_module_version": "1.2.0",
      "model_name": "LayoutModel",
      "state": {
       "_model_module": "@jupyter-widgets/base",
       "_model_module_version": "1.2.0",
       "_model_name": "LayoutModel",
       "_view_count": null,
       "_view_module": "@jupyter-widgets/base",
       "_view_module_version": "1.2.0",
       "_view_name": "LayoutView",
       "align_content": null,
       "align_items": null,
       "align_self": null,
       "border": null,
       "bottom": null,
       "display": null,
       "flex": null,
       "flex_flow": null,
       "grid_area": null,
       "grid_auto_columns": null,
       "grid_auto_flow": null,
       "grid_auto_rows": null,
       "grid_column": null,
       "grid_gap": null,
       "grid_row": null,
       "grid_template_areas": null,
       "grid_template_columns": null,
       "grid_template_rows": null,
       "height": null,
       "justify_content": null,
       "justify_items": null,
       "left": null,
       "margin": null,
       "max_height": null,
       "max_width": null,
       "min_height": null,
       "min_width": null,
       "object_fit": null,
       "object_position": null,
       "order": null,
       "overflow": null,
       "overflow_x": null,
       "overflow_y": null,
       "padding": null,
       "right": null,
       "top": null,
       "visibility": null,
       "width": null
      }
     },
     "f71557b1ed8f4df79419063946d1e27d": {
      "model_module": "@jupyter-widgets/base",
      "model_module_version": "1.2.0",
      "model_name": "LayoutModel",
      "state": {
       "_model_module": "@jupyter-widgets/base",
       "_model_module_version": "1.2.0",
       "_model_name": "LayoutModel",
       "_view_count": null,
       "_view_module": "@jupyter-widgets/base",
       "_view_module_version": "1.2.0",
       "_view_name": "LayoutView",
       "align_content": null,
       "align_items": null,
       "align_self": null,
       "border": null,
       "bottom": null,
       "display": null,
       "flex": null,
       "flex_flow": null,
       "grid_area": null,
       "grid_auto_columns": null,
       "grid_auto_flow": null,
       "grid_auto_rows": null,
       "grid_column": null,
       "grid_gap": null,
       "grid_row": null,
       "grid_template_areas": null,
       "grid_template_columns": null,
       "grid_template_rows": null,
       "height": "16em",
       "justify_content": null,
       "justify_items": null,
       "left": null,
       "margin": null,
       "max_height": null,
       "max_width": null,
       "min_height": null,
       "min_width": null,
       "object_fit": null,
       "object_position": null,
       "order": null,
       "overflow": null,
       "overflow_x": null,
       "overflow_y": "auto",
       "padding": null,
       "right": null,
       "top": null,
       "visibility": null,
       "width": "100%"
      }
     },
     "fd70a2b2bdc54d10875483fac13e5de5": {
      "model_module": "@jupyter-widgets/controls",
      "model_module_version": "1.5.0",
      "model_name": "AccordionModel",
      "state": {
       "_dom_classes": [],
       "_model_module": "@jupyter-widgets/controls",
       "_model_module_version": "1.5.0",
       "_model_name": "AccordionModel",
       "_titles": {
        "0": "Log Output"
       },
       "_view_count": null,
       "_view_module": "@jupyter-widgets/controls",
       "_view_module_version": "1.5.0",
       "_view_name": "AccordionView",
       "box_style": "",
       "children": [
        "IPY_MODEL_40478588d6064f619b5cebea06476b7a"
       ],
       "layout": "IPY_MODEL_cab355b2e2da433f9ddbe38d2f027284",
       "selected_index": null
      }
     }
    },
    "version_major": 2,
    "version_minor": 0
   }
  }
 },
 "nbformat": 4,
 "nbformat_minor": 5
}